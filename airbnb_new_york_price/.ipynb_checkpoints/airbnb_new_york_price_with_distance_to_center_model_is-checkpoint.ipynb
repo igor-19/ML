{
 "cells": [
  {
   "cell_type": "code",
   "execution_count": 1,
   "metadata": {},
   "outputs": [],
   "source": [
    "import numpy as np\n",
    "import pandas as pd\n",
    "import matplotlib.pyplot as plt\n",
    "import warnings\n",
    "\n",
    "warnings.filterwarnings('ignore')\n",
    "%matplotlib inline"
   ]
  },
  {
   "cell_type": "code",
   "execution_count": 2,
   "metadata": {},
   "outputs": [],
   "source": [
    "ds = pd.read_csv('AB_NYC_2019.csv')"
   ]
  },
  {
   "cell_type": "code",
   "execution_count": 3,
   "metadata": {},
   "outputs": [],
   "source": [
    "columns = ['latitude', 'longitude', 'price', 'minimum_nights', 'number_of_reviews', \n",
    "           'calculated_host_listings_count', 'availability_365']"
   ]
  },
  {
   "cell_type": "code",
   "execution_count": 4,
   "metadata": {},
   "outputs": [],
   "source": [
    "neighbourhood_group = pd.get_dummies(ds.neighbourhood_group, drop_first=True, prefix='neigh_group')"
   ]
  },
  {
   "cell_type": "code",
   "execution_count": 5,
   "metadata": {},
   "outputs": [],
   "source": [
    "neighbourhood = pd.get_dummies(ds.neighbourhood, drop_first=True, prefix='neigh')"
   ]
  },
  {
   "cell_type": "code",
   "execution_count": 6,
   "metadata": {},
   "outputs": [],
   "source": [
    "room_type = pd.get_dummies(ds.room_type, drop_first=True, prefix='room')"
   ]
  },
  {
   "cell_type": "code",
   "execution_count": 7,
   "metadata": {},
   "outputs": [],
   "source": [
    "ds_dummies = pd.concat([ds[columns], neighbourhood_group, neighbourhood, room_type], axis=1)"
   ]
  },
  {
   "cell_type": "markdown",
   "metadata": {},
   "source": [
    "### search distance to center"
   ]
  },
  {
   "cell_type": "code",
   "execution_count": 8,
   "metadata": {},
   "outputs": [],
   "source": [
    "from sklearn.metrics.pairwise import euclidean_distances"
   ]
  },
  {
   "cell_type": "code",
   "execution_count": 9,
   "metadata": {},
   "outputs": [],
   "source": [
    "# center coordinates\n",
    "\n",
    "coordinate_center = [40.773659, -73.974890]"
   ]
  },
  {
   "cell_type": "code",
   "execution_count": 10,
   "metadata": {},
   "outputs": [],
   "source": [
    "coordinates = ds[['latitude', 'longitude']].values"
   ]
  },
  {
   "cell_type": "code",
   "execution_count": 11,
   "metadata": {},
   "outputs": [],
   "source": [
    "distace_to_center = euclidean_distances(coordinates, [coordinate_center])"
   ]
  },
  {
   "cell_type": "code",
   "execution_count": 12,
   "metadata": {},
   "outputs": [],
   "source": [
    "ds_dummies['dist_to_center'] = distace_to_center"
   ]
  },
  {
   "cell_type": "code",
   "execution_count": 13,
   "metadata": {},
   "outputs": [],
   "source": [
    "price = ds_dummies.price"
   ]
  },
  {
   "cell_type": "code",
   "execution_count": 14,
   "metadata": {},
   "outputs": [],
   "source": [
    "ds_dummies.price = np.log(price)"
   ]
  },
  {
   "cell_type": "code",
   "execution_count": 15,
   "metadata": {},
   "outputs": [],
   "source": [
    "ds_dummies = ds_dummies.drop(['latitude', 'longitude'], axis=1)"
   ]
  },
  {
   "cell_type": "markdown",
   "metadata": {},
   "source": [
    "### cut to min - max"
   ]
  },
  {
   "cell_type": "code",
   "execution_count": 16,
   "metadata": {},
   "outputs": [],
   "source": [
    "Q1 = ds_dummies.price.quantile(0.25)\n",
    "Q3 = ds_dummies.price.quantile(0.75)\n",
    "IQR = Q3 - Q1"
   ]
  },
  {
   "cell_type": "code",
   "execution_count": 17,
   "metadata": {},
   "outputs": [],
   "source": [
    "ds_dummies = ds_dummies[((ds_dummies.price > (Q1 - 1.5 * IQR)) & (ds_dummies.price < (Q3 + 1.5 * IQR)))]"
   ]
  },
  {
   "cell_type": "code",
   "execution_count": 18,
   "metadata": {},
   "outputs": [
    {
     "data": {
      "image/png": "[encoded data removed]",
      "text/plain": [
       "<Figure size 432x288 with 1 Axes>"
      ]
     },
     "metadata": {
      "needs_background": "light"
     },
     "output_type": "display_data"
    }
   ],
   "source": [
    "ds_dummies.price.hist(bins=20);"
   ]
  },
  {
   "cell_type": "markdown",
   "metadata": {},
   "source": [
    "### train test split"
   ]
  },
  {
   "cell_type": "code",
   "execution_count": 19,
   "metadata": {},
   "outputs": [],
   "source": [
    "from sklearn.model_selection import train_test_split"
   ]
  },
  {
   "cell_type": "code",
   "execution_count": 20,
   "metadata": {},
   "outputs": [],
   "source": [
    "X_train, X_test, y_train, y_test = train_test_split(ds_dummies.drop(['price'], axis=1), ds_dummies.price, \n",
    "                                                    test_size=0.3, random_state=42)"
   ]
  },
  {
   "cell_type": "markdown",
   "metadata": {},
   "source": [
    "### Scale"
   ]
  },
  {
   "cell_type": "code",
   "execution_count": 21,
   "metadata": {},
   "outputs": [],
   "source": [
    "from sklearn.preprocessing import StandardScaler"
   ]
  },
  {
   "cell_type": "code",
   "execution_count": 22,
   "metadata": {},
   "outputs": [],
   "source": [
    "scaler = StandardScaler()"
   ]
  },
  {
   "cell_type": "code",
   "execution_count": 23,
   "metadata": {},
   "outputs": [
    {
     "data": {
      "text/plain": [
       "Index(['minimum_nights', 'number_of_reviews', 'calculated_host_listings_count',\n",
       "       'availability_365', 'neigh_group_Brooklyn', 'neigh_group_Manhattan',\n",
       "       'neigh_group_Queens', 'neigh_group_Staten Island',\n",
       "       'neigh_Arden Heights', 'neigh_Arrochar',\n",
       "       ...\n",
       "       'neigh_Williamsburg', 'neigh_Willowbrook', 'neigh_Windsor Terrace',\n",
       "       'neigh_Woodhaven', 'neigh_Woodlawn', 'neigh_Woodrow', 'neigh_Woodside',\n",
       "       'room_Private room', 'room_Shared room', 'dist_to_center'],\n",
       "      dtype='object', length=231)"
      ]
     },
     "execution_count": 23,
     "metadata": {},
     "output_type": "execute_result"
    }
   ],
   "source": [
    "X_train.columns"
   ]
  },
  {
   "cell_type": "code",
   "execution_count": 24,
   "metadata": {},
   "outputs": [],
   "source": [
    "columns_to_scaled = ['minimum_nights', 'number_of_reviews', 'calculated_host_listings_count', \n",
    "                     'availability_365', 'dist_to_center']"
   ]
  },
  {
   "cell_type": "code",
   "execution_count": 25,
   "metadata": {},
   "outputs": [
    {
     "data": {
      "text/html": [
       "<div>\n",
       "<style scoped>\n",
       "    .dataframe tbody tr th:only-of-type {\n",
       "        vertical-align: middle;\n",
       "    }\n",
       "\n",
       "    .dataframe tbody tr th {\n",
       "        vertical-align: top;\n",
       "    }\n",
       "\n",
       "    .dataframe thead th {\n",
       "        text-align: right;\n",
       "    }\n",
       "</style>\n",
       "<table border=\"1\" class=\"dataframe\">\n",
       "  <thead>\n",
       "    <tr style=\"text-align: right;\">\n",
       "      <th></th>\n",
       "      <th>minimum_nights</th>\n",
       "      <th>number_of_reviews</th>\n",
       "      <th>calculated_host_listings_count</th>\n",
       "      <th>availability_365</th>\n",
       "      <th>neigh_group_Brooklyn</th>\n",
       "      <th>neigh_group_Manhattan</th>\n",
       "      <th>neigh_group_Queens</th>\n",
       "      <th>neigh_group_Staten Island</th>\n",
       "      <th>neigh_Arden Heights</th>\n",
       "      <th>neigh_Arrochar</th>\n",
       "      <th>...</th>\n",
       "      <th>neigh_Williamsburg</th>\n",
       "      <th>neigh_Willowbrook</th>\n",
       "      <th>neigh_Windsor Terrace</th>\n",
       "      <th>neigh_Woodhaven</th>\n",
       "      <th>neigh_Woodlawn</th>\n",
       "      <th>neigh_Woodrow</th>\n",
       "      <th>neigh_Woodside</th>\n",
       "      <th>room_Private room</th>\n",
       "      <th>room_Shared room</th>\n",
       "      <th>dist_to_center</th>\n",
       "    </tr>\n",
       "  </thead>\n",
       "  <tbody>\n",
       "    <tr>\n",
       "      <th>count</th>\n",
       "      <td>33780.000000</td>\n",
       "      <td>33780.000000</td>\n",
       "      <td>33780.000000</td>\n",
       "      <td>33780.000000</td>\n",
       "      <td>33780.000000</td>\n",
       "      <td>33780.000000</td>\n",
       "      <td>33780.000000</td>\n",
       "      <td>33780.000000</td>\n",
       "      <td>33780.000000</td>\n",
       "      <td>33780.000000</td>\n",
       "      <td>...</td>\n",
       "      <td>33780.000000</td>\n",
       "      <td>33780.0</td>\n",
       "      <td>33780.000000</td>\n",
       "      <td>33780.000000</td>\n",
       "      <td>33780.000000</td>\n",
       "      <td>33780.000000</td>\n",
       "      <td>33780.000000</td>\n",
       "      <td>33780.000000</td>\n",
       "      <td>33780.000000</td>\n",
       "      <td>33780.000000</td>\n",
       "    </tr>\n",
       "    <tr>\n",
       "      <th>mean</th>\n",
       "      <td>6.841622</td>\n",
       "      <td>23.299615</td>\n",
       "      <td>7.121758</td>\n",
       "      <td>111.813529</td>\n",
       "      <td>0.412285</td>\n",
       "      <td>0.439994</td>\n",
       "      <td>0.118206</td>\n",
       "      <td>0.007519</td>\n",
       "      <td>0.000089</td>\n",
       "      <td>0.000533</td>\n",
       "      <td>...</td>\n",
       "      <td>0.080403</td>\n",
       "      <td>0.0</td>\n",
       "      <td>0.003049</td>\n",
       "      <td>0.001717</td>\n",
       "      <td>0.000266</td>\n",
       "      <td>0.000030</td>\n",
       "      <td>0.004737</td>\n",
       "      <td>0.459621</td>\n",
       "      <td>0.024304</td>\n",
       "      <td>0.074824</td>\n",
       "    </tr>\n",
       "    <tr>\n",
       "      <th>std</th>\n",
       "      <td>19.593752</td>\n",
       "      <td>44.384363</td>\n",
       "      <td>32.846228</td>\n",
       "      <td>131.363475</td>\n",
       "      <td>0.492253</td>\n",
       "      <td>0.496394</td>\n",
       "      <td>0.322857</td>\n",
       "      <td>0.086388</td>\n",
       "      <td>0.009424</td>\n",
       "      <td>0.023078</td>\n",
       "      <td>...</td>\n",
       "      <td>0.271920</td>\n",
       "      <td>0.0</td>\n",
       "      <td>0.055136</td>\n",
       "      <td>0.041402</td>\n",
       "      <td>0.016321</td>\n",
       "      <td>0.005441</td>\n",
       "      <td>0.068660</td>\n",
       "      <td>0.498374</td>\n",
       "      <td>0.153995</td>\n",
       "      <td>0.045686</td>\n",
       "    </tr>\n",
       "    <tr>\n",
       "      <th>min</th>\n",
       "      <td>1.000000</td>\n",
       "      <td>0.000000</td>\n",
       "      <td>1.000000</td>\n",
       "      <td>0.000000</td>\n",
       "      <td>0.000000</td>\n",
       "      <td>0.000000</td>\n",
       "      <td>0.000000</td>\n",
       "      <td>0.000000</td>\n",
       "      <td>0.000000</td>\n",
       "      <td>0.000000</td>\n",
       "      <td>...</td>\n",
       "      <td>0.000000</td>\n",
       "      <td>0.0</td>\n",
       "      <td>0.000000</td>\n",
       "      <td>0.000000</td>\n",
       "      <td>0.000000</td>\n",
       "      <td>0.000000</td>\n",
       "      <td>0.000000</td>\n",
       "      <td>0.000000</td>\n",
       "      <td>0.000000</td>\n",
       "      <td>0.002618</td>\n",
       "    </tr>\n",
       "    <tr>\n",
       "      <th>25%</th>\n",
       "      <td>1.000000</td>\n",
       "      <td>1.000000</td>\n",
       "      <td>1.000000</td>\n",
       "      <td>0.000000</td>\n",
       "      <td>0.000000</td>\n",
       "      <td>0.000000</td>\n",
       "      <td>0.000000</td>\n",
       "      <td>0.000000</td>\n",
       "      <td>0.000000</td>\n",
       "      <td>0.000000</td>\n",
       "      <td>...</td>\n",
       "      <td>0.000000</td>\n",
       "      <td>0.0</td>\n",
       "      <td>0.000000</td>\n",
       "      <td>0.000000</td>\n",
       "      <td>0.000000</td>\n",
       "      <td>0.000000</td>\n",
       "      <td>0.000000</td>\n",
       "      <td>0.000000</td>\n",
       "      <td>0.000000</td>\n",
       "      <td>0.043286</td>\n",
       "    </tr>\n",
       "    <tr>\n",
       "      <th>50%</th>\n",
       "      <td>2.000000</td>\n",
       "      <td>5.000000</td>\n",
       "      <td>1.000000</td>\n",
       "      <td>43.000000</td>\n",
       "      <td>0.000000</td>\n",
       "      <td>0.000000</td>\n",
       "      <td>0.000000</td>\n",
       "      <td>0.000000</td>\n",
       "      <td>0.000000</td>\n",
       "      <td>0.000000</td>\n",
       "      <td>...</td>\n",
       "      <td>0.000000</td>\n",
       "      <td>0.0</td>\n",
       "      <td>0.000000</td>\n",
       "      <td>0.000000</td>\n",
       "      <td>0.000000</td>\n",
       "      <td>0.000000</td>\n",
       "      <td>0.000000</td>\n",
       "      <td>0.000000</td>\n",
       "      <td>0.000000</td>\n",
       "      <td>0.065266</td>\n",
       "    </tr>\n",
       "    <tr>\n",
       "      <th>75%</th>\n",
       "      <td>5.000000</td>\n",
       "      <td>24.000000</td>\n",
       "      <td>2.000000</td>\n",
       "      <td>224.000000</td>\n",
       "      <td>1.000000</td>\n",
       "      <td>1.000000</td>\n",
       "      <td>0.000000</td>\n",
       "      <td>0.000000</td>\n",
       "      <td>0.000000</td>\n",
       "      <td>0.000000</td>\n",
       "      <td>...</td>\n",
       "      <td>0.000000</td>\n",
       "      <td>0.0</td>\n",
       "      <td>0.000000</td>\n",
       "      <td>0.000000</td>\n",
       "      <td>0.000000</td>\n",
       "      <td>0.000000</td>\n",
       "      <td>0.000000</td>\n",
       "      <td>1.000000</td>\n",
       "      <td>0.000000</td>\n",
       "      <td>0.098414</td>\n",
       "    </tr>\n",
       "    <tr>\n",
       "      <th>max</th>\n",
       "      <td>1250.000000</td>\n",
       "      <td>629.000000</td>\n",
       "      <td>327.000000</td>\n",
       "      <td>365.000000</td>\n",
       "      <td>1.000000</td>\n",
       "      <td>1.000000</td>\n",
       "      <td>1.000000</td>\n",
       "      <td>1.000000</td>\n",
       "      <td>1.000000</td>\n",
       "      <td>1.000000</td>\n",
       "      <td>...</td>\n",
       "      <td>1.000000</td>\n",
       "      <td>0.0</td>\n",
       "      <td>1.000000</td>\n",
       "      <td>1.000000</td>\n",
       "      <td>1.000000</td>\n",
       "      <td>1.000000</td>\n",
       "      <td>1.000000</td>\n",
       "      <td>1.000000</td>\n",
       "      <td>1.000000</td>\n",
       "      <td>0.381751</td>\n",
       "    </tr>\n",
       "  </tbody>\n",
       "</table>\n",
       "<p>8 rows × 231 columns</p>\n",
       "</div>"
      ],
      "text/plain": [
       "       minimum_nights  number_of_reviews  calculated_host_listings_count  \\\n",
       "count    33780.000000       33780.000000                    33780.000000   \n",
       "mean         6.841622          23.299615                        7.121758   \n",
       "std         19.593752          44.384363                       32.846228   \n",
       "min          1.000000           0.000000                        1.000000   \n",
       "25%          1.000000           1.000000                        1.000000   \n",
       "50%          2.000000           5.000000                        1.000000   \n",
       "75%          5.000000          24.000000                        2.000000   \n",
       "max       1250.000000         629.000000                      327.000000   \n",
       "\n",
       "       availability_365  neigh_group_Brooklyn  neigh_group_Manhattan  \\\n",
       "count      33780.000000          33780.000000           33780.000000   \n",
       "mean         111.813529              0.412285               0.439994   \n",
       "std          131.363475              0.492253               0.496394   \n",
       "min            0.000000              0.000000               0.000000   \n",
       "25%            0.000000              0.000000               0.000000   \n",
       "50%           43.000000              0.000000               0.000000   \n",
       "75%          224.000000              1.000000               1.000000   \n",
       "max          365.000000              1.000000               1.000000   \n",
       "\n",
       "       neigh_group_Queens  neigh_group_Staten Island  neigh_Arden Heights  \\\n",
       "count        33780.000000               33780.000000         33780.000000   \n",
       "mean             0.118206                   0.007519             0.000089   \n",
       "std              0.322857                   0.086388             0.009424   \n",
       "min              0.000000                   0.000000             0.000000   \n",
       "25%              0.000000                   0.000000             0.000000   \n",
       "50%              0.000000                   0.000000             0.000000   \n",
       "75%              0.000000                   0.000000             0.000000   \n",
       "max              1.000000                   1.000000             1.000000   \n",
       "\n",
       "       neigh_Arrochar  ...  neigh_Williamsburg  neigh_Willowbrook  \\\n",
       "count    33780.000000  ...        33780.000000            33780.0   \n",
       "mean         0.000533  ...            0.080403                0.0   \n",
       "std          0.023078  ...            0.271920                0.0   \n",
       "min          0.000000  ...            0.000000                0.0   \n",
       "25%          0.000000  ...            0.000000                0.0   \n",
       "50%          0.000000  ...            0.000000                0.0   \n",
       "75%          0.000000  ...            0.000000                0.0   \n",
       "max          1.000000  ...            1.000000                0.0   \n",
       "\n",
       "       neigh_Windsor Terrace  neigh_Woodhaven  neigh_Woodlawn  neigh_Woodrow  \\\n",
       "count           33780.000000     33780.000000    33780.000000   33780.000000   \n",
       "mean                0.003049         0.001717        0.000266       0.000030   \n",
       "std                 0.055136         0.041402        0.016321       0.005441   \n",
       "min                 0.000000         0.000000        0.000000       0.000000   \n",
       "25%                 0.000000         0.000000        0.000000       0.000000   \n",
       "50%                 0.000000         0.000000        0.000000       0.000000   \n",
       "75%                 0.000000         0.000000        0.000000       0.000000   \n",
       "max                 1.000000         1.000000        1.000000       1.000000   \n",
       "\n",
       "       neigh_Woodside  room_Private room  room_Shared room  dist_to_center  \n",
       "count    33780.000000       33780.000000      33780.000000    33780.000000  \n",
       "mean         0.004737           0.459621          0.024304        0.074824  \n",
       "std          0.068660           0.498374          0.153995        0.045686  \n",
       "min          0.000000           0.000000          0.000000        0.002618  \n",
       "25%          0.000000           0.000000          0.000000        0.043286  \n",
       "50%          0.000000           0.000000          0.000000        0.065266  \n",
       "75%          0.000000           1.000000          0.000000        0.098414  \n",
       "max          1.000000           1.000000          1.000000        0.381751  \n",
       "\n",
       "[8 rows x 231 columns]"
      ]
     },
     "execution_count": 25,
     "metadata": {},
     "output_type": "execute_result"
    }
   ],
   "source": [
    "X_train.describe()"
   ]
  },
  {
   "cell_type": "code",
   "execution_count": 26,
   "metadata": {},
   "outputs": [
    {
     "data": {
      "text/plain": [
       "StandardScaler(copy=True, with_mean=True, with_std=True)"
      ]
     },
     "execution_count": 26,
     "metadata": {},
     "output_type": "execute_result"
    }
   ],
   "source": [
    "scaler.fit(X_train[columns_to_scaled])"
   ]
  },
  {
   "cell_type": "code",
   "execution_count": 27,
   "metadata": {},
   "outputs": [],
   "source": [
    "X_train[columns_to_scaled] = scaler.transform(X_train[columns_to_scaled])\n",
    "X_test[columns_to_scaled] = scaler.transform(X_test[columns_to_scaled])"
   ]
  },
  {
   "cell_type": "markdown",
   "metadata": {},
   "source": [
    "### metrics"
   ]
  },
  {
   "cell_type": "code",
   "execution_count": 28,
   "metadata": {},
   "outputs": [],
   "source": [
    "from sklearn import metrics"
   ]
  },
  {
   "cell_type": "code",
   "execution_count": 29,
   "metadata": {},
   "outputs": [],
   "source": [
    "def mape(y, y_predict):\n",
    "    y, y_predict = np.array(y), np.array(y_predict)\n",
    "    return np.mean(abs((y - y_predict) / y)) * 100"
   ]
  },
  {
   "cell_type": "code",
   "execution_count": 30,
   "metadata": {},
   "outputs": [],
   "source": [
    "def print_metrics(y, y_predict):\n",
    "    y = np.exp(y)\n",
    "    y_predict = np.exp(y_predict)\n",
    "    # y_predict = y_predict.replace(np.inf, max(y))\n",
    "    \n",
    "    print('MAE:  ', metrics.mean_absolute_error(y, y_predict))\n",
    "    print('RMSE: ', np.sqrt(metrics.mean_squared_error(y, y_predict)))\n",
    "    print('MAPE: ', mape(y, y_predict))"
   ]
  },
  {
   "cell_type": "markdown",
   "metadata": {},
   "source": [
    "### Models"
   ]
  },
  {
   "cell_type": "code",
   "execution_count": 31,
   "metadata": {},
   "outputs": [],
   "source": [
    "from sklearn.linear_model import LinearRegression, Lasso, ElasticNet, LarsCV\n",
    "from sklearn.model_selection import GridSearchCV"
   ]
  },
  {
   "cell_type": "code",
   "execution_count": 32,
   "metadata": {},
   "outputs": [],
   "source": [
    "model_LR = LinearRegression()"
   ]
  },
  {
   "cell_type": "code",
   "execution_count": 33,
   "metadata": {},
   "outputs": [
    {
     "data": {
      "text/plain": [
       "LinearRegression(copy_X=True, fit_intercept=True, n_jobs=None, normalize=False)"
      ]
     },
     "execution_count": 33,
     "metadata": {},
     "output_type": "execute_result"
    }
   ],
   "source": [
    "model_LR.fit(X_train, y_train)"
   ]
  },
  {
   "cell_type": "code",
   "execution_count": 34,
   "metadata": {},
   "outputs": [],
   "source": [
    "y_predict_LR = model_LR.predict(X_test)"
   ]
  },
  {
   "cell_type": "code",
   "execution_count": 35,
   "metadata": {},
   "outputs": [
    {
     "data": {
      "text/plain": [
       "((14478,), (14478,))"
      ]
     },
     "execution_count": 35,
     "metadata": {},
     "output_type": "execute_result"
    }
   ],
   "source": [
    "y_test.shape, y_predict_LR.shape"
   ]
  },
  {
   "cell_type": "code",
   "execution_count": 36,
   "metadata": {},
   "outputs": [
    {
     "name": "stdout",
     "output_type": "stream",
     "text": [
      "MAE:   44.89253700101144\n",
      "RMSE:  76.99310730548062\n",
      "MAPE:  32.442319975461245\n"
     ]
    }
   ],
   "source": [
    "print_metrics(y=y_test, y_predict=y_predict_LR)"
   ]
  },
  {
   "cell_type": "code",
   "execution_count": 37,
   "metadata": {},
   "outputs": [],
   "source": [
    "alphas = np.linspace(0.00001, 0.5, 20)\n",
    "params = {'alpha': alphas}"
   ]
  },
  {
   "cell_type": "code",
   "execution_count": 38,
   "metadata": {},
   "outputs": [],
   "source": [
    "model = ElasticNet()"
   ]
  },
  {
   "cell_type": "code",
   "execution_count": 39,
   "metadata": {},
   "outputs": [],
   "source": [
    "grid_cv = GridSearchCV(estimator=model, param_grid=params, cv=3)"
   ]
  },
  {
   "cell_type": "code",
   "execution_count": 40,
   "metadata": {},
   "outputs": [
    {
     "name": "stdout",
     "output_type": "stream",
     "text": [
      "CPU times: user 2min 21s, sys: 2.53 s, total: 2min 24s\n",
      "Wall time: 36.1 s\n"
     ]
    },
    {
     "data": {
      "text/plain": [
       "GridSearchCV(cv=3, error_score=nan,\n",
       "             estimator=ElasticNet(alpha=1.0, copy_X=True, fit_intercept=True,\n",
       "                                  l1_ratio=0.5, max_iter=1000, normalize=False,\n",
       "                                  positive=False, precompute=False,\n",
       "                                  random_state=None, selection='cyclic',\n",
       "                                  tol=0.0001, warm_start=False),\n",
       "             iid='deprecated', n_jobs=None,\n",
       "             param_grid={'alpha': array([1.00000000e-05, 2.63252632e-02, 5.26405263e-02, 7.89557895e-02,\n",
       "       1.05271053e-01, 1.31586316e-01, 1.57901579e-01, 1.84216842e-01,\n",
       "       2.10532105e-01, 2.36847368e-01, 2.63162632e-01, 2.89477895e-01,\n",
       "       3.15793158e-01, 3.42108421e-01, 3.68423684e-01, 3.94738947e-01,\n",
       "       4.21054211e-01, 4.47369474e-01, 4.73684737e-01, 5.00000000e-01])},\n",
       "             pre_dispatch='2*n_jobs', refit=True, return_train_score=False,\n",
       "             scoring=None, verbose=0)"
      ]
     },
     "execution_count": 40,
     "metadata": {},
     "output_type": "execute_result"
    }
   ],
   "source": [
    "%%time\n",
    "grid_cv.fit(X_train, y_train)"
   ]
  },
  {
   "cell_type": "code",
   "execution_count": 41,
   "metadata": {},
   "outputs": [],
   "source": [
    "y_predict_grid = grid_cv.best_estimator_.predict(X_test)"
   ]
  },
  {
   "cell_type": "code",
   "execution_count": 42,
   "metadata": {},
   "outputs": [
    {
     "name": "stdout",
     "output_type": "stream",
     "text": [
      "MAE:   44.872718049569016\n",
      "RMSE:  76.96029353927894\n",
      "MAPE:  32.42474714918352\n"
     ]
    }
   ],
   "source": [
    "print_metrics(y=y_test, y_predict=y_predict_grid)"
   ]
  },
  {
   "cell_type": "code",
   "execution_count": 43,
   "metadata": {},
   "outputs": [],
   "source": [
    "model = Lasso()"
   ]
  },
  {
   "cell_type": "markdown",
   "metadata": {},
   "source": [
    "#### LassoCV"
   ]
  },
  {
   "cell_type": "code",
   "execution_count": 44,
   "metadata": {},
   "outputs": [],
   "source": [
    "model_lasso_CV = LarsCV(cv=5)"
   ]
  },
  {
   "cell_type": "code",
   "execution_count": 45,
   "metadata": {},
   "outputs": [
    {
     "data": {
      "text/plain": [
       "LarsCV(copy_X=True, cv=5, eps=2.220446049250313e-16, fit_intercept=True,\n",
       "       max_iter=500, max_n_alphas=1000, n_jobs=None, normalize=True,\n",
       "       precompute='auto', verbose=False)"
      ]
     },
     "execution_count": 45,
     "metadata": {},
     "output_type": "execute_result"
    }
   ],
   "source": [
    "model_lasso_CV.fit(X_train, y_train)"
   ]
  },
  {
   "cell_type": "code",
   "execution_count": 46,
   "metadata": {},
   "outputs": [],
   "source": [
    "y_predict_lasso_cv = model_lasso_CV.predict(X_test)"
   ]
  },
  {
   "cell_type": "code",
   "execution_count": 47,
   "metadata": {},
   "outputs": [
    {
     "name": "stdout",
     "output_type": "stream",
     "text": [
      "MAE:   44.95634307982454\n",
      "RMSE:  77.37924133465073\n",
      "MAPE:  32.594804259612125\n"
     ]
    }
   ],
   "source": [
    "print_metrics(y=y_test, y_predict=y_predict_lasso_cv)"
   ]
  },
  {
   "cell_type": "code",
   "execution_count": null,
   "metadata": {},
   "outputs": [],
   "source": []
  }
 ],
 "metadata": {
  "kernelspec": {
   "display_name": "Python 3",
   "language": "python",
   "name": "python3"
  },
  "language_info": {
   "codemirror_mode": {
    "name": "ipython",
    "version": 3
   },
   "file_extension": ".py",
   "mimetype": "text/x-python",
   "name": "python",
   "nbconvert_exporter": "python",
   "pygments_lexer": "ipython3",
   "version": "3.7.3"
  }
 },
 "nbformat": 4,
 "nbformat_minor": 4
}
