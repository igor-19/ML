{
 "cells": [
  {
   "cell_type": "code",
   "execution_count": null,
   "metadata": {},
   "outputs": [],
   "source": []
  },
  {
   "cell_type": "code",
   "execution_count": 1,
   "metadata": {},
   "outputs": [],
   "source": [
    "import re\n",
    "import numpy as np\n",
    "import pandas as pd\n",
    "from pprint import pprint\n",
    "\n",
    "# gensim\n",
    "import gensim\n",
    "from gensim import corpora\n",
    "from gensim.utils import simple_preprocess\n",
    "from gensim.models import CoherenceModel\n",
    "\n",
    "# spacy for lemmatization\n",
    "import spacy\n",
    "\n",
    "# Plotting tools\n",
    "import pyLDAvis\n",
    "import pyLDAvis.gensim # don`t skip this\n",
    "\n",
    "import matplotlib.pyplot as plt\n",
    "%matplotlib inline\n",
    "\n",
    "# Enable logging for gensim - optional\n",
    "import logging\n",
    "logging.basicConfig(format='%(asctime)s : %(levelname)s : %(message)s', level=logging.ERROR)\n",
    "\n",
    "import warnings\n",
    "warnings.filterwarnings('ignore', category=DeprecationWarning)\n"
   ]
  },
  {
   "cell_type": "code",
   "execution_count": 2,
   "metadata": {},
   "outputs": [],
   "source": [
    "# подготовка стоп-слов"
   ]
  },
  {
   "cell_type": "code",
   "execution_count": 3,
   "metadata": {},
   "outputs": [],
   "source": [
    "from nltk.corpus import stopwords\n",
    "\n",
    "stop_words = stopwords.words('english')\n",
    "stop_words.extend(['from', 'subject', 're', 'edu', 'use'])"
   ]
  },
  {
   "cell_type": "code",
   "execution_count": 4,
   "metadata": {},
   "outputs": [
    {
     "data": {
      "text/plain": [
       "6800"
      ]
     },
     "execution_count": 4,
     "metadata": {},
     "output_type": "execute_result"
    }
   ],
   "source": [
    "len(stopwords.words())"
   ]
  },
  {
   "cell_type": "code",
   "execution_count": 5,
   "metadata": {},
   "outputs": [],
   "source": [
    "# import dataset"
   ]
  },
  {
   "cell_type": "code",
   "execution_count": 6,
   "metadata": {},
   "outputs": [],
   "source": [
    "df = pd.read_json('https://raw.githubusercontent.com/selva86/datasets/master/newsgroups.json')"
   ]
  },
  {
   "cell_type": "code",
   "execution_count": 7,
   "metadata": {},
   "outputs": [
    {
     "name": "stdout",
     "output_type": "stream",
     "text": [
      "<class 'pandas.core.frame.DataFrame'>\n",
      "Int64Index: 11314 entries, 0 to 11313\n",
      "Data columns (total 3 columns):\n",
      " #   Column        Non-Null Count  Dtype \n",
      "---  ------        --------------  ----- \n",
      " 0   content       11314 non-null  object\n",
      " 1   target        11314 non-null  int64 \n",
      " 2   target_names  11314 non-null  object\n",
      "dtypes: int64(1), object(2)\n",
      "memory usage: 353.6+ KB\n"
     ]
    }
   ],
   "source": [
    "df.info()"
   ]
  },
  {
   "cell_type": "code",
   "execution_count": 8,
   "metadata": {},
   "outputs": [
    {
     "data": {
      "text/plain": [
       "array(['rec.autos', 'comp.sys.mac.hardware', 'comp.graphics', 'sci.space',\n",
       "       'talk.politics.guns', 'sci.med', 'comp.sys.ibm.pc.hardware',\n",
       "       'comp.os.ms-windows.misc', 'rec.motorcycles', 'talk.religion.misc',\n",
       "       'misc.forsale', 'alt.atheism', 'sci.electronics', 'comp.windows.x',\n",
       "       'rec.sport.hockey', 'rec.sport.baseball', 'soc.religion.christian',\n",
       "       'talk.politics.mideast', 'talk.politics.misc', 'sci.crypt'],\n",
       "      dtype=object)"
      ]
     },
     "execution_count": 8,
     "metadata": {},
     "output_type": "execute_result"
    }
   ],
   "source": [
    "df.target_names.unique()"
   ]
  },
  {
   "cell_type": "code",
   "execution_count": 9,
   "metadata": {},
   "outputs": [
    {
     "data": {
      "text/html": [
       "<div>\n",
       "<style scoped>\n",
       "    .dataframe tbody tr th:only-of-type {\n",
       "        vertical-align: middle;\n",
       "    }\n",
       "\n",
       "    .dataframe tbody tr th {\n",
       "        vertical-align: top;\n",
       "    }\n",
       "\n",
       "    .dataframe thead th {\n",
       "        text-align: right;\n",
       "    }\n",
       "</style>\n",
       "<table border=\"1\" class=\"dataframe\">\n",
       "  <thead>\n",
       "    <tr style=\"text-align: right;\">\n",
       "      <th></th>\n",
       "      <th>content</th>\n",
       "      <th>target</th>\n",
       "      <th>target_names</th>\n",
       "    </tr>\n",
       "  </thead>\n",
       "  <tbody>\n",
       "    <tr>\n",
       "      <th>0</th>\n",
       "      <td>From: lerxst@wam.umd.edu (where's my thing)\\nS...</td>\n",
       "      <td>7</td>\n",
       "      <td>rec.autos</td>\n",
       "    </tr>\n",
       "    <tr>\n",
       "      <th>1</th>\n",
       "      <td>From: guykuo@carson.u.washington.edu (Guy Kuo)...</td>\n",
       "      <td>4</td>\n",
       "      <td>comp.sys.mac.hardware</td>\n",
       "    </tr>\n",
       "    <tr>\n",
       "      <th>2</th>\n",
       "      <td>From: twillis@ec.ecn.purdue.edu (Thomas E Will...</td>\n",
       "      <td>4</td>\n",
       "      <td>comp.sys.mac.hardware</td>\n",
       "    </tr>\n",
       "  </tbody>\n",
       "</table>\n",
       "</div>"
      ],
      "text/plain": [
       "                                             content  target  \\\n",
       "0  From: lerxst@wam.umd.edu (where's my thing)\\nS...       7   \n",
       "1  From: guykuo@carson.u.washington.edu (Guy Kuo)...       4   \n",
       "2  From: twillis@ec.ecn.purdue.edu (Thomas E Will...       4   \n",
       "\n",
       "            target_names  \n",
       "0              rec.autos  \n",
       "1  comp.sys.mac.hardware  \n",
       "2  comp.sys.mac.hardware  "
      ]
     },
     "execution_count": 9,
     "metadata": {},
     "output_type": "execute_result"
    }
   ],
   "source": [
    "df.head(3)"
   ]
  },
  {
   "cell_type": "code",
   "execution_count": 10,
   "metadata": {},
   "outputs": [],
   "source": [
    "# удаление эл адресов и символов новой строки"
   ]
  },
  {
   "cell_type": "code",
   "execution_count": 11,
   "metadata": {},
   "outputs": [],
   "source": [
    "# convert to list\n",
    "data = df.content.values.tolist()"
   ]
  },
  {
   "cell_type": "code",
   "execution_count": 12,
   "metadata": {},
   "outputs": [],
   "source": [
    "# remove e-mail\n",
    "data = [re.sub('\\S*@\\S*\\s?', '', v) for v in data]"
   ]
  },
  {
   "cell_type": "code",
   "execution_count": 13,
   "metadata": {},
   "outputs": [],
   "source": [
    "# remove new line characters\n",
    "data = [re.sub('\\s+', ' ', v) for v in data]"
   ]
  },
  {
   "cell_type": "code",
   "execution_count": 14,
   "metadata": {},
   "outputs": [],
   "source": [
    "# remove distracting single quotes\n",
    "data = [re.sub(\"\\'\", '', v) for v in data]"
   ]
  },
  {
   "cell_type": "code",
   "execution_count": 15,
   "metadata": {},
   "outputs": [
    {
     "name": "stdout",
     "output_type": "stream",
     "text": [
      "['From: (wheres my thing) Subject: WHAT car is this!? Nntp-Posting-Host: rac3.wam.umd.edu Organization: University of Maryland, College Park Lines: 15 I was wondering if anyone out there could enlighten me on this car I saw the other day. It was a 2-door sports car, looked to be from the late 60s/ early 70s. It was called a Bricklin. The doors were really small. In addition, the front bumper was separate from the rest of the body. This is all I know. If anyone can tellme a model name, engine specs, years of production, where this car is made, history, or whatever info you have on this funky looking car, please e-mail. Thanks, - IL ---- brought to you by your neighborhood Lerxst ---- ']\n"
     ]
    }
   ],
   "source": [
    "print(data[:1])"
   ]
  },
  {
   "cell_type": "markdown",
   "metadata": {},
   "source": [
    "## Токенезация слов и очистка текста"
   ]
  },
  {
   "cell_type": "code",
   "execution_count": 16,
   "metadata": {},
   "outputs": [],
   "source": [
    "def sent_to_words(sentences):\n",
    "    for sentence in sentences:\n",
    "        yield(gensim.utils.simple_preprocess(str(sentence), deacc=True)) # deacc=True -> remove punctuations\n",
    "\n",
    "data_words = list(sent_to_words(data))"
   ]
  },
  {
   "cell_type": "code",
   "execution_count": 17,
   "metadata": {},
   "outputs": [
    {
     "name": "stdout",
     "output_type": "stream",
     "text": [
      "['from', 'wheres', 'my', 'thing', 'subject', 'what', 'car', 'is', 'this', 'nntp', 'posting', 'host', 'rac', 'wam', 'umd', 'edu', 'organization', 'university', 'of', 'maryland', 'college', 'park', 'lines', 'was', 'wondering', 'if', 'anyone', 'out', 'there', 'could', 'enlighten', 'me', 'on', 'this', 'car', 'saw', 'the', 'other', 'day', 'it', 'was', 'door', 'sports', 'car', 'looked', 'to', 'be', 'from', 'the', 'late', 'early', 'it', 'was', 'called', 'bricklin', 'the', 'doors', 'were', 'really', 'small', 'in', 'addition', 'the', 'front', 'bumper', 'was', 'separate', 'from', 'the', 'rest', 'of', 'the', 'body', 'this', 'is', 'all', 'know', 'if', 'anyone', 'can', 'tellme', 'model', 'name', 'engine', 'specs', 'years', 'of', 'production', 'where', 'this', 'car', 'is', 'made', 'history', 'or', 'whatever', 'info', 'you', 'have', 'on', 'this', 'funky', 'looking', 'car', 'please', 'mail', 'thanks', 'il', 'brought', 'to', 'you', 'by', 'your', 'neighborhood', 'lerxst']\n"
     ]
    },
    {
     "data": {
      "text/plain": [
       "11314"
      ]
     },
     "execution_count": 17,
     "metadata": {},
     "output_type": "execute_result"
    }
   ],
   "source": [
    "print(data_words[0])\n",
    "len(data_words)"
   ]
  },
  {
   "cell_type": "markdown",
   "metadata": {},
   "source": [
    "## Создание биграмм и триграмм"
   ]
  },
  {
   "cell_type": "code",
   "execution_count": 18,
   "metadata": {},
   "outputs": [],
   "source": [
    "# build the bigram and trigram models\n",
    "\n",
    "# higher threshold fewer phrases.\n",
    "bigram = gensim.models.Phrases(data_words, min_count=5, threshold=100)\n",
    "trigram = gensim.models.Phrases(bigram[data_words], threshold=100)"
   ]
  },
  {
   "cell_type": "code",
   "execution_count": 19,
   "metadata": {},
   "outputs": [],
   "source": [
    "# faster way to get a sentence clubbed as a trigram/bigram\n",
    "bigram_mod = gensim.models.phrases.Phraser(bigram)\n",
    "trigram_mod = gensim.models.phrases.Phraser(trigram)"
   ]
  },
  {
   "cell_type": "code",
   "execution_count": 20,
   "metadata": {},
   "outputs": [
    {
     "name": "stdout",
     "output_type": "stream",
     "text": [
      "['from', 'wheres', 'my', 'thing', 'subject', 'what', 'car', 'is', 'this', 'nntp_posting_host', 'rac_wam_umd_edu', 'organization', 'university', 'of', 'maryland_college_park', 'lines', 'was', 'wondering', 'if', 'anyone', 'out', 'there', 'could', 'enlighten', 'me', 'on', 'this', 'car', 'saw', 'the', 'other', 'day', 'it', 'was', 'door', 'sports', 'car', 'looked', 'to', 'be', 'from', 'the', 'late', 'early', 'it', 'was', 'called', 'bricklin', 'the', 'doors', 'were', 'really', 'small', 'in', 'addition', 'the', 'front_bumper', 'was', 'separate', 'from', 'the', 'rest', 'of', 'the', 'body', 'this', 'is', 'all', 'know', 'if', 'anyone', 'can', 'tellme', 'model', 'name', 'engine', 'specs', 'years', 'of', 'production', 'where', 'this', 'car', 'is', 'made', 'history', 'or', 'whatever', 'info', 'you', 'have', 'on', 'this', 'funky', 'looking', 'car', 'please', 'mail', 'thanks', 'il', 'brought', 'to', 'you', 'by', 'your', 'neighborhood', 'lerxst']\n"
     ]
    }
   ],
   "source": [
    "# See trigram example\n",
    "print(trigram_mod[bigram_mod[data_words[0]]])"
   ]
  },
  {
   "cell_type": "markdown",
   "metadata": {},
   "source": [
    "## удаление стоп-слов, создаем биграммы и лематизация."
   ]
  },
  {
   "cell_type": "code",
   "execution_count": 21,
   "metadata": {},
   "outputs": [],
   "source": [
    "# Define functions for stopwords, bigrams, trigrams and lemmatization\n",
    "def remove_stopwords(texts):\n",
    "    return [[word for word in simple_preprocess(str(doc)) if word not in stop_words] for doc in texts]\n",
    "\n",
    "def make_bigrams(texts):\n",
    "    return [bigram_mod[doc] for doc in texts]\n",
    "\n",
    "def make_trigrams(texts):\n",
    "    return [trigram_mod[bigram_mod[doc]] for doc in texts]\n",
    "\n",
    "def lemmatization(texts, allower_postags=['NOUN', 'ADJ', 'VERB', 'ADV']):\n",
    "    '''http://spacy.io/api/annotation'''\n",
    "    texts_out = []\n",
    "    for sent in texts:\n",
    "        doc = nlp(' '.join(sent))\n",
    "        texts_out.append([token.lemma_ for token in doc if token.pos_ in allower_postags])\n",
    "        return texts_out"
   ]
  },
  {
   "cell_type": "code",
   "execution_count": 22,
   "metadata": {},
   "outputs": [],
   "source": [
    "# remove stop words\n",
    "data_words_nostops = remove_stopwords(data_words)\n",
    "\n",
    "# form bigrams\n",
    "data_words_bigrams = make_bigrams(data_words_nostops)\n",
    "\n",
    "# initialize spacy 'en' model, keeping only tagger component (for efficiency)\n",
    "# python3 -m spacy download en\n",
    "nlp = spacy.load('en', disable=['parser', 'ner'])\n",
    "\n",
    "# do lemmatization keeping only noun, adj, vd, adv\n",
    "data_lemmatized = lemmatization(data_words_bigrams, allower_postags=['NOUN', 'ADJ', 'VERB', 'ADV'])"
   ]
  },
  {
   "cell_type": "code",
   "execution_count": 23,
   "metadata": {},
   "outputs": [
    {
     "name": "stdout",
     "output_type": "stream",
     "text": [
      "[['where', 'thing', 'car', 'nntp_poste', 'host', 'park', 'line', 'wonder', 'could', 'enlighten', 'car', 'see', 'day', 'door', 'sport', 'car', 'look', 'late', 'early', 'call', 'door', 'really', 'small', 'addition', 'separate', 'rest', 'body', 'know', 'model', 'name', 'engine', 'spec', 'year', 'production', 'car', 'make', 'history', 'info', 'funky', 'look', 'car', 'mail', 'thank', 'bring', 'neighborhood', 'lerxst']]\n",
      "[['where', 'thing', 'car', 'nntp_poste', 'host', 'park', 'line', 'wonder', 'could', 'enlighten', 'car', 'see', 'day', 'door', 'sport', 'car', 'look', 'late', 'early', 'call', 'door', 'really', 'small', 'addition', 'separate', 'rest', 'body', 'know', 'model', 'name', 'engine', 'spec', 'year', 'production', 'car', 'make', 'history', 'info', 'funky', 'look', 'car', 'mail', 'thank', 'bring', 'neighborhood', 'lerxst']]\n"
     ]
    }
   ],
   "source": [
    "print(data_lemmatized[:1])\n",
    "print(data_lemmatized)"
   ]
  },
  {
   "cell_type": "markdown",
   "metadata": {},
   "source": [
    "### создадим словарь и корпус"
   ]
  },
  {
   "cell_type": "code",
   "execution_count": 24,
   "metadata": {},
   "outputs": [],
   "source": [
    "# create dictionary\n",
    "id2word = corpora.Dictionary(data_lemmatized)\n",
    "\n",
    "# create corpus\n",
    "texts = data_lemmatized\n",
    "\n",
    "# term document frequency\n",
    "corpus = [id2word.doc2bow(text) for text in texts]"
   ]
  },
  {
   "cell_type": "code",
   "execution_count": 25,
   "metadata": {},
   "outputs": [
    {
     "name": "stdout",
     "output_type": "stream",
     "text": [
      "[[(0, 1), (1, 1), (2, 1), (3, 1), (4, 5), (5, 1), (6, 1), (7, 2), (8, 1), (9, 1), (10, 1), (11, 1), (12, 1), (13, 1), (14, 1), (15, 1), (16, 1), (17, 1), (18, 1), (19, 2), (20, 1), (21, 1), (22, 1), (23, 1), (24, 1), (25, 1), (26, 1), (27, 1), (28, 1), (29, 1), (30, 1), (31, 1), (32, 1), (33, 1), (34, 1), (35, 1), (36, 1), (37, 1), (38, 1), (39, 1)]]\n"
     ]
    }
   ],
   "source": [
    "print(corpus)"
   ]
  },
  {
   "cell_type": "code",
   "execution_count": 26,
   "metadata": {},
   "outputs": [
    {
     "data": {
      "text/plain": [
       "'addition'"
      ]
     },
     "execution_count": 26,
     "metadata": {},
     "output_type": "execute_result"
    }
   ],
   "source": [
    "id2word[0]"
   ]
  },
  {
   "cell_type": "code",
   "execution_count": 27,
   "metadata": {},
   "outputs": [
    {
     "name": "stdout",
     "output_type": "stream",
     "text": [
      "[[('addition', 1), ('body', 1), ('bring', 1), ('call', 1), ('car', 5), ('could', 1), ('day', 1), ('door', 2), ('early', 1), ('engine', 1), ('enlighten', 1), ('funky', 1), ('history', 1), ('host', 1), ('info', 1), ('know', 1), ('late', 1), ('lerxst', 1), ('line', 1), ('look', 2), ('mail', 1), ('make', 1), ('model', 1), ('name', 1), ('neighborhood', 1), ('nntp_poste', 1), ('park', 1), ('production', 1), ('really', 1), ('rest', 1), ('see', 1), ('separate', 1), ('small', 1), ('spec', 1), ('sport', 1), ('thank', 1), ('thing', 1), ('where', 1), ('wonder', 1), ('year', 1)]]\n"
     ]
    }
   ],
   "source": [
    "# corpus\n",
    "print([[(id2word[id], freg) for id, freg in cp] for cp in corpus[:1]])"
   ]
  },
  {
   "cell_type": "code",
   "execution_count": 28,
   "metadata": {},
   "outputs": [],
   "source": [
    "# model LDA\n",
    "# alpha,  eta - гиперпараметры, по умолчанию - 1.0\n",
    "# chunksize - кол документов\n",
    "# update_every - как часто параметры модели должны обновляться\n",
    "# passes - общее кол проходов"
   ]
  },
  {
   "cell_type": "code",
   "execution_count": 29,
   "metadata": {},
   "outputs": [],
   "source": [
    "# build LDA model\n",
    "lda_model = gensim.models.ldamodel.LdaModel(corpus=corpus, id2word=id2word, num_topics=20, random_state=100,\n",
    "                                           update_every=1, chunksize=100, passes=10, alpha='auto', \n",
    "                                            per_word_topics=True)"
   ]
  },
  {
   "cell_type": "code",
   "execution_count": 30,
   "metadata": {},
   "outputs": [
    {
     "data": {
      "text/plain": [
       "[(0,\n",
       "  '0.025*\"see\" + 0.025*\"separate\" + 0.025*\"name\" + 0.025*\"neighborhood\" + 0.025*\"nntp_poste\" + 0.025*\"park\" + 0.025*\"production\" + 0.025*\"really\" + 0.025*\"rest\" + 0.025*\"make\"'),\n",
       " (1,\n",
       "  '0.025*\"see\" + 0.025*\"separate\" + 0.025*\"name\" + 0.025*\"neighborhood\" + 0.025*\"nntp_poste\" + 0.025*\"park\" + 0.025*\"production\" + 0.025*\"really\" + 0.025*\"rest\" + 0.025*\"make\"'),\n",
       " (2,\n",
       "  '0.105*\"car\" + 0.043*\"look\" + 0.043*\"door\" + 0.022*\"history\" + 0.022*\"spec\" + 0.022*\"mail\" + 0.022*\"thing\" + 0.022*\"neighborhood\" + 0.022*\"really\" + 0.022*\"know\"'),\n",
       " (3,\n",
       "  '0.025*\"see\" + 0.025*\"separate\" + 0.025*\"name\" + 0.025*\"neighborhood\" + 0.025*\"nntp_poste\" + 0.025*\"park\" + 0.025*\"production\" + 0.025*\"really\" + 0.025*\"rest\" + 0.025*\"make\"'),\n",
       " (4,\n",
       "  '0.025*\"see\" + 0.025*\"separate\" + 0.025*\"name\" + 0.025*\"neighborhood\" + 0.025*\"nntp_poste\" + 0.025*\"park\" + 0.025*\"production\" + 0.025*\"really\" + 0.025*\"rest\" + 0.025*\"make\"'),\n",
       " (5,\n",
       "  '0.025*\"see\" + 0.025*\"separate\" + 0.025*\"name\" + 0.025*\"neighborhood\" + 0.025*\"nntp_poste\" + 0.025*\"park\" + 0.025*\"production\" + 0.025*\"really\" + 0.025*\"rest\" + 0.025*\"make\"'),\n",
       " (6,\n",
       "  '0.025*\"see\" + 0.025*\"separate\" + 0.025*\"name\" + 0.025*\"neighborhood\" + 0.025*\"nntp_poste\" + 0.025*\"park\" + 0.025*\"production\" + 0.025*\"really\" + 0.025*\"rest\" + 0.025*\"make\"'),\n",
       " (7,\n",
       "  '0.025*\"see\" + 0.025*\"separate\" + 0.025*\"name\" + 0.025*\"neighborhood\" + 0.025*\"nntp_poste\" + 0.025*\"park\" + 0.025*\"production\" + 0.025*\"really\" + 0.025*\"rest\" + 0.025*\"make\"'),\n",
       " (8,\n",
       "  '0.025*\"see\" + 0.025*\"separate\" + 0.025*\"name\" + 0.025*\"neighborhood\" + 0.025*\"nntp_poste\" + 0.025*\"park\" + 0.025*\"production\" + 0.025*\"really\" + 0.025*\"rest\" + 0.025*\"make\"'),\n",
       " (9,\n",
       "  '0.025*\"see\" + 0.025*\"separate\" + 0.025*\"name\" + 0.025*\"neighborhood\" + 0.025*\"nntp_poste\" + 0.025*\"park\" + 0.025*\"production\" + 0.025*\"really\" + 0.025*\"rest\" + 0.025*\"make\"'),\n",
       " (10,\n",
       "  '0.025*\"see\" + 0.025*\"separate\" + 0.025*\"name\" + 0.025*\"neighborhood\" + 0.025*\"nntp_poste\" + 0.025*\"park\" + 0.025*\"production\" + 0.025*\"really\" + 0.025*\"rest\" + 0.025*\"make\"'),\n",
       " (11,\n",
       "  '0.027*\"car\" + 0.026*\"door\" + 0.026*\"look\" + 0.025*\"make\" + 0.025*\"bring\" + 0.025*\"enlighten\" + 0.025*\"host\" + 0.025*\"model\" + 0.025*\"park\" + 0.025*\"small\"'),\n",
       " (12,\n",
       "  '0.025*\"see\" + 0.025*\"separate\" + 0.025*\"name\" + 0.025*\"neighborhood\" + 0.025*\"nntp_poste\" + 0.025*\"park\" + 0.025*\"production\" + 0.025*\"really\" + 0.025*\"rest\" + 0.025*\"make\"'),\n",
       " (13,\n",
       "  '0.025*\"see\" + 0.025*\"separate\" + 0.025*\"name\" + 0.025*\"neighborhood\" + 0.025*\"nntp_poste\" + 0.025*\"park\" + 0.025*\"production\" + 0.025*\"really\" + 0.025*\"rest\" + 0.025*\"make\"'),\n",
       " (14,\n",
       "  '0.025*\"see\" + 0.025*\"separate\" + 0.025*\"name\" + 0.025*\"neighborhood\" + 0.025*\"nntp_poste\" + 0.025*\"park\" + 0.025*\"production\" + 0.025*\"really\" + 0.025*\"rest\" + 0.025*\"make\"'),\n",
       " (15,\n",
       "  '0.025*\"see\" + 0.025*\"separate\" + 0.025*\"name\" + 0.025*\"neighborhood\" + 0.025*\"nntp_poste\" + 0.025*\"park\" + 0.025*\"production\" + 0.025*\"really\" + 0.025*\"rest\" + 0.025*\"make\"'),\n",
       " (16,\n",
       "  '0.025*\"see\" + 0.025*\"separate\" + 0.025*\"name\" + 0.025*\"neighborhood\" + 0.025*\"nntp_poste\" + 0.025*\"park\" + 0.025*\"production\" + 0.025*\"really\" + 0.025*\"rest\" + 0.025*\"make\"'),\n",
       " (17,\n",
       "  '0.025*\"see\" + 0.025*\"separate\" + 0.025*\"name\" + 0.025*\"neighborhood\" + 0.025*\"nntp_poste\" + 0.025*\"park\" + 0.025*\"production\" + 0.025*\"really\" + 0.025*\"rest\" + 0.025*\"make\"'),\n",
       " (18,\n",
       "  '0.028*\"car\" + 0.026*\"door\" + 0.026*\"look\" + 0.025*\"where\" + 0.025*\"nntp_poste\" + 0.025*\"lerxst\" + 0.025*\"name\" + 0.025*\"production\" + 0.025*\"host\" + 0.025*\"thank\"'),\n",
       " (19,\n",
       "  '0.025*\"see\" + 0.025*\"separate\" + 0.025*\"name\" + 0.025*\"neighborhood\" + 0.025*\"nntp_poste\" + 0.025*\"park\" + 0.025*\"production\" + 0.025*\"really\" + 0.025*\"rest\" + 0.025*\"make\"')]"
      ]
     },
     "execution_count": 30,
     "metadata": {},
     "output_type": "execute_result"
    }
   ],
   "source": [
    "lda_model.print_topics()"
   ]
  },
  {
   "cell_type": "code",
   "execution_count": 31,
   "metadata": {},
   "outputs": [
    {
     "name": "stdout",
     "output_type": "stream",
     "text": [
      "Perplexity:  -5.546218401064044\n",
      "\n",
      "Coherence Score:  0.9999999999999998\n"
     ]
    }
   ],
   "source": [
    "# compute perplexity\n",
    "print('Perplexity: ', lda_model.log_perplexity(corpus))\n",
    "\n",
    "# compute coherence score\n",
    "coherence_model_lda = CoherenceModel(model=lda_model, texts=data_lemmatized, dictionary=id2word, coherence='c_v')\n",
    "coherence_lda = coherence_model_lda.get_coherence()\n",
    "print('\\nCoherence Score: ', coherence_lda)"
   ]
  },
  {
   "cell_type": "code",
   "execution_count": 32,
   "metadata": {},
   "outputs": [],
   "source": [
    "# Visualize the topics\n",
    "pyLDAvis.enable_notebook()\n",
    "vis = pyLDAvis.gensim.prepare(lda_model, corpus, id2word, mds='tsne')\n"
   ]
  },
  {
   "cell_type": "code",
   "execution_count": 33,
   "metadata": {},
   "outputs": [
    {
     "data": {
      "text/html": [
       "\n",
       "<link rel=\"stylesheet\" type=\"text/css\" href=\"https://cdn.rawgit.com/bmabey/pyLDAvis/files/ldavis.v1.0.0.css\">\n",
       "\n",
       "\n",
       "<div id=\"ldavis_el172501406031422326088567415860\"></div>\n",
       "<script type=\"text/javascript\">\n",
       "\n",
       "var ldavis_el172501406031422326088567415860_data = {\"mdsDat\": {\"x\": [-10.878067970275879, -60.88402557373047, -2.3361191749572754, -61.385318756103516, -28.737743377685547, 1.0666056871414185, 45.14072036743164, -140.7959747314453, 61.531681060791016, -72.56305694580078, 15.984491348266602, -160.85162353515625, 85.96183013916016, -99.02083587646484, -176.76412963867188, -117.18988037109375, 108.82991790771484, 47.588096618652344, -106.46783447265625, -50.61380386352539], \"y\": [10.538727760314941, -75.5918197631836, -53.2890739440918, -12.914633750915527, 126.2969970703125, -123.55281066894531, -7.947869300842285, -98.53054809570312, -83.24056243896484, -140.39688110351562, 63.57818603515625, 68.94514465332031, 51.922935485839844, 109.93634796142578, -8.681683540344238, -37.42020034790039, -22.946203231811523, 121.934814453125, 30.176889419555664, 59.32884216308594], \"topics\": [1, 2, 3, 4, 5, 6, 7, 8, 9, 10, 11, 12, 13, 14, 15, 16, 17, 18, 19, 20], \"cluster\": [1, 1, 1, 1, 1, 1, 1, 1, 1, 1, 1, 1, 1, 1, 1, 1, 1, 1, 1, 1], \"Freq\": [98.98876953125, 0.07663742452859879, 0.07662204653024673, 0.05046885833144188, 0.05046885833144188, 0.05046885833144188, 0.05046885833144188, 0.05046885833144188, 0.05046885833144188, 0.05046885833144188, 0.05046885833144188, 0.05046885833144188, 0.05046885833144188, 0.05046885833144188, 0.05046885833144188, 0.05046885833144188, 0.05046885833144188, 0.05046885833144188, 0.05046885833144188, 0.05046885833144188]}, \"tinfo\": {\"Term\": [\"car\", \"look\", \"door\", \"history\", \"spec\", \"mail\", \"thing\", \"neighborhood\", \"really\", \"know\", \"could\", \"call\", \"separate\", \"rest\", \"day\", \"wonder\", \"addition\", \"info\", \"enlighten\", \"late\", \"sport\", \"early\", \"see\", \"year\", \"line\", \"body\", \"engine\", \"model\", \"funky\", \"thank\", \"car\", \"look\", \"door\", \"history\", \"spec\", \"mail\", \"thing\", \"neighborhood\", \"really\", \"know\", \"could\", \"call\", \"separate\", \"rest\", \"day\", \"wonder\", \"addition\", \"info\", \"enlighten\", \"late\", \"sport\", \"early\", \"see\", \"year\", \"line\", \"body\", \"engine\", \"model\", \"funky\", \"thank\", \"where\", \"nntp_poste\", \"lerxst\", \"name\", \"production\", \"host\", \"thank\", \"funky\", \"park\", \"body\", \"bring\", \"early\", \"small\", \"make\", \"call\", \"see\", \"sport\", \"separate\", \"model\", \"history\", \"mail\", \"day\", \"info\", \"engine\", \"rest\", \"year\", \"addition\", \"line\", \"neighborhood\", \"late\", \"car\", \"door\", \"look\", \"make\", \"bring\", \"host\", \"enlighten\", \"model\", \"park\", \"small\", \"engine\", \"line\", \"name\", \"lerxst\", \"year\", \"where\", \"funky\", \"could\", \"late\", \"wonder\", \"thank\", \"production\", \"see\", \"nntp_poste\", \"really\", \"body\", \"know\", \"sport\", \"addition\", \"info\", \"thing\", \"early\", \"rest\", \"door\", \"car\", \"look\", \"where\", \"lerxst\", \"host\", \"name\", \"nntp_poste\", \"bring\", \"make\", \"park\", \"production\", \"small\", \"thank\", \"funky\", \"model\", \"engine\", \"body\", \"line\", \"year\", \"see\", \"early\", \"sport\", \"late\", \"enlighten\", \"info\", \"addition\", \"wonder\", \"day\", \"rest\", \"separate\", \"call\", \"could\", \"know\", \"history\", \"door\", \"car\", \"look\", \"mail\", \"thing\", \"spec\", \"where\", \"lerxst\", \"host\", \"name\", \"nntp_poste\", \"bring\", \"make\", \"park\", \"production\", \"small\", \"thank\", \"funky\", \"model\", \"engine\", \"body\", \"line\", \"year\", \"see\", \"early\", \"sport\", \"late\", \"enlighten\", \"info\", \"addition\", \"wonder\", \"day\", \"rest\", \"separate\", \"call\", \"could\", \"know\", \"history\", \"door\", \"car\", \"look\", \"mail\", \"thing\", \"spec\", \"where\", \"lerxst\", \"host\", \"name\", \"nntp_poste\", \"bring\", \"make\", \"park\", \"production\", \"small\", \"thank\", \"funky\", \"model\", \"engine\", \"body\", \"line\", \"year\", \"see\", \"early\", \"sport\", \"late\", \"enlighten\", \"info\", \"addition\", \"wonder\", \"day\", \"rest\", \"separate\", \"call\", \"could\", \"know\", \"history\", \"door\", \"car\", \"look\", \"mail\", \"thing\", \"spec\", \"where\", \"lerxst\", \"host\", \"name\", \"nntp_poste\", \"bring\", \"make\", \"park\", \"production\", \"small\", \"thank\", \"funky\", \"model\", \"engine\", \"body\", \"line\", \"year\", \"see\", \"early\", \"sport\", \"late\", \"enlighten\", \"info\", \"addition\", \"wonder\", \"day\", \"rest\", \"separate\", \"call\", \"could\", \"know\", \"history\", \"door\", \"car\", \"look\", \"mail\", \"thing\", \"spec\", \"where\", \"lerxst\", \"host\", \"name\", \"nntp_poste\", \"bring\", \"make\", \"park\", \"production\", \"small\", \"thank\", \"funky\", \"model\", \"engine\", \"body\", \"line\", \"year\", \"see\", \"early\", \"sport\", \"late\", \"enlighten\", \"info\", \"addition\", \"wonder\", \"day\", \"rest\", \"separate\", \"call\", \"could\", \"know\", \"history\", \"door\", \"car\", \"look\", \"mail\", \"thing\", \"spec\", \"where\", \"lerxst\", \"host\", \"name\", \"nntp_poste\", \"bring\", \"make\", \"park\", \"production\", \"small\", \"thank\", \"funky\", \"model\", \"engine\", \"body\", \"line\", \"year\", \"see\", \"early\", \"sport\", \"late\", \"enlighten\", \"info\", \"addition\", \"wonder\", \"day\", \"rest\", \"separate\", \"call\", \"could\", \"know\", \"history\", \"door\", \"car\", \"look\", \"mail\", \"thing\", \"spec\", \"where\", \"lerxst\", \"host\", \"name\", \"nntp_poste\", \"bring\", \"make\", \"park\", \"production\", \"small\", \"thank\", \"funky\", \"model\", \"engine\", \"body\", \"line\", \"year\", \"see\", \"early\", \"sport\", \"late\", \"enlighten\", \"info\", \"addition\", \"wonder\", \"day\", \"rest\", \"separate\", \"call\", \"could\", \"know\", \"history\", \"door\", \"car\", \"look\", \"mail\", \"thing\", \"spec\", \"where\", \"lerxst\", \"host\", \"name\", \"nntp_poste\", \"bring\", \"make\", \"park\", \"production\", \"small\", \"thank\", \"funky\", \"model\", \"engine\", \"body\", \"line\", \"year\", \"see\", \"early\", \"sport\", \"late\", \"enlighten\", \"info\", \"addition\", \"wonder\", \"day\", \"rest\", \"separate\", \"call\", \"could\", \"know\", \"history\", \"door\", \"car\", \"look\", \"mail\", \"thing\", \"spec\", \"where\", \"lerxst\", \"host\", \"name\", \"nntp_poste\", \"bring\", \"make\", \"park\", \"production\", \"small\", \"thank\", \"funky\", \"model\", \"engine\", \"body\", \"line\", \"year\", \"see\", \"early\", \"sport\", \"late\", \"enlighten\", \"info\", \"addition\", \"wonder\", \"day\", \"rest\", \"separate\", \"call\", \"could\", \"know\", \"history\", \"door\", \"car\", \"look\", \"mail\", \"thing\", \"spec\", \"where\", \"lerxst\", \"host\", \"name\", \"nntp_poste\", \"bring\", \"make\", \"park\", \"production\", \"small\", \"thank\", \"funky\", \"model\", \"engine\", \"body\", \"line\", \"year\", \"see\", \"early\", \"sport\", \"late\", \"enlighten\", \"info\", \"addition\", \"wonder\", \"day\", \"rest\", \"separate\", \"call\", \"could\", \"know\", \"history\", \"door\", \"car\", \"look\", \"mail\", \"thing\", \"spec\", \"where\", \"lerxst\", \"host\", \"name\", \"nntp_poste\", \"bring\", \"make\", \"park\", \"production\", \"small\", \"thank\", \"funky\", \"model\", \"engine\", \"body\", \"line\", \"year\", \"see\", \"early\", \"sport\", \"late\", \"enlighten\", \"info\", \"addition\", \"wonder\", \"day\", \"rest\", \"separate\", \"call\", \"could\", \"know\", \"history\", \"door\", \"car\", \"look\", \"mail\", \"thing\", \"spec\", \"where\", \"lerxst\", \"host\", \"name\", \"nntp_poste\", \"bring\", \"make\", \"park\", \"production\", \"small\", \"thank\", \"funky\", \"model\", \"engine\", \"body\", \"line\", \"year\", \"see\", \"early\", \"sport\", \"late\", \"enlighten\", \"info\", \"addition\", \"wonder\", \"day\", \"rest\", \"separate\", \"call\", \"could\", \"know\", \"history\", \"door\", \"car\", \"look\", \"mail\", \"thing\", \"spec\", \"where\", \"lerxst\", \"host\", \"name\", \"nntp_poste\", \"bring\", \"make\", \"park\", \"production\", \"small\", \"thank\", \"funky\", \"model\", \"engine\", \"body\", \"line\", \"year\", \"see\", \"early\", \"sport\", \"late\", \"enlighten\", \"info\", \"addition\", \"wonder\", \"day\", \"rest\", \"separate\", \"call\", \"could\", \"know\", \"history\", \"door\", \"car\", \"look\", \"mail\", \"thing\", \"spec\", \"where\", \"lerxst\", \"host\", \"name\", \"nntp_poste\", \"bring\", \"make\", \"park\", \"production\", \"small\", \"thank\", \"funky\", \"model\", \"engine\", \"body\", \"line\", \"year\", \"see\", \"early\", \"sport\", \"late\", \"enlighten\", \"info\", \"addition\", \"wonder\", \"day\", \"rest\", \"separate\", \"call\", \"could\", \"know\", \"history\", \"door\", \"car\", \"look\", \"mail\", \"thing\", \"spec\", \"where\", \"lerxst\", \"host\", \"name\", \"nntp_poste\", \"bring\", \"make\", \"park\", \"production\", \"small\", \"thank\", \"funky\", \"model\", \"engine\", \"body\", \"line\", \"year\", \"see\", \"early\", \"sport\", \"late\", \"enlighten\", \"info\", \"addition\", \"wonder\", \"day\", \"rest\", \"separate\", \"call\", \"could\", \"know\", \"history\", \"door\", \"car\", \"look\", \"mail\", \"thing\", \"spec\", \"where\", \"lerxst\", \"host\", \"name\", \"nntp_poste\", \"bring\", \"make\", \"park\", \"production\", \"small\", \"thank\", \"funky\", \"model\", \"engine\", \"body\", \"line\", \"year\", \"see\", \"early\", \"sport\", \"late\", \"enlighten\", \"info\", \"addition\", \"wonder\", \"day\", \"rest\", \"separate\", \"call\", \"could\", \"know\", \"history\", \"door\", \"car\", \"look\", \"mail\", \"thing\", \"spec\", \"where\", \"lerxst\", \"host\", \"name\", \"nntp_poste\", \"bring\", \"make\", \"park\", \"production\", \"small\", \"thank\", \"funky\", \"model\", \"engine\", \"body\", \"line\", \"year\", \"see\", \"early\", \"sport\", \"late\", \"enlighten\", \"info\", \"addition\", \"wonder\", \"day\", \"rest\", \"separate\", \"call\", \"could\", \"know\", \"history\", \"door\", \"car\", \"look\", \"mail\", \"thing\", \"spec\"], \"Freq\": [4.0, 1.0, 1.0, 1.0, 1.0, 1.0, 1.0, 1.0, 1.0, 1.0, 1.0, 1.0, 1.0, 1.0, 1.0, 1.0, 1.0, 1.0, 1.0, 1.0, 1.0, 1.0, 1.0, 1.0, 1.0, 1.0, 1.0, 1.0, 1.0, 1.0, 4.7928032875061035, 1.9447193145751953, 1.9439269304275513, 0.9966485500335693, 0.9966078400611877, 0.9965224266052246, 0.9964887499809265, 0.9964520335197449, 0.9964389801025391, 0.9964337348937988, 0.996393620967865, 0.996349573135376, 0.9963368773460388, 0.9963233470916748, 0.9963172674179077, 0.9962998032569885, 0.9962939620018005, 0.9962583184242249, 0.9961974024772644, 0.9961944222450256, 0.9961588382720947, 0.9960680603981018, 0.9960479140281677, 0.9960295557975769, 0.9960258603096008, 0.9959405064582825, 0.9959366321563721, 0.9958217740058899, 0.9957636594772339, 0.9957313537597656, 0.0008889295859262347, 0.0008872023317962885, 0.0008867057040333748, 0.0008848553407005966, 0.0008846246055327356, 0.0008838133071549237, 0.0008834897307679057, 0.0008807661361061037, 0.0008803513483144343, 0.0008804021636024117, 0.0008800361538305879, 0.000879981555044651, 0.0008795182220637798, 0.0008782686199992895, 0.0008787789265625179, 0.000877906393725425, 0.0008774917805567384, 0.0008774675079621375, 0.0008766619139350951, 0.0008773161680437624, 0.000876837526448071, 0.0008766036480665207, 0.000875992642249912, 0.0008754321606829762, 0.000875539262779057, 0.0008751393179409206, 0.0008751355926506221, 0.0008745522354729474, 0.0008746105595491827, 0.0008731577545404434, 0.0009729929151944816, 0.0009057430434040725, 0.0009002740262076259, 0.0008850428275763988, 0.0008835139451548457, 0.0008828539284877479, 0.0008830084698274732, 0.0008824433898553252, 0.0008820531074889004, 0.0008817774942144752, 0.0008816211484372616, 0.0008809095597825944, 0.0008803054806776345, 0.0008801433723419905, 0.0008802540833130479, 0.0008793874876573682, 0.0008793737506493926, 0.0008798400522209704, 0.0008792928420007229, 0.0008788523264229298, 0.0008772251312620938, 0.0008769752457737923, 0.0008771574939601123, 0.0008766649989411235, 0.0008770868298597634, 0.000876577862072736, 0.0008764067315496504, 0.0008755901362746954, 0.0008755375165492296, 0.0008753141737543046, 0.0008752282592467964, 0.0008747191750444472, 0.0008746066014282405, 0.0009156038286164403, 0.0009535288554616272, 0.0009069262305274606, 0.0005803919048048556, 0.0005803919048048556, 0.0005803919048048556, 0.0005803919048048556, 0.0005803919048048556, 0.0005803919048048556, 0.0005803919048048556, 0.0005803919048048556, 0.0005803919048048556, 0.0005803919048048556, 0.0005803919048048556, 0.0005803919048048556, 0.0005803919048048556, 0.0005803919048048556, 0.0005803919048048556, 0.0005803919048048556, 0.0005803919048048556, 0.0005803919048048556, 0.0005803919048048556, 0.0005803919048048556, 0.0005803919048048556, 0.0005803919048048556, 0.0005803919048048556, 0.0005803919048048556, 0.0005803919048048556, 0.0005803919048048556, 0.0005803919048048556, 0.0005803919048048556, 0.0005803919048048556, 0.0005803919048048556, 0.0005803919048048556, 0.0005803919048048556, 0.0005803919048048556, 0.0005803919048048556, 0.0005803919048048556, 0.0005803919048048556, 0.0005803919048048556, 0.0005803919048048556, 0.0005803919048048556, 0.0005803919048048556, 0.0005803919048048556, 0.0005803919048048556, 0.0005803919048048556, 0.0005803919048048556, 0.0005803919048048556, 0.0005803919048048556, 0.0005803919048048556, 0.0005803919048048556, 0.0005803919048048556, 0.0005803919048048556, 0.0005803919048048556, 0.0005803919048048556, 0.0005803919048048556, 0.0005803919048048556, 0.0005803919048048556, 0.0005803919048048556, 0.0005803919048048556, 0.0005803919048048556, 0.0005803919048048556, 0.0005803919048048556, 0.0005803919048048556, 0.0005803919048048556, 0.0005803919048048556, 0.0005803919048048556, 0.0005803919048048556, 0.0005803919048048556, 0.0005803919048048556, 0.0005803919048048556, 0.0005803919048048556, 0.0005803919048048556, 0.0005803919048048556, 0.0005803919048048556, 0.0005803919048048556, 0.0005803919048048556, 0.0005803919048048556, 0.0005803919048048556, 0.0005803919048048556, 0.0005803919048048556, 0.0005803919048048556, 0.0005803919048048556, 0.0005803919048048556, 0.0005803919048048556, 0.0005803919048048556, 0.0005803919048048556, 0.0005803919048048556, 0.0005803919048048556, 0.0005803919048048556, 0.0005803919048048556, 0.0005803919048048556, 0.0005803919048048556, 0.0005803919048048556, 0.0005803919048048556, 0.0005803919048048556, 0.0005803919048048556, 0.0005803919048048556, 0.0005803919048048556, 0.0005803919048048556, 0.0005803919048048556, 0.0005803919048048556, 0.0005803919048048556, 0.0005803919048048556, 0.0005803919048048556, 0.0005803919048048556, 0.0005803919048048556, 0.0005803919048048556, 0.0005803919048048556, 0.0005803919048048556, 0.0005803919048048556, 0.0005803919048048556, 0.0005803919048048556, 0.0005803919048048556, 0.0005803919048048556, 0.0005803919048048556, 0.0005803919048048556, 0.0005803919048048556, 0.0005803919048048556, 0.0005803919048048556, 0.0005803919048048556, 0.0005803919048048556, 0.0005803919048048556, 0.0005803919048048556, 0.0005803919048048556, 0.0005803919048048556, 0.0005803919048048556, 0.0005803919048048556, 0.0005803919048048556, 0.0005803919048048556, 0.0005803919048048556, 0.0005803919048048556, 0.0005803919048048556, 0.0005803919048048556, 0.0005803919048048556, 0.0005803919048048556, 0.0005803919048048556, 0.0005803919048048556, 0.0005803919048048556, 0.0005803919048048556, 0.0005803919048048556, 0.0005803919048048556, 0.0005803919048048556, 0.0005803919048048556, 0.0005803919048048556, 0.0005803919048048556, 0.0005803919048048556, 0.0005803919048048556, 0.0005803919048048556, 0.0005803919048048556, 0.0005803919048048556, 0.0005803919048048556, 0.0005803919048048556, 0.0005803919048048556, 0.0005803919048048556, 0.0005803919048048556, 0.0005803919048048556, 0.0005803919048048556, 0.0005803919048048556, 0.0005803919048048556, 0.0005803919048048556, 0.0005803919048048556, 0.0005803919048048556, 0.0005803919048048556, 0.0005803919048048556, 0.0005803919048048556, 0.0005803919048048556, 0.0005803919048048556, 0.0005803919048048556, 0.0005803919048048556, 0.0005803919048048556, 0.0005803919048048556, 0.0005803919048048556, 0.0005803919048048556, 0.0005803919048048556, 0.0005803919048048556, 0.0005803919048048556, 0.0005803919048048556, 0.0005803919048048556, 0.0005803919048048556, 0.0005803919048048556, 0.0005803919048048556, 0.0005803919048048556, 0.0005803919048048556, 0.0005803919048048556, 0.0005803919048048556, 0.0005803919048048556, 0.0005803919048048556, 0.0005803919048048556, 0.0005803919048048556, 0.0005803919048048556, 0.0005803919048048556, 0.0005803919048048556, 0.0005803919048048556, 0.0005803919048048556, 0.0005803919048048556, 0.0005803919048048556, 0.0005803919048048556, 0.0005803919048048556, 0.0005803919048048556, 0.0005803919048048556, 0.0005803919048048556, 0.0005803919048048556, 0.0005803919048048556, 0.0005803919048048556, 0.0005803919048048556, 0.0005803919048048556, 0.0005803919048048556, 0.0005803919048048556, 0.0005803919048048556, 0.0005803919048048556, 0.0005803919048048556, 0.0005803919048048556, 0.0005803919048048556, 0.0005803919048048556, 0.0005803919048048556, 0.0005803919048048556, 0.0005803919048048556, 0.0005803919048048556, 0.0005803919048048556, 0.0005803919048048556, 0.0005803919048048556, 0.0005803919048048556, 0.0005803919048048556, 0.0005803919048048556, 0.0005803919048048556, 0.0005803919048048556, 0.0005803919048048556, 0.0005803919048048556, 0.0005803919048048556, 0.0005803919048048556, 0.0005803919048048556, 0.0005803919048048556, 0.0005803919048048556, 0.0005803919048048556, 0.0005803919048048556, 0.0005803919048048556, 0.0005803919048048556, 0.0005803919048048556, 0.0005803919048048556, 0.0005803919048048556, 0.0005803919048048556, 0.0005803919048048556, 0.0005803919048048556, 0.0005803919048048556, 0.0005803919048048556, 0.0005803919048048556, 0.0005803919048048556, 0.0005803919048048556, 0.0005803919048048556, 0.0005803919048048556, 0.0005803919048048556, 0.0005803919048048556, 0.0005803919048048556, 0.0005803919048048556, 0.0005803919048048556, 0.0005803919048048556, 0.0005803919048048556, 0.0005803919048048556, 0.0005803919048048556, 0.0005803919048048556, 0.0005803919048048556, 0.0005803919048048556, 0.0005803919048048556, 0.0005803919048048556, 0.0005803919048048556, 0.0005803919048048556, 0.0005803919048048556, 0.0005803919048048556, 0.0005803919048048556, 0.0005803919048048556, 0.0005803919048048556, 0.0005803919048048556, 0.0005803919048048556, 0.0005803919048048556, 0.0005803919048048556, 0.0005803919048048556, 0.0005803919048048556, 0.0005803919048048556, 0.0005803919048048556, 0.0005803919048048556, 0.0005803919048048556, 0.0005803919048048556, 0.0005803919048048556, 0.0005803919048048556, 0.0005803919048048556, 0.0005803919048048556, 0.0005803919048048556, 0.0005803919048048556, 0.0005803919048048556, 0.0005803919048048556, 0.0005803919048048556, 0.0005803919048048556, 0.0005803919048048556, 0.0005803919048048556, 0.0005803919048048556, 0.0005803919048048556, 0.0005803919048048556, 0.0005803919048048556, 0.0005803919048048556, 0.0005803919048048556, 0.0005803919048048556, 0.0005803919048048556, 0.0005803919048048556, 0.0005803919048048556, 0.0005803919048048556, 0.0005803919048048556, 0.0005803919048048556, 0.0005803919048048556, 0.0005803919048048556, 0.0005803919048048556, 0.0005803919048048556, 0.0005803919048048556, 0.0005803919048048556, 0.0005803919048048556, 0.0005803919048048556, 0.0005803919048048556, 0.0005803919048048556, 0.0005803919048048556, 0.0005803919048048556, 0.0005803919048048556, 0.0005803919048048556, 0.0005803919048048556, 0.0005803919048048556, 0.0005803919048048556, 0.0005803919048048556, 0.0005803919048048556, 0.0005803919048048556, 0.0005803919048048556, 0.0005803919048048556, 0.0005803919048048556, 0.0005803919048048556, 0.0005803919048048556, 0.0005803919048048556, 0.0005803919048048556, 0.0005803919048048556, 0.0005803919048048556, 0.0005803919048048556, 0.0005803919048048556, 0.0005803919048048556, 0.0005803919048048556, 0.0005803919048048556, 0.0005803919048048556, 0.0005803919048048556, 0.0005803919048048556, 0.0005803919048048556, 0.0005803919048048556, 0.0005803919048048556, 0.0005803919048048556, 0.0005803919048048556, 0.0005803919048048556, 0.0005803919048048556, 0.0005803919048048556, 0.0005803919048048556, 0.0005803919048048556, 0.0005803919048048556, 0.0005803919048048556, 0.0005803919048048556, 0.0005803919048048556, 0.0005803919048048556, 0.0005803919048048556, 0.0005803919048048556, 0.0005803919048048556, 0.0005803919048048556, 0.0005803919048048556, 0.0005803919048048556, 0.0005803919048048556, 0.0005803919048048556, 0.0005803919048048556, 0.0005803919048048556, 0.0005803919048048556, 0.0005803919048048556, 0.0005803919048048556, 0.0005803919048048556, 0.0005803919048048556, 0.0005803919048048556, 0.0005803919048048556, 0.0005803919048048556, 0.0005803919048048556, 0.0005803919048048556, 0.0005803919048048556, 0.0005803919048048556, 0.0005803919048048556, 0.0005803919048048556, 0.0005803919048048556, 0.0005803919048048556, 0.0005803919048048556, 0.0005803919048048556, 0.0005803919048048556, 0.0005803919048048556, 0.0005803919048048556, 0.0005803919048048556, 0.0005803919048048556, 0.0005803919048048556, 0.0005803919048048556, 0.0005803919048048556, 0.0005803919048048556, 0.0005803919048048556, 0.0005803919048048556, 0.0005803919048048556, 0.0005803919048048556, 0.0005803919048048556, 0.0005803919048048556, 0.0005803919048048556, 0.0005803919048048556, 0.0005803919048048556, 0.0005803919048048556, 0.0005803919048048556, 0.0005803919048048556, 0.0005803919048048556, 0.0005803919048048556, 0.0005803919048048556, 0.0005803919048048556, 0.0005803919048048556, 0.0005803919048048556, 0.0005803919048048556, 0.0005803919048048556, 0.0005803919048048556, 0.0005803919048048556, 0.0005803919048048556, 0.0005803919048048556, 0.0005803919048048556, 0.0005803919048048556, 0.0005803919048048556, 0.0005803919048048556, 0.0005803919048048556, 0.0005803919048048556, 0.0005803919048048556, 0.0005803919048048556, 0.0005803919048048556, 0.0005803919048048556, 0.0005803919048048556, 0.0005803919048048556, 0.0005803919048048556, 0.0005803919048048556, 0.0005803919048048556, 0.0005803919048048556, 0.0005803919048048556, 0.0005803919048048556, 0.0005803919048048556, 0.0005803919048048556, 0.0005803919048048556, 0.0005803919048048556, 0.0005803919048048556, 0.0005803919048048556, 0.0005803919048048556, 0.0005803919048048556, 0.0005803919048048556, 0.0005803919048048556, 0.0005803919048048556, 0.0005803919048048556, 0.0005803919048048556, 0.0005803919048048556, 0.0005803919048048556, 0.0005803919048048556, 0.0005803919048048556, 0.0005803919048048556, 0.0005803919048048556, 0.0005803919048048556, 0.0005803919048048556, 0.0005803919048048556, 0.0005803919048048556, 0.0005803919048048556, 0.0005803919048048556, 0.0005803919048048556, 0.0005803919048048556, 0.0005803919048048556, 0.0005803919048048556, 0.0005803919048048556, 0.0005803919048048556, 0.0005803919048048556, 0.0005803919048048556, 0.0005803919048048556, 0.0005803919048048556, 0.0005803919048048556, 0.0005803919048048556, 0.0005803919048048556, 0.0005803919048048556, 0.0005803919048048556, 0.0005803919048048556, 0.0005803919048048556, 0.0005803919048048556, 0.0005803919048048556, 0.0005803919048048556, 0.0005803919048048556, 0.0005803919048048556, 0.0005803919048048556, 0.0005803919048048556, 0.0005803919048048556, 0.0005803919048048556, 0.0005803919048048556, 0.0005803919048048556, 0.0005803919048048556, 0.0005803919048048556, 0.0005803919048048556, 0.0005803919048048556, 0.0005803919048048556, 0.0005803919048048556, 0.0005803919048048556, 0.0005803919048048556, 0.0005803919048048556, 0.0005803919048048556, 0.0005803919048048556, 0.0005803919048048556, 0.0005803919048048556, 0.0005803919048048556, 0.0005803919048048556, 0.0005803919048048556, 0.0005803919048048556, 0.0005803919048048556, 0.0005803919048048556, 0.0005803919048048556, 0.0005803919048048556, 0.0005803919048048556, 0.0005803919048048556, 0.0005803919048048556, 0.0005803919048048556, 0.0005803919048048556, 0.0005803919048048556, 0.0005803919048048556, 0.0005803919048048556, 0.0005803919048048556, 0.0005803919048048556, 0.0005803919048048556, 0.0005803919048048556, 0.0005803919048048556, 0.0005803919048048556, 0.0005803919048048556, 0.0005803919048048556, 0.0005803919048048556, 0.0005803919048048556, 0.0005803919048048556, 0.0005803919048048556, 0.0005803919048048556, 0.0005803919048048556, 0.0005803919048048556, 0.0005803919048048556, 0.0005803919048048556, 0.0005803919048048556, 0.0005803919048048556, 0.0005803919048048556, 0.0005803919048048556, 0.0005803919048048556, 0.0005803919048048556, 0.0005803919048048556, 0.0005803919048048556, 0.0005803919048048556, 0.0005803919048048556, 0.0005803919048048556, 0.0005803919048048556, 0.0005803919048048556, 0.0005803919048048556, 0.0005803919048048556, 0.0005803919048048556, 0.0005803919048048556, 0.0005803919048048556, 0.0005803919048048556, 0.0005803919048048556, 0.0005803919048048556, 0.0005803919048048556, 0.0005803919048048556, 0.0005803919048048556, 0.0005803919048048556, 0.0005803919048048556, 0.0005803919048048556, 0.0005803919048048556, 0.0005803919048048556, 0.0005803919048048556, 0.0005803919048048556, 0.0005803919048048556, 0.0005803919048048556, 0.0005803919048048556, 0.0005803919048048556, 0.0005803919048048556, 0.0005803919048048556, 0.0005803919048048556, 0.0005803919048048556, 0.0005803919048048556, 0.0005803919048048556, 0.0005803919048048556, 0.0005803919048048556, 0.0005803919048048556, 0.0005803919048048556, 0.0005803919048048556, 0.0005803919048048556, 0.0005803919048048556, 0.0005803919048048556, 0.0005803919048048556, 0.0005803919048048556, 0.0005803919048048556, 0.0005803919048048556, 0.0005803919048048556, 0.0005803919048048556, 0.0005803919048048556, 0.0005803919048048556, 0.0005803919048048556, 0.0005803919048048556, 0.0005803919048048556, 0.0005803919048048556, 0.0005803919048048556, 0.0005803919048048556, 0.0005803919048048556, 0.0005803919048048556, 0.0005803919048048556, 0.0005803919048048556, 0.0005803919048048556, 0.0005803919048048556, 0.0005803919048048556, 0.0005803919048048556, 0.0005803919048048556, 0.0005803919048048556, 0.0005803919048048556, 0.0005803919048048556, 0.0005803919048048556, 0.0005803919048048556, 0.0005803919048048556, 0.0005803919048048556, 0.0005803919048048556, 0.0005803919048048556, 0.0005803919048048556, 0.0005803919048048556, 0.0005803919048048556, 0.0005803919048048556, 0.0005803919048048556, 0.0005803919048048556, 0.0005803919048048556, 0.0005803919048048556, 0.0005803919048048556, 0.0005803919048048556, 0.0005803919048048556, 0.0005803919048048556, 0.0005803919048048556, 0.0005803919048048556, 0.0005803919048048556, 0.0005803919048048556, 0.0005803919048048556, 0.0005803919048048556, 0.0005803919048048556, 0.0005803919048048556, 0.0005803919048048556, 0.0005803919048048556, 0.0005803919048048556, 0.0005803919048048556, 0.0005803919048048556, 0.0005803919048048556, 0.0005803919048048556, 0.0005803919048048556, 0.0005803919048048556, 0.0005803919048048556], \"Total\": [4.0, 1.0, 1.0, 1.0, 1.0, 1.0, 1.0, 1.0, 1.0, 1.0, 1.0, 1.0, 1.0, 1.0, 1.0, 1.0, 1.0, 1.0, 1.0, 1.0, 1.0, 1.0, 1.0, 1.0, 1.0, 1.0, 1.0, 1.0, 1.0, 1.0, 4.804595470428467, 1.956393837928772, 1.9556156396865845, 1.0082600116729736, 1.0082200765609741, 1.0081361532211304, 1.0081030130386353, 1.008067011833191, 1.0080541372299194, 1.0080490112304688, 1.0080095529556274, 1.0079662799835205, 1.0079538822174072, 1.0079405307769775, 1.0079345703125, 1.0079175233840942, 1.0079116821289062, 1.0078767538070679, 1.0078169107437134, 1.0078139305114746, 1.0077790021896362, 1.0076898336410522, 1.0076700448989868, 1.0076520442962646, 1.0076484680175781, 1.007564663887024, 1.0075607299804688, 1.0074479579925537, 1.0073908567428589, 1.0073590278625488, 1.0069409608840942, 1.0071855783462524, 1.0070216655731201, 1.0071146488189697, 1.007310390472412, 1.007031798362732, 1.0073590278625488, 1.0073908567428589, 1.0072664022445679, 1.007564663887024, 1.007203459739685, 1.0076898336410522, 1.0073273181915283, 1.0072165727615356, 1.0079662799835205, 1.0076700448989868, 1.0077790021896362, 1.0079538822174072, 1.0074479579925537, 1.0082600116729736, 1.0081361532211304, 1.0079345703125, 1.0078767538070679, 1.0075607299804688, 1.0079405307769775, 1.0076520442962646, 1.0079116821289062, 1.0076484680175781, 1.008067011833191, 1.0078139305114746, 4.804595470428467, 1.9556156396865845, 1.956393837928772, 1.0072165727615356, 1.007203459739685, 1.007031798362732, 1.0078169107437134, 1.0074479579925537, 1.0072664022445679, 1.0073273181915283, 1.0075607299804688, 1.0076484680175781, 1.0071146488189697, 1.0070216655731201, 1.0076520442962646, 1.0069409608840942, 1.0073908567428589, 1.0080095529556274, 1.0078139305114746, 1.0079175233840942, 1.0073590278625488, 1.007310390472412, 1.0076700448989868, 1.0071855783462524, 1.0080541372299194, 1.007564663887024, 1.0080490112304688, 1.0077790021896362, 1.0079116821289062, 1.0078767538070679, 1.0081030130386353, 1.0076898336410522, 1.0079405307769775, 1.9556156396865845, 4.804595470428467, 1.956393837928772, 1.0069409608840942, 1.0070216655731201, 1.007031798362732, 1.0071146488189697, 1.0071855783462524, 1.007203459739685, 1.0072165727615356, 1.0072664022445679, 1.007310390472412, 1.0073273181915283, 1.0073590278625488, 1.0073908567428589, 1.0074479579925537, 1.0075607299804688, 1.007564663887024, 1.0076484680175781, 1.0076520442962646, 1.0076700448989868, 1.0076898336410522, 1.0077790021896362, 1.0078139305114746, 1.0078169107437134, 1.0078767538070679, 1.0079116821289062, 1.0079175233840942, 1.0079345703125, 1.0079405307769775, 1.0079538822174072, 1.0079662799835205, 1.0080095529556274, 1.0080490112304688, 1.0082600116729736, 1.9556156396865845, 4.804595470428467, 1.956393837928772, 1.0081361532211304, 1.0081030130386353, 1.0082200765609741, 1.0069409608840942, 1.0070216655731201, 1.007031798362732, 1.0071146488189697, 1.0071855783462524, 1.007203459739685, 1.0072165727615356, 1.0072664022445679, 1.007310390472412, 1.0073273181915283, 1.0073590278625488, 1.0073908567428589, 1.0074479579925537, 1.0075607299804688, 1.007564663887024, 1.0076484680175781, 1.0076520442962646, 1.0076700448989868, 1.0076898336410522, 1.0077790021896362, 1.0078139305114746, 1.0078169107437134, 1.0078767538070679, 1.0079116821289062, 1.0079175233840942, 1.0079345703125, 1.0079405307769775, 1.0079538822174072, 1.0079662799835205, 1.0080095529556274, 1.0080490112304688, 1.0082600116729736, 1.9556156396865845, 4.804595470428467, 1.956393837928772, 1.0081361532211304, 1.0081030130386353, 1.0082200765609741, 1.0069409608840942, 1.0070216655731201, 1.007031798362732, 1.0071146488189697, 1.0071855783462524, 1.007203459739685, 1.0072165727615356, 1.0072664022445679, 1.007310390472412, 1.0073273181915283, 1.0073590278625488, 1.0073908567428589, 1.0074479579925537, 1.0075607299804688, 1.007564663887024, 1.0076484680175781, 1.0076520442962646, 1.0076700448989868, 1.0076898336410522, 1.0077790021896362, 1.0078139305114746, 1.0078169107437134, 1.0078767538070679, 1.0079116821289062, 1.0079175233840942, 1.0079345703125, 1.0079405307769775, 1.0079538822174072, 1.0079662799835205, 1.0080095529556274, 1.0080490112304688, 1.0082600116729736, 1.9556156396865845, 4.804595470428467, 1.956393837928772, 1.0081361532211304, 1.0081030130386353, 1.0082200765609741, 1.0069409608840942, 1.0070216655731201, 1.007031798362732, 1.0071146488189697, 1.0071855783462524, 1.007203459739685, 1.0072165727615356, 1.0072664022445679, 1.007310390472412, 1.0073273181915283, 1.0073590278625488, 1.0073908567428589, 1.0074479579925537, 1.0075607299804688, 1.007564663887024, 1.0076484680175781, 1.0076520442962646, 1.0076700448989868, 1.0076898336410522, 1.0077790021896362, 1.0078139305114746, 1.0078169107437134, 1.0078767538070679, 1.0079116821289062, 1.0079175233840942, 1.0079345703125, 1.0079405307769775, 1.0079538822174072, 1.0079662799835205, 1.0080095529556274, 1.0080490112304688, 1.0082600116729736, 1.9556156396865845, 4.804595470428467, 1.956393837928772, 1.0081361532211304, 1.0081030130386353, 1.0082200765609741, 1.0069409608840942, 1.0070216655731201, 1.007031798362732, 1.0071146488189697, 1.0071855783462524, 1.007203459739685, 1.0072165727615356, 1.0072664022445679, 1.007310390472412, 1.0073273181915283, 1.0073590278625488, 1.0073908567428589, 1.0074479579925537, 1.0075607299804688, 1.007564663887024, 1.0076484680175781, 1.0076520442962646, 1.0076700448989868, 1.0076898336410522, 1.0077790021896362, 1.0078139305114746, 1.0078169107437134, 1.0078767538070679, 1.0079116821289062, 1.0079175233840942, 1.0079345703125, 1.0079405307769775, 1.0079538822174072, 1.0079662799835205, 1.0080095529556274, 1.0080490112304688, 1.0082600116729736, 1.9556156396865845, 4.804595470428467, 1.956393837928772, 1.0081361532211304, 1.0081030130386353, 1.0082200765609741, 1.0069409608840942, 1.0070216655731201, 1.007031798362732, 1.0071146488189697, 1.0071855783462524, 1.007203459739685, 1.0072165727615356, 1.0072664022445679, 1.007310390472412, 1.0073273181915283, 1.0073590278625488, 1.0073908567428589, 1.0074479579925537, 1.0075607299804688, 1.007564663887024, 1.0076484680175781, 1.0076520442962646, 1.0076700448989868, 1.0076898336410522, 1.0077790021896362, 1.0078139305114746, 1.0078169107437134, 1.0078767538070679, 1.0079116821289062, 1.0079175233840942, 1.0079345703125, 1.0079405307769775, 1.0079538822174072, 1.0079662799835205, 1.0080095529556274, 1.0080490112304688, 1.0082600116729736, 1.9556156396865845, 4.804595470428467, 1.956393837928772, 1.0081361532211304, 1.0081030130386353, 1.0082200765609741, 1.0069409608840942, 1.0070216655731201, 1.007031798362732, 1.0071146488189697, 1.0071855783462524, 1.007203459739685, 1.0072165727615356, 1.0072664022445679, 1.007310390472412, 1.0073273181915283, 1.0073590278625488, 1.0073908567428589, 1.0074479579925537, 1.0075607299804688, 1.007564663887024, 1.0076484680175781, 1.0076520442962646, 1.0076700448989868, 1.0076898336410522, 1.0077790021896362, 1.0078139305114746, 1.0078169107437134, 1.0078767538070679, 1.0079116821289062, 1.0079175233840942, 1.0079345703125, 1.0079405307769775, 1.0079538822174072, 1.0079662799835205, 1.0080095529556274, 1.0080490112304688, 1.0082600116729736, 1.9556156396865845, 4.804595470428467, 1.956393837928772, 1.0081361532211304, 1.0081030130386353, 1.0082200765609741, 1.0069409608840942, 1.0070216655731201, 1.007031798362732, 1.0071146488189697, 1.0071855783462524, 1.007203459739685, 1.0072165727615356, 1.0072664022445679, 1.007310390472412, 1.0073273181915283, 1.0073590278625488, 1.0073908567428589, 1.0074479579925537, 1.0075607299804688, 1.007564663887024, 1.0076484680175781, 1.0076520442962646, 1.0076700448989868, 1.0076898336410522, 1.0077790021896362, 1.0078139305114746, 1.0078169107437134, 1.0078767538070679, 1.0079116821289062, 1.0079175233840942, 1.0079345703125, 1.0079405307769775, 1.0079538822174072, 1.0079662799835205, 1.0080095529556274, 1.0080490112304688, 1.0082600116729736, 1.9556156396865845, 4.804595470428467, 1.956393837928772, 1.0081361532211304, 1.0081030130386353, 1.0082200765609741, 1.0069409608840942, 1.0070216655731201, 1.007031798362732, 1.0071146488189697, 1.0071855783462524, 1.007203459739685, 1.0072165727615356, 1.0072664022445679, 1.007310390472412, 1.0073273181915283, 1.0073590278625488, 1.0073908567428589, 1.0074479579925537, 1.0075607299804688, 1.007564663887024, 1.0076484680175781, 1.0076520442962646, 1.0076700448989868, 1.0076898336410522, 1.0077790021896362, 1.0078139305114746, 1.0078169107437134, 1.0078767538070679, 1.0079116821289062, 1.0079175233840942, 1.0079345703125, 1.0079405307769775, 1.0079538822174072, 1.0079662799835205, 1.0080095529556274, 1.0080490112304688, 1.0082600116729736, 1.9556156396865845, 4.804595470428467, 1.956393837928772, 1.0081361532211304, 1.0081030130386353, 1.0082200765609741, 1.0069409608840942, 1.0070216655731201, 1.007031798362732, 1.0071146488189697, 1.0071855783462524, 1.007203459739685, 1.0072165727615356, 1.0072664022445679, 1.007310390472412, 1.0073273181915283, 1.0073590278625488, 1.0073908567428589, 1.0074479579925537, 1.0075607299804688, 1.007564663887024, 1.0076484680175781, 1.0076520442962646, 1.0076700448989868, 1.0076898336410522, 1.0077790021896362, 1.0078139305114746, 1.0078169107437134, 1.0078767538070679, 1.0079116821289062, 1.0079175233840942, 1.0079345703125, 1.0079405307769775, 1.0079538822174072, 1.0079662799835205, 1.0080095529556274, 1.0080490112304688, 1.0082600116729736, 1.9556156396865845, 4.804595470428467, 1.956393837928772, 1.0081361532211304, 1.0081030130386353, 1.0082200765609741, 1.0069409608840942, 1.0070216655731201, 1.007031798362732, 1.0071146488189697, 1.0071855783462524, 1.007203459739685, 1.0072165727615356, 1.0072664022445679, 1.007310390472412, 1.0073273181915283, 1.0073590278625488, 1.0073908567428589, 1.0074479579925537, 1.0075607299804688, 1.007564663887024, 1.0076484680175781, 1.0076520442962646, 1.0076700448989868, 1.0076898336410522, 1.0077790021896362, 1.0078139305114746, 1.0078169107437134, 1.0078767538070679, 1.0079116821289062, 1.0079175233840942, 1.0079345703125, 1.0079405307769775, 1.0079538822174072, 1.0079662799835205, 1.0080095529556274, 1.0080490112304688, 1.0082600116729736, 1.9556156396865845, 4.804595470428467, 1.956393837928772, 1.0081361532211304, 1.0081030130386353, 1.0082200765609741, 1.0069409608840942, 1.0070216655731201, 1.007031798362732, 1.0071146488189697, 1.0071855783462524, 1.007203459739685, 1.0072165727615356, 1.0072664022445679, 1.007310390472412, 1.0073273181915283, 1.0073590278625488, 1.0073908567428589, 1.0074479579925537, 1.0075607299804688, 1.007564663887024, 1.0076484680175781, 1.0076520442962646, 1.0076700448989868, 1.0076898336410522, 1.0077790021896362, 1.0078139305114746, 1.0078169107437134, 1.0078767538070679, 1.0079116821289062, 1.0079175233840942, 1.0079345703125, 1.0079405307769775, 1.0079538822174072, 1.0079662799835205, 1.0080095529556274, 1.0080490112304688, 1.0082600116729736, 1.9556156396865845, 4.804595470428467, 1.956393837928772, 1.0081361532211304, 1.0081030130386353, 1.0082200765609741, 1.0069409608840942, 1.0070216655731201, 1.007031798362732, 1.0071146488189697, 1.0071855783462524, 1.007203459739685, 1.0072165727615356, 1.0072664022445679, 1.007310390472412, 1.0073273181915283, 1.0073590278625488, 1.0073908567428589, 1.0074479579925537, 1.0075607299804688, 1.007564663887024, 1.0076484680175781, 1.0076520442962646, 1.0076700448989868, 1.0076898336410522, 1.0077790021896362, 1.0078139305114746, 1.0078169107437134, 1.0078767538070679, 1.0079116821289062, 1.0079175233840942, 1.0079345703125, 1.0079405307769775, 1.0079538822174072, 1.0079662799835205, 1.0080095529556274, 1.0080490112304688, 1.0082600116729736, 1.9556156396865845, 4.804595470428467, 1.956393837928772, 1.0081361532211304, 1.0081030130386353, 1.0082200765609741, 1.0069409608840942, 1.0070216655731201, 1.007031798362732, 1.0071146488189697, 1.0071855783462524, 1.007203459739685, 1.0072165727615356, 1.0072664022445679, 1.007310390472412, 1.0073273181915283, 1.0073590278625488, 1.0073908567428589, 1.0074479579925537, 1.0075607299804688, 1.007564663887024, 1.0076484680175781, 1.0076520442962646, 1.0076700448989868, 1.0076898336410522, 1.0077790021896362, 1.0078139305114746, 1.0078169107437134, 1.0078767538070679, 1.0079116821289062, 1.0079175233840942, 1.0079345703125, 1.0079405307769775, 1.0079538822174072, 1.0079662799835205, 1.0080095529556274, 1.0080490112304688, 1.0082600116729736, 1.9556156396865845, 4.804595470428467, 1.956393837928772, 1.0081361532211304, 1.0081030130386353, 1.0082200765609741, 1.0069409608840942, 1.0070216655731201, 1.007031798362732, 1.0071146488189697, 1.0071855783462524, 1.007203459739685, 1.0072165727615356, 1.0072664022445679, 1.007310390472412, 1.0073273181915283, 1.0073590278625488, 1.0073908567428589, 1.0074479579925537, 1.0075607299804688, 1.007564663887024, 1.0076484680175781, 1.0076520442962646, 1.0076700448989868, 1.0076898336410522, 1.0077790021896362, 1.0078139305114746, 1.0078169107437134, 1.0078767538070679, 1.0079116821289062, 1.0079175233840942, 1.0079345703125, 1.0079405307769775, 1.0079538822174072, 1.0079662799835205, 1.0080095529556274, 1.0080490112304688, 1.0082600116729736, 1.9556156396865845, 4.804595470428467, 1.956393837928772, 1.0081361532211304, 1.0081030130386353, 1.0082200765609741, 1.0069409608840942, 1.0070216655731201, 1.007031798362732, 1.0071146488189697, 1.0071855783462524, 1.007203459739685, 1.0072165727615356, 1.0072664022445679, 1.007310390472412, 1.0073273181915283, 1.0073590278625488, 1.0073908567428589, 1.0074479579925537, 1.0075607299804688, 1.007564663887024, 1.0076484680175781, 1.0076520442962646, 1.0076700448989868, 1.0076898336410522, 1.0077790021896362, 1.0078139305114746, 1.0078169107437134, 1.0078767538070679, 1.0079116821289062, 1.0079175233840942, 1.0079345703125, 1.0079405307769775, 1.0079538822174072, 1.0079662799835205, 1.0080095529556274, 1.0080490112304688, 1.0082600116729736, 1.9556156396865845, 4.804595470428467, 1.956393837928772, 1.0081361532211304, 1.0081030130386353, 1.0082200765609741, 1.0069409608840942, 1.0070216655731201, 1.007031798362732, 1.0071146488189697, 1.0071855783462524, 1.007203459739685, 1.0072165727615356, 1.0072664022445679, 1.007310390472412, 1.0073273181915283, 1.0073590278625488, 1.0073908567428589, 1.0074479579925537, 1.0075607299804688, 1.007564663887024, 1.0076484680175781, 1.0076520442962646, 1.0076700448989868, 1.0076898336410522, 1.0077790021896362, 1.0078139305114746, 1.0078169107437134, 1.0078767538070679, 1.0079116821289062, 1.0079175233840942, 1.0079345703125, 1.0079405307769775, 1.0079538822174072, 1.0079662799835205, 1.0080095529556274, 1.0080490112304688, 1.0082600116729736, 1.9556156396865845, 4.804595470428467, 1.956393837928772, 1.0081361532211304, 1.0081030130386353, 1.0082200765609741], \"Category\": [\"Default\", \"Default\", \"Default\", \"Default\", \"Default\", \"Default\", \"Default\", \"Default\", \"Default\", \"Default\", \"Default\", \"Default\", \"Default\", \"Default\", \"Default\", \"Default\", \"Default\", \"Default\", \"Default\", \"Default\", \"Default\", \"Default\", \"Default\", \"Default\", \"Default\", \"Default\", \"Default\", \"Default\", \"Default\", \"Default\", \"Topic1\", \"Topic1\", \"Topic1\", \"Topic1\", \"Topic1\", \"Topic1\", \"Topic1\", \"Topic1\", \"Topic1\", \"Topic1\", \"Topic1\", \"Topic1\", \"Topic1\", \"Topic1\", \"Topic1\", \"Topic1\", \"Topic1\", \"Topic1\", \"Topic1\", \"Topic1\", \"Topic1\", \"Topic1\", \"Topic1\", \"Topic1\", \"Topic1\", \"Topic1\", \"Topic1\", \"Topic1\", \"Topic1\", \"Topic1\", \"Topic2\", \"Topic2\", \"Topic2\", \"Topic2\", \"Topic2\", \"Topic2\", \"Topic2\", \"Topic2\", \"Topic2\", \"Topic2\", \"Topic2\", \"Topic2\", \"Topic2\", \"Topic2\", \"Topic2\", \"Topic2\", \"Topic2\", \"Topic2\", \"Topic2\", \"Topic2\", \"Topic2\", \"Topic2\", \"Topic2\", \"Topic2\", \"Topic2\", \"Topic2\", \"Topic2\", \"Topic2\", \"Topic2\", \"Topic2\", \"Topic2\", \"Topic2\", \"Topic2\", \"Topic3\", \"Topic3\", \"Topic3\", \"Topic3\", \"Topic3\", \"Topic3\", \"Topic3\", \"Topic3\", \"Topic3\", \"Topic3\", \"Topic3\", \"Topic3\", \"Topic3\", \"Topic3\", \"Topic3\", \"Topic3\", \"Topic3\", \"Topic3\", \"Topic3\", \"Topic3\", \"Topic3\", \"Topic3\", \"Topic3\", \"Topic3\", \"Topic3\", \"Topic3\", \"Topic3\", \"Topic3\", \"Topic3\", \"Topic3\", \"Topic3\", \"Topic3\", \"Topic3\", \"Topic4\", \"Topic4\", \"Topic4\", \"Topic4\", \"Topic4\", \"Topic4\", \"Topic4\", \"Topic4\", \"Topic4\", \"Topic4\", \"Topic4\", \"Topic4\", \"Topic4\", \"Topic4\", \"Topic4\", \"Topic4\", \"Topic4\", \"Topic4\", \"Topic4\", \"Topic4\", \"Topic4\", \"Topic4\", \"Topic4\", \"Topic4\", \"Topic4\", \"Topic4\", \"Topic4\", \"Topic4\", \"Topic4\", \"Topic4\", \"Topic4\", \"Topic4\", \"Topic4\", \"Topic4\", \"Topic4\", \"Topic4\", \"Topic4\", \"Topic4\", \"Topic5\", \"Topic5\", \"Topic5\", \"Topic5\", \"Topic5\", \"Topic5\", \"Topic5\", \"Topic5\", \"Topic5\", \"Topic5\", \"Topic5\", \"Topic5\", \"Topic5\", \"Topic5\", \"Topic5\", \"Topic5\", \"Topic5\", \"Topic5\", \"Topic5\", \"Topic5\", \"Topic5\", \"Topic5\", \"Topic5\", \"Topic5\", \"Topic5\", \"Topic5\", \"Topic5\", \"Topic5\", \"Topic5\", \"Topic5\", \"Topic5\", \"Topic5\", \"Topic5\", \"Topic5\", \"Topic5\", \"Topic5\", \"Topic5\", \"Topic5\", \"Topic6\", \"Topic6\", \"Topic6\", \"Topic6\", \"Topic6\", \"Topic6\", \"Topic6\", \"Topic6\", \"Topic6\", \"Topic6\", \"Topic6\", \"Topic6\", \"Topic6\", \"Topic6\", \"Topic6\", \"Topic6\", \"Topic6\", \"Topic6\", \"Topic6\", \"Topic6\", \"Topic6\", \"Topic6\", \"Topic6\", \"Topic6\", \"Topic6\", \"Topic6\", \"Topic6\", \"Topic6\", \"Topic6\", \"Topic6\", \"Topic6\", \"Topic6\", \"Topic6\", \"Topic6\", \"Topic6\", \"Topic6\", \"Topic6\", \"Topic6\", \"Topic7\", \"Topic7\", \"Topic7\", \"Topic7\", \"Topic7\", \"Topic7\", \"Topic7\", \"Topic7\", \"Topic7\", \"Topic7\", \"Topic7\", \"Topic7\", \"Topic7\", \"Topic7\", \"Topic7\", \"Topic7\", \"Topic7\", \"Topic7\", \"Topic7\", \"Topic7\", \"Topic7\", \"Topic7\", \"Topic7\", \"Topic7\", \"Topic7\", \"Topic7\", \"Topic7\", \"Topic7\", \"Topic7\", \"Topic7\", \"Topic7\", \"Topic7\", \"Topic7\", \"Topic7\", \"Topic7\", \"Topic7\", \"Topic7\", \"Topic7\", \"Topic8\", \"Topic8\", \"Topic8\", \"Topic8\", \"Topic8\", \"Topic8\", \"Topic8\", \"Topic8\", \"Topic8\", \"Topic8\", \"Topic8\", \"Topic8\", \"Topic8\", \"Topic8\", \"Topic8\", \"Topic8\", \"Topic8\", \"Topic8\", \"Topic8\", \"Topic8\", \"Topic8\", \"Topic8\", \"Topic8\", \"Topic8\", \"Topic8\", \"Topic8\", \"Topic8\", \"Topic8\", \"Topic8\", \"Topic8\", \"Topic8\", \"Topic8\", \"Topic8\", \"Topic8\", \"Topic8\", \"Topic8\", \"Topic8\", \"Topic8\", \"Topic9\", \"Topic9\", \"Topic9\", \"Topic9\", \"Topic9\", \"Topic9\", \"Topic9\", \"Topic9\", \"Topic9\", \"Topic9\", \"Topic9\", \"Topic9\", \"Topic9\", \"Topic9\", \"Topic9\", \"Topic9\", \"Topic9\", \"Topic9\", \"Topic9\", \"Topic9\", \"Topic9\", \"Topic9\", \"Topic9\", \"Topic9\", \"Topic9\", \"Topic9\", \"Topic9\", \"Topic9\", \"Topic9\", \"Topic9\", \"Topic9\", \"Topic9\", \"Topic9\", \"Topic9\", \"Topic9\", \"Topic9\", \"Topic9\", \"Topic9\", \"Topic10\", \"Topic10\", \"Topic10\", \"Topic10\", \"Topic10\", \"Topic10\", \"Topic10\", \"Topic10\", \"Topic10\", \"Topic10\", \"Topic10\", \"Topic10\", \"Topic10\", \"Topic10\", \"Topic10\", \"Topic10\", \"Topic10\", \"Topic10\", \"Topic10\", \"Topic10\", \"Topic10\", \"Topic10\", \"Topic10\", \"Topic10\", \"Topic10\", \"Topic10\", \"Topic10\", \"Topic10\", \"Topic10\", \"Topic10\", \"Topic10\", \"Topic10\", \"Topic10\", \"Topic10\", \"Topic10\", \"Topic10\", \"Topic10\", \"Topic10\", \"Topic11\", \"Topic11\", \"Topic11\", \"Topic11\", \"Topic11\", \"Topic11\", \"Topic11\", \"Topic11\", \"Topic11\", \"Topic11\", \"Topic11\", \"Topic11\", \"Topic11\", \"Topic11\", \"Topic11\", \"Topic11\", \"Topic11\", \"Topic11\", \"Topic11\", \"Topic11\", \"Topic11\", \"Topic11\", \"Topic11\", \"Topic11\", \"Topic11\", \"Topic11\", \"Topic11\", \"Topic11\", \"Topic11\", \"Topic11\", \"Topic11\", \"Topic11\", \"Topic11\", \"Topic11\", \"Topic11\", \"Topic11\", \"Topic11\", \"Topic11\", \"Topic12\", \"Topic12\", \"Topic12\", \"Topic12\", \"Topic12\", \"Topic12\", \"Topic12\", \"Topic12\", \"Topic12\", \"Topic12\", \"Topic12\", \"Topic12\", \"Topic12\", \"Topic12\", \"Topic12\", \"Topic12\", \"Topic12\", \"Topic12\", \"Topic12\", \"Topic12\", \"Topic12\", \"Topic12\", \"Topic12\", \"Topic12\", \"Topic12\", \"Topic12\", \"Topic12\", \"Topic12\", \"Topic12\", \"Topic12\", \"Topic12\", \"Topic12\", \"Topic12\", \"Topic12\", \"Topic12\", \"Topic12\", \"Topic12\", \"Topic12\", \"Topic13\", \"Topic13\", \"Topic13\", \"Topic13\", \"Topic13\", \"Topic13\", \"Topic13\", \"Topic13\", \"Topic13\", \"Topic13\", \"Topic13\", \"Topic13\", \"Topic13\", \"Topic13\", \"Topic13\", \"Topic13\", \"Topic13\", \"Topic13\", \"Topic13\", \"Topic13\", \"Topic13\", \"Topic13\", \"Topic13\", \"Topic13\", \"Topic13\", \"Topic13\", \"Topic13\", \"Topic13\", \"Topic13\", \"Topic13\", \"Topic13\", \"Topic13\", \"Topic13\", \"Topic13\", \"Topic13\", \"Topic13\", \"Topic13\", \"Topic13\", \"Topic14\", \"Topic14\", \"Topic14\", \"Topic14\", \"Topic14\", \"Topic14\", \"Topic14\", \"Topic14\", \"Topic14\", \"Topic14\", \"Topic14\", \"Topic14\", \"Topic14\", \"Topic14\", \"Topic14\", \"Topic14\", \"Topic14\", \"Topic14\", \"Topic14\", \"Topic14\", \"Topic14\", \"Topic14\", \"Topic14\", \"Topic14\", \"Topic14\", \"Topic14\", \"Topic14\", \"Topic14\", \"Topic14\", \"Topic14\", \"Topic14\", \"Topic14\", \"Topic14\", \"Topic14\", \"Topic14\", \"Topic14\", \"Topic14\", \"Topic14\", \"Topic15\", \"Topic15\", \"Topic15\", \"Topic15\", \"Topic15\", \"Topic15\", \"Topic15\", \"Topic15\", \"Topic15\", \"Topic15\", \"Topic15\", \"Topic15\", \"Topic15\", \"Topic15\", \"Topic15\", \"Topic15\", \"Topic15\", \"Topic15\", \"Topic15\", \"Topic15\", \"Topic15\", \"Topic15\", \"Topic15\", \"Topic15\", \"Topic15\", \"Topic15\", \"Topic15\", \"Topic15\", \"Topic15\", \"Topic15\", \"Topic15\", \"Topic15\", \"Topic15\", \"Topic15\", \"Topic15\", \"Topic15\", \"Topic15\", \"Topic15\", \"Topic16\", \"Topic16\", \"Topic16\", \"Topic16\", \"Topic16\", \"Topic16\", \"Topic16\", \"Topic16\", \"Topic16\", \"Topic16\", \"Topic16\", \"Topic16\", \"Topic16\", \"Topic16\", \"Topic16\", \"Topic16\", \"Topic16\", \"Topic16\", \"Topic16\", \"Topic16\", \"Topic16\", \"Topic16\", \"Topic16\", \"Topic16\", \"Topic16\", \"Topic16\", \"Topic16\", \"Topic16\", \"Topic16\", \"Topic16\", \"Topic16\", \"Topic16\", \"Topic16\", \"Topic16\", \"Topic16\", \"Topic16\", \"Topic16\", \"Topic16\", \"Topic17\", \"Topic17\", \"Topic17\", \"Topic17\", \"Topic17\", \"Topic17\", \"Topic17\", \"Topic17\", \"Topic17\", \"Topic17\", \"Topic17\", \"Topic17\", \"Topic17\", \"Topic17\", \"Topic17\", \"Topic17\", \"Topic17\", \"Topic17\", \"Topic17\", \"Topic17\", \"Topic17\", \"Topic17\", \"Topic17\", \"Topic17\", \"Topic17\", \"Topic17\", \"Topic17\", \"Topic17\", \"Topic17\", \"Topic17\", \"Topic17\", \"Topic17\", \"Topic17\", \"Topic17\", \"Topic17\", \"Topic17\", \"Topic17\", \"Topic17\", \"Topic18\", \"Topic18\", \"Topic18\", \"Topic18\", \"Topic18\", \"Topic18\", \"Topic18\", \"Topic18\", \"Topic18\", \"Topic18\", \"Topic18\", \"Topic18\", \"Topic18\", \"Topic18\", \"Topic18\", \"Topic18\", \"Topic18\", \"Topic18\", \"Topic18\", \"Topic18\", \"Topic18\", \"Topic18\", \"Topic18\", \"Topic18\", \"Topic18\", \"Topic18\", \"Topic18\", \"Topic18\", \"Topic18\", \"Topic18\", \"Topic18\", \"Topic18\", \"Topic18\", \"Topic18\", \"Topic18\", \"Topic18\", \"Topic18\", \"Topic18\", \"Topic19\", \"Topic19\", \"Topic19\", \"Topic19\", \"Topic19\", \"Topic19\", \"Topic19\", \"Topic19\", \"Topic19\", \"Topic19\", \"Topic19\", \"Topic19\", \"Topic19\", \"Topic19\", \"Topic19\", \"Topic19\", \"Topic19\", \"Topic19\", \"Topic19\", \"Topic19\", \"Topic19\", \"Topic19\", \"Topic19\", \"Topic19\", \"Topic19\", \"Topic19\", \"Topic19\", \"Topic19\", \"Topic19\", \"Topic19\", \"Topic19\", \"Topic19\", \"Topic19\", \"Topic19\", \"Topic19\", \"Topic19\", \"Topic19\", \"Topic19\", \"Topic20\", \"Topic20\", \"Topic20\", \"Topic20\", \"Topic20\", \"Topic20\", \"Topic20\", \"Topic20\", \"Topic20\", \"Topic20\", \"Topic20\", \"Topic20\", \"Topic20\", \"Topic20\", \"Topic20\", \"Topic20\", \"Topic20\", \"Topic20\", \"Topic20\", \"Topic20\", \"Topic20\", \"Topic20\", \"Topic20\", \"Topic20\", \"Topic20\", \"Topic20\", \"Topic20\", \"Topic20\", \"Topic20\", \"Topic20\", \"Topic20\", \"Topic20\", \"Topic20\", \"Topic20\", \"Topic20\", \"Topic20\", \"Topic20\", \"Topic20\"], \"logprob\": [30.0, 29.0, 28.0, 27.0, 26.0, 25.0, 24.0, 23.0, 22.0, 21.0, 20.0, 19.0, 18.0, 17.0, 16.0, 15.0, 14.0, 13.0, 12.0, 11.0, 10.0, 9.0, 8.0, 7.0, 6.0, 5.0, 4.0, 3.0, 2.0, 1.0, -2.2513999938964844, -3.15339994430542, -3.1538000106811523, -3.8217999935150146, -3.821899890899658, -3.822000026702881, -3.822000026702881, -3.822000026702881, -3.822000026702881, -3.8220999240875244, -3.8220999240875244, -3.8220999240875244, -3.8220999240875244, -3.822200059890747, -3.822200059890747, -3.822200059890747, -3.822200059890747, -3.822200059890747, -3.8222999572753906, -3.8222999572753906, -3.8222999572753906, -3.8224000930786133, -3.8224000930786133, -3.822499990463257, -3.822499990463257, -3.822499990463257, -3.822499990463257, -3.822700023651123, -3.822700023651123, -3.8227999210357666, -3.680299997329712, -3.6821999549865723, -3.682800054550171, -3.6849000453948975, -3.6851000785827637, -3.6861000061035156, -3.6863999366760254, -3.689500093460083, -3.690000057220459, -3.6898999214172363, -3.6902999877929688, -3.6903998851776123, -3.6909000873565674, -3.6923999786376953, -3.691800117492676, -3.6928000450134277, -3.69320011138916, -3.6933000087738037, -3.694200038909912, -3.6933999061584473, -3.694000005722046, -3.6942999362945557, -3.694999933242798, -3.6956000328063965, -3.695499897003174, -3.6958999633789062, -3.6958999633789062, -3.6965999603271484, -3.696500062942505, -3.698199987411499, -3.589900016784668, -3.661600112915039, -3.66759991645813, -3.684499979019165, -3.686199903488159, -3.687000036239624, -3.686800003051758, -3.6874001026153564, -3.6879000663757324, -3.688199996948242, -3.6882998943328857, -3.689199924468994, -3.6898000240325928, -3.690000057220459, -3.6898999214172363, -3.6909000873565674, -3.6909000873565674, -3.6903998851776123, -3.690999984741211, -3.691499948501587, -3.6933000087738037, -3.6935999393463135, -3.6933999061584473, -3.694000005722046, -3.69350004196167, -3.6940999031066895, -3.6942999362945557, -3.695199966430664, -3.6953001022338867, -3.695499897003174, -3.6956000328063965, -3.696199893951416, -3.6963000297546387, -3.6505000591278076, -3.6098999977111816, -3.6600000858306885, -3.6888999938964844, -3.6888999938964844, -3.6888999938964844, -3.6888999938964844, -3.6888999938964844, -3.6888999938964844, -3.6888999938964844, -3.6888999938964844, -3.6888999938964844, -3.6888999938964844, -3.6888999938964844, -3.6888999938964844, -3.6888999938964844, -3.6888999938964844, -3.6888999938964844, -3.6888999938964844, -3.6888999938964844, -3.6888999938964844, -3.6888999938964844, -3.6888999938964844, -3.6888999938964844, -3.6888999938964844, -3.6888999938964844, -3.6888999938964844, -3.6888999938964844, -3.6888999938964844, -3.6888999938964844, -3.6888999938964844, -3.6888999938964844, -3.6888999938964844, -3.6888999938964844, -3.6888999938964844, -3.6888999938964844, -3.6888999938964844, -3.6888999938964844, -3.6888999938964844, -3.6888999938964844, -3.6888999938964844, -3.6888999938964844, -3.6888999938964844, -3.6888999938964844, -3.6888999938964844, -3.6888999938964844, -3.6888999938964844, -3.6888999938964844, -3.6888999938964844, -3.6888999938964844, -3.6888999938964844, -3.6888999938964844, -3.6888999938964844, -3.6888999938964844, -3.6888999938964844, -3.6888999938964844, -3.6888999938964844, -3.6888999938964844, -3.6888999938964844, -3.6888999938964844, -3.6888999938964844, -3.6888999938964844, -3.6888999938964844, -3.6888999938964844, -3.6888999938964844, -3.6888999938964844, -3.6888999938964844, -3.6888999938964844, -3.6888999938964844, -3.6888999938964844, -3.6888999938964844, -3.6888999938964844, -3.6888999938964844, -3.6888999938964844, -3.6888999938964844, -3.6888999938964844, -3.6888999938964844, -3.6888999938964844, -3.6888999938964844, -3.6888999938964844, -3.6888999938964844, -3.6888999938964844, -3.6888999938964844, -3.6888999938964844, -3.6888999938964844, -3.6888999938964844, -3.6888999938964844, -3.6888999938964844, -3.6888999938964844, -3.6888999938964844, -3.6888999938964844, -3.6888999938964844, -3.6888999938964844, -3.6888999938964844, -3.6888999938964844, -3.6888999938964844, -3.6888999938964844, -3.6888999938964844, -3.6888999938964844, -3.6888999938964844, -3.6888999938964844, -3.6888999938964844, -3.6888999938964844, -3.6888999938964844, -3.6888999938964844, -3.6888999938964844, -3.6888999938964844, -3.6888999938964844, -3.6888999938964844, -3.6888999938964844, -3.6888999938964844, -3.6888999938964844, -3.6888999938964844, -3.6888999938964844, -3.6888999938964844, -3.6888999938964844, -3.6888999938964844, -3.6888999938964844, -3.6888999938964844, -3.6888999938964844, -3.6888999938964844, -3.6888999938964844, -3.6888999938964844, -3.6888999938964844, -3.6888999938964844, -3.6888999938964844, -3.6888999938964844, -3.6888999938964844, -3.6888999938964844, -3.6888999938964844, -3.6888999938964844, -3.6888999938964844, -3.6888999938964844, -3.6888999938964844, -3.6888999938964844, -3.6888999938964844, -3.6888999938964844, -3.6888999938964844, -3.6888999938964844, -3.6888999938964844, -3.6888999938964844, -3.6888999938964844, -3.6888999938964844, -3.6888999938964844, -3.6888999938964844, -3.6888999938964844, -3.6888999938964844, -3.6888999938964844, -3.6888999938964844, -3.6888999938964844, -3.6888999938964844, -3.6888999938964844, -3.6888999938964844, -3.6888999938964844, -3.6888999938964844, -3.6888999938964844, -3.6888999938964844, -3.6888999938964844, -3.6888999938964844, -3.6888999938964844, -3.6888999938964844, -3.6888999938964844, -3.6888999938964844, -3.6888999938964844, -3.6888999938964844, -3.6888999938964844, -3.6888999938964844, -3.6888999938964844, -3.6888999938964844, -3.6888999938964844, -3.6888999938964844, -3.6888999938964844, -3.6888999938964844, -3.6888999938964844, -3.6888999938964844, -3.6888999938964844, -3.6888999938964844, -3.6888999938964844, -3.6888999938964844, -3.6888999938964844, -3.6888999938964844, -3.6888999938964844, -3.6888999938964844, -3.6888999938964844, -3.6888999938964844, -3.6888999938964844, -3.6888999938964844, -3.6888999938964844, -3.6888999938964844, -3.6888999938964844, -3.6888999938964844, -3.6888999938964844, -3.6888999938964844, -3.6888999938964844, -3.6888999938964844, -3.6888999938964844, -3.6888999938964844, -3.6888999938964844, -3.6888999938964844, -3.6888999938964844, -3.6888999938964844, -3.6888999938964844, -3.6888999938964844, -3.6888999938964844, -3.6888999938964844, -3.6888999938964844, -3.6888999938964844, -3.6888999938964844, -3.6888999938964844, -3.6888999938964844, -3.6888999938964844, -3.6888999938964844, -3.6888999938964844, -3.6888999938964844, -3.6888999938964844, -3.6888999938964844, -3.6888999938964844, -3.6888999938964844, -3.6888999938964844, -3.6888999938964844, -3.6888999938964844, -3.6888999938964844, -3.6888999938964844, -3.6888999938964844, -3.6888999938964844, -3.6888999938964844, -3.6888999938964844, -3.6888999938964844, -3.6888999938964844, -3.6888999938964844, -3.6888999938964844, -3.6888999938964844, -3.6888999938964844, -3.6888999938964844, -3.6888999938964844, -3.6888999938964844, -3.6888999938964844, -3.6888999938964844, -3.6888999938964844, -3.6888999938964844, -3.6888999938964844, -3.6888999938964844, -3.6888999938964844, -3.6888999938964844, -3.6888999938964844, -3.6888999938964844, -3.6888999938964844, -3.6888999938964844, -3.6888999938964844, -3.6888999938964844, -3.6888999938964844, -3.6888999938964844, -3.6888999938964844, -3.6888999938964844, -3.6888999938964844, -3.6888999938964844, -3.6888999938964844, -3.6888999938964844, -3.6888999938964844, -3.6888999938964844, -3.6888999938964844, -3.6888999938964844, -3.6888999938964844, -3.6888999938964844, -3.6888999938964844, -3.6888999938964844, -3.6888999938964844, -3.6888999938964844, -3.6888999938964844, -3.6888999938964844, -3.6888999938964844, -3.6888999938964844, -3.6888999938964844, -3.6888999938964844, -3.6888999938964844, -3.6888999938964844, -3.6888999938964844, -3.6888999938964844, -3.6888999938964844, -3.6888999938964844, -3.6888999938964844, -3.6888999938964844, -3.6888999938964844, -3.6888999938964844, -3.6888999938964844, -3.6888999938964844, -3.6888999938964844, -3.6888999938964844, -3.6888999938964844, -3.6888999938964844, -3.6888999938964844, -3.6888999938964844, -3.6888999938964844, -3.6888999938964844, -3.6888999938964844, -3.6888999938964844, -3.6888999938964844, -3.6888999938964844, -3.6888999938964844, -3.6888999938964844, -3.6888999938964844, -3.6888999938964844, -3.6888999938964844, -3.6888999938964844, -3.6888999938964844, -3.6888999938964844, -3.6888999938964844, -3.6888999938964844, -3.6888999938964844, -3.6888999938964844, -3.6888999938964844, -3.6888999938964844, -3.6888999938964844, -3.6888999938964844, -3.6888999938964844, -3.6888999938964844, -3.6888999938964844, -3.6888999938964844, -3.6888999938964844, -3.6888999938964844, -3.6888999938964844, -3.6888999938964844, -3.6888999938964844, -3.6888999938964844, -3.6888999938964844, -3.6888999938964844, -3.6888999938964844, -3.6888999938964844, -3.6888999938964844, -3.6888999938964844, -3.6888999938964844, -3.6888999938964844, -3.6888999938964844, -3.6888999938964844, -3.6888999938964844, -3.6888999938964844, -3.6888999938964844, -3.6888999938964844, -3.6888999938964844, -3.6888999938964844, -3.6888999938964844, -3.6888999938964844, -3.6888999938964844, -3.6888999938964844, -3.6888999938964844, -3.6888999938964844, -3.6888999938964844, -3.6888999938964844, -3.6888999938964844, -3.6888999938964844, -3.6888999938964844, -3.6888999938964844, -3.6888999938964844, -3.6888999938964844, -3.6888999938964844, -3.6888999938964844, -3.6888999938964844, -3.6888999938964844, -3.6888999938964844, -3.6888999938964844, -3.6888999938964844, -3.6888999938964844, -3.6888999938964844, -3.6888999938964844, -3.6888999938964844, -3.6888999938964844, -3.6888999938964844, -3.6888999938964844, -3.6888999938964844, -3.6888999938964844, -3.6888999938964844, -3.6888999938964844, -3.6888999938964844, -3.6888999938964844, -3.6888999938964844, -3.6888999938964844, -3.6888999938964844, -3.6888999938964844, -3.6888999938964844, -3.6888999938964844, -3.6888999938964844, -3.6888999938964844, -3.6888999938964844, -3.6888999938964844, -3.6888999938964844, -3.6888999938964844, -3.6888999938964844, -3.6888999938964844, -3.6888999938964844, -3.6888999938964844, -3.6888999938964844, -3.6888999938964844, -3.6888999938964844, -3.6888999938964844, -3.6888999938964844, -3.6888999938964844, -3.6888999938964844, -3.6888999938964844, -3.6888999938964844, -3.6888999938964844, -3.6888999938964844, -3.6888999938964844, -3.6888999938964844, -3.6888999938964844, -3.6888999938964844, -3.6888999938964844, -3.6888999938964844, -3.6888999938964844, -3.6888999938964844, -3.6888999938964844, -3.6888999938964844, -3.6888999938964844, -3.6888999938964844, -3.6888999938964844, -3.6888999938964844, -3.6888999938964844, -3.6888999938964844, -3.6888999938964844, -3.6888999938964844, -3.6888999938964844, -3.6888999938964844, -3.6888999938964844, -3.6888999938964844, -3.6888999938964844, -3.6888999938964844, -3.6888999938964844, -3.6888999938964844, -3.6888999938964844, -3.6888999938964844, -3.6888999938964844, -3.6888999938964844, -3.6888999938964844, -3.6888999938964844, -3.6888999938964844, -3.6888999938964844, -3.6888999938964844, -3.6888999938964844, -3.6888999938964844, -3.6888999938964844, -3.6888999938964844, -3.6888999938964844, -3.6888999938964844, -3.6888999938964844, -3.6888999938964844, -3.6888999938964844, -3.6888999938964844, -3.6888999938964844, -3.6888999938964844, -3.6888999938964844, -3.6888999938964844, -3.6888999938964844, -3.6888999938964844, -3.6888999938964844, -3.6888999938964844, -3.6888999938964844, -3.6888999938964844, -3.6888999938964844, -3.6888999938964844, -3.6888999938964844, -3.6888999938964844, -3.6888999938964844, -3.6888999938964844, -3.6888999938964844, -3.6888999938964844, -3.6888999938964844, -3.6888999938964844, -3.6888999938964844, -3.6888999938964844, -3.6888999938964844, -3.6888999938964844, -3.6888999938964844, -3.6888999938964844, -3.6888999938964844, -3.6888999938964844, -3.6888999938964844, -3.6888999938964844, -3.6888999938964844, -3.6888999938964844, -3.6888999938964844, -3.6888999938964844, -3.6888999938964844, -3.6888999938964844, -3.6888999938964844, -3.6888999938964844, -3.6888999938964844, -3.6888999938964844, -3.6888999938964844, -3.6888999938964844, -3.6888999938964844, -3.6888999938964844, -3.6888999938964844, -3.6888999938964844, -3.6888999938964844, -3.6888999938964844, -3.6888999938964844, -3.6888999938964844, -3.6888999938964844, -3.6888999938964844, -3.6888999938964844, -3.6888999938964844, -3.6888999938964844, -3.6888999938964844, -3.6888999938964844, -3.6888999938964844, -3.6888999938964844, -3.6888999938964844, -3.6888999938964844, -3.6888999938964844, -3.6888999938964844, -3.6888999938964844, -3.6888999938964844, -3.6888999938964844, -3.6888999938964844, -3.6888999938964844, -3.6888999938964844, -3.6888999938964844, -3.6888999938964844, -3.6888999938964844, -3.6888999938964844, -3.6888999938964844, -3.6888999938964844, -3.6888999938964844, -3.6888999938964844, -3.6888999938964844, -3.6888999938964844, -3.6888999938964844, -3.6888999938964844, -3.6888999938964844, -3.6888999938964844, -3.6888999938964844, -3.6888999938964844, -3.6888999938964844, -3.6888999938964844, -3.6888999938964844, -3.6888999938964844, -3.6888999938964844, -3.6888999938964844, -3.6888999938964844, -3.6888999938964844, -3.6888999938964844, -3.6888999938964844, -3.6888999938964844, -3.6888999938964844, -3.6888999938964844, -3.6888999938964844, -3.6888999938964844, -3.6888999938964844, -3.6888999938964844, -3.6888999938964844, -3.6888999938964844, -3.6888999938964844, -3.6888999938964844, -3.6888999938964844, -3.6888999938964844, -3.6888999938964844, -3.6888999938964844, -3.6888999938964844, -3.6888999938964844, -3.6888999938964844, -3.6888999938964844, -3.6888999938964844, -3.6888999938964844, -3.6888999938964844, -3.6888999938964844, -3.6888999938964844, -3.6888999938964844, -3.6888999938964844, -3.6888999938964844, -3.6888999938964844, -3.6888999938964844, -3.6888999938964844, -3.6888999938964844, -3.6888999938964844, -3.6888999938964844, -3.6888999938964844, -3.6888999938964844, -3.6888999938964844, -3.6888999938964844, -3.6888999938964844, -3.6888999938964844, -3.6888999938964844, -3.6888999938964844, -3.6888999938964844, -3.6888999938964844, -3.6888999938964844, -3.6888999938964844, -3.6888999938964844, -3.6888999938964844, -3.6888999938964844, -3.6888999938964844, -3.6888999938964844, -3.6888999938964844, -3.6888999938964844, -3.6888999938964844, -3.6888999938964844, -3.6888999938964844, -3.6888999938964844, -3.6888999938964844, -3.6888999938964844, -3.6888999938964844, -3.6888999938964844, -3.6888999938964844, -3.6888999938964844, -3.6888999938964844, -3.6888999938964844, -3.6888999938964844, -3.6888999938964844, -3.6888999938964844, -3.6888999938964844, -3.6888999938964844, -3.6888999938964844, -3.6888999938964844, -3.6888999938964844, -3.6888999938964844, -3.6888999938964844, -3.6888999938964844, -3.6888999938964844, -3.6888999938964844, -3.6888999938964844, -3.6888999938964844, -3.6888999938964844, -3.6888999938964844, -3.6888999938964844, -3.6888999938964844, -3.6888999938964844, -3.6888999938964844, -3.6888999938964844, -3.6888999938964844, -3.6888999938964844, -3.6888999938964844, -3.6888999938964844, -3.6888999938964844, -3.6888999938964844, -3.6888999938964844, -3.6888999938964844, -3.6888999938964844, -3.6888999938964844, -3.6888999938964844, -3.6888999938964844, -3.6888999938964844, -3.6888999938964844, -3.6888999938964844, -3.6888999938964844, -3.6888999938964844, -3.6888999938964844, -3.6888999938964844, -3.6888999938964844, -3.6888999938964844, -3.6888999938964844], \"loglift\": [30.0, 29.0, 28.0, 27.0, 26.0, 25.0, 24.0, 23.0, 22.0, 21.0, 20.0, 19.0, 18.0, 17.0, 16.0, 15.0, 14.0, 13.0, 12.0, 11.0, 10.0, 9.0, 8.0, 7.0, 6.0, 5.0, 4.0, 3.0, 2.0, 1.0, 0.007699999958276749, 0.00419999985024333, 0.00419999985024333, -0.00139999995008111, -0.00139999995008111, -0.00139999995008111, -0.00139999995008111, -0.00139999995008111, -0.00139999995008111, -0.00139999995008111, -0.00139999995008111, -0.00139999995008111, -0.00139999995008111, -0.00139999995008111, -0.00139999995008111, -0.00139999995008111, -0.00139999995008111, -0.00139999995008111, -0.00139999995008111, -0.00139999995008111, -0.00139999995008111, -0.00139999995008111, -0.00139999995008111, -0.00139999995008111, -0.00139999995008111, -0.00139999995008111, -0.00139999995008111, -0.00139999995008111, -0.00139999995008111, -0.00139999995008111, 0.14139999449253082, 0.13920000195503235, 0.1387999951839447, 0.13670000433921814, 0.13619999587535858, 0.1356000006198883, 0.13490000367164612, 0.13179999589920044, 0.131400004029274, 0.13120000064373016, 0.13109999895095825, 0.1306000053882599, 0.13040000200271606, 0.1290999948978424, 0.12890000641345978, 0.1281999945640564, 0.12759999930858612, 0.1273999959230423, 0.12700000405311584, 0.12700000405311584, 0.1264999955892563, 0.1264999955892563, 0.1257999986410141, 0.12549999356269836, 0.12530000507831573, 0.1251000016927719, 0.12479999661445618, 0.12439999729394913, 0.12409999966621399, 0.12269999831914902, -1.330899953842163, -0.503600001335144, -0.5101000070571899, 0.13699999451637268, 0.13529999554157257, 0.1347000002861023, 0.13410000503063202, 0.13379999995231628, 0.13349999487400055, 0.133200004696846, 0.13279999792575836, 0.13189999759197235, 0.13169999420642853, 0.1316000074148178, 0.13109999895095825, 0.13079999387264252, 0.13040000200271606, 0.13030000030994415, 0.1298999935388565, 0.12929999828338623, 0.12800000607967377, 0.12770000100135803, 0.12759999930858612, 0.1274999976158142, 0.12710000574588776, 0.12700000405311584, 0.12630000710487366, 0.1256999969482422, 0.12549999356269836, 0.12530000507831573, 0.12489999830722809, 0.12479999661445618, 0.12439999729394913, -0.4925999939441681, -1.3509000539779663, -0.5024999976158142, 0.13279999792575836, 0.13279999792575836, 0.13279999792575836, 0.13269999623298645, 0.13259999454021454, 0.13259999454021454, 0.13259999454021454, 0.13249999284744263, 0.13249999284744263, 0.13249999284744263, 0.1324000060558319, 0.1324000060558319, 0.13230000436306, 0.13220000267028809, 0.13220000267028809, 0.13210000097751617, 0.13210000097751617, 0.13210000097751617, 0.13210000097751617, 0.13199999928474426, 0.13199999928474426, 0.13199999928474426, 0.13189999759197235, 0.13189999759197235, 0.13189999759197235, 0.13189999759197235, 0.13189999759197235, 0.13179999589920044, 0.13179999589920044, 0.13179999589920044, 0.13169999420642853, 0.1315000057220459, -0.5309000015258789, -1.429800033569336, -0.5313000082969666, 0.13169999420642853, 0.13169999420642853, 0.1316000074148178, 0.13279999792575836, 0.13279999792575836, 0.13279999792575836, 0.13269999623298645, 0.13259999454021454, 0.13259999454021454, 0.13259999454021454, 0.13249999284744263, 0.13249999284744263, 0.13249999284744263, 0.1324000060558319, 0.1324000060558319, 0.13230000436306, 0.13220000267028809, 0.13220000267028809, 0.13210000097751617, 0.13210000097751617, 0.13210000097751617, 0.13210000097751617, 0.13199999928474426, 0.13199999928474426, 0.13199999928474426, 0.13189999759197235, 0.13189999759197235, 0.13189999759197235, 0.13189999759197235, 0.13189999759197235, 0.13179999589920044, 0.13179999589920044, 0.13179999589920044, 0.13169999420642853, 0.1315000057220459, -0.5309000015258789, -1.429800033569336, -0.5313000082969666, 0.13169999420642853, 0.13169999420642853, 0.1316000074148178, 0.13279999792575836, 0.13279999792575836, 0.13279999792575836, 0.13269999623298645, 0.13259999454021454, 0.13259999454021454, 0.13259999454021454, 0.13249999284744263, 0.13249999284744263, 0.13249999284744263, 0.1324000060558319, 0.1324000060558319, 0.13230000436306, 0.13220000267028809, 0.13220000267028809, 0.13210000097751617, 0.13210000097751617, 0.13210000097751617, 0.13210000097751617, 0.13199999928474426, 0.13199999928474426, 0.13199999928474426, 0.13189999759197235, 0.13189999759197235, 0.13189999759197235, 0.13189999759197235, 0.13189999759197235, 0.13179999589920044, 0.13179999589920044, 0.13179999589920044, 0.13169999420642853, 0.1315000057220459, -0.5309000015258789, -1.429800033569336, -0.5313000082969666, 0.13169999420642853, 0.13169999420642853, 0.1316000074148178, 0.13279999792575836, 0.13279999792575836, 0.13279999792575836, 0.13269999623298645, 0.13259999454021454, 0.13259999454021454, 0.13259999454021454, 0.13249999284744263, 0.13249999284744263, 0.13249999284744263, 0.1324000060558319, 0.1324000060558319, 0.13230000436306, 0.13220000267028809, 0.13220000267028809, 0.13210000097751617, 0.13210000097751617, 0.13210000097751617, 0.13210000097751617, 0.13199999928474426, 0.13199999928474426, 0.13199999928474426, 0.13189999759197235, 0.13189999759197235, 0.13189999759197235, 0.13189999759197235, 0.13189999759197235, 0.13179999589920044, 0.13179999589920044, 0.13179999589920044, 0.13169999420642853, 0.1315000057220459, -0.5309000015258789, -1.429800033569336, -0.5313000082969666, 0.13169999420642853, 0.13169999420642853, 0.1316000074148178, 0.13279999792575836, 0.13279999792575836, 0.13279999792575836, 0.13269999623298645, 0.13259999454021454, 0.13259999454021454, 0.13259999454021454, 0.13249999284744263, 0.13249999284744263, 0.13249999284744263, 0.1324000060558319, 0.1324000060558319, 0.13230000436306, 0.13220000267028809, 0.13220000267028809, 0.13210000097751617, 0.13210000097751617, 0.13210000097751617, 0.13210000097751617, 0.13199999928474426, 0.13199999928474426, 0.13199999928474426, 0.13189999759197235, 0.13189999759197235, 0.13189999759197235, 0.13189999759197235, 0.13189999759197235, 0.13179999589920044, 0.13179999589920044, 0.13179999589920044, 0.13169999420642853, 0.1315000057220459, -0.5309000015258789, -1.429800033569336, -0.5313000082969666, 0.13169999420642853, 0.13169999420642853, 0.1316000074148178, 0.13279999792575836, 0.13279999792575836, 0.13279999792575836, 0.13269999623298645, 0.13259999454021454, 0.13259999454021454, 0.13259999454021454, 0.13249999284744263, 0.13249999284744263, 0.13249999284744263, 0.1324000060558319, 0.1324000060558319, 0.13230000436306, 0.13220000267028809, 0.13220000267028809, 0.13210000097751617, 0.13210000097751617, 0.13210000097751617, 0.13210000097751617, 0.13199999928474426, 0.13199999928474426, 0.13199999928474426, 0.13189999759197235, 0.13189999759197235, 0.13189999759197235, 0.13189999759197235, 0.13189999759197235, 0.13179999589920044, 0.13179999589920044, 0.13179999589920044, 0.13169999420642853, 0.1315000057220459, -0.5309000015258789, -1.429800033569336, -0.5313000082969666, 0.13169999420642853, 0.13169999420642853, 0.1316000074148178, 0.13279999792575836, 0.13279999792575836, 0.13279999792575836, 0.13269999623298645, 0.13259999454021454, 0.13259999454021454, 0.13259999454021454, 0.13249999284744263, 0.13249999284744263, 0.13249999284744263, 0.1324000060558319, 0.1324000060558319, 0.13230000436306, 0.13220000267028809, 0.13220000267028809, 0.13210000097751617, 0.13210000097751617, 0.13210000097751617, 0.13210000097751617, 0.13199999928474426, 0.13199999928474426, 0.13199999928474426, 0.13189999759197235, 0.13189999759197235, 0.13189999759197235, 0.13189999759197235, 0.13189999759197235, 0.13179999589920044, 0.13179999589920044, 0.13179999589920044, 0.13169999420642853, 0.1315000057220459, -0.5309000015258789, -1.429800033569336, -0.5313000082969666, 0.13169999420642853, 0.13169999420642853, 0.1316000074148178, 0.13279999792575836, 0.13279999792575836, 0.13279999792575836, 0.13269999623298645, 0.13259999454021454, 0.13259999454021454, 0.13259999454021454, 0.13249999284744263, 0.13249999284744263, 0.13249999284744263, 0.1324000060558319, 0.1324000060558319, 0.13230000436306, 0.13220000267028809, 0.13220000267028809, 0.13210000097751617, 0.13210000097751617, 0.13210000097751617, 0.13210000097751617, 0.13199999928474426, 0.13199999928474426, 0.13199999928474426, 0.13189999759197235, 0.13189999759197235, 0.13189999759197235, 0.13189999759197235, 0.13189999759197235, 0.13179999589920044, 0.13179999589920044, 0.13179999589920044, 0.13169999420642853, 0.1315000057220459, -0.5309000015258789, -1.429800033569336, -0.5313000082969666, 0.13169999420642853, 0.13169999420642853, 0.1316000074148178, 0.13279999792575836, 0.13279999792575836, 0.13279999792575836, 0.13269999623298645, 0.13259999454021454, 0.13259999454021454, 0.13259999454021454, 0.13249999284744263, 0.13249999284744263, 0.13249999284744263, 0.1324000060558319, 0.1324000060558319, 0.13230000436306, 0.13220000267028809, 0.13220000267028809, 0.13210000097751617, 0.13210000097751617, 0.13210000097751617, 0.13210000097751617, 0.13199999928474426, 0.13199999928474426, 0.13199999928474426, 0.13189999759197235, 0.13189999759197235, 0.13189999759197235, 0.13189999759197235, 0.13189999759197235, 0.13179999589920044, 0.13179999589920044, 0.13179999589920044, 0.13169999420642853, 0.1315000057220459, -0.5309000015258789, -1.429800033569336, -0.5313000082969666, 0.13169999420642853, 0.13169999420642853, 0.1316000074148178, 0.13279999792575836, 0.13279999792575836, 0.13279999792575836, 0.13269999623298645, 0.13259999454021454, 0.13259999454021454, 0.13259999454021454, 0.13249999284744263, 0.13249999284744263, 0.13249999284744263, 0.1324000060558319, 0.1324000060558319, 0.13230000436306, 0.13220000267028809, 0.13220000267028809, 0.13210000097751617, 0.13210000097751617, 0.13210000097751617, 0.13210000097751617, 0.13199999928474426, 0.13199999928474426, 0.13199999928474426, 0.13189999759197235, 0.13189999759197235, 0.13189999759197235, 0.13189999759197235, 0.13189999759197235, 0.13179999589920044, 0.13179999589920044, 0.13179999589920044, 0.13169999420642853, 0.1315000057220459, -0.5309000015258789, -1.429800033569336, -0.5313000082969666, 0.13169999420642853, 0.13169999420642853, 0.1316000074148178, 0.13279999792575836, 0.13279999792575836, 0.13279999792575836, 0.13269999623298645, 0.13259999454021454, 0.13259999454021454, 0.13259999454021454, 0.13249999284744263, 0.13249999284744263, 0.13249999284744263, 0.1324000060558319, 0.1324000060558319, 0.13230000436306, 0.13220000267028809, 0.13220000267028809, 0.13210000097751617, 0.13210000097751617, 0.13210000097751617, 0.13210000097751617, 0.13199999928474426, 0.13199999928474426, 0.13199999928474426, 0.13189999759197235, 0.13189999759197235, 0.13189999759197235, 0.13189999759197235, 0.13189999759197235, 0.13179999589920044, 0.13179999589920044, 0.13179999589920044, 0.13169999420642853, 0.1315000057220459, -0.5309000015258789, -1.429800033569336, -0.5313000082969666, 0.13169999420642853, 0.13169999420642853, 0.1316000074148178, 0.13279999792575836, 0.13279999792575836, 0.13279999792575836, 0.13269999623298645, 0.13259999454021454, 0.13259999454021454, 0.13259999454021454, 0.13249999284744263, 0.13249999284744263, 0.13249999284744263, 0.1324000060558319, 0.1324000060558319, 0.13230000436306, 0.13220000267028809, 0.13220000267028809, 0.13210000097751617, 0.13210000097751617, 0.13210000097751617, 0.13210000097751617, 0.13199999928474426, 0.13199999928474426, 0.13199999928474426, 0.13189999759197235, 0.13189999759197235, 0.13189999759197235, 0.13189999759197235, 0.13189999759197235, 0.13179999589920044, 0.13179999589920044, 0.13179999589920044, 0.13169999420642853, 0.1315000057220459, -0.5309000015258789, -1.429800033569336, -0.5313000082969666, 0.13169999420642853, 0.13169999420642853, 0.1316000074148178, 0.13279999792575836, 0.13279999792575836, 0.13279999792575836, 0.13269999623298645, 0.13259999454021454, 0.13259999454021454, 0.13259999454021454, 0.13249999284744263, 0.13249999284744263, 0.13249999284744263, 0.1324000060558319, 0.1324000060558319, 0.13230000436306, 0.13220000267028809, 0.13220000267028809, 0.13210000097751617, 0.13210000097751617, 0.13210000097751617, 0.13210000097751617, 0.13199999928474426, 0.13199999928474426, 0.13199999928474426, 0.13189999759197235, 0.13189999759197235, 0.13189999759197235, 0.13189999759197235, 0.13189999759197235, 0.13179999589920044, 0.13179999589920044, 0.13179999589920044, 0.13169999420642853, 0.1315000057220459, -0.5309000015258789, -1.429800033569336, -0.5313000082969666, 0.13169999420642853, 0.13169999420642853, 0.1316000074148178, 0.13279999792575836, 0.13279999792575836, 0.13279999792575836, 0.13269999623298645, 0.13259999454021454, 0.13259999454021454, 0.13259999454021454, 0.13249999284744263, 0.13249999284744263, 0.13249999284744263, 0.1324000060558319, 0.1324000060558319, 0.13230000436306, 0.13220000267028809, 0.13220000267028809, 0.13210000097751617, 0.13210000097751617, 0.13210000097751617, 0.13210000097751617, 0.13199999928474426, 0.13199999928474426, 0.13199999928474426, 0.13189999759197235, 0.13189999759197235, 0.13189999759197235, 0.13189999759197235, 0.13189999759197235, 0.13179999589920044, 0.13179999589920044, 0.13179999589920044, 0.13169999420642853, 0.1315000057220459, -0.5309000015258789, -1.429800033569336, -0.5313000082969666, 0.13169999420642853, 0.13169999420642853, 0.1316000074148178, 0.13279999792575836, 0.13279999792575836, 0.13279999792575836, 0.13269999623298645, 0.13259999454021454, 0.13259999454021454, 0.13259999454021454, 0.13249999284744263, 0.13249999284744263, 0.13249999284744263, 0.1324000060558319, 0.1324000060558319, 0.13230000436306, 0.13220000267028809, 0.13220000267028809, 0.13210000097751617, 0.13210000097751617, 0.13210000097751617, 0.13210000097751617, 0.13199999928474426, 0.13199999928474426, 0.13199999928474426, 0.13189999759197235, 0.13189999759197235, 0.13189999759197235, 0.13189999759197235, 0.13189999759197235, 0.13179999589920044, 0.13179999589920044, 0.13179999589920044, 0.13169999420642853, 0.1315000057220459, -0.5309000015258789, -1.429800033569336, -0.5313000082969666, 0.13169999420642853, 0.13169999420642853, 0.1316000074148178, 0.13279999792575836, 0.13279999792575836, 0.13279999792575836, 0.13269999623298645, 0.13259999454021454, 0.13259999454021454, 0.13259999454021454, 0.13249999284744263, 0.13249999284744263, 0.13249999284744263, 0.1324000060558319, 0.1324000060558319, 0.13230000436306, 0.13220000267028809, 0.13220000267028809, 0.13210000097751617, 0.13210000097751617, 0.13210000097751617, 0.13210000097751617, 0.13199999928474426, 0.13199999928474426, 0.13199999928474426, 0.13189999759197235, 0.13189999759197235, 0.13189999759197235, 0.13189999759197235, 0.13189999759197235, 0.13179999589920044, 0.13179999589920044, 0.13179999589920044, 0.13169999420642853, 0.1315000057220459, -0.5309000015258789, -1.429800033569336, -0.5313000082969666, 0.13169999420642853, 0.13169999420642853, 0.1316000074148178, 0.13279999792575836, 0.13279999792575836, 0.13279999792575836, 0.13269999623298645, 0.13259999454021454, 0.13259999454021454, 0.13259999454021454, 0.13249999284744263, 0.13249999284744263, 0.13249999284744263, 0.1324000060558319, 0.1324000060558319, 0.13230000436306, 0.13220000267028809, 0.13220000267028809, 0.13210000097751617, 0.13210000097751617, 0.13210000097751617, 0.13210000097751617, 0.13199999928474426, 0.13199999928474426, 0.13199999928474426, 0.13189999759197235, 0.13189999759197235, 0.13189999759197235, 0.13189999759197235, 0.13189999759197235, 0.13179999589920044, 0.13179999589920044, 0.13179999589920044, 0.13169999420642853, 0.1315000057220459, -0.5309000015258789, -1.429800033569336, -0.5313000082969666, 0.13169999420642853, 0.13169999420642853, 0.1316000074148178]}, \"token.table\": {\"Topic\": [1, 1, 1, 1, 1, 1, 1, 1, 1, 1, 1, 1, 1, 1, 1, 1, 1, 1, 1, 1, 1, 1, 1, 1, 1, 1, 1, 1, 1, 1, 1, 1, 1, 1, 1, 1, 1, 1, 1, 1], \"Freq\": [0.9921504259109497, 0.992492139339447, 0.9928480386734009, 0.9920966625213623, 1.040670394897461, 0.9920541048049927, 0.9921278953552246, 1.0226958990097046, 0.9923688769340515, 0.9924960136413574, 0.9922437071800232, 0.9926633834838867, 0.9918076395988464, 0.993017315864563, 0.9921848177909851, 0.9920152425765991, 0.9922466278076172, 0.9930272698402405, 0.9924095869064331, 1.0222890377044678, 0.9919295310974121, 0.9928351044654846, 0.9926071166992188, 0.9929355978965759, 0.9919975399971008, 0.9928656816482544, 0.9927859902381897, 0.992742657661438, 0.992010235786438, 0.9921220541000366, 0.9923883080482483, 0.9921088814735413, 0.9927259683609009, 0.9918469190597534, 0.9922810196876526, 0.9926947355270386, 0.9919621348381042, 0.9931069016456604, 0.9921446442604065, 0.9924060702323914], \"Term\": [\"addition\", \"body\", \"bring\", \"call\", \"car\", \"could\", \"day\", \"door\", \"early\", \"engine\", \"enlighten\", \"funky\", \"history\", \"host\", \"info\", \"know\", \"late\", \"lerxst\", \"line\", \"look\", \"mail\", \"make\", \"model\", \"name\", \"neighborhood\", \"nntp_poste\", \"park\", \"production\", \"really\", \"rest\", \"see\", \"separate\", \"small\", \"spec\", \"sport\", \"thank\", \"thing\", \"where\", \"wonder\", \"year\"]}, \"R\": 30, \"lambda.step\": 0.01, \"plot.opts\": {\"xlab\": \"PC1\", \"ylab\": \"PC2\"}, \"topic.order\": [3, 19, 12, 20, 9, 2, 4, 5, 6, 7, 8, 10, 11, 13, 14, 15, 16, 17, 18, 1]};\n",
       "\n",
       "function LDAvis_load_lib(url, callback){\n",
       "  var s = document.createElement('script');\n",
       "  s.src = url;\n",
       "  s.async = true;\n",
       "  s.onreadystatechange = s.onload = callback;\n",
       "  s.onerror = function(){console.warn(\"failed to load library \" + url);};\n",
       "  document.getElementsByTagName(\"head\")[0].appendChild(s);\n",
       "}\n",
       "\n",
       "if(typeof(LDAvis) !== \"undefined\"){\n",
       "   // already loaded: just create the visualization\n",
       "   !function(LDAvis){\n",
       "       new LDAvis(\"#\" + \"ldavis_el172501406031422326088567415860\", ldavis_el172501406031422326088567415860_data);\n",
       "   }(LDAvis);\n",
       "}else if(typeof define === \"function\" && define.amd){\n",
       "   // require.js is available: use it to load d3/LDAvis\n",
       "   require.config({paths: {d3: \"https://cdnjs.cloudflare.com/ajax/libs/d3/3.5.5/d3.min\"}});\n",
       "   require([\"d3\"], function(d3){\n",
       "      window.d3 = d3;\n",
       "      LDAvis_load_lib(\"https://cdn.rawgit.com/bmabey/pyLDAvis/files/ldavis.v1.0.0.js\", function(){\n",
       "        new LDAvis(\"#\" + \"ldavis_el172501406031422326088567415860\", ldavis_el172501406031422326088567415860_data);\n",
       "      });\n",
       "    });\n",
       "}else{\n",
       "    // require.js not available: dynamically load d3 & LDAvis\n",
       "    LDAvis_load_lib(\"https://cdnjs.cloudflare.com/ajax/libs/d3/3.5.5/d3.min.js\", function(){\n",
       "         LDAvis_load_lib(\"https://cdn.rawgit.com/bmabey/pyLDAvis/files/ldavis.v1.0.0.js\", function(){\n",
       "                 new LDAvis(\"#\" + \"ldavis_el172501406031422326088567415860\", ldavis_el172501406031422326088567415860_data);\n",
       "            })\n",
       "         });\n",
       "}\n",
       "</script>"
      ],
      "text/plain": [
       "PreparedData(topic_coordinates=                x           y  topics  cluster       Freq\n",
       "topic                                                    \n",
       "2      -10.878068   10.538728       1        1  98.988770\n",
       "18     -60.884026  -75.591820       2        1   0.076637\n",
       "11      -2.336119  -53.289074       3        1   0.076622\n",
       "19     -61.385319  -12.914634       4        1   0.050469\n",
       "8      -28.737743  126.296997       5        1   0.050469\n",
       "1        1.066606 -123.552811       6        1   0.050469\n",
       "3       45.140720   -7.947869       7        1   0.050469\n",
       "4     -140.795975  -98.530548       8        1   0.050469\n",
       "5       61.531681  -83.240562       9        1   0.050469\n",
       "6      -72.563057 -140.396881      10        1   0.050469\n",
       "7       15.984491   63.578186      11        1   0.050469\n",
       "9     -160.851624   68.945145      12        1   0.050469\n",
       "10      85.961830   51.922935      13        1   0.050469\n",
       "12     -99.020836  109.936348      14        1   0.050469\n",
       "13    -176.764130   -8.681684      15        1   0.050469\n",
       "14    -117.189880  -37.420200      16        1   0.050469\n",
       "15     108.829918  -22.946203      17        1   0.050469\n",
       "16      47.588097  121.934814      18        1   0.050469\n",
       "17    -106.467834   30.176889      19        1   0.050469\n",
       "0      -50.613804   59.328842      20        1   0.050469, topic_info=       Term     Freq     Total Category  logprob  loglift\n",
       "4       car  4.00000  4.000000  Default  30.0000  30.0000\n",
       "19     look  1.00000  1.000000  Default  29.0000  29.0000\n",
       "7      door  1.00000  1.000000  Default  28.0000  28.0000\n",
       "12  history  1.00000  1.000000  Default  27.0000  27.0000\n",
       "33     spec  1.00000  1.000000  Default  26.0000  26.0000\n",
       "..      ...      ...       ...      ...      ...      ...\n",
       "4       car  0.00058  4.804595  Topic20  -3.6889  -1.4298\n",
       "19     look  0.00058  1.956394  Topic20  -3.6889  -0.5313\n",
       "20     mail  0.00058  1.008136  Topic20  -3.6889   0.1317\n",
       "36    thing  0.00058  1.008103  Topic20  -3.6889   0.1317\n",
       "33     spec  0.00058  1.008220  Topic20  -3.6889   0.1316\n",
       "\n",
       "[772 rows x 6 columns], token_table=      Topic      Freq          Term\n",
       "term                               \n",
       "0         1  0.992150      addition\n",
       "1         1  0.992492          body\n",
       "2         1  0.992848         bring\n",
       "3         1  0.992097          call\n",
       "4         1  1.040670           car\n",
       "5         1  0.992054         could\n",
       "6         1  0.992128           day\n",
       "7         1  1.022696          door\n",
       "8         1  0.992369         early\n",
       "9         1  0.992496        engine\n",
       "10        1  0.992244     enlighten\n",
       "11        1  0.992663         funky\n",
       "12        1  0.991808       history\n",
       "13        1  0.993017          host\n",
       "14        1  0.992185          info\n",
       "15        1  0.992015          know\n",
       "16        1  0.992247          late\n",
       "17        1  0.993027        lerxst\n",
       "18        1  0.992410          line\n",
       "19        1  1.022289          look\n",
       "20        1  0.991930          mail\n",
       "21        1  0.992835          make\n",
       "22        1  0.992607         model\n",
       "23        1  0.992936          name\n",
       "24        1  0.991998  neighborhood\n",
       "25        1  0.992866    nntp_poste\n",
       "26        1  0.992786          park\n",
       "27        1  0.992743    production\n",
       "28        1  0.992010        really\n",
       "29        1  0.992122          rest\n",
       "30        1  0.992388           see\n",
       "31        1  0.992109      separate\n",
       "32        1  0.992726         small\n",
       "33        1  0.991847          spec\n",
       "34        1  0.992281         sport\n",
       "35        1  0.992695         thank\n",
       "36        1  0.991962         thing\n",
       "37        1  0.993107         where\n",
       "38        1  0.992145        wonder\n",
       "39        1  0.992406          year, R=30, lambda_step=0.01, plot_opts={'xlab': 'PC1', 'ylab': 'PC2'}, topic_order=[3, 19, 12, 20, 9, 2, 4, 5, 6, 7, 8, 10, 11, 13, 14, 15, 16, 17, 18, 1])"
      ]
     },
     "execution_count": 33,
     "metadata": {},
     "output_type": "execute_result"
    }
   ],
   "source": [
    "vis"
   ]
  },
  {
   "cell_type": "code",
   "execution_count": null,
   "metadata": {},
   "outputs": [],
   "source": []
  },
  {
   "cell_type": "markdown",
   "metadata": {},
   "source": [
    "### построение модели LDA Mallet"
   ]
  },
  {
   "cell_type": "code",
   "execution_count": 34,
   "metadata": {},
   "outputs": [],
   "source": [
    "# download file\n",
    "mallet_path = '/mnt/disk/YD/development/ML/LDA/packages/mallet/mallet-2.0.8/bin/mallet'"
   ]
  },
  {
   "cell_type": "code",
   "execution_count": 42,
   "metadata": {},
   "outputs": [],
   "source": [
    "ldamallet = gensim.models.wrappers.LdaMallet(mallet_path, corpus=corpus, num_topics=20, id2word=id2word)"
   ]
  },
  {
   "cell_type": "code",
   "execution_count": 45,
   "metadata": {},
   "outputs": [
    {
     "name": "stdout",
     "output_type": "stream",
     "text": [
      "[(10,\n",
      "  [('engine', 0.5),\n",
      "   ('car', 0.5),\n",
      "   ('separate', 0.0),\n",
      "   ('neighborhood', 0.0),\n",
      "   ('nntp_poste', 0.0),\n",
      "   ('park', 0.0),\n",
      "   ('production', 0.0),\n",
      "   ('really', 0.0),\n",
      "   ('rest', 0.0),\n",
      "   ('see', 0.0)]),\n",
      " (7,\n",
      "  [('model', 0.3333333333333333),\n",
      "   ('call', 0.3333333333333333),\n",
      "   ('thing', 0.3333333333333333),\n",
      "   ('rest', 0.0),\n",
      "   ('name', 0.0),\n",
      "   ('neighborhood', 0.0),\n",
      "   ('nntp_poste', 0.0),\n",
      "   ('park', 0.0),\n",
      "   ('production', 0.0),\n",
      "   ('really', 0.0)]),\n",
      " (19,\n",
      "  [('addition', 1.0),\n",
      "   ('separate', 0.0),\n",
      "   ('name', 0.0),\n",
      "   ('neighborhood', 0.0),\n",
      "   ('nntp_poste', 0.0),\n",
      "   ('park', 0.0),\n",
      "   ('production', 0.0),\n",
      "   ('really', 0.0),\n",
      "   ('rest', 0.0),\n",
      "   ('make', 0.0)]),\n",
      " (1,\n",
      "  [('host', 1.0),\n",
      "   ('rest', 0.0),\n",
      "   ('separate', 0.0),\n",
      "   ('name', 0.0),\n",
      "   ('neighborhood', 0.0),\n",
      "   ('nntp_poste', 0.0),\n",
      "   ('park', 0.0),\n",
      "   ('production', 0.0),\n",
      "   ('really', 0.0),\n",
      "   ('make', 0.0)]),\n",
      " (14,\n",
      "  [('history', 1.0),\n",
      "   ('rest', 0.0),\n",
      "   ('separate', 0.0),\n",
      "   ('name', 0.0),\n",
      "   ('neighborhood', 0.0),\n",
      "   ('nntp_poste', 0.0),\n",
      "   ('park', 0.0),\n",
      "   ('production', 0.0),\n",
      "   ('really', 0.0),\n",
      "   ('make', 0.0)]),\n",
      " (9,\n",
      "  [('production', 1.0),\n",
      "   ('see', 0.0),\n",
      "   ('separate', 0.0),\n",
      "   ('name', 0.0),\n",
      "   ('neighborhood', 0.0),\n",
      "   ('nntp_poste', 0.0),\n",
      "   ('park', 0.0),\n",
      "   ('really', 0.0),\n",
      "   ('rest', 0.0),\n",
      "   ('make', 0.0)]),\n",
      " (4,\n",
      "  [('bring', 1.0),\n",
      "   ('see', 0.0),\n",
      "   ('small', 0.0),\n",
      "   ('name', 0.0),\n",
      "   ('neighborhood', 0.0),\n",
      "   ('nntp_poste', 0.0),\n",
      "   ('park', 0.0),\n",
      "   ('production', 0.0),\n",
      "   ('really', 0.0),\n",
      "   ('rest', 0.0)]),\n",
      " (13,\n",
      "  [('see', nan),\n",
      "   ('separate', nan),\n",
      "   ('name', nan),\n",
      "   ('neighborhood', nan),\n",
      "   ('nntp_poste', nan),\n",
      "   ('park', nan),\n",
      "   ('production', nan),\n",
      "   ('really', nan),\n",
      "   ('rest', nan),\n",
      "   ('make', nan)]),\n",
      " (2,\n",
      "  [('neighborhood', 1.0),\n",
      "   ('see', 0.0),\n",
      "   ('separate', 0.0),\n",
      "   ('name', 0.0),\n",
      "   ('nntp_poste', 0.0),\n",
      "   ('park', 0.0),\n",
      "   ('production', 0.0),\n",
      "   ('really', 0.0),\n",
      "   ('rest', 0.0),\n",
      "   ('make', 0.0)]),\n",
      " (3,\n",
      "  [('day', 0.5),\n",
      "   ('spec', 0.5),\n",
      "   ('rest', 0.0),\n",
      "   ('small', 0.0),\n",
      "   ('name', 0.0),\n",
      "   ('neighborhood', 0.0),\n",
      "   ('nntp_poste', 0.0),\n",
      "   ('park', 0.0),\n",
      "   ('production', 0.0),\n",
      "   ('really', 0.0)])]\n"
     ]
    }
   ],
   "source": [
    "# show topics\n",
    "pprint(ldamallet.show_topics(formatted=False))"
   ]
  },
  {
   "cell_type": "code",
   "execution_count": 46,
   "metadata": {},
   "outputs": [
    {
     "name": "stderr",
     "output_type": "stream",
     "text": [
      "/home/igor/anaconda3/lib/python3.7/site-packages/gensim/models/wrappers/ldamallet.py:379: RuntimeWarning: invalid value encountered in true_divide\n",
      "  return topics / topics.sum(axis=1)[:, None]\n"
     ]
    }
   ],
   "source": [
    "# compute coherence score\n",
    "coherence_model_ldamallet = CoherenceModel(model=ldamallet, texts=data_lemmatized, dictionary=id2word, coherence='c_v')\n",
    "coherence_ldamallet = coherence_model_ldamallet.get_coherence()"
   ]
  },
  {
   "cell_type": "code",
   "execution_count": 47,
   "metadata": {},
   "outputs": [
    {
     "name": "stdout",
     "output_type": "stream",
     "text": [
      "Coherence score:  0.9999999999999998\n"
     ]
    }
   ],
   "source": [
    "print('Coherence score: ', coherence_ldamallet)"
   ]
  },
  {
   "cell_type": "code",
   "execution_count": 49,
   "metadata": {},
   "outputs": [],
   "source": [
    "def compute_coherence_values(dictionary, corpus, texts, limit, start=2, step=3):\n",
    "    '''\n",
    "    Compute c_v coherence for various number of topics\n",
    "    \n",
    "    parameters:\n",
    "    -dictionary: Gensim dictionary\n",
    "    -corpus: Gensim corpus\n",
    "    -texts: lits of input texts\n",
    "    -limit: max num of topics\n",
    "    \n",
    "    return:\n",
    "    model_list: list of LDA topic models\n",
    "    coherence_values: Coherence values corresponding to the LDA model with respective number of topics\n",
    "    '''\n",
    "    \n",
    "    coherence_values = []\n",
    "    model_list = []\n",
    "    for num_topics in range(start, limit, step):\n",
    "        model = gensim.models.wrappers.LdaMallet(mallet_path, corpus=corpus, num_topics=num_topics, id2word=id2word)\n",
    "        model_list.append(model)\n",
    "        coherencemodel = CoherenceModel(model=model, texts=texts, dictionary=dictionary, coherence='c_v')\n",
    "        coherence_values.append(coherencemodel.get_coherence())\n",
    "        \n",
    "    return model_list, coherence_values"
   ]
  },
  {
   "cell_type": "code",
   "execution_count": 50,
   "metadata": {},
   "outputs": [
    {
     "name": "stderr",
     "output_type": "stream",
     "text": [
      "/home/igor/anaconda3/lib/python3.7/site-packages/gensim/models/wrappers/ldamallet.py:379: RuntimeWarning: invalid value encountered in true_divide\n",
      "  return topics / topics.sum(axis=1)[:, None]\n"
     ]
    }
   ],
   "source": [
    "# can take a longe time to run\n",
    "model_list, coherence_values = compute_coherence_values(dictionary=id2word, corpus=corpus, texts=data_lemmatized, start=2, limit=40, step=6)"
   ]
  },
  {
   "cell_type": "code",
   "execution_count": 51,
   "metadata": {},
   "outputs": [
    {
     "data": {
      "image/png": "[encoded data removed]",
      "text/plain": [
       "<Figure size 432x288 with 1 Axes>"
      ]
     },
     "metadata": {
      "needs_background": "light"
     },
     "output_type": "display_data"
    }
   ],
   "source": [
    "# show graph\n",
    "limit=40; start=2; step=6;\n",
    "x = range(start, limit, step)\n",
    "\n",
    "plt.plot(x, coherence_values)\n",
    "plt.xlabel('Num Topics')\n",
    "plt.ylabel('Coherence score')\n",
    "plt.legend(('coherence_values'), loc='best')\n",
    "plt.show()"
   ]
  },
  {
   "cell_type": "code",
   "execution_count": 52,
   "metadata": {},
   "outputs": [
    {
     "data": {
      "text/plain": [
       "[0.9999999999999998,\n",
       " 0.9999999999999998,\n",
       " 0.9999999999999999,\n",
       " 0.9999999999999998,\n",
       " 0.9999999999999998,\n",
       " 0.9999999999999998,\n",
       " 0.9999999999999998]"
      ]
     },
     "execution_count": 52,
     "metadata": {},
     "output_type": "execute_result"
    }
   ],
   "source": [
    "coherence_values"
   ]
  },
  {
   "cell_type": "code",
   "execution_count": null,
   "metadata": {},
   "outputs": [],
   "source": []
  },
  {
   "cell_type": "code",
   "execution_count": null,
   "metadata": {},
   "outputs": [],
   "source": []
  },
  {
   "cell_type": "code",
   "execution_count": null,
   "metadata": {},
   "outputs": [],
   "source": []
  },
  {
   "cell_type": "code",
   "execution_count": 35,
   "metadata": {},
   "outputs": [],
   "source": [
    "# ! pwd"
   ]
  },
  {
   "cell_type": "code",
   "execution_count": 36,
   "metadata": {},
   "outputs": [],
   "source": [
    "# ! wget -P /mnt/disk/YD/development/ML/LDA/packages/mallet http://mallet.cs.umass.edu/dist/mallet-2.0.8.zip"
   ]
  },
  {
   "cell_type": "code",
   "execution_count": 37,
   "metadata": {},
   "outputs": [],
   "source": [
    "# ! unzip /mnt/disk/YD/development/ML/LDA/packages/mallet/mallet-2.0.8.zip"
   ]
  },
  {
   "cell_type": "code",
   "execution_count": 38,
   "metadata": {},
   "outputs": [],
   "source": [
    "# ! ls /mnt/disk/YD/development/ML/LDA/packages/mallet"
   ]
  },
  {
   "cell_type": "code",
   "execution_count": 39,
   "metadata": {},
   "outputs": [],
   "source": [
    "# ! ls"
   ]
  },
  {
   "cell_type": "code",
   "execution_count": 40,
   "metadata": {},
   "outputs": [],
   "source": [
    "# ! unzip /mnt/disk/YD/development/ML/LDA/packages/mallet/mallet-2.0.8.zip -d /mnt/disk/YD/development/ML/LDA/packages/mallet"
   ]
  },
  {
   "cell_type": "code",
   "execution_count": 41,
   "metadata": {},
   "outputs": [],
   "source": [
    "# ! ls -has /mnt/disk/YD/development/ML/LDA/packages/mallet/mallet-2.0.8/"
   ]
  },
  {
   "cell_type": "code",
   "execution_count": null,
   "metadata": {},
   "outputs": [],
   "source": []
  }
 ],
 "metadata": {
  "kernelspec": {
   "display_name": "Python 3",
   "language": "python",
   "name": "python3"
  },
  "language_info": {
   "codemirror_mode": {
    "name": "ipython",
    "version": 3
   },
   "file_extension": ".py",
   "mimetype": "text/x-python",
   "name": "python",
   "nbconvert_exporter": "python",
   "pygments_lexer": "ipython3",
   "version": "3.7.3"
  }
 },
 "nbformat": 4,
 "nbformat_minor": 4
}
