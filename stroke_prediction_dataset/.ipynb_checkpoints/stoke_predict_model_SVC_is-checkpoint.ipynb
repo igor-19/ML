{
 "cells": [
  {
   "cell_type": "markdown",
   "metadata": {},
   "source": [
    "# Stroke Prediction Dataset\n",
    "### 11 clinical features por predicting stroke events"
   ]
  },
  {
   "cell_type": "markdown",
   "metadata": {},
   "source": [
    "https://www.kaggle.com/fedesoriano/stroke-prediction-dataset"
   ]
  },
  {
   "cell_type": "markdown",
   "metadata": {},
   "source": [
    "1) id: unique identifier    \n",
    "2) gender: \"Male\", \"Female\" or \"Other\"    \n",
    "3) age: age of the patient    \n",
    "4) hypertension: 0 if the patient doesn't have hypertension, 1 if the patient has hypertension    \n",
    "5) heart_disease: 0 if the patient doesn't have any heart diseases, 1 if the patient has a heart disease    \n",
    "6) ever_married: \"No\" or \"Yes\"    \n",
    "7) work_type: \"children\", \"Govt_jov\", \"Never_worked\", \"Private\" or \"Self-employed\"    \n",
    "8) Residence_type: \"Rural\" or \"Urban\"     \n",
    "9) avg_glucose_level: average glucose level in blood    \n",
    "10) bmi: body mass index    \n",
    "11) smoking_status: \"formerly smoked\", \"never smoked\", \"smokes\" or \"Unknown\"*    \n",
    "12) stroke: 1 if the patient had a stroke or 0 if not    \n",
    "*Note: \"Unknown\" in smoking_status means that the information is unavailable for this patient    "
   ]
  },
  {
   "cell_type": "code",
   "execution_count": 1,
   "metadata": {},
   "outputs": [],
   "source": [
    "import warnings\n",
    "warnings.filterwarnings('ignore')"
   ]
  },
  {
   "cell_type": "code",
   "execution_count": 2,
   "metadata": {},
   "outputs": [],
   "source": [
    "import numpy as np\n",
    "import pandas as pd\n",
    "import matplotlib\n",
    "import seaborn as sns\n",
    "import plotly.express as px\n",
    "import matplotlib.pyplot as plt\n",
    "\n",
    "%matplotlib inline"
   ]
  },
  {
   "cell_type": "code",
   "execution_count": 3,
   "metadata": {},
   "outputs": [],
   "source": [
    "ds = pd.read_csv('healthcare-dataset-stroke-data.csv', delimiter=',')"
   ]
  },
  {
   "cell_type": "code",
   "execution_count": 4,
   "metadata": {},
   "outputs": [
    {
     "data": {
      "text/html": [
       "<div>\n",
       "<style scoped>\n",
       "    .dataframe tbody tr th:only-of-type {\n",
       "        vertical-align: middle;\n",
       "    }\n",
       "\n",
       "    .dataframe tbody tr th {\n",
       "        vertical-align: top;\n",
       "    }\n",
       "\n",
       "    .dataframe thead th {\n",
       "        text-align: right;\n",
       "    }\n",
       "</style>\n",
       "<table border=\"1\" class=\"dataframe\">\n",
       "  <thead>\n",
       "    <tr style=\"text-align: right;\">\n",
       "      <th></th>\n",
       "      <th>id</th>\n",
       "      <th>gender</th>\n",
       "      <th>age</th>\n",
       "      <th>hypertension</th>\n",
       "      <th>heart_disease</th>\n",
       "      <th>ever_married</th>\n",
       "      <th>work_type</th>\n",
       "      <th>Residence_type</th>\n",
       "      <th>avg_glucose_level</th>\n",
       "      <th>bmi</th>\n",
       "      <th>smoking_status</th>\n",
       "      <th>stroke</th>\n",
       "    </tr>\n",
       "  </thead>\n",
       "  <tbody>\n",
       "    <tr>\n",
       "      <th>0</th>\n",
       "      <td>9046</td>\n",
       "      <td>Male</td>\n",
       "      <td>67.0</td>\n",
       "      <td>0</td>\n",
       "      <td>1</td>\n",
       "      <td>Yes</td>\n",
       "      <td>Private</td>\n",
       "      <td>Urban</td>\n",
       "      <td>228.69</td>\n",
       "      <td>36.6</td>\n",
       "      <td>formerly smoked</td>\n",
       "      <td>1</td>\n",
       "    </tr>\n",
       "    <tr>\n",
       "      <th>1</th>\n",
       "      <td>51676</td>\n",
       "      <td>Female</td>\n",
       "      <td>61.0</td>\n",
       "      <td>0</td>\n",
       "      <td>0</td>\n",
       "      <td>Yes</td>\n",
       "      <td>Self-employed</td>\n",
       "      <td>Rural</td>\n",
       "      <td>202.21</td>\n",
       "      <td>NaN</td>\n",
       "      <td>never smoked</td>\n",
       "      <td>1</td>\n",
       "    </tr>\n",
       "    <tr>\n",
       "      <th>2</th>\n",
       "      <td>31112</td>\n",
       "      <td>Male</td>\n",
       "      <td>80.0</td>\n",
       "      <td>0</td>\n",
       "      <td>1</td>\n",
       "      <td>Yes</td>\n",
       "      <td>Private</td>\n",
       "      <td>Rural</td>\n",
       "      <td>105.92</td>\n",
       "      <td>32.5</td>\n",
       "      <td>never smoked</td>\n",
       "      <td>1</td>\n",
       "    </tr>\n",
       "  </tbody>\n",
       "</table>\n",
       "</div>"
      ],
      "text/plain": [
       "      id  gender   age  hypertension  heart_disease ever_married  \\\n",
       "0   9046    Male  67.0             0              1          Yes   \n",
       "1  51676  Female  61.0             0              0          Yes   \n",
       "2  31112    Male  80.0             0              1          Yes   \n",
       "\n",
       "       work_type Residence_type  avg_glucose_level   bmi   smoking_status  \\\n",
       "0        Private          Urban             228.69  36.6  formerly smoked   \n",
       "1  Self-employed          Rural             202.21   NaN     never smoked   \n",
       "2        Private          Rural             105.92  32.5     never smoked   \n",
       "\n",
       "   stroke  \n",
       "0       1  \n",
       "1       1  \n",
       "2       1  "
      ]
     },
     "execution_count": 4,
     "metadata": {},
     "output_type": "execute_result"
    }
   ],
   "source": [
    "ds.head(3)"
   ]
  },
  {
   "cell_type": "code",
   "execution_count": 5,
   "metadata": {},
   "outputs": [],
   "source": [
    "ds.drop(['id'], axis=1, inplace=True)"
   ]
  },
  {
   "cell_type": "code",
   "execution_count": 6,
   "metadata": {},
   "outputs": [
    {
     "data": {
      "text/plain": [
       "3116    0\n",
       "Name: stroke, dtype: int64"
      ]
     },
     "execution_count": 6,
     "metadata": {},
     "output_type": "execute_result"
    }
   ],
   "source": [
    "ds.stroke[ds.gender == 'Other']"
   ]
  },
  {
   "cell_type": "code",
   "execution_count": 7,
   "metadata": {},
   "outputs": [],
   "source": [
    "ds.drop([3116], inplace=True)"
   ]
  },
  {
   "cell_type": "code",
   "execution_count": 8,
   "metadata": {},
   "outputs": [
    {
     "data": {
      "text/plain": [
       "Index(['gender', 'age', 'hypertension', 'heart_disease', 'ever_married',\n",
       "       'work_type', 'Residence_type', 'avg_glucose_level', 'bmi',\n",
       "       'smoking_status', 'stroke'],\n",
       "      dtype='object')"
      ]
     },
     "execution_count": 8,
     "metadata": {},
     "output_type": "execute_result"
    }
   ],
   "source": [
    "ds.columns"
   ]
  },
  {
   "cell_type": "code",
   "execution_count": 9,
   "metadata": {},
   "outputs": [],
   "source": [
    "columns_numeric = ['age', 'avg_glucose_level', 'bmi']\n",
    "columns_categorical = ['gender', 'hypertension', 'heart_disease', 'ever_married', \n",
    "                       'work_type', 'Residence_type', 'smoking_status']\n",
    "columns_dummis = ['gender', 'ever_married', 'work_type', 'Residence_type', 'smoking_status']\n",
    "columns_target = ['stroke']"
   ]
  },
  {
   "cell_type": "code",
   "execution_count": 10,
   "metadata": {},
   "outputs": [],
   "source": [
    "def replace_nan(data, to_replace, replacement_data):\n",
    "    \n",
    "    data_def = data.copy(deep=True)\n",
    "    \n",
    "    index_zero = list(data_def[to_replace][data_def[replacement_data] == 0].index)\n",
    "    index_one = list(data_def[to_replace][data_def[replacement_data] == 1].index)\n",
    "    \n",
    "    for i in range(2):\n",
    "        minimum = data_def[to_replace][data_def[replacement_data] == i].quantile(0.25)\n",
    "        maximum = data_def[to_replace][data_def[replacement_data] == i].quantile(0.75)\n",
    "        \n",
    "        minimum -= (maximum - minimum) * 0.5\n",
    "        maximum += (maximum - minimum) * 0.5\n",
    "    \n",
    "        count = data_def[to_replace][data_def[replacement_data] == i].isnull().sum()\n",
    "        \n",
    "        data_for_nan = np.random.choice(range(int(minimum), int(maximum)), count)\n",
    "    \n",
    "        if i == 0:\n",
    "            index_null = data_def[to_replace][index_zero][data_def[to_replace].isnull()].index\n",
    "        else:\n",
    "            index_null = data_def[to_replace][index_one][data_def[to_replace].isnull()].index\n",
    "        \n",
    "        data_def[to_replace][index_null] = data_for_nan\n",
    "        \n",
    "    return data_def"
   ]
  },
  {
   "cell_type": "code",
   "execution_count": 11,
   "metadata": {},
   "outputs": [],
   "source": [
    "ds = replace_nan(ds, 'bmi', 'stroke')"
   ]
  },
  {
   "cell_type": "code",
   "execution_count": 12,
   "metadata": {},
   "outputs": [
    {
     "name": "stdout",
     "output_type": "stream",
     "text": [
      "<class 'pandas.core.frame.DataFrame'>\n",
      "Int64Index: 5109 entries, 0 to 5109\n",
      "Data columns (total 11 columns):\n",
      " #   Column             Non-Null Count  Dtype  \n",
      "---  ------             --------------  -----  \n",
      " 0   gender             5109 non-null   object \n",
      " 1   age                5109 non-null   float64\n",
      " 2   hypertension       5109 non-null   int64  \n",
      " 3   heart_disease      5109 non-null   int64  \n",
      " 4   ever_married       5109 non-null   object \n",
      " 5   work_type          5109 non-null   object \n",
      " 6   Residence_type     5109 non-null   object \n",
      " 7   avg_glucose_level  5109 non-null   float64\n",
      " 8   bmi                5109 non-null   float64\n",
      " 9   smoking_status     5109 non-null   object \n",
      " 10  stroke             5109 non-null   int64  \n",
      "dtypes: float64(3), int64(3), object(5)\n",
      "memory usage: 639.0+ KB\n"
     ]
    }
   ],
   "source": [
    "ds.info()"
   ]
  },
  {
   "cell_type": "code",
   "execution_count": null,
   "metadata": {},
   "outputs": [],
   "source": []
  },
  {
   "cell_type": "code",
   "execution_count": 13,
   "metadata": {},
   "outputs": [],
   "source": [
    "ds = pd.get_dummies(ds, columns=columns_dummis, prefix_sep='_', drop_first=True)"
   ]
  },
  {
   "cell_type": "code",
   "execution_count": 14,
   "metadata": {},
   "outputs": [
    {
     "data": {
      "text/html": [
       "<div>\n",
       "<style scoped>\n",
       "    .dataframe tbody tr th:only-of-type {\n",
       "        vertical-align: middle;\n",
       "    }\n",
       "\n",
       "    .dataframe tbody tr th {\n",
       "        vertical-align: top;\n",
       "    }\n",
       "\n",
       "    .dataframe thead th {\n",
       "        text-align: right;\n",
       "    }\n",
       "</style>\n",
       "<table border=\"1\" class=\"dataframe\">\n",
       "  <thead>\n",
       "    <tr style=\"text-align: right;\">\n",
       "      <th></th>\n",
       "      <th>age</th>\n",
       "      <th>hypertension</th>\n",
       "      <th>heart_disease</th>\n",
       "      <th>avg_glucose_level</th>\n",
       "      <th>bmi</th>\n",
       "      <th>stroke</th>\n",
       "      <th>gender_Male</th>\n",
       "      <th>ever_married_Yes</th>\n",
       "      <th>work_type_Never_worked</th>\n",
       "      <th>work_type_Private</th>\n",
       "      <th>work_type_Self-employed</th>\n",
       "      <th>work_type_children</th>\n",
       "      <th>Residence_type_Urban</th>\n",
       "      <th>smoking_status_formerly smoked</th>\n",
       "      <th>smoking_status_never smoked</th>\n",
       "      <th>smoking_status_smokes</th>\n",
       "    </tr>\n",
       "  </thead>\n",
       "  <tbody>\n",
       "    <tr>\n",
       "      <th>0</th>\n",
       "      <td>67.0</td>\n",
       "      <td>0</td>\n",
       "      <td>1</td>\n",
       "      <td>228.69</td>\n",
       "      <td>36.6</td>\n",
       "      <td>1</td>\n",
       "      <td>1</td>\n",
       "      <td>1</td>\n",
       "      <td>0</td>\n",
       "      <td>1</td>\n",
       "      <td>0</td>\n",
       "      <td>0</td>\n",
       "      <td>1</td>\n",
       "      <td>1</td>\n",
       "      <td>0</td>\n",
       "      <td>0</td>\n",
       "    </tr>\n",
       "    <tr>\n",
       "      <th>1</th>\n",
       "      <td>61.0</td>\n",
       "      <td>0</td>\n",
       "      <td>0</td>\n",
       "      <td>202.21</td>\n",
       "      <td>24.0</td>\n",
       "      <td>1</td>\n",
       "      <td>0</td>\n",
       "      <td>1</td>\n",
       "      <td>0</td>\n",
       "      <td>0</td>\n",
       "      <td>1</td>\n",
       "      <td>0</td>\n",
       "      <td>0</td>\n",
       "      <td>0</td>\n",
       "      <td>1</td>\n",
       "      <td>0</td>\n",
       "    </tr>\n",
       "    <tr>\n",
       "      <th>2</th>\n",
       "      <td>80.0</td>\n",
       "      <td>0</td>\n",
       "      <td>1</td>\n",
       "      <td>105.92</td>\n",
       "      <td>32.5</td>\n",
       "      <td>1</td>\n",
       "      <td>1</td>\n",
       "      <td>1</td>\n",
       "      <td>0</td>\n",
       "      <td>1</td>\n",
       "      <td>0</td>\n",
       "      <td>0</td>\n",
       "      <td>0</td>\n",
       "      <td>0</td>\n",
       "      <td>1</td>\n",
       "      <td>0</td>\n",
       "    </tr>\n",
       "  </tbody>\n",
       "</table>\n",
       "</div>"
      ],
      "text/plain": [
       "    age  hypertension  heart_disease  avg_glucose_level   bmi  stroke  \\\n",
       "0  67.0             0              1             228.69  36.6       1   \n",
       "1  61.0             0              0             202.21  24.0       1   \n",
       "2  80.0             0              1             105.92  32.5       1   \n",
       "\n",
       "   gender_Male  ever_married_Yes  work_type_Never_worked  work_type_Private  \\\n",
       "0            1                 1                       0                  1   \n",
       "1            0                 1                       0                  0   \n",
       "2            1                 1                       0                  1   \n",
       "\n",
       "   work_type_Self-employed  work_type_children  Residence_type_Urban  \\\n",
       "0                        0                   0                     1   \n",
       "1                        1                   0                     0   \n",
       "2                        0                   0                     0   \n",
       "\n",
       "   smoking_status_formerly smoked  smoking_status_never smoked  \\\n",
       "0                               1                            0   \n",
       "1                               0                            1   \n",
       "2                               0                            1   \n",
       "\n",
       "   smoking_status_smokes  \n",
       "0                      0  \n",
       "1                      0  \n",
       "2                      0  "
      ]
     },
     "execution_count": 14,
     "metadata": {},
     "output_type": "execute_result"
    }
   ],
   "source": [
    "ds.head(3)"
   ]
  },
  {
   "cell_type": "code",
   "execution_count": 15,
   "metadata": {},
   "outputs": [],
   "source": [
    "from sklearn.model_selection import train_test_split"
   ]
  },
  {
   "cell_type": "code",
   "execution_count": 16,
   "metadata": {},
   "outputs": [],
   "source": [
    "ds_train, ds_test = train_test_split(ds, test_size=0.3, random_state=42, stratify=ds.stroke)"
   ]
  },
  {
   "cell_type": "code",
   "execution_count": 17,
   "metadata": {},
   "outputs": [
    {
     "data": {
      "text/plain": [
       "(0    0.951342\n",
       " 1    0.048658\n",
       " Name: stroke, dtype: float64,\n",
       " 0    0.951076\n",
       " 1    0.048924\n",
       " Name: stroke, dtype: float64)"
      ]
     },
     "execution_count": 17,
     "metadata": {},
     "output_type": "execute_result"
    }
   ],
   "source": [
    "ds_train.stroke.value_counts(normalize=True), ds_test.stroke.value_counts(normalize=True)"
   ]
  },
  {
   "cell_type": "code",
   "execution_count": 18,
   "metadata": {},
   "outputs": [
    {
     "data": {
      "text/plain": [
       "(5109, (5109, 16))"
      ]
     },
     "execution_count": 18,
     "metadata": {},
     "output_type": "execute_result"
    }
   ],
   "source": [
    "ds_train.shape[0] + ds_test.shape[0], ds.shape"
   ]
  },
  {
   "cell_type": "code",
   "execution_count": 19,
   "metadata": {},
   "outputs": [
    {
     "data": {
      "text/plain": [
       "2547"
      ]
     },
     "execution_count": 19,
     "metadata": {},
     "output_type": "execute_result"
    }
   ],
   "source": [
    "add_rows = int(ds_train.stroke.value_counts()[0] * .8 - ds_train.stroke.value_counts()[1])\n",
    "add_rows"
   ]
  },
  {
   "cell_type": "code",
   "execution_count": 20,
   "metadata": {},
   "outputs": [
    {
     "data": {
      "text/plain": [
       "(14,\n",
       " 0    3402\n",
       " 1     174\n",
       " Name: stroke, dtype: int64)"
      ]
     },
     "execution_count": 20,
     "metadata": {},
     "output_type": "execute_result"
    }
   ],
   "source": [
    "int(add_rows / ds_train.stroke.value_counts()[1]), ds_train.stroke.value_counts()"
   ]
  },
  {
   "cell_type": "code",
   "execution_count": 21,
   "metadata": {},
   "outputs": [],
   "source": [
    "index_train_one = ds_train.stroke[ds_train.stroke == 1].index\n",
    "ds_train_one = ds_train.loc[index_train_one]"
   ]
  },
  {
   "cell_type": "code",
   "execution_count": 22,
   "metadata": {},
   "outputs": [],
   "source": [
    "for i in range(14):\n",
    "    ds_train = ds_train.append(ds_train_one)\n",
    "    #y_train = pd.concat([y_train, y_train[y_train == 1]])"
   ]
  },
  {
   "cell_type": "code",
   "execution_count": 23,
   "metadata": {},
   "outputs": [
    {
     "data": {
      "text/plain": [
       "0    0.565868\n",
       "1    0.434132\n",
       "Name: stroke, dtype: float64"
      ]
     },
     "execution_count": 23,
     "metadata": {},
     "output_type": "execute_result"
    }
   ],
   "source": [
    "ds_train.stroke.value_counts(normalize=True)"
   ]
  },
  {
   "cell_type": "code",
   "execution_count": 24,
   "metadata": {},
   "outputs": [],
   "source": [
    "from sklearn.utils import shuffle"
   ]
  },
  {
   "cell_type": "code",
   "execution_count": 25,
   "metadata": {},
   "outputs": [],
   "source": [
    "ds_train = shuffle(ds_train)"
   ]
  },
  {
   "cell_type": "markdown",
   "metadata": {},
   "source": [
    "### --------------- metrics ------------------------"
   ]
  },
  {
   "cell_type": "code",
   "execution_count": 42,
   "metadata": {},
   "outputs": [],
   "source": [
    "from sklearn.metrics import precision_score, recall_score, f1_score, accuracy_score, roc_auc_score, roc_curve\n",
    "from sklearn.metrics import confusion_matrix, consensus_score"
   ]
  },
  {
   "cell_type": "code",
   "execution_count": 27,
   "metadata": {},
   "outputs": [],
   "source": [
    "def print_metrics(actual, predict):\n",
    "    print('Accuracy: {:.3f}'.format(accuracy_score(actual, predict)))\n",
    "    print('Precision: {:.3f}'.format(precision_score(actual, predict)))\n",
    "    print('Recall: {:.3f}'.format(recall_score(actual, predict)))\n",
    "    print('F1 score: {:.3f}'.format(f1_score(actual, predict)))"
   ]
  },
  {
   "cell_type": "code",
   "execution_count": 28,
   "metadata": {},
   "outputs": [],
   "source": [
    "def plot_roc_auc(actual, predict):\n",
    "    \n",
    "    fpr, tpr, threshold = roc_curve(actual, predict)\n",
    "    plt.plot(fpr, tpr, color='b')\n",
    "    #plt.plot()\n",
    "    plt.xlim([0.0, 1.0])\n",
    "    plt.ylim([0.0, 1.05])\n",
    "    plt.plot([0.0, 1.0], [0.0, 1.0], color='r')\n",
    "    plt.xlabel('False Positive Rate')\n",
    "    plt.ylabel('True Positive Rate')\n",
    "    plt.title('ROC AUC = {:.3f}'.format(roc_auc_score(actual, predict)))"
   ]
  },
  {
   "cell_type": "markdown",
   "metadata": {},
   "source": [
    "### --------------- Scaler ---------------------"
   ]
  },
  {
   "cell_type": "code",
   "execution_count": 29,
   "metadata": {},
   "outputs": [],
   "source": [
    "from sklearn.preprocessing import StandardScaler, MinMaxScaler, RobustScaler"
   ]
  },
  {
   "cell_type": "code",
   "execution_count": 30,
   "metadata": {},
   "outputs": [],
   "source": [
    "scaler = StandardScaler()"
   ]
  },
  {
   "cell_type": "code",
   "execution_count": 31,
   "metadata": {},
   "outputs": [],
   "source": [
    "ds_train[columns_numeric] =  scaler.fit_transform(ds_train[columns_numeric])"
   ]
  },
  {
   "cell_type": "code",
   "execution_count": 32,
   "metadata": {},
   "outputs": [
    {
     "data": {
      "text/html": [
       "<div>\n",
       "<style scoped>\n",
       "    .dataframe tbody tr th:only-of-type {\n",
       "        vertical-align: middle;\n",
       "    }\n",
       "\n",
       "    .dataframe tbody tr th {\n",
       "        vertical-align: top;\n",
       "    }\n",
       "\n",
       "    .dataframe thead th {\n",
       "        text-align: right;\n",
       "    }\n",
       "</style>\n",
       "<table border=\"1\" class=\"dataframe\">\n",
       "  <thead>\n",
       "    <tr style=\"text-align: right;\">\n",
       "      <th></th>\n",
       "      <th>age</th>\n",
       "      <th>hypertension</th>\n",
       "      <th>heart_disease</th>\n",
       "      <th>avg_glucose_level</th>\n",
       "      <th>bmi</th>\n",
       "      <th>stroke</th>\n",
       "      <th>gender_Male</th>\n",
       "      <th>ever_married_Yes</th>\n",
       "      <th>work_type_Never_worked</th>\n",
       "      <th>work_type_Private</th>\n",
       "      <th>work_type_Self-employed</th>\n",
       "      <th>work_type_children</th>\n",
       "      <th>Residence_type_Urban</th>\n",
       "      <th>smoking_status_formerly smoked</th>\n",
       "      <th>smoking_status_never smoked</th>\n",
       "      <th>smoking_status_smokes</th>\n",
       "    </tr>\n",
       "  </thead>\n",
       "  <tbody>\n",
       "    <tr>\n",
       "      <th>2752</th>\n",
       "      <td>-0.673210</td>\n",
       "      <td>0</td>\n",
       "      <td>0</td>\n",
       "      <td>1.900605</td>\n",
       "      <td>-0.631951</td>\n",
       "      <td>0</td>\n",
       "      <td>0</td>\n",
       "      <td>1</td>\n",
       "      <td>0</td>\n",
       "      <td>1</td>\n",
       "      <td>0</td>\n",
       "      <td>0</td>\n",
       "      <td>0</td>\n",
       "      <td>0</td>\n",
       "      <td>0</td>\n",
       "      <td>1</td>\n",
       "    </tr>\n",
       "    <tr>\n",
       "      <th>230</th>\n",
       "      <td>1.235606</td>\n",
       "      <td>0</td>\n",
       "      <td>0</td>\n",
       "      <td>-0.627390</td>\n",
       "      <td>-1.790838</td>\n",
       "      <td>1</td>\n",
       "      <td>0</td>\n",
       "      <td>1</td>\n",
       "      <td>0</td>\n",
       "      <td>0</td>\n",
       "      <td>1</td>\n",
       "      <td>0</td>\n",
       "      <td>0</td>\n",
       "      <td>0</td>\n",
       "      <td>1</td>\n",
       "      <td>0</td>\n",
       "    </tr>\n",
       "    <tr>\n",
       "      <th>607</th>\n",
       "      <td>-2.280167</td>\n",
       "      <td>0</td>\n",
       "      <td>0</td>\n",
       "      <td>-0.247259</td>\n",
       "      <td>-1.776530</td>\n",
       "      <td>0</td>\n",
       "      <td>0</td>\n",
       "      <td>0</td>\n",
       "      <td>0</td>\n",
       "      <td>0</td>\n",
       "      <td>0</td>\n",
       "      <td>1</td>\n",
       "      <td>1</td>\n",
       "      <td>0</td>\n",
       "      <td>0</td>\n",
       "      <td>0</td>\n",
       "    </tr>\n",
       "    <tr>\n",
       "      <th>4965</th>\n",
       "      <td>-1.871769</td>\n",
       "      <td>0</td>\n",
       "      <td>0</td>\n",
       "      <td>-0.427910</td>\n",
       "      <td>-1.962524</td>\n",
       "      <td>0</td>\n",
       "      <td>0</td>\n",
       "      <td>0</td>\n",
       "      <td>0</td>\n",
       "      <td>0</td>\n",
       "      <td>0</td>\n",
       "      <td>1</td>\n",
       "      <td>1</td>\n",
       "      <td>0</td>\n",
       "      <td>1</td>\n",
       "      <td>0</td>\n",
       "    </tr>\n",
       "    <tr>\n",
       "      <th>1290</th>\n",
       "      <td>-0.184908</td>\n",
       "      <td>0</td>\n",
       "      <td>0</td>\n",
       "      <td>-0.618814</td>\n",
       "      <td>2.286727</td>\n",
       "      <td>0</td>\n",
       "      <td>0</td>\n",
       "      <td>1</td>\n",
       "      <td>0</td>\n",
       "      <td>1</td>\n",
       "      <td>0</td>\n",
       "      <td>0</td>\n",
       "      <td>0</td>\n",
       "      <td>0</td>\n",
       "      <td>0</td>\n",
       "      <td>1</td>\n",
       "    </tr>\n",
       "    <tr>\n",
       "      <th>...</th>\n",
       "      <td>...</td>\n",
       "      <td>...</td>\n",
       "      <td>...</td>\n",
       "      <td>...</td>\n",
       "      <td>...</td>\n",
       "      <td>...</td>\n",
       "      <td>...</td>\n",
       "      <td>...</td>\n",
       "      <td>...</td>\n",
       "      <td>...</td>\n",
       "      <td>...</td>\n",
       "      <td>...</td>\n",
       "      <td>...</td>\n",
       "      <td>...</td>\n",
       "      <td>...</td>\n",
       "      <td>...</td>\n",
       "    </tr>\n",
       "    <tr>\n",
       "      <th>150</th>\n",
       "      <td>1.146823</td>\n",
       "      <td>0</td>\n",
       "      <td>0</td>\n",
       "      <td>1.007977</td>\n",
       "      <td>0.226484</td>\n",
       "      <td>1</td>\n",
       "      <td>0</td>\n",
       "      <td>1</td>\n",
       "      <td>0</td>\n",
       "      <td>1</td>\n",
       "      <td>0</td>\n",
       "      <td>0</td>\n",
       "      <td>0</td>\n",
       "      <td>0</td>\n",
       "      <td>0</td>\n",
       "      <td>0</td>\n",
       "    </tr>\n",
       "    <tr>\n",
       "      <th>1751</th>\n",
       "      <td>0.525349</td>\n",
       "      <td>0</td>\n",
       "      <td>0</td>\n",
       "      <td>-0.499312</td>\n",
       "      <td>-0.174119</td>\n",
       "      <td>0</td>\n",
       "      <td>0</td>\n",
       "      <td>1</td>\n",
       "      <td>0</td>\n",
       "      <td>1</td>\n",
       "      <td>0</td>\n",
       "      <td>0</td>\n",
       "      <td>1</td>\n",
       "      <td>1</td>\n",
       "      <td>0</td>\n",
       "      <td>0</td>\n",
       "    </tr>\n",
       "    <tr>\n",
       "      <th>1138</th>\n",
       "      <td>-0.673210</td>\n",
       "      <td>0</td>\n",
       "      <td>0</td>\n",
       "      <td>-0.445993</td>\n",
       "      <td>1.914738</td>\n",
       "      <td>0</td>\n",
       "      <td>0</td>\n",
       "      <td>1</td>\n",
       "      <td>0</td>\n",
       "      <td>1</td>\n",
       "      <td>0</td>\n",
       "      <td>0</td>\n",
       "      <td>1</td>\n",
       "      <td>1</td>\n",
       "      <td>0</td>\n",
       "      <td>0</td>\n",
       "    </tr>\n",
       "    <tr>\n",
       "      <th>1077</th>\n",
       "      <td>-0.007344</td>\n",
       "      <td>1</td>\n",
       "      <td>0</td>\n",
       "      <td>-0.532683</td>\n",
       "      <td>3.688837</td>\n",
       "      <td>0</td>\n",
       "      <td>0</td>\n",
       "      <td>1</td>\n",
       "      <td>0</td>\n",
       "      <td>1</td>\n",
       "      <td>0</td>\n",
       "      <td>0</td>\n",
       "      <td>1</td>\n",
       "      <td>1</td>\n",
       "      <td>0</td>\n",
       "      <td>0</td>\n",
       "    </tr>\n",
       "    <tr>\n",
       "      <th>2691</th>\n",
       "      <td>-0.362473</td>\n",
       "      <td>0</td>\n",
       "      <td>0</td>\n",
       "      <td>-0.217430</td>\n",
       "      <td>0.441092</td>\n",
       "      <td>0</td>\n",
       "      <td>0</td>\n",
       "      <td>0</td>\n",
       "      <td>0</td>\n",
       "      <td>1</td>\n",
       "      <td>0</td>\n",
       "      <td>0</td>\n",
       "      <td>0</td>\n",
       "      <td>0</td>\n",
       "      <td>0</td>\n",
       "      <td>1</td>\n",
       "    </tr>\n",
       "  </tbody>\n",
       "</table>\n",
       "<p>6012 rows × 16 columns</p>\n",
       "</div>"
      ],
      "text/plain": [
       "           age  hypertension  heart_disease  avg_glucose_level       bmi  \\\n",
       "2752 -0.673210             0              0           1.900605 -0.631951   \n",
       "230   1.235606             0              0          -0.627390 -1.790838   \n",
       "607  -2.280167             0              0          -0.247259 -1.776530   \n",
       "4965 -1.871769             0              0          -0.427910 -1.962524   \n",
       "1290 -0.184908             0              0          -0.618814  2.286727   \n",
       "...        ...           ...            ...                ...       ...   \n",
       "150   1.146823             0              0           1.007977  0.226484   \n",
       "1751  0.525349             0              0          -0.499312 -0.174119   \n",
       "1138 -0.673210             0              0          -0.445993  1.914738   \n",
       "1077 -0.007344             1              0          -0.532683  3.688837   \n",
       "2691 -0.362473             0              0          -0.217430  0.441092   \n",
       "\n",
       "      stroke  gender_Male  ever_married_Yes  work_type_Never_worked  \\\n",
       "2752       0            0                 1                       0   \n",
       "230        1            0                 1                       0   \n",
       "607        0            0                 0                       0   \n",
       "4965       0            0                 0                       0   \n",
       "1290       0            0                 1                       0   \n",
       "...      ...          ...               ...                     ...   \n",
       "150        1            0                 1                       0   \n",
       "1751       0            0                 1                       0   \n",
       "1138       0            0                 1                       0   \n",
       "1077       0            0                 1                       0   \n",
       "2691       0            0                 0                       0   \n",
       "\n",
       "      work_type_Private  work_type_Self-employed  work_type_children  \\\n",
       "2752                  1                        0                   0   \n",
       "230                   0                        1                   0   \n",
       "607                   0                        0                   1   \n",
       "4965                  0                        0                   1   \n",
       "1290                  1                        0                   0   \n",
       "...                 ...                      ...                 ...   \n",
       "150                   1                        0                   0   \n",
       "1751                  1                        0                   0   \n",
       "1138                  1                        0                   0   \n",
       "1077                  1                        0                   0   \n",
       "2691                  1                        0                   0   \n",
       "\n",
       "      Residence_type_Urban  smoking_status_formerly smoked  \\\n",
       "2752                     0                               0   \n",
       "230                      0                               0   \n",
       "607                      1                               0   \n",
       "4965                     1                               0   \n",
       "1290                     0                               0   \n",
       "...                    ...                             ...   \n",
       "150                      0                               0   \n",
       "1751                     1                               1   \n",
       "1138                     1                               1   \n",
       "1077                     1                               1   \n",
       "2691                     0                               0   \n",
       "\n",
       "      smoking_status_never smoked  smoking_status_smokes  \n",
       "2752                            0                      1  \n",
       "230                             1                      0  \n",
       "607                             0                      0  \n",
       "4965                            1                      0  \n",
       "1290                            0                      1  \n",
       "...                           ...                    ...  \n",
       "150                             0                      0  \n",
       "1751                            0                      0  \n",
       "1138                            0                      0  \n",
       "1077                            0                      0  \n",
       "2691                            0                      1  \n",
       "\n",
       "[6012 rows x 16 columns]"
      ]
     },
     "execution_count": 32,
     "metadata": {},
     "output_type": "execute_result"
    }
   ],
   "source": [
    "ds_train"
   ]
  },
  {
   "cell_type": "code",
   "execution_count": 33,
   "metadata": {},
   "outputs": [],
   "source": [
    "ds_test[columns_numeric] = scaler.transform(ds_test[columns_numeric])"
   ]
  },
  {
   "cell_type": "markdown",
   "metadata": {},
   "source": [
    "### ------------ SVC ----------------------"
   ]
  },
  {
   "cell_type": "code",
   "execution_count": 35,
   "metadata": {},
   "outputs": [],
   "source": [
    "from sklearn.svm import SVC"
   ]
  },
  {
   "cell_type": "code",
   "execution_count": 352,
   "metadata": {},
   "outputs": [],
   "source": [
    "model_svc = SVC(probability=True, random_state=33)"
   ]
  },
  {
   "cell_type": "code",
   "execution_count": 353,
   "metadata": {},
   "outputs": [
    {
     "name": "stdout",
     "output_type": "stream",
     "text": [
      "CPU times: user 5.42 s, sys: 80 ms, total: 5.5 s\n",
      "Wall time: 5.5 s\n"
     ]
    },
    {
     "data": {
      "text/plain": [
       "SVC(probability=True, random_state=33)"
      ]
     },
     "execution_count": 353,
     "metadata": {},
     "output_type": "execute_result"
    }
   ],
   "source": [
    "%%time\n",
    "model_svc.fit(ds_train.drop(['stroke'], axis=1), ds_train.stroke)"
   ]
  },
  {
   "cell_type": "code",
   "execution_count": 354,
   "metadata": {},
   "outputs": [],
   "source": [
    "y_pred = model_svc.predict(ds_test.drop(['stroke'], axis=1))"
   ]
  },
  {
   "cell_type": "code",
   "execution_count": 355,
   "metadata": {},
   "outputs": [],
   "source": [
    "y_pred_prob = model_svc.predict_proba(ds_test.drop(['stroke'], axis=1))"
   ]
  },
  {
   "cell_type": "code",
   "execution_count": 356,
   "metadata": {},
   "outputs": [
    {
     "name": "stdout",
     "output_type": "stream",
     "text": [
      "Accuracy: 0.795\n",
      "Precision: 0.125\n",
      "Recall: 0.533\n",
      "F1 score: 0.203\n"
     ]
    }
   ],
   "source": [
    "print_metrics(ds_test.stroke, y_pred)"
   ]
  },
  {
   "cell_type": "code",
   "execution_count": 357,
   "metadata": {},
   "outputs": [],
   "source": [
    "from sklearn.metrics import confusion_matrix"
   ]
  },
  {
   "cell_type": "code",
   "execution_count": 358,
   "metadata": {},
   "outputs": [
    {
     "data": {
      "image/png": "[encoded data removed]",
      "text/plain": [
       "<Figure size 432x288 with 2 Axes>"
      ]
     },
     "metadata": {
      "needs_background": "light"
     },
     "output_type": "display_data"
    }
   ],
   "source": [
    "sns.heatmap(confusion_matrix(ds_test.stroke, y_pred), \n",
    "            cmap='Blues', annot=True, fmt='');"
   ]
  },
  {
   "cell_type": "code",
   "execution_count": 359,
   "metadata": {},
   "outputs": [
    {
     "data": {
      "image/png": "[encoded data removed]",
      "text/plain": [
       "<Figure size 432x288 with 1 Axes>"
      ]
     },
     "metadata": {
      "needs_background": "light"
     },
     "output_type": "display_data"
    }
   ],
   "source": [
    "plot_roc_auc(ds_test.stroke, y_pred_prob[:, 1])"
   ]
  },
  {
   "cell_type": "markdown",
   "metadata": {},
   "source": [
    "#### selection of parameters"
   ]
  },
  {
   "cell_type": "code",
   "execution_count": 360,
   "metadata": {},
   "outputs": [
    {
     "name": "stdout",
     "output_type": "stream",
     "text": [
      "CPU times: user 3min 10s, sys: 2.45 s, total: 3min 12s\n",
      "Wall time: 3min 13s\n"
     ]
    }
   ],
   "source": [
    "%%time\n",
    "best_f1 = []\n",
    "best_recall = []\n",
    "best_roc_auc = []\n",
    "best_precision = [] \n",
    "x = []\n",
    "x_keys = []\n",
    "n = 0\n",
    "\n",
    "for cr in ['rbf']:\n",
    "    for c in [0.8, 0.85, 0.9, 0.95, 1.0]:\n",
    "        for g in [0.004, 0.0045, 0.005, 0.0055, 0.006]:\n",
    "            model = SVC(kernel=cr, C=c, gamma=g, probability=True, random_state=33)\n",
    "                \n",
    "            model.fit(ds_train.drop(['stroke'], axis=1), ds_train.stroke)\n",
    "            y_pred = model.predict(ds_test.drop(['stroke'], axis=1))\n",
    "                \n",
    "            f1 = f1_score(ds_test.stroke, y_pred)\n",
    "            best_f1.append(f1)\n",
    "                \n",
    "            recall = recall_score(ds_test.stroke, y_pred)\n",
    "            best_recall.append(recall)\n",
    "                \n",
    "            precision = precision_score(ds_test.stroke, y_pred)\n",
    "            best_precision.append(precision)\n",
    "                \n",
    "            y_pred_prob = model.predict_proba(ds_test.drop(['stroke'], axis=1))\n",
    "            roc_auc = roc_auc_score(ds_test.stroke, y_pred_prob[:, 1])\n",
    "            best_roc_auc.append(roc_auc)\n",
    "                \n",
    "            x_keys.append(str(cr) +' '+ str(c) +' '+ str(g))\n",
    "            x.append(n)\n",
    "            n += 1"
   ]
  },
  {
   "cell_type": "code",
   "execution_count": 361,
   "metadata": {},
   "outputs": [],
   "source": [
    "scores = {'f1': best_f1, 'recall': best_recall, 'precision': best_precision, 'roc_auc': best_roc_auc, \n",
    "          'key': x_keys}"
   ]
  },
  {
   "cell_type": "code",
   "execution_count": 362,
   "metadata": {},
   "outputs": [],
   "source": [
    "df_scores = pd.DataFrame(scores, index=x)"
   ]
  },
  {
   "cell_type": "code",
   "execution_count": 363,
   "metadata": {},
   "outputs": [
    {
     "data": {
      "text/html": [
       "<div>\n",
       "<style scoped>\n",
       "    .dataframe tbody tr th:only-of-type {\n",
       "        vertical-align: middle;\n",
       "    }\n",
       "\n",
       "    .dataframe tbody tr th {\n",
       "        vertical-align: top;\n",
       "    }\n",
       "\n",
       "    .dataframe thead th {\n",
       "        text-align: right;\n",
       "    }\n",
       "</style>\n",
       "<table border=\"1\" class=\"dataframe\">\n",
       "  <thead>\n",
       "    <tr style=\"text-align: right;\">\n",
       "      <th></th>\n",
       "      <th>f1</th>\n",
       "      <th>recall</th>\n",
       "      <th>precision</th>\n",
       "      <th>roc_auc</th>\n",
       "      <th>key</th>\n",
       "    </tr>\n",
       "  </thead>\n",
       "  <tbody>\n",
       "    <tr>\n",
       "      <th>11</th>\n",
       "      <td>0.231537</td>\n",
       "      <td>0.773333</td>\n",
       "      <td>0.136150</td>\n",
       "      <td>0.838208</td>\n",
       "      <td>rbf 0.9 0.0045</td>\n",
       "    </tr>\n",
       "    <tr>\n",
       "      <th>6</th>\n",
       "      <td>0.231076</td>\n",
       "      <td>0.773333</td>\n",
       "      <td>0.135831</td>\n",
       "      <td>0.838308</td>\n",
       "      <td>rbf 0.85 0.0045</td>\n",
       "    </tr>\n",
       "    <tr>\n",
       "      <th>7</th>\n",
       "      <td>0.231076</td>\n",
       "      <td>0.773333</td>\n",
       "      <td>0.135831</td>\n",
       "      <td>0.837942</td>\n",
       "      <td>rbf 0.85 0.005</td>\n",
       "    </tr>\n",
       "    <tr>\n",
       "      <th>12</th>\n",
       "      <td>0.231076</td>\n",
       "      <td>0.773333</td>\n",
       "      <td>0.135831</td>\n",
       "      <td>0.837668</td>\n",
       "      <td>rbf 0.9 0.005</td>\n",
       "    </tr>\n",
       "    <tr>\n",
       "      <th>15</th>\n",
       "      <td>0.231076</td>\n",
       "      <td>0.773333</td>\n",
       "      <td>0.135831</td>\n",
       "      <td>0.838455</td>\n",
       "      <td>rbf 0.95 0.004</td>\n",
       "    </tr>\n",
       "    <tr>\n",
       "      <th>20</th>\n",
       "      <td>0.231076</td>\n",
       "      <td>0.773333</td>\n",
       "      <td>0.135831</td>\n",
       "      <td>0.838372</td>\n",
       "      <td>rbf 1.0 0.004</td>\n",
       "    </tr>\n",
       "    <tr>\n",
       "      <th>21</th>\n",
       "      <td>0.231076</td>\n",
       "      <td>0.773333</td>\n",
       "      <td>0.135831</td>\n",
       "      <td>0.837796</td>\n",
       "      <td>rbf 1.0 0.0045</td>\n",
       "    </tr>\n",
       "    <tr>\n",
       "      <th>1</th>\n",
       "      <td>0.230616</td>\n",
       "      <td>0.773333</td>\n",
       "      <td>0.135514</td>\n",
       "      <td>0.838354</td>\n",
       "      <td>rbf 0.8 0.0045</td>\n",
       "    </tr>\n",
       "    <tr>\n",
       "      <th>2</th>\n",
       "      <td>0.230616</td>\n",
       "      <td>0.773333</td>\n",
       "      <td>0.135514</td>\n",
       "      <td>0.838162</td>\n",
       "      <td>rbf 0.8 0.005</td>\n",
       "    </tr>\n",
       "    <tr>\n",
       "      <th>5</th>\n",
       "      <td>0.230616</td>\n",
       "      <td>0.773333</td>\n",
       "      <td>0.135514</td>\n",
       "      <td>0.838729</td>\n",
       "      <td>rbf 0.85 0.004</td>\n",
       "    </tr>\n",
       "    <tr>\n",
       "      <th>10</th>\n",
       "      <td>0.230616</td>\n",
       "      <td>0.773333</td>\n",
       "      <td>0.135514</td>\n",
       "      <td>0.838564</td>\n",
       "      <td>rbf 0.9 0.004</td>\n",
       "    </tr>\n",
       "    <tr>\n",
       "      <th>14</th>\n",
       "      <td>0.230616</td>\n",
       "      <td>0.773333</td>\n",
       "      <td>0.135514</td>\n",
       "      <td>0.837037</td>\n",
       "      <td>rbf 0.9 0.006</td>\n",
       "    </tr>\n",
       "    <tr>\n",
       "      <th>16</th>\n",
       "      <td>0.230616</td>\n",
       "      <td>0.773333</td>\n",
       "      <td>0.135514</td>\n",
       "      <td>0.837961</td>\n",
       "      <td>rbf 0.95 0.0045</td>\n",
       "    </tr>\n",
       "    <tr>\n",
       "      <th>23</th>\n",
       "      <td>0.230616</td>\n",
       "      <td>0.773333</td>\n",
       "      <td>0.135514</td>\n",
       "      <td>0.837092</td>\n",
       "      <td>rbf 1.0 0.0055</td>\n",
       "    </tr>\n",
       "    <tr>\n",
       "      <th>24</th>\n",
       "      <td>0.230616</td>\n",
       "      <td>0.773333</td>\n",
       "      <td>0.135514</td>\n",
       "      <td>0.837028</td>\n",
       "      <td>rbf 1.0 0.006</td>\n",
       "    </tr>\n",
       "    <tr>\n",
       "      <th>3</th>\n",
       "      <td>0.230159</td>\n",
       "      <td>0.773333</td>\n",
       "      <td>0.135198</td>\n",
       "      <td>0.837513</td>\n",
       "      <td>rbf 0.8 0.0055</td>\n",
       "    </tr>\n",
       "    <tr>\n",
       "      <th>9</th>\n",
       "      <td>0.230159</td>\n",
       "      <td>0.773333</td>\n",
       "      <td>0.135198</td>\n",
       "      <td>0.836964</td>\n",
       "      <td>rbf 0.85 0.006</td>\n",
       "    </tr>\n",
       "    <tr>\n",
       "      <th>17</th>\n",
       "      <td>0.230159</td>\n",
       "      <td>0.773333</td>\n",
       "      <td>0.135198</td>\n",
       "      <td>0.837385</td>\n",
       "      <td>rbf 0.95 0.005</td>\n",
       "    </tr>\n",
       "    <tr>\n",
       "      <th>19</th>\n",
       "      <td>0.230159</td>\n",
       "      <td>0.773333</td>\n",
       "      <td>0.135198</td>\n",
       "      <td>0.837010</td>\n",
       "      <td>rbf 0.95 0.006</td>\n",
       "    </tr>\n",
       "    <tr>\n",
       "      <th>0</th>\n",
       "      <td>0.229703</td>\n",
       "      <td>0.773333</td>\n",
       "      <td>0.134884</td>\n",
       "      <td>0.838674</td>\n",
       "      <td>rbf 0.8 0.004</td>\n",
       "    </tr>\n",
       "    <tr>\n",
       "      <th>4</th>\n",
       "      <td>0.229703</td>\n",
       "      <td>0.773333</td>\n",
       "      <td>0.134884</td>\n",
       "      <td>0.837110</td>\n",
       "      <td>rbf 0.8 0.006</td>\n",
       "    </tr>\n",
       "    <tr>\n",
       "      <th>8</th>\n",
       "      <td>0.229703</td>\n",
       "      <td>0.773333</td>\n",
       "      <td>0.134884</td>\n",
       "      <td>0.837321</td>\n",
       "      <td>rbf 0.85 0.0055</td>\n",
       "    </tr>\n",
       "    <tr>\n",
       "      <th>13</th>\n",
       "      <td>0.229703</td>\n",
       "      <td>0.773333</td>\n",
       "      <td>0.134884</td>\n",
       "      <td>0.837119</td>\n",
       "      <td>rbf 0.9 0.0055</td>\n",
       "    </tr>\n",
       "    <tr>\n",
       "      <th>18</th>\n",
       "      <td>0.229703</td>\n",
       "      <td>0.773333</td>\n",
       "      <td>0.134884</td>\n",
       "      <td>0.837046</td>\n",
       "      <td>rbf 0.95 0.0055</td>\n",
       "    </tr>\n",
       "    <tr>\n",
       "      <th>22</th>\n",
       "      <td>0.229703</td>\n",
       "      <td>0.773333</td>\n",
       "      <td>0.134884</td>\n",
       "      <td>0.837321</td>\n",
       "      <td>rbf 1.0 0.005</td>\n",
       "    </tr>\n",
       "  </tbody>\n",
       "</table>\n",
       "</div>"
      ],
      "text/plain": [
       "          f1    recall  precision   roc_auc              key\n",
       "11  0.231537  0.773333   0.136150  0.838208   rbf 0.9 0.0045\n",
       "6   0.231076  0.773333   0.135831  0.838308  rbf 0.85 0.0045\n",
       "7   0.231076  0.773333   0.135831  0.837942   rbf 0.85 0.005\n",
       "12  0.231076  0.773333   0.135831  0.837668    rbf 0.9 0.005\n",
       "15  0.231076  0.773333   0.135831  0.838455   rbf 0.95 0.004\n",
       "20  0.231076  0.773333   0.135831  0.838372    rbf 1.0 0.004\n",
       "21  0.231076  0.773333   0.135831  0.837796   rbf 1.0 0.0045\n",
       "1   0.230616  0.773333   0.135514  0.838354   rbf 0.8 0.0045\n",
       "2   0.230616  0.773333   0.135514  0.838162    rbf 0.8 0.005\n",
       "5   0.230616  0.773333   0.135514  0.838729   rbf 0.85 0.004\n",
       "10  0.230616  0.773333   0.135514  0.838564    rbf 0.9 0.004\n",
       "14  0.230616  0.773333   0.135514  0.837037    rbf 0.9 0.006\n",
       "16  0.230616  0.773333   0.135514  0.837961  rbf 0.95 0.0045\n",
       "23  0.230616  0.773333   0.135514  0.837092   rbf 1.0 0.0055\n",
       "24  0.230616  0.773333   0.135514  0.837028    rbf 1.0 0.006\n",
       "3   0.230159  0.773333   0.135198  0.837513   rbf 0.8 0.0055\n",
       "9   0.230159  0.773333   0.135198  0.836964   rbf 0.85 0.006\n",
       "17  0.230159  0.773333   0.135198  0.837385   rbf 0.95 0.005\n",
       "19  0.230159  0.773333   0.135198  0.837010   rbf 0.95 0.006\n",
       "0   0.229703  0.773333   0.134884  0.838674    rbf 0.8 0.004\n",
       "4   0.229703  0.773333   0.134884  0.837110    rbf 0.8 0.006\n",
       "8   0.229703  0.773333   0.134884  0.837321  rbf 0.85 0.0055\n",
       "13  0.229703  0.773333   0.134884  0.837119   rbf 0.9 0.0055\n",
       "18  0.229703  0.773333   0.134884  0.837046  rbf 0.95 0.0055\n",
       "22  0.229703  0.773333   0.134884  0.837321    rbf 1.0 0.005"
      ]
     },
     "execution_count": 363,
     "metadata": {},
     "output_type": "execute_result"
    }
   ],
   "source": [
    "df_scores.sort_values(by=['f1', 'recall', 'precision'], ascending=False)"
   ]
  },
  {
   "cell_type": "code",
   "execution_count": 36,
   "metadata": {},
   "outputs": [],
   "source": [
    "model_svc = SVC(kernel='rbf', C=0.9, gamma=0.0045, probability=True, random_state=33)"
   ]
  },
  {
   "cell_type": "code",
   "execution_count": 37,
   "metadata": {},
   "outputs": [
    {
     "data": {
      "text/plain": [
       "SVC(C=0.9, gamma=0.0045, probability=True, random_state=33)"
      ]
     },
     "execution_count": 37,
     "metadata": {},
     "output_type": "execute_result"
    }
   ],
   "source": [
    "model_svc.fit(ds_train.drop(['stroke'], axis=1), ds_train.stroke)"
   ]
  },
  {
   "cell_type": "code",
   "execution_count": 38,
   "metadata": {},
   "outputs": [],
   "source": [
    "y_pred = model_svc.predict(ds_test.drop(['stroke'], axis=1))"
   ]
  },
  {
   "cell_type": "code",
   "execution_count": 39,
   "metadata": {},
   "outputs": [
    {
     "name": "stdout",
     "output_type": "stream",
     "text": [
      "Accuracy: 0.746\n",
      "Precision: 0.135\n",
      "Recall: 0.773\n",
      "F1 score: 0.230\n"
     ]
    }
   ],
   "source": [
    "print_metrics(ds_test.stroke, y_pred)"
   ]
  },
  {
   "cell_type": "code",
   "execution_count": 48,
   "metadata": {},
   "outputs": [],
   "source": [
    "y_pred_prob = model_svc.predict_proba(ds_test.drop(['stroke'], axis=1))"
   ]
  },
  {
   "cell_type": "code",
   "execution_count": 49,
   "metadata": {},
   "outputs": [
    {
     "data": {
      "image/png": "[encoded data removed]",
      "text/plain": [
       "<Figure size 432x288 with 2 Axes>"
      ]
     },
     "metadata": {
      "needs_background": "light"
     },
     "output_type": "display_data"
    }
   ],
   "source": [
    "sns.heatmap(confusion_matrix(ds_test.stroke, y_pred), \n",
    "            cmap='Blues', annot=True, fmt='');"
   ]
  },
  {
   "cell_type": "code",
   "execution_count": 50,
   "metadata": {},
   "outputs": [
    {
     "data": {
      "image/png": "[encoded data removed]",
      "text/plain": [
       "<Figure size 432x288 with 1 Axes>"
      ]
     },
     "metadata": {
      "needs_background": "light"
     },
     "output_type": "display_data"
    }
   ],
   "source": [
    "plot_roc_auc(ds_test.stroke, y_pred_prob[:, 1])"
   ]
  },
  {
   "cell_type": "code",
   "execution_count": null,
   "metadata": {},
   "outputs": [],
   "source": []
  },
  {
   "cell_type": "code",
   "execution_count": null,
   "metadata": {},
   "outputs": [],
   "source": []
  },
  {
   "cell_type": "markdown",
   "metadata": {},
   "source": [
    "#### selection of threshold"
   ]
  },
  {
   "cell_type": "code",
   "execution_count": 371,
   "metadata": {},
   "outputs": [
    {
     "name": "stdout",
     "output_type": "stream",
     "text": [
      "CPU times: user 3.49 s, sys: 0 ns, total: 3.49 s\n",
      "Wall time: 3.52 s\n"
     ]
    }
   ],
   "source": [
    "%%time\n",
    "f1_sc = []\n",
    "threshold = []\n",
    "rec_sc = []\n",
    "prec_sc = []\n",
    "\n",
    "for i in np.linspace(0.0, 1.0, 1000):\n",
    "    recall_sc = recall_score(ds_test.stroke, y_pred_prob[:, 1] > i)\n",
    "    precision_sc = precision_score(ds_test.stroke, y_pred_prob[:, 1] > i)\n",
    "    f_one = f1_score(ds_test.stroke, y_pred_prob[:, 1] > i)\n",
    "    f1_sc.append(f_one)\n",
    "    threshold.append(i)\n",
    "    rec_sc.append(recall_sc)\n",
    "    prec_sc.append(precision_sc)"
   ]
  },
  {
   "cell_type": "code",
   "execution_count": 372,
   "metadata": {},
   "outputs": [
    {
     "data": {
      "image/png": "[encoded data removed]",
      "text/plain": [
       "<Figure size 1080x576 with 1 Axes>"
      ]
     },
     "metadata": {
      "needs_background": "light"
     },
     "output_type": "display_data"
    }
   ],
   "source": [
    "plt.figure(figsize=(15, 8))\n",
    "plt.plot(np.linspace(0.0, 1.0, 1000), rec_sc, color='b', label='recall')\n",
    "plt.plot(np.linspace(0.0, 1.0, 1000), prec_sc, color='r', label='precision')\n",
    "plt.plot(np.linspace(0.0, 1.0, 1000), f1_sc, color='green', label='f1')\n",
    "plt.legend(loc='upper right')\n",
    "plt.show()"
   ]
  },
  {
   "cell_type": "code",
   "execution_count": 373,
   "metadata": {},
   "outputs": [],
   "source": [
    "df_threshold = pd.DataFrame({'threshold': threshold, 'f1': f1_sc, 'recall': rec_sc, 'precision': prec_sc}, \n",
    "                           index=range(len(threshold)))"
   ]
  },
  {
   "cell_type": "code",
   "execution_count": 374,
   "metadata": {},
   "outputs": [
    {
     "data": {
      "image/png": "[encoded data removed]",
      "text/plain": [
       "<Figure size 576x576 with 2 Axes>"
      ]
     },
     "metadata": {
      "needs_background": "light"
     },
     "output_type": "display_data"
    }
   ],
   "source": [
    "plt.figure(figsize=(8, 8))\n",
    "sns.heatmap(df_threshold.sort_values(by=['f1'], ascending=False)[:35], annot=True, fmt='.4f');"
   ]
  },
  {
   "cell_type": "code",
   "execution_count": 375,
   "metadata": {},
   "outputs": [
    {
     "data": {
      "text/plain": [
       "0.6416416416416416"
      ]
     },
     "execution_count": 375,
     "metadata": {},
     "output_type": "execute_result"
    }
   ],
   "source": [
    "threshold[641]"
   ]
  },
  {
   "cell_type": "code",
   "execution_count": 55,
   "metadata": {},
   "outputs": [],
   "source": [
    "conf_matrix = confusion_matrix(ds_test.stroke, y_pred_prob[:, 1] > 0.6416416416416416)"
   ]
  },
  {
   "cell_type": "code",
   "execution_count": 56,
   "metadata": {},
   "outputs": [
    {
     "data": {
      "image/png": "[encoded data removed]",
      "text/plain": [
       "<Figure size 432x288 with 2 Axes>"
      ]
     },
     "metadata": {
      "needs_background": "light"
     },
     "output_type": "display_data"
    }
   ],
   "source": [
    "sns.heatmap(conf_matrix, cmap='Blues', annot=True, fmt='');"
   ]
  },
  {
   "cell_type": "code",
   "execution_count": 57,
   "metadata": {},
   "outputs": [
    {
     "name": "stdout",
     "output_type": "stream",
     "text": [
      "Accuracy: 0.851\n",
      "Precision: 0.202\n",
      "Recall: 0.693\n",
      "F1 score: 0.313\n"
     ]
    }
   ],
   "source": [
    "print_metrics(ds_test.stroke, y_pred_prob[:, 1] > 0.6416416416416416)"
   ]
  },
  {
   "cell_type": "markdown",
   "metadata": {},
   "source": [
    "### ------------ Bagging------------------------"
   ]
  },
  {
   "cell_type": "code",
   "execution_count": 59,
   "metadata": {},
   "outputs": [],
   "source": [
    "from sklearn.ensemble import BaggingClassifier"
   ]
  },
  {
   "cell_type": "code",
   "execution_count": 60,
   "metadata": {},
   "outputs": [],
   "source": [
    "model_bagging = BaggingClassifier(SVC(kernel='rbf', C=0.9, gamma=0.0045, probability=True, random_state=33),\n",
    "                                 n_estimators=1000, max_samples=100, bootstrap=True, \n",
    "                                  random_state=33, n_jobs=-1)"
   ]
  },
  {
   "cell_type": "code",
   "execution_count": 62,
   "metadata": {},
   "outputs": [
    {
     "name": "stdout",
     "output_type": "stream",
     "text": [
      "CPU times: user 172 ms, sys: 12 ms, total: 184 ms\n",
      "Wall time: 1.52 s\n"
     ]
    },
    {
     "data": {
      "text/plain": [
       "BaggingClassifier(base_estimator=SVC(C=0.9, gamma=0.0045, probability=True,\n",
       "                                     random_state=33),\n",
       "                  max_samples=100, n_estimators=1000, n_jobs=-1,\n",
       "                  random_state=33)"
      ]
     },
     "execution_count": 62,
     "metadata": {},
     "output_type": "execute_result"
    }
   ],
   "source": [
    "%%time\n",
    "model_bagging.fit(ds_train.drop(['stroke'], axis=1), ds_train.stroke)"
   ]
  },
  {
   "cell_type": "code",
   "execution_count": 68,
   "metadata": {},
   "outputs": [],
   "source": [
    "y_pred = model_bagging.predict(ds_test.drop(['stroke'], axis=1))"
   ]
  },
  {
   "cell_type": "code",
   "execution_count": 69,
   "metadata": {},
   "outputs": [
    {
     "name": "stdout",
     "output_type": "stream",
     "text": [
      "Accuracy: 0.754\n",
      "Precision: 0.139\n",
      "Recall: 0.773\n",
      "F1 score: 0.235\n"
     ]
    }
   ],
   "source": [
    "print_metrics(ds_test.stroke, y_pred)"
   ]
  },
  {
   "cell_type": "code",
   "execution_count": null,
   "metadata": {},
   "outputs": [],
   "source": []
  },
  {
   "cell_type": "markdown",
   "metadata": {},
   "source": [
    "### --------------- Scaler MM---------------------"
   ]
  },
  {
   "cell_type": "markdown",
   "metadata": {},
   "source": [
    "#### load ds for Scaler Min Max"
   ]
  },
  {
   "cell_type": "code",
   "execution_count": 278,
   "metadata": {},
   "outputs": [],
   "source": [
    "ds = pd.read_csv('healthcare-dataset-stroke-data.csv', delimiter=',')"
   ]
  },
  {
   "cell_type": "code",
   "execution_count": 279,
   "metadata": {},
   "outputs": [
    {
     "data": {
      "text/html": [
       "<div>\n",
       "<style scoped>\n",
       "    .dataframe tbody tr th:only-of-type {\n",
       "        vertical-align: middle;\n",
       "    }\n",
       "\n",
       "    .dataframe tbody tr th {\n",
       "        vertical-align: top;\n",
       "    }\n",
       "\n",
       "    .dataframe thead th {\n",
       "        text-align: right;\n",
       "    }\n",
       "</style>\n",
       "<table border=\"1\" class=\"dataframe\">\n",
       "  <thead>\n",
       "    <tr style=\"text-align: right;\">\n",
       "      <th></th>\n",
       "      <th>id</th>\n",
       "      <th>gender</th>\n",
       "      <th>age</th>\n",
       "      <th>hypertension</th>\n",
       "      <th>heart_disease</th>\n",
       "      <th>ever_married</th>\n",
       "      <th>work_type</th>\n",
       "      <th>Residence_type</th>\n",
       "      <th>avg_glucose_level</th>\n",
       "      <th>bmi</th>\n",
       "      <th>smoking_status</th>\n",
       "      <th>stroke</th>\n",
       "    </tr>\n",
       "  </thead>\n",
       "  <tbody>\n",
       "    <tr>\n",
       "      <th>0</th>\n",
       "      <td>9046</td>\n",
       "      <td>Male</td>\n",
       "      <td>67.0</td>\n",
       "      <td>0</td>\n",
       "      <td>1</td>\n",
       "      <td>Yes</td>\n",
       "      <td>Private</td>\n",
       "      <td>Urban</td>\n",
       "      <td>228.69</td>\n",
       "      <td>36.6</td>\n",
       "      <td>formerly smoked</td>\n",
       "      <td>1</td>\n",
       "    </tr>\n",
       "    <tr>\n",
       "      <th>1</th>\n",
       "      <td>51676</td>\n",
       "      <td>Female</td>\n",
       "      <td>61.0</td>\n",
       "      <td>0</td>\n",
       "      <td>0</td>\n",
       "      <td>Yes</td>\n",
       "      <td>Self-employed</td>\n",
       "      <td>Rural</td>\n",
       "      <td>202.21</td>\n",
       "      <td>NaN</td>\n",
       "      <td>never smoked</td>\n",
       "      <td>1</td>\n",
       "    </tr>\n",
       "    <tr>\n",
       "      <th>2</th>\n",
       "      <td>31112</td>\n",
       "      <td>Male</td>\n",
       "      <td>80.0</td>\n",
       "      <td>0</td>\n",
       "      <td>1</td>\n",
       "      <td>Yes</td>\n",
       "      <td>Private</td>\n",
       "      <td>Rural</td>\n",
       "      <td>105.92</td>\n",
       "      <td>32.5</td>\n",
       "      <td>never smoked</td>\n",
       "      <td>1</td>\n",
       "    </tr>\n",
       "  </tbody>\n",
       "</table>\n",
       "</div>"
      ],
      "text/plain": [
       "      id  gender   age  hypertension  heart_disease ever_married  \\\n",
       "0   9046    Male  67.0             0              1          Yes   \n",
       "1  51676  Female  61.0             0              0          Yes   \n",
       "2  31112    Male  80.0             0              1          Yes   \n",
       "\n",
       "       work_type Residence_type  avg_glucose_level   bmi   smoking_status  \\\n",
       "0        Private          Urban             228.69  36.6  formerly smoked   \n",
       "1  Self-employed          Rural             202.21   NaN     never smoked   \n",
       "2        Private          Rural             105.92  32.5     never smoked   \n",
       "\n",
       "   stroke  \n",
       "0       1  \n",
       "1       1  \n",
       "2       1  "
      ]
     },
     "execution_count": 279,
     "metadata": {},
     "output_type": "execute_result"
    }
   ],
   "source": [
    "ds.head(3)"
   ]
  },
  {
   "cell_type": "code",
   "execution_count": 280,
   "metadata": {},
   "outputs": [],
   "source": [
    "ds.drop(['id'], axis=1, inplace=True)"
   ]
  },
  {
   "cell_type": "code",
   "execution_count": 281,
   "metadata": {},
   "outputs": [
    {
     "data": {
      "text/plain": [
       "3116    0\n",
       "Name: stroke, dtype: int64"
      ]
     },
     "execution_count": 281,
     "metadata": {},
     "output_type": "execute_result"
    }
   ],
   "source": [
    "ds.stroke[ds.gender == 'Other']"
   ]
  },
  {
   "cell_type": "code",
   "execution_count": 282,
   "metadata": {},
   "outputs": [],
   "source": [
    "ds.drop([3116], inplace=True)"
   ]
  },
  {
   "cell_type": "code",
   "execution_count": 285,
   "metadata": {},
   "outputs": [],
   "source": [
    "def replace_nan(data, to_replace, replacement_data):\n",
    "    \n",
    "    data_def = data.copy(deep=True)\n",
    "    \n",
    "    index_zero = list(data_def[to_replace][data_def[replacement_data] == 0].index)\n",
    "    index_one = list(data_def[to_replace][data_def[replacement_data] == 1].index)\n",
    "    \n",
    "    for i in range(2):\n",
    "        minimum = data_def[to_replace][data_def[replacement_data] == i].quantile(0.25)\n",
    "        maximum = data_def[to_replace][data_def[replacement_data] == i].quantile(0.75)\n",
    "        \n",
    "        minimum -= (maximum - minimum) * 0.5\n",
    "        maximum += (maximum - minimum) * 0.5\n",
    "    \n",
    "        count = data_def[to_replace][data_def[replacement_data] == i].isnull().sum()\n",
    "        \n",
    "        data_for_nan = np.random.choice(range(int(minimum), int(maximum)), count)\n",
    "    \n",
    "        if i == 0:\n",
    "            index_null = data_def[to_replace][index_zero][data_def[to_replace].isnull()].index\n",
    "        else:\n",
    "            index_null = data_def[to_replace][index_one][data_def[to_replace].isnull()].index\n",
    "        \n",
    "        data_def[to_replace][index_null] = data_for_nan\n",
    "        \n",
    "    return data_def"
   ]
  },
  {
   "cell_type": "code",
   "execution_count": 286,
   "metadata": {},
   "outputs": [],
   "source": [
    "ds = replace_nan(ds, 'bmi', 'stroke')"
   ]
  },
  {
   "cell_type": "code",
   "execution_count": 288,
   "metadata": {},
   "outputs": [],
   "source": [
    "ds = pd.get_dummies(ds, columns=columns_dummis, prefix_sep='_', drop_first=True)"
   ]
  },
  {
   "cell_type": "code",
   "execution_count": 289,
   "metadata": {},
   "outputs": [
    {
     "data": {
      "text/html": [
       "<div>\n",
       "<style scoped>\n",
       "    .dataframe tbody tr th:only-of-type {\n",
       "        vertical-align: middle;\n",
       "    }\n",
       "\n",
       "    .dataframe tbody tr th {\n",
       "        vertical-align: top;\n",
       "    }\n",
       "\n",
       "    .dataframe thead th {\n",
       "        text-align: right;\n",
       "    }\n",
       "</style>\n",
       "<table border=\"1\" class=\"dataframe\">\n",
       "  <thead>\n",
       "    <tr style=\"text-align: right;\">\n",
       "      <th></th>\n",
       "      <th>age</th>\n",
       "      <th>hypertension</th>\n",
       "      <th>heart_disease</th>\n",
       "      <th>avg_glucose_level</th>\n",
       "      <th>bmi</th>\n",
       "      <th>stroke</th>\n",
       "      <th>gender_Male</th>\n",
       "      <th>ever_married_Yes</th>\n",
       "      <th>work_type_Never_worked</th>\n",
       "      <th>work_type_Private</th>\n",
       "      <th>work_type_Self-employed</th>\n",
       "      <th>work_type_children</th>\n",
       "      <th>Residence_type_Urban</th>\n",
       "      <th>smoking_status_formerly smoked</th>\n",
       "      <th>smoking_status_never smoked</th>\n",
       "      <th>smoking_status_smokes</th>\n",
       "    </tr>\n",
       "  </thead>\n",
       "  <tbody>\n",
       "    <tr>\n",
       "      <th>0</th>\n",
       "      <td>67.0</td>\n",
       "      <td>0</td>\n",
       "      <td>1</td>\n",
       "      <td>228.69</td>\n",
       "      <td>36.6</td>\n",
       "      <td>1</td>\n",
       "      <td>1</td>\n",
       "      <td>1</td>\n",
       "      <td>0</td>\n",
       "      <td>1</td>\n",
       "      <td>0</td>\n",
       "      <td>0</td>\n",
       "      <td>1</td>\n",
       "      <td>1</td>\n",
       "      <td>0</td>\n",
       "      <td>0</td>\n",
       "    </tr>\n",
       "    <tr>\n",
       "      <th>1</th>\n",
       "      <td>61.0</td>\n",
       "      <td>0</td>\n",
       "      <td>0</td>\n",
       "      <td>202.21</td>\n",
       "      <td>23.0</td>\n",
       "      <td>1</td>\n",
       "      <td>0</td>\n",
       "      <td>1</td>\n",
       "      <td>0</td>\n",
       "      <td>0</td>\n",
       "      <td>1</td>\n",
       "      <td>0</td>\n",
       "      <td>0</td>\n",
       "      <td>0</td>\n",
       "      <td>1</td>\n",
       "      <td>0</td>\n",
       "    </tr>\n",
       "    <tr>\n",
       "      <th>2</th>\n",
       "      <td>80.0</td>\n",
       "      <td>0</td>\n",
       "      <td>1</td>\n",
       "      <td>105.92</td>\n",
       "      <td>32.5</td>\n",
       "      <td>1</td>\n",
       "      <td>1</td>\n",
       "      <td>1</td>\n",
       "      <td>0</td>\n",
       "      <td>1</td>\n",
       "      <td>0</td>\n",
       "      <td>0</td>\n",
       "      <td>0</td>\n",
       "      <td>0</td>\n",
       "      <td>1</td>\n",
       "      <td>0</td>\n",
       "    </tr>\n",
       "  </tbody>\n",
       "</table>\n",
       "</div>"
      ],
      "text/plain": [
       "    age  hypertension  heart_disease  avg_glucose_level   bmi  stroke  \\\n",
       "0  67.0             0              1             228.69  36.6       1   \n",
       "1  61.0             0              0             202.21  23.0       1   \n",
       "2  80.0             0              1             105.92  32.5       1   \n",
       "\n",
       "   gender_Male  ever_married_Yes  work_type_Never_worked  work_type_Private  \\\n",
       "0            1                 1                       0                  1   \n",
       "1            0                 1                       0                  0   \n",
       "2            1                 1                       0                  1   \n",
       "\n",
       "   work_type_Self-employed  work_type_children  Residence_type_Urban  \\\n",
       "0                        0                   0                     1   \n",
       "1                        1                   0                     0   \n",
       "2                        0                   0                     0   \n",
       "\n",
       "   smoking_status_formerly smoked  smoking_status_never smoked  \\\n",
       "0                               1                            0   \n",
       "1                               0                            1   \n",
       "2                               0                            1   \n",
       "\n",
       "   smoking_status_smokes  \n",
       "0                      0  \n",
       "1                      0  \n",
       "2                      0  "
      ]
     },
     "execution_count": 289,
     "metadata": {},
     "output_type": "execute_result"
    }
   ],
   "source": [
    "ds.head(3)"
   ]
  },
  {
   "cell_type": "code",
   "execution_count": 290,
   "metadata": {},
   "outputs": [],
   "source": [
    "from sklearn.model_selection import train_test_split"
   ]
  },
  {
   "cell_type": "code",
   "execution_count": 291,
   "metadata": {},
   "outputs": [],
   "source": [
    "ds_train, ds_test = train_test_split(ds, test_size=0.3, random_state=42, stratify=ds.stroke)"
   ]
  },
  {
   "cell_type": "code",
   "execution_count": 292,
   "metadata": {},
   "outputs": [
    {
     "data": {
      "text/plain": [
       "(0    0.951342\n",
       " 1    0.048658\n",
       " Name: stroke, dtype: float64,\n",
       " 0    0.951076\n",
       " 1    0.048924\n",
       " Name: stroke, dtype: float64)"
      ]
     },
     "execution_count": 292,
     "metadata": {},
     "output_type": "execute_result"
    }
   ],
   "source": [
    "ds_train.stroke.value_counts(normalize=True), ds_test.stroke.value_counts(normalize=True)"
   ]
  },
  {
   "cell_type": "code",
   "execution_count": 293,
   "metadata": {},
   "outputs": [
    {
     "data": {
      "text/plain": [
       "(5109, (5109, 16))"
      ]
     },
     "execution_count": 293,
     "metadata": {},
     "output_type": "execute_result"
    }
   ],
   "source": [
    "ds_train.shape[0] + ds_test.shape[0], ds.shape"
   ]
  },
  {
   "cell_type": "code",
   "execution_count": 294,
   "metadata": {},
   "outputs": [
    {
     "data": {
      "text/plain": [
       "2547"
      ]
     },
     "execution_count": 294,
     "metadata": {},
     "output_type": "execute_result"
    }
   ],
   "source": [
    "add_rows = int(ds_train.stroke.value_counts()[0] * .8 - ds_train.stroke.value_counts()[1])\n",
    "add_rows"
   ]
  },
  {
   "cell_type": "code",
   "execution_count": 295,
   "metadata": {},
   "outputs": [
    {
     "data": {
      "text/plain": [
       "(14,\n",
       " 0    3402\n",
       " 1     174\n",
       " Name: stroke, dtype: int64)"
      ]
     },
     "execution_count": 295,
     "metadata": {},
     "output_type": "execute_result"
    }
   ],
   "source": [
    "int(add_rows / ds_train.stroke.value_counts()[1]), ds_train.stroke.value_counts()"
   ]
  },
  {
   "cell_type": "code",
   "execution_count": 296,
   "metadata": {},
   "outputs": [],
   "source": [
    "index_train_one = ds_train.stroke[ds_train.stroke == 1].index\n",
    "ds_train_one = ds_train.loc[index_train_one]"
   ]
  },
  {
   "cell_type": "code",
   "execution_count": 297,
   "metadata": {},
   "outputs": [],
   "source": [
    "for i in range(14):\n",
    "    ds_train = ds_train.append(ds_train_one)\n",
    "    #y_train = pd.concat([y_train, y_train[y_train == 1]])"
   ]
  },
  {
   "cell_type": "code",
   "execution_count": 298,
   "metadata": {},
   "outputs": [
    {
     "data": {
      "text/plain": [
       "0    0.565868\n",
       "1    0.434132\n",
       "Name: stroke, dtype: float64"
      ]
     },
     "execution_count": 298,
     "metadata": {},
     "output_type": "execute_result"
    }
   ],
   "source": [
    "ds_train.stroke.value_counts(normalize=True)"
   ]
  },
  {
   "cell_type": "code",
   "execution_count": 299,
   "metadata": {},
   "outputs": [],
   "source": [
    "from sklearn.utils import shuffle"
   ]
  },
  {
   "cell_type": "code",
   "execution_count": 300,
   "metadata": {},
   "outputs": [],
   "source": [
    "ds_train = shuffle(ds_train)"
   ]
  },
  {
   "cell_type": "code",
   "execution_count": null,
   "metadata": {},
   "outputs": [],
   "source": []
  },
  {
   "cell_type": "code",
   "execution_count": 170,
   "metadata": {},
   "outputs": [],
   "source": [
    "scaler_MM = MinMaxScaler()"
   ]
  },
  {
   "cell_type": "code",
   "execution_count": 171,
   "metadata": {},
   "outputs": [],
   "source": [
    "ds_train[columns_numeric] =  scaler_MM.fit_transform(ds_train[columns_numeric])"
   ]
  },
  {
   "cell_type": "code",
   "execution_count": 172,
   "metadata": {},
   "outputs": [
    {
     "data": {
      "text/html": [
       "<div>\n",
       "<style scoped>\n",
       "    .dataframe tbody tr th:only-of-type {\n",
       "        vertical-align: middle;\n",
       "    }\n",
       "\n",
       "    .dataframe tbody tr th {\n",
       "        vertical-align: top;\n",
       "    }\n",
       "\n",
       "    .dataframe thead th {\n",
       "        text-align: right;\n",
       "    }\n",
       "</style>\n",
       "<table border=\"1\" class=\"dataframe\">\n",
       "  <thead>\n",
       "    <tr style=\"text-align: right;\">\n",
       "      <th></th>\n",
       "      <th>age</th>\n",
       "      <th>hypertension</th>\n",
       "      <th>heart_disease</th>\n",
       "      <th>avg_glucose_level</th>\n",
       "      <th>bmi</th>\n",
       "      <th>stroke</th>\n",
       "      <th>gender_Male</th>\n",
       "      <th>ever_married_Yes</th>\n",
       "      <th>work_type_Never_worked</th>\n",
       "      <th>work_type_Private</th>\n",
       "      <th>work_type_Self-employed</th>\n",
       "      <th>work_type_children</th>\n",
       "      <th>Residence_type_Urban</th>\n",
       "      <th>smoking_status_formerly smoked</th>\n",
       "      <th>smoking_status_never smoked</th>\n",
       "      <th>smoking_status_smokes</th>\n",
       "    </tr>\n",
       "  </thead>\n",
       "  <tbody>\n",
       "    <tr>\n",
       "      <th>2821</th>\n",
       "      <td>0.865591</td>\n",
       "      <td>0</td>\n",
       "      <td>1</td>\n",
       "      <td>0.199658</td>\n",
       "      <td>0.237454</td>\n",
       "      <td>0</td>\n",
       "      <td>0</td>\n",
       "      <td>1</td>\n",
       "      <td>0</td>\n",
       "      <td>0</td>\n",
       "      <td>1</td>\n",
       "      <td>0</td>\n",
       "      <td>0</td>\n",
       "      <td>0</td>\n",
       "      <td>0</td>\n",
       "      <td>0</td>\n",
       "    </tr>\n",
       "    <tr>\n",
       "      <th>2903</th>\n",
       "      <td>0.767840</td>\n",
       "      <td>0</td>\n",
       "      <td>0</td>\n",
       "      <td>0.228940</td>\n",
       "      <td>0.168911</td>\n",
       "      <td>0</td>\n",
       "      <td>1</td>\n",
       "      <td>1</td>\n",
       "      <td>0</td>\n",
       "      <td>1</td>\n",
       "      <td>0</td>\n",
       "      <td>0</td>\n",
       "      <td>0</td>\n",
       "      <td>0</td>\n",
       "      <td>0</td>\n",
       "      <td>0</td>\n",
       "    </tr>\n",
       "    <tr>\n",
       "      <th>106</th>\n",
       "      <td>0.608993</td>\n",
       "      <td>1</td>\n",
       "      <td>0</td>\n",
       "      <td>0.082948</td>\n",
       "      <td>0.244798</td>\n",
       "      <td>1</td>\n",
       "      <td>0</td>\n",
       "      <td>1</td>\n",
       "      <td>0</td>\n",
       "      <td>1</td>\n",
       "      <td>0</td>\n",
       "      <td>0</td>\n",
       "      <td>0</td>\n",
       "      <td>1</td>\n",
       "      <td>0</td>\n",
       "      <td>0</td>\n",
       "    </tr>\n",
       "  </tbody>\n",
       "</table>\n",
       "</div>"
      ],
      "text/plain": [
       "           age  hypertension  heart_disease  avg_glucose_level       bmi  \\\n",
       "2821  0.865591             0              1           0.199658  0.237454   \n",
       "2903  0.767840             0              0           0.228940  0.168911   \n",
       "106   0.608993             1              0           0.082948  0.244798   \n",
       "\n",
       "      stroke  gender_Male  ever_married_Yes  work_type_Never_worked  \\\n",
       "2821       0            0                 1                       0   \n",
       "2903       0            1                 1                       0   \n",
       "106        1            0                 1                       0   \n",
       "\n",
       "      work_type_Private  work_type_Self-employed  work_type_children  \\\n",
       "2821                  0                        1                   0   \n",
       "2903                  1                        0                   0   \n",
       "106                   1                        0                   0   \n",
       "\n",
       "      Residence_type_Urban  smoking_status_formerly smoked  \\\n",
       "2821                     0                               0   \n",
       "2903                     0                               0   \n",
       "106                      0                               1   \n",
       "\n",
       "      smoking_status_never smoked  smoking_status_smokes  \n",
       "2821                            0                      0  \n",
       "2903                            0                      0  \n",
       "106                             0                      0  "
      ]
     },
     "execution_count": 172,
     "metadata": {},
     "output_type": "execute_result"
    }
   ],
   "source": [
    "ds_train.head(3)"
   ]
  },
  {
   "cell_type": "code",
   "execution_count": 176,
   "metadata": {},
   "outputs": [],
   "source": [
    "ds_test[columns_numeric] = scaler_MM.transform(ds_test[columns_numeric])"
   ]
  },
  {
   "cell_type": "markdown",
   "metadata": {},
   "source": [
    "### --------------- SVC --------------------------"
   ]
  },
  {
   "cell_type": "markdown",
   "metadata": {},
   "source": [
    "#### selection of params"
   ]
  },
  {
   "cell_type": "code",
   "execution_count": 243,
   "metadata": {},
   "outputs": [
    {
     "name": "stdout",
     "output_type": "stream",
     "text": [
      "CPU times: user 13min 3s, sys: 13.2 s, total: 13min 16s\n",
      "Wall time: 13min 17s\n"
     ]
    }
   ],
   "source": [
    "%%time\n",
    "best_f1 = []\n",
    "best_recall = []\n",
    "best_roc_auc = []\n",
    "best_precision = [] \n",
    "x = []\n",
    "x_keys = []\n",
    "n = 0\n",
    "\n",
    "for cr in ['rbf']:\n",
    "    for c in [0.05, 0.1, 0.15, 0.20, 0.25, 0.30, 0.35, 0.4, 0.45, 0.5]:\n",
    "        for g in [0.005, 0.01, 0.05, 0.1, 0.15, 0.20, 0.25, 0.30, 0.35, 0.4]:\n",
    "            model = SVC(kernel=cr, C=c, gamma=g, probability=True, random_state=33)\n",
    "                \n",
    "            model.fit(ds_train.drop(['stroke'], axis=1), ds_train.stroke)\n",
    "            y_pred = model.predict(ds_test.drop(['stroke'], axis=1))\n",
    "                \n",
    "            f1 = f1_score(ds_test.stroke, y_pred)\n",
    "            best_f1.append(f1)\n",
    "                \n",
    "            recall = recall_score(ds_test.stroke, y_pred)\n",
    "            best_recall.append(recall)\n",
    "                \n",
    "            precision = precision_score(ds_test.stroke, y_pred)\n",
    "            best_precision.append(precision)\n",
    "                \n",
    "            y_pred_prob = model.predict_proba(ds_test.drop(['stroke'], axis=1))\n",
    "            roc_auc = roc_auc_score(ds_test.stroke, y_pred_prob[:, 1])\n",
    "            best_roc_auc.append(roc_auc)\n",
    "                \n",
    "            x_keys.append(str(cr) +' '+ str(c) +' '+ str(g))\n",
    "            x.append(n)\n",
    "            n += 1"
   ]
  },
  {
   "cell_type": "code",
   "execution_count": null,
   "metadata": {},
   "outputs": [],
   "source": []
  },
  {
   "cell_type": "code",
   "execution_count": 244,
   "metadata": {},
   "outputs": [],
   "source": [
    "scores = {'f1': best_f1, 'recall': best_recall, 'precision': best_precision, 'roc_auc': best_roc_auc, 'key': x_keys}\n",
    "\n",
    "df_scores = pd.DataFrame(scores, index=x)"
   ]
  },
  {
   "cell_type": "code",
   "execution_count": 248,
   "metadata": {},
   "outputs": [
    {
     "data": {
      "text/html": [
       "<div>\n",
       "<style scoped>\n",
       "    .dataframe tbody tr th:only-of-type {\n",
       "        vertical-align: middle;\n",
       "    }\n",
       "\n",
       "    .dataframe tbody tr th {\n",
       "        vertical-align: top;\n",
       "    }\n",
       "\n",
       "    .dataframe thead th {\n",
       "        text-align: right;\n",
       "    }\n",
       "</style>\n",
       "<table border=\"1\" class=\"dataframe\">\n",
       "  <thead>\n",
       "    <tr style=\"text-align: right;\">\n",
       "      <th></th>\n",
       "      <th>f1</th>\n",
       "      <th>recall</th>\n",
       "      <th>precision</th>\n",
       "      <th>roc_auc</th>\n",
       "      <th>key</th>\n",
       "    </tr>\n",
       "  </thead>\n",
       "  <tbody>\n",
       "    <tr>\n",
       "      <th>61</th>\n",
       "      <td>0.257471</td>\n",
       "      <td>0.746667</td>\n",
       "      <td>0.155556</td>\n",
       "      <td>0.826301</td>\n",
       "      <td>rbf 0.35 0.01</td>\n",
       "    </tr>\n",
       "    <tr>\n",
       "      <th>51</th>\n",
       "      <td>0.257143</td>\n",
       "      <td>0.720000</td>\n",
       "      <td>0.156522</td>\n",
       "      <td>0.824015</td>\n",
       "      <td>rbf 0.3 0.01</td>\n",
       "    </tr>\n",
       "    <tr>\n",
       "      <th>71</th>\n",
       "      <td>0.251656</td>\n",
       "      <td>0.760000</td>\n",
       "      <td>0.150794</td>\n",
       "      <td>0.828679</td>\n",
       "      <td>rbf 0.4 0.01</td>\n",
       "    </tr>\n",
       "    <tr>\n",
       "      <th>90</th>\n",
       "      <td>0.250000</td>\n",
       "      <td>0.693333</td>\n",
       "      <td>0.152493</td>\n",
       "      <td>0.821171</td>\n",
       "      <td>rbf 0.5 0.005</td>\n",
       "    </tr>\n",
       "    <tr>\n",
       "      <th>80</th>\n",
       "      <td>0.250000</td>\n",
       "      <td>0.680000</td>\n",
       "      <td>0.153153</td>\n",
       "      <td>0.819598</td>\n",
       "      <td>rbf 0.45 0.005</td>\n",
       "    </tr>\n",
       "    <tr>\n",
       "      <th>20</th>\n",
       "      <td>0.248276</td>\n",
       "      <td>0.480000</td>\n",
       "      <td>0.167442</td>\n",
       "      <td>0.796063</td>\n",
       "      <td>rbf 0.15 0.005</td>\n",
       "    </tr>\n",
       "    <tr>\n",
       "      <th>41</th>\n",
       "      <td>0.248210</td>\n",
       "      <td>0.693333</td>\n",
       "      <td>0.151163</td>\n",
       "      <td>0.820960</td>\n",
       "      <td>rbf 0.25 0.01</td>\n",
       "    </tr>\n",
       "    <tr>\n",
       "      <th>3</th>\n",
       "      <td>0.247826</td>\n",
       "      <td>0.760000</td>\n",
       "      <td>0.148052</td>\n",
       "      <td>0.823640</td>\n",
       "      <td>rbf 0.05 0.1</td>\n",
       "    </tr>\n",
       "    <tr>\n",
       "      <th>31</th>\n",
       "      <td>0.246231</td>\n",
       "      <td>0.653333</td>\n",
       "      <td>0.151703</td>\n",
       "      <td>0.816946</td>\n",
       "      <td>rbf 0.2 0.01</td>\n",
       "    </tr>\n",
       "    <tr>\n",
       "      <th>60</th>\n",
       "      <td>0.245614</td>\n",
       "      <td>0.653333</td>\n",
       "      <td>0.151235</td>\n",
       "      <td>0.814518</td>\n",
       "      <td>rbf 0.35 0.005</td>\n",
       "    </tr>\n",
       "    <tr>\n",
       "      <th>2</th>\n",
       "      <td>0.245192</td>\n",
       "      <td>0.680000</td>\n",
       "      <td>0.149560</td>\n",
       "      <td>0.816452</td>\n",
       "      <td>rbf 0.05 0.05</td>\n",
       "    </tr>\n",
       "    <tr>\n",
       "      <th>81</th>\n",
       "      <td>0.245161</td>\n",
       "      <td>0.760000</td>\n",
       "      <td>0.146154</td>\n",
       "      <td>0.830764</td>\n",
       "      <td>rbf 0.45 0.01</td>\n",
       "    </tr>\n",
       "    <tr>\n",
       "      <th>70</th>\n",
       "      <td>0.245000</td>\n",
       "      <td>0.653333</td>\n",
       "      <td>0.150769</td>\n",
       "      <td>0.817554</td>\n",
       "      <td>rbf 0.4 0.005</td>\n",
       "    </tr>\n",
       "    <tr>\n",
       "      <th>21</th>\n",
       "      <td>0.243386</td>\n",
       "      <td>0.613333</td>\n",
       "      <td>0.151815</td>\n",
       "      <td>0.809835</td>\n",
       "      <td>rbf 0.15 0.01</td>\n",
       "    </tr>\n",
       "    <tr>\n",
       "      <th>50</th>\n",
       "      <td>0.243386</td>\n",
       "      <td>0.613333</td>\n",
       "      <td>0.151815</td>\n",
       "      <td>0.810224</td>\n",
       "      <td>rbf 0.3 0.005</td>\n",
       "    </tr>\n",
       "    <tr>\n",
       "      <th>91</th>\n",
       "      <td>0.241667</td>\n",
       "      <td>0.773333</td>\n",
       "      <td>0.143210</td>\n",
       "      <td>0.832048</td>\n",
       "      <td>rbf 0.5 0.01</td>\n",
       "    </tr>\n",
       "    <tr>\n",
       "      <th>30</th>\n",
       "      <td>0.241270</td>\n",
       "      <td>0.506667</td>\n",
       "      <td>0.158333</td>\n",
       "      <td>0.800741</td>\n",
       "      <td>rbf 0.2 0.005</td>\n",
       "    </tr>\n",
       "    <tr>\n",
       "      <th>4</th>\n",
       "      <td>0.241164</td>\n",
       "      <td>0.773333</td>\n",
       "      <td>0.142857</td>\n",
       "      <td>0.822620</td>\n",
       "      <td>rbf 0.05 0.15</td>\n",
       "    </tr>\n",
       "    <tr>\n",
       "      <th>5</th>\n",
       "      <td>0.240664</td>\n",
       "      <td>0.773333</td>\n",
       "      <td>0.142506</td>\n",
       "      <td>0.819675</td>\n",
       "      <td>rbf 0.05 0.2</td>\n",
       "    </tr>\n",
       "    <tr>\n",
       "      <th>34</th>\n",
       "      <td>0.240664</td>\n",
       "      <td>0.773333</td>\n",
       "      <td>0.142506</td>\n",
       "      <td>0.822817</td>\n",
       "      <td>rbf 0.2 0.15</td>\n",
       "    </tr>\n",
       "  </tbody>\n",
       "</table>\n",
       "</div>"
      ],
      "text/plain": [
       "          f1    recall  precision   roc_auc             key\n",
       "61  0.257471  0.746667   0.155556  0.826301   rbf 0.35 0.01\n",
       "51  0.257143  0.720000   0.156522  0.824015    rbf 0.3 0.01\n",
       "71  0.251656  0.760000   0.150794  0.828679    rbf 0.4 0.01\n",
       "90  0.250000  0.693333   0.152493  0.821171   rbf 0.5 0.005\n",
       "80  0.250000  0.680000   0.153153  0.819598  rbf 0.45 0.005\n",
       "20  0.248276  0.480000   0.167442  0.796063  rbf 0.15 0.005\n",
       "41  0.248210  0.693333   0.151163  0.820960   rbf 0.25 0.01\n",
       "3   0.247826  0.760000   0.148052  0.823640    rbf 0.05 0.1\n",
       "31  0.246231  0.653333   0.151703  0.816946    rbf 0.2 0.01\n",
       "60  0.245614  0.653333   0.151235  0.814518  rbf 0.35 0.005\n",
       "2   0.245192  0.680000   0.149560  0.816452   rbf 0.05 0.05\n",
       "81  0.245161  0.760000   0.146154  0.830764   rbf 0.45 0.01\n",
       "70  0.245000  0.653333   0.150769  0.817554   rbf 0.4 0.005\n",
       "21  0.243386  0.613333   0.151815  0.809835   rbf 0.15 0.01\n",
       "50  0.243386  0.613333   0.151815  0.810224   rbf 0.3 0.005\n",
       "91  0.241667  0.773333   0.143210  0.832048    rbf 0.5 0.01\n",
       "30  0.241270  0.506667   0.158333  0.800741   rbf 0.2 0.005\n",
       "4   0.241164  0.773333   0.142857  0.822620   rbf 0.05 0.15\n",
       "5   0.240664  0.773333   0.142506  0.819675    rbf 0.05 0.2\n",
       "34  0.240664  0.773333   0.142506  0.822817    rbf 0.2 0.15"
      ]
     },
     "execution_count": 248,
     "metadata": {},
     "output_type": "execute_result"
    }
   ],
   "source": [
    "df_scores.sort_values(by=['f1', 'recall'], ascending=False)[:20]"
   ]
  },
  {
   "cell_type": "code",
   "execution_count": 249,
   "metadata": {},
   "outputs": [
    {
     "data": {
      "image/png": "[encoded data removed]",
      "text/plain": [
       "<Figure size 576x720 with 2 Axes>"
      ]
     },
     "metadata": {
      "needs_background": "light"
     },
     "output_type": "display_data"
    }
   ],
   "source": [
    "plt.figure(figsize=(8, 10))\n",
    "sns.heatmap(df_scores.loc[:, ['f1', 'recall', 'precision', 'roc_auc']].sort_values(by='f1', ascending=False)[:30], \n",
    "           annot=True, fmt='.5f');"
   ]
  },
  {
   "cell_type": "code",
   "execution_count": null,
   "metadata": {},
   "outputs": [],
   "source": []
  },
  {
   "cell_type": "code",
   "execution_count": 259,
   "metadata": {},
   "outputs": [],
   "source": [
    "model_svc = SVC(kernel='rbf', C=0.4, gamma=0.01, probability=True, random_state=33)"
   ]
  },
  {
   "cell_type": "code",
   "execution_count": 260,
   "metadata": {},
   "outputs": [
    {
     "data": {
      "text/plain": [
       "SVC(C=0.4, gamma=0.01, probability=True, random_state=33)"
      ]
     },
     "execution_count": 260,
     "metadata": {},
     "output_type": "execute_result"
    }
   ],
   "source": [
    "model_svc.fit(ds_train.drop(['stroke'], axis=1), ds_train.stroke)"
   ]
  },
  {
   "cell_type": "code",
   "execution_count": 261,
   "metadata": {},
   "outputs": [],
   "source": [
    "y_pred = model_svc.predict(ds_test.drop(['stroke'], axis=1))"
   ]
  },
  {
   "cell_type": "code",
   "execution_count": 262,
   "metadata": {},
   "outputs": [
    {
     "name": "stdout",
     "output_type": "stream",
     "text": [
      "Accuracy: 0.779\n",
      "Precision: 0.151\n",
      "Recall: 0.760\n",
      "F1 score: 0.252\n"
     ]
    }
   ],
   "source": [
    "print_metrics(ds_test.stroke, y_pred)"
   ]
  },
  {
   "cell_type": "code",
   "execution_count": 263,
   "metadata": {},
   "outputs": [],
   "source": [
    "y_ped_prob = model_svc.predict_proba(ds_test.drop(['stroke'], axis=1))"
   ]
  },
  {
   "cell_type": "code",
   "execution_count": 264,
   "metadata": {},
   "outputs": [
    {
     "data": {
      "image/png": "[encoded data removed]",
      "text/plain": [
       "<Figure size 432x288 with 2 Axes>"
      ]
     },
     "metadata": {
      "needs_background": "light"
     },
     "output_type": "display_data"
    }
   ],
   "source": [
    "sns.heatmap(confusion_matrix(ds_test.stroke, y_pred), \n",
    "            cmap='Blues', annot=True, fmt='');"
   ]
  },
  {
   "cell_type": "code",
   "execution_count": 265,
   "metadata": {},
   "outputs": [
    {
     "data": {
      "image/png": "[encoded data removed]",
      "text/plain": [
       "<Figure size 432x288 with 1 Axes>"
      ]
     },
     "metadata": {
      "needs_background": "light"
     },
     "output_type": "display_data"
    }
   ],
   "source": [
    "plot_roc_auc(ds_test.stroke, y_pred_prob[:, 1])"
   ]
  },
  {
   "cell_type": "markdown",
   "metadata": {},
   "source": [
    "#### selection of threshold"
   ]
  },
  {
   "cell_type": "code",
   "execution_count": 266,
   "metadata": {},
   "outputs": [],
   "source": [
    "f1_sc = []\n",
    "threshold = []\n",
    "rec_sc = []\n",
    "prec_sc = []\n",
    "\n",
    "for i in np.linspace(0.0, 1.0, 1000):\n",
    "    recall_sc = recall_score(ds_test.stroke, y_pred_prob[:, 1] > i)\n",
    "    precision_sc = precision_score(ds_test.stroke, y_pred_prob[:, 1] > i)\n",
    "    f_one = f1_score(ds_test.stroke, y_pred_prob[:, 1] > i)\n",
    "    f1_sc.append(f_one)\n",
    "    threshold.append(i)\n",
    "    rec_sc.append(recall_sc)\n",
    "    prec_sc.append(precision_sc)"
   ]
  },
  {
   "cell_type": "code",
   "execution_count": 267,
   "metadata": {},
   "outputs": [
    {
     "data": {
      "image/png": "[encoded data removed]",
      "text/plain": [
       "<Figure size 1080x576 with 1 Axes>"
      ]
     },
     "metadata": {
      "needs_background": "light"
     },
     "output_type": "display_data"
    }
   ],
   "source": [
    "plt.figure(figsize=(15, 8))\n",
    "plt.plot(np.linspace(0.0, 1.0, 1000), rec_sc, color='b', label='recall')\n",
    "plt.plot(np.linspace(0.0, 1.0, 1000), prec_sc, color='r', label='precision')\n",
    "plt.plot(np.linspace(0.0, 1.0, 1000), f1_sc, color='green', label='f1')\n",
    "plt.legend(loc='upper right')\n",
    "plt.show()"
   ]
  },
  {
   "cell_type": "code",
   "execution_count": 268,
   "metadata": {},
   "outputs": [],
   "source": [
    "df_threshold = pd.DataFrame({'threshold': threshold, 'f1': f1_sc, 'recall': rec_sc, 'precision': prec_sc}, \n",
    "                           index=range(len(threshold)))"
   ]
  },
  {
   "cell_type": "code",
   "execution_count": 272,
   "metadata": {},
   "outputs": [
    {
     "data": {
      "image/png": "[encoded data removed]",
      "text/plain": [
       "<Figure size 576x720 with 2 Axes>"
      ]
     },
     "metadata": {
      "needs_background": "light"
     },
     "output_type": "display_data"
    }
   ],
   "source": [
    "plt.figure(figsize=(8, 10))\n",
    "sns.heatmap(df_threshold.sort_values(by=['f1'], ascending=False)[:50], annot=True, fmt='.4f');"
   ]
  },
  {
   "cell_type": "code",
   "execution_count": 273,
   "metadata": {},
   "outputs": [
    {
     "data": {
      "text/plain": [
       "0.6876876876876877"
      ]
     },
     "execution_count": 273,
     "metadata": {},
     "output_type": "execute_result"
    }
   ],
   "source": [
    "threshold[687]"
   ]
  },
  {
   "cell_type": "code",
   "execution_count": 274,
   "metadata": {},
   "outputs": [],
   "source": [
    "conf_matrix = confusion_matrix(ds_test.stroke, y_pred_prob[:, 1] > 0.6876876876876877)"
   ]
  },
  {
   "cell_type": "code",
   "execution_count": 275,
   "metadata": {},
   "outputs": [
    {
     "data": {
      "image/png": "[encoded data removed]",
      "text/plain": [
       "<Figure size 432x288 with 2 Axes>"
      ]
     },
     "metadata": {
      "needs_background": "light"
     },
     "output_type": "display_data"
    }
   ],
   "source": [
    "sns.heatmap(conf_matrix, cmap='Blues', annot=True, fmt='');"
   ]
  },
  {
   "cell_type": "code",
   "execution_count": 276,
   "metadata": {},
   "outputs": [
    {
     "name": "stdout",
     "output_type": "stream",
     "text": [
      "Accuracy: 0.871\n",
      "Precision: 0.206\n",
      "Recall: 0.573\n",
      "F1 score: 0.303\n"
     ]
    }
   ],
   "source": [
    "print_metrics(ds_test.stroke, y_pred_prob[:, 1] > 0.6876876876876877)"
   ]
  },
  {
   "cell_type": "markdown",
   "metadata": {},
   "source": [
    "### ------ Best params --------------"
   ]
  },
  {
   "cell_type": "markdown",
   "metadata": {},
   "source": [
    "- Scaler -> StandardScaler      \n",
    "- SVC      \n",
    "    - kernel='rbf'       \n",
    "    - C=1.0         \n",
    "    - gamma=0.0045       \n",
    "\n",
    "- threshold - 0.6416416416416416      \n"
   ]
  },
  {
   "cell_type": "markdown",
   "metadata": {},
   "source": [
    "results:      \n",
    "- Accuracy: 0.854       \n",
    "- Precision: 0.210        \n",
    "- Recall: 0.720         \n",
    "- F1 score: 0.325    "
   ]
  },
  {
   "cell_type": "code",
   "execution_count": null,
   "metadata": {},
   "outputs": [],
   "source": []
  }
 ],
 "metadata": {
  "kernelspec": {
   "display_name": "Python 3",
   "language": "python",
   "name": "python3"
  },
  "language_info": {
   "codemirror_mode": {
    "name": "ipython",
    "version": 3
   },
   "file_extension": ".py",
   "mimetype": "text/x-python",
   "name": "python",
   "nbconvert_exporter": "python",
   "pygments_lexer": "ipython3",
   "version": "3.7.3"
  }
 },
 "nbformat": 4,
 "nbformat_minor": 4
}
