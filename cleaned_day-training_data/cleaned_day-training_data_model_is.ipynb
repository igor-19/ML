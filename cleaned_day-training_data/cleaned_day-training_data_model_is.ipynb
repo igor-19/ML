{
 "cells": [
  {
   "cell_type": "markdown",
   "metadata": {},
   "source": [
    "# Cleaned Day-Trading Training Data\n",
    "### Day-trading entry positions that show bullish RSI divergence"
   ]
  },
  {
   "cell_type": "markdown",
   "metadata": {},
   "source": [
    "https://www.kaggle.com/dawerty/cleaned-daytrading-training-data/tasks?taskId=3265"
   ]
  },
  {
   "cell_type": "code",
   "execution_count": 1,
   "metadata": {},
   "outputs": [],
   "source": [
    "import numpy as np\n",
    "import pandas as pd\n",
    "import pandas_profiling\n",
    "import matplotlib.pyplot as plt\n",
    "import matplotlib\n",
    "import seaborn as sns\n",
    "\n",
    "%matplotlib inline"
   ]
  },
  {
   "cell_type": "code",
   "execution_count": 52,
   "metadata": {},
   "outputs": [],
   "source": [
    "import warnings\n",
    "\n",
    "warnings.filterwarnings('ignore')"
   ]
  },
  {
   "cell_type": "code",
   "execution_count": 124,
   "metadata": {},
   "outputs": [],
   "source": [
    "ds = pd.read_csv('train.csv')"
   ]
  },
  {
   "cell_type": "code",
   "execution_count": 125,
   "metadata": {},
   "outputs": [
    {
     "data": {
      "text/plain": [
       "Index(['is_profit', 'sym', 'datetime', 'rsi14', 'sma9_var', 'sma180_var',\n",
       "       'vwap_var', 'spread14_e', 'volume14_34_var', 'prev_close_var',\n",
       "       'prev_floor_var', 'prev_ceil_var', 'prev1_candle_score',\n",
       "       'prev2_candle_score', 'prev3_candle_score', 'mins_from_start',\n",
       "       'valley_interval_mins', 'valley_close_score', 'valley_rsi_score',\n",
       "       'day_open_var', 'open_from_prev_close_var', 'ceil_var', 'floor_var'],\n",
       "      dtype='object')"
      ]
     },
     "execution_count": 125,
     "metadata": {},
     "output_type": "execute_result"
    }
   ],
   "source": [
    "columns = ds.columns\n",
    "columns"
   ]
  },
  {
   "cell_type": "code",
   "execution_count": 126,
   "metadata": {},
   "outputs": [],
   "source": [
    "columns_drop = ['datetime', 'sym'] #, 'valley_rsi_score', 'valley_interval_mins',  'volume14_34_var']"
   ]
  },
  {
   "cell_type": "code",
   "execution_count": 127,
   "metadata": {},
   "outputs": [
    {
     "data": {
      "image/png": "[encoded data removed]",
      "text/plain": [
       "<Figure size 432x288 with 1 Axes>"
      ]
     },
     "metadata": {
      "needs_background": "light"
     },
     "output_type": "display_data"
    }
   ],
   "source": [
    "sns.countplot(ds.is_profit);"
   ]
  },
  {
   "cell_type": "code",
   "execution_count": 128,
   "metadata": {},
   "outputs": [
    {
     "data": {
      "text/html": [
       "<div>\n",
       "<style scoped>\n",
       "    .dataframe tbody tr th:only-of-type {\n",
       "        vertical-align: middle;\n",
       "    }\n",
       "\n",
       "    .dataframe tbody tr th {\n",
       "        vertical-align: top;\n",
       "    }\n",
       "\n",
       "    .dataframe thead th {\n",
       "        text-align: right;\n",
       "    }\n",
       "</style>\n",
       "<table border=\"1\" class=\"dataframe\">\n",
       "  <thead>\n",
       "    <tr style=\"text-align: right;\">\n",
       "      <th></th>\n",
       "      <th>is_profit</th>\n",
       "      <th>sym</th>\n",
       "      <th>datetime</th>\n",
       "      <th>rsi14</th>\n",
       "      <th>sma9_var</th>\n",
       "      <th>sma180_var</th>\n",
       "      <th>vwap_var</th>\n",
       "      <th>spread14_e</th>\n",
       "      <th>volume14_34_var</th>\n",
       "      <th>prev_close_var</th>\n",
       "      <th>...</th>\n",
       "      <th>prev2_candle_score</th>\n",
       "      <th>prev3_candle_score</th>\n",
       "      <th>mins_from_start</th>\n",
       "      <th>valley_interval_mins</th>\n",
       "      <th>valley_close_score</th>\n",
       "      <th>valley_rsi_score</th>\n",
       "      <th>day_open_var</th>\n",
       "      <th>open_from_prev_close_var</th>\n",
       "      <th>ceil_var</th>\n",
       "      <th>floor_var</th>\n",
       "    </tr>\n",
       "  </thead>\n",
       "  <tbody>\n",
       "    <tr>\n",
       "      <th>0</th>\n",
       "      <td>True</td>\n",
       "      <td>MGNX</td>\n",
       "      <td>2020-11-02 11:13:00</td>\n",
       "      <td>30.509761</td>\n",
       "      <td>-0.006223</td>\n",
       "      <td>-0.022679</td>\n",
       "      <td>-0.017526</td>\n",
       "      <td>0.000620</td>\n",
       "      <td>-0.006472</td>\n",
       "      <td>-0.037037</td>\n",
       "      <td>...</td>\n",
       "      <td>0.000000</td>\n",
       "      <td>0.000000</td>\n",
       "      <td>103.0</td>\n",
       "      <td>50.0</td>\n",
       "      <td>0.425532</td>\n",
       "      <td>0.758046</td>\n",
       "      <td>-0.032058</td>\n",
       "      <td>-0.005144</td>\n",
       "      <td>-0.034554</td>\n",
       "      <td>0.000802</td>\n",
       "    </tr>\n",
       "    <tr>\n",
       "      <th>1</th>\n",
       "      <td>True</td>\n",
       "      <td>MGNX</td>\n",
       "      <td>2020-11-02 13:55:00</td>\n",
       "      <td>46.452741</td>\n",
       "      <td>-0.001062</td>\n",
       "      <td>-0.004721</td>\n",
       "      <td>-0.007713</td>\n",
       "      <td>0.000695</td>\n",
       "      <td>0.280249</td>\n",
       "      <td>-0.031893</td>\n",
       "      <td>...</td>\n",
       "      <td>0.001062</td>\n",
       "      <td>0.000504</td>\n",
       "      <td>265.0</td>\n",
       "      <td>67.0</td>\n",
       "      <td>0.633584</td>\n",
       "      <td>10.958588</td>\n",
       "      <td>-0.026887</td>\n",
       "      <td>-0.005144</td>\n",
       "      <td>-0.029397</td>\n",
       "      <td>0.006148</td>\n",
       "    </tr>\n",
       "    <tr>\n",
       "      <th>2</th>\n",
       "      <td>True</td>\n",
       "      <td>AEIS</td>\n",
       "      <td>2020-11-02 14:08:00</td>\n",
       "      <td>34.336224</td>\n",
       "      <td>-0.004443</td>\n",
       "      <td>-0.016648</td>\n",
       "      <td>-0.016589</td>\n",
       "      <td>0.000518</td>\n",
       "      <td>0.284800</td>\n",
       "      <td>0.011396</td>\n",
       "      <td>...</td>\n",
       "      <td>-0.001020</td>\n",
       "      <td>0.000000</td>\n",
       "      <td>278.0</td>\n",
       "      <td>13.0</td>\n",
       "      <td>0.306356</td>\n",
       "      <td>2.964667</td>\n",
       "      <td>-0.003935</td>\n",
       "      <td>0.015391</td>\n",
       "      <td>-0.030638</td>\n",
       "      <td>0.000000</td>\n",
       "    </tr>\n",
       "  </tbody>\n",
       "</table>\n",
       "<p>3 rows × 23 columns</p>\n",
       "</div>"
      ],
      "text/plain": [
       "   is_profit   sym             datetime      rsi14  sma9_var  sma180_var  \\\n",
       "0       True  MGNX  2020-11-02 11:13:00  30.509761 -0.006223   -0.022679   \n",
       "1       True  MGNX  2020-11-02 13:55:00  46.452741 -0.001062   -0.004721   \n",
       "2       True  AEIS  2020-11-02 14:08:00  34.336224 -0.004443   -0.016648   \n",
       "\n",
       "   vwap_var  spread14_e  volume14_34_var  prev_close_var  ...  \\\n",
       "0 -0.017526    0.000620        -0.006472       -0.037037  ...   \n",
       "1 -0.007713    0.000695         0.280249       -0.031893  ...   \n",
       "2 -0.016589    0.000518         0.284800        0.011396  ...   \n",
       "\n",
       "   prev2_candle_score  prev3_candle_score  mins_from_start  \\\n",
       "0            0.000000            0.000000            103.0   \n",
       "1            0.001062            0.000504            265.0   \n",
       "2           -0.001020            0.000000            278.0   \n",
       "\n",
       "   valley_interval_mins  valley_close_score  valley_rsi_score  day_open_var  \\\n",
       "0                  50.0            0.425532          0.758046     -0.032058   \n",
       "1                  67.0            0.633584         10.958588     -0.026887   \n",
       "2                  13.0            0.306356          2.964667     -0.003935   \n",
       "\n",
       "   open_from_prev_close_var  ceil_var  floor_var  \n",
       "0                 -0.005144 -0.034554   0.000802  \n",
       "1                 -0.005144 -0.029397   0.006148  \n",
       "2                  0.015391 -0.030638   0.000000  \n",
       "\n",
       "[3 rows x 23 columns]"
      ]
     },
     "execution_count": 128,
     "metadata": {},
     "output_type": "execute_result"
    }
   ],
   "source": [
    "ds.head(3)"
   ]
  },
  {
   "cell_type": "code",
   "execution_count": 129,
   "metadata": {},
   "outputs": [],
   "source": [
    "def plot_hist_boxplot(data, col=columns[3:]):\n",
    "    plt.figure(figsize=(18, 35))\n",
    "    for i, feature in enumerate(col):\n",
    "        plt.subplot(10, 4, i*2+1)\n",
    "        plt.hist(data[feature], bins=50)\n",
    "        plt.title(feature)\n",
    "        plt.subplot(10, 4, i*2+2)\n",
    "        plt.boxplot(data[feature])\n",
    "        plt.title(feature)"
   ]
  },
  {
   "cell_type": "code",
   "execution_count": 130,
   "metadata": {},
   "outputs": [
    {
     "data": {
      "image/png": "[encoded data removed]",
      "text/plain": [
       "<Figure size 1296x2520 with 40 Axes>"
      ]
     },
     "metadata": {
      "needs_background": "light"
     },
     "output_type": "display_data"
    }
   ],
   "source": [
    "plot_hist_boxplot(data=ds, col=columns[3:])"
   ]
  },
  {
   "cell_type": "code",
   "execution_count": 131,
   "metadata": {},
   "outputs": [],
   "source": [
    "def drop_outlier(data, treshold=3):\n",
    "    \n",
    "    df = data.copy(deep=True)\n",
    "    \n",
    "    for col in list(df.columns):\n",
    "        \n",
    "        IQR = df[col].quantile(0.75) - df[col].quantile(0.25)\n",
    "        lower_fence = df[col].quantile(0.25) - IQR * treshold\n",
    "        upper_fence = df[col].quantile(0.75) + IQR * treshold\n",
    "        \n",
    "        index_below_lower = df[col][df[col] < lower_fence].index\n",
    "        index_above_upper = df[col][df[col] > upper_fence].index\n",
    "        \n",
    "        df.drop(index=index_below_lower, inplace=True)\n",
    "        df.drop(index=index_above_upper, inplace=True)              \n",
    "        \n",
    "    return df"
   ]
  },
  {
   "cell_type": "markdown",
   "metadata": {},
   "source": [
    "### ---------- data for model -----------------       \n",
    "- drop outlier\n",
    "- undersampling\n",
    "- scaler"
   ]
  },
  {
   "cell_type": "code",
   "execution_count": 132,
   "metadata": {},
   "outputs": [],
   "source": [
    "ds.sort_values(by=['datetime'], inplace=True)"
   ]
  },
  {
   "cell_type": "code",
   "execution_count": 133,
   "metadata": {},
   "outputs": [],
   "source": [
    "ds.reset_index(drop=True, inplace=True)"
   ]
  },
  {
   "cell_type": "code",
   "execution_count": 134,
   "metadata": {},
   "outputs": [],
   "source": [
    "ds.drop(columns=columns_drop, axis=1, inplace=True)"
   ]
  },
  {
   "cell_type": "code",
   "execution_count": 135,
   "metadata": {},
   "outputs": [
    {
     "data": {
      "text/html": [
       "<div>\n",
       "<style scoped>\n",
       "    .dataframe tbody tr th:only-of-type {\n",
       "        vertical-align: middle;\n",
       "    }\n",
       "\n",
       "    .dataframe tbody tr th {\n",
       "        vertical-align: top;\n",
       "    }\n",
       "\n",
       "    .dataframe thead th {\n",
       "        text-align: right;\n",
       "    }\n",
       "</style>\n",
       "<table border=\"1\" class=\"dataframe\">\n",
       "  <thead>\n",
       "    <tr style=\"text-align: right;\">\n",
       "      <th></th>\n",
       "      <th>is_profit</th>\n",
       "      <th>rsi14</th>\n",
       "      <th>sma9_var</th>\n",
       "      <th>sma180_var</th>\n",
       "      <th>vwap_var</th>\n",
       "      <th>spread14_e</th>\n",
       "      <th>volume14_34_var</th>\n",
       "      <th>prev_close_var</th>\n",
       "      <th>prev_floor_var</th>\n",
       "      <th>prev_ceil_var</th>\n",
       "      <th>...</th>\n",
       "      <th>prev2_candle_score</th>\n",
       "      <th>prev3_candle_score</th>\n",
       "      <th>mins_from_start</th>\n",
       "      <th>valley_interval_mins</th>\n",
       "      <th>valley_close_score</th>\n",
       "      <th>valley_rsi_score</th>\n",
       "      <th>day_open_var</th>\n",
       "      <th>open_from_prev_close_var</th>\n",
       "      <th>ceil_var</th>\n",
       "      <th>floor_var</th>\n",
       "    </tr>\n",
       "  </thead>\n",
       "  <tbody>\n",
       "    <tr>\n",
       "      <th>0</th>\n",
       "      <td>True</td>\n",
       "      <td>25.864903</td>\n",
       "      <td>-0.005211</td>\n",
       "      <td>-0.017121</td>\n",
       "      <td>-0.006652</td>\n",
       "      <td>0.001381</td>\n",
       "      <td>0.413605</td>\n",
       "      <td>-0.016173</td>\n",
       "      <td>0.002288</td>\n",
       "      <td>-0.035455</td>\n",
       "      <td>...</td>\n",
       "      <td>0.000681</td>\n",
       "      <td>-0.000680</td>\n",
       "      <td>8.0</td>\n",
       "      <td>6.0</td>\n",
       "      <td>0.409278</td>\n",
       "      <td>4.864155</td>\n",
       "      <td>-0.008040</td>\n",
       "      <td>-0.008199</td>\n",
       "      <td>-0.008040</td>\n",
       "      <td>0.000000</td>\n",
       "    </tr>\n",
       "    <tr>\n",
       "      <th>1</th>\n",
       "      <td>True</td>\n",
       "      <td>35.941117</td>\n",
       "      <td>-0.013599</td>\n",
       "      <td>-0.040594</td>\n",
       "      <td>-0.013055</td>\n",
       "      <td>0.004202</td>\n",
       "      <td>-0.023284</td>\n",
       "      <td>-0.018765</td>\n",
       "      <td>-0.009339</td>\n",
       "      <td>-0.082802</td>\n",
       "      <td>...</td>\n",
       "      <td>0.010158</td>\n",
       "      <td>0.001416</td>\n",
       "      <td>11.0</td>\n",
       "      <td>9.0</td>\n",
       "      <td>0.624558</td>\n",
       "      <td>1.913348</td>\n",
       "      <td>-0.023154</td>\n",
       "      <td>0.004493</td>\n",
       "      <td>-0.023154</td>\n",
       "      <td>0.000000</td>\n",
       "    </tr>\n",
       "    <tr>\n",
       "      <th>2</th>\n",
       "      <td>True</td>\n",
       "      <td>39.219209</td>\n",
       "      <td>-0.004243</td>\n",
       "      <td>-0.011440</td>\n",
       "      <td>-0.005372</td>\n",
       "      <td>0.002192</td>\n",
       "      <td>0.257575</td>\n",
       "      <td>-0.011508</td>\n",
       "      <td>-0.000895</td>\n",
       "      <td>-0.051478</td>\n",
       "      <td>...</td>\n",
       "      <td>-0.000178</td>\n",
       "      <td>0.001964</td>\n",
       "      <td>11.0</td>\n",
       "      <td>7.0</td>\n",
       "      <td>0.123792</td>\n",
       "      <td>1.588380</td>\n",
       "      <td>-0.010106</td>\n",
       "      <td>-0.001416</td>\n",
       "      <td>-0.010808</td>\n",
       "      <td>0.000000</td>\n",
       "    </tr>\n",
       "    <tr>\n",
       "      <th>3</th>\n",
       "      <td>True</td>\n",
       "      <td>40.864568</td>\n",
       "      <td>-0.002063</td>\n",
       "      <td>-0.014365</td>\n",
       "      <td>-0.003455</td>\n",
       "      <td>0.001831</td>\n",
       "      <td>-0.378129</td>\n",
       "      <td>0.000136</td>\n",
       "      <td>0.000478</td>\n",
       "      <td>-0.033313</td>\n",
       "      <td>...</td>\n",
       "      <td>0.002185</td>\n",
       "      <td>-0.001158</td>\n",
       "      <td>12.0</td>\n",
       "      <td>7.0</td>\n",
       "      <td>0.030710</td>\n",
       "      <td>2.705955</td>\n",
       "      <td>-0.009104</td>\n",
       "      <td>0.009325</td>\n",
       "      <td>-0.010872</td>\n",
       "      <td>0.000000</td>\n",
       "    </tr>\n",
       "    <tr>\n",
       "      <th>4</th>\n",
       "      <td>True</td>\n",
       "      <td>15.371447</td>\n",
       "      <td>-0.006608</td>\n",
       "      <td>-0.053626</td>\n",
       "      <td>-0.016386</td>\n",
       "      <td>0.003477</td>\n",
       "      <td>0.320950</td>\n",
       "      <td>-0.044232</td>\n",
       "      <td>-0.044232</td>\n",
       "      <td>-0.111290</td>\n",
       "      <td>...</td>\n",
       "      <td>-0.004381</td>\n",
       "      <td>0.000000</td>\n",
       "      <td>12.0</td>\n",
       "      <td>7.0</td>\n",
       "      <td>0.406680</td>\n",
       "      <td>9.065181</td>\n",
       "      <td>-0.027790</td>\n",
       "      <td>-0.016912</td>\n",
       "      <td>-0.027790</td>\n",
       "      <td>0.000000</td>\n",
       "    </tr>\n",
       "    <tr>\n",
       "      <th>...</th>\n",
       "      <td>...</td>\n",
       "      <td>...</td>\n",
       "      <td>...</td>\n",
       "      <td>...</td>\n",
       "      <td>...</td>\n",
       "      <td>...</td>\n",
       "      <td>...</td>\n",
       "      <td>...</td>\n",
       "      <td>...</td>\n",
       "      <td>...</td>\n",
       "      <td>...</td>\n",
       "      <td>...</td>\n",
       "      <td>...</td>\n",
       "      <td>...</td>\n",
       "      <td>...</td>\n",
       "      <td>...</td>\n",
       "      <td>...</td>\n",
       "      <td>...</td>\n",
       "      <td>...</td>\n",
       "      <td>...</td>\n",
       "      <td>...</td>\n",
       "    </tr>\n",
       "    <tr>\n",
       "      <th>258724</th>\n",
       "      <td>False</td>\n",
       "      <td>42.584938</td>\n",
       "      <td>-0.002942</td>\n",
       "      <td>-0.001782</td>\n",
       "      <td>-0.000201</td>\n",
       "      <td>0.000704</td>\n",
       "      <td>-0.220472</td>\n",
       "      <td>-0.019825</td>\n",
       "      <td>-0.016401</td>\n",
       "      <td>-0.030969</td>\n",
       "      <td>...</td>\n",
       "      <td>-0.001847</td>\n",
       "      <td>0.000000</td>\n",
       "      <td>299.0</td>\n",
       "      <td>22.0</td>\n",
       "      <td>0.015440</td>\n",
       "      <td>0.564469</td>\n",
       "      <td>-0.002464</td>\n",
       "      <td>-0.017403</td>\n",
       "      <td>-0.007509</td>\n",
       "      <td>0.011873</td>\n",
       "    </tr>\n",
       "    <tr>\n",
       "      <th>258725</th>\n",
       "      <td>False</td>\n",
       "      <td>39.683352</td>\n",
       "      <td>-0.002649</td>\n",
       "      <td>-0.007363</td>\n",
       "      <td>-0.007414</td>\n",
       "      <td>0.000632</td>\n",
       "      <td>-0.217332</td>\n",
       "      <td>-0.007519</td>\n",
       "      <td>0.004912</td>\n",
       "      <td>-0.025248</td>\n",
       "      <td>...</td>\n",
       "      <td>0.000000</td>\n",
       "      <td>0.000438</td>\n",
       "      <td>299.0</td>\n",
       "      <td>12.0</td>\n",
       "      <td>0.024437</td>\n",
       "      <td>2.212095</td>\n",
       "      <td>-0.002438</td>\n",
       "      <td>-0.005093</td>\n",
       "      <td>-0.021287</td>\n",
       "      <td>0.008378</td>\n",
       "    </tr>\n",
       "    <tr>\n",
       "      <th>258726</th>\n",
       "      <td>False</td>\n",
       "      <td>38.506831</td>\n",
       "      <td>-0.000718</td>\n",
       "      <td>-0.000635</td>\n",
       "      <td>0.000872</td>\n",
       "      <td>0.000246</td>\n",
       "      <td>-0.025282</td>\n",
       "      <td>-0.001192</td>\n",
       "      <td>0.012749</td>\n",
       "      <td>-0.003005</td>\n",
       "      <td>...</td>\n",
       "      <td>-0.000439</td>\n",
       "      <td>0.000533</td>\n",
       "      <td>299.0</td>\n",
       "      <td>24.0</td>\n",
       "      <td>0.081549</td>\n",
       "      <td>1.384253</td>\n",
       "      <td>0.000754</td>\n",
       "      <td>-0.001944</td>\n",
       "      <td>-0.002505</td>\n",
       "      <td>0.007432</td>\n",
       "    </tr>\n",
       "    <tr>\n",
       "      <th>258727</th>\n",
       "      <td>False</td>\n",
       "      <td>46.916006</td>\n",
       "      <td>-0.000547</td>\n",
       "      <td>0.000627</td>\n",
       "      <td>0.002996</td>\n",
       "      <td>0.000404</td>\n",
       "      <td>-0.172408</td>\n",
       "      <td>-0.001406</td>\n",
       "      <td>0.022147</td>\n",
       "      <td>-0.011332</td>\n",
       "      <td>...</td>\n",
       "      <td>-0.000401</td>\n",
       "      <td>0.000201</td>\n",
       "      <td>299.0</td>\n",
       "      <td>27.0</td>\n",
       "      <td>0.060287</td>\n",
       "      <td>8.779307</td>\n",
       "      <td>0.018014</td>\n",
       "      <td>-0.019076</td>\n",
       "      <td>-0.005400</td>\n",
       "      <td>0.020521</td>\n",
       "    </tr>\n",
       "    <tr>\n",
       "      <th>258728</th>\n",
       "      <td>False</td>\n",
       "      <td>39.315644</td>\n",
       "      <td>-0.000641</td>\n",
       "      <td>-0.001787</td>\n",
       "      <td>-0.001375</td>\n",
       "      <td>0.000197</td>\n",
       "      <td>0.093292</td>\n",
       "      <td>-0.010970</td>\n",
       "      <td>-0.005345</td>\n",
       "      <td>-0.013951</td>\n",
       "      <td>...</td>\n",
       "      <td>-0.000197</td>\n",
       "      <td>-0.000296</td>\n",
       "      <td>299.0</td>\n",
       "      <td>14.0</td>\n",
       "      <td>0.004927</td>\n",
       "      <td>1.627241</td>\n",
       "      <td>0.001333</td>\n",
       "      <td>-0.012287</td>\n",
       "      <td>-0.004886</td>\n",
       "      <td>0.003661</td>\n",
       "    </tr>\n",
       "  </tbody>\n",
       "</table>\n",
       "<p>258729 rows × 21 columns</p>\n",
       "</div>"
      ],
      "text/plain": [
       "        is_profit      rsi14  sma9_var  sma180_var  vwap_var  spread14_e  \\\n",
       "0            True  25.864903 -0.005211   -0.017121 -0.006652    0.001381   \n",
       "1            True  35.941117 -0.013599   -0.040594 -0.013055    0.004202   \n",
       "2            True  39.219209 -0.004243   -0.011440 -0.005372    0.002192   \n",
       "3            True  40.864568 -0.002063   -0.014365 -0.003455    0.001831   \n",
       "4            True  15.371447 -0.006608   -0.053626 -0.016386    0.003477   \n",
       "...           ...        ...       ...         ...       ...         ...   \n",
       "258724      False  42.584938 -0.002942   -0.001782 -0.000201    0.000704   \n",
       "258725      False  39.683352 -0.002649   -0.007363 -0.007414    0.000632   \n",
       "258726      False  38.506831 -0.000718   -0.000635  0.000872    0.000246   \n",
       "258727      False  46.916006 -0.000547    0.000627  0.002996    0.000404   \n",
       "258728      False  39.315644 -0.000641   -0.001787 -0.001375    0.000197   \n",
       "\n",
       "        volume14_34_var  prev_close_var  prev_floor_var  prev_ceil_var  ...  \\\n",
       "0              0.413605       -0.016173        0.002288      -0.035455  ...   \n",
       "1             -0.023284       -0.018765       -0.009339      -0.082802  ...   \n",
       "2              0.257575       -0.011508       -0.000895      -0.051478  ...   \n",
       "3             -0.378129        0.000136        0.000478      -0.033313  ...   \n",
       "4              0.320950       -0.044232       -0.044232      -0.111290  ...   \n",
       "...                 ...             ...             ...            ...  ...   \n",
       "258724        -0.220472       -0.019825       -0.016401      -0.030969  ...   \n",
       "258725        -0.217332       -0.007519        0.004912      -0.025248  ...   \n",
       "258726        -0.025282       -0.001192        0.012749      -0.003005  ...   \n",
       "258727        -0.172408       -0.001406        0.022147      -0.011332  ...   \n",
       "258728         0.093292       -0.010970       -0.005345      -0.013951  ...   \n",
       "\n",
       "        prev2_candle_score  prev3_candle_score  mins_from_start  \\\n",
       "0                 0.000681           -0.000680              8.0   \n",
       "1                 0.010158            0.001416             11.0   \n",
       "2                -0.000178            0.001964             11.0   \n",
       "3                 0.002185           -0.001158             12.0   \n",
       "4                -0.004381            0.000000             12.0   \n",
       "...                    ...                 ...              ...   \n",
       "258724           -0.001847            0.000000            299.0   \n",
       "258725            0.000000            0.000438            299.0   \n",
       "258726           -0.000439            0.000533            299.0   \n",
       "258727           -0.000401            0.000201            299.0   \n",
       "258728           -0.000197           -0.000296            299.0   \n",
       "\n",
       "        valley_interval_mins  valley_close_score  valley_rsi_score  \\\n",
       "0                        6.0            0.409278          4.864155   \n",
       "1                        9.0            0.624558          1.913348   \n",
       "2                        7.0            0.123792          1.588380   \n",
       "3                        7.0            0.030710          2.705955   \n",
       "4                        7.0            0.406680          9.065181   \n",
       "...                      ...                 ...               ...   \n",
       "258724                  22.0            0.015440          0.564469   \n",
       "258725                  12.0            0.024437          2.212095   \n",
       "258726                  24.0            0.081549          1.384253   \n",
       "258727                  27.0            0.060287          8.779307   \n",
       "258728                  14.0            0.004927          1.627241   \n",
       "\n",
       "        day_open_var  open_from_prev_close_var  ceil_var  floor_var  \n",
       "0          -0.008040                 -0.008199 -0.008040   0.000000  \n",
       "1          -0.023154                  0.004493 -0.023154   0.000000  \n",
       "2          -0.010106                 -0.001416 -0.010808   0.000000  \n",
       "3          -0.009104                  0.009325 -0.010872   0.000000  \n",
       "4          -0.027790                 -0.016912 -0.027790   0.000000  \n",
       "...              ...                       ...       ...        ...  \n",
       "258724     -0.002464                 -0.017403 -0.007509   0.011873  \n",
       "258725     -0.002438                 -0.005093 -0.021287   0.008378  \n",
       "258726      0.000754                 -0.001944 -0.002505   0.007432  \n",
       "258727      0.018014                 -0.019076 -0.005400   0.020521  \n",
       "258728      0.001333                 -0.012287 -0.004886   0.003661  \n",
       "\n",
       "[258729 rows x 21 columns]"
      ]
     },
     "execution_count": 135,
     "metadata": {},
     "output_type": "execute_result"
    }
   ],
   "source": [
    "ds"
   ]
  },
  {
   "cell_type": "code",
   "execution_count": 136,
   "metadata": {},
   "outputs": [],
   "source": [
    "ds = drop_outlier(ds)"
   ]
  },
  {
   "cell_type": "code",
   "execution_count": 137,
   "metadata": {},
   "outputs": [
    {
     "data": {
      "text/plain": [
       "135601"
      ]
     },
     "execution_count": 137,
     "metadata": {},
     "output_type": "execute_result"
    }
   ],
   "source": [
    "size_train = int(ds.shape[0] *.70)\n",
    "size_train"
   ]
  },
  {
   "cell_type": "code",
   "execution_count": 138,
   "metadata": {},
   "outputs": [],
   "source": [
    "ds_train = ds[:size_train]\n",
    "ds_test = ds[size_train:]"
   ]
  },
  {
   "cell_type": "code",
   "execution_count": 139,
   "metadata": {},
   "outputs": [
    {
     "data": {
      "text/plain": [
       "(193716, (193716, 21))"
      ]
     },
     "execution_count": 139,
     "metadata": {},
     "output_type": "execute_result"
    }
   ],
   "source": [
    "ds_train.shape[0] + ds_test.shape[0], ds.shape"
   ]
  },
  {
   "cell_type": "code",
   "execution_count": 140,
   "metadata": {},
   "outputs": [],
   "source": [
    "X_train = ds_train.drop(['is_profit'], axis=1)\n",
    "y_train = ds_train['is_profit']\n",
    "\n",
    "X_test = ds_test.drop(['is_profit'], axis=1)\n",
    "y_test = ds_test['is_profit']"
   ]
  },
  {
   "cell_type": "code",
   "execution_count": 141,
   "metadata": {},
   "outputs": [
    {
     "data": {
      "image/png": "[encoded data removed]",
      "text/plain": [
       "<Figure size 576x144 with 1 Axes>"
      ]
     },
     "metadata": {
      "needs_background": "light"
     },
     "output_type": "display_data"
    }
   ],
   "source": [
    "plt.figure(figsize=(8, 2))\n",
    "sns.countplot(y_train);"
   ]
  },
  {
   "cell_type": "code",
   "execution_count": 142,
   "metadata": {},
   "outputs": [],
   "source": [
    "y_train.replace([True, False], [1, 0], inplace=True)\n",
    "y_test.replace([True, False], [1, 0], inplace=True)"
   ]
  },
  {
   "cell_type": "code",
   "execution_count": 143,
   "metadata": {},
   "outputs": [],
   "source": [
    "amount_index = y_train[y_train == 1].shape[0]"
   ]
  },
  {
   "cell_type": "code",
   "execution_count": 144,
   "metadata": {},
   "outputs": [],
   "source": [
    "index_true = y_train[y_train == 1].index\n",
    "index_false = y_train[y_train == 0].index\n",
    "index_false = np.random.choice(index_false, amount_index)"
   ]
  },
  {
   "cell_type": "code",
   "execution_count": 145,
   "metadata": {},
   "outputs": [
    {
     "data": {
      "text/plain": [
       "((135601,), (44218,))"
      ]
     },
     "execution_count": 145,
     "metadata": {},
     "output_type": "execute_result"
    }
   ],
   "source": [
    "y_train.shape, y_train[y_train == 1].shape"
   ]
  },
  {
   "cell_type": "code",
   "execution_count": 146,
   "metadata": {},
   "outputs": [],
   "source": [
    "X_train_undersampling = X_train.loc[index_true]\n",
    "X_train_undersampling = X_train_undersampling.append(X_train.loc[index_false])\n",
    "\n",
    "y_train_undersampling = y_train[index_true]\n",
    "y_train_undersampling = y_train_undersampling.append(y_train[index_false])"
   ]
  },
  {
   "cell_type": "code",
   "execution_count": 147,
   "metadata": {},
   "outputs": [
    {
     "data": {
      "text/plain": [
       "((88436, 20), (88436,))"
      ]
     },
     "execution_count": 147,
     "metadata": {},
     "output_type": "execute_result"
    }
   ],
   "source": [
    "X_train_undersampling.shape, y_train_undersampling.shape"
   ]
  },
  {
   "cell_type": "code",
   "execution_count": 148,
   "metadata": {},
   "outputs": [
    {
     "data": {
      "image/png": "[encoded data removed]",
      "text/plain": [
       "<Figure size 576x144 with 1 Axes>"
      ]
     },
     "metadata": {
      "needs_background": "light"
     },
     "output_type": "display_data"
    }
   ],
   "source": [
    "plt.figure(figsize=(8, 2))\n",
    "sns.countplot(y_train_undersampling);"
   ]
  },
  {
   "cell_type": "code",
   "execution_count": 149,
   "metadata": {},
   "outputs": [
    {
     "data": {
      "image/png": "[encoded data removed]",
      "text/plain": [
       "<Figure size 576x144 with 1 Axes>"
      ]
     },
     "metadata": {
      "needs_background": "light"
     },
     "output_type": "display_data"
    }
   ],
   "source": [
    "plt.figure(figsize=(8, 2))\n",
    "sns.countplot(y_test);"
   ]
  },
  {
   "cell_type": "code",
   "execution_count": 150,
   "metadata": {},
   "outputs": [
    {
     "data": {
      "text/plain": [
       "['rsi14',\n",
       " 'sma9_var',\n",
       " 'sma180_var',\n",
       " 'vwap_var',\n",
       " 'spread14_e',\n",
       " 'volume14_34_var',\n",
       " 'prev_close_var',\n",
       " 'prev_floor_var',\n",
       " 'prev_ceil_var',\n",
       " 'prev1_candle_score',\n",
       " 'prev2_candle_score',\n",
       " 'prev3_candle_score',\n",
       " 'mins_from_start',\n",
       " 'valley_interval_mins',\n",
       " 'valley_close_score',\n",
       " 'valley_rsi_score',\n",
       " 'day_open_var',\n",
       " 'open_from_prev_close_var',\n",
       " 'ceil_var',\n",
       " 'floor_var']"
      ]
     },
     "execution_count": 150,
     "metadata": {},
     "output_type": "execute_result"
    }
   ],
   "source": [
    "columns = list(X_train_undersampling.columns)\n",
    "columns"
   ]
  },
  {
   "cell_type": "markdown",
   "metadata": {},
   "source": [
    "#### -------------scaler ------------------"
   ]
  },
  {
   "cell_type": "code",
   "execution_count": 151,
   "metadata": {},
   "outputs": [],
   "source": [
    "from sklearn.preprocessing import StandardScaler"
   ]
  },
  {
   "cell_type": "code",
   "execution_count": 152,
   "metadata": {},
   "outputs": [],
   "source": [
    "scaler = StandardScaler()"
   ]
  },
  {
   "cell_type": "code",
   "execution_count": 153,
   "metadata": {},
   "outputs": [],
   "source": [
    "X_train_undersampling[columns] = scaler.fit_transform(X_train_undersampling[columns])"
   ]
  },
  {
   "cell_type": "code",
   "execution_count": 154,
   "metadata": {},
   "outputs": [
    {
     "data": {
      "text/html": [
       "<div>\n",
       "<style scoped>\n",
       "    .dataframe tbody tr th:only-of-type {\n",
       "        vertical-align: middle;\n",
       "    }\n",
       "\n",
       "    .dataframe tbody tr th {\n",
       "        vertical-align: top;\n",
       "    }\n",
       "\n",
       "    .dataframe thead th {\n",
       "        text-align: right;\n",
       "    }\n",
       "</style>\n",
       "<table border=\"1\" class=\"dataframe\">\n",
       "  <thead>\n",
       "    <tr style=\"text-align: right;\">\n",
       "      <th></th>\n",
       "      <th>rsi14</th>\n",
       "      <th>sma9_var</th>\n",
       "      <th>sma180_var</th>\n",
       "      <th>vwap_var</th>\n",
       "      <th>spread14_e</th>\n",
       "      <th>volume14_34_var</th>\n",
       "      <th>prev_close_var</th>\n",
       "      <th>prev_floor_var</th>\n",
       "      <th>prev_ceil_var</th>\n",
       "      <th>prev1_candle_score</th>\n",
       "      <th>prev2_candle_score</th>\n",
       "      <th>prev3_candle_score</th>\n",
       "      <th>mins_from_start</th>\n",
       "      <th>valley_interval_mins</th>\n",
       "      <th>valley_close_score</th>\n",
       "      <th>valley_rsi_score</th>\n",
       "      <th>day_open_var</th>\n",
       "      <th>open_from_prev_close_var</th>\n",
       "      <th>ceil_var</th>\n",
       "      <th>floor_var</th>\n",
       "    </tr>\n",
       "  </thead>\n",
       "  <tbody>\n",
       "    <tr>\n",
       "      <th>0</th>\n",
       "      <td>-1.718718</td>\n",
       "      <td>-2.149821</td>\n",
       "      <td>-0.722145</td>\n",
       "      <td>0.263365</td>\n",
       "      <td>1.707512</td>\n",
       "      <td>1.527947</td>\n",
       "      <td>-0.278028</td>\n",
       "      <td>-0.173235</td>\n",
       "      <td>-0.318457</td>\n",
       "      <td>-2.185501</td>\n",
       "      <td>1.128940</td>\n",
       "      <td>-0.666773</td>\n",
       "      <td>-1.802214</td>\n",
       "      <td>-1.068298</td>\n",
       "      <td>1.680299</td>\n",
       "      <td>0.218489</td>\n",
       "      <td>0.215406</td>\n",
       "      <td>-0.720278</td>\n",
       "      <td>1.038808</td>\n",
       "      <td>-0.63794</td>\n",
       "    </tr>\n",
       "    <tr>\n",
       "      <th>3</th>\n",
       "      <td>1.239480</td>\n",
       "      <td>0.059208</td>\n",
       "      <td>-0.442325</td>\n",
       "      <td>0.725875</td>\n",
       "      <td>2.815929</td>\n",
       "      <td>-1.094416</td>\n",
       "      <td>0.555010</td>\n",
       "      <td>-0.248769</td>\n",
       "      <td>-0.233042</td>\n",
       "      <td>2.565079</td>\n",
       "      <td>3.040971</td>\n",
       "      <td>-1.265471</td>\n",
       "      <td>-1.752525</td>\n",
       "      <td>-0.986552</td>\n",
       "      <td>-0.797236</td>\n",
       "      <td>-0.388161</td>\n",
       "      <td>0.148559</td>\n",
       "      <td>0.688765</td>\n",
       "      <td>0.820195</td>\n",
       "      <td>-0.63794</td>\n",
       "    </tr>\n",
       "    <tr>\n",
       "      <th>7</th>\n",
       "      <td>-2.321717</td>\n",
       "      <td>-1.151293</td>\n",
       "      <td>-2.003713</td>\n",
       "      <td>-0.519131</td>\n",
       "      <td>2.608372</td>\n",
       "      <td>-0.782154</td>\n",
       "      <td>-0.674647</td>\n",
       "      <td>-1.267521</td>\n",
       "      <td>-0.823424</td>\n",
       "      <td>0.720482</td>\n",
       "      <td>-0.211680</td>\n",
       "      <td>-2.773420</td>\n",
       "      <td>-1.727681</td>\n",
       "      <td>-1.068298</td>\n",
       "      <td>0.716918</td>\n",
       "      <td>-0.478334</td>\n",
       "      <td>-0.820622</td>\n",
       "      <td>-0.011955</td>\n",
       "      <td>-0.234407</td>\n",
       "      <td>-0.63794</td>\n",
       "    </tr>\n",
       "    <tr>\n",
       "      <th>10</th>\n",
       "      <td>-0.134303</td>\n",
       "      <td>-0.157152</td>\n",
       "      <td>-2.223018</td>\n",
       "      <td>0.686145</td>\n",
       "      <td>2.121863</td>\n",
       "      <td>-1.173009</td>\n",
       "      <td>-0.101103</td>\n",
       "      <td>-0.613385</td>\n",
       "      <td>-1.798292</td>\n",
       "      <td>-1.031517</td>\n",
       "      <td>-0.135729</td>\n",
       "      <td>-0.602861</td>\n",
       "      <td>-1.702837</td>\n",
       "      <td>-0.741313</td>\n",
       "      <td>-0.173363</td>\n",
       "      <td>-0.013877</td>\n",
       "      <td>0.428406</td>\n",
       "      <td>-0.712146</td>\n",
       "      <td>1.040957</td>\n",
       "      <td>-0.63794</td>\n",
       "    </tr>\n",
       "    <tr>\n",
       "      <th>11</th>\n",
       "      <td>-0.056347</td>\n",
       "      <td>0.230972</td>\n",
       "      <td>0.075996</td>\n",
       "      <td>0.727023</td>\n",
       "      <td>1.813930</td>\n",
       "      <td>-0.913855</td>\n",
       "      <td>-0.073000</td>\n",
       "      <td>-0.408944</td>\n",
       "      <td>-0.148752</td>\n",
       "      <td>-2.261277</td>\n",
       "      <td>0.263523</td>\n",
       "      <td>3.138474</td>\n",
       "      <td>-1.702837</td>\n",
       "      <td>-0.741313</td>\n",
       "      <td>-0.171718</td>\n",
       "      <td>-0.269582</td>\n",
       "      <td>-0.249325</td>\n",
       "      <td>0.206786</td>\n",
       "      <td>0.467682</td>\n",
       "      <td>-0.63794</td>\n",
       "    </tr>\n",
       "    <tr>\n",
       "      <th>...</th>\n",
       "      <td>...</td>\n",
       "      <td>...</td>\n",
       "      <td>...</td>\n",
       "      <td>...</td>\n",
       "      <td>...</td>\n",
       "      <td>...</td>\n",
       "      <td>...</td>\n",
       "      <td>...</td>\n",
       "      <td>...</td>\n",
       "      <td>...</td>\n",
       "      <td>...</td>\n",
       "      <td>...</td>\n",
       "      <td>...</td>\n",
       "      <td>...</td>\n",
       "      <td>...</td>\n",
       "      <td>...</td>\n",
       "      <td>...</td>\n",
       "      <td>...</td>\n",
       "      <td>...</td>\n",
       "      <td>...</td>\n",
       "    </tr>\n",
       "    <tr>\n",
       "      <th>71012</th>\n",
       "      <td>-0.234870</td>\n",
       "      <td>0.534145</td>\n",
       "      <td>0.437916</td>\n",
       "      <td>0.870675</td>\n",
       "      <td>-0.532002</td>\n",
       "      <td>-1.562413</td>\n",
       "      <td>0.289643</td>\n",
       "      <td>-0.398259</td>\n",
       "      <td>0.688950</td>\n",
       "      <td>-1.509578</td>\n",
       "      <td>0.021687</td>\n",
       "      <td>0.661730</td>\n",
       "      <td>-1.516507</td>\n",
       "      <td>0.648374</td>\n",
       "      <td>-0.250338</td>\n",
       "      <td>2.029372</td>\n",
       "      <td>0.505578</td>\n",
       "      <td>-0.193252</td>\n",
       "      <td>1.356449</td>\n",
       "      <td>-0.63794</td>\n",
       "    </tr>\n",
       "    <tr>\n",
       "      <th>60306</th>\n",
       "      <td>-1.430964</td>\n",
       "      <td>-0.212918</td>\n",
       "      <td>0.721410</td>\n",
       "      <td>0.651968</td>\n",
       "      <td>-0.194439</td>\n",
       "      <td>0.040618</td>\n",
       "      <td>0.184714</td>\n",
       "      <td>0.195076</td>\n",
       "      <td>0.765622</td>\n",
       "      <td>-0.456057</td>\n",
       "      <td>-0.049764</td>\n",
       "      <td>-0.277743</td>\n",
       "      <td>-1.491663</td>\n",
       "      <td>0.893613</td>\n",
       "      <td>0.212095</td>\n",
       "      <td>-0.740303</td>\n",
       "      <td>0.542480</td>\n",
       "      <td>-0.406191</td>\n",
       "      <td>1.185624</td>\n",
       "      <td>-0.63794</td>\n",
       "    </tr>\n",
       "    <tr>\n",
       "      <th>27981</th>\n",
       "      <td>-0.665962</td>\n",
       "      <td>0.256650</td>\n",
       "      <td>0.005099</td>\n",
       "      <td>-0.379107</td>\n",
       "      <td>-0.343141</td>\n",
       "      <td>0.646698</td>\n",
       "      <td>0.591254</td>\n",
       "      <td>0.267143</td>\n",
       "      <td>0.530428</td>\n",
       "      <td>-0.666550</td>\n",
       "      <td>-0.229648</td>\n",
       "      <td>0.185064</td>\n",
       "      <td>1.601422</td>\n",
       "      <td>-0.496074</td>\n",
       "      <td>-0.445461</td>\n",
       "      <td>0.132119</td>\n",
       "      <td>-0.168417</td>\n",
       "      <td>1.162046</td>\n",
       "      <td>-0.187644</td>\n",
       "      <td>-0.63794</td>\n",
       "    </tr>\n",
       "    <tr>\n",
       "      <th>70343</th>\n",
       "      <td>-0.267491</td>\n",
       "      <td>0.853370</td>\n",
       "      <td>0.606759</td>\n",
       "      <td>0.548263</td>\n",
       "      <td>-1.003486</td>\n",
       "      <td>0.304843</td>\n",
       "      <td>0.044903</td>\n",
       "      <td>-0.268716</td>\n",
       "      <td>0.511608</td>\n",
       "      <td>0.390513</td>\n",
       "      <td>0.263523</td>\n",
       "      <td>-0.976266</td>\n",
       "      <td>0.620082</td>\n",
       "      <td>-0.087342</td>\n",
       "      <td>-0.408445</td>\n",
       "      <td>-0.411988</td>\n",
       "      <td>0.339482</td>\n",
       "      <td>-0.367309</td>\n",
       "      <td>1.070090</td>\n",
       "      <td>-0.63794</td>\n",
       "    </tr>\n",
       "    <tr>\n",
       "      <th>7685</th>\n",
       "      <td>-1.131052</td>\n",
       "      <td>0.834833</td>\n",
       "      <td>0.352180</td>\n",
       "      <td>-0.006521</td>\n",
       "      <td>-0.535256</td>\n",
       "      <td>-0.413734</td>\n",
       "      <td>0.861667</td>\n",
       "      <td>0.185014</td>\n",
       "      <td>0.502115</td>\n",
       "      <td>1.322471</td>\n",
       "      <td>-0.786748</td>\n",
       "      <td>0.185064</td>\n",
       "      <td>0.234999</td>\n",
       "      <td>1.547584</td>\n",
       "      <td>1.564003</td>\n",
       "      <td>-0.844971</td>\n",
       "      <td>0.045550</td>\n",
       "      <td>1.311272</td>\n",
       "      <td>0.233092</td>\n",
       "      <td>-0.63794</td>\n",
       "    </tr>\n",
       "  </tbody>\n",
       "</table>\n",
       "<p>88436 rows × 20 columns</p>\n",
       "</div>"
      ],
      "text/plain": [
       "          rsi14  sma9_var  sma180_var  vwap_var  spread14_e  volume14_34_var  \\\n",
       "0     -1.718718 -2.149821   -0.722145  0.263365    1.707512         1.527947   \n",
       "3      1.239480  0.059208   -0.442325  0.725875    2.815929        -1.094416   \n",
       "7     -2.321717 -1.151293   -2.003713 -0.519131    2.608372        -0.782154   \n",
       "10    -0.134303 -0.157152   -2.223018  0.686145    2.121863        -1.173009   \n",
       "11    -0.056347  0.230972    0.075996  0.727023    1.813930        -0.913855   \n",
       "...         ...       ...         ...       ...         ...              ...   \n",
       "71012 -0.234870  0.534145    0.437916  0.870675   -0.532002        -1.562413   \n",
       "60306 -1.430964 -0.212918    0.721410  0.651968   -0.194439         0.040618   \n",
       "27981 -0.665962  0.256650    0.005099 -0.379107   -0.343141         0.646698   \n",
       "70343 -0.267491  0.853370    0.606759  0.548263   -1.003486         0.304843   \n",
       "7685  -1.131052  0.834833    0.352180 -0.006521   -0.535256        -0.413734   \n",
       "\n",
       "       prev_close_var  prev_floor_var  prev_ceil_var  prev1_candle_score  \\\n",
       "0           -0.278028       -0.173235      -0.318457           -2.185501   \n",
       "3            0.555010       -0.248769      -0.233042            2.565079   \n",
       "7           -0.674647       -1.267521      -0.823424            0.720482   \n",
       "10          -0.101103       -0.613385      -1.798292           -1.031517   \n",
       "11          -0.073000       -0.408944      -0.148752           -2.261277   \n",
       "...               ...             ...            ...                 ...   \n",
       "71012        0.289643       -0.398259       0.688950           -1.509578   \n",
       "60306        0.184714        0.195076       0.765622           -0.456057   \n",
       "27981        0.591254        0.267143       0.530428           -0.666550   \n",
       "70343        0.044903       -0.268716       0.511608            0.390513   \n",
       "7685         0.861667        0.185014       0.502115            1.322471   \n",
       "\n",
       "       prev2_candle_score  prev3_candle_score  mins_from_start  \\\n",
       "0                1.128940           -0.666773        -1.802214   \n",
       "3                3.040971           -1.265471        -1.752525   \n",
       "7               -0.211680           -2.773420        -1.727681   \n",
       "10              -0.135729           -0.602861        -1.702837   \n",
       "11               0.263523            3.138474        -1.702837   \n",
       "...                   ...                 ...              ...   \n",
       "71012            0.021687            0.661730        -1.516507   \n",
       "60306           -0.049764           -0.277743        -1.491663   \n",
       "27981           -0.229648            0.185064         1.601422   \n",
       "70343            0.263523           -0.976266         0.620082   \n",
       "7685            -0.786748            0.185064         0.234999   \n",
       "\n",
       "       valley_interval_mins  valley_close_score  valley_rsi_score  \\\n",
       "0                 -1.068298            1.680299          0.218489   \n",
       "3                 -0.986552           -0.797236         -0.388161   \n",
       "7                 -1.068298            0.716918         -0.478334   \n",
       "10                -0.741313           -0.173363         -0.013877   \n",
       "11                -0.741313           -0.171718         -0.269582   \n",
       "...                     ...                 ...               ...   \n",
       "71012              0.648374           -0.250338          2.029372   \n",
       "60306              0.893613            0.212095         -0.740303   \n",
       "27981             -0.496074           -0.445461          0.132119   \n",
       "70343             -0.087342           -0.408445         -0.411988   \n",
       "7685               1.547584            1.564003         -0.844971   \n",
       "\n",
       "       day_open_var  open_from_prev_close_var  ceil_var  floor_var  \n",
       "0          0.215406                 -0.720278  1.038808   -0.63794  \n",
       "3          0.148559                  0.688765  0.820195   -0.63794  \n",
       "7         -0.820622                 -0.011955 -0.234407   -0.63794  \n",
       "10         0.428406                 -0.712146  1.040957   -0.63794  \n",
       "11        -0.249325                  0.206786  0.467682   -0.63794  \n",
       "...             ...                       ...       ...        ...  \n",
       "71012      0.505578                 -0.193252  1.356449   -0.63794  \n",
       "60306      0.542480                 -0.406191  1.185624   -0.63794  \n",
       "27981     -0.168417                  1.162046 -0.187644   -0.63794  \n",
       "70343      0.339482                 -0.367309  1.070090   -0.63794  \n",
       "7685       0.045550                  1.311272  0.233092   -0.63794  \n",
       "\n",
       "[88436 rows x 20 columns]"
      ]
     },
     "execution_count": 154,
     "metadata": {},
     "output_type": "execute_result"
    }
   ],
   "source": [
    "X_train_undersampling"
   ]
  },
  {
   "cell_type": "markdown",
   "metadata": {},
   "source": [
    "### ----------metrics-----------"
   ]
  },
  {
   "cell_type": "code",
   "execution_count": 155,
   "metadata": {},
   "outputs": [],
   "source": [
    "from sklearn.preprocessing import StandardScaler\n",
    "from sklearn.model_selection import train_test_split\n",
    "from sklearn.metrics import auc, roc_auc_score, f1_score, roc_curve, accuracy_score\n",
    "from sklearn.metrics import mean_squared_error, mean_absolute_error\n",
    "from sklearn.metrics import precision_score, recall_score\n",
    "from sklearn.linear_model import LogisticRegression\n",
    "from sklearn.svm import SVC"
   ]
  },
  {
   "cell_type": "code",
   "execution_count": 156,
   "metadata": {},
   "outputs": [],
   "source": [
    "def print_metrics(true, pred):\n",
    "    print('accuracy: {}'.format(accuracy_score(true, pred)))\n",
    "    print('MSE: {}'.format(mean_squared_error(true, pred)))   \n",
    "    print('MAE: {}'.format(mean_absolute_error(true, pred)))\n",
    "    print('f1 score: {}'.format(f1_score(true, pred)))\n",
    "    print('precision score: {}'.format(precision_score(true, pred)))\n",
    "    print('recall score: {}'.format(recall_score(true, pred)))"
   ]
  },
  {
   "cell_type": "code",
   "execution_count": 157,
   "metadata": {},
   "outputs": [],
   "source": [
    "def plot_roc_auc(true, pred, title=''):\n",
    "    \n",
    "    fpr, tpr, threshold  = roc_curve(true, pred)\n",
    "    roc_auc = auc(fpr, tpr)\n",
    "    \n",
    "    plt.plot(fpr, tpr)\n",
    "    plt.title('{} ROC {:4f}'.format(title, roc_auc))\n",
    "    plt.plot([0, 1], [0, 1], 'r--')\n",
    "    plt.xlim([0, 1])\n",
    "    plt.ylim([0, 1])\n",
    "    plt.ylabel('True Rositive Rate')\n",
    "    plt.xlabel('False Positive Rate')\n",
    "    plt.show()"
   ]
  },
  {
   "cell_type": "code",
   "execution_count": 158,
   "metadata": {},
   "outputs": [],
   "source": [
    "def feature_importance(columns, coef):\n",
    "    featureImportance = pd.DataFrame({'feature': columns, 'importance': coef})\n",
    "    featureImportance.set_index('feature', inplace=True)\n",
    "    featureImportance.sort_values(['importance'], ascending=False, inplace=True)\n",
    "    \n",
    "    return featureImportance"
   ]
  },
  {
   "cell_type": "markdown",
   "metadata": {},
   "source": [
    "### ---------------- Logistic Regression --------------------"
   ]
  },
  {
   "cell_type": "code",
   "execution_count": 159,
   "metadata": {},
   "outputs": [],
   "source": [
    "from sklearn.linear_model import LogisticRegression\n",
    "from sklearn.model_selection import GridSearchCV"
   ]
  },
  {
   "cell_type": "code",
   "execution_count": 160,
   "metadata": {},
   "outputs": [],
   "source": [
    "model_LR = LogisticRegression(penalty='l2', C=0.001)"
   ]
  },
  {
   "cell_type": "code",
   "execution_count": 161,
   "metadata": {},
   "outputs": [
    {
     "data": {
      "text/plain": [
       "((88436, 20), (88436,))"
      ]
     },
     "execution_count": 161,
     "metadata": {},
     "output_type": "execute_result"
    }
   ],
   "source": [
    "X_train_undersampling.shape, y_train_undersampling.shape"
   ]
  },
  {
   "cell_type": "code",
   "execution_count": 162,
   "metadata": {},
   "outputs": [
    {
     "name": "stdout",
     "output_type": "stream",
     "text": [
      "CPU times: user 1.17 s, sys: 20 ms, total: 1.19 s\n",
      "Wall time: 326 ms\n"
     ]
    },
    {
     "data": {
      "text/plain": [
       "LogisticRegression(C=0.001)"
      ]
     },
     "execution_count": 162,
     "metadata": {},
     "output_type": "execute_result"
    }
   ],
   "source": [
    "%%time\n",
    "model_LR.fit(X_train_undersampling, y_train_undersampling)"
   ]
  },
  {
   "cell_type": "code",
   "execution_count": 163,
   "metadata": {},
   "outputs": [],
   "source": [
    "y_pred_train_LR = model_LR.predict(X_train_undersampling)\n",
    "y_pred_train_proba_LR = model_LR.predict_proba(X_train_undersampling)"
   ]
  },
  {
   "cell_type": "code",
   "execution_count": 164,
   "metadata": {},
   "outputs": [
    {
     "name": "stdout",
     "output_type": "stream",
     "text": [
      "---------- TRAIN ----------\n",
      "accuracy: 0.6582161110859831\n",
      "MSE: 0.3417838889140169\n",
      "MAE: 0.3417838889140169\n",
      "f1 score: 0.6491305458175657\n",
      "precision score: 0.6668574699484832\n",
      "recall score: 0.632321678954272\n"
     ]
    }
   ],
   "source": [
    "print('-'*10, 'TRAIN', '-'*10)\n",
    "print_metrics(y_train_undersampling, y_pred_train_LR)"
   ]
  },
  {
   "cell_type": "code",
   "execution_count": 165,
   "metadata": {},
   "outputs": [
    {
     "data": {
      "image/png": "[encoded data removed]",
      "text/plain": [
       "<Figure size 432x288 with 1 Axes>"
      ]
     },
     "metadata": {
      "needs_background": "light"
     },
     "output_type": "display_data"
    }
   ],
   "source": [
    "plot_roc_auc(y_train_undersampling, y_pred_train_proba_LR[:, 1], title='TRAIN')"
   ]
  },
  {
   "cell_type": "code",
   "execution_count": 166,
   "metadata": {},
   "outputs": [],
   "source": [
    "# scaler test"
   ]
  },
  {
   "cell_type": "code",
   "execution_count": 167,
   "metadata": {},
   "outputs": [],
   "source": [
    "X_test_scaled = X_test.copy(deep=True)\n",
    "X_test_scaled[columns] = scaler.transform(X_test[columns])"
   ]
  },
  {
   "cell_type": "code",
   "execution_count": 168,
   "metadata": {},
   "outputs": [
    {
     "name": "stdout",
     "output_type": "stream",
     "text": [
      "---------- TEST ----------\n",
      "accuracy: 0.6921276778800654\n",
      "MSE: 0.3078723221199346\n",
      "MAE: 0.3078723221199346\n",
      "f1 score: 0.5374114483685817\n",
      "precision score: 0.47916090364223146\n",
      "recall score: 0.6117847892630092\n"
     ]
    }
   ],
   "source": [
    "print('-'*10, 'TEST', '-'*10)\n",
    "print_metrics(y_test, model_LR.predict(X_test_scaled))"
   ]
  },
  {
   "cell_type": "code",
   "execution_count": 169,
   "metadata": {},
   "outputs": [
    {
     "data": {
      "image/png": "[encoded data removed]",
      "text/plain": [
       "<Figure size 432x288 with 1 Axes>"
      ]
     },
     "metadata": {
      "needs_background": "light"
     },
     "output_type": "display_data"
    }
   ],
   "source": [
    "plot_roc_auc(y_test, model_LR.predict_proba(X_test_scaled)[:, 1], title='TEST')"
   ]
  },
  {
   "cell_type": "code",
   "execution_count": 182,
   "metadata": {},
   "outputs": [],
   "source": [
    "featureImportance = feature_importance(X_train_undersampling.columns, model_LR.coef_[0])"
   ]
  },
  {
   "cell_type": "code",
   "execution_count": 183,
   "metadata": {},
   "outputs": [
    {
     "data": {
      "image/png": "[encoded data removed]",
      "text/plain": [
       "<Figure size 1080x288 with 1 Axes>"
      ]
     },
     "metadata": {
      "needs_background": "light"
     },
     "output_type": "display_data"
    }
   ],
   "source": [
    "featureImportance.importance.plot(kind='bar', figsize=(15, 4));"
   ]
  },
  {
   "cell_type": "code",
   "execution_count": null,
   "metadata": {},
   "outputs": [],
   "source": []
  },
  {
   "cell_type": "markdown",
   "metadata": {},
   "source": [
    "### ---------- Random Forest ----------------------------"
   ]
  },
  {
   "cell_type": "code",
   "execution_count": 170,
   "metadata": {},
   "outputs": [],
   "source": [
    "from sklearn.ensemble import RandomForestClassifier"
   ]
  },
  {
   "cell_type": "code",
   "execution_count": 171,
   "metadata": {},
   "outputs": [],
   "source": [
    "model_rf = RandomForestClassifier(n_estimators=1000, max_features=1, \n",
    "                                  bootstrap=True, \n",
    "                                  n_jobs=-1, random_state=42)"
   ]
  },
  {
   "cell_type": "code",
   "execution_count": 172,
   "metadata": {},
   "outputs": [
    {
     "name": "stdout",
     "output_type": "stream",
     "text": [
      "CPU times: user 8min 45s, sys: 4.28 s, total: 8min 50s\n",
      "Wall time: 1min 13s\n"
     ]
    },
    {
     "data": {
      "text/plain": [
       "RandomForestClassifier(max_features=1, n_estimators=1000, n_jobs=-1,\n",
       "                       random_state=42)"
      ]
     },
     "execution_count": 172,
     "metadata": {},
     "output_type": "execute_result"
    }
   ],
   "source": [
    "%%time\n",
    "model_rf.fit(X_train, y_train)"
   ]
  },
  {
   "cell_type": "code",
   "execution_count": 173,
   "metadata": {},
   "outputs": [],
   "source": [
    "y_pred_rf = model_rf.predict(X_train)\n",
    "y_pred_prob_rf = model_rf.predict_proba(X_train)"
   ]
  },
  {
   "cell_type": "code",
   "execution_count": 174,
   "metadata": {},
   "outputs": [
    {
     "name": "stdout",
     "output_type": "stream",
     "text": [
      "accuracy: 1.0\n",
      "MSE: 0.0\n",
      "MAE: 0.0\n",
      "f1 score: 1.0\n",
      "precision score: 1.0\n",
      "recall score: 1.0\n"
     ]
    }
   ],
   "source": [
    "print_metrics(y_train, y_pred_rf)"
   ]
  },
  {
   "cell_type": "code",
   "execution_count": 175,
   "metadata": {},
   "outputs": [
    {
     "data": {
      "image/png": "[encoded data removed]",
      "text/plain": [
       "<Figure size 432x288 with 1 Axes>"
      ]
     },
     "metadata": {
      "needs_background": "light"
     },
     "output_type": "display_data"
    }
   ],
   "source": [
    "plot_roc_auc(y_train, y_pred_prob_rf[:, 1])"
   ]
  },
  {
   "cell_type": "code",
   "execution_count": 176,
   "metadata": {},
   "outputs": [],
   "source": [
    "y_pred_test_rf = model_rf.predict(X_test)\n",
    "y_pred_prob_test_rf = model_rf.predict_proba(X_test)"
   ]
  },
  {
   "cell_type": "code",
   "execution_count": 177,
   "metadata": {},
   "outputs": [
    {
     "data": {
      "image/png": "[encoded data removed]",
      "text/plain": [
       "<Figure size 432x288 with 1 Axes>"
      ]
     },
     "metadata": {
      "needs_background": "light"
     },
     "output_type": "display_data"
    }
   ],
   "source": [
    "plot_roc_auc(y_test, y_pred_prob_test_rf[:, 1])"
   ]
  },
  {
   "cell_type": "code",
   "execution_count": 178,
   "metadata": {},
   "outputs": [
    {
     "name": "stdout",
     "output_type": "stream",
     "text": [
      "accuracy: 0.7288307665834982\n",
      "MSE: 0.2711692334165018\n",
      "MAE: 0.2711692334165018\n",
      "f1 score: 0.35779779127103795\n",
      "precision score: 0.5813799496755396\n",
      "recall score: 0.25841770661643515\n"
     ]
    }
   ],
   "source": [
    "print_metrics(y_test, y_pred_test_rf)"
   ]
  },
  {
   "cell_type": "code",
   "execution_count": 179,
   "metadata": {},
   "outputs": [],
   "source": [
    "featureImportance = feature_importance(X_train.columns, model_rf.feature_importances_)"
   ]
  },
  {
   "cell_type": "code",
   "execution_count": 180,
   "metadata": {},
   "outputs": [
    {
     "data": {
      "image/png": "[encoded data removed]",
      "text/plain": [
       "<Figure size 1080x288 with 1 Axes>"
      ]
     },
     "metadata": {
      "needs_background": "light"
     },
     "output_type": "display_data"
    }
   ],
   "source": [
    "featureImportance.importance.plot(kind='bar', figsize=(15, 4));"
   ]
  },
  {
   "cell_type": "code",
   "execution_count": null,
   "metadata": {},
   "outputs": [],
   "source": []
  },
  {
   "cell_type": "markdown",
   "metadata": {},
   "source": [
    "### -------------SVC--------------------"
   ]
  },
  {
   "cell_type": "code",
   "execution_count": 184,
   "metadata": {},
   "outputs": [],
   "source": [
    "from sklearn.model_selection import GridSearchCV"
   ]
  },
  {
   "cell_type": "code",
   "execution_count": 185,
   "metadata": {},
   "outputs": [],
   "source": [
    "from sklearn.svm import SVC"
   ]
  },
  {
   "cell_type": "code",
   "execution_count": 186,
   "metadata": {},
   "outputs": [
    {
     "data": {
      "image/png": "[encoded data removed]",
      "text/plain": [
       "<Figure size 576x144 with 1 Axes>"
      ]
     },
     "metadata": {
      "needs_background": "light"
     },
     "output_type": "display_data"
    }
   ],
   "source": [
    "plt.figure(figsize=(8, 2))\n",
    "sns.countplot(y_train_undersampling);"
   ]
  },
  {
   "cell_type": "code",
   "execution_count": 115,
   "metadata": {},
   "outputs": [],
   "source": [
    "model_svc = SVC()"
   ]
  },
  {
   "cell_type": "code",
   "execution_count": 116,
   "metadata": {},
   "outputs": [],
   "source": [
    "params_grid = {'kernel': ['linear', 'rbf']}"
   ]
  },
  {
   "cell_type": "code",
   "execution_count": 117,
   "metadata": {},
   "outputs": [],
   "source": [
    "svr = GridSearchCV(estimator=model_svc, param_grid=params_grid, cv=3, n_jobs=-1)"
   ]
  },
  {
   "cell_type": "code",
   "execution_count": 118,
   "metadata": {},
   "outputs": [
    {
     "name": "stdout",
     "output_type": "stream",
     "text": [
      "CPU times: user 2min 28s, sys: 84 ms, total: 2min 28s\n",
      "Wall time: 2min 28s\n"
     ]
    },
    {
     "data": {
      "text/plain": [
       "SVC()"
      ]
     },
     "execution_count": 118,
     "metadata": {},
     "output_type": "execute_result"
    }
   ],
   "source": [
    "%%time\n",
    "model_svc.fit(X_train_svc, y_train_svc)"
   ]
  },
  {
   "cell_type": "code",
   "execution_count": 434,
   "metadata": {},
   "outputs": [
    {
     "name": "stdout",
     "output_type": "stream",
     "text": [
      "CPU times: user 1min 7s, sys: 32 ms, total: 1min 7s\n",
      "Wall time: 8min 8s\n"
     ]
    },
    {
     "data": {
      "text/plain": [
       "GridSearchCV(cv=3, estimator=SVC(random_state=42), n_jobs=-1,\n",
       "             param_grid={'C': [0.0001, 0.01, 1.0, 10.0, 100.0]})"
      ]
     },
     "execution_count": 434,
     "metadata": {},
     "output_type": "execute_result"
    }
   ],
   "source": [
    "%%time\n",
    "svr.fit(X_train_svc, y_train_svc)\n",
    "#model_svc.fit(X_train, y_train)"
   ]
  },
  {
   "cell_type": "code",
   "execution_count": 435,
   "metadata": {},
   "outputs": [
    {
     "data": {
      "text/plain": [
       "{'C': 1.0}"
      ]
     },
     "execution_count": 435,
     "metadata": {},
     "output_type": "execute_result"
    }
   ],
   "source": [
    "svr.best_params_"
   ]
  },
  {
   "cell_type": "code",
   "execution_count": 436,
   "metadata": {},
   "outputs": [
    {
     "data": {
      "text/plain": [
       "{'C': 1.0}"
      ]
     },
     "execution_count": 436,
     "metadata": {},
     "output_type": "execute_result"
    }
   ],
   "source": [
    "svr.best_params_"
   ]
  },
  {
   "cell_type": "code",
   "execution_count": 104,
   "metadata": {},
   "outputs": [],
   "source": [
    "model_svc = SVC(kernel='rbf', random_state=42)"
   ]
  },
  {
   "cell_type": "code",
   "execution_count": 105,
   "metadata": {},
   "outputs": [],
   "source": [
    "params_grid = {'C': [0.5, 2.0, 5.0]}"
   ]
  },
  {
   "cell_type": "code",
   "execution_count": 106,
   "metadata": {},
   "outputs": [],
   "source": [
    "svr = GridSearchCV(estimator=model_svc, param_grid=params_grid, cv=3, n_jobs=-1)"
   ]
  },
  {
   "cell_type": "code",
   "execution_count": null,
   "metadata": {},
   "outputs": [],
   "source": []
  },
  {
   "cell_type": "code",
   "execution_count": 107,
   "metadata": {},
   "outputs": [
    {
     "name": "stdout",
     "output_type": "stream",
     "text": [
      "CPU times: user 20.3 s, sys: 136 ms, total: 20.4 s\n",
      "Wall time: 1min 10s\n"
     ]
    },
    {
     "data": {
      "text/plain": [
       "GridSearchCV(cv=3, estimator=SVC(random_state=42), n_jobs=-1,\n",
       "             param_grid={'C': [0.5, 2.0, 5.0]})"
      ]
     },
     "execution_count": 107,
     "metadata": {},
     "output_type": "execute_result"
    }
   ],
   "source": [
    "%%time\n",
    "svr.fit(X_train_svc, y_train_svc)"
   ]
  },
  {
   "cell_type": "code",
   "execution_count": 108,
   "metadata": {},
   "outputs": [
    {
     "data": {
      "text/plain": [
       "{'C': 0.5}"
      ]
     },
     "execution_count": 108,
     "metadata": {},
     "output_type": "execute_result"
    }
   ],
   "source": [
    "svr.best_params_"
   ]
  },
  {
   "cell_type": "code",
   "execution_count": 194,
   "metadata": {},
   "outputs": [],
   "source": [
    "model_svc = SVC(kernel='rbf', C=1.0, random_state=42)"
   ]
  },
  {
   "cell_type": "code",
   "execution_count": 198,
   "metadata": {},
   "outputs": [],
   "source": [
    "params_grid = {\"gamma\": [-100.0, -10.0, 1.0, 10.0, 100.0]}"
   ]
  },
  {
   "cell_type": "code",
   "execution_count": 199,
   "metadata": {},
   "outputs": [],
   "source": [
    "svr = GridSearchCV(estimator=model_svc, param_grid=params_grid, cv=3, n_jobs=-1)"
   ]
  },
  {
   "cell_type": "code",
   "execution_count": 200,
   "metadata": {},
   "outputs": [
    {
     "data": {
      "text/plain": [
       "GridSearchCV(cv=3, estimator=SVC(random_state=42), n_jobs=-1,\n",
       "             param_grid={'gamma': [-100.0, -10.0, 1.0, 10.0, 100.0]})"
      ]
     },
     "execution_count": 200,
     "metadata": {},
     "output_type": "execute_result"
    }
   ],
   "source": [
    "svr"
   ]
  },
  {
   "cell_type": "code",
   "execution_count": 201,
   "metadata": {},
   "outputs": [
    {
     "name": "stdout",
     "output_type": "stream",
     "text": [
      "CPU times: user 6min 50s, sys: 408 ms, total: 6min 50s\n",
      "Wall time: 16min 30s\n"
     ]
    },
    {
     "data": {
      "text/plain": [
       "GridSearchCV(cv=3, estimator=SVC(random_state=42), n_jobs=-1,\n",
       "             param_grid={'gamma': [-100.0, -10.0, 1.0, 10.0, 100.0]})"
      ]
     },
     "execution_count": 201,
     "metadata": {},
     "output_type": "execute_result"
    }
   ],
   "source": [
    "%%time\n",
    "svr.fit(X_train_short, y_train_short)"
   ]
  },
  {
   "cell_type": "code",
   "execution_count": 202,
   "metadata": {},
   "outputs": [
    {
     "data": {
      "text/plain": [
       "{'gamma': 10.0}"
      ]
     },
     "execution_count": 202,
     "metadata": {},
     "output_type": "execute_result"
    }
   ],
   "source": [
    "svr.best_params_"
   ]
  },
  {
   "cell_type": "code",
   "execution_count": 215,
   "metadata": {},
   "outputs": [
    {
     "data": {
      "text/plain": [
       "GridSearchCV(cv=3, estimator=SVC(random_state=42), n_jobs=-1,\n",
       "             param_grid={'gamma': [1.5, 2.0, 2.5, 3.0]})"
      ]
     },
     "execution_count": 215,
     "metadata": {},
     "output_type": "execute_result"
    }
   ],
   "source": [
    "model_svc = SVC(kernel='rbf', C=1.0, random_state=42)\n",
    "\n",
    "params_grid = {\"gamma\": [1.5, 2.0, 2.5, 3.0]}\n",
    "\n",
    "svr = GridSearchCV(estimator=model_svc, param_grid=params_grid, cv=3, n_jobs=-1)\n",
    "\n",
    "svr"
   ]
  },
  {
   "cell_type": "code",
   "execution_count": 216,
   "metadata": {},
   "outputs": [
    {
     "name": "stdout",
     "output_type": "stream",
     "text": [
      "CPU times: user 7min 11s, sys: 544 ms, total: 7min 11s\n",
      "Wall time: 21min 28s\n"
     ]
    },
    {
     "data": {
      "text/plain": [
       "GridSearchCV(cv=3, estimator=SVC(random_state=42), n_jobs=-1,\n",
       "             param_grid={'gamma': [1.5, 2.0, 2.5, 3.0]})"
      ]
     },
     "execution_count": 216,
     "metadata": {},
     "output_type": "execute_result"
    }
   ],
   "source": [
    "%%time\n",
    "svr.fit(X_train_short, y_train_short)"
   ]
  },
  {
   "cell_type": "code",
   "execution_count": 217,
   "metadata": {},
   "outputs": [
    {
     "data": {
      "text/plain": [
       "{'gamma': 2.5}"
      ]
     },
     "execution_count": 217,
     "metadata": {},
     "output_type": "execute_result"
    }
   ],
   "source": [
    "svr.best_params_"
   ]
  },
  {
   "cell_type": "markdown",
   "metadata": {},
   "source": [
    "#### model svc -> kerner = rbf , C = 1.0, gamma = 2.5"
   ]
  },
  {
   "cell_type": "code",
   "execution_count": 93,
   "metadata": {},
   "outputs": [],
   "source": [
    "model_svc_final = SVC(kernel='rbf', C=1.0, gamma=2.5, probability=True)"
   ]
  },
  {
   "cell_type": "code",
   "execution_count": null,
   "metadata": {},
   "outputs": [],
   "source": [
    "%%time\n",
    "model_svc_final.fit(X_train, y_train)"
   ]
  },
  {
   "cell_type": "code",
   "execution_count": null,
   "metadata": {},
   "outputs": [],
   "source": []
  },
  {
   "cell_type": "code",
   "execution_count": null,
   "metadata": {},
   "outputs": [],
   "source": [
    "%%time\n",
    "y_pred_train = model_svc_final.predict(X_train)"
   ]
  },
  {
   "cell_type": "code",
   "execution_count": null,
   "metadata": {},
   "outputs": [],
   "source": [
    "print_metrics(y_train, y_pred_train)"
   ]
  },
  {
   "cell_type": "code",
   "execution_count": null,
   "metadata": {},
   "outputs": [],
   "source": [
    "%%time\n",
    "y_pred_test = model_svc_final.predict(X_test)"
   ]
  },
  {
   "cell_type": "code",
   "execution_count": null,
   "metadata": {},
   "outputs": [],
   "source": [
    "print_metrics(y_test, y_pred_test)"
   ]
  },
  {
   "cell_type": "code",
   "execution_count": null,
   "metadata": {},
   "outputs": [],
   "source": [
    "%%time\n",
    "plot_roc_auc(y_test, model_svc_final.predict_proba(X_test)[:, 1], title='TEST')"
   ]
  },
  {
   "cell_type": "code",
   "execution_count": 79,
   "metadata": {},
   "outputs": [
    {
     "data": {
      "text/plain": [
       "{'kernel': 'rbf'}"
      ]
     },
     "execution_count": 79,
     "metadata": {},
     "output_type": "execute_result"
    }
   ],
   "source": [
    "svr.best_params_"
   ]
  },
  {
   "cell_type": "code",
   "execution_count": 177,
   "metadata": {},
   "outputs": [],
   "source": [
    "index = X_train.index"
   ]
  },
  {
   "cell_type": "code",
   "execution_count": 178,
   "metadata": {},
   "outputs": [],
   "source": [
    "index_short = [i for i in index[::5]]"
   ]
  },
  {
   "cell_type": "code",
   "execution_count": 179,
   "metadata": {},
   "outputs": [],
   "source": [
    "X_train_short = X_train.loc[index_short]"
   ]
  },
  {
   "cell_type": "code",
   "execution_count": 180,
   "metadata": {},
   "outputs": [],
   "source": [
    "y_train_short = y_train[index_short]"
   ]
  },
  {
   "cell_type": "code",
   "execution_count": 84,
   "metadata": {},
   "outputs": [],
   "source": [
    "params = {'C': [0.001, 0.1, 1, 10, 100]}"
   ]
  },
  {
   "cell_type": "code",
   "execution_count": 85,
   "metadata": {},
   "outputs": [],
   "source": [
    "model_svc = SVC(kernel='rbf')"
   ]
  },
  {
   "cell_type": "code",
   "execution_count": 101,
   "metadata": {},
   "outputs": [],
   "source": [
    "gsv = GridSearchCV(estimator=model_svc, param_grid=params, cv=3, n_jobs=-1)"
   ]
  },
  {
   "cell_type": "code",
   "execution_count": 87,
   "metadata": {},
   "outputs": [
    {
     "name": "stdout",
     "output_type": "stream",
     "text": [
      "CPU times: user 2min 27s, sys: 284 ms, total: 2min 28s\n",
      "Wall time: 22min 45s\n"
     ]
    },
    {
     "data": {
      "text/plain": [
       "GridSearchCV(cv=3, estimator=SVC(), n_jobs=-1,\n",
       "             param_grid={'C': [0.001, 0.1, 1, 10, 100]})"
      ]
     },
     "execution_count": 87,
     "metadata": {},
     "output_type": "execute_result"
    }
   ],
   "source": [
    "%%time\n",
    "gsv.fit(X_train_short, y_train_short)"
   ]
  },
  {
   "cell_type": "code",
   "execution_count": 115,
   "metadata": {},
   "outputs": [
    {
     "data": {
      "text/plain": [
       "((64682,), (64682, 24))"
      ]
     },
     "execution_count": 115,
     "metadata": {},
     "output_type": "execute_result"
    }
   ],
   "source": [
    "y_train_short.shape, X_train_short.shape"
   ]
  },
  {
   "cell_type": "code",
   "execution_count": 102,
   "metadata": {},
   "outputs": [
    {
     "ename": "AttributeError",
     "evalue": "'GridSearchCV' object has no attribute 'best_params_'",
     "output_type": "error",
     "traceback": [
      "\u001b[0;31m---------------------------------------------------------------------------\u001b[0m",
      "\u001b[0;31mAttributeError\u001b[0m                            Traceback (most recent call last)",
      "\u001b[0;32m<ipython-input-102-f52a750a6dab>\u001b[0m in \u001b[0;36m<module>\u001b[0;34m\u001b[0m\n\u001b[0;32m----> 1\u001b[0;31m \u001b[0mgsv\u001b[0m\u001b[0;34m.\u001b[0m\u001b[0mbest_params_\u001b[0m\u001b[0;34m\u001b[0m\u001b[0;34m\u001b[0m\u001b[0m\n\u001b[0m",
      "\u001b[0;31mAttributeError\u001b[0m: 'GridSearchCV' object has no attribute 'best_params_'"
     ]
    }
   ],
   "source": [
    "gsv.best_params_"
   ]
  },
  {
   "cell_type": "code",
   "execution_count": 94,
   "metadata": {},
   "outputs": [],
   "source": [
    "model_svc = SVC(kernel='rbf', C=1.0)"
   ]
  },
  {
   "cell_type": "code",
   "execution_count": 87,
   "metadata": {},
   "outputs": [],
   "source": [
    "params = {'gamma': [0.001, 0.1, 1, 10, 100, 1000]}"
   ]
  },
  {
   "cell_type": "code",
   "execution_count": 95,
   "metadata": {},
   "outputs": [],
   "source": [
    "gsv = GridSearchCV(estimator=model_svc, param_grid=params, cv=3, n_jobs=-1)"
   ]
  },
  {
   "cell_type": "code",
   "execution_count": 97,
   "metadata": {},
   "outputs": [
    {
     "name": "stdout",
     "output_type": "stream",
     "text": [
      "CPU times: user 3min 3s, sys: 128 ms, total: 3min 3s\n",
      "Wall time: 3min 3s\n"
     ]
    },
    {
     "data": {
      "text/plain": [
       "SVC()"
      ]
     },
     "execution_count": 97,
     "metadata": {},
     "output_type": "execute_result"
    }
   ],
   "source": [
    "%%time\n",
    "model_svc.fit(X_train_short, y_train_short)"
   ]
  },
  {
   "cell_type": "code",
   "execution_count": 96,
   "metadata": {},
   "outputs": [
    {
     "data": {
      "text/plain": [
       "GridSearchCV(cv=3, estimator=SVC(), n_jobs=-1,\n",
       "             param_grid={'gamma': [0.001, 0.1, 1, 10, 100, 1000]})"
      ]
     },
     "execution_count": 96,
     "metadata": {},
     "output_type": "execute_result"
    }
   ],
   "source": [
    "gsv"
   ]
  },
  {
   "cell_type": "code",
   "execution_count": 218,
   "metadata": {},
   "outputs": [
    {
     "ename": "AttributeError",
     "evalue": "'GridSearchCV' object has no attribute 'get_params_'",
     "output_type": "error",
     "traceback": [
      "\u001b[0;31m-----------------------------------------------------------------------\u001b[0m",
      "\u001b[0;31mAttributeError\u001b[0m                        Traceback (most recent call last)",
      "\u001b[0;32m<ipython-input-218-86efb9d0e5e3>\u001b[0m in \u001b[0;36m<module>\u001b[0;34m\u001b[0m\n\u001b[0;32m----> 1\u001b[0;31m \u001b[0mgsv\u001b[0m\u001b[0;34m.\u001b[0m\u001b[0mget_params_\u001b[0m\u001b[0;34m\u001b[0m\u001b[0;34m\u001b[0m\u001b[0m\n\u001b[0m",
      "\u001b[0;31mAttributeError\u001b[0m: 'GridSearchCV' object has no attribute 'get_params_'"
     ]
    }
   ],
   "source": [
    "gsv.get_params_"
   ]
  },
  {
   "cell_type": "code",
   "execution_count": null,
   "metadata": {},
   "outputs": [],
   "source": []
  },
  {
   "cell_type": "code",
   "execution_count": null,
   "metadata": {},
   "outputs": [],
   "source": []
  },
  {
   "cell_type": "code",
   "execution_count": null,
   "metadata": {},
   "outputs": [],
   "source": [
    "y_pred = model_svc.predict(X_train)"
   ]
  },
  {
   "cell_type": "code",
   "execution_count": null,
   "metadata": {},
   "outputs": [],
   "source": [
    "print_metrics(y_train, y_pred)"
   ]
  },
  {
   "cell_type": "code",
   "execution_count": null,
   "metadata": {},
   "outputs": [],
   "source": []
  },
  {
   "cell_type": "code",
   "execution_count": 7,
   "metadata": {},
   "outputs": [],
   "source": [
    "a = np.c_[1:5]\n",
    "b = np.c_[10:50:10]"
   ]
  },
  {
   "cell_type": "code",
   "execution_count": 9,
   "metadata": {},
   "outputs": [
    {
     "data": {
      "text/plain": [
       "189.6875"
      ]
     },
     "execution_count": 9,
     "metadata": {},
     "output_type": "execute_result"
    }
   ],
   "source": [
    "np.c_[a, b].var()"
   ]
  },
  {
   "cell_type": "code",
   "execution_count": null,
   "metadata": {},
   "outputs": [],
   "source": []
  },
  {
   "cell_type": "code",
   "execution_count": null,
   "metadata": {},
   "outputs": [],
   "source": []
  },
  {
   "cell_type": "code",
   "execution_count": null,
   "metadata": {},
   "outputs": [],
   "source": []
  },
  {
   "cell_type": "code",
   "execution_count": null,
   "metadata": {},
   "outputs": [],
   "source": []
  },
  {
   "cell_type": "code",
   "execution_count": null,
   "metadata": {},
   "outputs": [],
   "source": []
  },
  {
   "cell_type": "code",
   "execution_count": 87,
   "metadata": {},
   "outputs": [
    {
     "ename": "NameError",
     "evalue": "name 'index_train' is not defined",
     "output_type": "error",
     "traceback": [
      "\u001b[0;31m---------------------------------------------------------------------------\u001b[0m",
      "\u001b[0;31mNameError\u001b[0m                                 Traceback (most recent call last)",
      "\u001b[0;32m<ipython-input-87-6f0653018511>\u001b[0m in \u001b[0;36m<module>\u001b[0;34m\u001b[0m\n\u001b[0;32m----> 1\u001b[0;31m \u001b[0mindex_short_train\u001b[0m \u001b[0;34m=\u001b[0m \u001b[0mnp\u001b[0m\u001b[0;34m.\u001b[0m\u001b[0mrandom\u001b[0m\u001b[0;34m.\u001b[0m\u001b[0mchoice\u001b[0m\u001b[0;34m(\u001b[0m\u001b[0mindex_train\u001b[0m\u001b[0;34m,\u001b[0m \u001b[0;36m20000\u001b[0m\u001b[0;34m)\u001b[0m\u001b[0;34m\u001b[0m\u001b[0;34m\u001b[0m\u001b[0m\n\u001b[0m",
      "\u001b[0;31mNameError\u001b[0m: name 'index_train' is not defined"
     ]
    }
   ],
   "source": [
    "index_short_train = np.random.choice(index_train, 20000)"
   ]
  },
  {
   "cell_type": "code",
   "execution_count": 88,
   "metadata": {},
   "outputs": [
    {
     "data": {
      "text/plain": [
       "20000"
      ]
     },
     "execution_count": 88,
     "metadata": {},
     "output_type": "execute_result"
    }
   ],
   "source": [
    "len(index_short_train)"
   ]
  },
  {
   "cell_type": "code",
   "execution_count": 89,
   "metadata": {},
   "outputs": [],
   "source": [
    "X_train_short = X_train.loc[index_short_train]"
   ]
  },
  {
   "cell_type": "code",
   "execution_count": 90,
   "metadata": {},
   "outputs": [],
   "source": [
    "X_train_short.sort_index(inplace=True)"
   ]
  },
  {
   "cell_type": "code",
   "execution_count": 91,
   "metadata": {},
   "outputs": [],
   "source": [
    "y_train_short = y_train.loc[index_short_train]"
   ]
  },
  {
   "cell_type": "code",
   "execution_count": 92,
   "metadata": {},
   "outputs": [],
   "source": [
    "y_train_short.sort_index(inplace=True)"
   ]
  },
  {
   "cell_type": "code",
   "execution_count": 93,
   "metadata": {},
   "outputs": [
    {
     "data": {
      "text/plain": [
       "20000"
      ]
     },
     "execution_count": 93,
     "metadata": {},
     "output_type": "execute_result"
    }
   ],
   "source": [
    "np.sum(y_train_short.index == X_train_short.index)"
   ]
  },
  {
   "cell_type": "code",
   "execution_count": 94,
   "metadata": {},
   "outputs": [
    {
     "data": {
      "text/plain": [
       "<matplotlib.axes._subplots.AxesSubplot at 0x7f3b9d67add8>"
      ]
     },
     "execution_count": 94,
     "metadata": {},
     "output_type": "execute_result"
    },
    {
     "data": {
      "image/png": "[encoded data removed]",
      "text/plain": [
       "<Figure size 432x288 with 1 Axes>"
      ]
     },
     "metadata": {
      "needs_background": "light"
     },
     "output_type": "display_data"
    }
   ],
   "source": [
    "sns.countplot(y_train_short)"
   ]
  },
  {
   "cell_type": "code",
   "execution_count": null,
   "metadata": {},
   "outputs": [],
   "source": []
  },
  {
   "cell_type": "code",
   "execution_count": null,
   "metadata": {},
   "outputs": [],
   "source": []
  },
  {
   "cell_type": "code",
   "execution_count": null,
   "metadata": {},
   "outputs": [],
   "source": []
  },
  {
   "cell_type": "code",
   "execution_count": 132,
   "metadata": {},
   "outputs": [],
   "source": [
    "model_svc = SVC()"
   ]
  },
  {
   "cell_type": "code",
   "execution_count": 130,
   "metadata": {},
   "outputs": [
    {
     "name": "stdout",
     "output_type": "stream",
     "text": [
      "CPU times: user 29.4 s, sys: 96 ms, total: 29.5 s\n",
      "Wall time: 29.5 s\n"
     ]
    },
    {
     "data": {
      "text/plain": [
       "SVC()"
      ]
     },
     "execution_count": 130,
     "metadata": {},
     "output_type": "execute_result"
    }
   ],
   "source": [
    "%%time\n",
    "model_svc.fit(X_train_short, y_train_short)"
   ]
  },
  {
   "cell_type": "code",
   "execution_count": 120,
   "metadata": {},
   "outputs": [],
   "source": [
    "y_pred = model_svc.predict(X_test)"
   ]
  },
  {
   "cell_type": "code",
   "execution_count": 121,
   "metadata": {},
   "outputs": [
    {
     "data": {
      "text/plain": [
       "0.36276919747074193"
      ]
     },
     "execution_count": 121,
     "metadata": {},
     "output_type": "execute_result"
    }
   ],
   "source": [
    "accuracy_score(y_test, y_pred)"
   ]
  },
  {
   "cell_type": "code",
   "execution_count": 158,
   "metadata": {},
   "outputs": [],
   "source": [
    "x = ds.sort_index().index\n",
    "y = range(len(x))"
   ]
  },
  {
   "cell_type": "code",
   "execution_count": 159,
   "metadata": {},
   "outputs": [
    {
     "data": {
      "image/png": "[encoded data removed]",
      "text/plain": [
       "<Figure size 432x288 with 1 Axes>"
      ]
     },
     "metadata": {
      "needs_background": "light"
     },
     "output_type": "display_data"
    }
   ],
   "source": [
    "plt.plot(x, y);"
   ]
  },
  {
   "cell_type": "code",
   "execution_count": 164,
   "metadata": {},
   "outputs": [],
   "source": [
    "index_for_short = [v for v in x[::10]]\n",
    "X_train_short = ds.loc[index_for_short]"
   ]
  },
  {
   "cell_type": "code",
   "execution_count": 165,
   "metadata": {},
   "outputs": [
    {
     "data": {
      "text/html": [
       "<div>\n",
       "<style scoped>\n",
       "    .dataframe tbody tr th:only-of-type {\n",
       "        vertical-align: middle;\n",
       "    }\n",
       "\n",
       "    .dataframe tbody tr th {\n",
       "        vertical-align: top;\n",
       "    }\n",
       "\n",
       "    .dataframe thead th {\n",
       "        text-align: right;\n",
       "    }\n",
       "</style>\n",
       "<table border=\"1\" class=\"dataframe\">\n",
       "  <thead>\n",
       "    <tr style=\"text-align: right;\">\n",
       "      <th></th>\n",
       "      <th>is_profit</th>\n",
       "      <th>sym</th>\n",
       "      <th>datetime</th>\n",
       "      <th>rsi14</th>\n",
       "      <th>sma9_var</th>\n",
       "      <th>sma180_var</th>\n",
       "      <th>vwap_var</th>\n",
       "      <th>spread14_e</th>\n",
       "      <th>volume14_34_var</th>\n",
       "      <th>prev_close_var</th>\n",
       "      <th>...</th>\n",
       "      <th>prev2_candle_score</th>\n",
       "      <th>prev3_candle_score</th>\n",
       "      <th>mins_from_start</th>\n",
       "      <th>valley_interval_mins</th>\n",
       "      <th>valley_close_score</th>\n",
       "      <th>valley_rsi_score</th>\n",
       "      <th>day_open_var</th>\n",
       "      <th>open_from_prev_close_var</th>\n",
       "      <th>ceil_var</th>\n",
       "      <th>floor_var</th>\n",
       "    </tr>\n",
       "  </thead>\n",
       "  <tbody>\n",
       "    <tr>\n",
       "      <th>0</th>\n",
       "      <td>True</td>\n",
       "      <td>MGNX</td>\n",
       "      <td>2020-11-02 11:13:00</td>\n",
       "      <td>30.509761</td>\n",
       "      <td>-0.006223</td>\n",
       "      <td>-0.022679</td>\n",
       "      <td>-0.017526</td>\n",
       "      <td>0.000620</td>\n",
       "      <td>-0.006472</td>\n",
       "      <td>-0.037037</td>\n",
       "      <td>...</td>\n",
       "      <td>0.000000</td>\n",
       "      <td>0.000000</td>\n",
       "      <td>103.0</td>\n",
       "      <td>50.0</td>\n",
       "      <td>0.425532</td>\n",
       "      <td>0.758046</td>\n",
       "      <td>-0.032058</td>\n",
       "      <td>-0.005144</td>\n",
       "      <td>-0.034554</td>\n",
       "      <td>0.000802</td>\n",
       "    </tr>\n",
       "    <tr>\n",
       "      <th>10</th>\n",
       "      <td>True</td>\n",
       "      <td>BLNK</td>\n",
       "      <td>2020-11-02 14:11:00</td>\n",
       "      <td>45.629119</td>\n",
       "      <td>-0.001515</td>\n",
       "      <td>-0.013328</td>\n",
       "      <td>-0.015379</td>\n",
       "      <td>0.000450</td>\n",
       "      <td>0.276878</td>\n",
       "      <td>0.018084</td>\n",
       "      <td>...</td>\n",
       "      <td>0.000000</td>\n",
       "      <td>-0.001261</td>\n",
       "      <td>281.0</td>\n",
       "      <td>58.0</td>\n",
       "      <td>0.553183</td>\n",
       "      <td>15.230913</td>\n",
       "      <td>-0.024661</td>\n",
       "      <td>0.043825</td>\n",
       "      <td>-0.030637</td>\n",
       "      <td>0.003807</td>\n",
       "    </tr>\n",
       "    <tr>\n",
       "      <th>20</th>\n",
       "      <td>False</td>\n",
       "      <td>SMAR</td>\n",
       "      <td>2020-11-02 13:11:00</td>\n",
       "      <td>32.521222</td>\n",
       "      <td>-0.001613</td>\n",
       "      <td>-0.013340</td>\n",
       "      <td>-0.014689</td>\n",
       "      <td>0.000364</td>\n",
       "      <td>-0.076646</td>\n",
       "      <td>-0.014234</td>\n",
       "      <td>...</td>\n",
       "      <td>-0.000102</td>\n",
       "      <td>-0.000305</td>\n",
       "      <td>221.0</td>\n",
       "      <td>22.0</td>\n",
       "      <td>0.067683</td>\n",
       "      <td>2.201373</td>\n",
       "      <td>-0.014827</td>\n",
       "      <td>0.000601</td>\n",
       "      <td>-0.037581</td>\n",
       "      <td>0.000000</td>\n",
       "    </tr>\n",
       "    <tr>\n",
       "      <th>30</th>\n",
       "      <td>True</td>\n",
       "      <td>PS</td>\n",
       "      <td>2020-11-02 13:23:00</td>\n",
       "      <td>38.472459</td>\n",
       "      <td>-0.002767</td>\n",
       "      <td>-0.017476</td>\n",
       "      <td>-0.016722</td>\n",
       "      <td>0.001334</td>\n",
       "      <td>-0.829735</td>\n",
       "      <td>0.007643</td>\n",
       "      <td>...</td>\n",
       "      <td>0.001899</td>\n",
       "      <td>-0.001577</td>\n",
       "      <td>233.0</td>\n",
       "      <td>10.0</td>\n",
       "      <td>0.126266</td>\n",
       "      <td>6.540503</td>\n",
       "      <td>-0.002207</td>\n",
       "      <td>0.009873</td>\n",
       "      <td>-0.031231</td>\n",
       "      <td>0.004444</td>\n",
       "    </tr>\n",
       "    <tr>\n",
       "      <th>40</th>\n",
       "      <td>True</td>\n",
       "      <td>SHAK</td>\n",
       "      <td>2020-11-02 10:51:00</td>\n",
       "      <td>38.905403</td>\n",
       "      <td>-0.001339</td>\n",
       "      <td>-0.032060</td>\n",
       "      <td>-0.011469</td>\n",
       "      <td>0.001067</td>\n",
       "      <td>-0.075535</td>\n",
       "      <td>-0.049576</td>\n",
       "      <td>...</td>\n",
       "      <td>0.000000</td>\n",
       "      <td>0.000778</td>\n",
       "      <td>81.0</td>\n",
       "      <td>6.0</td>\n",
       "      <td>0.011531</td>\n",
       "      <td>2.949118</td>\n",
       "      <td>-0.041485</td>\n",
       "      <td>-0.008442</td>\n",
       "      <td>-0.041485</td>\n",
       "      <td>0.001914</td>\n",
       "    </tr>\n",
       "    <tr>\n",
       "      <th>...</th>\n",
       "      <td>...</td>\n",
       "      <td>...</td>\n",
       "      <td>...</td>\n",
       "      <td>...</td>\n",
       "      <td>...</td>\n",
       "      <td>...</td>\n",
       "      <td>...</td>\n",
       "      <td>...</td>\n",
       "      <td>...</td>\n",
       "      <td>...</td>\n",
       "      <td>...</td>\n",
       "      <td>...</td>\n",
       "      <td>...</td>\n",
       "      <td>...</td>\n",
       "      <td>...</td>\n",
       "      <td>...</td>\n",
       "      <td>...</td>\n",
       "      <td>...</td>\n",
       "      <td>...</td>\n",
       "      <td>...</td>\n",
       "      <td>...</td>\n",
       "    </tr>\n",
       "    <tr>\n",
       "      <th>258680</th>\n",
       "      <td>True</td>\n",
       "      <td>FULT</td>\n",
       "      <td>2021-01-22 09:40:00</td>\n",
       "      <td>35.348826</td>\n",
       "      <td>-0.005714</td>\n",
       "      <td>-0.009876</td>\n",
       "      <td>-0.003359</td>\n",
       "      <td>0.002311</td>\n",
       "      <td>0.046203</td>\n",
       "      <td>-0.003506</td>\n",
       "      <td>...</td>\n",
       "      <td>-0.001395</td>\n",
       "      <td>0.002098</td>\n",
       "      <td>10.0</td>\n",
       "      <td>9.0</td>\n",
       "      <td>0.070325</td>\n",
       "      <td>18.800343</td>\n",
       "      <td>-0.003506</td>\n",
       "      <td>0.000000</td>\n",
       "      <td>-0.008374</td>\n",
       "      <td>0.000000</td>\n",
       "    </tr>\n",
       "    <tr>\n",
       "      <th>258690</th>\n",
       "      <td>False</td>\n",
       "      <td>JD</td>\n",
       "      <td>2021-01-22 13:29:00</td>\n",
       "      <td>31.379597</td>\n",
       "      <td>-0.000955</td>\n",
       "      <td>-0.004431</td>\n",
       "      <td>-0.000979</td>\n",
       "      <td>0.000412</td>\n",
       "      <td>0.179564</td>\n",
       "      <td>-0.004731</td>\n",
       "      <td>...</td>\n",
       "      <td>0.000252</td>\n",
       "      <td>0.000211</td>\n",
       "      <td>239.0</td>\n",
       "      <td>10.0</td>\n",
       "      <td>0.021018</td>\n",
       "      <td>4.763803</td>\n",
       "      <td>0.005739</td>\n",
       "      <td>-0.010410</td>\n",
       "      <td>-0.009097</td>\n",
       "      <td>0.009170</td>\n",
       "    </tr>\n",
       "    <tr>\n",
       "      <th>258700</th>\n",
       "      <td>False</td>\n",
       "      <td>GOEV</td>\n",
       "      <td>2021-01-22 10:29:00</td>\n",
       "      <td>42.564584</td>\n",
       "      <td>-0.002300</td>\n",
       "      <td>-0.008094</td>\n",
       "      <td>-0.002215</td>\n",
       "      <td>0.001492</td>\n",
       "      <td>-0.242891</td>\n",
       "      <td>-0.009947</td>\n",
       "      <td>...</td>\n",
       "      <td>0.002952</td>\n",
       "      <td>-0.000443</td>\n",
       "      <td>59.0</td>\n",
       "      <td>10.0</td>\n",
       "      <td>0.052571</td>\n",
       "      <td>0.770240</td>\n",
       "      <td>-0.004132</td>\n",
       "      <td>-0.005840</td>\n",
       "      <td>-0.009368</td>\n",
       "      <td>0.003463</td>\n",
       "    </tr>\n",
       "    <tr>\n",
       "      <th>258710</th>\n",
       "      <td>False</td>\n",
       "      <td>PIPP</td>\n",
       "      <td>2021-01-22 11:28:00</td>\n",
       "      <td>40.807732</td>\n",
       "      <td>-0.002307</td>\n",
       "      <td>-0.009014</td>\n",
       "      <td>-0.010942</td>\n",
       "      <td>0.001348</td>\n",
       "      <td>-0.124533</td>\n",
       "      <td>-0.003864</td>\n",
       "      <td>...</td>\n",
       "      <td>-0.001161</td>\n",
       "      <td>0.001301</td>\n",
       "      <td>118.0</td>\n",
       "      <td>23.0</td>\n",
       "      <td>0.077514</td>\n",
       "      <td>6.924233</td>\n",
       "      <td>0.003113</td>\n",
       "      <td>-0.006955</td>\n",
       "      <td>-0.024224</td>\n",
       "      <td>0.004543</td>\n",
       "    </tr>\n",
       "    <tr>\n",
       "      <th>258720</th>\n",
       "      <td>True</td>\n",
       "      <td>WOOF</td>\n",
       "      <td>2021-01-22 11:47:00</td>\n",
       "      <td>39.308846</td>\n",
       "      <td>-0.003392</td>\n",
       "      <td>-0.021485</td>\n",
       "      <td>-0.013828</td>\n",
       "      <td>0.001880</td>\n",
       "      <td>-0.212968</td>\n",
       "      <td>-0.050841</td>\n",
       "      <td>...</td>\n",
       "      <td>-0.003259</td>\n",
       "      <td>0.000196</td>\n",
       "      <td>137.0</td>\n",
       "      <td>10.0</td>\n",
       "      <td>0.083163</td>\n",
       "      <td>3.204049</td>\n",
       "      <td>-0.022967</td>\n",
       "      <td>-0.028530</td>\n",
       "      <td>-0.036927</td>\n",
       "      <td>0.005035</td>\n",
       "    </tr>\n",
       "  </tbody>\n",
       "</table>\n",
       "<p>25873 rows × 23 columns</p>\n",
       "</div>"
      ],
      "text/plain": [
       "        is_profit   sym             datetime      rsi14  sma9_var  sma180_var  \\\n",
       "0            True  MGNX  2020-11-02 11:13:00  30.509761 -0.006223   -0.022679   \n",
       "10           True  BLNK  2020-11-02 14:11:00  45.629119 -0.001515   -0.013328   \n",
       "20          False  SMAR  2020-11-02 13:11:00  32.521222 -0.001613   -0.013340   \n",
       "30           True    PS  2020-11-02 13:23:00  38.472459 -0.002767   -0.017476   \n",
       "40           True  SHAK  2020-11-02 10:51:00  38.905403 -0.001339   -0.032060   \n",
       "...           ...   ...                  ...        ...       ...         ...   \n",
       "258680       True  FULT  2021-01-22 09:40:00  35.348826 -0.005714   -0.009876   \n",
       "258690      False    JD  2021-01-22 13:29:00  31.379597 -0.000955   -0.004431   \n",
       "258700      False  GOEV  2021-01-22 10:29:00  42.564584 -0.002300   -0.008094   \n",
       "258710      False  PIPP  2021-01-22 11:28:00  40.807732 -0.002307   -0.009014   \n",
       "258720       True  WOOF  2021-01-22 11:47:00  39.308846 -0.003392   -0.021485   \n",
       "\n",
       "        vwap_var  spread14_e  volume14_34_var  prev_close_var  ...  \\\n",
       "0      -0.017526    0.000620        -0.006472       -0.037037  ...   \n",
       "10     -0.015379    0.000450         0.276878        0.018084  ...   \n",
       "20     -0.014689    0.000364        -0.076646       -0.014234  ...   \n",
       "30     -0.016722    0.001334        -0.829735        0.007643  ...   \n",
       "40     -0.011469    0.001067        -0.075535       -0.049576  ...   \n",
       "...          ...         ...              ...             ...  ...   \n",
       "258680 -0.003359    0.002311         0.046203       -0.003506  ...   \n",
       "258690 -0.000979    0.000412         0.179564       -0.004731  ...   \n",
       "258700 -0.002215    0.001492        -0.242891       -0.009947  ...   \n",
       "258710 -0.010942    0.001348        -0.124533       -0.003864  ...   \n",
       "258720 -0.013828    0.001880        -0.212968       -0.050841  ...   \n",
       "\n",
       "        prev2_candle_score  prev3_candle_score  mins_from_start  \\\n",
       "0                 0.000000            0.000000            103.0   \n",
       "10                0.000000           -0.001261            281.0   \n",
       "20               -0.000102           -0.000305            221.0   \n",
       "30                0.001899           -0.001577            233.0   \n",
       "40                0.000000            0.000778             81.0   \n",
       "...                    ...                 ...              ...   \n",
       "258680           -0.001395            0.002098             10.0   \n",
       "258690            0.000252            0.000211            239.0   \n",
       "258700            0.002952           -0.000443             59.0   \n",
       "258710           -0.001161            0.001301            118.0   \n",
       "258720           -0.003259            0.000196            137.0   \n",
       "\n",
       "        valley_interval_mins  valley_close_score  valley_rsi_score  \\\n",
       "0                       50.0            0.425532          0.758046   \n",
       "10                      58.0            0.553183         15.230913   \n",
       "20                      22.0            0.067683          2.201373   \n",
       "30                      10.0            0.126266          6.540503   \n",
       "40                       6.0            0.011531          2.949118   \n",
       "...                      ...                 ...               ...   \n",
       "258680                   9.0            0.070325         18.800343   \n",
       "258690                  10.0            0.021018          4.763803   \n",
       "258700                  10.0            0.052571          0.770240   \n",
       "258710                  23.0            0.077514          6.924233   \n",
       "258720                  10.0            0.083163          3.204049   \n",
       "\n",
       "        day_open_var  open_from_prev_close_var  ceil_var  floor_var  \n",
       "0          -0.032058                 -0.005144 -0.034554   0.000802  \n",
       "10         -0.024661                  0.043825 -0.030637   0.003807  \n",
       "20         -0.014827                  0.000601 -0.037581   0.000000  \n",
       "30         -0.002207                  0.009873 -0.031231   0.004444  \n",
       "40         -0.041485                 -0.008442 -0.041485   0.001914  \n",
       "...              ...                       ...       ...        ...  \n",
       "258680     -0.003506                  0.000000 -0.008374   0.000000  \n",
       "258690      0.005739                 -0.010410 -0.009097   0.009170  \n",
       "258700     -0.004132                 -0.005840 -0.009368   0.003463  \n",
       "258710      0.003113                 -0.006955 -0.024224   0.004543  \n",
       "258720     -0.022967                 -0.028530 -0.036927   0.005035  \n",
       "\n",
       "[25873 rows x 23 columns]"
      ]
     },
     "execution_count": 165,
     "metadata": {},
     "output_type": "execute_result"
    }
   ],
   "source": [
    "X_train_short"
   ]
  },
  {
   "cell_type": "code",
   "execution_count": null,
   "metadata": {},
   "outputs": [],
   "source": []
  },
  {
   "cell_type": "code",
   "execution_count": 170,
   "metadata": {},
   "outputs": [
    {
     "data": {
      "text/plain": [
       "<matplotlib.axes._subplots.AxesSubplot at 0x7f3a6f97bcc0>"
      ]
     },
     "execution_count": 170,
     "metadata": {},
     "output_type": "execute_result"
    },
    {
     "data": {
      "image/png": "[encoded data removed]",
      "text/plain": [
       "<Figure size 432x288 with 1 Axes>"
      ]
     },
     "metadata": {
      "needs_background": "light"
     },
     "output_type": "display_data"
    }
   ],
   "source": [
    "sns.boxplot(y='rsi14', x='is_profit', data=ds)"
   ]
  },
  {
   "cell_type": "code",
   "execution_count": null,
   "metadata": {},
   "outputs": [],
   "source": []
  },
  {
   "cell_type": "code",
   "execution_count": null,
   "metadata": {},
   "outputs": [],
   "source": []
  },
  {
   "cell_type": "code",
   "execution_count": null,
   "metadata": {},
   "outputs": [],
   "source": []
  },
  {
   "cell_type": "code",
   "execution_count": null,
   "metadata": {},
   "outputs": [],
   "source": []
  },
  {
   "cell_type": "code",
   "execution_count": null,
   "metadata": {},
   "outputs": [],
   "source": []
  },
  {
   "cell_type": "code",
   "execution_count": 133,
   "metadata": {},
   "outputs": [],
   "source": [
    "params_grid = {'kernel': ['linear', 'rbf', 'poly'], 'C': [1e0, 1e1, 1e2, 1e3],\n",
    "              'gamma': np.logspace(-2, 2, 5)}"
   ]
  },
  {
   "cell_type": "code",
   "execution_count": 134,
   "metadata": {},
   "outputs": [
    {
     "name": "stdout",
     "output_type": "stream",
     "text": [
      "CPU times: user 0 ns, sys: 0 ns, total: 0 ns\n",
      "Wall time: 95.6 µs\n"
     ]
    }
   ],
   "source": [
    "%%time\n",
    "svr = GridSearchCV(model_svc, params_grid, cv=5, n_jobs=-1)"
   ]
  },
  {
   "cell_type": "code",
   "execution_count": 135,
   "metadata": {},
   "outputs": [
    {
     "ename": "KeyboardInterrupt",
     "evalue": "",
     "output_type": "error",
     "traceback": [
      "\u001b[0;31m---------------------------------------------------------------------------\u001b[0m",
      "\u001b[0;31mKeyboardInterrupt\u001b[0m                         Traceback (most recent call last)",
      "\u001b[0;32m<timed eval>\u001b[0m in \u001b[0;36m<module>\u001b[0;34m\u001b[0m\n",
      "\u001b[0;32m~/anaconda3/lib/python3.7/site-packages/sklearn/utils/validation.py\u001b[0m in \u001b[0;36minner_f\u001b[0;34m(*args, **kwargs)\u001b[0m\n\u001b[1;32m     70\u001b[0m                           FutureWarning)\n\u001b[1;32m     71\u001b[0m         \u001b[0mkwargs\u001b[0m\u001b[0;34m.\u001b[0m\u001b[0mupdate\u001b[0m\u001b[0;34m(\u001b[0m\u001b[0;34m{\u001b[0m\u001b[0mk\u001b[0m\u001b[0;34m:\u001b[0m \u001b[0marg\u001b[0m \u001b[0;32mfor\u001b[0m \u001b[0mk\u001b[0m\u001b[0;34m,\u001b[0m \u001b[0marg\u001b[0m \u001b[0;32min\u001b[0m \u001b[0mzip\u001b[0m\u001b[0;34m(\u001b[0m\u001b[0msig\u001b[0m\u001b[0;34m.\u001b[0m\u001b[0mparameters\u001b[0m\u001b[0;34m,\u001b[0m \u001b[0margs\u001b[0m\u001b[0;34m)\u001b[0m\u001b[0;34m}\u001b[0m\u001b[0;34m)\u001b[0m\u001b[0;34m\u001b[0m\u001b[0;34m\u001b[0m\u001b[0m\n\u001b[0;32m---> 72\u001b[0;31m         \u001b[0;32mreturn\u001b[0m \u001b[0mf\u001b[0m\u001b[0;34m(\u001b[0m\u001b[0;34m**\u001b[0m\u001b[0mkwargs\u001b[0m\u001b[0;34m)\u001b[0m\u001b[0;34m\u001b[0m\u001b[0;34m\u001b[0m\u001b[0m\n\u001b[0m\u001b[1;32m     73\u001b[0m     \u001b[0;32mreturn\u001b[0m \u001b[0minner_f\u001b[0m\u001b[0;34m\u001b[0m\u001b[0;34m\u001b[0m\u001b[0m\n\u001b[1;32m     74\u001b[0m \u001b[0;34m\u001b[0m\u001b[0m\n",
      "\u001b[0;32m~/anaconda3/lib/python3.7/site-packages/sklearn/model_selection/_search.py\u001b[0m in \u001b[0;36mfit\u001b[0;34m(self, X, y, groups, **fit_params)\u001b[0m\n\u001b[1;32m    734\u001b[0m                 \u001b[0;32mreturn\u001b[0m \u001b[0mresults\u001b[0m\u001b[0;34m\u001b[0m\u001b[0;34m\u001b[0m\u001b[0m\n\u001b[1;32m    735\u001b[0m \u001b[0;34m\u001b[0m\u001b[0m\n\u001b[0;32m--> 736\u001b[0;31m             \u001b[0mself\u001b[0m\u001b[0;34m.\u001b[0m\u001b[0m_run_search\u001b[0m\u001b[0;34m(\u001b[0m\u001b[0mevaluate_candidates\u001b[0m\u001b[0;34m)\u001b[0m\u001b[0;34m\u001b[0m\u001b[0;34m\u001b[0m\u001b[0m\n\u001b[0m\u001b[1;32m    737\u001b[0m \u001b[0;34m\u001b[0m\u001b[0m\n\u001b[1;32m    738\u001b[0m         \u001b[0;31m# For multi-metric evaluation, store the best_index_, best_params_ and\u001b[0m\u001b[0;34m\u001b[0m\u001b[0;34m\u001b[0m\u001b[0;34m\u001b[0m\u001b[0m\n",
      "\u001b[0;32m~/anaconda3/lib/python3.7/site-packages/sklearn/model_selection/_search.py\u001b[0m in \u001b[0;36m_run_search\u001b[0;34m(self, evaluate_candidates)\u001b[0m\n\u001b[1;32m   1186\u001b[0m     \u001b[0;32mdef\u001b[0m \u001b[0m_run_search\u001b[0m\u001b[0;34m(\u001b[0m\u001b[0mself\u001b[0m\u001b[0;34m,\u001b[0m \u001b[0mevaluate_candidates\u001b[0m\u001b[0;34m)\u001b[0m\u001b[0;34m:\u001b[0m\u001b[0;34m\u001b[0m\u001b[0;34m\u001b[0m\u001b[0m\n\u001b[1;32m   1187\u001b[0m         \u001b[0;34m\"\"\"Search all candidates in param_grid\"\"\"\u001b[0m\u001b[0;34m\u001b[0m\u001b[0;34m\u001b[0m\u001b[0m\n\u001b[0;32m-> 1188\u001b[0;31m         \u001b[0mevaluate_candidates\u001b[0m\u001b[0;34m(\u001b[0m\u001b[0mParameterGrid\u001b[0m\u001b[0;34m(\u001b[0m\u001b[0mself\u001b[0m\u001b[0;34m.\u001b[0m\u001b[0mparam_grid\u001b[0m\u001b[0;34m)\u001b[0m\u001b[0;34m)\u001b[0m\u001b[0;34m\u001b[0m\u001b[0;34m\u001b[0m\u001b[0m\n\u001b[0m\u001b[1;32m   1189\u001b[0m \u001b[0;34m\u001b[0m\u001b[0m\n\u001b[1;32m   1190\u001b[0m \u001b[0;34m\u001b[0m\u001b[0m\n",
      "\u001b[0;32m~/anaconda3/lib/python3.7/site-packages/sklearn/model_selection/_search.py\u001b[0m in \u001b[0;36mevaluate_candidates\u001b[0;34m(candidate_params)\u001b[0m\n\u001b[1;32m    713\u001b[0m                                \u001b[0;32mfor\u001b[0m \u001b[0mparameters\u001b[0m\u001b[0;34m,\u001b[0m \u001b[0;34m(\u001b[0m\u001b[0mtrain\u001b[0m\u001b[0;34m,\u001b[0m \u001b[0mtest\u001b[0m\u001b[0;34m)\u001b[0m\u001b[0;34m\u001b[0m\u001b[0;34m\u001b[0m\u001b[0m\n\u001b[1;32m    714\u001b[0m                                in product(candidate_params,\n\u001b[0;32m--> 715\u001b[0;31m                                           cv.split(X, y, groups)))\n\u001b[0m\u001b[1;32m    716\u001b[0m \u001b[0;34m\u001b[0m\u001b[0m\n\u001b[1;32m    717\u001b[0m                 \u001b[0;32mif\u001b[0m \u001b[0mlen\u001b[0m\u001b[0;34m(\u001b[0m\u001b[0mout\u001b[0m\u001b[0;34m)\u001b[0m \u001b[0;34m<\u001b[0m \u001b[0;36m1\u001b[0m\u001b[0;34m:\u001b[0m\u001b[0;34m\u001b[0m\u001b[0;34m\u001b[0m\u001b[0m\n",
      "\u001b[0;32m~/anaconda3/lib/python3.7/site-packages/joblib/parallel.py\u001b[0m in \u001b[0;36m__call__\u001b[0;34m(self, iterable)\u001b[0m\n\u001b[1;32m   1040\u001b[0m \u001b[0;34m\u001b[0m\u001b[0m\n\u001b[1;32m   1041\u001b[0m             \u001b[0;32mwith\u001b[0m \u001b[0mself\u001b[0m\u001b[0;34m.\u001b[0m\u001b[0m_backend\u001b[0m\u001b[0;34m.\u001b[0m\u001b[0mretrieval_context\u001b[0m\u001b[0;34m(\u001b[0m\u001b[0;34m)\u001b[0m\u001b[0;34m:\u001b[0m\u001b[0;34m\u001b[0m\u001b[0;34m\u001b[0m\u001b[0m\n\u001b[0;32m-> 1042\u001b[0;31m                 \u001b[0mself\u001b[0m\u001b[0;34m.\u001b[0m\u001b[0mretrieve\u001b[0m\u001b[0;34m(\u001b[0m\u001b[0;34m)\u001b[0m\u001b[0;34m\u001b[0m\u001b[0;34m\u001b[0m\u001b[0m\n\u001b[0m\u001b[1;32m   1043\u001b[0m             \u001b[0;31m# Make sure that we get a last message telling us we are done\u001b[0m\u001b[0;34m\u001b[0m\u001b[0;34m\u001b[0m\u001b[0;34m\u001b[0m\u001b[0m\n\u001b[1;32m   1044\u001b[0m             \u001b[0melapsed_time\u001b[0m \u001b[0;34m=\u001b[0m \u001b[0mtime\u001b[0m\u001b[0;34m.\u001b[0m\u001b[0mtime\u001b[0m\u001b[0;34m(\u001b[0m\u001b[0;34m)\u001b[0m \u001b[0;34m-\u001b[0m \u001b[0mself\u001b[0m\u001b[0;34m.\u001b[0m\u001b[0m_start_time\u001b[0m\u001b[0;34m\u001b[0m\u001b[0;34m\u001b[0m\u001b[0m\n",
      "\u001b[0;32m~/anaconda3/lib/python3.7/site-packages/joblib/parallel.py\u001b[0m in \u001b[0;36mretrieve\u001b[0;34m(self)\u001b[0m\n\u001b[1;32m    919\u001b[0m             \u001b[0;32mtry\u001b[0m\u001b[0;34m:\u001b[0m\u001b[0;34m\u001b[0m\u001b[0;34m\u001b[0m\u001b[0m\n\u001b[1;32m    920\u001b[0m                 \u001b[0;32mif\u001b[0m \u001b[0mgetattr\u001b[0m\u001b[0;34m(\u001b[0m\u001b[0mself\u001b[0m\u001b[0;34m.\u001b[0m\u001b[0m_backend\u001b[0m\u001b[0;34m,\u001b[0m \u001b[0;34m'supports_timeout'\u001b[0m\u001b[0;34m,\u001b[0m \u001b[0;32mFalse\u001b[0m\u001b[0;34m)\u001b[0m\u001b[0;34m:\u001b[0m\u001b[0;34m\u001b[0m\u001b[0;34m\u001b[0m\u001b[0m\n\u001b[0;32m--> 921\u001b[0;31m                     \u001b[0mself\u001b[0m\u001b[0;34m.\u001b[0m\u001b[0m_output\u001b[0m\u001b[0;34m.\u001b[0m\u001b[0mextend\u001b[0m\u001b[0;34m(\u001b[0m\u001b[0mjob\u001b[0m\u001b[0;34m.\u001b[0m\u001b[0mget\u001b[0m\u001b[0;34m(\u001b[0m\u001b[0mtimeout\u001b[0m\u001b[0;34m=\u001b[0m\u001b[0mself\u001b[0m\u001b[0;34m.\u001b[0m\u001b[0mtimeout\u001b[0m\u001b[0;34m)\u001b[0m\u001b[0;34m)\u001b[0m\u001b[0;34m\u001b[0m\u001b[0;34m\u001b[0m\u001b[0m\n\u001b[0m\u001b[1;32m    922\u001b[0m                 \u001b[0;32melse\u001b[0m\u001b[0;34m:\u001b[0m\u001b[0;34m\u001b[0m\u001b[0;34m\u001b[0m\u001b[0m\n\u001b[1;32m    923\u001b[0m                     \u001b[0mself\u001b[0m\u001b[0;34m.\u001b[0m\u001b[0m_output\u001b[0m\u001b[0;34m.\u001b[0m\u001b[0mextend\u001b[0m\u001b[0;34m(\u001b[0m\u001b[0mjob\u001b[0m\u001b[0;34m.\u001b[0m\u001b[0mget\u001b[0m\u001b[0;34m(\u001b[0m\u001b[0;34m)\u001b[0m\u001b[0;34m)\u001b[0m\u001b[0;34m\u001b[0m\u001b[0;34m\u001b[0m\u001b[0m\n",
      "\u001b[0;32m~/anaconda3/lib/python3.7/site-packages/joblib/_parallel_backends.py\u001b[0m in \u001b[0;36mwrap_future_result\u001b[0;34m(future, timeout)\u001b[0m\n\u001b[1;32m    540\u001b[0m         AsyncResults.get from multiprocessing.\"\"\"\n\u001b[1;32m    541\u001b[0m         \u001b[0;32mtry\u001b[0m\u001b[0;34m:\u001b[0m\u001b[0;34m\u001b[0m\u001b[0;34m\u001b[0m\u001b[0m\n\u001b[0;32m--> 542\u001b[0;31m             \u001b[0;32mreturn\u001b[0m \u001b[0mfuture\u001b[0m\u001b[0;34m.\u001b[0m\u001b[0mresult\u001b[0m\u001b[0;34m(\u001b[0m\u001b[0mtimeout\u001b[0m\u001b[0;34m=\u001b[0m\u001b[0mtimeout\u001b[0m\u001b[0;34m)\u001b[0m\u001b[0;34m\u001b[0m\u001b[0;34m\u001b[0m\u001b[0m\n\u001b[0m\u001b[1;32m    543\u001b[0m         \u001b[0;32mexcept\u001b[0m \u001b[0mCfTimeoutError\u001b[0m \u001b[0;32mas\u001b[0m \u001b[0me\u001b[0m\u001b[0;34m:\u001b[0m\u001b[0;34m\u001b[0m\u001b[0;34m\u001b[0m\u001b[0m\n\u001b[1;32m    544\u001b[0m             \u001b[0;32mraise\u001b[0m \u001b[0mTimeoutError\u001b[0m \u001b[0;32mfrom\u001b[0m \u001b[0me\u001b[0m\u001b[0;34m\u001b[0m\u001b[0;34m\u001b[0m\u001b[0m\n",
      "\u001b[0;32m~/anaconda3/lib/python3.7/concurrent/futures/_base.py\u001b[0m in \u001b[0;36mresult\u001b[0;34m(self, timeout)\u001b[0m\n\u001b[1;32m    425\u001b[0m                 \u001b[0;32mreturn\u001b[0m \u001b[0mself\u001b[0m\u001b[0;34m.\u001b[0m\u001b[0m__get_result\u001b[0m\u001b[0;34m(\u001b[0m\u001b[0;34m)\u001b[0m\u001b[0;34m\u001b[0m\u001b[0;34m\u001b[0m\u001b[0m\n\u001b[1;32m    426\u001b[0m \u001b[0;34m\u001b[0m\u001b[0m\n\u001b[0;32m--> 427\u001b[0;31m             \u001b[0mself\u001b[0m\u001b[0;34m.\u001b[0m\u001b[0m_condition\u001b[0m\u001b[0;34m.\u001b[0m\u001b[0mwait\u001b[0m\u001b[0;34m(\u001b[0m\u001b[0mtimeout\u001b[0m\u001b[0;34m)\u001b[0m\u001b[0;34m\u001b[0m\u001b[0;34m\u001b[0m\u001b[0m\n\u001b[0m\u001b[1;32m    428\u001b[0m \u001b[0;34m\u001b[0m\u001b[0m\n\u001b[1;32m    429\u001b[0m             \u001b[0;32mif\u001b[0m \u001b[0mself\u001b[0m\u001b[0;34m.\u001b[0m\u001b[0m_state\u001b[0m \u001b[0;32min\u001b[0m \u001b[0;34m[\u001b[0m\u001b[0mCANCELLED\u001b[0m\u001b[0;34m,\u001b[0m \u001b[0mCANCELLED_AND_NOTIFIED\u001b[0m\u001b[0;34m]\u001b[0m\u001b[0;34m:\u001b[0m\u001b[0;34m\u001b[0m\u001b[0;34m\u001b[0m\u001b[0m\n",
      "\u001b[0;32m~/anaconda3/lib/python3.7/threading.py\u001b[0m in \u001b[0;36mwait\u001b[0;34m(self, timeout)\u001b[0m\n\u001b[1;32m    294\u001b[0m         \u001b[0;32mtry\u001b[0m\u001b[0;34m:\u001b[0m    \u001b[0;31m# restore state no matter what (e.g., KeyboardInterrupt)\u001b[0m\u001b[0;34m\u001b[0m\u001b[0;34m\u001b[0m\u001b[0m\n\u001b[1;32m    295\u001b[0m             \u001b[0;32mif\u001b[0m \u001b[0mtimeout\u001b[0m \u001b[0;32mis\u001b[0m \u001b[0;32mNone\u001b[0m\u001b[0;34m:\u001b[0m\u001b[0;34m\u001b[0m\u001b[0;34m\u001b[0m\u001b[0m\n\u001b[0;32m--> 296\u001b[0;31m                 \u001b[0mwaiter\u001b[0m\u001b[0;34m.\u001b[0m\u001b[0macquire\u001b[0m\u001b[0;34m(\u001b[0m\u001b[0;34m)\u001b[0m\u001b[0;34m\u001b[0m\u001b[0;34m\u001b[0m\u001b[0m\n\u001b[0m\u001b[1;32m    297\u001b[0m                 \u001b[0mgotit\u001b[0m \u001b[0;34m=\u001b[0m \u001b[0;32mTrue\u001b[0m\u001b[0;34m\u001b[0m\u001b[0;34m\u001b[0m\u001b[0m\n\u001b[1;32m    298\u001b[0m             \u001b[0;32melse\u001b[0m\u001b[0;34m:\u001b[0m\u001b[0;34m\u001b[0m\u001b[0;34m\u001b[0m\u001b[0m\n",
      "\u001b[0;31mKeyboardInterrupt\u001b[0m: "
     ]
    }
   ],
   "source": [
    "%%time\n",
    "svr.fit(X_train, y_train)"
   ]
  },
  {
   "cell_type": "code",
   "execution_count": 136,
   "metadata": {},
   "outputs": [
    {
     "ename": "AttributeError",
     "evalue": "'GridSearchCV' object has no attribute 'best_params_'",
     "output_type": "error",
     "traceback": [
      "\u001b[0;31m---------------------------------------------------------------------------\u001b[0m",
      "\u001b[0;31mAttributeError\u001b[0m                            Traceback (most recent call last)",
      "\u001b[0;32m<ipython-input-136-9ccf6876ed55>\u001b[0m in \u001b[0;36m<module>\u001b[0;34m\u001b[0m\n\u001b[0;32m----> 1\u001b[0;31m \u001b[0msvr\u001b[0m\u001b[0;34m.\u001b[0m\u001b[0mbest_params_\u001b[0m\u001b[0;34m\u001b[0m\u001b[0;34m\u001b[0m\u001b[0m\n\u001b[0m",
      "\u001b[0;31mAttributeError\u001b[0m: 'GridSearchCV' object has no attribute 'best_params_'"
     ]
    }
   ],
   "source": [
    "svr.best_params_"
   ]
  },
  {
   "cell_type": "code",
   "execution_count": null,
   "metadata": {},
   "outputs": [],
   "source": [
    "y_pred_train = svr.best_params(X_train)"
   ]
  },
  {
   "cell_type": "code",
   "execution_count": null,
   "metadata": {},
   "outputs": [],
   "source": [
    "accuracy_score(y_train, y_pred_train)"
   ]
  },
  {
   "cell_type": "code",
   "execution_count": null,
   "metadata": {},
   "outputs": [],
   "source": []
  }
 ],
 "metadata": {
  "kernelspec": {
   "display_name": "Python 3",
   "language": "python",
   "name": "python3"
  },
  "language_info": {
   "codemirror_mode": {
    "name": "ipython",
    "version": 3
   },
   "file_extension": ".py",
   "mimetype": "text/x-python",
   "name": "python",
   "nbconvert_exporter": "python",
   "pygments_lexer": "ipython3",
   "version": "3.7.3"
  }
 },
 "nbformat": 4,
 "nbformat_minor": 4
}
