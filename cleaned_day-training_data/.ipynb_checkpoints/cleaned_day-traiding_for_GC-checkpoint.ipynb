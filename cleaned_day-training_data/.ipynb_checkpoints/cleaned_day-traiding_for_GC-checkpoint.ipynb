{
 "cells": [
  {
   "cell_type": "code",
   "execution_count": 69,
   "metadata": {},
   "outputs": [],
   "source": [
    "import numpy as np\n",
    "import pandas as pd\n",
    "import pandas_profiling\n",
    "import matplotlib.pyplot as plt\n",
    "import matplotlib\n",
    "import seaborn as sns\n",
    "\n",
    "%matplotlib inline"
   ]
  },
  {
   "cell_type": "code",
   "execution_count": 70,
   "metadata": {},
   "outputs": [],
   "source": [
    "import warnings\n",
    "\n",
    "warnings.filterwarnings('ignore')"
   ]
  },
  {
   "cell_type": "code",
   "execution_count": 71,
   "metadata": {},
   "outputs": [],
   "source": [
    "ds = pd.read_csv('train.csv')"
   ]
  },
  {
   "cell_type": "code",
   "execution_count": 72,
   "metadata": {},
   "outputs": [
    {
     "data": {
      "text/plain": [
       "Index(['is_profit', 'sym', 'datetime', 'rsi14', 'sma9_var', 'sma180_var',\n",
       "       'vwap_var', 'spread14_e', 'volume14_34_var', 'prev_close_var',\n",
       "       'prev_floor_var', 'prev_ceil_var', 'prev1_candle_score',\n",
       "       'prev2_candle_score', 'prev3_candle_score', 'mins_from_start',\n",
       "       'valley_interval_mins', 'valley_close_score', 'valley_rsi_score',\n",
       "       'day_open_var', 'open_from_prev_close_var', 'ceil_var', 'floor_var'],\n",
       "      dtype='object')"
      ]
     },
     "execution_count": 72,
     "metadata": {},
     "output_type": "execute_result"
    }
   ],
   "source": [
    "columns = ds.columns\n",
    "columns"
   ]
  },
  {
   "cell_type": "code",
   "execution_count": 110,
   "metadata": {},
   "outputs": [],
   "source": [
    "columns_log = ['spread14_e', 'valley_interval_mins', 'valley_close_score', 'valley_rsi_score']"
   ]
  },
  {
   "cell_type": "code",
   "execution_count": 73,
   "metadata": {},
   "outputs": [],
   "source": [
    "columns_other = [col for col in ds.columns if col not in (columns_log and columns[3:])]"
   ]
  },
  {
   "cell_type": "code",
   "execution_count": 74,
   "metadata": {},
   "outputs": [
    {
     "data": {
      "text/plain": [
       "['is_profit', 'sym', 'datetime']"
      ]
     },
     "execution_count": 74,
     "metadata": {},
     "output_type": "execute_result"
    }
   ],
   "source": [
    "columns_other"
   ]
  },
  {
   "cell_type": "code",
   "execution_count": 75,
   "metadata": {},
   "outputs": [],
   "source": [
    "ds.sort_values(by=['datetime'], inplace=True)"
   ]
  },
  {
   "cell_type": "code",
   "execution_count": 76,
   "metadata": {},
   "outputs": [],
   "source": [
    "date = ds.datetime.values"
   ]
  },
  {
   "cell_type": "code",
   "execution_count": 77,
   "metadata": {},
   "outputs": [
    {
     "data": {
      "text/plain": [
       "array(['2020-06-29 09:38:00', '2020-06-29 09:41:00',\n",
       "       '2020-06-29 09:41:00', ..., '2021-01-22 14:29:00',\n",
       "       '2021-01-22 14:29:00', '2021-01-22 14:29:00'], dtype=object)"
      ]
     },
     "execution_count": 77,
     "metadata": {},
     "output_type": "execute_result"
    }
   ],
   "source": [
    "date"
   ]
  },
  {
   "cell_type": "markdown",
   "metadata": {},
   "source": [
    "### ------- add columns \"day of week\" -----------------"
   ]
  },
  {
   "cell_type": "code",
   "execution_count": 78,
   "metadata": {},
   "outputs": [],
   "source": [
    "import datetime\n",
    "import calendar"
   ]
  },
  {
   "cell_type": "code",
   "execution_count": 79,
   "metadata": {},
   "outputs": [],
   "source": [
    "def split_to_columns_date(data):\n",
    "    \n",
    "    year_month_day = [d.split()[0] for d in data]\n",
    "    d_time = [d.split()[1] for d in data]\n",
    "    \n",
    "    year = []\n",
    "    month = []\n",
    "    day = []\n",
    "    hour = []\n",
    "    minutes = []\n",
    "    weekday = []\n",
    "    \n",
    "    year = [int(d.split('-')[0]) for d in year_month_day]\n",
    "    month = [int(d.split('-')[1]) for d in year_month_day]\n",
    "    day = [int(d.split('-')[2]) for d in year_month_day]\n",
    "    hour = [int(d.split(':')[0]) for d in d_time]\n",
    "    minutes = [int(d.split(':')[1]) for d in d_time]    \n",
    "    weekday = [datetime.datetime(d[0], d[1], d[2]).weekday() for d in zip(year, month, day)]    \n",
    "            \n",
    "    df_date = pd.DataFrame({'year': year, 'month': month, 'day': day, 'hour': hour, \n",
    "                            'minutes': minutes, 'weekday': weekday})\n",
    "    \n",
    "    return df_date"
   ]
  },
  {
   "cell_type": "code",
   "execution_count": 80,
   "metadata": {},
   "outputs": [],
   "source": [
    "df_date = split_to_columns_date(date)"
   ]
  },
  {
   "cell_type": "code",
   "execution_count": 81,
   "metadata": {},
   "outputs": [
    {
     "data": {
      "text/plain": [
       "((258729, 6), (258729, 23))"
      ]
     },
     "execution_count": 81,
     "metadata": {},
     "output_type": "execute_result"
    }
   ],
   "source": [
    "df_date.shape, ds.shape"
   ]
  },
  {
   "cell_type": "code",
   "execution_count": 82,
   "metadata": {},
   "outputs": [
    {
     "data": {
      "text/html": [
       "<div>\n",
       "<style scoped>\n",
       "    .dataframe tbody tr th:only-of-type {\n",
       "        vertical-align: middle;\n",
       "    }\n",
       "\n",
       "    .dataframe tbody tr th {\n",
       "        vertical-align: top;\n",
       "    }\n",
       "\n",
       "    .dataframe thead th {\n",
       "        text-align: right;\n",
       "    }\n",
       "</style>\n",
       "<table border=\"1\" class=\"dataframe\">\n",
       "  <thead>\n",
       "    <tr style=\"text-align: right;\">\n",
       "      <th></th>\n",
       "      <th>year</th>\n",
       "      <th>month</th>\n",
       "      <th>day</th>\n",
       "      <th>hour</th>\n",
       "      <th>minutes</th>\n",
       "      <th>weekday</th>\n",
       "    </tr>\n",
       "  </thead>\n",
       "  <tbody>\n",
       "    <tr>\n",
       "      <th>0</th>\n",
       "      <td>2020</td>\n",
       "      <td>6</td>\n",
       "      <td>29</td>\n",
       "      <td>9</td>\n",
       "      <td>38</td>\n",
       "      <td>0</td>\n",
       "    </tr>\n",
       "    <tr>\n",
       "      <th>1</th>\n",
       "      <td>2020</td>\n",
       "      <td>6</td>\n",
       "      <td>29</td>\n",
       "      <td>9</td>\n",
       "      <td>41</td>\n",
       "      <td>0</td>\n",
       "    </tr>\n",
       "    <tr>\n",
       "      <th>2</th>\n",
       "      <td>2020</td>\n",
       "      <td>6</td>\n",
       "      <td>29</td>\n",
       "      <td>9</td>\n",
       "      <td>41</td>\n",
       "      <td>0</td>\n",
       "    </tr>\n",
       "    <tr>\n",
       "      <th>3</th>\n",
       "      <td>2020</td>\n",
       "      <td>6</td>\n",
       "      <td>29</td>\n",
       "      <td>9</td>\n",
       "      <td>42</td>\n",
       "      <td>0</td>\n",
       "    </tr>\n",
       "    <tr>\n",
       "      <th>4</th>\n",
       "      <td>2020</td>\n",
       "      <td>6</td>\n",
       "      <td>29</td>\n",
       "      <td>9</td>\n",
       "      <td>42</td>\n",
       "      <td>0</td>\n",
       "    </tr>\n",
       "    <tr>\n",
       "      <th>...</th>\n",
       "      <td>...</td>\n",
       "      <td>...</td>\n",
       "      <td>...</td>\n",
       "      <td>...</td>\n",
       "      <td>...</td>\n",
       "      <td>...</td>\n",
       "    </tr>\n",
       "    <tr>\n",
       "      <th>258724</th>\n",
       "      <td>2021</td>\n",
       "      <td>1</td>\n",
       "      <td>22</td>\n",
       "      <td>14</td>\n",
       "      <td>29</td>\n",
       "      <td>4</td>\n",
       "    </tr>\n",
       "    <tr>\n",
       "      <th>258725</th>\n",
       "      <td>2021</td>\n",
       "      <td>1</td>\n",
       "      <td>22</td>\n",
       "      <td>14</td>\n",
       "      <td>29</td>\n",
       "      <td>4</td>\n",
       "    </tr>\n",
       "    <tr>\n",
       "      <th>258726</th>\n",
       "      <td>2021</td>\n",
       "      <td>1</td>\n",
       "      <td>22</td>\n",
       "      <td>14</td>\n",
       "      <td>29</td>\n",
       "      <td>4</td>\n",
       "    </tr>\n",
       "    <tr>\n",
       "      <th>258727</th>\n",
       "      <td>2021</td>\n",
       "      <td>1</td>\n",
       "      <td>22</td>\n",
       "      <td>14</td>\n",
       "      <td>29</td>\n",
       "      <td>4</td>\n",
       "    </tr>\n",
       "    <tr>\n",
       "      <th>258728</th>\n",
       "      <td>2021</td>\n",
       "      <td>1</td>\n",
       "      <td>22</td>\n",
       "      <td>14</td>\n",
       "      <td>29</td>\n",
       "      <td>4</td>\n",
       "    </tr>\n",
       "  </tbody>\n",
       "</table>\n",
       "<p>258729 rows × 6 columns</p>\n",
       "</div>"
      ],
      "text/plain": [
       "        year  month  day  hour  minutes  weekday\n",
       "0       2020      6   29     9       38        0\n",
       "1       2020      6   29     9       41        0\n",
       "2       2020      6   29     9       41        0\n",
       "3       2020      6   29     9       42        0\n",
       "4       2020      6   29     9       42        0\n",
       "...      ...    ...  ...   ...      ...      ...\n",
       "258724  2021      1   22    14       29        4\n",
       "258725  2021      1   22    14       29        4\n",
       "258726  2021      1   22    14       29        4\n",
       "258727  2021      1   22    14       29        4\n",
       "258728  2021      1   22    14       29        4\n",
       "\n",
       "[258729 rows x 6 columns]"
      ]
     },
     "execution_count": 82,
     "metadata": {},
     "output_type": "execute_result"
    }
   ],
   "source": [
    "df_date"
   ]
  },
  {
   "cell_type": "code",
   "execution_count": 83,
   "metadata": {},
   "outputs": [],
   "source": [
    "df_1 = pd.concat([df_date, ds.drop(['datetime', 'sym'], axis=1)], axis=1)"
   ]
  },
  {
   "cell_type": "code",
   "execution_count": 84,
   "metadata": {},
   "outputs": [
    {
     "data": {
      "text/html": [
       "<div>\n",
       "<style scoped>\n",
       "    .dataframe tbody tr th:only-of-type {\n",
       "        vertical-align: middle;\n",
       "    }\n",
       "\n",
       "    .dataframe tbody tr th {\n",
       "        vertical-align: top;\n",
       "    }\n",
       "\n",
       "    .dataframe thead th {\n",
       "        text-align: right;\n",
       "    }\n",
       "</style>\n",
       "<table border=\"1\" class=\"dataframe\">\n",
       "  <thead>\n",
       "    <tr style=\"text-align: right;\">\n",
       "      <th></th>\n",
       "      <th>year</th>\n",
       "      <th>month</th>\n",
       "      <th>day</th>\n",
       "      <th>hour</th>\n",
       "      <th>minutes</th>\n",
       "      <th>weekday</th>\n",
       "      <th>is_profit</th>\n",
       "      <th>rsi14</th>\n",
       "      <th>sma9_var</th>\n",
       "      <th>sma180_var</th>\n",
       "      <th>...</th>\n",
       "      <th>prev2_candle_score</th>\n",
       "      <th>prev3_candle_score</th>\n",
       "      <th>mins_from_start</th>\n",
       "      <th>valley_interval_mins</th>\n",
       "      <th>valley_close_score</th>\n",
       "      <th>valley_rsi_score</th>\n",
       "      <th>day_open_var</th>\n",
       "      <th>open_from_prev_close_var</th>\n",
       "      <th>ceil_var</th>\n",
       "      <th>floor_var</th>\n",
       "    </tr>\n",
       "  </thead>\n",
       "  <tbody>\n",
       "    <tr>\n",
       "      <th>0</th>\n",
       "      <td>2020</td>\n",
       "      <td>6</td>\n",
       "      <td>29</td>\n",
       "      <td>9</td>\n",
       "      <td>38</td>\n",
       "      <td>0</td>\n",
       "      <td>True</td>\n",
       "      <td>30.509761</td>\n",
       "      <td>-0.006223</td>\n",
       "      <td>-0.022679</td>\n",
       "      <td>...</td>\n",
       "      <td>0.000000</td>\n",
       "      <td>0.000000</td>\n",
       "      <td>103.0</td>\n",
       "      <td>50.0</td>\n",
       "      <td>0.425532</td>\n",
       "      <td>0.758046</td>\n",
       "      <td>-0.032058</td>\n",
       "      <td>-0.005144</td>\n",
       "      <td>-0.034554</td>\n",
       "      <td>0.000802</td>\n",
       "    </tr>\n",
       "    <tr>\n",
       "      <th>1</th>\n",
       "      <td>2020</td>\n",
       "      <td>6</td>\n",
       "      <td>29</td>\n",
       "      <td>9</td>\n",
       "      <td>41</td>\n",
       "      <td>0</td>\n",
       "      <td>True</td>\n",
       "      <td>46.452741</td>\n",
       "      <td>-0.001062</td>\n",
       "      <td>-0.004721</td>\n",
       "      <td>...</td>\n",
       "      <td>0.001062</td>\n",
       "      <td>0.000504</td>\n",
       "      <td>265.0</td>\n",
       "      <td>67.0</td>\n",
       "      <td>0.633584</td>\n",
       "      <td>10.958588</td>\n",
       "      <td>-0.026887</td>\n",
       "      <td>-0.005144</td>\n",
       "      <td>-0.029397</td>\n",
       "      <td>0.006148</td>\n",
       "    </tr>\n",
       "    <tr>\n",
       "      <th>2</th>\n",
       "      <td>2020</td>\n",
       "      <td>6</td>\n",
       "      <td>29</td>\n",
       "      <td>9</td>\n",
       "      <td>41</td>\n",
       "      <td>0</td>\n",
       "      <td>True</td>\n",
       "      <td>34.336224</td>\n",
       "      <td>-0.004443</td>\n",
       "      <td>-0.016648</td>\n",
       "      <td>...</td>\n",
       "      <td>-0.001020</td>\n",
       "      <td>0.000000</td>\n",
       "      <td>278.0</td>\n",
       "      <td>13.0</td>\n",
       "      <td>0.306356</td>\n",
       "      <td>2.964667</td>\n",
       "      <td>-0.003935</td>\n",
       "      <td>0.015391</td>\n",
       "      <td>-0.030638</td>\n",
       "      <td>0.000000</td>\n",
       "    </tr>\n",
       "    <tr>\n",
       "      <th>3</th>\n",
       "      <td>2020</td>\n",
       "      <td>6</td>\n",
       "      <td>29</td>\n",
       "      <td>9</td>\n",
       "      <td>42</td>\n",
       "      <td>0</td>\n",
       "      <td>False</td>\n",
       "      <td>36.584676</td>\n",
       "      <td>-0.001006</td>\n",
       "      <td>0.005697</td>\n",
       "      <td>...</td>\n",
       "      <td>-0.000210</td>\n",
       "      <td>0.000000</td>\n",
       "      <td>110.0</td>\n",
       "      <td>8.0</td>\n",
       "      <td>0.042142</td>\n",
       "      <td>2.599359</td>\n",
       "      <td>0.003596</td>\n",
       "      <td>0.013725</td>\n",
       "      <td>-0.014746</td>\n",
       "      <td>0.003596</td>\n",
       "    </tr>\n",
       "    <tr>\n",
       "      <th>4</th>\n",
       "      <td>2020</td>\n",
       "      <td>6</td>\n",
       "      <td>29</td>\n",
       "      <td>9</td>\n",
       "      <td>42</td>\n",
       "      <td>0</td>\n",
       "      <td>True</td>\n",
       "      <td>29.113480</td>\n",
       "      <td>-0.000950</td>\n",
       "      <td>0.002626</td>\n",
       "      <td>...</td>\n",
       "      <td>-0.000012</td>\n",
       "      <td>0.000000</td>\n",
       "      <td>229.0</td>\n",
       "      <td>29.0</td>\n",
       "      <td>0.224383</td>\n",
       "      <td>0.091923</td>\n",
       "      <td>0.008738</td>\n",
       "      <td>0.010651</td>\n",
       "      <td>-0.016754</td>\n",
       "      <td>0.011470</td>\n",
       "    </tr>\n",
       "    <tr>\n",
       "      <th>...</th>\n",
       "      <td>...</td>\n",
       "      <td>...</td>\n",
       "      <td>...</td>\n",
       "      <td>...</td>\n",
       "      <td>...</td>\n",
       "      <td>...</td>\n",
       "      <td>...</td>\n",
       "      <td>...</td>\n",
       "      <td>...</td>\n",
       "      <td>...</td>\n",
       "      <td>...</td>\n",
       "      <td>...</td>\n",
       "      <td>...</td>\n",
       "      <td>...</td>\n",
       "      <td>...</td>\n",
       "      <td>...</td>\n",
       "      <td>...</td>\n",
       "      <td>...</td>\n",
       "      <td>...</td>\n",
       "      <td>...</td>\n",
       "      <td>...</td>\n",
       "    </tr>\n",
       "    <tr>\n",
       "      <th>258724</th>\n",
       "      <td>2021</td>\n",
       "      <td>1</td>\n",
       "      <td>22</td>\n",
       "      <td>14</td>\n",
       "      <td>29</td>\n",
       "      <td>4</td>\n",
       "      <td>False</td>\n",
       "      <td>32.602899</td>\n",
       "      <td>-0.002293</td>\n",
       "      <td>-0.033872</td>\n",
       "      <td>...</td>\n",
       "      <td>0.000000</td>\n",
       "      <td>-0.000590</td>\n",
       "      <td>85.0</td>\n",
       "      <td>19.0</td>\n",
       "      <td>0.118066</td>\n",
       "      <td>7.540690</td>\n",
       "      <td>-0.021400</td>\n",
       "      <td>-0.008601</td>\n",
       "      <td>-0.030373</td>\n",
       "      <td>0.000000</td>\n",
       "    </tr>\n",
       "    <tr>\n",
       "      <th>258725</th>\n",
       "      <td>2021</td>\n",
       "      <td>1</td>\n",
       "      <td>22</td>\n",
       "      <td>14</td>\n",
       "      <td>29</td>\n",
       "      <td>4</td>\n",
       "      <td>False</td>\n",
       "      <td>37.355860</td>\n",
       "      <td>-0.002370</td>\n",
       "      <td>-0.021928</td>\n",
       "      <td>...</td>\n",
       "      <td>0.001488</td>\n",
       "      <td>0.000209</td>\n",
       "      <td>247.0</td>\n",
       "      <td>46.0</td>\n",
       "      <td>0.563293</td>\n",
       "      <td>10.917935</td>\n",
       "      <td>-0.030075</td>\n",
       "      <td>-0.008601</td>\n",
       "      <td>-0.038968</td>\n",
       "      <td>0.000000</td>\n",
       "    </tr>\n",
       "    <tr>\n",
       "      <th>258726</th>\n",
       "      <td>2021</td>\n",
       "      <td>1</td>\n",
       "      <td>22</td>\n",
       "      <td>14</td>\n",
       "      <td>29</td>\n",
       "      <td>4</td>\n",
       "      <td>True</td>\n",
       "      <td>41.550637</td>\n",
       "      <td>-0.001991</td>\n",
       "      <td>-0.014774</td>\n",
       "      <td>...</td>\n",
       "      <td>0.000000</td>\n",
       "      <td>0.003775</td>\n",
       "      <td>285.0</td>\n",
       "      <td>20.0</td>\n",
       "      <td>0.077993</td>\n",
       "      <td>1.535276</td>\n",
       "      <td>0.070815</td>\n",
       "      <td>-0.012065</td>\n",
       "      <td>-0.037562</td>\n",
       "      <td>0.070815</td>\n",
       "    </tr>\n",
       "    <tr>\n",
       "      <th>258727</th>\n",
       "      <td>2021</td>\n",
       "      <td>1</td>\n",
       "      <td>22</td>\n",
       "      <td>14</td>\n",
       "      <td>29</td>\n",
       "      <td>4</td>\n",
       "      <td>False</td>\n",
       "      <td>35.433061</td>\n",
       "      <td>-0.005427</td>\n",
       "      <td>-0.012600</td>\n",
       "      <td>...</td>\n",
       "      <td>-0.001341</td>\n",
       "      <td>0.002687</td>\n",
       "      <td>146.0</td>\n",
       "      <td>12.0</td>\n",
       "      <td>0.235696</td>\n",
       "      <td>4.331218</td>\n",
       "      <td>0.003386</td>\n",
       "      <td>0.001356</td>\n",
       "      <td>-0.033909</td>\n",
       "      <td>0.003386</td>\n",
       "    </tr>\n",
       "    <tr>\n",
       "      <th>258728</th>\n",
       "      <td>2021</td>\n",
       "      <td>1</td>\n",
       "      <td>22</td>\n",
       "      <td>14</td>\n",
       "      <td>29</td>\n",
       "      <td>4</td>\n",
       "      <td>True</td>\n",
       "      <td>37.648564</td>\n",
       "      <td>-0.004007</td>\n",
       "      <td>-0.016134</td>\n",
       "      <td>...</td>\n",
       "      <td>-0.001509</td>\n",
       "      <td>-0.000506</td>\n",
       "      <td>216.0</td>\n",
       "      <td>9.0</td>\n",
       "      <td>0.002033</td>\n",
       "      <td>10.013797</td>\n",
       "      <td>0.000677</td>\n",
       "      <td>0.001356</td>\n",
       "      <td>-0.036518</td>\n",
       "      <td>0.000677</td>\n",
       "    </tr>\n",
       "  </tbody>\n",
       "</table>\n",
       "<p>258729 rows × 27 columns</p>\n",
       "</div>"
      ],
      "text/plain": [
       "        year  month  day  hour  minutes  weekday  is_profit      rsi14  \\\n",
       "0       2020      6   29     9       38        0       True  30.509761   \n",
       "1       2020      6   29     9       41        0       True  46.452741   \n",
       "2       2020      6   29     9       41        0       True  34.336224   \n",
       "3       2020      6   29     9       42        0      False  36.584676   \n",
       "4       2020      6   29     9       42        0       True  29.113480   \n",
       "...      ...    ...  ...   ...      ...      ...        ...        ...   \n",
       "258724  2021      1   22    14       29        4      False  32.602899   \n",
       "258725  2021      1   22    14       29        4      False  37.355860   \n",
       "258726  2021      1   22    14       29        4       True  41.550637   \n",
       "258727  2021      1   22    14       29        4      False  35.433061   \n",
       "258728  2021      1   22    14       29        4       True  37.648564   \n",
       "\n",
       "        sma9_var  sma180_var  ...  prev2_candle_score  prev3_candle_score  \\\n",
       "0      -0.006223   -0.022679  ...            0.000000            0.000000   \n",
       "1      -0.001062   -0.004721  ...            0.001062            0.000504   \n",
       "2      -0.004443   -0.016648  ...           -0.001020            0.000000   \n",
       "3      -0.001006    0.005697  ...           -0.000210            0.000000   \n",
       "4      -0.000950    0.002626  ...           -0.000012            0.000000   \n",
       "...          ...         ...  ...                 ...                 ...   \n",
       "258724 -0.002293   -0.033872  ...            0.000000           -0.000590   \n",
       "258725 -0.002370   -0.021928  ...            0.001488            0.000209   \n",
       "258726 -0.001991   -0.014774  ...            0.000000            0.003775   \n",
       "258727 -0.005427   -0.012600  ...           -0.001341            0.002687   \n",
       "258728 -0.004007   -0.016134  ...           -0.001509           -0.000506   \n",
       "\n",
       "        mins_from_start  valley_interval_mins  valley_close_score  \\\n",
       "0                 103.0                  50.0            0.425532   \n",
       "1                 265.0                  67.0            0.633584   \n",
       "2                 278.0                  13.0            0.306356   \n",
       "3                 110.0                   8.0            0.042142   \n",
       "4                 229.0                  29.0            0.224383   \n",
       "...                 ...                   ...                 ...   \n",
       "258724             85.0                  19.0            0.118066   \n",
       "258725            247.0                  46.0            0.563293   \n",
       "258726            285.0                  20.0            0.077993   \n",
       "258727            146.0                  12.0            0.235696   \n",
       "258728            216.0                   9.0            0.002033   \n",
       "\n",
       "        valley_rsi_score  day_open_var  open_from_prev_close_var  ceil_var  \\\n",
       "0               0.758046     -0.032058                 -0.005144 -0.034554   \n",
       "1              10.958588     -0.026887                 -0.005144 -0.029397   \n",
       "2               2.964667     -0.003935                  0.015391 -0.030638   \n",
       "3               2.599359      0.003596                  0.013725 -0.014746   \n",
       "4               0.091923      0.008738                  0.010651 -0.016754   \n",
       "...                  ...           ...                       ...       ...   \n",
       "258724          7.540690     -0.021400                 -0.008601 -0.030373   \n",
       "258725         10.917935     -0.030075                 -0.008601 -0.038968   \n",
       "258726          1.535276      0.070815                 -0.012065 -0.037562   \n",
       "258727          4.331218      0.003386                  0.001356 -0.033909   \n",
       "258728         10.013797      0.000677                  0.001356 -0.036518   \n",
       "\n",
       "        floor_var  \n",
       "0        0.000802  \n",
       "1        0.006148  \n",
       "2        0.000000  \n",
       "3        0.003596  \n",
       "4        0.011470  \n",
       "...           ...  \n",
       "258724   0.000000  \n",
       "258725   0.000000  \n",
       "258726   0.070815  \n",
       "258727   0.003386  \n",
       "258728   0.000677  \n",
       "\n",
       "[258729 rows x 27 columns]"
      ]
     },
     "execution_count": 84,
     "metadata": {},
     "output_type": "execute_result"
    }
   ],
   "source": [
    "df_1"
   ]
  },
  {
   "cell_type": "code",
   "execution_count": 85,
   "metadata": {},
   "outputs": [],
   "source": [
    "target = ds.is_profit"
   ]
  },
  {
   "cell_type": "markdown",
   "metadata": {},
   "source": [
    "### -------------- encoding categorical --------------------"
   ]
  },
  {
   "cell_type": "code",
   "execution_count": 86,
   "metadata": {},
   "outputs": [],
   "source": [
    "from pandas import get_dummies"
   ]
  },
  {
   "cell_type": "code",
   "execution_count": 87,
   "metadata": {},
   "outputs": [
    {
     "data": {
      "text/plain": [
       "Index(['rsi14', 'sma9_var', 'sma180_var', 'vwap_var', 'spread14_e',\n",
       "       'volume14_34_var', 'prev_close_var', 'prev_floor_var', 'prev_ceil_var',\n",
       "       'prev1_candle_score', 'prev2_candle_score', 'prev3_candle_score',\n",
       "       'mins_from_start', 'valley_interval_mins', 'valley_close_score',\n",
       "       'valley_rsi_score', 'day_open_var', 'open_from_prev_close_var',\n",
       "       'ceil_var', 'floor_var'],\n",
       "      dtype='object')"
      ]
     },
     "execution_count": 87,
     "metadata": {},
     "output_type": "execute_result"
    }
   ],
   "source": [
    "columns_numeric = df_1.columns[7:]\n",
    "columns_numeric"
   ]
  },
  {
   "cell_type": "code",
   "execution_count": 88,
   "metadata": {},
   "outputs": [
    {
     "data": {
      "text/plain": [
       "['year', 'month', 'day', 'hour', 'minutes', 'weekday', 'is_profit']"
      ]
     },
     "execution_count": 88,
     "metadata": {},
     "output_type": "execute_result"
    }
   ],
   "source": [
    "columns_categorical = [col for col in df_1.columns if col not in columns_numeric]\n",
    "columns_categorical"
   ]
  },
  {
   "cell_type": "code",
   "execution_count": 89,
   "metadata": {},
   "outputs": [],
   "source": [
    "df_to_model = df_1.copy(deep=True)\n",
    "df_to_model.drop(['year', 'month', 'day', 'hour', 'minutes'], axis=1, inplace=True)"
   ]
  },
  {
   "cell_type": "code",
   "execution_count": 90,
   "metadata": {},
   "outputs": [
    {
     "data": {
      "text/html": [
       "<div>\n",
       "<style scoped>\n",
       "    .dataframe tbody tr th:only-of-type {\n",
       "        vertical-align: middle;\n",
       "    }\n",
       "\n",
       "    .dataframe tbody tr th {\n",
       "        vertical-align: top;\n",
       "    }\n",
       "\n",
       "    .dataframe thead th {\n",
       "        text-align: right;\n",
       "    }\n",
       "</style>\n",
       "<table border=\"1\" class=\"dataframe\">\n",
       "  <thead>\n",
       "    <tr style=\"text-align: right;\">\n",
       "      <th></th>\n",
       "      <th>weekday</th>\n",
       "      <th>is_profit</th>\n",
       "      <th>rsi14</th>\n",
       "      <th>sma9_var</th>\n",
       "      <th>sma180_var</th>\n",
       "      <th>vwap_var</th>\n",
       "      <th>spread14_e</th>\n",
       "      <th>volume14_34_var</th>\n",
       "      <th>prev_close_var</th>\n",
       "      <th>prev_floor_var</th>\n",
       "      <th>...</th>\n",
       "      <th>prev2_candle_score</th>\n",
       "      <th>prev3_candle_score</th>\n",
       "      <th>mins_from_start</th>\n",
       "      <th>valley_interval_mins</th>\n",
       "      <th>valley_close_score</th>\n",
       "      <th>valley_rsi_score</th>\n",
       "      <th>day_open_var</th>\n",
       "      <th>open_from_prev_close_var</th>\n",
       "      <th>ceil_var</th>\n",
       "      <th>floor_var</th>\n",
       "    </tr>\n",
       "  </thead>\n",
       "  <tbody>\n",
       "    <tr>\n",
       "      <th>0</th>\n",
       "      <td>0</td>\n",
       "      <td>True</td>\n",
       "      <td>30.509761</td>\n",
       "      <td>-0.006223</td>\n",
       "      <td>-0.022679</td>\n",
       "      <td>-0.017526</td>\n",
       "      <td>0.000620</td>\n",
       "      <td>-0.006472</td>\n",
       "      <td>-0.037037</td>\n",
       "      <td>-0.012658</td>\n",
       "      <td>...</td>\n",
       "      <td>0.000000</td>\n",
       "      <td>0.000000</td>\n",
       "      <td>103.0</td>\n",
       "      <td>50.0</td>\n",
       "      <td>0.425532</td>\n",
       "      <td>0.758046</td>\n",
       "      <td>-0.032058</td>\n",
       "      <td>-0.005144</td>\n",
       "      <td>-0.034554</td>\n",
       "      <td>0.000802</td>\n",
       "    </tr>\n",
       "    <tr>\n",
       "      <th>1</th>\n",
       "      <td>0</td>\n",
       "      <td>True</td>\n",
       "      <td>46.452741</td>\n",
       "      <td>-0.001062</td>\n",
       "      <td>-0.004721</td>\n",
       "      <td>-0.007713</td>\n",
       "      <td>0.000695</td>\n",
       "      <td>0.280249</td>\n",
       "      <td>-0.031893</td>\n",
       "      <td>-0.007384</td>\n",
       "      <td>...</td>\n",
       "      <td>0.001062</td>\n",
       "      <td>0.000504</td>\n",
       "      <td>265.0</td>\n",
       "      <td>67.0</td>\n",
       "      <td>0.633584</td>\n",
       "      <td>10.958588</td>\n",
       "      <td>-0.026887</td>\n",
       "      <td>-0.005144</td>\n",
       "      <td>-0.029397</td>\n",
       "      <td>0.006148</td>\n",
       "    </tr>\n",
       "    <tr>\n",
       "      <th>2</th>\n",
       "      <td>0</td>\n",
       "      <td>True</td>\n",
       "      <td>34.336224</td>\n",
       "      <td>-0.004443</td>\n",
       "      <td>-0.016648</td>\n",
       "      <td>-0.016589</td>\n",
       "      <td>0.000518</td>\n",
       "      <td>0.284800</td>\n",
       "      <td>0.011396</td>\n",
       "      <td>0.023360</td>\n",
       "      <td>...</td>\n",
       "      <td>-0.001020</td>\n",
       "      <td>0.000000</td>\n",
       "      <td>278.0</td>\n",
       "      <td>13.0</td>\n",
       "      <td>0.306356</td>\n",
       "      <td>2.964667</td>\n",
       "      <td>-0.003935</td>\n",
       "      <td>0.015391</td>\n",
       "      <td>-0.030638</td>\n",
       "      <td>0.000000</td>\n",
       "    </tr>\n",
       "  </tbody>\n",
       "</table>\n",
       "<p>3 rows × 22 columns</p>\n",
       "</div>"
      ],
      "text/plain": [
       "   weekday  is_profit      rsi14  sma9_var  sma180_var  vwap_var  spread14_e  \\\n",
       "0        0       True  30.509761 -0.006223   -0.022679 -0.017526    0.000620   \n",
       "1        0       True  46.452741 -0.001062   -0.004721 -0.007713    0.000695   \n",
       "2        0       True  34.336224 -0.004443   -0.016648 -0.016589    0.000518   \n",
       "\n",
       "   volume14_34_var  prev_close_var  prev_floor_var  ...  prev2_candle_score  \\\n",
       "0        -0.006472       -0.037037       -0.012658  ...            0.000000   \n",
       "1         0.280249       -0.031893       -0.007384  ...            0.001062   \n",
       "2         0.284800        0.011396        0.023360  ...           -0.001020   \n",
       "\n",
       "   prev3_candle_score  mins_from_start  valley_interval_mins  \\\n",
       "0            0.000000            103.0                  50.0   \n",
       "1            0.000504            265.0                  67.0   \n",
       "2            0.000000            278.0                  13.0   \n",
       "\n",
       "   valley_close_score  valley_rsi_score  day_open_var  \\\n",
       "0            0.425532          0.758046     -0.032058   \n",
       "1            0.633584         10.958588     -0.026887   \n",
       "2            0.306356          2.964667     -0.003935   \n",
       "\n",
       "   open_from_prev_close_var  ceil_var  floor_var  \n",
       "0                 -0.005144 -0.034554   0.000802  \n",
       "1                 -0.005144 -0.029397   0.006148  \n",
       "2                  0.015391 -0.030638   0.000000  \n",
       "\n",
       "[3 rows x 22 columns]"
      ]
     },
     "execution_count": 90,
     "metadata": {},
     "output_type": "execute_result"
    }
   ],
   "source": [
    "df_to_model.head(3)"
   ]
  },
  {
   "cell_type": "code",
   "execution_count": 91,
   "metadata": {},
   "outputs": [],
   "source": [
    "df_to_model = pd.get_dummies(data=df_to_model, columns=['weekday'], drop_first=True)"
   ]
  },
  {
   "cell_type": "code",
   "execution_count": 92,
   "metadata": {},
   "outputs": [
    {
     "data": {
      "text/html": [
       "<div>\n",
       "<style scoped>\n",
       "    .dataframe tbody tr th:only-of-type {\n",
       "        vertical-align: middle;\n",
       "    }\n",
       "\n",
       "    .dataframe tbody tr th {\n",
       "        vertical-align: top;\n",
       "    }\n",
       "\n",
       "    .dataframe thead th {\n",
       "        text-align: right;\n",
       "    }\n",
       "</style>\n",
       "<table border=\"1\" class=\"dataframe\">\n",
       "  <thead>\n",
       "    <tr style=\"text-align: right;\">\n",
       "      <th></th>\n",
       "      <th>is_profit</th>\n",
       "      <th>rsi14</th>\n",
       "      <th>sma9_var</th>\n",
       "      <th>sma180_var</th>\n",
       "      <th>vwap_var</th>\n",
       "      <th>spread14_e</th>\n",
       "      <th>volume14_34_var</th>\n",
       "      <th>prev_close_var</th>\n",
       "      <th>prev_floor_var</th>\n",
       "      <th>prev_ceil_var</th>\n",
       "      <th>...</th>\n",
       "      <th>valley_close_score</th>\n",
       "      <th>valley_rsi_score</th>\n",
       "      <th>day_open_var</th>\n",
       "      <th>open_from_prev_close_var</th>\n",
       "      <th>ceil_var</th>\n",
       "      <th>floor_var</th>\n",
       "      <th>weekday_1</th>\n",
       "      <th>weekday_2</th>\n",
       "      <th>weekday_3</th>\n",
       "      <th>weekday_4</th>\n",
       "    </tr>\n",
       "  </thead>\n",
       "  <tbody>\n",
       "    <tr>\n",
       "      <th>0</th>\n",
       "      <td>True</td>\n",
       "      <td>30.509761</td>\n",
       "      <td>-0.006223</td>\n",
       "      <td>-0.022679</td>\n",
       "      <td>-0.017526</td>\n",
       "      <td>0.000620</td>\n",
       "      <td>-0.006472</td>\n",
       "      <td>-0.037037</td>\n",
       "      <td>-0.012658</td>\n",
       "      <td>-0.047328</td>\n",
       "      <td>...</td>\n",
       "      <td>0.425532</td>\n",
       "      <td>0.758046</td>\n",
       "      <td>-0.032058</td>\n",
       "      <td>-0.005144</td>\n",
       "      <td>-0.034554</td>\n",
       "      <td>0.000802</td>\n",
       "      <td>0</td>\n",
       "      <td>0</td>\n",
       "      <td>0</td>\n",
       "      <td>0</td>\n",
       "    </tr>\n",
       "    <tr>\n",
       "      <th>1</th>\n",
       "      <td>True</td>\n",
       "      <td>46.452741</td>\n",
       "      <td>-0.001062</td>\n",
       "      <td>-0.004721</td>\n",
       "      <td>-0.007713</td>\n",
       "      <td>0.000695</td>\n",
       "      <td>0.280249</td>\n",
       "      <td>-0.031893</td>\n",
       "      <td>-0.007384</td>\n",
       "      <td>-0.042239</td>\n",
       "      <td>...</td>\n",
       "      <td>0.633584</td>\n",
       "      <td>10.958588</td>\n",
       "      <td>-0.026887</td>\n",
       "      <td>-0.005144</td>\n",
       "      <td>-0.029397</td>\n",
       "      <td>0.006148</td>\n",
       "      <td>0</td>\n",
       "      <td>0</td>\n",
       "      <td>0</td>\n",
       "      <td>0</td>\n",
       "    </tr>\n",
       "    <tr>\n",
       "      <th>2</th>\n",
       "      <td>True</td>\n",
       "      <td>34.336224</td>\n",
       "      <td>-0.004443</td>\n",
       "      <td>-0.016648</td>\n",
       "      <td>-0.016589</td>\n",
       "      <td>0.000518</td>\n",
       "      <td>0.284800</td>\n",
       "      <td>0.011396</td>\n",
       "      <td>0.023360</td>\n",
       "      <td>-0.014706</td>\n",
       "      <td>...</td>\n",
       "      <td>0.306356</td>\n",
       "      <td>2.964667</td>\n",
       "      <td>-0.003935</td>\n",
       "      <td>0.015391</td>\n",
       "      <td>-0.030638</td>\n",
       "      <td>0.000000</td>\n",
       "      <td>0</td>\n",
       "      <td>0</td>\n",
       "      <td>0</td>\n",
       "      <td>0</td>\n",
       "    </tr>\n",
       "    <tr>\n",
       "      <th>3</th>\n",
       "      <td>False</td>\n",
       "      <td>36.584676</td>\n",
       "      <td>-0.001006</td>\n",
       "      <td>0.005697</td>\n",
       "      <td>-0.004279</td>\n",
       "      <td>0.000327</td>\n",
       "      <td>-0.514448</td>\n",
       "      <td>0.017371</td>\n",
       "      <td>0.023517</td>\n",
       "      <td>0.001266</td>\n",
       "      <td>...</td>\n",
       "      <td>0.042142</td>\n",
       "      <td>2.599359</td>\n",
       "      <td>0.003596</td>\n",
       "      <td>0.013725</td>\n",
       "      <td>-0.014746</td>\n",
       "      <td>0.003596</td>\n",
       "      <td>0</td>\n",
       "      <td>0</td>\n",
       "      <td>0</td>\n",
       "      <td>0</td>\n",
       "    </tr>\n",
       "    <tr>\n",
       "      <th>4</th>\n",
       "      <td>True</td>\n",
       "      <td>29.113480</td>\n",
       "      <td>-0.000950</td>\n",
       "      <td>0.002626</td>\n",
       "      <td>-0.001767</td>\n",
       "      <td>0.000286</td>\n",
       "      <td>-0.033291</td>\n",
       "      <td>0.019482</td>\n",
       "      <td>0.035230</td>\n",
       "      <td>-0.001628</td>\n",
       "      <td>...</td>\n",
       "      <td>0.224383</td>\n",
       "      <td>0.091923</td>\n",
       "      <td>0.008738</td>\n",
       "      <td>0.010651</td>\n",
       "      <td>-0.016754</td>\n",
       "      <td>0.011470</td>\n",
       "      <td>0</td>\n",
       "      <td>0</td>\n",
       "      <td>0</td>\n",
       "      <td>0</td>\n",
       "    </tr>\n",
       "    <tr>\n",
       "      <th>...</th>\n",
       "      <td>...</td>\n",
       "      <td>...</td>\n",
       "      <td>...</td>\n",
       "      <td>...</td>\n",
       "      <td>...</td>\n",
       "      <td>...</td>\n",
       "      <td>...</td>\n",
       "      <td>...</td>\n",
       "      <td>...</td>\n",
       "      <td>...</td>\n",
       "      <td>...</td>\n",
       "      <td>...</td>\n",
       "      <td>...</td>\n",
       "      <td>...</td>\n",
       "      <td>...</td>\n",
       "      <td>...</td>\n",
       "      <td>...</td>\n",
       "      <td>...</td>\n",
       "      <td>...</td>\n",
       "      <td>...</td>\n",
       "      <td>...</td>\n",
       "    </tr>\n",
       "    <tr>\n",
       "      <th>258724</th>\n",
       "      <td>False</td>\n",
       "      <td>32.602899</td>\n",
       "      <td>-0.002293</td>\n",
       "      <td>-0.033872</td>\n",
       "      <td>-0.011582</td>\n",
       "      <td>0.001114</td>\n",
       "      <td>0.462271</td>\n",
       "      <td>-0.029817</td>\n",
       "      <td>-0.028145</td>\n",
       "      <td>-0.060000</td>\n",
       "      <td>...</td>\n",
       "      <td>0.118066</td>\n",
       "      <td>7.540690</td>\n",
       "      <td>-0.021400</td>\n",
       "      <td>-0.008601</td>\n",
       "      <td>-0.030373</td>\n",
       "      <td>0.000000</td>\n",
       "      <td>0</td>\n",
       "      <td>0</td>\n",
       "      <td>0</td>\n",
       "      <td>1</td>\n",
       "    </tr>\n",
       "    <tr>\n",
       "      <th>258725</th>\n",
       "      <td>False</td>\n",
       "      <td>37.355860</td>\n",
       "      <td>-0.002370</td>\n",
       "      <td>-0.021928</td>\n",
       "      <td>-0.015194</td>\n",
       "      <td>0.000470</td>\n",
       "      <td>-0.238875</td>\n",
       "      <td>-0.038417</td>\n",
       "      <td>-0.036760</td>\n",
       "      <td>-0.068333</td>\n",
       "      <td>...</td>\n",
       "      <td>0.563293</td>\n",
       "      <td>10.917935</td>\n",
       "      <td>-0.030075</td>\n",
       "      <td>-0.008601</td>\n",
       "      <td>-0.038968</td>\n",
       "      <td>0.000000</td>\n",
       "      <td>0</td>\n",
       "      <td>0</td>\n",
       "      <td>0</td>\n",
       "      <td>1</td>\n",
       "    </tr>\n",
       "    <tr>\n",
       "      <th>258726</th>\n",
       "      <td>True</td>\n",
       "      <td>41.550637</td>\n",
       "      <td>-0.001991</td>\n",
       "      <td>-0.014774</td>\n",
       "      <td>-0.003803</td>\n",
       "      <td>0.000993</td>\n",
       "      <td>-0.062510</td>\n",
       "      <td>0.057895</td>\n",
       "      <td>0.105147</td>\n",
       "      <td>0.050330</td>\n",
       "      <td>...</td>\n",
       "      <td>0.077993</td>\n",
       "      <td>1.535276</td>\n",
       "      <td>0.070815</td>\n",
       "      <td>-0.012065</td>\n",
       "      <td>-0.037562</td>\n",
       "      <td>0.070815</td>\n",
       "      <td>0</td>\n",
       "      <td>0</td>\n",
       "      <td>0</td>\n",
       "      <td>1</td>\n",
       "    </tr>\n",
       "    <tr>\n",
       "      <th>258727</th>\n",
       "      <td>False</td>\n",
       "      <td>35.433061</td>\n",
       "      <td>-0.005427</td>\n",
       "      <td>-0.012600</td>\n",
       "      <td>-0.015767</td>\n",
       "      <td>0.001918</td>\n",
       "      <td>0.046143</td>\n",
       "      <td>0.004747</td>\n",
       "      <td>0.015770</td>\n",
       "      <td>-0.095270</td>\n",
       "      <td>...</td>\n",
       "      <td>0.235696</td>\n",
       "      <td>4.331218</td>\n",
       "      <td>0.003386</td>\n",
       "      <td>0.001356</td>\n",
       "      <td>-0.033909</td>\n",
       "      <td>0.003386</td>\n",
       "      <td>0</td>\n",
       "      <td>0</td>\n",
       "      <td>0</td>\n",
       "      <td>1</td>\n",
       "    </tr>\n",
       "    <tr>\n",
       "      <th>258728</th>\n",
       "      <td>True</td>\n",
       "      <td>37.648564</td>\n",
       "      <td>-0.004007</td>\n",
       "      <td>-0.016134</td>\n",
       "      <td>-0.016528</td>\n",
       "      <td>0.002374</td>\n",
       "      <td>-0.000039</td>\n",
       "      <td>0.002035</td>\n",
       "      <td>0.013027</td>\n",
       "      <td>-0.097713</td>\n",
       "      <td>...</td>\n",
       "      <td>0.002033</td>\n",
       "      <td>10.013797</td>\n",
       "      <td>0.000677</td>\n",
       "      <td>0.001356</td>\n",
       "      <td>-0.036518</td>\n",
       "      <td>0.000677</td>\n",
       "      <td>0</td>\n",
       "      <td>0</td>\n",
       "      <td>0</td>\n",
       "      <td>1</td>\n",
       "    </tr>\n",
       "  </tbody>\n",
       "</table>\n",
       "<p>258729 rows × 25 columns</p>\n",
       "</div>"
      ],
      "text/plain": [
       "        is_profit      rsi14  sma9_var  sma180_var  vwap_var  spread14_e  \\\n",
       "0            True  30.509761 -0.006223   -0.022679 -0.017526    0.000620   \n",
       "1            True  46.452741 -0.001062   -0.004721 -0.007713    0.000695   \n",
       "2            True  34.336224 -0.004443   -0.016648 -0.016589    0.000518   \n",
       "3           False  36.584676 -0.001006    0.005697 -0.004279    0.000327   \n",
       "4            True  29.113480 -0.000950    0.002626 -0.001767    0.000286   \n",
       "...           ...        ...       ...         ...       ...         ...   \n",
       "258724      False  32.602899 -0.002293   -0.033872 -0.011582    0.001114   \n",
       "258725      False  37.355860 -0.002370   -0.021928 -0.015194    0.000470   \n",
       "258726       True  41.550637 -0.001991   -0.014774 -0.003803    0.000993   \n",
       "258727      False  35.433061 -0.005427   -0.012600 -0.015767    0.001918   \n",
       "258728       True  37.648564 -0.004007   -0.016134 -0.016528    0.002374   \n",
       "\n",
       "        volume14_34_var  prev_close_var  prev_floor_var  prev_ceil_var  ...  \\\n",
       "0             -0.006472       -0.037037       -0.012658      -0.047328  ...   \n",
       "1              0.280249       -0.031893       -0.007384      -0.042239  ...   \n",
       "2              0.284800        0.011396        0.023360      -0.014706  ...   \n",
       "3             -0.514448        0.017371        0.023517       0.001266  ...   \n",
       "4             -0.033291        0.019482        0.035230      -0.001628  ...   \n",
       "...                 ...             ...             ...            ...  ...   \n",
       "258724         0.462271       -0.029817       -0.028145      -0.060000  ...   \n",
       "258725        -0.238875       -0.038417       -0.036760      -0.068333  ...   \n",
       "258726        -0.062510        0.057895        0.105147       0.050330  ...   \n",
       "258727         0.046143        0.004747        0.015770      -0.095270  ...   \n",
       "258728        -0.000039        0.002035        0.013027      -0.097713  ...   \n",
       "\n",
       "        valley_close_score  valley_rsi_score  day_open_var  \\\n",
       "0                 0.425532          0.758046     -0.032058   \n",
       "1                 0.633584         10.958588     -0.026887   \n",
       "2                 0.306356          2.964667     -0.003935   \n",
       "3                 0.042142          2.599359      0.003596   \n",
       "4                 0.224383          0.091923      0.008738   \n",
       "...                    ...               ...           ...   \n",
       "258724            0.118066          7.540690     -0.021400   \n",
       "258725            0.563293         10.917935     -0.030075   \n",
       "258726            0.077993          1.535276      0.070815   \n",
       "258727            0.235696          4.331218      0.003386   \n",
       "258728            0.002033         10.013797      0.000677   \n",
       "\n",
       "        open_from_prev_close_var  ceil_var  floor_var  weekday_1  weekday_2  \\\n",
       "0                      -0.005144 -0.034554   0.000802          0          0   \n",
       "1                      -0.005144 -0.029397   0.006148          0          0   \n",
       "2                       0.015391 -0.030638   0.000000          0          0   \n",
       "3                       0.013725 -0.014746   0.003596          0          0   \n",
       "4                       0.010651 -0.016754   0.011470          0          0   \n",
       "...                          ...       ...        ...        ...        ...   \n",
       "258724                 -0.008601 -0.030373   0.000000          0          0   \n",
       "258725                 -0.008601 -0.038968   0.000000          0          0   \n",
       "258726                 -0.012065 -0.037562   0.070815          0          0   \n",
       "258727                  0.001356 -0.033909   0.003386          0          0   \n",
       "258728                  0.001356 -0.036518   0.000677          0          0   \n",
       "\n",
       "        weekday_3  weekday_4  \n",
       "0               0          0  \n",
       "1               0          0  \n",
       "2               0          0  \n",
       "3               0          0  \n",
       "4               0          0  \n",
       "...           ...        ...  \n",
       "258724          0          1  \n",
       "258725          0          1  \n",
       "258726          0          1  \n",
       "258727          0          1  \n",
       "258728          0          1  \n",
       "\n",
       "[258729 rows x 25 columns]"
      ]
     },
     "execution_count": 92,
     "metadata": {},
     "output_type": "execute_result"
    }
   ],
   "source": [
    "df_to_model"
   ]
  },
  {
   "cell_type": "code",
   "execution_count": 93,
   "metadata": {},
   "outputs": [],
   "source": [
    "df_to_model.is_profit = [1 if v == True else 0 for v in df_1.is_profit]"
   ]
  },
  {
   "cell_type": "code",
   "execution_count": 94,
   "metadata": {},
   "outputs": [
    {
     "data": {
      "text/html": [
       "<div>\n",
       "<style scoped>\n",
       "    .dataframe tbody tr th:only-of-type {\n",
       "        vertical-align: middle;\n",
       "    }\n",
       "\n",
       "    .dataframe tbody tr th {\n",
       "        vertical-align: top;\n",
       "    }\n",
       "\n",
       "    .dataframe thead th {\n",
       "        text-align: right;\n",
       "    }\n",
       "</style>\n",
       "<table border=\"1\" class=\"dataframe\">\n",
       "  <thead>\n",
       "    <tr style=\"text-align: right;\">\n",
       "      <th></th>\n",
       "      <th>is_profit</th>\n",
       "      <th>rsi14</th>\n",
       "      <th>sma9_var</th>\n",
       "      <th>sma180_var</th>\n",
       "      <th>vwap_var</th>\n",
       "      <th>spread14_e</th>\n",
       "      <th>volume14_34_var</th>\n",
       "      <th>prev_close_var</th>\n",
       "      <th>prev_floor_var</th>\n",
       "      <th>prev_ceil_var</th>\n",
       "      <th>...</th>\n",
       "      <th>valley_close_score</th>\n",
       "      <th>valley_rsi_score</th>\n",
       "      <th>day_open_var</th>\n",
       "      <th>open_from_prev_close_var</th>\n",
       "      <th>ceil_var</th>\n",
       "      <th>floor_var</th>\n",
       "      <th>weekday_1</th>\n",
       "      <th>weekday_2</th>\n",
       "      <th>weekday_3</th>\n",
       "      <th>weekday_4</th>\n",
       "    </tr>\n",
       "  </thead>\n",
       "  <tbody>\n",
       "    <tr>\n",
       "      <th>0</th>\n",
       "      <td>1</td>\n",
       "      <td>30.509761</td>\n",
       "      <td>-0.006223</td>\n",
       "      <td>-0.022679</td>\n",
       "      <td>-0.017526</td>\n",
       "      <td>0.000620</td>\n",
       "      <td>-0.006472</td>\n",
       "      <td>-0.037037</td>\n",
       "      <td>-0.012658</td>\n",
       "      <td>-0.047328</td>\n",
       "      <td>...</td>\n",
       "      <td>0.425532</td>\n",
       "      <td>0.758046</td>\n",
       "      <td>-0.032058</td>\n",
       "      <td>-0.005144</td>\n",
       "      <td>-0.034554</td>\n",
       "      <td>0.000802</td>\n",
       "      <td>0</td>\n",
       "      <td>0</td>\n",
       "      <td>0</td>\n",
       "      <td>0</td>\n",
       "    </tr>\n",
       "    <tr>\n",
       "      <th>1</th>\n",
       "      <td>1</td>\n",
       "      <td>46.452741</td>\n",
       "      <td>-0.001062</td>\n",
       "      <td>-0.004721</td>\n",
       "      <td>-0.007713</td>\n",
       "      <td>0.000695</td>\n",
       "      <td>0.280249</td>\n",
       "      <td>-0.031893</td>\n",
       "      <td>-0.007384</td>\n",
       "      <td>-0.042239</td>\n",
       "      <td>...</td>\n",
       "      <td>0.633584</td>\n",
       "      <td>10.958588</td>\n",
       "      <td>-0.026887</td>\n",
       "      <td>-0.005144</td>\n",
       "      <td>-0.029397</td>\n",
       "      <td>0.006148</td>\n",
       "      <td>0</td>\n",
       "      <td>0</td>\n",
       "      <td>0</td>\n",
       "      <td>0</td>\n",
       "    </tr>\n",
       "    <tr>\n",
       "      <th>2</th>\n",
       "      <td>1</td>\n",
       "      <td>34.336224</td>\n",
       "      <td>-0.004443</td>\n",
       "      <td>-0.016648</td>\n",
       "      <td>-0.016589</td>\n",
       "      <td>0.000518</td>\n",
       "      <td>0.284800</td>\n",
       "      <td>0.011396</td>\n",
       "      <td>0.023360</td>\n",
       "      <td>-0.014706</td>\n",
       "      <td>...</td>\n",
       "      <td>0.306356</td>\n",
       "      <td>2.964667</td>\n",
       "      <td>-0.003935</td>\n",
       "      <td>0.015391</td>\n",
       "      <td>-0.030638</td>\n",
       "      <td>0.000000</td>\n",
       "      <td>0</td>\n",
       "      <td>0</td>\n",
       "      <td>0</td>\n",
       "      <td>0</td>\n",
       "    </tr>\n",
       "    <tr>\n",
       "      <th>3</th>\n",
       "      <td>0</td>\n",
       "      <td>36.584676</td>\n",
       "      <td>-0.001006</td>\n",
       "      <td>0.005697</td>\n",
       "      <td>-0.004279</td>\n",
       "      <td>0.000327</td>\n",
       "      <td>-0.514448</td>\n",
       "      <td>0.017371</td>\n",
       "      <td>0.023517</td>\n",
       "      <td>0.001266</td>\n",
       "      <td>...</td>\n",
       "      <td>0.042142</td>\n",
       "      <td>2.599359</td>\n",
       "      <td>0.003596</td>\n",
       "      <td>0.013725</td>\n",
       "      <td>-0.014746</td>\n",
       "      <td>0.003596</td>\n",
       "      <td>0</td>\n",
       "      <td>0</td>\n",
       "      <td>0</td>\n",
       "      <td>0</td>\n",
       "    </tr>\n",
       "    <tr>\n",
       "      <th>4</th>\n",
       "      <td>1</td>\n",
       "      <td>29.113480</td>\n",
       "      <td>-0.000950</td>\n",
       "      <td>0.002626</td>\n",
       "      <td>-0.001767</td>\n",
       "      <td>0.000286</td>\n",
       "      <td>-0.033291</td>\n",
       "      <td>0.019482</td>\n",
       "      <td>0.035230</td>\n",
       "      <td>-0.001628</td>\n",
       "      <td>...</td>\n",
       "      <td>0.224383</td>\n",
       "      <td>0.091923</td>\n",
       "      <td>0.008738</td>\n",
       "      <td>0.010651</td>\n",
       "      <td>-0.016754</td>\n",
       "      <td>0.011470</td>\n",
       "      <td>0</td>\n",
       "      <td>0</td>\n",
       "      <td>0</td>\n",
       "      <td>0</td>\n",
       "    </tr>\n",
       "    <tr>\n",
       "      <th>...</th>\n",
       "      <td>...</td>\n",
       "      <td>...</td>\n",
       "      <td>...</td>\n",
       "      <td>...</td>\n",
       "      <td>...</td>\n",
       "      <td>...</td>\n",
       "      <td>...</td>\n",
       "      <td>...</td>\n",
       "      <td>...</td>\n",
       "      <td>...</td>\n",
       "      <td>...</td>\n",
       "      <td>...</td>\n",
       "      <td>...</td>\n",
       "      <td>...</td>\n",
       "      <td>...</td>\n",
       "      <td>...</td>\n",
       "      <td>...</td>\n",
       "      <td>...</td>\n",
       "      <td>...</td>\n",
       "      <td>...</td>\n",
       "      <td>...</td>\n",
       "    </tr>\n",
       "    <tr>\n",
       "      <th>258724</th>\n",
       "      <td>0</td>\n",
       "      <td>32.602899</td>\n",
       "      <td>-0.002293</td>\n",
       "      <td>-0.033872</td>\n",
       "      <td>-0.011582</td>\n",
       "      <td>0.001114</td>\n",
       "      <td>0.462271</td>\n",
       "      <td>-0.029817</td>\n",
       "      <td>-0.028145</td>\n",
       "      <td>-0.060000</td>\n",
       "      <td>...</td>\n",
       "      <td>0.118066</td>\n",
       "      <td>7.540690</td>\n",
       "      <td>-0.021400</td>\n",
       "      <td>-0.008601</td>\n",
       "      <td>-0.030373</td>\n",
       "      <td>0.000000</td>\n",
       "      <td>0</td>\n",
       "      <td>0</td>\n",
       "      <td>0</td>\n",
       "      <td>1</td>\n",
       "    </tr>\n",
       "    <tr>\n",
       "      <th>258725</th>\n",
       "      <td>0</td>\n",
       "      <td>37.355860</td>\n",
       "      <td>-0.002370</td>\n",
       "      <td>-0.021928</td>\n",
       "      <td>-0.015194</td>\n",
       "      <td>0.000470</td>\n",
       "      <td>-0.238875</td>\n",
       "      <td>-0.038417</td>\n",
       "      <td>-0.036760</td>\n",
       "      <td>-0.068333</td>\n",
       "      <td>...</td>\n",
       "      <td>0.563293</td>\n",
       "      <td>10.917935</td>\n",
       "      <td>-0.030075</td>\n",
       "      <td>-0.008601</td>\n",
       "      <td>-0.038968</td>\n",
       "      <td>0.000000</td>\n",
       "      <td>0</td>\n",
       "      <td>0</td>\n",
       "      <td>0</td>\n",
       "      <td>1</td>\n",
       "    </tr>\n",
       "    <tr>\n",
       "      <th>258726</th>\n",
       "      <td>1</td>\n",
       "      <td>41.550637</td>\n",
       "      <td>-0.001991</td>\n",
       "      <td>-0.014774</td>\n",
       "      <td>-0.003803</td>\n",
       "      <td>0.000993</td>\n",
       "      <td>-0.062510</td>\n",
       "      <td>0.057895</td>\n",
       "      <td>0.105147</td>\n",
       "      <td>0.050330</td>\n",
       "      <td>...</td>\n",
       "      <td>0.077993</td>\n",
       "      <td>1.535276</td>\n",
       "      <td>0.070815</td>\n",
       "      <td>-0.012065</td>\n",
       "      <td>-0.037562</td>\n",
       "      <td>0.070815</td>\n",
       "      <td>0</td>\n",
       "      <td>0</td>\n",
       "      <td>0</td>\n",
       "      <td>1</td>\n",
       "    </tr>\n",
       "    <tr>\n",
       "      <th>258727</th>\n",
       "      <td>0</td>\n",
       "      <td>35.433061</td>\n",
       "      <td>-0.005427</td>\n",
       "      <td>-0.012600</td>\n",
       "      <td>-0.015767</td>\n",
       "      <td>0.001918</td>\n",
       "      <td>0.046143</td>\n",
       "      <td>0.004747</td>\n",
       "      <td>0.015770</td>\n",
       "      <td>-0.095270</td>\n",
       "      <td>...</td>\n",
       "      <td>0.235696</td>\n",
       "      <td>4.331218</td>\n",
       "      <td>0.003386</td>\n",
       "      <td>0.001356</td>\n",
       "      <td>-0.033909</td>\n",
       "      <td>0.003386</td>\n",
       "      <td>0</td>\n",
       "      <td>0</td>\n",
       "      <td>0</td>\n",
       "      <td>1</td>\n",
       "    </tr>\n",
       "    <tr>\n",
       "      <th>258728</th>\n",
       "      <td>1</td>\n",
       "      <td>37.648564</td>\n",
       "      <td>-0.004007</td>\n",
       "      <td>-0.016134</td>\n",
       "      <td>-0.016528</td>\n",
       "      <td>0.002374</td>\n",
       "      <td>-0.000039</td>\n",
       "      <td>0.002035</td>\n",
       "      <td>0.013027</td>\n",
       "      <td>-0.097713</td>\n",
       "      <td>...</td>\n",
       "      <td>0.002033</td>\n",
       "      <td>10.013797</td>\n",
       "      <td>0.000677</td>\n",
       "      <td>0.001356</td>\n",
       "      <td>-0.036518</td>\n",
       "      <td>0.000677</td>\n",
       "      <td>0</td>\n",
       "      <td>0</td>\n",
       "      <td>0</td>\n",
       "      <td>1</td>\n",
       "    </tr>\n",
       "  </tbody>\n",
       "</table>\n",
       "<p>258729 rows × 25 columns</p>\n",
       "</div>"
      ],
      "text/plain": [
       "        is_profit      rsi14  sma9_var  sma180_var  vwap_var  spread14_e  \\\n",
       "0               1  30.509761 -0.006223   -0.022679 -0.017526    0.000620   \n",
       "1               1  46.452741 -0.001062   -0.004721 -0.007713    0.000695   \n",
       "2               1  34.336224 -0.004443   -0.016648 -0.016589    0.000518   \n",
       "3               0  36.584676 -0.001006    0.005697 -0.004279    0.000327   \n",
       "4               1  29.113480 -0.000950    0.002626 -0.001767    0.000286   \n",
       "...           ...        ...       ...         ...       ...         ...   \n",
       "258724          0  32.602899 -0.002293   -0.033872 -0.011582    0.001114   \n",
       "258725          0  37.355860 -0.002370   -0.021928 -0.015194    0.000470   \n",
       "258726          1  41.550637 -0.001991   -0.014774 -0.003803    0.000993   \n",
       "258727          0  35.433061 -0.005427   -0.012600 -0.015767    0.001918   \n",
       "258728          1  37.648564 -0.004007   -0.016134 -0.016528    0.002374   \n",
       "\n",
       "        volume14_34_var  prev_close_var  prev_floor_var  prev_ceil_var  ...  \\\n",
       "0             -0.006472       -0.037037       -0.012658      -0.047328  ...   \n",
       "1              0.280249       -0.031893       -0.007384      -0.042239  ...   \n",
       "2              0.284800        0.011396        0.023360      -0.014706  ...   \n",
       "3             -0.514448        0.017371        0.023517       0.001266  ...   \n",
       "4             -0.033291        0.019482        0.035230      -0.001628  ...   \n",
       "...                 ...             ...             ...            ...  ...   \n",
       "258724         0.462271       -0.029817       -0.028145      -0.060000  ...   \n",
       "258725        -0.238875       -0.038417       -0.036760      -0.068333  ...   \n",
       "258726        -0.062510        0.057895        0.105147       0.050330  ...   \n",
       "258727         0.046143        0.004747        0.015770      -0.095270  ...   \n",
       "258728        -0.000039        0.002035        0.013027      -0.097713  ...   \n",
       "\n",
       "        valley_close_score  valley_rsi_score  day_open_var  \\\n",
       "0                 0.425532          0.758046     -0.032058   \n",
       "1                 0.633584         10.958588     -0.026887   \n",
       "2                 0.306356          2.964667     -0.003935   \n",
       "3                 0.042142          2.599359      0.003596   \n",
       "4                 0.224383          0.091923      0.008738   \n",
       "...                    ...               ...           ...   \n",
       "258724            0.118066          7.540690     -0.021400   \n",
       "258725            0.563293         10.917935     -0.030075   \n",
       "258726            0.077993          1.535276      0.070815   \n",
       "258727            0.235696          4.331218      0.003386   \n",
       "258728            0.002033         10.013797      0.000677   \n",
       "\n",
       "        open_from_prev_close_var  ceil_var  floor_var  weekday_1  weekday_2  \\\n",
       "0                      -0.005144 -0.034554   0.000802          0          0   \n",
       "1                      -0.005144 -0.029397   0.006148          0          0   \n",
       "2                       0.015391 -0.030638   0.000000          0          0   \n",
       "3                       0.013725 -0.014746   0.003596          0          0   \n",
       "4                       0.010651 -0.016754   0.011470          0          0   \n",
       "...                          ...       ...        ...        ...        ...   \n",
       "258724                 -0.008601 -0.030373   0.000000          0          0   \n",
       "258725                 -0.008601 -0.038968   0.000000          0          0   \n",
       "258726                 -0.012065 -0.037562   0.070815          0          0   \n",
       "258727                  0.001356 -0.033909   0.003386          0          0   \n",
       "258728                  0.001356 -0.036518   0.000677          0          0   \n",
       "\n",
       "        weekday_3  weekday_4  \n",
       "0               0          0  \n",
       "1               0          0  \n",
       "2               0          0  \n",
       "3               0          0  \n",
       "4               0          0  \n",
       "...           ...        ...  \n",
       "258724          0          1  \n",
       "258725          0          1  \n",
       "258726          0          1  \n",
       "258727          0          1  \n",
       "258728          0          1  \n",
       "\n",
       "[258729 rows x 25 columns]"
      ]
     },
     "execution_count": 94,
     "metadata": {},
     "output_type": "execute_result"
    }
   ],
   "source": [
    "df_to_model"
   ]
  },
  {
   "cell_type": "code",
   "execution_count": 95,
   "metadata": {},
   "outputs": [],
   "source": [
    "from sklearn.preprocessing import StandardScaler\n",
    "from sklearn.model_selection import train_test_split\n",
    "from sklearn.metrics import auc, roc_auc_score, f1_score, roc_curve, accuracy_score\n",
    "from sklearn.metrics import mean_squared_error, mean_absolute_error\n",
    "from sklearn.metrics import precision_score, recall_score\n",
    "from sklearn.linear_model import LogisticRegression\n",
    "from sklearn.svm import SVC"
   ]
  },
  {
   "cell_type": "code",
   "execution_count": 96,
   "metadata": {},
   "outputs": [],
   "source": [
    "def print_metrics(true, pred):\n",
    "    print('accuracy: {}'.format(accuracy_score(true, pred)))\n",
    "    print('MSE: {}'.format(mean_squared_error(true, pred)))   \n",
    "    print('MAE: {}'.format(mean_absolute_error(true, pred)))\n",
    "    print('f1 score: {}'.format(f1_score(true, pred)))\n",
    "    print('precision score: {}'.format(precision_score(true, pred)))\n",
    "    print('recall score: {}'.format(recall_score(true, pred)))"
   ]
  },
  {
   "cell_type": "code",
   "execution_count": 97,
   "metadata": {},
   "outputs": [],
   "source": [
    "def plot_roc_auc(true, pred, title=''):\n",
    "    \n",
    "    fpr, tpr, threshold  = roc_curve(true, pred)\n",
    "    roc_auc = auc(fpr, tpr)\n",
    "    \n",
    "    plt.plot(fpr, tpr)\n",
    "    plt.title('{} ROC {:4f}'.format(title, roc_auc))\n",
    "    plt.plot([0, 1], [0, 1], 'r--')\n",
    "    plt.xlim([0, 1])\n",
    "    plt.ylim([0, 1])\n",
    "    plt.ylabel('True Rositive Rate')\n",
    "    plt.xlabel('False Positive Rate')\n",
    "    plt.show()"
   ]
  },
  {
   "cell_type": "code",
   "execution_count": 98,
   "metadata": {},
   "outputs": [],
   "source": [
    "def feature_importance(columns, coef):\n",
    "    featureImportance = pd.DataFrame({'feature': columns, 'importance': coef})\n",
    "    featureImportance.set_index('feature', inplace=True)\n",
    "    featureImportance.sort_values(['importance'], ascending=False, inplace=True)\n",
    "    \n",
    "    return featureImportance"
   ]
  },
  {
   "cell_type": "markdown",
   "metadata": {},
   "source": [
    "### -------------- train test --------"
   ]
  },
  {
   "cell_type": "markdown",
   "metadata": {},
   "source": [
    "25% -> test"
   ]
  },
  {
   "cell_type": "code",
   "execution_count": 99,
   "metadata": {},
   "outputs": [
    {
     "data": {
      "text/plain": [
       "194046"
      ]
     },
     "execution_count": 99,
     "metadata": {},
     "output_type": "execute_result"
    }
   ],
   "source": [
    "size_train = int(df_to_model.shape[0] * 0.75)\n",
    "size_train"
   ]
  },
  {
   "cell_type": "code",
   "execution_count": 100,
   "metadata": {},
   "outputs": [],
   "source": [
    "X_train = df_to_model.drop(['is_profit'], axis=1)[:size_train]"
   ]
  },
  {
   "cell_type": "code",
   "execution_count": 101,
   "metadata": {},
   "outputs": [],
   "source": [
    "X_test = df_to_model.drop(['is_profit'], axis=1)[size_train:]"
   ]
  },
  {
   "cell_type": "code",
   "execution_count": 102,
   "metadata": {},
   "outputs": [
    {
     "data": {
      "text/plain": [
       "(258729, 258729)"
      ]
     },
     "execution_count": 102,
     "metadata": {},
     "output_type": "execute_result"
    }
   ],
   "source": [
    "X_test.shape[0] + X_train.shape[0], df_1.shape[0]"
   ]
  },
  {
   "cell_type": "code",
   "execution_count": 103,
   "metadata": {},
   "outputs": [],
   "source": [
    "y_train = df_to_model.is_profit[:size_train]\n",
    "y_test = df_to_model.is_profit[size_train:]"
   ]
  },
  {
   "cell_type": "code",
   "execution_count": 104,
   "metadata": {},
   "outputs": [
    {
     "data": {
      "text/plain": [
       "(258729, 258729)"
      ]
     },
     "execution_count": 104,
     "metadata": {},
     "output_type": "execute_result"
    }
   ],
   "source": [
    "y_train.shape[0] + y_test.shape[0], df_1.shape[0]"
   ]
  },
  {
   "cell_type": "code",
   "execution_count": 105,
   "metadata": {},
   "outputs": [
    {
     "data": {
      "text/html": [
       "<div>\n",
       "<style scoped>\n",
       "    .dataframe tbody tr th:only-of-type {\n",
       "        vertical-align: middle;\n",
       "    }\n",
       "\n",
       "    .dataframe tbody tr th {\n",
       "        vertical-align: top;\n",
       "    }\n",
       "\n",
       "    .dataframe thead th {\n",
       "        text-align: right;\n",
       "    }\n",
       "</style>\n",
       "<table border=\"1\" class=\"dataframe\">\n",
       "  <thead>\n",
       "    <tr style=\"text-align: right;\">\n",
       "      <th></th>\n",
       "      <th>rsi14</th>\n",
       "      <th>sma9_var</th>\n",
       "      <th>sma180_var</th>\n",
       "      <th>vwap_var</th>\n",
       "      <th>spread14_e</th>\n",
       "      <th>volume14_34_var</th>\n",
       "      <th>prev_close_var</th>\n",
       "      <th>prev_floor_var</th>\n",
       "      <th>prev_ceil_var</th>\n",
       "      <th>prev1_candle_score</th>\n",
       "      <th>...</th>\n",
       "      <th>valley_close_score</th>\n",
       "      <th>valley_rsi_score</th>\n",
       "      <th>day_open_var</th>\n",
       "      <th>open_from_prev_close_var</th>\n",
       "      <th>ceil_var</th>\n",
       "      <th>floor_var</th>\n",
       "      <th>weekday_1</th>\n",
       "      <th>weekday_2</th>\n",
       "      <th>weekday_3</th>\n",
       "      <th>weekday_4</th>\n",
       "    </tr>\n",
       "  </thead>\n",
       "  <tbody>\n",
       "    <tr>\n",
       "      <th>0</th>\n",
       "      <td>30.509761</td>\n",
       "      <td>-0.006223</td>\n",
       "      <td>-0.022679</td>\n",
       "      <td>-0.017526</td>\n",
       "      <td>0.000620</td>\n",
       "      <td>-0.006472</td>\n",
       "      <td>-0.037037</td>\n",
       "      <td>-0.012658</td>\n",
       "      <td>-0.047328</td>\n",
       "      <td>-0.002925</td>\n",
       "      <td>...</td>\n",
       "      <td>0.425532</td>\n",
       "      <td>0.758046</td>\n",
       "      <td>-0.032058</td>\n",
       "      <td>-0.005144</td>\n",
       "      <td>-0.034554</td>\n",
       "      <td>0.000802</td>\n",
       "      <td>0</td>\n",
       "      <td>0</td>\n",
       "      <td>0</td>\n",
       "      <td>0</td>\n",
       "    </tr>\n",
       "    <tr>\n",
       "      <th>1</th>\n",
       "      <td>46.452741</td>\n",
       "      <td>-0.001062</td>\n",
       "      <td>-0.004721</td>\n",
       "      <td>-0.007713</td>\n",
       "      <td>0.000695</td>\n",
       "      <td>0.280249</td>\n",
       "      <td>-0.031893</td>\n",
       "      <td>-0.007384</td>\n",
       "      <td>-0.042239</td>\n",
       "      <td>0.000000</td>\n",
       "      <td>...</td>\n",
       "      <td>0.633584</td>\n",
       "      <td>10.958588</td>\n",
       "      <td>-0.026887</td>\n",
       "      <td>-0.005144</td>\n",
       "      <td>-0.029397</td>\n",
       "      <td>0.006148</td>\n",
       "      <td>0</td>\n",
       "      <td>0</td>\n",
       "      <td>0</td>\n",
       "      <td>0</td>\n",
       "    </tr>\n",
       "    <tr>\n",
       "      <th>2</th>\n",
       "      <td>34.336224</td>\n",
       "      <td>-0.004443</td>\n",
       "      <td>-0.016648</td>\n",
       "      <td>-0.016589</td>\n",
       "      <td>0.000518</td>\n",
       "      <td>0.284800</td>\n",
       "      <td>0.011396</td>\n",
       "      <td>0.023360</td>\n",
       "      <td>-0.014706</td>\n",
       "      <td>0.000000</td>\n",
       "      <td>...</td>\n",
       "      <td>0.306356</td>\n",
       "      <td>2.964667</td>\n",
       "      <td>-0.003935</td>\n",
       "      <td>0.015391</td>\n",
       "      <td>-0.030638</td>\n",
       "      <td>0.000000</td>\n",
       "      <td>0</td>\n",
       "      <td>0</td>\n",
       "      <td>0</td>\n",
       "      <td>0</td>\n",
       "    </tr>\n",
       "    <tr>\n",
       "      <th>3</th>\n",
       "      <td>36.584676</td>\n",
       "      <td>-0.001006</td>\n",
       "      <td>0.005697</td>\n",
       "      <td>-0.004279</td>\n",
       "      <td>0.000327</td>\n",
       "      <td>-0.514448</td>\n",
       "      <td>0.017371</td>\n",
       "      <td>0.023517</td>\n",
       "      <td>0.001266</td>\n",
       "      <td>-0.000105</td>\n",
       "      <td>...</td>\n",
       "      <td>0.042142</td>\n",
       "      <td>2.599359</td>\n",
       "      <td>0.003596</td>\n",
       "      <td>0.013725</td>\n",
       "      <td>-0.014746</td>\n",
       "      <td>0.003596</td>\n",
       "      <td>0</td>\n",
       "      <td>0</td>\n",
       "      <td>0</td>\n",
       "      <td>0</td>\n",
       "    </tr>\n",
       "    <tr>\n",
       "      <th>4</th>\n",
       "      <td>29.113480</td>\n",
       "      <td>-0.000950</td>\n",
       "      <td>0.002626</td>\n",
       "      <td>-0.001767</td>\n",
       "      <td>0.000286</td>\n",
       "      <td>-0.033291</td>\n",
       "      <td>0.019482</td>\n",
       "      <td>0.035230</td>\n",
       "      <td>-0.001628</td>\n",
       "      <td>-0.000375</td>\n",
       "      <td>...</td>\n",
       "      <td>0.224383</td>\n",
       "      <td>0.091923</td>\n",
       "      <td>0.008738</td>\n",
       "      <td>0.010651</td>\n",
       "      <td>-0.016754</td>\n",
       "      <td>0.011470</td>\n",
       "      <td>0</td>\n",
       "      <td>0</td>\n",
       "      <td>0</td>\n",
       "      <td>0</td>\n",
       "    </tr>\n",
       "    <tr>\n",
       "      <th>...</th>\n",
       "      <td>...</td>\n",
       "      <td>...</td>\n",
       "      <td>...</td>\n",
       "      <td>...</td>\n",
       "      <td>...</td>\n",
       "      <td>...</td>\n",
       "      <td>...</td>\n",
       "      <td>...</td>\n",
       "      <td>...</td>\n",
       "      <td>...</td>\n",
       "      <td>...</td>\n",
       "      <td>...</td>\n",
       "      <td>...</td>\n",
       "      <td>...</td>\n",
       "      <td>...</td>\n",
       "      <td>...</td>\n",
       "      <td>...</td>\n",
       "      <td>...</td>\n",
       "      <td>...</td>\n",
       "      <td>...</td>\n",
       "      <td>...</td>\n",
       "    </tr>\n",
       "    <tr>\n",
       "      <th>194041</th>\n",
       "      <td>21.486170</td>\n",
       "      <td>-0.001881</td>\n",
       "      <td>-0.014162</td>\n",
       "      <td>-0.004351</td>\n",
       "      <td>0.000794</td>\n",
       "      <td>0.267789</td>\n",
       "      <td>-0.015411</td>\n",
       "      <td>-0.010810</td>\n",
       "      <td>-0.032118</td>\n",
       "      <td>-0.000455</td>\n",
       "      <td>...</td>\n",
       "      <td>0.244148</td>\n",
       "      <td>7.441592</td>\n",
       "      <td>-0.011701</td>\n",
       "      <td>-0.003755</td>\n",
       "      <td>-0.011701</td>\n",
       "      <td>0.000000</td>\n",
       "      <td>0</td>\n",
       "      <td>0</td>\n",
       "      <td>1</td>\n",
       "      <td>0</td>\n",
       "    </tr>\n",
       "    <tr>\n",
       "      <th>194042</th>\n",
       "      <td>34.024885</td>\n",
       "      <td>-0.001286</td>\n",
       "      <td>-0.013692</td>\n",
       "      <td>-0.004297</td>\n",
       "      <td>0.000691</td>\n",
       "      <td>-0.690471</td>\n",
       "      <td>-0.015692</td>\n",
       "      <td>-0.011092</td>\n",
       "      <td>-0.032393</td>\n",
       "      <td>0.000114</td>\n",
       "      <td>...</td>\n",
       "      <td>0.028461</td>\n",
       "      <td>12.538715</td>\n",
       "      <td>-0.011982</td>\n",
       "      <td>-0.003755</td>\n",
       "      <td>-0.011982</td>\n",
       "      <td>0.000000</td>\n",
       "      <td>0</td>\n",
       "      <td>0</td>\n",
       "      <td>1</td>\n",
       "      <td>0</td>\n",
       "    </tr>\n",
       "    <tr>\n",
       "      <th>194043</th>\n",
       "      <td>36.922094</td>\n",
       "      <td>-0.000637</td>\n",
       "      <td>0.002347</td>\n",
       "      <td>0.003911</td>\n",
       "      <td>0.000256</td>\n",
       "      <td>-0.141849</td>\n",
       "      <td>-0.004371</td>\n",
       "      <td>0.000282</td>\n",
       "      <td>-0.021265</td>\n",
       "      <td>-0.000113</td>\n",
       "      <td>...</td>\n",
       "      <td>0.022506</td>\n",
       "      <td>1.982720</td>\n",
       "      <td>-0.000619</td>\n",
       "      <td>-0.003755</td>\n",
       "      <td>-0.004539</td>\n",
       "      <td>0.011501</td>\n",
       "      <td>0</td>\n",
       "      <td>0</td>\n",
       "      <td>1</td>\n",
       "      <td>0</td>\n",
       "    </tr>\n",
       "    <tr>\n",
       "      <th>194044</th>\n",
       "      <td>30.723702</td>\n",
       "      <td>-0.000742</td>\n",
       "      <td>-0.005206</td>\n",
       "      <td>-0.002342</td>\n",
       "      <td>0.000247</td>\n",
       "      <td>-0.239876</td>\n",
       "      <td>-0.010424</td>\n",
       "      <td>-0.005799</td>\n",
       "      <td>-0.027215</td>\n",
       "      <td>-0.000113</td>\n",
       "      <td>...</td>\n",
       "      <td>0.067909</td>\n",
       "      <td>11.129818</td>\n",
       "      <td>-0.006694</td>\n",
       "      <td>-0.003755</td>\n",
       "      <td>-0.010590</td>\n",
       "      <td>0.005352</td>\n",
       "      <td>0</td>\n",
       "      <td>0</td>\n",
       "      <td>1</td>\n",
       "      <td>0</td>\n",
       "    </tr>\n",
       "    <tr>\n",
       "      <th>194045</th>\n",
       "      <td>32.731021</td>\n",
       "      <td>-0.001473</td>\n",
       "      <td>0.001166</td>\n",
       "      <td>-0.005058</td>\n",
       "      <td>0.000124</td>\n",
       "      <td>-0.325271</td>\n",
       "      <td>0.013203</td>\n",
       "      <td>0.038076</td>\n",
       "      <td>0.008763</td>\n",
       "      <td>0.000362</td>\n",
       "      <td>...</td>\n",
       "      <td>0.072348</td>\n",
       "      <td>2.419428</td>\n",
       "      <td>0.009378</td>\n",
       "      <td>0.003790</td>\n",
       "      <td>-0.012393</td>\n",
       "      <td>0.009378</td>\n",
       "      <td>0</td>\n",
       "      <td>0</td>\n",
       "      <td>1</td>\n",
       "      <td>0</td>\n",
       "    </tr>\n",
       "  </tbody>\n",
       "</table>\n",
       "<p>194046 rows × 24 columns</p>\n",
       "</div>"
      ],
      "text/plain": [
       "            rsi14  sma9_var  sma180_var  vwap_var  spread14_e  \\\n",
       "0       30.509761 -0.006223   -0.022679 -0.017526    0.000620   \n",
       "1       46.452741 -0.001062   -0.004721 -0.007713    0.000695   \n",
       "2       34.336224 -0.004443   -0.016648 -0.016589    0.000518   \n",
       "3       36.584676 -0.001006    0.005697 -0.004279    0.000327   \n",
       "4       29.113480 -0.000950    0.002626 -0.001767    0.000286   \n",
       "...           ...       ...         ...       ...         ...   \n",
       "194041  21.486170 -0.001881   -0.014162 -0.004351    0.000794   \n",
       "194042  34.024885 -0.001286   -0.013692 -0.004297    0.000691   \n",
       "194043  36.922094 -0.000637    0.002347  0.003911    0.000256   \n",
       "194044  30.723702 -0.000742   -0.005206 -0.002342    0.000247   \n",
       "194045  32.731021 -0.001473    0.001166 -0.005058    0.000124   \n",
       "\n",
       "        volume14_34_var  prev_close_var  prev_floor_var  prev_ceil_var  \\\n",
       "0             -0.006472       -0.037037       -0.012658      -0.047328   \n",
       "1              0.280249       -0.031893       -0.007384      -0.042239   \n",
       "2              0.284800        0.011396        0.023360      -0.014706   \n",
       "3             -0.514448        0.017371        0.023517       0.001266   \n",
       "4             -0.033291        0.019482        0.035230      -0.001628   \n",
       "...                 ...             ...             ...            ...   \n",
       "194041         0.267789       -0.015411       -0.010810      -0.032118   \n",
       "194042        -0.690471       -0.015692       -0.011092      -0.032393   \n",
       "194043        -0.141849       -0.004371        0.000282      -0.021265   \n",
       "194044        -0.239876       -0.010424       -0.005799      -0.027215   \n",
       "194045        -0.325271        0.013203        0.038076       0.008763   \n",
       "\n",
       "        prev1_candle_score  ...  valley_close_score  valley_rsi_score  \\\n",
       "0                -0.002925  ...            0.425532          0.758046   \n",
       "1                 0.000000  ...            0.633584         10.958588   \n",
       "2                 0.000000  ...            0.306356          2.964667   \n",
       "3                -0.000105  ...            0.042142          2.599359   \n",
       "4                -0.000375  ...            0.224383          0.091923   \n",
       "...                    ...  ...                 ...               ...   \n",
       "194041           -0.000455  ...            0.244148          7.441592   \n",
       "194042            0.000114  ...            0.028461         12.538715   \n",
       "194043           -0.000113  ...            0.022506          1.982720   \n",
       "194044           -0.000113  ...            0.067909         11.129818   \n",
       "194045            0.000362  ...            0.072348          2.419428   \n",
       "\n",
       "        day_open_var  open_from_prev_close_var  ceil_var  floor_var  \\\n",
       "0          -0.032058                 -0.005144 -0.034554   0.000802   \n",
       "1          -0.026887                 -0.005144 -0.029397   0.006148   \n",
       "2          -0.003935                  0.015391 -0.030638   0.000000   \n",
       "3           0.003596                  0.013725 -0.014746   0.003596   \n",
       "4           0.008738                  0.010651 -0.016754   0.011470   \n",
       "...              ...                       ...       ...        ...   \n",
       "194041     -0.011701                 -0.003755 -0.011701   0.000000   \n",
       "194042     -0.011982                 -0.003755 -0.011982   0.000000   \n",
       "194043     -0.000619                 -0.003755 -0.004539   0.011501   \n",
       "194044     -0.006694                 -0.003755 -0.010590   0.005352   \n",
       "194045      0.009378                  0.003790 -0.012393   0.009378   \n",
       "\n",
       "        weekday_1  weekday_2  weekday_3  weekday_4  \n",
       "0               0          0          0          0  \n",
       "1               0          0          0          0  \n",
       "2               0          0          0          0  \n",
       "3               0          0          0          0  \n",
       "4               0          0          0          0  \n",
       "...           ...        ...        ...        ...  \n",
       "194041          0          0          1          0  \n",
       "194042          0          0          1          0  \n",
       "194043          0          0          1          0  \n",
       "194044          0          0          1          0  \n",
       "194045          0          0          1          0  \n",
       "\n",
       "[194046 rows x 24 columns]"
      ]
     },
     "execution_count": 105,
     "metadata": {},
     "output_type": "execute_result"
    }
   ],
   "source": [
    "X_train"
   ]
  },
  {
   "cell_type": "code",
   "execution_count": 149,
   "metadata": {},
   "outputs": [
    {
     "data": {
      "text/plain": [
       "(0, 0)"
      ]
     },
     "execution_count": 149,
     "metadata": {},
     "output_type": "execute_result"
    }
   ],
   "source": [
    "(X_test.isnull().sum()).sum(), (X_train.isnull().sum()).sum()"
   ]
  },
  {
   "cell_type": "markdown",
   "metadata": {},
   "source": [
    "### ----------------Scaler----------------------"
   ]
  },
  {
   "cell_type": "code",
   "execution_count": 150,
   "metadata": {},
   "outputs": [],
   "source": [
    "scaler =StandardScaler()"
   ]
  },
  {
   "cell_type": "code",
   "execution_count": 151,
   "metadata": {},
   "outputs": [],
   "source": [
    "X_train[columns_numeric] = scaler.fit_transform(X_train[columns_numeric])"
   ]
  },
  {
   "cell_type": "code",
   "execution_count": 152,
   "metadata": {},
   "outputs": [
    {
     "data": {
      "text/html": [
       "<div>\n",
       "<style scoped>\n",
       "    .dataframe tbody tr th:only-of-type {\n",
       "        vertical-align: middle;\n",
       "    }\n",
       "\n",
       "    .dataframe tbody tr th {\n",
       "        vertical-align: top;\n",
       "    }\n",
       "\n",
       "    .dataframe thead th {\n",
       "        text-align: right;\n",
       "    }\n",
       "</style>\n",
       "<table border=\"1\" class=\"dataframe\">\n",
       "  <thead>\n",
       "    <tr style=\"text-align: right;\">\n",
       "      <th></th>\n",
       "      <th>rsi14</th>\n",
       "      <th>sma9_var</th>\n",
       "      <th>sma180_var</th>\n",
       "      <th>vwap_var</th>\n",
       "      <th>spread14_e</th>\n",
       "      <th>volume14_34_var</th>\n",
       "      <th>prev_close_var</th>\n",
       "      <th>prev_floor_var</th>\n",
       "      <th>prev_ceil_var</th>\n",
       "      <th>prev1_candle_score</th>\n",
       "      <th>...</th>\n",
       "      <th>valley_close_score</th>\n",
       "      <th>valley_rsi_score</th>\n",
       "      <th>day_open_var</th>\n",
       "      <th>open_from_prev_close_var</th>\n",
       "      <th>ceil_var</th>\n",
       "      <th>floor_var</th>\n",
       "      <th>weekday_1</th>\n",
       "      <th>weekday_2</th>\n",
       "      <th>weekday_3</th>\n",
       "      <th>weekday_4</th>\n",
       "    </tr>\n",
       "  </thead>\n",
       "  <tbody>\n",
       "    <tr>\n",
       "      <th>0</th>\n",
       "      <td>-0.727596</td>\n",
       "      <td>-1.550022</td>\n",
       "      <td>-0.724910</td>\n",
       "      <td>-0.805771</td>\n",
       "      <td>-0.348142</td>\n",
       "      <td>0.122402</td>\n",
       "      <td>-0.860813</td>\n",
       "      <td>-0.582778</td>\n",
       "      <td>-0.484702</td>\n",
       "      <td>-1.829512</td>\n",
       "      <td>...</td>\n",
       "      <td>0.547641</td>\n",
       "      <td>-0.895897</td>\n",
       "      <td>-0.872479</td>\n",
       "      <td>-0.305116</td>\n",
       "      <td>-0.537552</td>\n",
       "      <td>-0.440533</td>\n",
       "      <td>0</td>\n",
       "      <td>0</td>\n",
       "      <td>0</td>\n",
       "      <td>0</td>\n",
       "    </tr>\n",
       "    <tr>\n",
       "      <th>1</th>\n",
       "      <td>2.187302</td>\n",
       "      <td>0.693038</td>\n",
       "      <td>0.487623</td>\n",
       "      <td>0.186694</td>\n",
       "      <td>-0.248432</td>\n",
       "      <td>1.045231</td>\n",
       "      <td>-0.687052</td>\n",
       "      <td>-0.431830</td>\n",
       "      <td>-0.342381</td>\n",
       "      <td>0.339358</td>\n",
       "      <td>...</td>\n",
       "      <td>1.142128</td>\n",
       "      <td>1.640766</td>\n",
       "      <td>-0.641029</td>\n",
       "      <td>-0.305116</td>\n",
       "      <td>-0.256468</td>\n",
       "      <td>0.028325</td>\n",
       "      <td>0</td>\n",
       "      <td>0</td>\n",
       "      <td>0</td>\n",
       "      <td>0</td>\n",
       "    </tr>\n",
       "    <tr>\n",
       "      <th>2</th>\n",
       "      <td>-0.027994</td>\n",
       "      <td>-0.776630</td>\n",
       "      <td>-0.317709</td>\n",
       "      <td>-0.710949</td>\n",
       "      <td>-0.486068</td>\n",
       "      <td>1.059880</td>\n",
       "      <td>0.775193</td>\n",
       "      <td>0.448052</td>\n",
       "      <td>0.427613</td>\n",
       "      <td>0.339358</td>\n",
       "      <td>...</td>\n",
       "      <td>0.207108</td>\n",
       "      <td>-0.347157</td>\n",
       "      <td>0.386351</td>\n",
       "      <td>0.708767</td>\n",
       "      <td>-0.324147</td>\n",
       "      <td>-0.510858</td>\n",
       "      <td>0</td>\n",
       "      <td>0</td>\n",
       "      <td>0</td>\n",
       "      <td>0</td>\n",
       "    </tr>\n",
       "    <tr>\n",
       "      <th>3</th>\n",
       "      <td>0.383097</td>\n",
       "      <td>0.717148</td>\n",
       "      <td>1.191047</td>\n",
       "      <td>0.534041</td>\n",
       "      <td>-0.742252</td>\n",
       "      <td>-1.512550</td>\n",
       "      <td>0.977029</td>\n",
       "      <td>0.452531</td>\n",
       "      <td>0.874292</td>\n",
       "      <td>0.261251</td>\n",
       "      <td>...</td>\n",
       "      <td>-0.547853</td>\n",
       "      <td>-0.438001</td>\n",
       "      <td>0.723485</td>\n",
       "      <td>0.626493</td>\n",
       "      <td>0.542039</td>\n",
       "      <td>-0.195462</td>\n",
       "      <td>0</td>\n",
       "      <td>0</td>\n",
       "      <td>0</td>\n",
       "      <td>0</td>\n",
       "    </tr>\n",
       "    <tr>\n",
       "      <th>4</th>\n",
       "      <td>-0.982882</td>\n",
       "      <td>0.741389</td>\n",
       "      <td>0.983661</td>\n",
       "      <td>0.788010</td>\n",
       "      <td>-0.796867</td>\n",
       "      <td>0.036084</td>\n",
       "      <td>1.048354</td>\n",
       "      <td>0.787770</td>\n",
       "      <td>0.793364</td>\n",
       "      <td>0.061520</td>\n",
       "      <td>...</td>\n",
       "      <td>-0.027120</td>\n",
       "      <td>-1.061548</td>\n",
       "      <td>0.953650</td>\n",
       "      <td>0.474716</td>\n",
       "      <td>0.432582</td>\n",
       "      <td>0.495050</td>\n",
       "      <td>0</td>\n",
       "      <td>0</td>\n",
       "      <td>0</td>\n",
       "      <td>0</td>\n",
       "    </tr>\n",
       "    <tr>\n",
       "      <th>...</th>\n",
       "      <td>...</td>\n",
       "      <td>...</td>\n",
       "      <td>...</td>\n",
       "      <td>...</td>\n",
       "      <td>...</td>\n",
       "      <td>...</td>\n",
       "      <td>...</td>\n",
       "      <td>...</td>\n",
       "      <td>...</td>\n",
       "      <td>...</td>\n",
       "      <td>...</td>\n",
       "      <td>...</td>\n",
       "      <td>...</td>\n",
       "      <td>...</td>\n",
       "      <td>...</td>\n",
       "      <td>...</td>\n",
       "      <td>...</td>\n",
       "      <td>...</td>\n",
       "      <td>...</td>\n",
       "      <td>...</td>\n",
       "      <td>...</td>\n",
       "    </tr>\n",
       "    <tr>\n",
       "      <th>194041</th>\n",
       "      <td>-2.377404</td>\n",
       "      <td>0.336902</td>\n",
       "      <td>-0.149809</td>\n",
       "      <td>0.526685</td>\n",
       "      <td>-0.115514</td>\n",
       "      <td>1.005128</td>\n",
       "      <td>-0.130317</td>\n",
       "      <td>-0.529888</td>\n",
       "      <td>-0.059324</td>\n",
       "      <td>0.001994</td>\n",
       "      <td>...</td>\n",
       "      <td>0.029356</td>\n",
       "      <td>0.766162</td>\n",
       "      <td>0.038764</td>\n",
       "      <td>-0.236524</td>\n",
       "      <td>0.708005</td>\n",
       "      <td>-0.510858</td>\n",
       "      <td>0</td>\n",
       "      <td>0</td>\n",
       "      <td>1</td>\n",
       "      <td>0</td>\n",
       "    </tr>\n",
       "    <tr>\n",
       "      <th>194042</th>\n",
       "      <td>-0.084917</td>\n",
       "      <td>0.595640</td>\n",
       "      <td>-0.118097</td>\n",
       "      <td>0.532211</td>\n",
       "      <td>-0.253083</td>\n",
       "      <td>-2.079089</td>\n",
       "      <td>-0.139782</td>\n",
       "      <td>-0.537946</td>\n",
       "      <td>-0.067027</td>\n",
       "      <td>0.423759</td>\n",
       "      <td>...</td>\n",
       "      <td>-0.586945</td>\n",
       "      <td>2.033710</td>\n",
       "      <td>0.026174</td>\n",
       "      <td>-0.236524</td>\n",
       "      <td>0.692675</td>\n",
       "      <td>-0.510858</td>\n",
       "      <td>0</td>\n",
       "      <td>0</td>\n",
       "      <td>1</td>\n",
       "      <td>0</td>\n",
       "    </tr>\n",
       "    <tr>\n",
       "      <th>194043</th>\n",
       "      <td>0.444788</td>\n",
       "      <td>0.877345</td>\n",
       "      <td>0.964858</td>\n",
       "      <td>1.362281</td>\n",
       "      <td>-0.837068</td>\n",
       "      <td>-0.313315</td>\n",
       "      <td>0.242608</td>\n",
       "      <td>-0.212449</td>\n",
       "      <td>0.244186</td>\n",
       "      <td>0.255917</td>\n",
       "      <td>...</td>\n",
       "      <td>-0.603960</td>\n",
       "      <td>-0.591346</td>\n",
       "      <td>0.534807</td>\n",
       "      <td>-0.236524</td>\n",
       "      <td>1.098347</td>\n",
       "      <td>0.497758</td>\n",
       "      <td>0</td>\n",
       "      <td>0</td>\n",
       "      <td>1</td>\n",
       "      <td>0</td>\n",
       "    </tr>\n",
       "    <tr>\n",
       "      <th>194044</th>\n",
       "      <td>-0.688481</td>\n",
       "      <td>0.831957</td>\n",
       "      <td>0.454899</td>\n",
       "      <td>0.729876</td>\n",
       "      <td>-0.849770</td>\n",
       "      <td>-0.628822</td>\n",
       "      <td>0.038162</td>\n",
       "      <td>-0.386477</td>\n",
       "      <td>0.077795</td>\n",
       "      <td>0.255378</td>\n",
       "      <td>...</td>\n",
       "      <td>-0.474226</td>\n",
       "      <td>1.683347</td>\n",
       "      <td>0.262865</td>\n",
       "      <td>-0.236524</td>\n",
       "      <td>0.768530</td>\n",
       "      <td>-0.041502</td>\n",
       "      <td>0</td>\n",
       "      <td>0</td>\n",
       "      <td>1</td>\n",
       "      <td>0</td>\n",
       "    </tr>\n",
       "    <tr>\n",
       "      <th>194045</th>\n",
       "      <td>-0.321477</td>\n",
       "      <td>0.514448</td>\n",
       "      <td>0.885130</td>\n",
       "      <td>0.455205</td>\n",
       "      <td>-1.015041</td>\n",
       "      <td>-0.903671</td>\n",
       "      <td>0.836243</td>\n",
       "      <td>0.869214</td>\n",
       "      <td>1.083953</td>\n",
       "      <td>0.607605</td>\n",
       "      <td>...</td>\n",
       "      <td>-0.461543</td>\n",
       "      <td>-0.482746</td>\n",
       "      <td>0.982268</td>\n",
       "      <td>0.135963</td>\n",
       "      <td>0.670276</td>\n",
       "      <td>0.311555</td>\n",
       "      <td>0</td>\n",
       "      <td>0</td>\n",
       "      <td>1</td>\n",
       "      <td>0</td>\n",
       "    </tr>\n",
       "  </tbody>\n",
       "</table>\n",
       "<p>194046 rows × 24 columns</p>\n",
       "</div>"
      ],
      "text/plain": [
       "           rsi14  sma9_var  sma180_var  vwap_var  spread14_e  volume14_34_var  \\\n",
       "0      -0.727596 -1.550022   -0.724910 -0.805771   -0.348142         0.122402   \n",
       "1       2.187302  0.693038    0.487623  0.186694   -0.248432         1.045231   \n",
       "2      -0.027994 -0.776630   -0.317709 -0.710949   -0.486068         1.059880   \n",
       "3       0.383097  0.717148    1.191047  0.534041   -0.742252        -1.512550   \n",
       "4      -0.982882  0.741389    0.983661  0.788010   -0.796867         0.036084   \n",
       "...          ...       ...         ...       ...         ...              ...   \n",
       "194041 -2.377404  0.336902   -0.149809  0.526685   -0.115514         1.005128   \n",
       "194042 -0.084917  0.595640   -0.118097  0.532211   -0.253083        -2.079089   \n",
       "194043  0.444788  0.877345    0.964858  1.362281   -0.837068        -0.313315   \n",
       "194044 -0.688481  0.831957    0.454899  0.729876   -0.849770        -0.628822   \n",
       "194045 -0.321477  0.514448    0.885130  0.455205   -1.015041        -0.903671   \n",
       "\n",
       "        prev_close_var  prev_floor_var  prev_ceil_var  prev1_candle_score  \\\n",
       "0            -0.860813       -0.582778      -0.484702           -1.829512   \n",
       "1            -0.687052       -0.431830      -0.342381            0.339358   \n",
       "2             0.775193        0.448052       0.427613            0.339358   \n",
       "3             0.977029        0.452531       0.874292            0.261251   \n",
       "4             1.048354        0.787770       0.793364            0.061520   \n",
       "...                ...             ...            ...                 ...   \n",
       "194041       -0.130317       -0.529888      -0.059324            0.001994   \n",
       "194042       -0.139782       -0.537946      -0.067027            0.423759   \n",
       "194043        0.242608       -0.212449       0.244186            0.255917   \n",
       "194044        0.038162       -0.386477       0.077795            0.255378   \n",
       "194045        0.836243        0.869214       1.083953            0.607605   \n",
       "\n",
       "        ...  valley_close_score  valley_rsi_score  day_open_var  \\\n",
       "0       ...            0.547641         -0.895897     -0.872479   \n",
       "1       ...            1.142128          1.640766     -0.641029   \n",
       "2       ...            0.207108         -0.347157      0.386351   \n",
       "3       ...           -0.547853         -0.438001      0.723485   \n",
       "4       ...           -0.027120         -1.061548      0.953650   \n",
       "...     ...                 ...               ...           ...   \n",
       "194041  ...            0.029356          0.766162      0.038764   \n",
       "194042  ...           -0.586945          2.033710      0.026174   \n",
       "194043  ...           -0.603960         -0.591346      0.534807   \n",
       "194044  ...           -0.474226          1.683347      0.262865   \n",
       "194045  ...           -0.461543         -0.482746      0.982268   \n",
       "\n",
       "        open_from_prev_close_var  ceil_var  floor_var  weekday_1  weekday_2  \\\n",
       "0                      -0.305116 -0.537552  -0.440533          0          0   \n",
       "1                      -0.305116 -0.256468   0.028325          0          0   \n",
       "2                       0.708767 -0.324147  -0.510858          0          0   \n",
       "3                       0.626493  0.542039  -0.195462          0          0   \n",
       "4                       0.474716  0.432582   0.495050          0          0   \n",
       "...                          ...       ...        ...        ...        ...   \n",
       "194041                 -0.236524  0.708005  -0.510858          0          0   \n",
       "194042                 -0.236524  0.692675  -0.510858          0          0   \n",
       "194043                 -0.236524  1.098347   0.497758          0          0   \n",
       "194044                 -0.236524  0.768530  -0.041502          0          0   \n",
       "194045                  0.135963  0.670276   0.311555          0          0   \n",
       "\n",
       "        weekday_3  weekday_4  \n",
       "0               0          0  \n",
       "1               0          0  \n",
       "2               0          0  \n",
       "3               0          0  \n",
       "4               0          0  \n",
       "...           ...        ...  \n",
       "194041          1          0  \n",
       "194042          1          0  \n",
       "194043          1          0  \n",
       "194044          1          0  \n",
       "194045          1          0  \n",
       "\n",
       "[194046 rows x 24 columns]"
      ]
     },
     "execution_count": 152,
     "metadata": {},
     "output_type": "execute_result"
    }
   ],
   "source": [
    "X_train"
   ]
  },
  {
   "cell_type": "markdown",
   "metadata": {},
   "source": [
    "### -------------- baseline --------------------"
   ]
  },
  {
   "cell_type": "code",
   "execution_count": 153,
   "metadata": {},
   "outputs": [],
   "source": [
    "from sklearn.model_selection import GridSearchCV"
   ]
  },
  {
   "cell_type": "code",
   "execution_count": 154,
   "metadata": {},
   "outputs": [],
   "source": [
    "model_LR = LogisticRegression()"
   ]
  },
  {
   "cell_type": "code",
   "execution_count": 122,
   "metadata": {},
   "outputs": [],
   "source": [
    "params = {'penalty': ['l1', 'l2', 'elasticnet'], 'C': [0.00001, 0.001, 0.1]}"
   ]
  },
  {
   "cell_type": "code",
   "execution_count": 123,
   "metadata": {},
   "outputs": [],
   "source": [
    "gs_LR = GridSearchCV(estimator=model_LR, param_grid=params, cv=3, n_jobs=-1)"
   ]
  },
  {
   "cell_type": "code",
   "execution_count": 124,
   "metadata": {},
   "outputs": [
    {
     "name": "stdout",
     "output_type": "stream",
     "text": [
      "CPU times: user 3.9 s, sys: 208 ms, total: 4.1 s\n",
      "Wall time: 3.79 s\n"
     ]
    },
    {
     "data": {
      "text/plain": [
       "GridSearchCV(cv=3, estimator=LogisticRegression(), n_jobs=-1,\n",
       "             param_grid={'C': [1e-05, 0.001, 0.1],\n",
       "                         'penalty': ['l1', 'l2', 'elasticnet']})"
      ]
     },
     "execution_count": 124,
     "metadata": {},
     "output_type": "execute_result"
    }
   ],
   "source": [
    "%%time\n",
    "gs_LR.fit(X_train, y_train)"
   ]
  },
  {
   "cell_type": "code",
   "execution_count": 125,
   "metadata": {},
   "outputs": [
    {
     "data": {
      "text/plain": [
       "{'C': 0.001, 'penalty': 'l2'}"
      ]
     },
     "execution_count": 125,
     "metadata": {},
     "output_type": "execute_result"
    }
   ],
   "source": [
    "gs_LR.best_params_"
   ]
  },
  {
   "cell_type": "code",
   "execution_count": 155,
   "metadata": {},
   "outputs": [],
   "source": [
    "model_LR = LogisticRegression(C=0.001, penalty='l2')"
   ]
  },
  {
   "cell_type": "code",
   "execution_count": 156,
   "metadata": {},
   "outputs": [
    {
     "data": {
      "text/plain": [
       "LogisticRegression(C=0.001)"
      ]
     },
     "execution_count": 156,
     "metadata": {},
     "output_type": "execute_result"
    }
   ],
   "source": [
    "model_LR.fit(X_train, y_train)"
   ]
  },
  {
   "cell_type": "code",
   "execution_count": 157,
   "metadata": {},
   "outputs": [],
   "source": [
    "y_pred_train = model_LR.predict(X_train)"
   ]
  },
  {
   "cell_type": "code",
   "execution_count": 158,
   "metadata": {},
   "outputs": [
    {
     "name": "stdout",
     "output_type": "stream",
     "text": [
      "accuracy: 0.6903002380878761\n",
      "MSE: 0.30969976191212395\n",
      "MAE: 0.30969976191212395\n",
      "f1 score: 0.5005485189987035\n",
      "precision score: 0.6541828688115048\n",
      "recall score: 0.4053519268821257\n"
     ]
    }
   ],
   "source": [
    "print_metrics(y_train, y_pred_LR)"
   ]
  },
  {
   "cell_type": "code",
   "execution_count": 159,
   "metadata": {},
   "outputs": [
    {
     "data": {
      "image/png": "[encoded data removed]",
      "text/plain": [
       "<Figure size 432x288 with 1 Axes>"
      ]
     },
     "metadata": {
      "needs_background": "light"
     },
     "output_type": "display_data"
    }
   ],
   "source": [
    "plot_roc_auc(y_train, model_LR.predict_proba(X_train)[:, 1], title='Train')"
   ]
  },
  {
   "cell_type": "code",
   "execution_count": 160,
   "metadata": {},
   "outputs": [],
   "source": [
    "X_test[columns_numeric] = scaler.transform(X_test[columns_numeric])"
   ]
  },
  {
   "cell_type": "code",
   "execution_count": 161,
   "metadata": {},
   "outputs": [],
   "source": [
    "y_pred_LR_test = model_LR.predict(X_test)"
   ]
  },
  {
   "cell_type": "code",
   "execution_count": 162,
   "metadata": {},
   "outputs": [
    {
     "name": "stdout",
     "output_type": "stream",
     "text": [
      "accuracy: 0.7110987431009693\n",
      "MSE: 0.2889012568990307\n",
      "MAE: 0.2889012568990307\n",
      "f1 score: 0.5111570356031078\n",
      "precision score: 0.6618344397778079\n",
      "recall score: 0.4163647986362668\n"
     ]
    }
   ],
   "source": [
    "print_metrics(y_test, y_pred_LR_test)"
   ]
  },
  {
   "cell_type": "code",
   "execution_count": 163,
   "metadata": {},
   "outputs": [
    {
     "data": {
      "image/png": "[encoded data removed]",
      "text/plain": [
       "<Figure size 432x288 with 1 Axes>"
      ]
     },
     "metadata": {
      "needs_background": "light"
     },
     "output_type": "display_data"
    }
   ],
   "source": [
    "plot_roc_auc(y_test, model_LR.predict_proba(X_test)[:, 1], title='TEST')"
   ]
  },
  {
   "cell_type": "code",
   "execution_count": 164,
   "metadata": {},
   "outputs": [
    {
     "data": {
      "text/plain": [
       "{'C': 0.001,\n",
       " 'class_weight': None,\n",
       " 'dual': False,\n",
       " 'fit_intercept': True,\n",
       " 'intercept_scaling': 1,\n",
       " 'l1_ratio': None,\n",
       " 'max_iter': 100,\n",
       " 'multi_class': 'auto',\n",
       " 'n_jobs': None,\n",
       " 'penalty': 'l2',\n",
       " 'random_state': None,\n",
       " 'solver': 'lbfgs',\n",
       " 'tol': 0.0001,\n",
       " 'verbose': 0,\n",
       " 'warm_start': False}"
      ]
     },
     "execution_count": 164,
     "metadata": {},
     "output_type": "execute_result"
    }
   ],
   "source": [
    "model_LR.get_params()"
   ]
  },
  {
   "cell_type": "markdown",
   "metadata": {},
   "source": [
    "### -------------SVC--------------------"
   ]
  },
  {
   "cell_type": "code",
   "execution_count": 165,
   "metadata": {},
   "outputs": [],
   "source": [
    "from sklearn.svm import SVC"
   ]
  },
  {
   "cell_type": "code",
   "execution_count": 166,
   "metadata": {},
   "outputs": [],
   "source": [
    "model_svc = SVC()"
   ]
  },
  {
   "cell_type": "code",
   "execution_count": 174,
   "metadata": {},
   "outputs": [],
   "source": [
    "params_grid = {'kernel': ['linear', 'rbf'], 'C': [0.0001, 0.01, 1.0, 10.0, 100.0]}"
   ]
  },
  {
   "cell_type": "code",
   "execution_count": 175,
   "metadata": {},
   "outputs": [],
   "source": [
    "svr = GridSearchCV(estimator=model_svc, param_grid=params_grid, cv=3, n_jobs=-1)"
   ]
  },
  {
   "cell_type": "code",
   "execution_count": 181,
   "metadata": {},
   "outputs": [
    {
     "name": "stdout",
     "output_type": "stream",
     "text": [
      "CPU times: user 3min 6s, sys: 436 ms, total: 3min 6s\n",
      "Wall time: 6min 45s\n"
     ]
    },
    {
     "data": {
      "text/plain": [
       "GridSearchCV(cv=3, estimator=SVC(), n_jobs=-1,\n",
       "             param_grid={'kernel': ['linear', 'rbf']})"
      ]
     },
     "execution_count": 181,
     "metadata": {},
     "output_type": "execute_result"
    }
   ],
   "source": [
    "%%time\n",
    "svr.fit(X_train_short, y_train_short)\n",
    "#model_svc.fit(X_train, y_train)"
   ]
  },
  {
   "cell_type": "code",
   "execution_count": 182,
   "metadata": {},
   "outputs": [
    {
     "data": {
      "text/plain": [
       "GridSearchCV(cv=3, estimator=SVC(), n_jobs=-1,\n",
       "             param_grid={'kernel': ['linear', 'rbf']})"
      ]
     },
     "execution_count": 182,
     "metadata": {},
     "output_type": "execute_result"
    }
   ],
   "source": [
    "svr"
   ]
  },
  {
   "cell_type": "code",
   "execution_count": 183,
   "metadata": {},
   "outputs": [
    {
     "data": {
      "text/plain": [
       "{'kernel': 'rbf'}"
      ]
     },
     "execution_count": 183,
     "metadata": {},
     "output_type": "execute_result"
    }
   ],
   "source": [
    "svr.best_params_"
   ]
  },
  {
   "cell_type": "code",
   "execution_count": 186,
   "metadata": {},
   "outputs": [],
   "source": [
    "model_svc = SVC(kernel='rbf', random_state=42)"
   ]
  },
  {
   "cell_type": "code",
   "execution_count": 167,
   "metadata": {},
   "outputs": [],
   "source": [
    "params_grid = {'kernel': ['linear', 'rbf', 'ply'], 'C': [0.0001, 0.01, 1.0, 10.0, 100.0], \n",
    "               \"gamma\": [0.001, 1, 1.5, 2.0, 2.5, 3.0, 3.5, 5.0, 10.0, 100.0]}"
   ]
  },
  {
   "cell_type": "code",
   "execution_count": 168,
   "metadata": {},
   "outputs": [],
   "source": [
    "svr = GridSearchCV(estimator=model_svc, param_grid=params_grid, cv=3, n_jobs=-1)"
   ]
  },
  {
   "cell_type": "code",
   "execution_count": 169,
   "metadata": {},
   "outputs": [
    {
     "data": {
      "text/plain": [
       "GridSearchCV(cv=3, estimator=SVC(), n_jobs=-1,\n",
       "             param_grid={'C': [0.0001, 0.01, 1.0, 10.0, 100.0],\n",
       "                         'gamma': [0.001, 1, 1.5, 2.0, 2.5, 3.0, 3.5, 5.0, 10.0,\n",
       "                                   100.0],\n",
       "                         'kernel': ['linear', 'rbf', 'ply']})"
      ]
     },
     "execution_count": 169,
     "metadata": {},
     "output_type": "execute_result"
    }
   ],
   "source": [
    "svr"
   ]
  },
  {
   "cell_type": "code",
   "execution_count": 190,
   "metadata": {},
   "outputs": [
    {
     "name": "stdout",
     "output_type": "stream",
     "text": [
      "CPU times: user 2min 58s, sys: 424 ms, total: 2min 58s\n",
      "Wall time: 27min 43s\n"
     ]
    },
    {
     "data": {
      "text/plain": [
       "GridSearchCV(cv=3, estimator=SVC(random_state=42), n_jobs=-1,\n",
       "             param_grid={'C': [0.0001, 0.01, 1, 10, 100]})"
      ]
     },
     "execution_count": 190,
     "metadata": {},
     "output_type": "execute_result"
    }
   ],
   "source": [
    "%%time\n",
    "svr.fit(X_train_short, y_train_short)"
   ]
  },
  {
   "cell_type": "code",
   "execution_count": 191,
   "metadata": {},
   "outputs": [
    {
     "data": {
      "text/plain": [
       "{'C': 1}"
      ]
     },
     "execution_count": 191,
     "metadata": {},
     "output_type": "execute_result"
    }
   ],
   "source": [
    "svr.best_params_"
   ]
  },
  {
   "cell_type": "code",
   "execution_count": 194,
   "metadata": {},
   "outputs": [],
   "source": [
    "model_svc = SVC(kernel='rbf', C=1.0, random_state=42)"
   ]
  },
  {
   "cell_type": "code",
   "execution_count": 198,
   "metadata": {},
   "outputs": [],
   "source": [
    "params_grid = {\"gamma\": [-100.0, -10.0, 1.0, 10.0, 100.0]}"
   ]
  },
  {
   "cell_type": "code",
   "execution_count": 199,
   "metadata": {},
   "outputs": [],
   "source": [
    "svr = GridSearchCV(estimator=model_svc, param_grid=params_grid, cv=3, n_jobs=-1)"
   ]
  },
  {
   "cell_type": "code",
   "execution_count": 200,
   "metadata": {},
   "outputs": [
    {
     "data": {
      "text/plain": [
       "GridSearchCV(cv=3, estimator=SVC(random_state=42), n_jobs=-1,\n",
       "             param_grid={'gamma': [-100.0, -10.0, 1.0, 10.0, 100.0]})"
      ]
     },
     "execution_count": 200,
     "metadata": {},
     "output_type": "execute_result"
    }
   ],
   "source": [
    "svr"
   ]
  },
  {
   "cell_type": "code",
   "execution_count": 201,
   "metadata": {},
   "outputs": [
    {
     "name": "stdout",
     "output_type": "stream",
     "text": [
      "CPU times: user 6min 50s, sys: 408 ms, total: 6min 50s\n",
      "Wall time: 16min 30s\n"
     ]
    },
    {
     "data": {
      "text/plain": [
       "GridSearchCV(cv=3, estimator=SVC(random_state=42), n_jobs=-1,\n",
       "             param_grid={'gamma': [-100.0, -10.0, 1.0, 10.0, 100.0]})"
      ]
     },
     "execution_count": 201,
     "metadata": {},
     "output_type": "execute_result"
    }
   ],
   "source": [
    "%%time\n",
    "svr.fit(X_train_short, y_train_short)"
   ]
  },
  {
   "cell_type": "code",
   "execution_count": 202,
   "metadata": {},
   "outputs": [
    {
     "data": {
      "text/plain": [
       "{'gamma': 10.0}"
      ]
     },
     "execution_count": 202,
     "metadata": {},
     "output_type": "execute_result"
    }
   ],
   "source": [
    "svr.best_params_"
   ]
  },
  {
   "cell_type": "code",
   "execution_count": 215,
   "metadata": {},
   "outputs": [
    {
     "data": {
      "text/plain": [
       "GridSearchCV(cv=3, estimator=SVC(random_state=42), n_jobs=-1,\n",
       "             param_grid={'gamma': [1.5, 2.0, 2.5, 3.0]})"
      ]
     },
     "execution_count": 215,
     "metadata": {},
     "output_type": "execute_result"
    }
   ],
   "source": [
    "model_svc = SVC(kernel='rbf', C=1.0, random_state=42)\n",
    "\n",
    "params_grid = {\"gamma\": [1.5, 2.0, 2.5, 3.0]}\n",
    "\n",
    "svr = GridSearchCV(estimator=model_svc, param_grid=params_grid, cv=3, n_jobs=-1)\n",
    "\n",
    "svr"
   ]
  },
  {
   "cell_type": "code",
   "execution_count": 216,
   "metadata": {},
   "outputs": [
    {
     "name": "stdout",
     "output_type": "stream",
     "text": [
      "CPU times: user 7min 11s, sys: 544 ms, total: 7min 11s\n",
      "Wall time: 21min 28s\n"
     ]
    },
    {
     "data": {
      "text/plain": [
       "GridSearchCV(cv=3, estimator=SVC(random_state=42), n_jobs=-1,\n",
       "             param_grid={'gamma': [1.5, 2.0, 2.5, 3.0]})"
      ]
     },
     "execution_count": 216,
     "metadata": {},
     "output_type": "execute_result"
    }
   ],
   "source": [
    "%%time\n",
    "svr.fit(X_train_short, y_train_short)"
   ]
  },
  {
   "cell_type": "code",
   "execution_count": 217,
   "metadata": {},
   "outputs": [
    {
     "data": {
      "text/plain": [
       "{'gamma': 2.5}"
      ]
     },
     "execution_count": 217,
     "metadata": {},
     "output_type": "execute_result"
    }
   ],
   "source": [
    "svr.best_params_"
   ]
  },
  {
   "cell_type": "markdown",
   "metadata": {},
   "source": [
    "#### model svc -> kerner = rbf , C = 1.0, gamma = 2.5"
   ]
  },
  {
   "cell_type": "code",
   "execution_count": null,
   "metadata": {},
   "outputs": [],
   "source": []
  },
  {
   "cell_type": "code",
   "execution_count": null,
   "metadata": {},
   "outputs": [],
   "source": []
  },
  {
   "cell_type": "code",
   "execution_count": null,
   "metadata": {},
   "outputs": [],
   "source": []
  },
  {
   "cell_type": "code",
   "execution_count": 74,
   "metadata": {},
   "outputs": [],
   "source": [
    "y_pred_train = svr.predict(X_train)"
   ]
  },
  {
   "cell_type": "code",
   "execution_count": 75,
   "metadata": {},
   "outputs": [
    {
     "name": "stdout",
     "output_type": "stream",
     "text": [
      "accuracy: 0.7078940045143935\n",
      "MSE: 0.2921059954856065\n",
      "MAE: 0.2921059954856065\n",
      "f1 score: 0.5354162910020818\n",
      "precision score: 0.6845226867861259\n",
      "recall score: 0.4396494864788467\n"
     ]
    }
   ],
   "source": [
    "print_metrics(y_train, y_pred_train)"
   ]
  },
  {
   "cell_type": "code",
   "execution_count": 76,
   "metadata": {},
   "outputs": [],
   "source": [
    "y_pred_test = svr.predict(X_test)"
   ]
  },
  {
   "cell_type": "code",
   "execution_count": 78,
   "metadata": {},
   "outputs": [
    {
     "name": "stdout",
     "output_type": "stream",
     "text": [
      "accuracy: 0.7132322248504244\n",
      "MSE: 0.28676777514957563\n",
      "MAE: 0.28676777514957563\n",
      "f1 score: 0.5254189586798004\n",
      "precision score: 0.6573623559539052\n",
      "recall score: 0.43758789686767524\n"
     ]
    }
   ],
   "source": [
    "print_metrics(y_test, y_pred_test)"
   ]
  },
  {
   "cell_type": "code",
   "execution_count": null,
   "metadata": {},
   "outputs": [],
   "source": [
    "plot_roc_auc(y_test, svr.predict_proba(X_test)[:, 1], title='TEST')"
   ]
  },
  {
   "cell_type": "code",
   "execution_count": 79,
   "metadata": {},
   "outputs": [
    {
     "data": {
      "text/plain": [
       "{'kernel': 'rbf'}"
      ]
     },
     "execution_count": 79,
     "metadata": {},
     "output_type": "execute_result"
    }
   ],
   "source": [
    "svr.best_params_"
   ]
  },
  {
   "cell_type": "code",
   "execution_count": 177,
   "metadata": {},
   "outputs": [],
   "source": [
    "index = X_train.index"
   ]
  },
  {
   "cell_type": "code",
   "execution_count": 178,
   "metadata": {},
   "outputs": [],
   "source": [
    "index_short = [i for i in index[::5]]"
   ]
  },
  {
   "cell_type": "code",
   "execution_count": 179,
   "metadata": {},
   "outputs": [],
   "source": [
    "X_train_short = X_train.loc[index_short]"
   ]
  },
  {
   "cell_type": "code",
   "execution_count": 180,
   "metadata": {},
   "outputs": [],
   "source": [
    "y_train_short = y_train[index_short]"
   ]
  },
  {
   "cell_type": "code",
   "execution_count": 84,
   "metadata": {},
   "outputs": [],
   "source": [
    "params = {'C': [0.001, 0.1, 1, 10, 100]}"
   ]
  },
  {
   "cell_type": "code",
   "execution_count": 85,
   "metadata": {},
   "outputs": [],
   "source": [
    "model_svc = SVC(kernel='rbf')"
   ]
  },
  {
   "cell_type": "code",
   "execution_count": 101,
   "metadata": {},
   "outputs": [],
   "source": [
    "gsv = GridSearchCV(estimator=model_svc, param_grid=params, cv=3, n_jobs=-1)"
   ]
  },
  {
   "cell_type": "code",
   "execution_count": 87,
   "metadata": {},
   "outputs": [
    {
     "name": "stdout",
     "output_type": "stream",
     "text": [
      "CPU times: user 2min 27s, sys: 284 ms, total: 2min 28s\n",
      "Wall time: 22min 45s\n"
     ]
    },
    {
     "data": {
      "text/plain": [
       "GridSearchCV(cv=3, estimator=SVC(), n_jobs=-1,\n",
       "             param_grid={'C': [0.001, 0.1, 1, 10, 100]})"
      ]
     },
     "execution_count": 87,
     "metadata": {},
     "output_type": "execute_result"
    }
   ],
   "source": [
    "%%time\n",
    "gsv.fit(X_train_short, y_train_short)"
   ]
  },
  {
   "cell_type": "code",
   "execution_count": 115,
   "metadata": {},
   "outputs": [
    {
     "data": {
      "text/plain": [
       "((64682,), (64682, 24))"
      ]
     },
     "execution_count": 115,
     "metadata": {},
     "output_type": "execute_result"
    }
   ],
   "source": [
    "y_train_short.shape, X_train_short.shape"
   ]
  },
  {
   "cell_type": "code",
   "execution_count": 102,
   "metadata": {},
   "outputs": [
    {
     "ename": "AttributeError",
     "evalue": "'GridSearchCV' object has no attribute 'best_params_'",
     "output_type": "error",
     "traceback": [
      "\u001b[0;31m---------------------------------------------------------------------------\u001b[0m",
      "\u001b[0;31mAttributeError\u001b[0m                            Traceback (most recent call last)",
      "\u001b[0;32m<ipython-input-102-f52a750a6dab>\u001b[0m in \u001b[0;36m<module>\u001b[0;34m\u001b[0m\n\u001b[0;32m----> 1\u001b[0;31m \u001b[0mgsv\u001b[0m\u001b[0;34m.\u001b[0m\u001b[0mbest_params_\u001b[0m\u001b[0;34m\u001b[0m\u001b[0;34m\u001b[0m\u001b[0m\n\u001b[0m",
      "\u001b[0;31mAttributeError\u001b[0m: 'GridSearchCV' object has no attribute 'best_params_'"
     ]
    }
   ],
   "source": [
    "gsv.best_params_"
   ]
  },
  {
   "cell_type": "code",
   "execution_count": 94,
   "metadata": {},
   "outputs": [],
   "source": [
    "model_svc = SVC(kernel='rbf', C=1.0)"
   ]
  },
  {
   "cell_type": "code",
   "execution_count": 87,
   "metadata": {},
   "outputs": [],
   "source": [
    "params = {'gamma': [0.001, 0.1, 1, 10, 100, 1000]}"
   ]
  },
  {
   "cell_type": "code",
   "execution_count": 95,
   "metadata": {},
   "outputs": [],
   "source": [
    "gsv = GridSearchCV(estimator=model_svc, param_grid=params, cv=3, n_jobs=-1)"
   ]
  },
  {
   "cell_type": "code",
   "execution_count": 97,
   "metadata": {},
   "outputs": [
    {
     "name": "stdout",
     "output_type": "stream",
     "text": [
      "CPU times: user 3min 3s, sys: 128 ms, total: 3min 3s\n",
      "Wall time: 3min 3s\n"
     ]
    },
    {
     "data": {
      "text/plain": [
       "SVC()"
      ]
     },
     "execution_count": 97,
     "metadata": {},
     "output_type": "execute_result"
    }
   ],
   "source": [
    "%%time\n",
    "model_svc.fit(X_train_short, y_train_short)"
   ]
  },
  {
   "cell_type": "code",
   "execution_count": 96,
   "metadata": {},
   "outputs": [
    {
     "data": {
      "text/plain": [
       "GridSearchCV(cv=3, estimator=SVC(), n_jobs=-1,\n",
       "             param_grid={'gamma': [0.001, 0.1, 1, 10, 100, 1000]})"
      ]
     },
     "execution_count": 96,
     "metadata": {},
     "output_type": "execute_result"
    }
   ],
   "source": [
    "gsv"
   ]
  },
  {
   "cell_type": "code",
   "execution_count": 218,
   "metadata": {},
   "outputs": [
    {
     "ename": "AttributeError",
     "evalue": "'GridSearchCV' object has no attribute 'get_params_'",
     "output_type": "error",
     "traceback": [
      "\u001b[0;31m-----------------------------------------------------------------------\u001b[0m",
      "\u001b[0;31mAttributeError\u001b[0m                        Traceback (most recent call last)",
      "\u001b[0;32m<ipython-input-218-86efb9d0e5e3>\u001b[0m in \u001b[0;36m<module>\u001b[0;34m\u001b[0m\n\u001b[0;32m----> 1\u001b[0;31m \u001b[0mgsv\u001b[0m\u001b[0;34m.\u001b[0m\u001b[0mget_params_\u001b[0m\u001b[0;34m\u001b[0m\u001b[0;34m\u001b[0m\u001b[0m\n\u001b[0m",
      "\u001b[0;31mAttributeError\u001b[0m: 'GridSearchCV' object has no attribute 'get_params_'"
     ]
    }
   ],
   "source": [
    "gsv.get_params_"
   ]
  },
  {
   "cell_type": "code",
   "execution_count": null,
   "metadata": {},
   "outputs": [],
   "source": []
  },
  {
   "cell_type": "code",
   "execution_count": null,
   "metadata": {},
   "outputs": [],
   "source": []
  },
  {
   "cell_type": "code",
   "execution_count": null,
   "metadata": {},
   "outputs": [],
   "source": [
    "y_pred = model_svc.predict(X_train)"
   ]
  },
  {
   "cell_type": "code",
   "execution_count": null,
   "metadata": {},
   "outputs": [],
   "source": [
    "print_metrics(y_train, y_pred)"
   ]
  },
  {
   "cell_type": "code",
   "execution_count": null,
   "metadata": {},
   "outputs": [],
   "source": []
  },
  {
   "cell_type": "code",
   "execution_count": 7,
   "metadata": {},
   "outputs": [],
   "source": [
    "a = np.c_[1:5]\n",
    "b = np.c_[10:50:10]"
   ]
  },
  {
   "cell_type": "code",
   "execution_count": 9,
   "metadata": {},
   "outputs": [
    {
     "data": {
      "text/plain": [
       "189.6875"
      ]
     },
     "execution_count": 9,
     "metadata": {},
     "output_type": "execute_result"
    }
   ],
   "source": [
    "np.c_[a, b].var()"
   ]
  },
  {
   "cell_type": "code",
   "execution_count": null,
   "metadata": {},
   "outputs": [],
   "source": []
  },
  {
   "cell_type": "code",
   "execution_count": null,
   "metadata": {},
   "outputs": [],
   "source": []
  },
  {
   "cell_type": "code",
   "execution_count": null,
   "metadata": {},
   "outputs": [],
   "source": []
  },
  {
   "cell_type": "code",
   "execution_count": null,
   "metadata": {},
   "outputs": [],
   "source": []
  },
  {
   "cell_type": "code",
   "execution_count": null,
   "metadata": {},
   "outputs": [],
   "source": []
  },
  {
   "cell_type": "code",
   "execution_count": 87,
   "metadata": {},
   "outputs": [
    {
     "ename": "NameError",
     "evalue": "name 'index_train' is not defined",
     "output_type": "error",
     "traceback": [
      "\u001b[0;31m---------------------------------------------------------------------------\u001b[0m",
      "\u001b[0;31mNameError\u001b[0m                                 Traceback (most recent call last)",
      "\u001b[0;32m<ipython-input-87-6f0653018511>\u001b[0m in \u001b[0;36m<module>\u001b[0;34m\u001b[0m\n\u001b[0;32m----> 1\u001b[0;31m \u001b[0mindex_short_train\u001b[0m \u001b[0;34m=\u001b[0m \u001b[0mnp\u001b[0m\u001b[0;34m.\u001b[0m\u001b[0mrandom\u001b[0m\u001b[0;34m.\u001b[0m\u001b[0mchoice\u001b[0m\u001b[0;34m(\u001b[0m\u001b[0mindex_train\u001b[0m\u001b[0;34m,\u001b[0m \u001b[0;36m20000\u001b[0m\u001b[0;34m)\u001b[0m\u001b[0;34m\u001b[0m\u001b[0;34m\u001b[0m\u001b[0m\n\u001b[0m",
      "\u001b[0;31mNameError\u001b[0m: name 'index_train' is not defined"
     ]
    }
   ],
   "source": [
    "index_short_train = np.random.choice(index_train, 20000)"
   ]
  },
  {
   "cell_type": "code",
   "execution_count": 88,
   "metadata": {},
   "outputs": [
    {
     "data": {
      "text/plain": [
       "20000"
      ]
     },
     "execution_count": 88,
     "metadata": {},
     "output_type": "execute_result"
    }
   ],
   "source": [
    "len(index_short_train)"
   ]
  },
  {
   "cell_type": "code",
   "execution_count": 89,
   "metadata": {},
   "outputs": [],
   "source": [
    "X_train_short = X_train.loc[index_short_train]"
   ]
  },
  {
   "cell_type": "code",
   "execution_count": 90,
   "metadata": {},
   "outputs": [],
   "source": [
    "X_train_short.sort_index(inplace=True)"
   ]
  },
  {
   "cell_type": "code",
   "execution_count": 91,
   "metadata": {},
   "outputs": [],
   "source": [
    "y_train_short = y_train.loc[index_short_train]"
   ]
  },
  {
   "cell_type": "code",
   "execution_count": 92,
   "metadata": {},
   "outputs": [],
   "source": [
    "y_train_short.sort_index(inplace=True)"
   ]
  },
  {
   "cell_type": "code",
   "execution_count": 93,
   "metadata": {},
   "outputs": [
    {
     "data": {
      "text/plain": [
       "20000"
      ]
     },
     "execution_count": 93,
     "metadata": {},
     "output_type": "execute_result"
    }
   ],
   "source": [
    "np.sum(y_train_short.index == X_train_short.index)"
   ]
  },
  {
   "cell_type": "code",
   "execution_count": 94,
   "metadata": {},
   "outputs": [
    {
     "data": {
      "text/plain": [
       "<matplotlib.axes._subplots.AxesSubplot at 0x7f3b9d67add8>"
      ]
     },
     "execution_count": 94,
     "metadata": {},
     "output_type": "execute_result"
    },
    {
     "data": {
      "image/png": "[encoded data removed]",
      "text/plain": [
       "<Figure size 432x288 with 1 Axes>"
      ]
     },
     "metadata": {
      "needs_background": "light"
     },
     "output_type": "display_data"
    }
   ],
   "source": [
    "sns.countplot(y_train_short)"
   ]
  },
  {
   "cell_type": "code",
   "execution_count": null,
   "metadata": {},
   "outputs": [],
   "source": []
  },
  {
   "cell_type": "code",
   "execution_count": null,
   "metadata": {},
   "outputs": [],
   "source": []
  },
  {
   "cell_type": "code",
   "execution_count": null,
   "metadata": {},
   "outputs": [],
   "source": []
  },
  {
   "cell_type": "code",
   "execution_count": 132,
   "metadata": {},
   "outputs": [],
   "source": [
    "model_svc = SVC()"
   ]
  },
  {
   "cell_type": "code",
   "execution_count": 130,
   "metadata": {},
   "outputs": [
    {
     "name": "stdout",
     "output_type": "stream",
     "text": [
      "CPU times: user 29.4 s, sys: 96 ms, total: 29.5 s\n",
      "Wall time: 29.5 s\n"
     ]
    },
    {
     "data": {
      "text/plain": [
       "SVC()"
      ]
     },
     "execution_count": 130,
     "metadata": {},
     "output_type": "execute_result"
    }
   ],
   "source": [
    "%%time\n",
    "model_svc.fit(X_train_short, y_train_short)"
   ]
  },
  {
   "cell_type": "code",
   "execution_count": 120,
   "metadata": {},
   "outputs": [],
   "source": [
    "y_pred = model_svc.predict(X_test)"
   ]
  },
  {
   "cell_type": "code",
   "execution_count": 121,
   "metadata": {},
   "outputs": [
    {
     "data": {
      "text/plain": [
       "0.36276919747074193"
      ]
     },
     "execution_count": 121,
     "metadata": {},
     "output_type": "execute_result"
    }
   ],
   "source": [
    "accuracy_score(y_test, y_pred)"
   ]
  },
  {
   "cell_type": "code",
   "execution_count": 158,
   "metadata": {},
   "outputs": [],
   "source": [
    "x = ds.sort_index().index\n",
    "y = range(len(x))"
   ]
  },
  {
   "cell_type": "code",
   "execution_count": 159,
   "metadata": {},
   "outputs": [
    {
     "data": {
      "image/png": "[encoded data removed]",
      "text/plain": [
       "<Figure size 432x288 with 1 Axes>"
      ]
     },
     "metadata": {
      "needs_background": "light"
     },
     "output_type": "display_data"
    }
   ],
   "source": [
    "plt.plot(x, y);"
   ]
  },
  {
   "cell_type": "code",
   "execution_count": 164,
   "metadata": {},
   "outputs": [],
   "source": [
    "index_for_short = [v for v in x[::10]]\n",
    "X_train_short = ds.loc[index_for_short]"
   ]
  },
  {
   "cell_type": "code",
   "execution_count": 165,
   "metadata": {},
   "outputs": [
    {
     "data": {
      "text/html": [
       "<div>\n",
       "<style scoped>\n",
       "    .dataframe tbody tr th:only-of-type {\n",
       "        vertical-align: middle;\n",
       "    }\n",
       "\n",
       "    .dataframe tbody tr th {\n",
       "        vertical-align: top;\n",
       "    }\n",
       "\n",
       "    .dataframe thead th {\n",
       "        text-align: right;\n",
       "    }\n",
       "</style>\n",
       "<table border=\"1\" class=\"dataframe\">\n",
       "  <thead>\n",
       "    <tr style=\"text-align: right;\">\n",
       "      <th></th>\n",
       "      <th>is_profit</th>\n",
       "      <th>sym</th>\n",
       "      <th>datetime</th>\n",
       "      <th>rsi14</th>\n",
       "      <th>sma9_var</th>\n",
       "      <th>sma180_var</th>\n",
       "      <th>vwap_var</th>\n",
       "      <th>spread14_e</th>\n",
       "      <th>volume14_34_var</th>\n",
       "      <th>prev_close_var</th>\n",
       "      <th>...</th>\n",
       "      <th>prev2_candle_score</th>\n",
       "      <th>prev3_candle_score</th>\n",
       "      <th>mins_from_start</th>\n",
       "      <th>valley_interval_mins</th>\n",
       "      <th>valley_close_score</th>\n",
       "      <th>valley_rsi_score</th>\n",
       "      <th>day_open_var</th>\n",
       "      <th>open_from_prev_close_var</th>\n",
       "      <th>ceil_var</th>\n",
       "      <th>floor_var</th>\n",
       "    </tr>\n",
       "  </thead>\n",
       "  <tbody>\n",
       "    <tr>\n",
       "      <th>0</th>\n",
       "      <td>True</td>\n",
       "      <td>MGNX</td>\n",
       "      <td>2020-11-02 11:13:00</td>\n",
       "      <td>30.509761</td>\n",
       "      <td>-0.006223</td>\n",
       "      <td>-0.022679</td>\n",
       "      <td>-0.017526</td>\n",
       "      <td>0.000620</td>\n",
       "      <td>-0.006472</td>\n",
       "      <td>-0.037037</td>\n",
       "      <td>...</td>\n",
       "      <td>0.000000</td>\n",
       "      <td>0.000000</td>\n",
       "      <td>103.0</td>\n",
       "      <td>50.0</td>\n",
       "      <td>0.425532</td>\n",
       "      <td>0.758046</td>\n",
       "      <td>-0.032058</td>\n",
       "      <td>-0.005144</td>\n",
       "      <td>-0.034554</td>\n",
       "      <td>0.000802</td>\n",
       "    </tr>\n",
       "    <tr>\n",
       "      <th>10</th>\n",
       "      <td>True</td>\n",
       "      <td>BLNK</td>\n",
       "      <td>2020-11-02 14:11:00</td>\n",
       "      <td>45.629119</td>\n",
       "      <td>-0.001515</td>\n",
       "      <td>-0.013328</td>\n",
       "      <td>-0.015379</td>\n",
       "      <td>0.000450</td>\n",
       "      <td>0.276878</td>\n",
       "      <td>0.018084</td>\n",
       "      <td>...</td>\n",
       "      <td>0.000000</td>\n",
       "      <td>-0.001261</td>\n",
       "      <td>281.0</td>\n",
       "      <td>58.0</td>\n",
       "      <td>0.553183</td>\n",
       "      <td>15.230913</td>\n",
       "      <td>-0.024661</td>\n",
       "      <td>0.043825</td>\n",
       "      <td>-0.030637</td>\n",
       "      <td>0.003807</td>\n",
       "    </tr>\n",
       "    <tr>\n",
       "      <th>20</th>\n",
       "      <td>False</td>\n",
       "      <td>SMAR</td>\n",
       "      <td>2020-11-02 13:11:00</td>\n",
       "      <td>32.521222</td>\n",
       "      <td>-0.001613</td>\n",
       "      <td>-0.013340</td>\n",
       "      <td>-0.014689</td>\n",
       "      <td>0.000364</td>\n",
       "      <td>-0.076646</td>\n",
       "      <td>-0.014234</td>\n",
       "      <td>...</td>\n",
       "      <td>-0.000102</td>\n",
       "      <td>-0.000305</td>\n",
       "      <td>221.0</td>\n",
       "      <td>22.0</td>\n",
       "      <td>0.067683</td>\n",
       "      <td>2.201373</td>\n",
       "      <td>-0.014827</td>\n",
       "      <td>0.000601</td>\n",
       "      <td>-0.037581</td>\n",
       "      <td>0.000000</td>\n",
       "    </tr>\n",
       "    <tr>\n",
       "      <th>30</th>\n",
       "      <td>True</td>\n",
       "      <td>PS</td>\n",
       "      <td>2020-11-02 13:23:00</td>\n",
       "      <td>38.472459</td>\n",
       "      <td>-0.002767</td>\n",
       "      <td>-0.017476</td>\n",
       "      <td>-0.016722</td>\n",
       "      <td>0.001334</td>\n",
       "      <td>-0.829735</td>\n",
       "      <td>0.007643</td>\n",
       "      <td>...</td>\n",
       "      <td>0.001899</td>\n",
       "      <td>-0.001577</td>\n",
       "      <td>233.0</td>\n",
       "      <td>10.0</td>\n",
       "      <td>0.126266</td>\n",
       "      <td>6.540503</td>\n",
       "      <td>-0.002207</td>\n",
       "      <td>0.009873</td>\n",
       "      <td>-0.031231</td>\n",
       "      <td>0.004444</td>\n",
       "    </tr>\n",
       "    <tr>\n",
       "      <th>40</th>\n",
       "      <td>True</td>\n",
       "      <td>SHAK</td>\n",
       "      <td>2020-11-02 10:51:00</td>\n",
       "      <td>38.905403</td>\n",
       "      <td>-0.001339</td>\n",
       "      <td>-0.032060</td>\n",
       "      <td>-0.011469</td>\n",
       "      <td>0.001067</td>\n",
       "      <td>-0.075535</td>\n",
       "      <td>-0.049576</td>\n",
       "      <td>...</td>\n",
       "      <td>0.000000</td>\n",
       "      <td>0.000778</td>\n",
       "      <td>81.0</td>\n",
       "      <td>6.0</td>\n",
       "      <td>0.011531</td>\n",
       "      <td>2.949118</td>\n",
       "      <td>-0.041485</td>\n",
       "      <td>-0.008442</td>\n",
       "      <td>-0.041485</td>\n",
       "      <td>0.001914</td>\n",
       "    </tr>\n",
       "    <tr>\n",
       "      <th>...</th>\n",
       "      <td>...</td>\n",
       "      <td>...</td>\n",
       "      <td>...</td>\n",
       "      <td>...</td>\n",
       "      <td>...</td>\n",
       "      <td>...</td>\n",
       "      <td>...</td>\n",
       "      <td>...</td>\n",
       "      <td>...</td>\n",
       "      <td>...</td>\n",
       "      <td>...</td>\n",
       "      <td>...</td>\n",
       "      <td>...</td>\n",
       "      <td>...</td>\n",
       "      <td>...</td>\n",
       "      <td>...</td>\n",
       "      <td>...</td>\n",
       "      <td>...</td>\n",
       "      <td>...</td>\n",
       "      <td>...</td>\n",
       "      <td>...</td>\n",
       "    </tr>\n",
       "    <tr>\n",
       "      <th>258680</th>\n",
       "      <td>True</td>\n",
       "      <td>FULT</td>\n",
       "      <td>2021-01-22 09:40:00</td>\n",
       "      <td>35.348826</td>\n",
       "      <td>-0.005714</td>\n",
       "      <td>-0.009876</td>\n",
       "      <td>-0.003359</td>\n",
       "      <td>0.002311</td>\n",
       "      <td>0.046203</td>\n",
       "      <td>-0.003506</td>\n",
       "      <td>...</td>\n",
       "      <td>-0.001395</td>\n",
       "      <td>0.002098</td>\n",
       "      <td>10.0</td>\n",
       "      <td>9.0</td>\n",
       "      <td>0.070325</td>\n",
       "      <td>18.800343</td>\n",
       "      <td>-0.003506</td>\n",
       "      <td>0.000000</td>\n",
       "      <td>-0.008374</td>\n",
       "      <td>0.000000</td>\n",
       "    </tr>\n",
       "    <tr>\n",
       "      <th>258690</th>\n",
       "      <td>False</td>\n",
       "      <td>JD</td>\n",
       "      <td>2021-01-22 13:29:00</td>\n",
       "      <td>31.379597</td>\n",
       "      <td>-0.000955</td>\n",
       "      <td>-0.004431</td>\n",
       "      <td>-0.000979</td>\n",
       "      <td>0.000412</td>\n",
       "      <td>0.179564</td>\n",
       "      <td>-0.004731</td>\n",
       "      <td>...</td>\n",
       "      <td>0.000252</td>\n",
       "      <td>0.000211</td>\n",
       "      <td>239.0</td>\n",
       "      <td>10.0</td>\n",
       "      <td>0.021018</td>\n",
       "      <td>4.763803</td>\n",
       "      <td>0.005739</td>\n",
       "      <td>-0.010410</td>\n",
       "      <td>-0.009097</td>\n",
       "      <td>0.009170</td>\n",
       "    </tr>\n",
       "    <tr>\n",
       "      <th>258700</th>\n",
       "      <td>False</td>\n",
       "      <td>GOEV</td>\n",
       "      <td>2021-01-22 10:29:00</td>\n",
       "      <td>42.564584</td>\n",
       "      <td>-0.002300</td>\n",
       "      <td>-0.008094</td>\n",
       "      <td>-0.002215</td>\n",
       "      <td>0.001492</td>\n",
       "      <td>-0.242891</td>\n",
       "      <td>-0.009947</td>\n",
       "      <td>...</td>\n",
       "      <td>0.002952</td>\n",
       "      <td>-0.000443</td>\n",
       "      <td>59.0</td>\n",
       "      <td>10.0</td>\n",
       "      <td>0.052571</td>\n",
       "      <td>0.770240</td>\n",
       "      <td>-0.004132</td>\n",
       "      <td>-0.005840</td>\n",
       "      <td>-0.009368</td>\n",
       "      <td>0.003463</td>\n",
       "    </tr>\n",
       "    <tr>\n",
       "      <th>258710</th>\n",
       "      <td>False</td>\n",
       "      <td>PIPP</td>\n",
       "      <td>2021-01-22 11:28:00</td>\n",
       "      <td>40.807732</td>\n",
       "      <td>-0.002307</td>\n",
       "      <td>-0.009014</td>\n",
       "      <td>-0.010942</td>\n",
       "      <td>0.001348</td>\n",
       "      <td>-0.124533</td>\n",
       "      <td>-0.003864</td>\n",
       "      <td>...</td>\n",
       "      <td>-0.001161</td>\n",
       "      <td>0.001301</td>\n",
       "      <td>118.0</td>\n",
       "      <td>23.0</td>\n",
       "      <td>0.077514</td>\n",
       "      <td>6.924233</td>\n",
       "      <td>0.003113</td>\n",
       "      <td>-0.006955</td>\n",
       "      <td>-0.024224</td>\n",
       "      <td>0.004543</td>\n",
       "    </tr>\n",
       "    <tr>\n",
       "      <th>258720</th>\n",
       "      <td>True</td>\n",
       "      <td>WOOF</td>\n",
       "      <td>2021-01-22 11:47:00</td>\n",
       "      <td>39.308846</td>\n",
       "      <td>-0.003392</td>\n",
       "      <td>-0.021485</td>\n",
       "      <td>-0.013828</td>\n",
       "      <td>0.001880</td>\n",
       "      <td>-0.212968</td>\n",
       "      <td>-0.050841</td>\n",
       "      <td>...</td>\n",
       "      <td>-0.003259</td>\n",
       "      <td>0.000196</td>\n",
       "      <td>137.0</td>\n",
       "      <td>10.0</td>\n",
       "      <td>0.083163</td>\n",
       "      <td>3.204049</td>\n",
       "      <td>-0.022967</td>\n",
       "      <td>-0.028530</td>\n",
       "      <td>-0.036927</td>\n",
       "      <td>0.005035</td>\n",
       "    </tr>\n",
       "  </tbody>\n",
       "</table>\n",
       "<p>25873 rows × 23 columns</p>\n",
       "</div>"
      ],
      "text/plain": [
       "        is_profit   sym             datetime      rsi14  sma9_var  sma180_var  \\\n",
       "0            True  MGNX  2020-11-02 11:13:00  30.509761 -0.006223   -0.022679   \n",
       "10           True  BLNK  2020-11-02 14:11:00  45.629119 -0.001515   -0.013328   \n",
       "20          False  SMAR  2020-11-02 13:11:00  32.521222 -0.001613   -0.013340   \n",
       "30           True    PS  2020-11-02 13:23:00  38.472459 -0.002767   -0.017476   \n",
       "40           True  SHAK  2020-11-02 10:51:00  38.905403 -0.001339   -0.032060   \n",
       "...           ...   ...                  ...        ...       ...         ...   \n",
       "258680       True  FULT  2021-01-22 09:40:00  35.348826 -0.005714   -0.009876   \n",
       "258690      False    JD  2021-01-22 13:29:00  31.379597 -0.000955   -0.004431   \n",
       "258700      False  GOEV  2021-01-22 10:29:00  42.564584 -0.002300   -0.008094   \n",
       "258710      False  PIPP  2021-01-22 11:28:00  40.807732 -0.002307   -0.009014   \n",
       "258720       True  WOOF  2021-01-22 11:47:00  39.308846 -0.003392   -0.021485   \n",
       "\n",
       "        vwap_var  spread14_e  volume14_34_var  prev_close_var  ...  \\\n",
       "0      -0.017526    0.000620        -0.006472       -0.037037  ...   \n",
       "10     -0.015379    0.000450         0.276878        0.018084  ...   \n",
       "20     -0.014689    0.000364        -0.076646       -0.014234  ...   \n",
       "30     -0.016722    0.001334        -0.829735        0.007643  ...   \n",
       "40     -0.011469    0.001067        -0.075535       -0.049576  ...   \n",
       "...          ...         ...              ...             ...  ...   \n",
       "258680 -0.003359    0.002311         0.046203       -0.003506  ...   \n",
       "258690 -0.000979    0.000412         0.179564       -0.004731  ...   \n",
       "258700 -0.002215    0.001492        -0.242891       -0.009947  ...   \n",
       "258710 -0.010942    0.001348        -0.124533       -0.003864  ...   \n",
       "258720 -0.013828    0.001880        -0.212968       -0.050841  ...   \n",
       "\n",
       "        prev2_candle_score  prev3_candle_score  mins_from_start  \\\n",
       "0                 0.000000            0.000000            103.0   \n",
       "10                0.000000           -0.001261            281.0   \n",
       "20               -0.000102           -0.000305            221.0   \n",
       "30                0.001899           -0.001577            233.0   \n",
       "40                0.000000            0.000778             81.0   \n",
       "...                    ...                 ...              ...   \n",
       "258680           -0.001395            0.002098             10.0   \n",
       "258690            0.000252            0.000211            239.0   \n",
       "258700            0.002952           -0.000443             59.0   \n",
       "258710           -0.001161            0.001301            118.0   \n",
       "258720           -0.003259            0.000196            137.0   \n",
       "\n",
       "        valley_interval_mins  valley_close_score  valley_rsi_score  \\\n",
       "0                       50.0            0.425532          0.758046   \n",
       "10                      58.0            0.553183         15.230913   \n",
       "20                      22.0            0.067683          2.201373   \n",
       "30                      10.0            0.126266          6.540503   \n",
       "40                       6.0            0.011531          2.949118   \n",
       "...                      ...                 ...               ...   \n",
       "258680                   9.0            0.070325         18.800343   \n",
       "258690                  10.0            0.021018          4.763803   \n",
       "258700                  10.0            0.052571          0.770240   \n",
       "258710                  23.0            0.077514          6.924233   \n",
       "258720                  10.0            0.083163          3.204049   \n",
       "\n",
       "        day_open_var  open_from_prev_close_var  ceil_var  floor_var  \n",
       "0          -0.032058                 -0.005144 -0.034554   0.000802  \n",
       "10         -0.024661                  0.043825 -0.030637   0.003807  \n",
       "20         -0.014827                  0.000601 -0.037581   0.000000  \n",
       "30         -0.002207                  0.009873 -0.031231   0.004444  \n",
       "40         -0.041485                 -0.008442 -0.041485   0.001914  \n",
       "...              ...                       ...       ...        ...  \n",
       "258680     -0.003506                  0.000000 -0.008374   0.000000  \n",
       "258690      0.005739                 -0.010410 -0.009097   0.009170  \n",
       "258700     -0.004132                 -0.005840 -0.009368   0.003463  \n",
       "258710      0.003113                 -0.006955 -0.024224   0.004543  \n",
       "258720     -0.022967                 -0.028530 -0.036927   0.005035  \n",
       "\n",
       "[25873 rows x 23 columns]"
      ]
     },
     "execution_count": 165,
     "metadata": {},
     "output_type": "execute_result"
    }
   ],
   "source": [
    "X_train_short"
   ]
  },
  {
   "cell_type": "code",
   "execution_count": null,
   "metadata": {},
   "outputs": [],
   "source": []
  },
  {
   "cell_type": "code",
   "execution_count": 170,
   "metadata": {},
   "outputs": [
    {
     "data": {
      "text/plain": [
       "<matplotlib.axes._subplots.AxesSubplot at 0x7f3a6f97bcc0>"
      ]
     },
     "execution_count": 170,
     "metadata": {},
     "output_type": "execute_result"
    },
    {
     "data": {
      "image/png": "[encoded data removed]",
      "text/plain": [
       "<Figure size 432x288 with 1 Axes>"
      ]
     },
     "metadata": {
      "needs_background": "light"
     },
     "output_type": "display_data"
    }
   ],
   "source": [
    "sns.boxplot(y='rsi14', x='is_profit', data=ds)"
   ]
  },
  {
   "cell_type": "code",
   "execution_count": null,
   "metadata": {},
   "outputs": [],
   "source": []
  },
  {
   "cell_type": "code",
   "execution_count": null,
   "metadata": {},
   "outputs": [],
   "source": []
  },
  {
   "cell_type": "code",
   "execution_count": null,
   "metadata": {},
   "outputs": [],
   "source": []
  },
  {
   "cell_type": "code",
   "execution_count": null,
   "metadata": {},
   "outputs": [],
   "source": []
  },
  {
   "cell_type": "code",
   "execution_count": null,
   "metadata": {},
   "outputs": [],
   "source": []
  },
  {
   "cell_type": "code",
   "execution_count": 133,
   "metadata": {},
   "outputs": [],
   "source": [
    "params_grid = {'kernel': ['linear', 'rbf', 'poly'], 'C': [1e0, 1e1, 1e2, 1e3],\n",
    "              'gamma': np.logspace(-2, 2, 5)}"
   ]
  },
  {
   "cell_type": "code",
   "execution_count": 134,
   "metadata": {},
   "outputs": [
    {
     "name": "stdout",
     "output_type": "stream",
     "text": [
      "CPU times: user 0 ns, sys: 0 ns, total: 0 ns\n",
      "Wall time: 95.6 µs\n"
     ]
    }
   ],
   "source": [
    "%%time\n",
    "svr = GridSearchCV(model_svc, params_grid, cv=5, n_jobs=-1)"
   ]
  },
  {
   "cell_type": "code",
   "execution_count": 135,
   "metadata": {},
   "outputs": [
    {
     "ename": "KeyboardInterrupt",
     "evalue": "",
     "output_type": "error",
     "traceback": [
      "\u001b[0;31m---------------------------------------------------------------------------\u001b[0m",
      "\u001b[0;31mKeyboardInterrupt\u001b[0m                         Traceback (most recent call last)",
      "\u001b[0;32m<timed eval>\u001b[0m in \u001b[0;36m<module>\u001b[0;34m\u001b[0m\n",
      "\u001b[0;32m~/anaconda3/lib/python3.7/site-packages/sklearn/utils/validation.py\u001b[0m in \u001b[0;36minner_f\u001b[0;34m(*args, **kwargs)\u001b[0m\n\u001b[1;32m     70\u001b[0m                           FutureWarning)\n\u001b[1;32m     71\u001b[0m         \u001b[0mkwargs\u001b[0m\u001b[0;34m.\u001b[0m\u001b[0mupdate\u001b[0m\u001b[0;34m(\u001b[0m\u001b[0;34m{\u001b[0m\u001b[0mk\u001b[0m\u001b[0;34m:\u001b[0m \u001b[0marg\u001b[0m \u001b[0;32mfor\u001b[0m \u001b[0mk\u001b[0m\u001b[0;34m,\u001b[0m \u001b[0marg\u001b[0m \u001b[0;32min\u001b[0m \u001b[0mzip\u001b[0m\u001b[0;34m(\u001b[0m\u001b[0msig\u001b[0m\u001b[0;34m.\u001b[0m\u001b[0mparameters\u001b[0m\u001b[0;34m,\u001b[0m \u001b[0margs\u001b[0m\u001b[0;34m)\u001b[0m\u001b[0;34m}\u001b[0m\u001b[0;34m)\u001b[0m\u001b[0;34m\u001b[0m\u001b[0;34m\u001b[0m\u001b[0m\n\u001b[0;32m---> 72\u001b[0;31m         \u001b[0;32mreturn\u001b[0m \u001b[0mf\u001b[0m\u001b[0;34m(\u001b[0m\u001b[0;34m**\u001b[0m\u001b[0mkwargs\u001b[0m\u001b[0;34m)\u001b[0m\u001b[0;34m\u001b[0m\u001b[0;34m\u001b[0m\u001b[0m\n\u001b[0m\u001b[1;32m     73\u001b[0m     \u001b[0;32mreturn\u001b[0m \u001b[0minner_f\u001b[0m\u001b[0;34m\u001b[0m\u001b[0;34m\u001b[0m\u001b[0m\n\u001b[1;32m     74\u001b[0m \u001b[0;34m\u001b[0m\u001b[0m\n",
      "\u001b[0;32m~/anaconda3/lib/python3.7/site-packages/sklearn/model_selection/_search.py\u001b[0m in \u001b[0;36mfit\u001b[0;34m(self, X, y, groups, **fit_params)\u001b[0m\n\u001b[1;32m    734\u001b[0m                 \u001b[0;32mreturn\u001b[0m \u001b[0mresults\u001b[0m\u001b[0;34m\u001b[0m\u001b[0;34m\u001b[0m\u001b[0m\n\u001b[1;32m    735\u001b[0m \u001b[0;34m\u001b[0m\u001b[0m\n\u001b[0;32m--> 736\u001b[0;31m             \u001b[0mself\u001b[0m\u001b[0;34m.\u001b[0m\u001b[0m_run_search\u001b[0m\u001b[0;34m(\u001b[0m\u001b[0mevaluate_candidates\u001b[0m\u001b[0;34m)\u001b[0m\u001b[0;34m\u001b[0m\u001b[0;34m\u001b[0m\u001b[0m\n\u001b[0m\u001b[1;32m    737\u001b[0m \u001b[0;34m\u001b[0m\u001b[0m\n\u001b[1;32m    738\u001b[0m         \u001b[0;31m# For multi-metric evaluation, store the best_index_, best_params_ and\u001b[0m\u001b[0;34m\u001b[0m\u001b[0;34m\u001b[0m\u001b[0;34m\u001b[0m\u001b[0m\n",
      "\u001b[0;32m~/anaconda3/lib/python3.7/site-packages/sklearn/model_selection/_search.py\u001b[0m in \u001b[0;36m_run_search\u001b[0;34m(self, evaluate_candidates)\u001b[0m\n\u001b[1;32m   1186\u001b[0m     \u001b[0;32mdef\u001b[0m \u001b[0m_run_search\u001b[0m\u001b[0;34m(\u001b[0m\u001b[0mself\u001b[0m\u001b[0;34m,\u001b[0m \u001b[0mevaluate_candidates\u001b[0m\u001b[0;34m)\u001b[0m\u001b[0;34m:\u001b[0m\u001b[0;34m\u001b[0m\u001b[0;34m\u001b[0m\u001b[0m\n\u001b[1;32m   1187\u001b[0m         \u001b[0;34m\"\"\"Search all candidates in param_grid\"\"\"\u001b[0m\u001b[0;34m\u001b[0m\u001b[0;34m\u001b[0m\u001b[0m\n\u001b[0;32m-> 1188\u001b[0;31m         \u001b[0mevaluate_candidates\u001b[0m\u001b[0;34m(\u001b[0m\u001b[0mParameterGrid\u001b[0m\u001b[0;34m(\u001b[0m\u001b[0mself\u001b[0m\u001b[0;34m.\u001b[0m\u001b[0mparam_grid\u001b[0m\u001b[0;34m)\u001b[0m\u001b[0;34m)\u001b[0m\u001b[0;34m\u001b[0m\u001b[0;34m\u001b[0m\u001b[0m\n\u001b[0m\u001b[1;32m   1189\u001b[0m \u001b[0;34m\u001b[0m\u001b[0m\n\u001b[1;32m   1190\u001b[0m \u001b[0;34m\u001b[0m\u001b[0m\n",
      "\u001b[0;32m~/anaconda3/lib/python3.7/site-packages/sklearn/model_selection/_search.py\u001b[0m in \u001b[0;36mevaluate_candidates\u001b[0;34m(candidate_params)\u001b[0m\n\u001b[1;32m    713\u001b[0m                                \u001b[0;32mfor\u001b[0m \u001b[0mparameters\u001b[0m\u001b[0;34m,\u001b[0m \u001b[0;34m(\u001b[0m\u001b[0mtrain\u001b[0m\u001b[0;34m,\u001b[0m \u001b[0mtest\u001b[0m\u001b[0;34m)\u001b[0m\u001b[0;34m\u001b[0m\u001b[0;34m\u001b[0m\u001b[0m\n\u001b[1;32m    714\u001b[0m                                in product(candidate_params,\n\u001b[0;32m--> 715\u001b[0;31m                                           cv.split(X, y, groups)))\n\u001b[0m\u001b[1;32m    716\u001b[0m \u001b[0;34m\u001b[0m\u001b[0m\n\u001b[1;32m    717\u001b[0m                 \u001b[0;32mif\u001b[0m \u001b[0mlen\u001b[0m\u001b[0;34m(\u001b[0m\u001b[0mout\u001b[0m\u001b[0;34m)\u001b[0m \u001b[0;34m<\u001b[0m \u001b[0;36m1\u001b[0m\u001b[0;34m:\u001b[0m\u001b[0;34m\u001b[0m\u001b[0;34m\u001b[0m\u001b[0m\n",
      "\u001b[0;32m~/anaconda3/lib/python3.7/site-packages/joblib/parallel.py\u001b[0m in \u001b[0;36m__call__\u001b[0;34m(self, iterable)\u001b[0m\n\u001b[1;32m   1040\u001b[0m \u001b[0;34m\u001b[0m\u001b[0m\n\u001b[1;32m   1041\u001b[0m             \u001b[0;32mwith\u001b[0m \u001b[0mself\u001b[0m\u001b[0;34m.\u001b[0m\u001b[0m_backend\u001b[0m\u001b[0;34m.\u001b[0m\u001b[0mretrieval_context\u001b[0m\u001b[0;34m(\u001b[0m\u001b[0;34m)\u001b[0m\u001b[0;34m:\u001b[0m\u001b[0;34m\u001b[0m\u001b[0;34m\u001b[0m\u001b[0m\n\u001b[0;32m-> 1042\u001b[0;31m                 \u001b[0mself\u001b[0m\u001b[0;34m.\u001b[0m\u001b[0mretrieve\u001b[0m\u001b[0;34m(\u001b[0m\u001b[0;34m)\u001b[0m\u001b[0;34m\u001b[0m\u001b[0;34m\u001b[0m\u001b[0m\n\u001b[0m\u001b[1;32m   1043\u001b[0m             \u001b[0;31m# Make sure that we get a last message telling us we are done\u001b[0m\u001b[0;34m\u001b[0m\u001b[0;34m\u001b[0m\u001b[0;34m\u001b[0m\u001b[0m\n\u001b[1;32m   1044\u001b[0m             \u001b[0melapsed_time\u001b[0m \u001b[0;34m=\u001b[0m \u001b[0mtime\u001b[0m\u001b[0;34m.\u001b[0m\u001b[0mtime\u001b[0m\u001b[0;34m(\u001b[0m\u001b[0;34m)\u001b[0m \u001b[0;34m-\u001b[0m \u001b[0mself\u001b[0m\u001b[0;34m.\u001b[0m\u001b[0m_start_time\u001b[0m\u001b[0;34m\u001b[0m\u001b[0;34m\u001b[0m\u001b[0m\n",
      "\u001b[0;32m~/anaconda3/lib/python3.7/site-packages/joblib/parallel.py\u001b[0m in \u001b[0;36mretrieve\u001b[0;34m(self)\u001b[0m\n\u001b[1;32m    919\u001b[0m             \u001b[0;32mtry\u001b[0m\u001b[0;34m:\u001b[0m\u001b[0;34m\u001b[0m\u001b[0;34m\u001b[0m\u001b[0m\n\u001b[1;32m    920\u001b[0m                 \u001b[0;32mif\u001b[0m \u001b[0mgetattr\u001b[0m\u001b[0;34m(\u001b[0m\u001b[0mself\u001b[0m\u001b[0;34m.\u001b[0m\u001b[0m_backend\u001b[0m\u001b[0;34m,\u001b[0m \u001b[0;34m'supports_timeout'\u001b[0m\u001b[0;34m,\u001b[0m \u001b[0;32mFalse\u001b[0m\u001b[0;34m)\u001b[0m\u001b[0;34m:\u001b[0m\u001b[0;34m\u001b[0m\u001b[0;34m\u001b[0m\u001b[0m\n\u001b[0;32m--> 921\u001b[0;31m                     \u001b[0mself\u001b[0m\u001b[0;34m.\u001b[0m\u001b[0m_output\u001b[0m\u001b[0;34m.\u001b[0m\u001b[0mextend\u001b[0m\u001b[0;34m(\u001b[0m\u001b[0mjob\u001b[0m\u001b[0;34m.\u001b[0m\u001b[0mget\u001b[0m\u001b[0;34m(\u001b[0m\u001b[0mtimeout\u001b[0m\u001b[0;34m=\u001b[0m\u001b[0mself\u001b[0m\u001b[0;34m.\u001b[0m\u001b[0mtimeout\u001b[0m\u001b[0;34m)\u001b[0m\u001b[0;34m)\u001b[0m\u001b[0;34m\u001b[0m\u001b[0;34m\u001b[0m\u001b[0m\n\u001b[0m\u001b[1;32m    922\u001b[0m                 \u001b[0;32melse\u001b[0m\u001b[0;34m:\u001b[0m\u001b[0;34m\u001b[0m\u001b[0;34m\u001b[0m\u001b[0m\n\u001b[1;32m    923\u001b[0m                     \u001b[0mself\u001b[0m\u001b[0;34m.\u001b[0m\u001b[0m_output\u001b[0m\u001b[0;34m.\u001b[0m\u001b[0mextend\u001b[0m\u001b[0;34m(\u001b[0m\u001b[0mjob\u001b[0m\u001b[0;34m.\u001b[0m\u001b[0mget\u001b[0m\u001b[0;34m(\u001b[0m\u001b[0;34m)\u001b[0m\u001b[0;34m)\u001b[0m\u001b[0;34m\u001b[0m\u001b[0;34m\u001b[0m\u001b[0m\n",
      "\u001b[0;32m~/anaconda3/lib/python3.7/site-packages/joblib/_parallel_backends.py\u001b[0m in \u001b[0;36mwrap_future_result\u001b[0;34m(future, timeout)\u001b[0m\n\u001b[1;32m    540\u001b[0m         AsyncResults.get from multiprocessing.\"\"\"\n\u001b[1;32m    541\u001b[0m         \u001b[0;32mtry\u001b[0m\u001b[0;34m:\u001b[0m\u001b[0;34m\u001b[0m\u001b[0;34m\u001b[0m\u001b[0m\n\u001b[0;32m--> 542\u001b[0;31m             \u001b[0;32mreturn\u001b[0m \u001b[0mfuture\u001b[0m\u001b[0;34m.\u001b[0m\u001b[0mresult\u001b[0m\u001b[0;34m(\u001b[0m\u001b[0mtimeout\u001b[0m\u001b[0;34m=\u001b[0m\u001b[0mtimeout\u001b[0m\u001b[0;34m)\u001b[0m\u001b[0;34m\u001b[0m\u001b[0;34m\u001b[0m\u001b[0m\n\u001b[0m\u001b[1;32m    543\u001b[0m         \u001b[0;32mexcept\u001b[0m \u001b[0mCfTimeoutError\u001b[0m \u001b[0;32mas\u001b[0m \u001b[0me\u001b[0m\u001b[0;34m:\u001b[0m\u001b[0;34m\u001b[0m\u001b[0;34m\u001b[0m\u001b[0m\n\u001b[1;32m    544\u001b[0m             \u001b[0;32mraise\u001b[0m \u001b[0mTimeoutError\u001b[0m \u001b[0;32mfrom\u001b[0m \u001b[0me\u001b[0m\u001b[0;34m\u001b[0m\u001b[0;34m\u001b[0m\u001b[0m\n",
      "\u001b[0;32m~/anaconda3/lib/python3.7/concurrent/futures/_base.py\u001b[0m in \u001b[0;36mresult\u001b[0;34m(self, timeout)\u001b[0m\n\u001b[1;32m    425\u001b[0m                 \u001b[0;32mreturn\u001b[0m \u001b[0mself\u001b[0m\u001b[0;34m.\u001b[0m\u001b[0m__get_result\u001b[0m\u001b[0;34m(\u001b[0m\u001b[0;34m)\u001b[0m\u001b[0;34m\u001b[0m\u001b[0;34m\u001b[0m\u001b[0m\n\u001b[1;32m    426\u001b[0m \u001b[0;34m\u001b[0m\u001b[0m\n\u001b[0;32m--> 427\u001b[0;31m             \u001b[0mself\u001b[0m\u001b[0;34m.\u001b[0m\u001b[0m_condition\u001b[0m\u001b[0;34m.\u001b[0m\u001b[0mwait\u001b[0m\u001b[0;34m(\u001b[0m\u001b[0mtimeout\u001b[0m\u001b[0;34m)\u001b[0m\u001b[0;34m\u001b[0m\u001b[0;34m\u001b[0m\u001b[0m\n\u001b[0m\u001b[1;32m    428\u001b[0m \u001b[0;34m\u001b[0m\u001b[0m\n\u001b[1;32m    429\u001b[0m             \u001b[0;32mif\u001b[0m \u001b[0mself\u001b[0m\u001b[0;34m.\u001b[0m\u001b[0m_state\u001b[0m \u001b[0;32min\u001b[0m \u001b[0;34m[\u001b[0m\u001b[0mCANCELLED\u001b[0m\u001b[0;34m,\u001b[0m \u001b[0mCANCELLED_AND_NOTIFIED\u001b[0m\u001b[0;34m]\u001b[0m\u001b[0;34m:\u001b[0m\u001b[0;34m\u001b[0m\u001b[0;34m\u001b[0m\u001b[0m\n",
      "\u001b[0;32m~/anaconda3/lib/python3.7/threading.py\u001b[0m in \u001b[0;36mwait\u001b[0;34m(self, timeout)\u001b[0m\n\u001b[1;32m    294\u001b[0m         \u001b[0;32mtry\u001b[0m\u001b[0;34m:\u001b[0m    \u001b[0;31m# restore state no matter what (e.g., KeyboardInterrupt)\u001b[0m\u001b[0;34m\u001b[0m\u001b[0;34m\u001b[0m\u001b[0m\n\u001b[1;32m    295\u001b[0m             \u001b[0;32mif\u001b[0m \u001b[0mtimeout\u001b[0m \u001b[0;32mis\u001b[0m \u001b[0;32mNone\u001b[0m\u001b[0;34m:\u001b[0m\u001b[0;34m\u001b[0m\u001b[0;34m\u001b[0m\u001b[0m\n\u001b[0;32m--> 296\u001b[0;31m                 \u001b[0mwaiter\u001b[0m\u001b[0;34m.\u001b[0m\u001b[0macquire\u001b[0m\u001b[0;34m(\u001b[0m\u001b[0;34m)\u001b[0m\u001b[0;34m\u001b[0m\u001b[0;34m\u001b[0m\u001b[0m\n\u001b[0m\u001b[1;32m    297\u001b[0m                 \u001b[0mgotit\u001b[0m \u001b[0;34m=\u001b[0m \u001b[0;32mTrue\u001b[0m\u001b[0;34m\u001b[0m\u001b[0;34m\u001b[0m\u001b[0m\n\u001b[1;32m    298\u001b[0m             \u001b[0;32melse\u001b[0m\u001b[0;34m:\u001b[0m\u001b[0;34m\u001b[0m\u001b[0;34m\u001b[0m\u001b[0m\n",
      "\u001b[0;31mKeyboardInterrupt\u001b[0m: "
     ]
    }
   ],
   "source": [
    "%%time\n",
    "svr.fit(X_train, y_train)"
   ]
  },
  {
   "cell_type": "code",
   "execution_count": 136,
   "metadata": {},
   "outputs": [
    {
     "ename": "AttributeError",
     "evalue": "'GridSearchCV' object has no attribute 'best_params_'",
     "output_type": "error",
     "traceback": [
      "\u001b[0;31m---------------------------------------------------------------------------\u001b[0m",
      "\u001b[0;31mAttributeError\u001b[0m                            Traceback (most recent call last)",
      "\u001b[0;32m<ipython-input-136-9ccf6876ed55>\u001b[0m in \u001b[0;36m<module>\u001b[0;34m\u001b[0m\n\u001b[0;32m----> 1\u001b[0;31m \u001b[0msvr\u001b[0m\u001b[0;34m.\u001b[0m\u001b[0mbest_params_\u001b[0m\u001b[0;34m\u001b[0m\u001b[0;34m\u001b[0m\u001b[0m\n\u001b[0m",
      "\u001b[0;31mAttributeError\u001b[0m: 'GridSearchCV' object has no attribute 'best_params_'"
     ]
    }
   ],
   "source": [
    "svr.best_params_"
   ]
  },
  {
   "cell_type": "code",
   "execution_count": null,
   "metadata": {},
   "outputs": [],
   "source": [
    "y_pred_train = svr.best_params(X_train)"
   ]
  },
  {
   "cell_type": "code",
   "execution_count": null,
   "metadata": {},
   "outputs": [],
   "source": [
    "accuracy_score(y_train, y_pred_train)"
   ]
  },
  {
   "cell_type": "code",
   "execution_count": null,
   "metadata": {},
   "outputs": [],
   "source": []
  }
 ],
 "metadata": {
  "kernelspec": {
   "display_name": "Python 3",
   "language": "python",
   "name": "python3"
  },
  "language_info": {
   "codemirror_mode": {
    "name": "ipython",
    "version": 3
   },
   "file_extension": ".py",
   "mimetype": "text/x-python",
   "name": "python",
   "nbconvert_exporter": "python",
   "pygments_lexer": "ipython3",
   "version": "3.7.3"
  }
 },
 "nbformat": 4,
 "nbformat_minor": 4
}
