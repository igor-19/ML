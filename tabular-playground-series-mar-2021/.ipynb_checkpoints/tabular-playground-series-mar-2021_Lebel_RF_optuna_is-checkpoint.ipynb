{
 "cells": [
  {
   "cell_type": "markdown",
   "metadata": {},
   "source": [
    "# tabular-playground-series-mar-2021"
   ]
  },
  {
   "cell_type": "markdown",
   "metadata": {},
   "source": [
    "https://www.kaggle.com/c/tabular-playground-series-mar-2021"
   ]
  },
  {
   "cell_type": "code",
   "execution_count": 1,
   "metadata": {},
   "outputs": [],
   "source": [
    "import warnings\n",
    "warnings.filterwarnings('ignore')"
   ]
  },
  {
   "cell_type": "code",
   "execution_count": 2,
   "metadata": {},
   "outputs": [],
   "source": [
    "import numpy as np\n",
    "import pandas as pd\n",
    "import matplotlib.pyplot as plt\n",
    "import matplotlib\n",
    "import seaborn as sns\n",
    "\n",
    "%matplotlib inline"
   ]
  },
  {
   "cell_type": "code",
   "execution_count": 3,
   "metadata": {},
   "outputs": [],
   "source": [
    "from sklearn.metrics import f1_score, recall_score, precision_score, roc_auc_score, roc_curve\n",
    "from sklearn.base import BaseEstimator, TransformerMixin, ClassifierMixin\n",
    "from sklearn.preprocessing import FunctionTransformer, StandardScaler, MinMaxScaler, RobustScaler, OneHotEncoder, LabelEncoder\n",
    "from sklearn.pipeline import make_union, make_pipeline\n",
    "from sklearn.model_selection import train_test_split, GridSearchCV, StratifiedKFold, cross_val_score\n",
    "from sklearn.svm import SVC\n",
    "from sklearn.tree import DecisionTreeClassifier\n",
    "from sklearn.ensemble import RandomForestClassifier, VotingClassifier, StackingClassifier, BaggingClassifier\n",
    "import xgboost as xgb\n",
    "import lightgbm as lgb"
   ]
  },
  {
   "cell_type": "code",
   "execution_count": 4,
   "metadata": {},
   "outputs": [],
   "source": [
    "import optuna\n",
    "import time"
   ]
  },
  {
   "cell_type": "code",
   "execution_count": 5,
   "metadata": {},
   "outputs": [],
   "source": [
    "from sklearn.utils import shuffle"
   ]
  },
  {
   "cell_type": "markdown",
   "metadata": {},
   "source": [
    "### ----------------Load data----------------------"
   ]
  },
  {
   "cell_type": "code",
   "execution_count": 18,
   "metadata": {},
   "outputs": [],
   "source": [
    "ds = pd.read_csv('train.csv', delimiter=',')"
   ]
  },
  {
   "cell_type": "code",
   "execution_count": 19,
   "metadata": {},
   "outputs": [],
   "source": [
    "columns_numeric = ['cont0', 'cont1', 'cont2', 'cont3', 'cont4', 'cont5', \n",
    "                   'cont6', 'cont7', 'cont8', 'cont9', 'cont10']\n",
    "columns_cat = [col for col in ds.drop(['id', 'target'], axis=1).columns if col not in columns_numeric]"
   ]
  },
  {
   "cell_type": "markdown",
   "metadata": {},
   "source": [
    "### ------------Train Test---------------"
   ]
  },
  {
   "cell_type": "code",
   "execution_count": 20,
   "metadata": {},
   "outputs": [],
   "source": [
    "# ds_train, ds_test = train_test_split(ds, test_size=0.3, random_state=42, shuffle=True)"
   ]
  },
  {
   "cell_type": "code",
   "execution_count": 21,
   "metadata": {},
   "outputs": [],
   "source": [
    "# ds.shape, ds_train.shape, ds_test.shape, "
   ]
  },
  {
   "cell_type": "code",
   "execution_count": 22,
   "metadata": {},
   "outputs": [],
   "source": [
    "# ds_train.target.value_counts(normalize=True)"
   ]
  },
  {
   "cell_type": "markdown",
   "metadata": {},
   "source": [
    "### ---------- Oversampling--------------"
   ]
  },
  {
   "cell_type": "code",
   "execution_count": 23,
   "metadata": {},
   "outputs": [],
   "source": [
    "# print('Add rows with target == 1:', ds.target.value_counts()[0] - ds.target.value_counts()[1], 'rows')\n",
    "# print('Or rows with target == 1 multiply by 2 (', ds.target.value_counts()[0] / ds.target.value_counts()[1], ')')"
   ]
  },
  {
   "cell_type": "code",
   "execution_count": 24,
   "metadata": {},
   "outputs": [],
   "source": [
    "# def oversampling_with_noise(df, noise=[1.0, 1.0]):\n",
    "#     add_rows_index = df[df.target == 1].index\n",
    "#     add_rows = df.loc[add_rows_index]\n",
    "#     add_rows[columns_numeric] = add_rows[columns_numeric] * noise[0]\n",
    "    \n",
    "#     add_number_rows = df[df.target == 0].shape[0] - (df[df.target == 1].shape[0] * 2)\n",
    "    \n",
    "#     index_rows = np.random.choice(add_rows_index, add_number_rows)\n",
    "#     add_rows_two = df.loc[index_rows]\n",
    "#     add_rows_two[columns_numeric] = add_rows_two[columns_numeric] * noise[1]\n",
    "       \n",
    "#     df = df.append(add_rows)\n",
    "#     df = df.append(add_rows_two)\n",
    "    \n",
    "#     df = shuffle(df)\n",
    "#     return df"
   ]
  },
  {
   "cell_type": "code",
   "execution_count": 25,
   "metadata": {},
   "outputs": [],
   "source": [
    "# %%time\n",
    "# ds_over = oversampling_with_noise(ds, noise=[0.98, 1.02])"
   ]
  },
  {
   "cell_type": "code",
   "execution_count": 26,
   "metadata": {},
   "outputs": [],
   "source": [
    "# ds_over.target.value_counts(), ds_over.target.value_counts(normalize=True)"
   ]
  },
  {
   "cell_type": "code",
   "execution_count": 27,
   "metadata": {},
   "outputs": [],
   "source": [
    "# sns.countplot(ds_over.target);"
   ]
  },
  {
   "cell_type": "code",
   "execution_count": 28,
   "metadata": {},
   "outputs": [],
   "source": [
    "# ds_over.head(3)"
   ]
  },
  {
   "cell_type": "code",
   "execution_count": null,
   "metadata": {},
   "outputs": [],
   "source": []
  },
  {
   "cell_type": "markdown",
   "metadata": {},
   "source": [
    "### ----------metrics------------"
   ]
  },
  {
   "cell_type": "code",
   "execution_count": 29,
   "metadata": {},
   "outputs": [],
   "source": [
    "def print_metrics(actual, predict, title=''):\n",
    "    precision = precision_score(actual, predict)\n",
    "    recall = recall_score(actual, predict)\n",
    "    f1 = f1_score(actual, predict)\n",
    "        \n",
    "    print('-'*15, title, '-'*15)\n",
    "    print(f'Precision - {precision}')\n",
    "    print(f'Recall    - {recall}')\n",
    "    print(f'F1 score  - {f1}')\n",
    "    print('-'*35)"
   ]
  },
  {
   "cell_type": "code",
   "execution_count": 30,
   "metadata": {},
   "outputs": [],
   "source": [
    "def plot_roc_auc_curve(actual, predict):\n",
    "    fpr, tpr, threshold = roc_curve(actual, predict)\n",
    "    roc_auc = roc_auc_score(actual, predict)\n",
    "    plt.figure(figsize=(4, 3))\n",
    "    plt.plot(fpr, tpr, c='b')\n",
    "    plt.plot([0, 1], [0, 1], c='red')\n",
    "    plt.title(f'ROC AUC {roc_auc}')\n",
    "    plt.xlim([0.0, 1.0])\n",
    "    plt.ylim([0.0, 1.05])\n",
    "    plt.xlabel('False Positive Rate')\n",
    "    plt.ylabel('True Positive Rate')\n",
    "    plt.show()"
   ]
  },
  {
   "cell_type": "markdown",
   "metadata": {},
   "source": [
    "### ---------------Transform--------------"
   ]
  },
  {
   "cell_type": "code",
   "execution_count": 31,
   "metadata": {},
   "outputs": [],
   "source": [
    "ds_transf = ds.copy(deep=True)"
   ]
  },
  {
   "cell_type": "code",
   "execution_count": 32,
   "metadata": {},
   "outputs": [],
   "source": [
    "ds_transf.cont9 = np.log1p(ds_transf.cont9)"
   ]
  },
  {
   "cell_type": "code",
   "execution_count": 33,
   "metadata": {},
   "outputs": [],
   "source": [
    "#scaler = StandardScaler().fit(ds_over[columns_numeric])"
   ]
  },
  {
   "cell_type": "code",
   "execution_count": 34,
   "metadata": {},
   "outputs": [],
   "source": [
    "#ds_transf[columns_numeric] = scaler.transform(ds_over[columns_numeric])"
   ]
  },
  {
   "cell_type": "markdown",
   "metadata": {},
   "source": [
    "### Label Encoder"
   ]
  },
  {
   "cell_type": "code",
   "execution_count": 35,
   "metadata": {},
   "outputs": [],
   "source": [
    "le = LabelEncoder()"
   ]
  },
  {
   "cell_type": "code",
   "execution_count": 36,
   "metadata": {},
   "outputs": [],
   "source": [
    "for col in columns_cat:\n",
    "    ds_transf[col] = le.fit_transform(ds_transf[col])"
   ]
  },
  {
   "cell_type": "code",
   "execution_count": 37,
   "metadata": {},
   "outputs": [
    {
     "data": {
      "text/html": [
       "<div>\n",
       "<style scoped>\n",
       "    .dataframe tbody tr th:only-of-type {\n",
       "        vertical-align: middle;\n",
       "    }\n",
       "\n",
       "    .dataframe tbody tr th {\n",
       "        vertical-align: top;\n",
       "    }\n",
       "\n",
       "    .dataframe thead th {\n",
       "        text-align: right;\n",
       "    }\n",
       "</style>\n",
       "<table border=\"1\" class=\"dataframe\">\n",
       "  <thead>\n",
       "    <tr style=\"text-align: right;\">\n",
       "      <th></th>\n",
       "      <th>id</th>\n",
       "      <th>cat0</th>\n",
       "      <th>cat1</th>\n",
       "      <th>cat2</th>\n",
       "      <th>cat3</th>\n",
       "      <th>cat4</th>\n",
       "      <th>cat5</th>\n",
       "      <th>cat6</th>\n",
       "      <th>cat7</th>\n",
       "      <th>cat8</th>\n",
       "      <th>...</th>\n",
       "      <th>cont2</th>\n",
       "      <th>cont3</th>\n",
       "      <th>cont4</th>\n",
       "      <th>cont5</th>\n",
       "      <th>cont6</th>\n",
       "      <th>cont7</th>\n",
       "      <th>cont8</th>\n",
       "      <th>cont9</th>\n",
       "      <th>cont10</th>\n",
       "      <th>target</th>\n",
       "    </tr>\n",
       "  </thead>\n",
       "  <tbody>\n",
       "    <tr>\n",
       "      <th>0</th>\n",
       "      <td>0</td>\n",
       "      <td>0</td>\n",
       "      <td>8</td>\n",
       "      <td>0</td>\n",
       "      <td>1</td>\n",
       "      <td>1</td>\n",
       "      <td>33</td>\n",
       "      <td>0</td>\n",
       "      <td>44</td>\n",
       "      <td>54</td>\n",
       "      <td>...</td>\n",
       "      <td>0.759439</td>\n",
       "      <td>0.795549</td>\n",
       "      <td>0.681917</td>\n",
       "      <td>0.621672</td>\n",
       "      <td>0.592184</td>\n",
       "      <td>0.791921</td>\n",
       "      <td>0.815254</td>\n",
       "      <td>0.675495</td>\n",
       "      <td>0.665915</td>\n",
       "      <td>0</td>\n",
       "    </tr>\n",
       "    <tr>\n",
       "      <th>1</th>\n",
       "      <td>1</td>\n",
       "      <td>0</td>\n",
       "      <td>8</td>\n",
       "      <td>0</td>\n",
       "      <td>0</td>\n",
       "      <td>4</td>\n",
       "      <td>33</td>\n",
       "      <td>8</td>\n",
       "      <td>48</td>\n",
       "      <td>3</td>\n",
       "      <td>...</td>\n",
       "      <td>0.386385</td>\n",
       "      <td>0.541366</td>\n",
       "      <td>0.388982</td>\n",
       "      <td>0.357778</td>\n",
       "      <td>0.600044</td>\n",
       "      <td>0.408701</td>\n",
       "      <td>0.399353</td>\n",
       "      <td>0.656175</td>\n",
       "      <td>0.493729</td>\n",
       "      <td>0</td>\n",
       "    </tr>\n",
       "    <tr>\n",
       "      <th>2</th>\n",
       "      <td>2</td>\n",
       "      <td>0</td>\n",
       "      <td>10</td>\n",
       "      <td>0</td>\n",
       "      <td>0</td>\n",
       "      <td>4</td>\n",
       "      <td>33</td>\n",
       "      <td>0</td>\n",
       "      <td>30</td>\n",
       "      <td>38</td>\n",
       "      <td>...</td>\n",
       "      <td>0.343255</td>\n",
       "      <td>0.616352</td>\n",
       "      <td>0.793687</td>\n",
       "      <td>0.552877</td>\n",
       "      <td>0.352113</td>\n",
       "      <td>0.388835</td>\n",
       "      <td>0.412303</td>\n",
       "      <td>0.256730</td>\n",
       "      <td>0.549452</td>\n",
       "      <td>0</td>\n",
       "    </tr>\n",
       "    <tr>\n",
       "      <th>3</th>\n",
       "      <td>3</td>\n",
       "      <td>0</td>\n",
       "      <td>10</td>\n",
       "      <td>0</td>\n",
       "      <td>2</td>\n",
       "      <td>4</td>\n",
       "      <td>33</td>\n",
       "      <td>0</td>\n",
       "      <td>50</td>\n",
       "      <td>3</td>\n",
       "      <td>...</td>\n",
       "      <td>0.831147</td>\n",
       "      <td>0.807807</td>\n",
       "      <td>0.800032</td>\n",
       "      <td>0.619147</td>\n",
       "      <td>0.221789</td>\n",
       "      <td>0.897617</td>\n",
       "      <td>0.633669</td>\n",
       "      <td>0.565495</td>\n",
       "      <td>0.934242</td>\n",
       "      <td>0</td>\n",
       "    </tr>\n",
       "    <tr>\n",
       "      <th>4</th>\n",
       "      <td>4</td>\n",
       "      <td>0</td>\n",
       "      <td>8</td>\n",
       "      <td>6</td>\n",
       "      <td>1</td>\n",
       "      <td>4</td>\n",
       "      <td>33</td>\n",
       "      <td>2</td>\n",
       "      <td>32</td>\n",
       "      <td>54</td>\n",
       "      <td>...</td>\n",
       "      <td>0.338818</td>\n",
       "      <td>0.277308</td>\n",
       "      <td>0.610578</td>\n",
       "      <td>0.128291</td>\n",
       "      <td>0.578764</td>\n",
       "      <td>0.279167</td>\n",
       "      <td>0.351103</td>\n",
       "      <td>0.305338</td>\n",
       "      <td>0.328960</td>\n",
       "      <td>1</td>\n",
       "    </tr>\n",
       "    <tr>\n",
       "      <th>...</th>\n",
       "      <td>...</td>\n",
       "      <td>...</td>\n",
       "      <td>...</td>\n",
       "      <td>...</td>\n",
       "      <td>...</td>\n",
       "      <td>...</td>\n",
       "      <td>...</td>\n",
       "      <td>...</td>\n",
       "      <td>...</td>\n",
       "      <td>...</td>\n",
       "      <td>...</td>\n",
       "      <td>...</td>\n",
       "      <td>...</td>\n",
       "      <td>...</td>\n",
       "      <td>...</td>\n",
       "      <td>...</td>\n",
       "      <td>...</td>\n",
       "      <td>...</td>\n",
       "      <td>...</td>\n",
       "      <td>...</td>\n",
       "      <td>...</td>\n",
       "    </tr>\n",
       "    <tr>\n",
       "      <th>299995</th>\n",
       "      <td>499993</td>\n",
       "      <td>0</td>\n",
       "      <td>13</td>\n",
       "      <td>5</td>\n",
       "      <td>0</td>\n",
       "      <td>4</td>\n",
       "      <td>45</td>\n",
       "      <td>0</td>\n",
       "      <td>19</td>\n",
       "      <td>48</td>\n",
       "      <td>...</td>\n",
       "      <td>0.662428</td>\n",
       "      <td>0.671927</td>\n",
       "      <td>0.390566</td>\n",
       "      <td>0.145840</td>\n",
       "      <td>0.262767</td>\n",
       "      <td>0.514248</td>\n",
       "      <td>0.519340</td>\n",
       "      <td>0.480842</td>\n",
       "      <td>0.688007</td>\n",
       "      <td>0</td>\n",
       "    </tr>\n",
       "    <tr>\n",
       "      <th>299996</th>\n",
       "      <td>499995</td>\n",
       "      <td>0</td>\n",
       "      <td>10</td>\n",
       "      <td>0</td>\n",
       "      <td>0</td>\n",
       "      <td>6</td>\n",
       "      <td>33</td>\n",
       "      <td>0</td>\n",
       "      <td>36</td>\n",
       "      <td>4</td>\n",
       "      <td>...</td>\n",
       "      <td>0.821657</td>\n",
       "      <td>0.620356</td>\n",
       "      <td>0.384891</td>\n",
       "      <td>0.735879</td>\n",
       "      <td>0.547731</td>\n",
       "      <td>0.726653</td>\n",
       "      <td>0.470575</td>\n",
       "      <td>0.243529</td>\n",
       "      <td>0.638939</td>\n",
       "      <td>0</td>\n",
       "    </tr>\n",
       "    <tr>\n",
       "      <th>299997</th>\n",
       "      <td>499996</td>\n",
       "      <td>0</td>\n",
       "      <td>6</td>\n",
       "      <td>12</td>\n",
       "      <td>0</td>\n",
       "      <td>7</td>\n",
       "      <td>33</td>\n",
       "      <td>2</td>\n",
       "      <td>37</td>\n",
       "      <td>43</td>\n",
       "      <td>...</td>\n",
       "      <td>0.407037</td>\n",
       "      <td>0.232436</td>\n",
       "      <td>0.832482</td>\n",
       "      <td>0.810663</td>\n",
       "      <td>0.596939</td>\n",
       "      <td>0.308821</td>\n",
       "      <td>0.373997</td>\n",
       "      <td>0.417410</td>\n",
       "      <td>0.452144</td>\n",
       "      <td>1</td>\n",
       "    </tr>\n",
       "    <tr>\n",
       "      <th>299998</th>\n",
       "      <td>499997</td>\n",
       "      <td>1</td>\n",
       "      <td>7</td>\n",
       "      <td>0</td>\n",
       "      <td>3</td>\n",
       "      <td>1</td>\n",
       "      <td>33</td>\n",
       "      <td>0</td>\n",
       "      <td>1</td>\n",
       "      <td>23</td>\n",
       "      <td>...</td>\n",
       "      <td>0.808045</td>\n",
       "      <td>0.630708</td>\n",
       "      <td>0.346898</td>\n",
       "      <td>0.735147</td>\n",
       "      <td>0.563488</td>\n",
       "      <td>0.609836</td>\n",
       "      <td>0.680430</td>\n",
       "      <td>0.276459</td>\n",
       "      <td>0.335822</td>\n",
       "      <td>0</td>\n",
       "    </tr>\n",
       "    <tr>\n",
       "      <th>299999</th>\n",
       "      <td>499999</td>\n",
       "      <td>0</td>\n",
       "      <td>5</td>\n",
       "      <td>2</td>\n",
       "      <td>0</td>\n",
       "      <td>4</td>\n",
       "      <td>33</td>\n",
       "      <td>2</td>\n",
       "      <td>22</td>\n",
       "      <td>55</td>\n",
       "      <td>...</td>\n",
       "      <td>0.775451</td>\n",
       "      <td>0.848696</td>\n",
       "      <td>0.819377</td>\n",
       "      <td>0.355467</td>\n",
       "      <td>0.218153</td>\n",
       "      <td>0.968856</td>\n",
       "      <td>0.823655</td>\n",
       "      <td>0.285566</td>\n",
       "      <td>0.972569</td>\n",
       "      <td>0</td>\n",
       "    </tr>\n",
       "  </tbody>\n",
       "</table>\n",
       "<p>300000 rows × 32 columns</p>\n",
       "</div>"
      ],
      "text/plain": [
       "            id  cat0  cat1  cat2  cat3  cat4  cat5  cat6  cat7  cat8  ...  \\\n",
       "0            0     0     8     0     1     1    33     0    44    54  ...   \n",
       "1            1     0     8     0     0     4    33     8    48     3  ...   \n",
       "2            2     0    10     0     0     4    33     0    30    38  ...   \n",
       "3            3     0    10     0     2     4    33     0    50     3  ...   \n",
       "4            4     0     8     6     1     4    33     2    32    54  ...   \n",
       "...        ...   ...   ...   ...   ...   ...   ...   ...   ...   ...  ...   \n",
       "299995  499993     0    13     5     0     4    45     0    19    48  ...   \n",
       "299996  499995     0    10     0     0     6    33     0    36     4  ...   \n",
       "299997  499996     0     6    12     0     7    33     2    37    43  ...   \n",
       "299998  499997     1     7     0     3     1    33     0     1    23  ...   \n",
       "299999  499999     0     5     2     0     4    33     2    22    55  ...   \n",
       "\n",
       "           cont2     cont3     cont4     cont5     cont6     cont7     cont8  \\\n",
       "0       0.759439  0.795549  0.681917  0.621672  0.592184  0.791921  0.815254   \n",
       "1       0.386385  0.541366  0.388982  0.357778  0.600044  0.408701  0.399353   \n",
       "2       0.343255  0.616352  0.793687  0.552877  0.352113  0.388835  0.412303   \n",
       "3       0.831147  0.807807  0.800032  0.619147  0.221789  0.897617  0.633669   \n",
       "4       0.338818  0.277308  0.610578  0.128291  0.578764  0.279167  0.351103   \n",
       "...          ...       ...       ...       ...       ...       ...       ...   \n",
       "299995  0.662428  0.671927  0.390566  0.145840  0.262767  0.514248  0.519340   \n",
       "299996  0.821657  0.620356  0.384891  0.735879  0.547731  0.726653  0.470575   \n",
       "299997  0.407037  0.232436  0.832482  0.810663  0.596939  0.308821  0.373997   \n",
       "299998  0.808045  0.630708  0.346898  0.735147  0.563488  0.609836  0.680430   \n",
       "299999  0.775451  0.848696  0.819377  0.355467  0.218153  0.968856  0.823655   \n",
       "\n",
       "           cont9    cont10  target  \n",
       "0       0.675495  0.665915       0  \n",
       "1       0.656175  0.493729       0  \n",
       "2       0.256730  0.549452       0  \n",
       "3       0.565495  0.934242       0  \n",
       "4       0.305338  0.328960       1  \n",
       "...          ...       ...     ...  \n",
       "299995  0.480842  0.688007       0  \n",
       "299996  0.243529  0.638939       0  \n",
       "299997  0.417410  0.452144       1  \n",
       "299998  0.276459  0.335822       0  \n",
       "299999  0.285566  0.972569       0  \n",
       "\n",
       "[300000 rows x 32 columns]"
      ]
     },
     "execution_count": 37,
     "metadata": {},
     "output_type": "execute_result"
    }
   ],
   "source": [
    "ds_transf"
   ]
  },
  {
   "cell_type": "markdown",
   "metadata": {},
   "source": [
    "### -------------RF-----------------"
   ]
  },
  {
   "cell_type": "markdown",
   "metadata": {},
   "source": [
    "#### -------------OPTUNA-------------"
   ]
  },
  {
   "cell_type": "code",
   "execution_count": 45,
   "metadata": {},
   "outputs": [],
   "source": [
    "scores = []\n",
    "n = 1\n",
    "def objective(trial, data=ds_transf.drop(['id', 'target'], axis=1), target=ds_transf.target):\n",
    "    print(time.strftime('%X'), end=' ')\n",
    "    params = {\n",
    "        'criterion': trial.suggest_categorical(\"criterion\", [\"gini\", \"entropy\"]),\n",
    "        'max_depth': trial.suggest_int('max_depth', 3, 50),\n",
    "        'min_samples_split': trial.suggest_int('min_samples_split', 2, 15),\n",
    "        'min_samples_leaf': trial.suggest_int('min_samples_leaf', 1, 15),\n",
    "        'max_features': trial.suggest_categorical('max_features', ['auto', 'sqrt', 'log2', None]),\n",
    "        'bootstrap': trial.suggest_categorical('bootstrap', [True, False]),\n",
    "        \n",
    "    }\n",
    "    \n",
    "    model = RandomForestClassifier(**params, n_estimators=500, n_jobs=-1, random_state=33)\n",
    "    score = cross_val_score(estimator=model, X=data, y=target, scoring='roc_auc', cv=4, n_jobs=-1)\n",
    "    scores.append(score)\n",
    "    print(time.strftime('%X'), score, end='|')\n",
    "    #n += 1\n",
    "    return np.mean(score)"
   ]
  },
  {
   "cell_type": "code",
   "execution_count": 46,
   "metadata": {},
   "outputs": [
    {
     "name": "stdout",
     "output_type": "stream",
     "text": [
      "13:53:59 14:04:54 [0.88973128 0.88900929 0.88693961 0.88763142]|"
     ]
    },
    {
     "name": "stderr",
     "output_type": "stream",
     "text": [
      "\u001b[32m[I 2021-03-28 14:04:55,197]\u001b[0m Finished trial#0 resulted in value: 0.888327898754066. Current best value is 0.888327898754066 with parameters: {'criterion': 'entropy', 'max_depth': 36, 'min_samples_split': 2, 'min_samples_leaf': 13, 'max_features': 'log2', 'bootstrap': True}.\u001b[0m\n"
     ]
    },
    {
     "name": "stdout",
     "output_type": "stream",
     "text": [
      "14:04:55 "
     ]
    },
    {
     "name": "stderr",
     "output_type": "stream",
     "text": [
      "\u001b[32m[I 2021-03-28 14:10:00,234]\u001b[0m Finished trial#1 resulted in value: 0.8740479665615539. Current best value is 0.888327898754066 with parameters: {'criterion': 'entropy', 'max_depth': 36, 'min_samples_split': 2, 'min_samples_leaf': 13, 'max_features': 'log2', 'bootstrap': True}.\u001b[0m\n"
     ]
    },
    {
     "name": "stdout",
     "output_type": "stream",
     "text": [
      "14:10:00 [0.87589968 0.87411964 0.87291858 0.87325396]|14:10:00 "
     ]
    },
    {
     "name": "stderr",
     "output_type": "stream",
     "text": [
      "\u001b[32m[I 2021-03-28 15:02:32,475]\u001b[0m Finished trial#2 resulted in value: 0.8528648231098914. Current best value is 0.888327898754066 with parameters: {'criterion': 'entropy', 'max_depth': 36, 'min_samples_split': 2, 'min_samples_leaf': 13, 'max_features': 'log2', 'bootstrap': True}.\u001b[0m\n"
     ]
    },
    {
     "name": "stdout",
     "output_type": "stream",
     "text": [
      "15:02:32 [0.85331919 0.85448566 0.85145225 0.85220218]|15:02:32 15:51:55 [0.88254338 0.88293972 0.88065622 0.880443  ]|"
     ]
    },
    {
     "name": "stderr",
     "output_type": "stream",
     "text": [
      "\u001b[32m[I 2021-03-28 15:51:57,906]\u001b[0m Finished trial#3 resulted in value: 0.8816455792195244. Current best value is 0.888327898754066 with parameters: {'criterion': 'entropy', 'max_depth': 36, 'min_samples_split': 2, 'min_samples_leaf': 13, 'max_features': 'log2', 'bootstrap': True}.\u001b[0m\n"
     ]
    },
    {
     "name": "stdout",
     "output_type": "stream",
     "text": [
      "15:51:57 16:02:17 [0.8900269  0.88914835 0.88737861 0.88790467]|"
     ]
    },
    {
     "name": "stderr",
     "output_type": "stream",
     "text": [
      "\u001b[32m[I 2021-03-28 16:02:18,209]\u001b[0m Finished trial#4 resulted in value: 0.8886146302291201. Current best value is 0.8886146302291201 with parameters: {'criterion': 'entropy', 'max_depth': 21, 'min_samples_split': 13, 'min_samples_leaf': 2, 'max_features': 'log2', 'bootstrap': True}.\u001b[0m\n"
     ]
    },
    {
     "name": "stdout",
     "output_type": "stream",
     "text": [
      "16:02:18 "
     ]
    },
    {
     "name": "stderr",
     "output_type": "stream",
     "text": [
      "\u001b[32m[I 2021-03-28 16:20:48,031]\u001b[0m Finished trial#5 resulted in value: 0.8889100681390897. Current best value is 0.8889100681390897 with parameters: {'criterion': 'entropy', 'max_depth': 33, 'min_samples_split': 10, 'min_samples_leaf': 10, 'max_features': 'sqrt', 'bootstrap': False}.\u001b[0m\n"
     ]
    },
    {
     "name": "stdout",
     "output_type": "stream",
     "text": [
      "16:20:47 [0.89033287 0.889608   0.88755344 0.88814596]|16:20:48 "
     ]
    },
    {
     "name": "stderr",
     "output_type": "stream",
     "text": [
      "\u001b[32m[I 2021-03-28 16:30:01,020]\u001b[0m Finished trial#6 resulted in value: 0.8877497769133187. Current best value is 0.8889100681390897 with parameters: {'criterion': 'entropy', 'max_depth': 33, 'min_samples_split': 10, 'min_samples_leaf': 10, 'max_features': 'sqrt', 'bootstrap': False}.\u001b[0m\n"
     ]
    },
    {
     "name": "stdout",
     "output_type": "stream",
     "text": [
      "16:30:00 [0.88908358 0.88845264 0.8864141  0.88704879]|16:30:01 16:53:05 [0.89027066 0.88967268 0.88757504 0.88795599]|"
     ]
    },
    {
     "name": "stderr",
     "output_type": "stream",
     "text": [
      "\u001b[32m[I 2021-03-28 16:53:07,461]\u001b[0m Finished trial#7 resulted in value: 0.8888685943485765. Current best value is 0.8889100681390897 with parameters: {'criterion': 'entropy', 'max_depth': 33, 'min_samples_split': 10, 'min_samples_leaf': 10, 'max_features': 'sqrt', 'bootstrap': False}.\u001b[0m\n"
     ]
    },
    {
     "name": "stdout",
     "output_type": "stream",
     "text": [
      "16:53:07 "
     ]
    },
    {
     "name": "stderr",
     "output_type": "stream",
     "text": [
      "\u001b[32m[I 2021-03-28 17:01:21,917]\u001b[0m Finished trial#8 resulted in value: 0.8782103188250473. Current best value is 0.8889100681390897 with parameters: {'criterion': 'entropy', 'max_depth': 33, 'min_samples_split': 10, 'min_samples_leaf': 10, 'max_features': 'sqrt', 'bootstrap': False}.\u001b[0m\n"
     ]
    },
    {
     "name": "stdout",
     "output_type": "stream",
     "text": [
      "17:01:21 [0.87988279 0.87849408 0.877016   0.87744841]|17:01:21 "
     ]
    },
    {
     "name": "stderr",
     "output_type": "stream",
     "text": [
      "\u001b[32m[I 2021-03-28 17:09:19,070]\u001b[0m Finished trial#9 resulted in value: 0.885837052365366. Current best value is 0.8889100681390897 with parameters: {'criterion': 'entropy', 'max_depth': 33, 'min_samples_split': 10, 'min_samples_leaf': 10, 'max_features': 'sqrt', 'bootstrap': False}.\u001b[0m\n"
     ]
    },
    {
     "name": "stdout",
     "output_type": "stream",
     "text": [
      "17:09:18 [0.88732976 0.88621492 0.88451041 0.88529312]|CPU times: user 4.06 s, sys: 2.64 s, total: 6.7 s\n",
      "Wall time: 3h 15min 20s\n"
     ]
    }
   ],
   "source": [
    "%%time\n",
    "study = optuna.create_study(direction='maximize', study_name='RF')\n",
    "study.optimize(objective, n_trials=10)"
   ]
  },
  {
   "cell_type": "code",
   "execution_count": 47,
   "metadata": {},
   "outputs": [],
   "source": [
    "p_RF_Label_no_over = study.best_trial.params"
   ]
  },
  {
   "cell_type": "code",
   "execution_count": 49,
   "metadata": {},
   "outputs": [],
   "source": [
    "with open('p_RF_Label_no_over.txt', 'w') as t:\n",
    "    t.write(str(p_RF_Label_no_over))  "
   ]
  },
  {
   "cell_type": "code",
   "execution_count": 50,
   "metadata": {},
   "outputs": [
    {
     "data": {
      "text/plain": [
       "{'criterion': 'entropy',\n",
       " 'max_depth': 33,\n",
       " 'min_samples_split': 10,\n",
       " 'min_samples_leaf': 10,\n",
       " 'max_features': 'sqrt',\n",
       " 'bootstrap': False}"
      ]
     },
     "execution_count": 50,
     "metadata": {},
     "output_type": "execute_result"
    }
   ],
   "source": [
    "p_RF_Label_no_over"
   ]
  },
  {
   "cell_type": "code",
   "execution_count": 52,
   "metadata": {},
   "outputs": [],
   "source": [
    "scores = []\n",
    "n = 1\n",
    "def objective(trial, data=ds_transf.drop(['id', 'target'], axis=1), target=ds_transf.target):\n",
    "    print(time.strftime('%X'), end=' ')\n",
    "    params = {\n",
    "        'criterion': trial.suggest_categorical(\"criterion\", [\"gini\", \"entropy\"]),\n",
    "        'max_depth': trial.suggest_int('max_depth', 30, 60),\n",
    "        'min_samples_split': 10,\n",
    "        'min_samples_leaf': 10,\n",
    "        'max_features': 'sqrt',\n",
    "        'bootstrap': False,\n",
    "        \n",
    "    }\n",
    "    \n",
    "    model = RandomForestClassifier(**params, n_estimators=300, n_jobs=-1, random_state=33)\n",
    "    score = cross_val_score(estimator=model, X=data, y=target, scoring='roc_auc', cv=3, n_jobs=-1)\n",
    "    scores.append(score)\n",
    "    print(time.strftime('%X'), score, end='|')\n",
    "    #n += 1\n",
    "    return np.mean(score)"
   ]
  },
  {
   "cell_type": "code",
   "execution_count": null,
   "metadata": {},
   "outputs": [
    {
     "name": "stdout",
     "output_type": "stream",
     "text": [
      "17:36:19 "
     ]
    }
   ],
   "source": [
    "%%time\n",
    "study = optuna.create_study(direction='maximize', study_name='RF')\n",
    "study.optimize(objective, n_trials=10)"
   ]
  },
  {
   "cell_type": "code",
   "execution_count": null,
   "metadata": {},
   "outputs": [],
   "source": []
  },
  {
   "cell_type": "code",
   "execution_count": null,
   "metadata": {},
   "outputs": [],
   "source": []
  },
  {
   "cell_type": "code",
   "execution_count": null,
   "metadata": {},
   "outputs": [],
   "source": []
  },
  {
   "cell_type": "code",
   "execution_count": null,
   "metadata": {},
   "outputs": [],
   "source": []
  },
  {
   "cell_type": "code",
   "execution_count": null,
   "metadata": {},
   "outputs": [],
   "source": []
  },
  {
   "cell_type": "code",
   "execution_count": null,
   "metadata": {},
   "outputs": [],
   "source": []
  },
  {
   "cell_type": "code",
   "execution_count": null,
   "metadata": {},
   "outputs": [],
   "source": []
  },
  {
   "cell_type": "code",
   "execution_count": null,
   "metadata": {},
   "outputs": [],
   "source": []
  },
  {
   "cell_type": "code",
   "execution_count": 51,
   "metadata": {},
   "outputs": [],
   "source": [
    "model = RandomForestClassifier(n_estimators=152, random_state=36, n_jobs=-1)"
   ]
  },
  {
   "cell_type": "code",
   "execution_count": 52,
   "metadata": {},
   "outputs": [
    {
     "data": {
      "text/plain": [
       "RandomForestClassifier(n_estimators=152, n_jobs=-1, random_state=36)"
      ]
     },
     "execution_count": 52,
     "metadata": {},
     "output_type": "execute_result"
    }
   ],
   "source": [
    "model"
   ]
  },
  {
   "cell_type": "code",
   "execution_count": 55,
   "metadata": {},
   "outputs": [],
   "source": [
    "p = model.set_params"
   ]
  },
  {
   "cell_type": "code",
   "execution_count": 56,
   "metadata": {},
   "outputs": [
    {
     "data": {
      "text/plain": [
       "<bound method BaseEstimator.set_params of RandomForestClassifier(n_estimators=152, n_jobs=-1, random_state=36)>"
      ]
     },
     "execution_count": 56,
     "metadata": {},
     "output_type": "execute_result"
    }
   ],
   "source": [
    "p"
   ]
  },
  {
   "cell_type": "code",
   "execution_count": 57,
   "metadata": {},
   "outputs": [],
   "source": [
    "with open('params.txt', 'w') as t:\n",
    "    t.write(str(p))"
   ]
  },
  {
   "cell_type": "code",
   "execution_count": null,
   "metadata": {},
   "outputs": [],
   "source": []
  },
  {
   "cell_type": "code",
   "execution_count": null,
   "metadata": {},
   "outputs": [],
   "source": []
  },
  {
   "cell_type": "code",
   "execution_count": null,
   "metadata": {},
   "outputs": [],
   "source": []
  },
  {
   "cell_type": "code",
   "execution_count": 161,
   "metadata": {},
   "outputs": [],
   "source": [
    "score = cross_val_score(estimator=model, X=ds_transf.drop(['id', 'target'], axis=1), y=ds_transf.target, cv=3)"
   ]
  },
  {
   "cell_type": "code",
   "execution_count": 162,
   "metadata": {},
   "outputs": [
    {
     "data": {
      "text/plain": [
       "array([0.89588114, 0.89821378, 0.89761092])"
      ]
     },
     "execution_count": 162,
     "metadata": {},
     "output_type": "execute_result"
    }
   ],
   "source": [
    "score"
   ]
  },
  {
   "cell_type": "code",
   "execution_count": null,
   "metadata": {},
   "outputs": [],
   "source": []
  },
  {
   "cell_type": "code",
   "execution_count": 70,
   "metadata": {},
   "outputs": [
    {
     "data": {
      "text/plain": [
       "Index(['id', 'cat0', 'cat1', 'cat2', 'cat3', 'cat4', 'cat5', 'cat6', 'cat7',\n",
       "       'cat8', 'cat9', 'cat10', 'cat11', 'cat12', 'cat13', 'cat14', 'cat15',\n",
       "       'cat16', 'cat17', 'cat18', 'cont0', 'cont1', 'cont2', 'cont3', 'cont4',\n",
       "       'cont5', 'cont6', 'cont7', 'cont8', 'cont9', 'cont10', 'target'],\n",
       "      dtype='object')"
      ]
     },
     "execution_count": 70,
     "metadata": {},
     "output_type": "execute_result"
    }
   ],
   "source": [
    "ds.columns"
   ]
  },
  {
   "cell_type": "code",
   "execution_count": null,
   "metadata": {},
   "outputs": [],
   "source": []
  }
 ],
 "metadata": {
  "environment": {
   "name": "common-cpu.mnightly-2021-02-02-debian-10-test",
   "type": "gcloud",
   "uri": "gcr.io/deeplearning-platform-release/base-cpu:mnightly-2021-02-02-debian-10-test"
  },
  "kernelspec": {
   "display_name": "Python 3",
   "language": "python",
   "name": "python3"
  },
  "language_info": {
   "codemirror_mode": {
    "name": "ipython",
    "version": 3
   },
   "file_extension": ".py",
   "mimetype": "text/x-python",
   "name": "python",
   "nbconvert_exporter": "python",
   "pygments_lexer": "ipython3",
   "version": "3.7.3"
  }
 },
 "nbformat": 4,
 "nbformat_minor": 4
}
