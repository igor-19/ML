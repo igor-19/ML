{
 "cells": [
  {
   "cell_type": "markdown",
   "metadata": {},
   "source": [
    "# tabular-playground-series-mar-2021"
   ]
  },
  {
   "cell_type": "markdown",
   "metadata": {},
   "source": [
    "https://www.kaggle.com/c/tabular-playground-series-mar-2021"
   ]
  },
  {
   "cell_type": "code",
   "execution_count": 1,
   "metadata": {},
   "outputs": [],
   "source": [
    "import warnings\n",
    "warnings.filterwarnings('ignore')"
   ]
  },
  {
   "cell_type": "code",
   "execution_count": 1,
   "metadata": {},
   "outputs": [],
   "source": [
    "import numpy as np\n",
    "import pandas as pd\n",
    "import matplotlib.pyplot as plt\n",
    "import matplotlib\n",
    "import seaborn as sns\n",
    "\n",
    "%matplotlib inline"
   ]
  },
  {
   "cell_type": "code",
   "execution_count": 2,
   "metadata": {},
   "outputs": [],
   "source": [
    "from sklearn.metrics import f1_score, recall_score, precision_score, roc_auc_score, roc_curve\n",
    "from sklearn.base import BaseEstimator, TransformerMixin, ClassifierMixin\n",
    "from sklearn.preprocessing import FunctionTransformer, StandardScaler, MinMaxScaler, RobustScaler, OneHotEncoder\n",
    "from sklearn.pipeline import make_union, make_pipeline\n",
    "from sklearn.model_selection import train_test_split, GridSearchCV\n",
    "from sklearn.svm import SVC\n",
    "from sklearn.tree import DecisionTreeClassifier\n",
    "from sklearn.ensemble import RandomForestClassifier, VotingClassifier, StackingClassifier, BaggingClassifier\n",
    "import xgboost as xgb\n",
    "from xgboost import plot_tree, plot_importance\n",
    "import lightgbm as lgb"
   ]
  },
  {
   "cell_type": "code",
   "execution_count": 3,
   "metadata": {},
   "outputs": [],
   "source": [
    "from sklearn.utils import shuffle"
   ]
  },
  {
   "cell_type": "markdown",
   "metadata": {},
   "source": [
    "### ----------------Load data----------------------"
   ]
  },
  {
   "cell_type": "code",
   "execution_count": 4,
   "metadata": {},
   "outputs": [],
   "source": [
    "ds = pd.read_csv('train.csv', delimiter=',')"
   ]
  },
  {
   "cell_type": "code",
   "execution_count": 5,
   "metadata": {},
   "outputs": [],
   "source": [
    "columns_numeric = ['cont0', 'cont1', 'cont2', 'cont3', 'cont4', 'cont5', \n",
    "                   'cont6', 'cont7', 'cont8', 'cont9', 'cont10']\n",
    "columns_cat = [col for col in ds.drop(['id', 'cat5', 'target'], axis=1).columns if col not in columns_numeric]"
   ]
  },
  {
   "cell_type": "markdown",
   "metadata": {},
   "source": [
    "### ------------Train Test---------------"
   ]
  },
  {
   "cell_type": "code",
   "execution_count": 6,
   "metadata": {},
   "outputs": [],
   "source": [
    "ds_train, ds_test = train_test_split(ds, test_size=0.3, random_state=42, shuffle=True)"
   ]
  },
  {
   "cell_type": "code",
   "execution_count": 7,
   "metadata": {},
   "outputs": [
    {
     "data": {
      "text/plain": [
       "((300000, 32), (210000, 32), (90000, 32))"
      ]
     },
     "execution_count": 7,
     "metadata": {},
     "output_type": "execute_result"
    }
   ],
   "source": [
    "ds.shape, ds_train.shape, ds_test.shape, "
   ]
  },
  {
   "cell_type": "code",
   "execution_count": 8,
   "metadata": {},
   "outputs": [
    {
     "data": {
      "text/plain": [
       "0    0.734595\n",
       "1    0.265405\n",
       "Name: target, dtype: float64"
      ]
     },
     "execution_count": 8,
     "metadata": {},
     "output_type": "execute_result"
    }
   ],
   "source": [
    "ds_train.target.value_counts(normalize=True)"
   ]
  },
  {
   "cell_type": "markdown",
   "metadata": {},
   "source": [
    "### ---------- Oversampling--------------"
   ]
  },
  {
   "cell_type": "code",
   "execution_count": 9,
   "metadata": {},
   "outputs": [
    {
     "name": "stdout",
     "output_type": "stream",
     "text": [
      "Add rows with target == 1: 98530 rows\n",
      "Or rows with target == 1 multiply by 2 ( 2.7678299093926615 )\n"
     ]
    }
   ],
   "source": [
    "print('Add rows with target == 1:', ds_train.target.value_counts()[0] - ds_train.target.value_counts()[1], 'rows')\n",
    "print('Or rows with target == 1 multiply by 2 (', ds_train.target.value_counts()[0] / ds_train.target.value_counts()[1], ')')"
   ]
  },
  {
   "cell_type": "code",
   "execution_count": 10,
   "metadata": {},
   "outputs": [],
   "source": [
    "def oversampling_train_with_noise(df, noise=[1.0, 1.0]):\n",
    "    add_rows_index = df[df.target == 1].index\n",
    "    add_rows = ds.loc[add_rows_index]\n",
    "    add_rows[columns_numeric] = add_rows[columns_numeric] * noise[0]\n",
    "    \n",
    "    add_number_rows = df[df.target == 0].shape[0] - (df[df.target == 1].shape[0] * 2)\n",
    "    \n",
    "    index_rows = np.random.choice(add_rows_index, add_number_rows)\n",
    "    add_rows_two = df.loc[index_rows]\n",
    "    add_rows_two[columns_numeric] = add_rows_two[columns_numeric] * noise[1]\n",
    "       \n",
    "    df = df.append(add_rows)\n",
    "    df = df.append(add_rows_two)\n",
    "    \n",
    "    df = shuffle(df)\n",
    "    return df"
   ]
  },
  {
   "cell_type": "code",
   "execution_count": 11,
   "metadata": {},
   "outputs": [
    {
     "name": "stdout",
     "output_type": "stream",
     "text": [
      "CPU times: user 368 ms, sys: 112 ms, total: 480 ms\n",
      "Wall time: 484 ms\n"
     ]
    }
   ],
   "source": [
    "%%time\n",
    "ds_train_over = oversampling_train_with_noise(ds_train, noise=[0.98, 1.02])"
   ]
  },
  {
   "cell_type": "code",
   "execution_count": 12,
   "metadata": {},
   "outputs": [
    {
     "data": {
      "text/plain": [
       "(1    154265\n",
       " 0    154265\n",
       " Name: target, dtype: int64,\n",
       " 0    0.734595\n",
       " 1    0.265405\n",
       " Name: target, dtype: float64)"
      ]
     },
     "execution_count": 12,
     "metadata": {},
     "output_type": "execute_result"
    }
   ],
   "source": [
    "ds_train_over.target.value_counts(), ds_train.target.value_counts(normalize=True)"
   ]
  },
  {
   "cell_type": "code",
   "execution_count": 13,
   "metadata": {},
   "outputs": [
    {
     "data": {
      "image/png": "[encoded data removed]",
      "text/plain": [
       "<Figure size 432x288 with 1 Axes>"
      ]
     },
     "metadata": {
      "needs_background": "light"
     },
     "output_type": "display_data"
    }
   ],
   "source": [
    "sns.countplot(ds_train_over.target);"
   ]
  },
  {
   "cell_type": "code",
   "execution_count": 14,
   "metadata": {},
   "outputs": [
    {
     "data": {
      "text/html": [
       "<div>\n",
       "<style scoped>\n",
       "    .dataframe tbody tr th:only-of-type {\n",
       "        vertical-align: middle;\n",
       "    }\n",
       "\n",
       "    .dataframe tbody tr th {\n",
       "        vertical-align: top;\n",
       "    }\n",
       "\n",
       "    .dataframe thead th {\n",
       "        text-align: right;\n",
       "    }\n",
       "</style>\n",
       "<table border=\"1\" class=\"dataframe\">\n",
       "  <thead>\n",
       "    <tr style=\"text-align: right;\">\n",
       "      <th></th>\n",
       "      <th>id</th>\n",
       "      <th>cat0</th>\n",
       "      <th>cat1</th>\n",
       "      <th>cat2</th>\n",
       "      <th>cat3</th>\n",
       "      <th>cat4</th>\n",
       "      <th>cat5</th>\n",
       "      <th>cat6</th>\n",
       "      <th>cat7</th>\n",
       "      <th>cat8</th>\n",
       "      <th>...</th>\n",
       "      <th>cont2</th>\n",
       "      <th>cont3</th>\n",
       "      <th>cont4</th>\n",
       "      <th>cont5</th>\n",
       "      <th>cont6</th>\n",
       "      <th>cont7</th>\n",
       "      <th>cont8</th>\n",
       "      <th>cont9</th>\n",
       "      <th>cont10</th>\n",
       "      <th>target</th>\n",
       "    </tr>\n",
       "  </thead>\n",
       "  <tbody>\n",
       "    <tr>\n",
       "      <th>186295</th>\n",
       "      <td>310791</td>\n",
       "      <td>A</td>\n",
       "      <td>J</td>\n",
       "      <td>C</td>\n",
       "      <td>A</td>\n",
       "      <td>F</td>\n",
       "      <td>BI</td>\n",
       "      <td>C</td>\n",
       "      <td>U</td>\n",
       "      <td>AN</td>\n",
       "      <td>...</td>\n",
       "      <td>0.474384</td>\n",
       "      <td>0.177473</td>\n",
       "      <td>0.299630</td>\n",
       "      <td>0.089599</td>\n",
       "      <td>0.453541</td>\n",
       "      <td>0.338071</td>\n",
       "      <td>0.369028</td>\n",
       "      <td>0.252043</td>\n",
       "      <td>0.411881</td>\n",
       "      <td>0</td>\n",
       "    </tr>\n",
       "    <tr>\n",
       "      <th>127847</th>\n",
       "      <td>213447</td>\n",
       "      <td>A</td>\n",
       "      <td>K</td>\n",
       "      <td>A</td>\n",
       "      <td>A</td>\n",
       "      <td>G</td>\n",
       "      <td>BI</td>\n",
       "      <td>A</td>\n",
       "      <td>AN</td>\n",
       "      <td>AD</td>\n",
       "      <td>...</td>\n",
       "      <td>0.734934</td>\n",
       "      <td>0.761801</td>\n",
       "      <td>0.747193</td>\n",
       "      <td>0.620342</td>\n",
       "      <td>0.340489</td>\n",
       "      <td>0.840985</td>\n",
       "      <td>0.833528</td>\n",
       "      <td>0.802615</td>\n",
       "      <td>0.648383</td>\n",
       "      <td>0</td>\n",
       "    </tr>\n",
       "    <tr>\n",
       "      <th>274740</th>\n",
       "      <td>457925</td>\n",
       "      <td>B</td>\n",
       "      <td>C</td>\n",
       "      <td>U</td>\n",
       "      <td>B</td>\n",
       "      <td>D</td>\n",
       "      <td>BI</td>\n",
       "      <td>A</td>\n",
       "      <td>AR</td>\n",
       "      <td>BM</td>\n",
       "      <td>...</td>\n",
       "      <td>0.211115</td>\n",
       "      <td>0.595474</td>\n",
       "      <td>0.799872</td>\n",
       "      <td>0.056305</td>\n",
       "      <td>0.333922</td>\n",
       "      <td>0.200517</td>\n",
       "      <td>0.408139</td>\n",
       "      <td>0.712711</td>\n",
       "      <td>0.685659</td>\n",
       "      <td>0</td>\n",
       "    </tr>\n",
       "  </tbody>\n",
       "</table>\n",
       "<p>3 rows × 32 columns</p>\n",
       "</div>"
      ],
      "text/plain": [
       "            id cat0 cat1 cat2 cat3 cat4 cat5 cat6 cat7 cat8  ...     cont2  \\\n",
       "186295  310791    A    J    C    A    F   BI    C    U   AN  ...  0.474384   \n",
       "127847  213447    A    K    A    A    G   BI    A   AN   AD  ...  0.734934   \n",
       "274740  457925    B    C    U    B    D   BI    A   AR   BM  ...  0.211115   \n",
       "\n",
       "           cont3     cont4     cont5     cont6     cont7     cont8     cont9  \\\n",
       "186295  0.177473  0.299630  0.089599  0.453541  0.338071  0.369028  0.252043   \n",
       "127847  0.761801  0.747193  0.620342  0.340489  0.840985  0.833528  0.802615   \n",
       "274740  0.595474  0.799872  0.056305  0.333922  0.200517  0.408139  0.712711   \n",
       "\n",
       "          cont10 target  \n",
       "186295  0.411881      0  \n",
       "127847  0.648383      0  \n",
       "274740  0.685659      0  \n",
       "\n",
       "[3 rows x 32 columns]"
      ]
     },
     "execution_count": 14,
     "metadata": {},
     "output_type": "execute_result"
    }
   ],
   "source": [
    "ds_train.head(3)"
   ]
  },
  {
   "cell_type": "code",
   "execution_count": null,
   "metadata": {},
   "outputs": [],
   "source": []
  },
  {
   "cell_type": "markdown",
   "metadata": {},
   "source": [
    "### ----------metrics------------"
   ]
  },
  {
   "cell_type": "code",
   "execution_count": 15,
   "metadata": {},
   "outputs": [],
   "source": [
    "def print_metrics(actual, predict, title=''):\n",
    "    precision = precision_score(actual, predict)\n",
    "    recall = recall_score(actual, predict)\n",
    "    f1 = f1_score(actual, predict)\n",
    "    roc_auc = roc_auc_score(actual, predict)\n",
    "    \n",
    "    print('-'*15, title, '-'*15)\n",
    "    print(f'Precision - {precision}')\n",
    "    print(f'Recall    - {recall}')\n",
    "    print(f'F1 score  - {f1}')\n",
    "    print(f'ROC AUC   - {roc_auc}')\n",
    "    print('-'*35)"
   ]
  },
  {
   "cell_type": "code",
   "execution_count": 16,
   "metadata": {},
   "outputs": [],
   "source": [
    "def plot_roc_auc_curve(actual, predict):\n",
    "    fpr, tpr, threshold = roc_curve(actual, predict)\n",
    "    roc_auc = roc_auc_score(actual, predict)\n",
    "    plt.figure(figsize=(4, 3))\n",
    "    plt.plot(fpr, tpr, c='b')\n",
    "    plt.plot([0, 1], [0, 1], c='red')\n",
    "    plt.title(f'ROC AUC {roc_auc}')\n",
    "    plt.xlim([0.0, 1.0])\n",
    "    plt.ylim([0.0, 1.05])\n",
    "    plt.xlabel('False Positive Rate')\n",
    "    plt.ylabel('True Positive Rate')\n",
    "    plt.show()"
   ]
  },
  {
   "cell_type": "markdown",
   "metadata": {},
   "source": [
    "### ---------------Transform--------------"
   ]
  },
  {
   "cell_type": "code",
   "execution_count": 17,
   "metadata": {},
   "outputs": [],
   "source": [
    "ds_train_transf = ds_train_over.drop(['cat5'], axis=1).copy(deep=True)"
   ]
  },
  {
   "cell_type": "code",
   "execution_count": 18,
   "metadata": {},
   "outputs": [],
   "source": [
    "#scaler = StandardScaler().fit(ds_train_over[columns_numeric])"
   ]
  },
  {
   "cell_type": "code",
   "execution_count": 19,
   "metadata": {},
   "outputs": [],
   "source": [
    "#ds_train_transf[columns_numeric] = scaler.transform(ds_train_over[columns_numeric])"
   ]
  },
  {
   "cell_type": "code",
   "execution_count": 20,
   "metadata": {},
   "outputs": [],
   "source": [
    "ds_train_transf = pd.get_dummies(ds_train_transf, prefix_sep='_', columns=columns_cat)"
   ]
  },
  {
   "cell_type": "code",
   "execution_count": 21,
   "metadata": {},
   "outputs": [
    {
     "data": {
      "text/plain": [
       "((308530, 550), (308530, 32))"
      ]
     },
     "execution_count": 21,
     "metadata": {},
     "output_type": "execute_result"
    }
   ],
   "source": [
    "ds_train_transf.shape, ds_train_over.shape"
   ]
  },
  {
   "cell_type": "code",
   "execution_count": 22,
   "metadata": {},
   "outputs": [],
   "source": [
    "ds_test_transf = ds_test.drop(['cat5'], axis=1).copy(deep=True)"
   ]
  },
  {
   "cell_type": "code",
   "execution_count": 23,
   "metadata": {},
   "outputs": [],
   "source": [
    "#ds_test_transf[columns_numeric] = scaler.transform(ds_test[columns_numeric])"
   ]
  },
  {
   "cell_type": "code",
   "execution_count": 24,
   "metadata": {},
   "outputs": [],
   "source": [
    "ds_test_transf = pd.get_dummies(ds_test_transf, prefix_sep='_', columns=columns_cat)"
   ]
  },
  {
   "cell_type": "code",
   "execution_count": 25,
   "metadata": {},
   "outputs": [
    {
     "data": {
      "text/plain": [
       "((90000, 523), (90000, 32))"
      ]
     },
     "execution_count": 25,
     "metadata": {},
     "output_type": "execute_result"
    }
   ],
   "source": [
    "ds_test_transf.shape, ds_test.shape"
   ]
  },
  {
   "cell_type": "code",
   "execution_count": 26,
   "metadata": {},
   "outputs": [],
   "source": [
    "columns_train_transf = ds_train_transf.columns\n",
    "columns_test_transf = ds_test_transf.columns"
   ]
  },
  {
   "cell_type": "code",
   "execution_count": 27,
   "metadata": {},
   "outputs": [],
   "source": [
    "add_columns_to_test = set(columns_train_transf) - set(columns_test_transf)"
   ]
  },
  {
   "cell_type": "code",
   "execution_count": 28,
   "metadata": {},
   "outputs": [
    {
     "data": {
      "text/plain": [
       "{'cat10_AF',\n",
       " 'cat10_AJ',\n",
       " 'cat10_AW',\n",
       " 'cat10_BA',\n",
       " 'cat10_CF',\n",
       " 'cat10_CM',\n",
       " 'cat10_CX',\n",
       " 'cat10_DT',\n",
       " 'cat10_EB',\n",
       " 'cat10_FW',\n",
       " 'cat10_GD',\n",
       " 'cat10_GF',\n",
       " 'cat10_GG',\n",
       " 'cat10_GH',\n",
       " 'cat10_GY',\n",
       " 'cat10_HI',\n",
       " 'cat10_IL',\n",
       " 'cat10_IN',\n",
       " 'cat10_JE',\n",
       " 'cat10_JF',\n",
       " 'cat10_JU',\n",
       " 'cat10_KK',\n",
       " 'cat10_LH',\n",
       " 'cat10_LK',\n",
       " 'cat10_LT',\n",
       " 'cat10_MK',\n",
       " 'cat10_ML',\n",
       " 'cat10_MR',\n",
       " 'cat10_MW'}"
      ]
     },
     "execution_count": 28,
     "metadata": {},
     "output_type": "execute_result"
    }
   ],
   "source": [
    "add_columns_to_test"
   ]
  },
  {
   "cell_type": "code",
   "execution_count": 29,
   "metadata": {},
   "outputs": [],
   "source": [
    "ds_test_transf[list(add_columns_to_test)] = 0"
   ]
  },
  {
   "cell_type": "code",
   "execution_count": 30,
   "metadata": {},
   "outputs": [
    {
     "data": {
      "text/html": [
       "<div>\n",
       "<style scoped>\n",
       "    .dataframe tbody tr th:only-of-type {\n",
       "        vertical-align: middle;\n",
       "    }\n",
       "\n",
       "    .dataframe tbody tr th {\n",
       "        vertical-align: top;\n",
       "    }\n",
       "\n",
       "    .dataframe thead th {\n",
       "        text-align: right;\n",
       "    }\n",
       "</style>\n",
       "<table border=\"1\" class=\"dataframe\">\n",
       "  <thead>\n",
       "    <tr style=\"text-align: right;\">\n",
       "      <th></th>\n",
       "      <th>id</th>\n",
       "      <th>cont0</th>\n",
       "      <th>cont1</th>\n",
       "      <th>cont2</th>\n",
       "      <th>cont3</th>\n",
       "      <th>cont4</th>\n",
       "      <th>cont5</th>\n",
       "      <th>cont6</th>\n",
       "      <th>cont7</th>\n",
       "      <th>cont8</th>\n",
       "      <th>...</th>\n",
       "      <th>cat10_EB</th>\n",
       "      <th>cat10_LH</th>\n",
       "      <th>cat10_FW</th>\n",
       "      <th>cat10_GG</th>\n",
       "      <th>cat10_CF</th>\n",
       "      <th>cat10_BA</th>\n",
       "      <th>cat10_JF</th>\n",
       "      <th>cat10_GY</th>\n",
       "      <th>cat10_LK</th>\n",
       "      <th>cat10_MR</th>\n",
       "    </tr>\n",
       "  </thead>\n",
       "  <tbody>\n",
       "    <tr>\n",
       "      <th>4941</th>\n",
       "      <td>8224</td>\n",
       "      <td>0.283649</td>\n",
       "      <td>0.342611</td>\n",
       "      <td>0.342671</td>\n",
       "      <td>0.560342</td>\n",
       "      <td>0.612346</td>\n",
       "      <td>0.735347</td>\n",
       "      <td>0.571919</td>\n",
       "      <td>0.349539</td>\n",
       "      <td>0.365583</td>\n",
       "      <td>...</td>\n",
       "      <td>0</td>\n",
       "      <td>0</td>\n",
       "      <td>0</td>\n",
       "      <td>0</td>\n",
       "      <td>0</td>\n",
       "      <td>0</td>\n",
       "      <td>0</td>\n",
       "      <td>0</td>\n",
       "      <td>0</td>\n",
       "      <td>0</td>\n",
       "    </tr>\n",
       "    <tr>\n",
       "      <th>51775</th>\n",
       "      <td>86264</td>\n",
       "      <td>0.135080</td>\n",
       "      <td>0.176353</td>\n",
       "      <td>0.214172</td>\n",
       "      <td>0.780538</td>\n",
       "      <td>0.233038</td>\n",
       "      <td>0.061876</td>\n",
       "      <td>0.108614</td>\n",
       "      <td>0.167053</td>\n",
       "      <td>0.276963</td>\n",
       "      <td>...</td>\n",
       "      <td>0</td>\n",
       "      <td>0</td>\n",
       "      <td>0</td>\n",
       "      <td>0</td>\n",
       "      <td>0</td>\n",
       "      <td>0</td>\n",
       "      <td>0</td>\n",
       "      <td>0</td>\n",
       "      <td>0</td>\n",
       "      <td>0</td>\n",
       "    </tr>\n",
       "    <tr>\n",
       "      <th>115253</th>\n",
       "      <td>192429</td>\n",
       "      <td>0.928881</td>\n",
       "      <td>0.775301</td>\n",
       "      <td>0.852616</td>\n",
       "      <td>0.842231</td>\n",
       "      <td>0.810073</td>\n",
       "      <td>0.554478</td>\n",
       "      <td>0.225124</td>\n",
       "      <td>0.932560</td>\n",
       "      <td>0.587645</td>\n",
       "      <td>...</td>\n",
       "      <td>0</td>\n",
       "      <td>0</td>\n",
       "      <td>0</td>\n",
       "      <td>0</td>\n",
       "      <td>0</td>\n",
       "      <td>0</td>\n",
       "      <td>0</td>\n",
       "      <td>0</td>\n",
       "      <td>0</td>\n",
       "      <td>0</td>\n",
       "    </tr>\n",
       "  </tbody>\n",
       "</table>\n",
       "<p>3 rows × 552 columns</p>\n",
       "</div>"
      ],
      "text/plain": [
       "            id     cont0     cont1     cont2     cont3     cont4     cont5  \\\n",
       "4941      8224  0.283649  0.342611  0.342671  0.560342  0.612346  0.735347   \n",
       "51775    86264  0.135080  0.176353  0.214172  0.780538  0.233038  0.061876   \n",
       "115253  192429  0.928881  0.775301  0.852616  0.842231  0.810073  0.554478   \n",
       "\n",
       "           cont6     cont7     cont8  ...  cat10_EB  cat10_LH  cat10_FW  \\\n",
       "4941    0.571919  0.349539  0.365583  ...         0         0         0   \n",
       "51775   0.108614  0.167053  0.276963  ...         0         0         0   \n",
       "115253  0.225124  0.932560  0.587645  ...         0         0         0   \n",
       "\n",
       "        cat10_GG  cat10_CF  cat10_BA  cat10_JF  cat10_GY  cat10_LK  cat10_MR  \n",
       "4941           0         0         0         0         0         0         0  \n",
       "51775          0         0         0         0         0         0         0  \n",
       "115253         0         0         0         0         0         0         0  \n",
       "\n",
       "[3 rows x 552 columns]"
      ]
     },
     "execution_count": 30,
     "metadata": {},
     "output_type": "execute_result"
    }
   ],
   "source": [
    "ds_test_transf.head(3)"
   ]
  },
  {
   "cell_type": "code",
   "execution_count": 31,
   "metadata": {},
   "outputs": [],
   "source": [
    "ds_test_transf = ds_test_transf.reindex(columns=columns_train_transf)"
   ]
  },
  {
   "cell_type": "code",
   "execution_count": 32,
   "metadata": {},
   "outputs": [
    {
     "data": {
      "text/plain": [
       "True"
      ]
     },
     "execution_count": 32,
     "metadata": {},
     "output_type": "execute_result"
    }
   ],
   "source": [
    "ds_test_transf.columns is ds_train_transf.columns"
   ]
  },
  {
   "cell_type": "markdown",
   "metadata": {},
   "source": [
    "### -------------XGB-----------------"
   ]
  },
  {
   "cell_type": "code",
   "execution_count": 36,
   "metadata": {},
   "outputs": [],
   "source": [
    "model_XGB = xgb.XGBClassifier(n_estimators=1000, max_depth=5, learning_rate=0.2, random_state=33, n_jobs=-1)"
   ]
  },
  {
   "cell_type": "code",
   "execution_count": 37,
   "metadata": {},
   "outputs": [
    {
     "name": "stdout",
     "output_type": "stream",
     "text": [
      "[11:45:04] WARNING: ../src/learner.cc:1061: Starting in XGBoost 1.3.0, the default evaluation metric used with the objective 'binary:logistic' was changed from 'error' to 'logloss'. Explicitly set eval_metric if you'd like to restore the old behavior.\n",
      "CPU times: user 2h 41min 31s, sys: 2.38 s, total: 2h 41min 33s\n",
      "Wall time: 10min 9s\n"
     ]
    },
    {
     "data": {
      "text/plain": [
       "XGBClassifier(base_score=0.5, booster='gbtree', colsample_bylevel=1,\n",
       "              colsample_bynode=1, colsample_bytree=1, gamma=0, gpu_id=-1,\n",
       "              importance_type='gain', interaction_constraints='',\n",
       "              learning_rate=0.2, max_delta_step=0, max_depth=5,\n",
       "              min_child_weight=1, missing=nan, monotone_constraints='()',\n",
       "              n_estimators=1000, n_jobs=-1, num_parallel_tree=1,\n",
       "              random_state=33, reg_alpha=0, reg_lambda=1, scale_pos_weight=1,\n",
       "              subsample=1, tree_method='exact', validate_parameters=1,\n",
       "              verbosity=None)"
      ]
     },
     "execution_count": 37,
     "metadata": {},
     "output_type": "execute_result"
    }
   ],
   "source": [
    "%%time\n",
    "model_XGB.fit(ds_train_transf.drop(['id', 'target'], axis=1), ds_train_transf.target)"
   ]
  },
  {
   "cell_type": "code",
   "execution_count": 38,
   "metadata": {},
   "outputs": [],
   "source": [
    "y_pred = model_XGB.predict(ds_test_transf.drop(['id', 'target'], axis=1))"
   ]
  },
  {
   "cell_type": "code",
   "execution_count": 39,
   "metadata": {},
   "outputs": [],
   "source": [
    "y_pred_prob = model_XGB.predict_proba(ds_test_transf.drop(['id', 'target'], axis=1))"
   ]
  },
  {
   "cell_type": "code",
   "execution_count": null,
   "metadata": {},
   "outputs": [],
   "source": []
  },
  {
   "cell_type": "code",
   "execution_count": 41,
   "metadata": {},
   "outputs": [
    {
     "data": {
      "image/png": "[encoded data removed]",
      "text/plain": [
       "<Figure size 288x216 with 1 Axes>"
      ]
     },
     "metadata": {
      "needs_background": "light"
     },
     "output_type": "display_data"
    }
   ],
   "source": [
    "plot_roc_auc_curve(actual=ds_test_transf.target, predict=y_pred_prob[:, 1])"
   ]
  },
  {
   "cell_type": "code",
   "execution_count": null,
   "metadata": {},
   "outputs": [],
   "source": [
    "%%time\n",
    "bemodel_XGB= []\n",
    "best_recall = []\n",
    "best_roc_auc = []\n",
    "best_precision = [] \n",
    "x = []\n",
    "x_keys = []\n",
    "n = 0\n",
    "\n",
    "for cr in ['gini', 'entropy']:\n",
    "    for mln in [5, 3, None]:\n",
    "        for mf in [1, 2, 3, 'auto']:\n",
    "            for boot in [True, False]:\n",
    "                model = RandomForestClassifier(n_estimators=1000, criterion=cr, max_leaf_nodes=mln, \n",
    "                                               max_features=mf, bootstrap=boot, random_state=33, n_jobs=-1)\n",
    "                \n",
    "                model.fit(ds_train_transf.drop(['id', 'target'], axis=1), ds_train_transf.target)\n",
    "                y_pred = model.predict(ds_test_transf.drop(['id', 'target'], axis=1))\n",
    "                \n",
    "                f1 = f1_score(ds_test_transf.target, y_pred)\n",
    "                best_f1.append(f1)\n",
    "                \n",
    "                recall = recall_score(ds_test_transf.target, y_pred)\n",
    "                best_recall.append(recall)\n",
    "                \n",
    "                precision = precision_score(ds_test_transf.target, y_pred)\n",
    "                best_precision.append(precision)\n",
    "                \n",
    "                y_pred_prob = model.predict_proba(ds_test_transf.drop(['id', 'target'], axis=1))\n",
    "                roc_auc = roc_auc_score(ds_test_transf.target, y_pred_prob[:, 1])\n",
    "                best_roc_auc.append(roc_auc)\n",
    "                \n",
    "                x_keys.append(str(cr) +' '+ str(mln) +' '+ str(mf) +' '+ str(boot))\n",
    "                x.append(n)\n",
    "                n += 1"
   ]
  },
  {
   "cell_type": "code",
   "execution_count": null,
   "metadata": {},
   "outputs": [],
   "source": [
    "plt.figure(figsize=(15, 5))\n",
    "#plt.plot(x, best_f1, c='r', label='f1')\n",
    "#plt.plot(x, best_recall, c='b', label='recall')\n",
    "plt.plot(x, best_roc_auc, c='green', label='roc_auc')\n",
    "#plt.plot(x, best_precision, c='yellow', label='precision')\n",
    "plt.legend()\n",
    "plt.show()"
   ]
  },
  {
   "cell_type": "code",
   "execution_count": null,
   "metadata": {},
   "outputs": [],
   "source": [
    "data_score = {'f1': best_f1, 'recall': best_recall, 'precision': best_precision, 'roc_auc': best_roc_auc}\n",
    "ds_scores = pd.DataFrame(data_score, index=x_keys)"
   ]
  },
  {
   "cell_type": "code",
   "execution_count": null,
   "metadata": {},
   "outputs": [],
   "source": [
    "plt.figure(figsize=(4, 11))\n",
    "sns.heatmap(ds_scores.sort_values(by=['f1'], ascending=False), annot=True, fmt='.3f');"
   ]
  },
  {
   "cell_type": "code",
   "execution_count": null,
   "metadata": {},
   "outputs": [],
   "source": []
  },
  {
   "cell_type": "code",
   "execution_count": null,
   "metadata": {},
   "outputs": [],
   "source": []
  },
  {
   "cell_type": "code",
   "execution_count": null,
   "metadata": {},
   "outputs": [],
   "source": []
  },
  {
   "cell_type": "code",
   "execution_count": null,
   "metadata": {},
   "outputs": [],
   "source": []
  },
  {
   "cell_type": "code",
   "execution_count": null,
   "metadata": {},
   "outputs": [],
   "source": []
  },
  {
   "cell_type": "code",
   "execution_count": null,
   "metadata": {},
   "outputs": [],
   "source": []
  },
  {
   "cell_type": "code",
   "execution_count": null,
   "metadata": {},
   "outputs": [],
   "source": []
  },
  {
   "cell_type": "code",
   "execution_count": 44,
   "metadata": {},
   "outputs": [],
   "source": [
    "# def get_numeric(df):\n",
    "#     #df.cont9 = np.log1p(df.cont9)\n",
    "#     return df[columns_numeric]\n",
    "\n",
    "# def get_cat(df):\n",
    "#     return df[columns_cat]\n",
    "\n",
    "# def modif_cat(df):\n",
    "#     all_columns = ds[]\n",
    "#     pass"
   ]
  },
  {
   "cell_type": "code",
   "execution_count": 131,
   "metadata": {},
   "outputs": [],
   "source": [
    "# vec = make_union(*[\n",
    "#     make_pipeline(FunctionTransformer(get_numeric, validate=False), StandardScaler()),\n",
    "#     make_pipeline(FunctionTransformer(get_cat, validate=False), pd.get_dummies(data, drop_first=True, col))\n",
    "        \n",
    "# ], verbose=True, n_jobs=-1)"
   ]
  },
  {
   "cell_type": "code",
   "execution_count": 132,
   "metadata": {},
   "outputs": [],
   "source": [
    "#ds_train_transf = vec.fit_transform(ds_train.drop(['target'], axis=1))"
   ]
  },
  {
   "cell_type": "code",
   "execution_count": null,
   "metadata": {},
   "outputs": [],
   "source": []
  },
  {
   "cell_type": "code",
   "execution_count": null,
   "metadata": {},
   "outputs": [],
   "source": []
  },
  {
   "cell_type": "code",
   "execution_count": null,
   "metadata": {},
   "outputs": [],
   "source": []
  },
  {
   "cell_type": "code",
   "execution_count": null,
   "metadata": {},
   "outputs": [],
   "source": []
  },
  {
   "cell_type": "markdown",
   "metadata": {},
   "source": [
    "### ------------Tree----------------"
   ]
  },
  {
   "cell_type": "code",
   "execution_count": null,
   "metadata": {},
   "outputs": [],
   "source": [
    "params = {'criterion': ['gini', 'entropy'], 'splitter': ['best', 'random'], \n",
    "          'max_depth': [1, 2, 4, 5, 6], 'min'}"
   ]
  },
  {
   "cell_type": "code",
   "execution_count": null,
   "metadata": {},
   "outputs": [],
   "source": []
  },
  {
   "cell_type": "code",
   "execution_count": null,
   "metadata": {},
   "outputs": [],
   "source": [
    "grid = GridSearchCV(n_jobs=-1, error_score=)"
   ]
  },
  {
   "cell_type": "code",
   "execution_count": 133,
   "metadata": {},
   "outputs": [],
   "source": [
    "model_tree = DecisionTreeClassifier()"
   ]
  },
  {
   "cell_type": "code",
   "execution_count": 143,
   "metadata": {},
   "outputs": [
    {
     "name": "stdout",
     "output_type": "stream",
     "text": [
      "CPU times: user 43.1 s, sys: 798 ms, total: 43.9 s\n",
      "Wall time: 43.9 s\n"
     ]
    },
    {
     "data": {
      "text/plain": [
       "DecisionTreeClassifier()"
      ]
     },
     "execution_count": 143,
     "metadata": {},
     "output_type": "execute_result"
    }
   ],
   "source": [
    "%%time\n",
    "model_tree.fit(ds_train_transf.drop(['id', 'target'], axis=1), ds_train_transf.target)"
   ]
  },
  {
   "cell_type": "code",
   "execution_count": 159,
   "metadata": {},
   "outputs": [],
   "source": [
    "y_pred = model_tree.predict(ds_train_transf.drop(['id', 'target'], axis=1))"
   ]
  },
  {
   "cell_type": "code",
   "execution_count": 160,
   "metadata": {},
   "outputs": [],
   "source": [
    "y_pred_proba = model_tree.predict_proba(ds_train_transf.drop(['id', 'target'], axis=1))"
   ]
  },
  {
   "cell_type": "code",
   "execution_count": 161,
   "metadata": {},
   "outputs": [
    {
     "name": "stdout",
     "output_type": "stream",
     "text": [
      "---------------  ---------------\n",
      "Precision - 1.0\n",
      "Recall    - 1.0\n",
      "F1 score  - 1.0\n",
      "ROC AUC   - 1.0\n",
      "-----------------------------------\n"
     ]
    }
   ],
   "source": [
    "print_metrics(ds_train_transf.target, y_pred)"
   ]
  },
  {
   "cell_type": "code",
   "execution_count": 144,
   "metadata": {},
   "outputs": [],
   "source": [
    "y_pred = model_tree.predict(ds_test_transf.drop(['id', 'target'], axis=1))"
   ]
  },
  {
   "cell_type": "code",
   "execution_count": 157,
   "metadata": {},
   "outputs": [],
   "source": [
    "y_pred_proba = model_tree.predict_proba(ds_test_transf.drop(['id', 'target'], axis=1))"
   ]
  },
  {
   "cell_type": "code",
   "execution_count": null,
   "metadata": {},
   "outputs": [],
   "source": []
  },
  {
   "cell_type": "code",
   "execution_count": 158,
   "metadata": {},
   "outputs": [
    {
     "name": "stdout",
     "output_type": "stream",
     "text": [
      "---------------  ---------------\n",
      "Precision - 0.5564185794883685\n",
      "Recall    - 0.6068869594537638\n",
      "F1 score  - 0.5805580195145552\n",
      "ROC AUC   - 0.7168408904761954\n",
      "-----------------------------------\n"
     ]
    }
   ],
   "source": [
    "print_metrics(ds_test_transf.target, y_pred)"
   ]
  },
  {
   "cell_type": "code",
   "execution_count": 148,
   "metadata": {},
   "outputs": [
    {
     "data": {
      "image/png": "[encoded data removed]",
      "text/plain": [
       "<Figure size 288x216 with 1 Axes>"
      ]
     },
     "metadata": {
      "needs_background": "light"
     },
     "output_type": "display_data"
    }
   ],
   "source": [
    "plot_roc_auc_curve(actual=ds_test_transf.target, predict=y_pred_proba[:, 1])"
   ]
  },
  {
   "cell_type": "markdown",
   "metadata": {},
   "source": [
    "### -------------SVC--------------"
   ]
  },
  {
   "cell_type": "code",
   "execution_count": 173,
   "metadata": {},
   "outputs": [],
   "source": [
    "model_SVC = SVC()"
   ]
  },
  {
   "cell_type": "code",
   "execution_count": null,
   "metadata": {},
   "outputs": [],
   "source": [
    "%%time\n",
    "model_SVC.fit(ds_train_transf.drop(['id', 'target'], axis=1), ds_train_transf.target)"
   ]
  },
  {
   "cell_type": "code",
   "execution_count": null,
   "metadata": {},
   "outputs": [],
   "source": [
    "y_pred = model_SVC.predict(ds_test_transf.drop(['id', 'target'], axis=1))"
   ]
  },
  {
   "cell_type": "code",
   "execution_count": null,
   "metadata": {},
   "outputs": [],
   "source": [
    "print_metrics(ds_test_transf.target, y_pred)"
   ]
  },
  {
   "cell_type": "markdown",
   "metadata": {},
   "source": [
    "### ---------------LogReg--------------"
   ]
  },
  {
   "cell_type": "code",
   "execution_count": null,
   "metadata": {},
   "outputs": [],
   "source": [
    "model_LR = Log"
   ]
  }
 ],
 "metadata": {
  "environment": {
   "name": "common-cpu.mnightly-2021-02-02-debian-10-test",
   "type": "gcloud",
   "uri": "gcr.io/deeplearning-platform-release/base-cpu:mnightly-2021-02-02-debian-10-test"
  },
  "kernelspec": {
   "display_name": "Python 3",
   "language": "python",
   "name": "python3"
  },
  "language_info": {
   "codemirror_mode": {
    "name": "ipython",
    "version": 3
   },
   "file_extension": ".py",
   "mimetype": "text/x-python",
   "name": "python",
   "nbconvert_exporter": "python",
   "pygments_lexer": "ipython3",
   "version": "3.7.3"
  }
 },
 "nbformat": 4,
 "nbformat_minor": 4
}
