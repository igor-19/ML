{
 "cells": [
  {
   "cell_type": "markdown",
   "metadata": {},
   "source": [
    "# tabular-playground-series-mar-2021"
   ]
  },
  {
   "cell_type": "markdown",
   "metadata": {},
   "source": [
    "https://www.kaggle.com/c/tabular-playground-series-mar-2021"
   ]
  },
  {
   "cell_type": "code",
   "execution_count": 1,
   "metadata": {},
   "outputs": [],
   "source": [
    "import warnings\n",
    "warnings.filterwarnings('ignore')"
   ]
  },
  {
   "cell_type": "code",
   "execution_count": 2,
   "metadata": {},
   "outputs": [],
   "source": [
    "import numpy as np\n",
    "import pandas as pd\n",
    "import matplotlib.pyplot as plt\n",
    "import matplotlib\n",
    "import seaborn as sns\n",
    "\n",
    "%matplotlib inline"
   ]
  },
  {
   "cell_type": "code",
   "execution_count": 3,
   "metadata": {},
   "outputs": [],
   "source": [
    "from sklearn.metrics import f1_score, recall_score, precision_score, roc_auc_score, roc_curve\n",
    "from sklearn.base import BaseEstimator, TransformerMixin, ClassifierMixin\n",
    "from sklearn.preprocessing import FunctionTransformer, StandardScaler, MinMaxScaler, RobustScaler, OneHotEncoder\n",
    "from sklearn.pipeline import make_union, make_pipeline\n",
    "from sklearn.model_selection import train_test_split, GridSearchCV, StratifiedKFold, cross_val_score\n",
    "from sklearn.svm import SVC\n",
    "from sklearn.tree import DecisionTreeClassifier\n",
    "from sklearn.ensemble import RandomForestClassifier, VotingClassifier, StackingClassifier, BaggingClassifier\n",
    "import xgboost as xgb\n",
    "import lightgbm as lgb"
   ]
  },
  {
   "cell_type": "code",
   "execution_count": 4,
   "metadata": {},
   "outputs": [],
   "source": [
    "import optuna\n",
    "import time"
   ]
  },
  {
   "cell_type": "code",
   "execution_count": 5,
   "metadata": {},
   "outputs": [],
   "source": [
    "import joblib"
   ]
  },
  {
   "cell_type": "code",
   "execution_count": 6,
   "metadata": {},
   "outputs": [],
   "source": [
    "from sklearn.utils import shuffle"
   ]
  },
  {
   "cell_type": "markdown",
   "metadata": {},
   "source": [
    "### ----------------Load data----------------------"
   ]
  },
  {
   "cell_type": "code",
   "execution_count": 7,
   "metadata": {},
   "outputs": [],
   "source": [
    "ds = pd.read_csv('train.csv', delimiter=',')"
   ]
  },
  {
   "cell_type": "code",
   "execution_count": 8,
   "metadata": {},
   "outputs": [],
   "source": [
    "columns_numeric = ['cont0', 'cont1', 'cont2', 'cont3', 'cont4', 'cont5', \n",
    "                   'cont6', 'cont7', 'cont8', 'cont9', 'cont10']\n",
    "columns_cat = [col for col in ds.drop(['id', 'target'], axis=1).columns if col not in columns_numeric]"
   ]
  },
  {
   "cell_type": "markdown",
   "metadata": {},
   "source": [
    "### ---------- Oversampling--------------"
   ]
  },
  {
   "cell_type": "code",
   "execution_count": 9,
   "metadata": {},
   "outputs": [
    {
     "name": "stdout",
     "output_type": "stream",
     "text": [
      "Add rows with target == 1: 141078 rows\n",
      "Or rows with target == 1 multiply by 2 ( 2.775437006833541 )\n"
     ]
    }
   ],
   "source": [
    "print('Add rows with target == 1:', ds.target.value_counts()[0] - ds.target.value_counts()[1], 'rows')\n",
    "print('Or rows with target == 1 multiply by 2 (', ds.target.value_counts()[0] / ds.target.value_counts()[1], ')')"
   ]
  },
  {
   "cell_type": "code",
   "execution_count": 10,
   "metadata": {},
   "outputs": [],
   "source": [
    "def oversampling_with_noise(df, noise=[1.0, 1.0]):\n",
    "    add_rows_index = df[df.target == 1].index\n",
    "    add_rows = df.loc[add_rows_index]\n",
    "    add_rows[columns_numeric] = add_rows[columns_numeric] * noise[0]\n",
    "    \n",
    "    add_number_rows = df[df.target == 0].shape[0] - (df[df.target == 1].shape[0] * 2)\n",
    "    \n",
    "    index_rows = np.random.choice(add_rows_index, add_number_rows)\n",
    "    add_rows_two = df.loc[index_rows]\n",
    "    add_rows_two[columns_numeric] = add_rows_two[columns_numeric] * noise[1]\n",
    "       \n",
    "    df = df.append(add_rows)\n",
    "    df = df.append(add_rows_two)\n",
    "    \n",
    "    df = shuffle(df)\n",
    "    return df"
   ]
  },
  {
   "cell_type": "code",
   "execution_count": 11,
   "metadata": {},
   "outputs": [
    {
     "name": "stdout",
     "output_type": "stream",
     "text": [
      "CPU times: user 520 ms, sys: 152 ms, total: 672 ms\n",
      "Wall time: 671 ms\n"
     ]
    }
   ],
   "source": [
    "%%time\n",
    "ds_over = oversampling_with_noise(ds, noise=[0.98, 1.02])"
   ]
  },
  {
   "cell_type": "code",
   "execution_count": 12,
   "metadata": {},
   "outputs": [
    {
     "data": {
      "text/plain": [
       "(1    220539\n",
       " 0    220539\n",
       " Name: target, dtype: int64,\n",
       " 1    0.5\n",
       " 0    0.5\n",
       " Name: target, dtype: float64)"
      ]
     },
     "execution_count": 12,
     "metadata": {},
     "output_type": "execute_result"
    }
   ],
   "source": [
    "ds_over.target.value_counts(), ds_over.target.value_counts(normalize=True)"
   ]
  },
  {
   "cell_type": "code",
   "execution_count": 13,
   "metadata": {},
   "outputs": [
    {
     "data": {
      "image/png": "[encoded data removed]",
      "text/plain": [
       "<Figure size 432x288 with 1 Axes>"
      ]
     },
     "metadata": {
      "needs_background": "light"
     },
     "output_type": "display_data"
    }
   ],
   "source": [
    "sns.countplot(ds_over.target);"
   ]
  },
  {
   "cell_type": "code",
   "execution_count": 14,
   "metadata": {},
   "outputs": [
    {
     "data": {
      "text/html": [
       "<div>\n",
       "<style scoped>\n",
       "    .dataframe tbody tr th:only-of-type {\n",
       "        vertical-align: middle;\n",
       "    }\n",
       "\n",
       "    .dataframe tbody tr th {\n",
       "        vertical-align: top;\n",
       "    }\n",
       "\n",
       "    .dataframe thead th {\n",
       "        text-align: right;\n",
       "    }\n",
       "</style>\n",
       "<table border=\"1\" class=\"dataframe\">\n",
       "  <thead>\n",
       "    <tr style=\"text-align: right;\">\n",
       "      <th></th>\n",
       "      <th>id</th>\n",
       "      <th>cat0</th>\n",
       "      <th>cat1</th>\n",
       "      <th>cat2</th>\n",
       "      <th>cat3</th>\n",
       "      <th>cat4</th>\n",
       "      <th>cat5</th>\n",
       "      <th>cat6</th>\n",
       "      <th>cat7</th>\n",
       "      <th>cat8</th>\n",
       "      <th>...</th>\n",
       "      <th>cont2</th>\n",
       "      <th>cont3</th>\n",
       "      <th>cont4</th>\n",
       "      <th>cont5</th>\n",
       "      <th>cont6</th>\n",
       "      <th>cont7</th>\n",
       "      <th>cont8</th>\n",
       "      <th>cont9</th>\n",
       "      <th>cont10</th>\n",
       "      <th>target</th>\n",
       "    </tr>\n",
       "  </thead>\n",
       "  <tbody>\n",
       "    <tr>\n",
       "      <th>290362</th>\n",
       "      <td>483966</td>\n",
       "      <td>A</td>\n",
       "      <td>K</td>\n",
       "      <td>A</td>\n",
       "      <td>A</td>\n",
       "      <td>H</td>\n",
       "      <td>BI</td>\n",
       "      <td>A</td>\n",
       "      <td>U</td>\n",
       "      <td>X</td>\n",
       "      <td>...</td>\n",
       "      <td>0.675870</td>\n",
       "      <td>0.324522</td>\n",
       "      <td>0.729918</td>\n",
       "      <td>0.684258</td>\n",
       "      <td>0.714397</td>\n",
       "      <td>0.362458</td>\n",
       "      <td>0.317510</td>\n",
       "      <td>0.280377</td>\n",
       "      <td>0.396261</td>\n",
       "      <td>0</td>\n",
       "    </tr>\n",
       "    <tr>\n",
       "      <th>72429</th>\n",
       "      <td>121076</td>\n",
       "      <td>A</td>\n",
       "      <td>H</td>\n",
       "      <td>A</td>\n",
       "      <td>B</td>\n",
       "      <td>H</td>\n",
       "      <td>BI</td>\n",
       "      <td>G</td>\n",
       "      <td>AH</td>\n",
       "      <td>AT</td>\n",
       "      <td>...</td>\n",
       "      <td>0.840716</td>\n",
       "      <td>0.311353</td>\n",
       "      <td>0.196831</td>\n",
       "      <td>0.794648</td>\n",
       "      <td>0.888301</td>\n",
       "      <td>0.404780</td>\n",
       "      <td>0.987549</td>\n",
       "      <td>0.545994</td>\n",
       "      <td>0.403719</td>\n",
       "      <td>1</td>\n",
       "    </tr>\n",
       "    <tr>\n",
       "      <th>256789</th>\n",
       "      <td>428106</td>\n",
       "      <td>A</td>\n",
       "      <td>I</td>\n",
       "      <td>A</td>\n",
       "      <td>B</td>\n",
       "      <td>F</td>\n",
       "      <td>BI</td>\n",
       "      <td>A</td>\n",
       "      <td>AH</td>\n",
       "      <td>BM</td>\n",
       "      <td>...</td>\n",
       "      <td>0.602429</td>\n",
       "      <td>0.655739</td>\n",
       "      <td>0.366462</td>\n",
       "      <td>0.767076</td>\n",
       "      <td>0.257480</td>\n",
       "      <td>0.510600</td>\n",
       "      <td>0.640428</td>\n",
       "      <td>0.332808</td>\n",
       "      <td>0.387601</td>\n",
       "      <td>0</td>\n",
       "    </tr>\n",
       "  </tbody>\n",
       "</table>\n",
       "<p>3 rows × 32 columns</p>\n",
       "</div>"
      ],
      "text/plain": [
       "            id cat0 cat1 cat2 cat3 cat4 cat5 cat6 cat7 cat8  ...     cont2  \\\n",
       "290362  483966    A    K    A    A    H   BI    A    U    X  ...  0.675870   \n",
       "72429   121076    A    H    A    B    H   BI    G   AH   AT  ...  0.840716   \n",
       "256789  428106    A    I    A    B    F   BI    A   AH   BM  ...  0.602429   \n",
       "\n",
       "           cont3     cont4     cont5     cont6     cont7     cont8     cont9  \\\n",
       "290362  0.324522  0.729918  0.684258  0.714397  0.362458  0.317510  0.280377   \n",
       "72429   0.311353  0.196831  0.794648  0.888301  0.404780  0.987549  0.545994   \n",
       "256789  0.655739  0.366462  0.767076  0.257480  0.510600  0.640428  0.332808   \n",
       "\n",
       "          cont10 target  \n",
       "290362  0.396261      0  \n",
       "72429   0.403719      1  \n",
       "256789  0.387601      0  \n",
       "\n",
       "[3 rows x 32 columns]"
      ]
     },
     "execution_count": 14,
     "metadata": {},
     "output_type": "execute_result"
    }
   ],
   "source": [
    "ds_over.head(3)"
   ]
  },
  {
   "cell_type": "code",
   "execution_count": null,
   "metadata": {},
   "outputs": [],
   "source": []
  },
  {
   "cell_type": "markdown",
   "metadata": {},
   "source": [
    "### ----------metrics------------"
   ]
  },
  {
   "cell_type": "code",
   "execution_count": 15,
   "metadata": {},
   "outputs": [],
   "source": [
    "def print_metrics(actual, predict, title=''):\n",
    "    precision = precision_score(actual, predict)\n",
    "    recall = recall_score(actual, predict)\n",
    "    f1 = f1_score(actual, predict)\n",
    "        \n",
    "    print('-'*15, title, '-'*15)\n",
    "    print(f'Precision - {precision}')\n",
    "    print(f'Recall    - {recall}')\n",
    "    print(f'F1 score  - {f1}')\n",
    "    print('-'*35)"
   ]
  },
  {
   "cell_type": "code",
   "execution_count": 16,
   "metadata": {},
   "outputs": [],
   "source": [
    "def plot_roc_auc_curve(actual, predict):\n",
    "    fpr, tpr, threshold = roc_curve(actual, predict)\n",
    "    roc_auc = roc_auc_score(actual, predict)\n",
    "    plt.figure(figsize=(4, 3))\n",
    "    plt.plot(fpr, tpr, c='b')\n",
    "    plt.plot([0, 1], [0, 1], c='red')\n",
    "    plt.title(f'ROC AUC {roc_auc}')\n",
    "    plt.xlim([0.0, 1.0])\n",
    "    plt.ylim([0.0, 1.05])\n",
    "    plt.xlabel('False Positive Rate')\n",
    "    plt.ylabel('True Positive Rate')\n",
    "    plt.show()"
   ]
  },
  {
   "cell_type": "markdown",
   "metadata": {},
   "source": [
    "### ---------------Transform--------------"
   ]
  },
  {
   "cell_type": "code",
   "execution_count": 17,
   "metadata": {},
   "outputs": [],
   "source": [
    "ds_transf = ds_over.copy(deep=True)"
   ]
  },
  {
   "cell_type": "code",
   "execution_count": 18,
   "metadata": {},
   "outputs": [],
   "source": [
    "ds_transf.cont9 = np.log1p(ds_transf.cont9)"
   ]
  },
  {
   "cell_type": "code",
   "execution_count": 19,
   "metadata": {},
   "outputs": [],
   "source": [
    "ds_transf = pd.get_dummies(ds_transf, prefix_sep='_', columns=columns_cat, drop_first=True)"
   ]
  },
  {
   "cell_type": "code",
   "execution_count": 20,
   "metadata": {},
   "outputs": [
    {
     "data": {
      "text/plain": [
       "((441078, 617), (300000, 32))"
      ]
     },
     "execution_count": 20,
     "metadata": {},
     "output_type": "execute_result"
    }
   ],
   "source": [
    "ds_transf.shape, ds.shape"
   ]
  },
  {
   "cell_type": "markdown",
   "metadata": {},
   "source": [
    "#### ----------------SHORT------------------"
   ]
  },
  {
   "cell_type": "code",
   "execution_count": 21,
   "metadata": {},
   "outputs": [],
   "source": [
    "# ds_transf.shape"
   ]
  },
  {
   "cell_type": "code",
   "execution_count": 22,
   "metadata": {},
   "outputs": [],
   "source": [
    "# ds_transf.reset_index(inplace=True)\n",
    "# ds_transf.drop('id', axis=1, inplace=True)\n",
    "# ds_transf.head(3)"
   ]
  },
  {
   "cell_type": "code",
   "execution_count": 23,
   "metadata": {},
   "outputs": [],
   "source": [
    "# index_all = ds_transf.index"
   ]
  },
  {
   "cell_type": "code",
   "execution_count": 24,
   "metadata": {},
   "outputs": [],
   "source": [
    "# size_row = int(ds_transf.shape[0] / 10)\n",
    "# index_short = np.random.choice(index_all, size_row, replace=False)\n",
    "# index_short.shape"
   ]
  },
  {
   "cell_type": "code",
   "execution_count": 25,
   "metadata": {},
   "outputs": [],
   "source": [
    "# ds_transf_short = ds_transf.loc[index_short]\n",
    "# ds_transf_short.shape"
   ]
  },
  {
   "cell_type": "code",
   "execution_count": 26,
   "metadata": {},
   "outputs": [],
   "source": [
    "# ds_transf_short.head(3)"
   ]
  },
  {
   "cell_type": "markdown",
   "metadata": {},
   "source": [
    "### -------------models-----------------"
   ]
  },
  {
   "cell_type": "code",
   "execution_count": null,
   "metadata": {},
   "outputs": [],
   "source": []
  },
  {
   "cell_type": "code",
   "execution_count": 30,
   "metadata": {},
   "outputs": [],
   "source": [
    "model_RF = RandomForestClassifier(n_estimators=1500, criterion='entropy', max_leaf_nodes=None, \n",
    "                                  max_features='auto', bootstrap=True, random_state=78, n_jobs=-1)"
   ]
  },
  {
   "cell_type": "code",
   "execution_count": null,
   "metadata": {},
   "outputs": [
    {
     "name": "stdout",
     "output_type": "stream",
     "text": [
      "15:45:52|"
     ]
    }
   ],
   "source": [
    "%%time\n",
    "print(time.strftime('%X'), end='|')\n",
    "model_RF.fit(model_RF.fit(X=ds_transf.drop(['id', 'target'], axis=1), y=ds_transf.target))"
   ]
  },
  {
   "cell_type": "markdown",
   "metadata": {},
   "source": [
    "### ----------------TEST-----------------"
   ]
  },
  {
   "cell_type": "code",
   "execution_count": 27,
   "metadata": {},
   "outputs": [],
   "source": [
    "ds_test = pd.read_csv('test.csv')"
   ]
  },
  {
   "cell_type": "code",
   "execution_count": 28,
   "metadata": {},
   "outputs": [],
   "source": [
    "ds_test_transf = ds_test.copy(deep=True)"
   ]
  },
  {
   "cell_type": "code",
   "execution_count": 29,
   "metadata": {},
   "outputs": [],
   "source": [
    "ds_test_transf.cont9 = np.log1p(ds_test_transf.cont9)"
   ]
  },
  {
   "cell_type": "code",
   "execution_count": 30,
   "metadata": {},
   "outputs": [],
   "source": [
    "ds_test_transf = pd.get_dummies(ds_test_transf, prefix_sep='_', columns=columns_cat)"
   ]
  },
  {
   "cell_type": "code",
   "execution_count": 31,
   "metadata": {},
   "outputs": [
    {
     "data": {
      "text/plain": [
       "((200000, 631), (441078, 617))"
      ]
     },
     "execution_count": 31,
     "metadata": {},
     "output_type": "execute_result"
    }
   ],
   "source": [
    "ds_test_transf.shape, ds_transf.shape"
   ]
  },
  {
   "cell_type": "code",
   "execution_count": 32,
   "metadata": {},
   "outputs": [],
   "source": [
    "columns_train_transf = ds_transf.drop(['id', 'target'], axis=1).columns\n",
    "columns_test_transf = ds_test_transf.drop(['id'], axis=1).columns"
   ]
  },
  {
   "cell_type": "code",
   "execution_count": 33,
   "metadata": {},
   "outputs": [],
   "source": [
    "add_columns_to_test = [col for col in columns_train_transf if col not in columns_test_transf]"
   ]
  },
  {
   "cell_type": "code",
   "execution_count": 34,
   "metadata": {},
   "outputs": [
    {
     "data": {
      "text/plain": [
       "['cat10_AW',\n",
       " 'cat10_BS',\n",
       " 'cat10_CH',\n",
       " 'cat10_CX',\n",
       " 'cat10_FW',\n",
       " 'cat10_GH',\n",
       " 'cat10_IL',\n",
       " 'cat10_JF',\n",
       " 'cat10_LK',\n",
       " 'cat10_MK',\n",
       " 'cat10_MO',\n",
       " 'cat10_MW']"
      ]
     },
     "execution_count": 34,
     "metadata": {},
     "output_type": "execute_result"
    }
   ],
   "source": [
    "add_columns_to_test"
   ]
  },
  {
   "cell_type": "code",
   "execution_count": 35,
   "metadata": {},
   "outputs": [],
   "source": [
    "ds_test_transf[add_columns_to_test] = 0"
   ]
  },
  {
   "cell_type": "code",
   "execution_count": 36,
   "metadata": {},
   "outputs": [
    {
     "data": {
      "text/html": [
       "<div>\n",
       "<style scoped>\n",
       "    .dataframe tbody tr th:only-of-type {\n",
       "        vertical-align: middle;\n",
       "    }\n",
       "\n",
       "    .dataframe tbody tr th {\n",
       "        vertical-align: top;\n",
       "    }\n",
       "\n",
       "    .dataframe thead th {\n",
       "        text-align: right;\n",
       "    }\n",
       "</style>\n",
       "<table border=\"1\" class=\"dataframe\">\n",
       "  <thead>\n",
       "    <tr style=\"text-align: right;\">\n",
       "      <th></th>\n",
       "      <th>cat10_AW</th>\n",
       "      <th>cat10_BS</th>\n",
       "      <th>cat10_CH</th>\n",
       "      <th>cat10_CX</th>\n",
       "      <th>cat10_FW</th>\n",
       "      <th>cat10_GH</th>\n",
       "      <th>cat10_IL</th>\n",
       "      <th>cat10_JF</th>\n",
       "      <th>cat10_LK</th>\n",
       "      <th>cat10_MK</th>\n",
       "      <th>cat10_MO</th>\n",
       "      <th>cat10_MW</th>\n",
       "    </tr>\n",
       "  </thead>\n",
       "  <tbody>\n",
       "    <tr>\n",
       "      <th>0</th>\n",
       "      <td>0</td>\n",
       "      <td>0</td>\n",
       "      <td>0</td>\n",
       "      <td>0</td>\n",
       "      <td>0</td>\n",
       "      <td>0</td>\n",
       "      <td>0</td>\n",
       "      <td>0</td>\n",
       "      <td>0</td>\n",
       "      <td>0</td>\n",
       "      <td>0</td>\n",
       "      <td>0</td>\n",
       "    </tr>\n",
       "    <tr>\n",
       "      <th>1</th>\n",
       "      <td>0</td>\n",
       "      <td>0</td>\n",
       "      <td>0</td>\n",
       "      <td>0</td>\n",
       "      <td>0</td>\n",
       "      <td>0</td>\n",
       "      <td>0</td>\n",
       "      <td>0</td>\n",
       "      <td>0</td>\n",
       "      <td>0</td>\n",
       "      <td>0</td>\n",
       "      <td>0</td>\n",
       "    </tr>\n",
       "    <tr>\n",
       "      <th>2</th>\n",
       "      <td>0</td>\n",
       "      <td>0</td>\n",
       "      <td>0</td>\n",
       "      <td>0</td>\n",
       "      <td>0</td>\n",
       "      <td>0</td>\n",
       "      <td>0</td>\n",
       "      <td>0</td>\n",
       "      <td>0</td>\n",
       "      <td>0</td>\n",
       "      <td>0</td>\n",
       "      <td>0</td>\n",
       "    </tr>\n",
       "  </tbody>\n",
       "</table>\n",
       "</div>"
      ],
      "text/plain": [
       "   cat10_AW  cat10_BS  cat10_CH  cat10_CX  cat10_FW  cat10_GH  cat10_IL  \\\n",
       "0         0         0         0         0         0         0         0   \n",
       "1         0         0         0         0         0         0         0   \n",
       "2         0         0         0         0         0         0         0   \n",
       "\n",
       "   cat10_JF  cat10_LK  cat10_MK  cat10_MO  cat10_MW  \n",
       "0         0         0         0         0         0  \n",
       "1         0         0         0         0         0  \n",
       "2         0         0         0         0         0  "
      ]
     },
     "execution_count": 36,
     "metadata": {},
     "output_type": "execute_result"
    }
   ],
   "source": [
    "ds_test_transf[add_columns_to_test].head(3)"
   ]
  },
  {
   "cell_type": "code",
   "execution_count": 37,
   "metadata": {},
   "outputs": [
    {
     "data": {
      "text/html": [
       "<div>\n",
       "<style scoped>\n",
       "    .dataframe tbody tr th:only-of-type {\n",
       "        vertical-align: middle;\n",
       "    }\n",
       "\n",
       "    .dataframe tbody tr th {\n",
       "        vertical-align: top;\n",
       "    }\n",
       "\n",
       "    .dataframe thead th {\n",
       "        text-align: right;\n",
       "    }\n",
       "</style>\n",
       "<table border=\"1\" class=\"dataframe\">\n",
       "  <thead>\n",
       "    <tr style=\"text-align: right;\">\n",
       "      <th></th>\n",
       "      <th>cont0</th>\n",
       "      <th>cont1</th>\n",
       "      <th>cont2</th>\n",
       "      <th>cont3</th>\n",
       "      <th>cont4</th>\n",
       "      <th>cont5</th>\n",
       "      <th>cont6</th>\n",
       "      <th>cont7</th>\n",
       "      <th>cont8</th>\n",
       "      <th>cont9</th>\n",
       "      <th>...</th>\n",
       "      <th>cat15_D</th>\n",
       "      <th>cat16_B</th>\n",
       "      <th>cat16_C</th>\n",
       "      <th>cat16_D</th>\n",
       "      <th>cat17_B</th>\n",
       "      <th>cat17_C</th>\n",
       "      <th>cat17_D</th>\n",
       "      <th>cat18_B</th>\n",
       "      <th>cat18_C</th>\n",
       "      <th>cat18_D</th>\n",
       "    </tr>\n",
       "  </thead>\n",
       "  <tbody>\n",
       "    <tr>\n",
       "      <th>290362</th>\n",
       "      <td>0.573887</td>\n",
       "      <td>0.685103</td>\n",
       "      <td>0.675870</td>\n",
       "      <td>0.324522</td>\n",
       "      <td>0.729918</td>\n",
       "      <td>0.684258</td>\n",
       "      <td>0.714397</td>\n",
       "      <td>0.362458</td>\n",
       "      <td>0.317510</td>\n",
       "      <td>0.247155</td>\n",
       "      <td>...</td>\n",
       "      <td>0</td>\n",
       "      <td>0</td>\n",
       "      <td>0</td>\n",
       "      <td>1</td>\n",
       "      <td>0</td>\n",
       "      <td>0</td>\n",
       "      <td>1</td>\n",
       "      <td>1</td>\n",
       "      <td>0</td>\n",
       "      <td>0</td>\n",
       "    </tr>\n",
       "    <tr>\n",
       "      <th>72429</th>\n",
       "      <td>0.540947</td>\n",
       "      <td>0.939383</td>\n",
       "      <td>0.840716</td>\n",
       "      <td>0.311353</td>\n",
       "      <td>0.196831</td>\n",
       "      <td>0.794648</td>\n",
       "      <td>0.888301</td>\n",
       "      <td>0.404780</td>\n",
       "      <td>0.987549</td>\n",
       "      <td>0.435667</td>\n",
       "      <td>...</td>\n",
       "      <td>1</td>\n",
       "      <td>1</td>\n",
       "      <td>0</td>\n",
       "      <td>0</td>\n",
       "      <td>0</td>\n",
       "      <td>0</td>\n",
       "      <td>1</td>\n",
       "      <td>1</td>\n",
       "      <td>0</td>\n",
       "      <td>0</td>\n",
       "    </tr>\n",
       "    <tr>\n",
       "      <th>256789</th>\n",
       "      <td>0.426058</td>\n",
       "      <td>0.586212</td>\n",
       "      <td>0.602429</td>\n",
       "      <td>0.655739</td>\n",
       "      <td>0.366462</td>\n",
       "      <td>0.767076</td>\n",
       "      <td>0.257480</td>\n",
       "      <td>0.510600</td>\n",
       "      <td>0.640428</td>\n",
       "      <td>0.287288</td>\n",
       "      <td>...</td>\n",
       "      <td>0</td>\n",
       "      <td>0</td>\n",
       "      <td>0</td>\n",
       "      <td>1</td>\n",
       "      <td>0</td>\n",
       "      <td>0</td>\n",
       "      <td>1</td>\n",
       "      <td>1</td>\n",
       "      <td>0</td>\n",
       "      <td>0</td>\n",
       "    </tr>\n",
       "  </tbody>\n",
       "</table>\n",
       "<p>3 rows × 615 columns</p>\n",
       "</div>"
      ],
      "text/plain": [
       "           cont0     cont1     cont2     cont3     cont4     cont5     cont6  \\\n",
       "290362  0.573887  0.685103  0.675870  0.324522  0.729918  0.684258  0.714397   \n",
       "72429   0.540947  0.939383  0.840716  0.311353  0.196831  0.794648  0.888301   \n",
       "256789  0.426058  0.586212  0.602429  0.655739  0.366462  0.767076  0.257480   \n",
       "\n",
       "           cont7     cont8     cont9  ...  cat15_D  cat16_B  cat16_C  cat16_D  \\\n",
       "290362  0.362458  0.317510  0.247155  ...        0        0        0        1   \n",
       "72429   0.404780  0.987549  0.435667  ...        1        1        0        0   \n",
       "256789  0.510600  0.640428  0.287288  ...        0        0        0        1   \n",
       "\n",
       "        cat17_B  cat17_C  cat17_D  cat18_B  cat18_C  cat18_D  \n",
       "290362        0        0        1        1        0        0  \n",
       "72429         0        0        1        1        0        0  \n",
       "256789        0        0        1        1        0        0  \n",
       "\n",
       "[3 rows x 615 columns]"
      ]
     },
     "execution_count": 37,
     "metadata": {},
     "output_type": "execute_result"
    }
   ],
   "source": [
    "ds_transf[columns_train_transf].head(3)"
   ]
  },
  {
   "cell_type": "code",
   "execution_count": 38,
   "metadata": {},
   "outputs": [
    {
     "data": {
      "text/html": [
       "<div>\n",
       "<style scoped>\n",
       "    .dataframe tbody tr th:only-of-type {\n",
       "        vertical-align: middle;\n",
       "    }\n",
       "\n",
       "    .dataframe tbody tr th {\n",
       "        vertical-align: top;\n",
       "    }\n",
       "\n",
       "    .dataframe thead th {\n",
       "        text-align: right;\n",
       "    }\n",
       "</style>\n",
       "<table border=\"1\" class=\"dataframe\">\n",
       "  <thead>\n",
       "    <tr style=\"text-align: right;\">\n",
       "      <th></th>\n",
       "      <th>cont0</th>\n",
       "      <th>cont1</th>\n",
       "      <th>cont2</th>\n",
       "      <th>cont3</th>\n",
       "      <th>cont4</th>\n",
       "      <th>cont5</th>\n",
       "      <th>cont6</th>\n",
       "      <th>cont7</th>\n",
       "      <th>cont8</th>\n",
       "      <th>cont9</th>\n",
       "      <th>...</th>\n",
       "      <th>cat15_D</th>\n",
       "      <th>cat16_B</th>\n",
       "      <th>cat16_C</th>\n",
       "      <th>cat16_D</th>\n",
       "      <th>cat17_B</th>\n",
       "      <th>cat17_C</th>\n",
       "      <th>cat17_D</th>\n",
       "      <th>cat18_B</th>\n",
       "      <th>cat18_C</th>\n",
       "      <th>cat18_D</th>\n",
       "    </tr>\n",
       "  </thead>\n",
       "  <tbody>\n",
       "    <tr>\n",
       "      <th>0</th>\n",
       "      <td>0.708120</td>\n",
       "      <td>0.735690</td>\n",
       "      <td>0.578366</td>\n",
       "      <td>0.723154</td>\n",
       "      <td>0.228037</td>\n",
       "      <td>0.356227</td>\n",
       "      <td>0.551249</td>\n",
       "      <td>0.655693</td>\n",
       "      <td>0.598331</td>\n",
       "      <td>0.307475</td>\n",
       "      <td>...</td>\n",
       "      <td>0</td>\n",
       "      <td>0</td>\n",
       "      <td>0</td>\n",
       "      <td>1</td>\n",
       "      <td>0</td>\n",
       "      <td>0</td>\n",
       "      <td>1</td>\n",
       "      <td>1</td>\n",
       "      <td>0</td>\n",
       "      <td>0</td>\n",
       "    </tr>\n",
       "    <tr>\n",
       "      <th>1</th>\n",
       "      <td>0.611637</td>\n",
       "      <td>0.313703</td>\n",
       "      <td>0.928885</td>\n",
       "      <td>0.516602</td>\n",
       "      <td>0.600169</td>\n",
       "      <td>0.795224</td>\n",
       "      <td>0.248987</td>\n",
       "      <td>0.654614</td>\n",
       "      <td>0.347944</td>\n",
       "      <td>0.448218</td>\n",
       "      <td>...</td>\n",
       "      <td>1</td>\n",
       "      <td>1</td>\n",
       "      <td>0</td>\n",
       "      <td>0</td>\n",
       "      <td>0</td>\n",
       "      <td>0</td>\n",
       "      <td>1</td>\n",
       "      <td>1</td>\n",
       "      <td>0</td>\n",
       "      <td>0</td>\n",
       "    </tr>\n",
       "    <tr>\n",
       "      <th>2</th>\n",
       "      <td>0.456289</td>\n",
       "      <td>0.448201</td>\n",
       "      <td>0.424876</td>\n",
       "      <td>0.344729</td>\n",
       "      <td>0.242073</td>\n",
       "      <td>0.270632</td>\n",
       "      <td>0.746740</td>\n",
       "      <td>0.335590</td>\n",
       "      <td>0.341238</td>\n",
       "      <td>0.224973</td>\n",
       "      <td>...</td>\n",
       "      <td>0</td>\n",
       "      <td>0</td>\n",
       "      <td>0</td>\n",
       "      <td>1</td>\n",
       "      <td>0</td>\n",
       "      <td>0</td>\n",
       "      <td>1</td>\n",
       "      <td>1</td>\n",
       "      <td>0</td>\n",
       "      <td>0</td>\n",
       "    </tr>\n",
       "  </tbody>\n",
       "</table>\n",
       "<p>3 rows × 615 columns</p>\n",
       "</div>"
      ],
      "text/plain": [
       "      cont0     cont1     cont2     cont3     cont4     cont5     cont6  \\\n",
       "0  0.708120  0.735690  0.578366  0.723154  0.228037  0.356227  0.551249   \n",
       "1  0.611637  0.313703  0.928885  0.516602  0.600169  0.795224  0.248987   \n",
       "2  0.456289  0.448201  0.424876  0.344729  0.242073  0.270632  0.746740   \n",
       "\n",
       "      cont7     cont8     cont9  ...  cat15_D  cat16_B  cat16_C  cat16_D  \\\n",
       "0  0.655693  0.598331  0.307475  ...        0        0        0        1   \n",
       "1  0.654614  0.347944  0.448218  ...        1        1        0        0   \n",
       "2  0.335590  0.341238  0.224973  ...        0        0        0        1   \n",
       "\n",
       "   cat17_B  cat17_C  cat17_D  cat18_B  cat18_C  cat18_D  \n",
       "0        0        0        1        1        0        0  \n",
       "1        0        0        1        1        0        0  \n",
       "2        0        0        1        1        0        0  \n",
       "\n",
       "[3 rows x 615 columns]"
      ]
     },
     "execution_count": 38,
     "metadata": {},
     "output_type": "execute_result"
    }
   ],
   "source": [
    "ds_test_transf[columns_train_transf].head(3)"
   ]
  },
  {
   "cell_type": "code",
   "execution_count": 39,
   "metadata": {},
   "outputs": [
    {
     "data": {
      "text/plain": [
       "((441078, 615), (200000, 615))"
      ]
     },
     "execution_count": 39,
     "metadata": {},
     "output_type": "execute_result"
    }
   ],
   "source": [
    "ds_transf[columns_train_transf].shape, ds_test_transf[columns_train_transf].shape"
   ]
  },
  {
   "cell_type": "code",
   "execution_count": null,
   "metadata": {},
   "outputs": [],
   "source": []
  },
  {
   "cell_type": "code",
   "execution_count": 41,
   "metadata": {},
   "outputs": [
    {
     "name": "stdout",
     "output_type": "stream",
     "text": [
      "19:29:05-1 0.9654687692918004\n",
      "20:03:57-2 0.9657118809812882\n",
      "20:39:39-3 0.9647174974827154\n",
      "21:15:15-4 0.9652898246122099\n",
      "CPU times: user 13h 50min 58s, sys: 14min 14s, total: 14h 5min 13s\n",
      "Wall time: 2h 21min 45s\n"
     ]
    }
   ],
   "source": [
    "%%time\n",
    "\n",
    "preds = np.zeros(ds_test_transf.shape[0])\n",
    "\n",
    "kf = StratifiedKFold(n_splits=4 , random_state=0 , shuffle=True)\n",
    "roc = []\n",
    "n = 0\n",
    "for trn_idx , val_idx in kf.split(ds_transf[columns_train_transf] , ds_transf.target):\n",
    "    train_x = ds_transf[columns_train_transf].iloc[trn_idx]\n",
    "    train_y = ds_transf.target.iloc[trn_idx]\n",
    "    val_x = ds_transf[columns_train_transf].iloc[val_idx]\n",
    "    val_y = ds_transf.target.iloc[val_idx]\n",
    "    \n",
    "    model_RF = RandomForestClassifier(n_estimators=1500, criterion='entropy', max_leaf_nodes=None, \n",
    "                                      max_features='auto', bootstrap=True, random_state=78, n_jobs=-1)\n",
    "        \n",
    "    print(time.strftime('%X'), end='-')    \n",
    "    \n",
    "    model_RF.fit(train_x , train_y)\n",
    "    \n",
    "    preds += model_RF.predict_proba(ds_test_transf[columns_train_transf])[:, 1]/kf.n_splits\n",
    "    \n",
    "    roc.append(roc_auc_score(val_y , model_RF.predict_proba(val_x)[:,1]))\n",
    "    print(n+1 , roc[n])\n",
    "    n+=1"
   ]
  },
  {
   "cell_type": "code",
   "execution_count": 43,
   "metadata": {},
   "outputs": [],
   "source": [
    "ds_test_transf['target'] = preds"
   ]
  },
  {
   "cell_type": "code",
   "execution_count": 44,
   "metadata": {},
   "outputs": [],
   "source": [
    "answer = ds_test_transf[['id', 'target']]"
   ]
  },
  {
   "cell_type": "code",
   "execution_count": 45,
   "metadata": {},
   "outputs": [],
   "source": [
    "answer.to_csv('answer_10_(31_03_21)_RF_my_1500_fold4.csv', index=False)"
   ]
  },
  {
   "cell_type": "code",
   "execution_count": 42,
   "metadata": {},
   "outputs": [],
   "source": []
  },
  {
   "cell_type": "code",
   "execution_count": null,
   "metadata": {},
   "outputs": [],
   "source": []
  },
  {
   "cell_type": "code",
   "execution_count": null,
   "metadata": {},
   "outputs": [],
   "source": []
  },
  {
   "cell_type": "code",
   "execution_count": null,
   "metadata": {},
   "outputs": [],
   "source": [
    "!sudo shutdown -h now"
   ]
  },
  {
   "cell_type": "code",
   "execution_count": null,
   "metadata": {},
   "outputs": [],
   "source": []
  }
 ],
 "metadata": {
  "environment": {
   "name": "common-cpu.mnightly-2021-02-02-debian-10-test",
   "type": "gcloud",
   "uri": "gcr.io/deeplearning-platform-release/base-cpu:mnightly-2021-02-02-debian-10-test"
  },
  "kernelspec": {
   "display_name": "Python 3",
   "language": "python",
   "name": "python3"
  },
  "language_info": {
   "codemirror_mode": {
    "name": "ipython",
    "version": 3
   },
   "file_extension": ".py",
   "mimetype": "text/x-python",
   "name": "python",
   "nbconvert_exporter": "python",
   "pygments_lexer": "ipython3",
   "version": "3.7.3"
  }
 },
 "nbformat": 4,
 "nbformat_minor": 4
}
