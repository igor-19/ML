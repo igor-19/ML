{
 "cells": [
  {
   "cell_type": "markdown",
   "metadata": {},
   "source": [
    "### https://www.kaggle.com/c/tabular-playground-series-apr-2021"
   ]
  },
  {
   "cell_type": "code",
   "execution_count": 1,
   "metadata": {},
   "outputs": [],
   "source": [
    "import warnings\n",
    "warnings.filterwarnings('ignore')"
   ]
  },
  {
   "cell_type": "code",
   "execution_count": 2,
   "metadata": {},
   "outputs": [],
   "source": [
    "import time\n",
    "\n",
    "import numpy as np\n",
    "import pandas as pd\n",
    "import matplotlib\n",
    "import seaborn as sns\n",
    "import matplotlib.pyplot as plt\n",
    "\n",
    "%matplotlib inline"
   ]
  },
  {
   "cell_type": "code",
   "execution_count": 3,
   "metadata": {},
   "outputs": [],
   "source": [
    "from sklearn.metrics import accuracy_score"
   ]
  },
  {
   "cell_type": "code",
   "execution_count": 4,
   "metadata": {},
   "outputs": [],
   "source": [
    "from sklearn.model_selection import cross_val_score, StratifiedKFold"
   ]
  },
  {
   "cell_type": "code",
   "execution_count": 5,
   "metadata": {},
   "outputs": [],
   "source": [
    "ds = pd.read_csv('train.csv', delimiter=',')"
   ]
  },
  {
   "cell_type": "markdown",
   "metadata": {},
   "source": [
    "### Filling missing values"
   ]
  },
  {
   "cell_type": "code",
   "execution_count": 6,
   "metadata": {},
   "outputs": [
    {
     "data": {
      "text/html": [
       "<div>\n",
       "<style scoped>\n",
       "    .dataframe tbody tr th:only-of-type {\n",
       "        vertical-align: middle;\n",
       "    }\n",
       "\n",
       "    .dataframe tbody tr th {\n",
       "        vertical-align: top;\n",
       "    }\n",
       "\n",
       "    .dataframe thead th {\n",
       "        text-align: right;\n",
       "    }\n",
       "</style>\n",
       "<table border=\"1\" class=\"dataframe\">\n",
       "  <thead>\n",
       "    <tr style=\"text-align: right;\">\n",
       "      <th></th>\n",
       "      <th>PassengerId</th>\n",
       "      <th>Survived</th>\n",
       "      <th>Pclass</th>\n",
       "      <th>Name</th>\n",
       "      <th>Sex</th>\n",
       "      <th>Age</th>\n",
       "      <th>SibSp</th>\n",
       "      <th>Parch</th>\n",
       "      <th>Ticket</th>\n",
       "      <th>Fare</th>\n",
       "      <th>Cabin</th>\n",
       "      <th>Embarked</th>\n",
       "    </tr>\n",
       "  </thead>\n",
       "  <tbody>\n",
       "    <tr>\n",
       "      <th>0</th>\n",
       "      <td>0</td>\n",
       "      <td>1</td>\n",
       "      <td>1</td>\n",
       "      <td>Oconnor, Frankie</td>\n",
       "      <td>male</td>\n",
       "      <td>NaN</td>\n",
       "      <td>2</td>\n",
       "      <td>0</td>\n",
       "      <td>209245</td>\n",
       "      <td>27.14</td>\n",
       "      <td>C12239</td>\n",
       "      <td>S</td>\n",
       "    </tr>\n",
       "    <tr>\n",
       "      <th>1</th>\n",
       "      <td>1</td>\n",
       "      <td>0</td>\n",
       "      <td>3</td>\n",
       "      <td>Bryan, Drew</td>\n",
       "      <td>male</td>\n",
       "      <td>NaN</td>\n",
       "      <td>0</td>\n",
       "      <td>0</td>\n",
       "      <td>27323</td>\n",
       "      <td>13.35</td>\n",
       "      <td>NaN</td>\n",
       "      <td>S</td>\n",
       "    </tr>\n",
       "    <tr>\n",
       "      <th>2</th>\n",
       "      <td>2</td>\n",
       "      <td>0</td>\n",
       "      <td>3</td>\n",
       "      <td>Owens, Kenneth</td>\n",
       "      <td>male</td>\n",
       "      <td>0.33</td>\n",
       "      <td>1</td>\n",
       "      <td>2</td>\n",
       "      <td>CA 457703</td>\n",
       "      <td>71.29</td>\n",
       "      <td>NaN</td>\n",
       "      <td>S</td>\n",
       "    </tr>\n",
       "  </tbody>\n",
       "</table>\n",
       "</div>"
      ],
      "text/plain": [
       "   PassengerId  Survived  Pclass              Name   Sex   Age  SibSp  Parch  \\\n",
       "0            0         1       1  Oconnor, Frankie  male   NaN      2      0   \n",
       "1            1         0       3       Bryan, Drew  male   NaN      0      0   \n",
       "2            2         0       3    Owens, Kenneth  male  0.33      1      2   \n",
       "\n",
       "      Ticket   Fare   Cabin Embarked  \n",
       "0     209245  27.14  C12239        S  \n",
       "1      27323  13.35     NaN        S  \n",
       "2  CA 457703  71.29     NaN        S  "
      ]
     },
     "execution_count": 6,
     "metadata": {},
     "output_type": "execute_result"
    }
   ],
   "source": [
    "ds.head(3)"
   ]
  },
  {
   "cell_type": "code",
   "execution_count": 7,
   "metadata": {},
   "outputs": [
    {
     "data": {
      "text/plain": [
       "Index(['PassengerId', 'Survived', 'Pclass', 'Name', 'Sex', 'Age', 'SibSp',\n",
       "       'Parch', 'Ticket', 'Fare', 'Cabin', 'Embarked'],\n",
       "      dtype='object')"
      ]
     },
     "execution_count": 7,
     "metadata": {},
     "output_type": "execute_result"
    }
   ],
   "source": [
    "ds.columns"
   ]
  },
  {
   "cell_type": "code",
   "execution_count": 8,
   "metadata": {},
   "outputs": [],
   "source": [
    "columns_cat = ['Pclass', 'Sex', 'SibSp', 'Parch', 'Embarked']\n",
    "columns_numeric = ['Age', 'Fare']\n",
    "target = ['Survived']"
   ]
  },
  {
   "cell_type": "code",
   "execution_count": 9,
   "metadata": {},
   "outputs": [],
   "source": [
    "def filling_missing_values_mean(data, column):\n",
    "    \n",
    "    data[column][data.Survived == 0] = data[column].fillna(data[column][data.Survived == 0].mean())\n",
    "    data[column][data.Survived == 1] = data[column].fillna(data[column][data.Survived == 1].mean())\n",
    "    \n",
    "    return data"
   ]
  },
  {
   "cell_type": "code",
   "execution_count": 10,
   "metadata": {},
   "outputs": [],
   "source": [
    "ds = filling_missing_values_mean(ds, 'Age')"
   ]
  },
  {
   "cell_type": "code",
   "execution_count": 11,
   "metadata": {},
   "outputs": [],
   "source": [
    "ds = filling_missing_values_mean(ds, 'Fare')"
   ]
  },
  {
   "cell_type": "code",
   "execution_count": 12,
   "metadata": {},
   "outputs": [],
   "source": [
    "ds = ds[columns_cat + columns_numeric + target]\n",
    "ds.dropna(axis=0, inplace=True)"
   ]
  },
  {
   "cell_type": "code",
   "execution_count": 13,
   "metadata": {},
   "outputs": [
    {
     "data": {
      "text/plain": [
       "Index(['Pclass', 'Sex', 'SibSp', 'Parch', 'Embarked', 'Age', 'Fare',\n",
       "       'Survived'],\n",
       "      dtype='object')"
      ]
     },
     "execution_count": 13,
     "metadata": {},
     "output_type": "execute_result"
    }
   ],
   "source": [
    "ds.columns"
   ]
  },
  {
   "cell_type": "code",
   "execution_count": 14,
   "metadata": {},
   "outputs": [
    {
     "data": {
      "text/plain": [
       "Pclass      0\n",
       "Sex         0\n",
       "SibSp       0\n",
       "Parch       0\n",
       "Embarked    0\n",
       "Age         0\n",
       "Fare        0\n",
       "Survived    0\n",
       "dtype: int64"
      ]
     },
     "execution_count": 14,
     "metadata": {},
     "output_type": "execute_result"
    }
   ],
   "source": [
    "ds.isnull().sum()"
   ]
  },
  {
   "cell_type": "code",
   "execution_count": 15,
   "metadata": {},
   "outputs": [
    {
     "data": {
      "text/plain": [
       "(99750, 8)"
      ]
     },
     "execution_count": 15,
     "metadata": {},
     "output_type": "execute_result"
    }
   ],
   "source": [
    "ds.shape"
   ]
  },
  {
   "cell_type": "code",
   "execution_count": 16,
   "metadata": {},
   "outputs": [],
   "source": [
    "X = ds.drop('Survived', axis=1)\n",
    "y = ds.Survived"
   ]
  },
  {
   "cell_type": "code",
   "execution_count": 17,
   "metadata": {},
   "outputs": [
    {
     "data": {
      "text/plain": [
       "((99750, 7), (99750,))"
      ]
     },
     "execution_count": 17,
     "metadata": {},
     "output_type": "execute_result"
    }
   ],
   "source": [
    "X.shape, y.shape"
   ]
  },
  {
   "cell_type": "code",
   "execution_count": 18,
   "metadata": {},
   "outputs": [
    {
     "data": {
      "text/html": [
       "<div>\n",
       "<style scoped>\n",
       "    .dataframe tbody tr th:only-of-type {\n",
       "        vertical-align: middle;\n",
       "    }\n",
       "\n",
       "    .dataframe tbody tr th {\n",
       "        vertical-align: top;\n",
       "    }\n",
       "\n",
       "    .dataframe thead th {\n",
       "        text-align: right;\n",
       "    }\n",
       "</style>\n",
       "<table border=\"1\" class=\"dataframe\">\n",
       "  <thead>\n",
       "    <tr style=\"text-align: right;\">\n",
       "      <th></th>\n",
       "      <th>Pclass</th>\n",
       "      <th>Sex</th>\n",
       "      <th>SibSp</th>\n",
       "      <th>Parch</th>\n",
       "      <th>Embarked</th>\n",
       "      <th>Age</th>\n",
       "      <th>Fare</th>\n",
       "    </tr>\n",
       "  </thead>\n",
       "  <tbody>\n",
       "    <tr>\n",
       "      <th>0</th>\n",
       "      <td>1</td>\n",
       "      <td>male</td>\n",
       "      <td>2</td>\n",
       "      <td>0</td>\n",
       "      <td>S</td>\n",
       "      <td>40.553799</td>\n",
       "      <td>27.14</td>\n",
       "    </tr>\n",
       "    <tr>\n",
       "      <th>1</th>\n",
       "      <td>3</td>\n",
       "      <td>male</td>\n",
       "      <td>0</td>\n",
       "      <td>0</td>\n",
       "      <td>S</td>\n",
       "      <td>36.708695</td>\n",
       "      <td>13.35</td>\n",
       "    </tr>\n",
       "    <tr>\n",
       "      <th>2</th>\n",
       "      <td>3</td>\n",
       "      <td>male</td>\n",
       "      <td>1</td>\n",
       "      <td>2</td>\n",
       "      <td>S</td>\n",
       "      <td>0.330000</td>\n",
       "      <td>71.29</td>\n",
       "    </tr>\n",
       "  </tbody>\n",
       "</table>\n",
       "</div>"
      ],
      "text/plain": [
       "   Pclass   Sex  SibSp  Parch Embarked        Age   Fare\n",
       "0       1  male      2      0        S  40.553799  27.14\n",
       "1       3  male      0      0        S  36.708695  13.35\n",
       "2       3  male      1      2        S   0.330000  71.29"
      ]
     },
     "execution_count": 18,
     "metadata": {},
     "output_type": "execute_result"
    }
   ],
   "source": [
    "X.head(3)"
   ]
  },
  {
   "cell_type": "code",
   "execution_count": 19,
   "metadata": {},
   "outputs": [],
   "source": [
    "X = pd.get_dummies(X, columns=columns_cat, drop_first=True, prefix_sep='_')"
   ]
  },
  {
   "cell_type": "code",
   "execution_count": 20,
   "metadata": {},
   "outputs": [
    {
     "data": {
      "text/html": [
       "<div>\n",
       "<style scoped>\n",
       "    .dataframe tbody tr th:only-of-type {\n",
       "        vertical-align: middle;\n",
       "    }\n",
       "\n",
       "    .dataframe tbody tr th {\n",
       "        vertical-align: top;\n",
       "    }\n",
       "\n",
       "    .dataframe thead th {\n",
       "        text-align: right;\n",
       "    }\n",
       "</style>\n",
       "<table border=\"1\" class=\"dataframe\">\n",
       "  <thead>\n",
       "    <tr style=\"text-align: right;\">\n",
       "      <th></th>\n",
       "      <th>Age</th>\n",
       "      <th>Fare</th>\n",
       "      <th>Pclass_2</th>\n",
       "      <th>Pclass_3</th>\n",
       "      <th>Sex_male</th>\n",
       "      <th>SibSp_1</th>\n",
       "      <th>SibSp_2</th>\n",
       "      <th>SibSp_3</th>\n",
       "      <th>SibSp_4</th>\n",
       "      <th>SibSp_5</th>\n",
       "      <th>SibSp_8</th>\n",
       "      <th>Parch_1</th>\n",
       "      <th>Parch_2</th>\n",
       "      <th>Parch_3</th>\n",
       "      <th>Parch_4</th>\n",
       "      <th>Parch_5</th>\n",
       "      <th>Parch_6</th>\n",
       "      <th>Parch_9</th>\n",
       "      <th>Embarked_Q</th>\n",
       "      <th>Embarked_S</th>\n",
       "    </tr>\n",
       "  </thead>\n",
       "  <tbody>\n",
       "    <tr>\n",
       "      <th>0</th>\n",
       "      <td>40.553799</td>\n",
       "      <td>27.14</td>\n",
       "      <td>0</td>\n",
       "      <td>0</td>\n",
       "      <td>1</td>\n",
       "      <td>0</td>\n",
       "      <td>1</td>\n",
       "      <td>0</td>\n",
       "      <td>0</td>\n",
       "      <td>0</td>\n",
       "      <td>0</td>\n",
       "      <td>0</td>\n",
       "      <td>0</td>\n",
       "      <td>0</td>\n",
       "      <td>0</td>\n",
       "      <td>0</td>\n",
       "      <td>0</td>\n",
       "      <td>0</td>\n",
       "      <td>0</td>\n",
       "      <td>1</td>\n",
       "    </tr>\n",
       "    <tr>\n",
       "      <th>1</th>\n",
       "      <td>36.708695</td>\n",
       "      <td>13.35</td>\n",
       "      <td>0</td>\n",
       "      <td>1</td>\n",
       "      <td>1</td>\n",
       "      <td>0</td>\n",
       "      <td>0</td>\n",
       "      <td>0</td>\n",
       "      <td>0</td>\n",
       "      <td>0</td>\n",
       "      <td>0</td>\n",
       "      <td>0</td>\n",
       "      <td>0</td>\n",
       "      <td>0</td>\n",
       "      <td>0</td>\n",
       "      <td>0</td>\n",
       "      <td>0</td>\n",
       "      <td>0</td>\n",
       "      <td>0</td>\n",
       "      <td>1</td>\n",
       "    </tr>\n",
       "    <tr>\n",
       "      <th>2</th>\n",
       "      <td>0.330000</td>\n",
       "      <td>71.29</td>\n",
       "      <td>0</td>\n",
       "      <td>1</td>\n",
       "      <td>1</td>\n",
       "      <td>1</td>\n",
       "      <td>0</td>\n",
       "      <td>0</td>\n",
       "      <td>0</td>\n",
       "      <td>0</td>\n",
       "      <td>0</td>\n",
       "      <td>0</td>\n",
       "      <td>1</td>\n",
       "      <td>0</td>\n",
       "      <td>0</td>\n",
       "      <td>0</td>\n",
       "      <td>0</td>\n",
       "      <td>0</td>\n",
       "      <td>0</td>\n",
       "      <td>1</td>\n",
       "    </tr>\n",
       "  </tbody>\n",
       "</table>\n",
       "</div>"
      ],
      "text/plain": [
       "         Age   Fare  Pclass_2  Pclass_3  Sex_male  SibSp_1  SibSp_2  SibSp_3  \\\n",
       "0  40.553799  27.14         0         0         1        0        1        0   \n",
       "1  36.708695  13.35         0         1         1        0        0        0   \n",
       "2   0.330000  71.29         0         1         1        1        0        0   \n",
       "\n",
       "   SibSp_4  SibSp_5  SibSp_8  Parch_1  Parch_2  Parch_3  Parch_4  Parch_5  \\\n",
       "0        0        0        0        0        0        0        0        0   \n",
       "1        0        0        0        0        0        0        0        0   \n",
       "2        0        0        0        0        1        0        0        0   \n",
       "\n",
       "   Parch_6  Parch_9  Embarked_Q  Embarked_S  \n",
       "0        0        0           0           1  \n",
       "1        0        0           0           1  \n",
       "2        0        0           0           1  "
      ]
     },
     "execution_count": 20,
     "metadata": {},
     "output_type": "execute_result"
    }
   ],
   "source": [
    "X.head(3)"
   ]
  },
  {
   "cell_type": "markdown",
   "metadata": {},
   "source": [
    "### train test"
   ]
  },
  {
   "cell_type": "code",
   "execution_count": 21,
   "metadata": {},
   "outputs": [],
   "source": [
    "from sklearn.model_selection import train_test_split"
   ]
  },
  {
   "cell_type": "code",
   "execution_count": 22,
   "metadata": {},
   "outputs": [],
   "source": [
    "X_train, X_test, y_train, y_test = train_test_split(X, y, test_size=0.25, random_state=42)"
   ]
  },
  {
   "cell_type": "code",
   "execution_count": 23,
   "metadata": {},
   "outputs": [
    {
     "data": {
      "image/png": "[encoded data removed]",
      "text/plain": [
       "<Figure size 360x72 with 2 Axes>"
      ]
     },
     "metadata": {
      "needs_background": "light"
     },
     "output_type": "display_data"
    }
   ],
   "source": [
    "plt.figure(figsize=(5, 1))\n",
    "plt.subplot(121)\n",
    "sns.countplot(y_train);\n",
    "plt.subplot(122)\n",
    "sns.countplot(y_test);"
   ]
  },
  {
   "cell_type": "code",
   "execution_count": 24,
   "metadata": {},
   "outputs": [
    {
     "data": {
      "text/html": [
       "<div>\n",
       "<style scoped>\n",
       "    .dataframe tbody tr th:only-of-type {\n",
       "        vertical-align: middle;\n",
       "    }\n",
       "\n",
       "    .dataframe tbody tr th {\n",
       "        vertical-align: top;\n",
       "    }\n",
       "\n",
       "    .dataframe thead th {\n",
       "        text-align: right;\n",
       "    }\n",
       "</style>\n",
       "<table border=\"1\" class=\"dataframe\">\n",
       "  <thead>\n",
       "    <tr style=\"text-align: right;\">\n",
       "      <th></th>\n",
       "      <th>Age</th>\n",
       "      <th>Fare</th>\n",
       "      <th>Pclass_2</th>\n",
       "      <th>Pclass_3</th>\n",
       "      <th>Sex_male</th>\n",
       "      <th>SibSp_1</th>\n",
       "      <th>SibSp_2</th>\n",
       "      <th>SibSp_3</th>\n",
       "      <th>SibSp_4</th>\n",
       "      <th>SibSp_5</th>\n",
       "      <th>SibSp_8</th>\n",
       "      <th>Parch_1</th>\n",
       "      <th>Parch_2</th>\n",
       "      <th>Parch_3</th>\n",
       "      <th>Parch_4</th>\n",
       "      <th>Parch_5</th>\n",
       "      <th>Parch_6</th>\n",
       "      <th>Parch_9</th>\n",
       "      <th>Embarked_Q</th>\n",
       "      <th>Embarked_S</th>\n",
       "    </tr>\n",
       "  </thead>\n",
       "  <tbody>\n",
       "    <tr>\n",
       "      <th>73757</th>\n",
       "      <td>29.0</td>\n",
       "      <td>95.60</td>\n",
       "      <td>0</td>\n",
       "      <td>0</td>\n",
       "      <td>1</td>\n",
       "      <td>0</td>\n",
       "      <td>1</td>\n",
       "      <td>0</td>\n",
       "      <td>0</td>\n",
       "      <td>0</td>\n",
       "      <td>0</td>\n",
       "      <td>0</td>\n",
       "      <td>0</td>\n",
       "      <td>0</td>\n",
       "      <td>0</td>\n",
       "      <td>0</td>\n",
       "      <td>0</td>\n",
       "      <td>0</td>\n",
       "      <td>0</td>\n",
       "      <td>1</td>\n",
       "    </tr>\n",
       "    <tr>\n",
       "      <th>71167</th>\n",
       "      <td>28.0</td>\n",
       "      <td>6.18</td>\n",
       "      <td>0</td>\n",
       "      <td>1</td>\n",
       "      <td>1</td>\n",
       "      <td>0</td>\n",
       "      <td>0</td>\n",
       "      <td>0</td>\n",
       "      <td>0</td>\n",
       "      <td>0</td>\n",
       "      <td>0</td>\n",
       "      <td>0</td>\n",
       "      <td>0</td>\n",
       "      <td>0</td>\n",
       "      <td>0</td>\n",
       "      <td>0</td>\n",
       "      <td>0</td>\n",
       "      <td>0</td>\n",
       "      <td>0</td>\n",
       "      <td>1</td>\n",
       "    </tr>\n",
       "    <tr>\n",
       "      <th>71078</th>\n",
       "      <td>27.0</td>\n",
       "      <td>6.47</td>\n",
       "      <td>0</td>\n",
       "      <td>1</td>\n",
       "      <td>1</td>\n",
       "      <td>0</td>\n",
       "      <td>0</td>\n",
       "      <td>0</td>\n",
       "      <td>0</td>\n",
       "      <td>0</td>\n",
       "      <td>0</td>\n",
       "      <td>0</td>\n",
       "      <td>0</td>\n",
       "      <td>0</td>\n",
       "      <td>0</td>\n",
       "      <td>0</td>\n",
       "      <td>0</td>\n",
       "      <td>0</td>\n",
       "      <td>0</td>\n",
       "      <td>1</td>\n",
       "    </tr>\n",
       "  </tbody>\n",
       "</table>\n",
       "</div>"
      ],
      "text/plain": [
       "        Age   Fare  Pclass_2  Pclass_3  Sex_male  SibSp_1  SibSp_2  SibSp_3  \\\n",
       "73757  29.0  95.60         0         0         1        0        1        0   \n",
       "71167  28.0   6.18         0         1         1        0        0        0   \n",
       "71078  27.0   6.47         0         1         1        0        0        0   \n",
       "\n",
       "       SibSp_4  SibSp_5  SibSp_8  Parch_1  Parch_2  Parch_3  Parch_4  Parch_5  \\\n",
       "73757        0        0        0        0        0        0        0        0   \n",
       "71167        0        0        0        0        0        0        0        0   \n",
       "71078        0        0        0        0        0        0        0        0   \n",
       "\n",
       "       Parch_6  Parch_9  Embarked_Q  Embarked_S  \n",
       "73757        0        0           0           1  \n",
       "71167        0        0           0           1  \n",
       "71078        0        0           0           1  "
      ]
     },
     "execution_count": 24,
     "metadata": {},
     "output_type": "execute_result"
    }
   ],
   "source": [
    "X_train.head(3)"
   ]
  },
  {
   "cell_type": "code",
   "execution_count": null,
   "metadata": {},
   "outputs": [],
   "source": []
  },
  {
   "cell_type": "code",
   "execution_count": null,
   "metadata": {},
   "outputs": [],
   "source": []
  },
  {
   "cell_type": "markdown",
   "metadata": {},
   "source": [
    "### models"
   ]
  },
  {
   "cell_type": "code",
   "execution_count": null,
   "metadata": {},
   "outputs": [],
   "source": []
  },
  {
   "cell_type": "code",
   "execution_count": 25,
   "metadata": {},
   "outputs": [],
   "source": [
    "from sklearn.linear_model import LogisticRegressionCV, PassiveAggressiveClassifier, Perceptron, LogisticRegression\n",
    "from sklearn.linear_model import RidgeClassifierCV, SGDClassifier, RidgeClassifier\n",
    "\n",
    "from sklearn.naive_bayes import GaussianNB\n",
    "from sklearn.svm import LinearSVC, NuSVC, SVC\n",
    "\n",
    "from sklearn.tree import DecisionTreeClassifier, ExtraTreeClassifier\n",
    "\n",
    "from sklearn.ensemble import AdaBoostClassifier, BaggingClassifier, ExtraTreesClassifier\n",
    "from sklearn.ensemble import GradientBoostingClassifier\n",
    "from sklearn.ensemble import RandomForestClassifier, VotingClassifier\n",
    "\n",
    "from lightgbm import LGBMClassifier\n",
    "from xgboost import XGBClassifier"
   ]
  },
  {
   "cell_type": "code",
   "execution_count": 193,
   "metadata": {},
   "outputs": [
    {
     "data": {
      "text/html": [
       "<div>\n",
       "<style scoped>\n",
       "    .dataframe tbody tr th:only-of-type {\n",
       "        vertical-align: middle;\n",
       "    }\n",
       "\n",
       "    .dataframe tbody tr th {\n",
       "        vertical-align: top;\n",
       "    }\n",
       "\n",
       "    .dataframe thead th {\n",
       "        text-align: right;\n",
       "    }\n",
       "</style>\n",
       "<table border=\"1\" class=\"dataframe\">\n",
       "  <thead>\n",
       "    <tr style=\"text-align: right;\">\n",
       "      <th></th>\n",
       "      <th>model</th>\n",
       "      <th>accuracy</th>\n",
       "    </tr>\n",
       "  </thead>\n",
       "  <tbody>\n",
       "    <tr>\n",
       "      <th>0</th>\n",
       "      <td>log_reg</td>\n",
       "      <td>0.765057</td>\n",
       "    </tr>\n",
       "    <tr>\n",
       "      <th>0</th>\n",
       "      <td>PassiveAgg</td>\n",
       "      <td>0.576189</td>\n",
       "    </tr>\n",
       "    <tr>\n",
       "      <th>0</th>\n",
       "      <td>Perceptron</td>\n",
       "      <td>0.738752</td>\n",
       "    </tr>\n",
       "    <tr>\n",
       "      <th>0</th>\n",
       "      <td>RidgeClass</td>\n",
       "      <td>0.764376</td>\n",
       "    </tr>\n",
       "    <tr>\n",
       "      <th>0</th>\n",
       "      <td>SGDClass</td>\n",
       "      <td>0.704788</td>\n",
       "    </tr>\n",
       "    <tr>\n",
       "      <th>0</th>\n",
       "      <td>GaussianNB</td>\n",
       "      <td>0.740236</td>\n",
       "    </tr>\n",
       "    <tr>\n",
       "      <th>0</th>\n",
       "      <td>DecisionTreeClassifier</td>\n",
       "      <td>0.689951</td>\n",
       "    </tr>\n",
       "    <tr>\n",
       "      <th>0</th>\n",
       "      <td>ExtraTreeClassifier</td>\n",
       "      <td>0.693801</td>\n",
       "    </tr>\n",
       "    <tr>\n",
       "      <th>0</th>\n",
       "      <td>AdaBoostClassifier</td>\n",
       "      <td>0.759123</td>\n",
       "    </tr>\n",
       "    <tr>\n",
       "      <th>0</th>\n",
       "      <td>BaggingClassifier</td>\n",
       "      <td>0.770832</td>\n",
       "    </tr>\n",
       "    <tr>\n",
       "      <th>0</th>\n",
       "      <td>ExtraTreesClassifier</td>\n",
       "      <td>0.713129</td>\n",
       "    </tr>\n",
       "    <tr>\n",
       "      <th>0</th>\n",
       "      <td>GradientBoostingClassifier</td>\n",
       "      <td>0.775243</td>\n",
       "    </tr>\n",
       "    <tr>\n",
       "      <th>0</th>\n",
       "      <td>RandomForestClassifier</td>\n",
       "      <td>0.729409</td>\n",
       "    </tr>\n",
       "    <tr>\n",
       "      <th>0</th>\n",
       "      <td>LGBMClassifier</td>\n",
       "      <td>0.778250</td>\n",
       "    </tr>\n",
       "    <tr>\n",
       "      <th>0</th>\n",
       "      <td>XGBClassifier</td>\n",
       "      <td>0.777368</td>\n",
       "    </tr>\n",
       "  </tbody>\n",
       "</table>\n",
       "</div>"
      ],
      "text/plain": [
       "                        model  accuracy\n",
       "0                     log_reg  0.765057\n",
       "0                  PassiveAgg  0.576189\n",
       "0                  Perceptron  0.738752\n",
       "0                  RidgeClass  0.764376\n",
       "0                    SGDClass  0.704788\n",
       "0                  GaussianNB  0.740236\n",
       "0      DecisionTreeClassifier  0.689951\n",
       "0         ExtraTreeClassifier  0.693801\n",
       "0          AdaBoostClassifier  0.759123\n",
       "0           BaggingClassifier  0.770832\n",
       "0        ExtraTreesClassifier  0.713129\n",
       "0  GradientBoostingClassifier  0.775243\n",
       "0      RandomForestClassifier  0.729409\n",
       "0              LGBMClassifier  0.778250\n",
       "0               XGBClassifier  0.777368"
      ]
     },
     "execution_count": 193,
     "metadata": {},
     "output_type": "execute_result"
    }
   ],
   "source": [
    "scores"
   ]
  },
  {
   "cell_type": "markdown",
   "metadata": {},
   "source": [
    "### LGBM"
   ]
  },
  {
   "cell_type": "code",
   "execution_count": 30,
   "metadata": {},
   "outputs": [
    {
     "name": "stdout",
     "output_type": "stream",
     "text": [
      "0.01 - 0.7788916512952121|0.2 - 0.7788916512952121|"
     ]
    }
   ],
   "source": [
    "scores = []\n",
    "params = []\n",
    "\n",
    "for n in np.linspace(0.01, 0.2, 2):\n",
    "    \n",
    "    model = LGBMClassifier(n_estimators=100, learning_rate=0.14434343434, metric='accuracy', max_depth=9, random_state = 42)\n",
    "    model.fit(X_train , y_train, eval_metric='accuracy')\n",
    "    \n",
    "    score = accuracy_score(y_test, model.predict(X_test))\n",
    "    scores.append(score)\n",
    "    params.append(n)\n",
    "    print(n, '-', score, end='|')"
   ]
  },
  {
   "cell_type": "code",
   "execution_count": 152,
   "metadata": {},
   "outputs": [
    {
     "data": {
      "image/png": "[encoded data removed]",
      "text/plain": [
       "<Figure size 432x288 with 1 Axes>"
      ]
     },
     "metadata": {
      "needs_background": "light"
     },
     "output_type": "display_data"
    }
   ],
   "source": [
    "plt.plot(params, scores);"
   ]
  },
  {
   "cell_type": "code",
   "execution_count": 153,
   "metadata": {},
   "outputs": [
    {
     "data": {
      "text/plain": [
       "0.7788916512952121"
      ]
     },
     "execution_count": 153,
     "metadata": {},
     "output_type": "execute_result"
    }
   ],
   "source": [
    "max(scores)"
   ]
  },
  {
   "cell_type": "code",
   "execution_count": 154,
   "metadata": {},
   "outputs": [
    {
     "data": {
      "text/plain": [
       "70"
      ]
     },
     "execution_count": 154,
     "metadata": {},
     "output_type": "execute_result"
    }
   ],
   "source": [
    "np.argmax(scores)"
   ]
  },
  {
   "cell_type": "code",
   "execution_count": 155,
   "metadata": {},
   "outputs": [
    {
     "data": {
      "text/plain": [
       "0.14434343434343436"
      ]
     },
     "execution_count": 155,
     "metadata": {},
     "output_type": "execute_result"
    }
   ],
   "source": [
    "params[70]"
   ]
  },
  {
   "cell_type": "code",
   "execution_count": 26,
   "metadata": {},
   "outputs": [],
   "source": [
    "model = LGBMClassifier(n_estimators=100, learning_rate=0.14434343434, metric='accuracy', max_depth=9, random_state = 42)"
   ]
  },
  {
   "cell_type": "code",
   "execution_count": 27,
   "metadata": {},
   "outputs": [
    {
     "data": {
      "text/plain": [
       "LGBMClassifier(learning_rate=0.14434343434, max_depth=9, metric='accuracy',\n",
       "               random_state=42)"
      ]
     },
     "execution_count": 27,
     "metadata": {},
     "output_type": "execute_result"
    }
   ],
   "source": [
    "model.fit(X_train , y_train, eval_set = [(X_train , y_train), (X_test, y_test)] , eval_metric='accuracy', verbose = False)"
   ]
  },
  {
   "cell_type": "code",
   "execution_count": 28,
   "metadata": {},
   "outputs": [],
   "source": [
    "y_pred = model.predict_proba(X_test)"
   ]
  },
  {
   "cell_type": "markdown",
   "metadata": {},
   "source": [
    "### threshold"
   ]
  },
  {
   "cell_type": "code",
   "execution_count": 29,
   "metadata": {},
   "outputs": [],
   "source": [
    "acc = []\n",
    "threshold = []\n",
    "\n",
    "for i in np.linspace(0.1, 0.9, 1000):\n",
    "    \n",
    "    acc.append(accuracy_score(y_test, y_pred[:, 1] > i))\n",
    "    threshold.append(i)"
   ]
  },
  {
   "cell_type": "code",
   "execution_count": 30,
   "metadata": {},
   "outputs": [
    {
     "data": {
      "image/png": "[encoded data removed]",
      "text/plain": [
       "<Figure size 1080x576 with 1 Axes>"
      ]
     },
     "metadata": {
      "needs_background": "light"
     },
     "output_type": "display_data"
    }
   ],
   "source": [
    "plt.figure(figsize=(15, 8))\n",
    "plt.plot(np.linspace(0.1, 0.9, 1000), acc, color='b')\n",
    "plt.show()"
   ]
  },
  {
   "cell_type": "code",
   "execution_count": 31,
   "metadata": {},
   "outputs": [
    {
     "data": {
      "text/plain": [
       "(0.7789317507418397, 500)"
      ]
     },
     "execution_count": 31,
     "metadata": {},
     "output_type": "execute_result"
    }
   ],
   "source": [
    "max(acc), np.argmax(acc)"
   ]
  },
  {
   "cell_type": "code",
   "execution_count": 32,
   "metadata": {},
   "outputs": [
    {
     "data": {
      "text/plain": [
       "0.5004004004004005"
      ]
     },
     "execution_count": 32,
     "metadata": {},
     "output_type": "execute_result"
    }
   ],
   "source": [
    "threshold[500]"
   ]
  },
  {
   "cell_type": "markdown",
   "metadata": {},
   "source": [
    "### RF"
   ]
  },
  {
   "cell_type": "code",
   "execution_count": 200,
   "metadata": {},
   "outputs": [
    {
     "name": "stdout",
     "output_type": "stream",
     "text": [
      "CPU times: user 45min 59s, sys: 32.3 s, total: 46min 31s\n",
      "Wall time: 8min 6s\n"
     ]
    }
   ],
   "source": [
    "%%time\n",
    "accur = [] \n",
    "x = []\n",
    "x_keys = []\n",
    "n = 0\n",
    "\n",
    "for cr in ['gini', 'entropy']:\n",
    "    for mln in [9, 7, 5, 3, None]:\n",
    "        for mf in [1, 2, 3, 4, 5, 6, 'auto']:\n",
    "            for boot in [True, False]:\n",
    "                model = RandomForestClassifier(n_estimators=300, criterion=cr, max_leaf_nodes=mln, \n",
    "                                               max_features=mf, bootstrap=boot, random_state=33, n_jobs=-1)\n",
    "                \n",
    "                model.fit(X_train, y_train)\n",
    "                y_pred = model.predict(X_test)\n",
    "                                \n",
    "                acc = accuracy_score(y_test, y_pred)\n",
    "                accur.append(acc)\n",
    "                                \n",
    "                x_keys.append(str(cr) +'_'+ str(mln) +'_'+ str(mf) +'_'+ str(boot))\n",
    "                x.append(n)\n",
    "                n += 1"
   ]
  },
  {
   "cell_type": "code",
   "execution_count": 201,
   "metadata": {},
   "outputs": [
    {
     "data": {
      "image/png": "[encoded data removed]",
      "text/plain": [
       "<Figure size 1080x360 with 1 Axes>"
      ]
     },
     "metadata": {
      "needs_background": "light"
     },
     "output_type": "display_data"
    }
   ],
   "source": [
    "plt.figure(figsize=(15, 5))\n",
    "plt.plot(x, accur, c='b')\n",
    "plt.show()"
   ]
  },
  {
   "cell_type": "code",
   "execution_count": 202,
   "metadata": {},
   "outputs": [],
   "source": [
    "data_score = {'accuracy': accur}\n",
    "ds_scores = pd.DataFrame(data_score, index=x_keys)"
   ]
  },
  {
   "cell_type": "code",
   "execution_count": 206,
   "metadata": {},
   "outputs": [
    {
     "data": {
      "image/png": "[encoded data removed]",
      "text/plain": [
       "<Figure size 288x792 with 2 Axes>"
      ]
     },
     "metadata": {
      "needs_background": "light"
     },
     "output_type": "display_data"
    }
   ],
   "source": [
    "plt.figure(figsize=(4, 11))\n",
    "sns.heatmap(ds_scores.sort_values(by=['accuracy'], ascending=False)[:30], annot=True, fmt='.5f');"
   ]
  },
  {
   "cell_type": "code",
   "execution_count": 53,
   "metadata": {},
   "outputs": [],
   "source": [
    "model = RandomForestClassifier(n_estimators=4500, criterion='entropy', max_leaf_nodes=9,\n",
    "                               max_features=6, bootstrap=True, random_state=33, n_jobs=-1)"
   ]
  },
  {
   "cell_type": "code",
   "execution_count": 54,
   "metadata": {},
   "outputs": [
    {
     "name": "stdout",
     "output_type": "stream",
     "text": [
      "CPU times: user 3min 4s, sys: 1.95 s, total: 3min 6s\n",
      "Wall time: 31 s\n"
     ]
    },
    {
     "data": {
      "text/plain": [
       "RandomForestClassifier(criterion='entropy', max_features=6, max_leaf_nodes=9,\n",
       "                       n_estimators=4500, n_jobs=-1, random_state=33)"
      ]
     },
     "execution_count": 54,
     "metadata": {},
     "output_type": "execute_result"
    }
   ],
   "source": [
    "%%time\n",
    "model.fit(X_train, y_train)"
   ]
  },
  {
   "cell_type": "code",
   "execution_count": 55,
   "metadata": {},
   "outputs": [],
   "source": [
    "y_pred = model.predict_proba(X_test)"
   ]
  },
  {
   "cell_type": "code",
   "execution_count": 56,
   "metadata": {},
   "outputs": [],
   "source": [
    "acc = []\n",
    "threshold = []\n",
    "\n",
    "for i in np.linspace(0.3, 0.7, 1000):\n",
    "    \n",
    "    acc.append(accuracy_score(y_test, y_pred[:, 1] > i))\n",
    "    threshold.append(i)"
   ]
  },
  {
   "cell_type": "code",
   "execution_count": 57,
   "metadata": {},
   "outputs": [
    {
     "data": {
      "image/png": "[encoded data removed]",
      "text/plain": [
       "<Figure size 1080x576 with 1 Axes>"
      ]
     },
     "metadata": {
      "needs_background": "light"
     },
     "output_type": "display_data"
    }
   ],
   "source": [
    "plt.figure(figsize=(15, 8))\n",
    "plt.plot(np.linspace(0.3, 0.7, 1000), acc, color='b')\n",
    "plt.show()"
   ]
  },
  {
   "cell_type": "code",
   "execution_count": 58,
   "metadata": {},
   "outputs": [
    {
     "data": {
      "text/plain": [
       "(0.7680648007057502, 510)"
      ]
     },
     "execution_count": 58,
     "metadata": {},
     "output_type": "execute_result"
    }
   ],
   "source": [
    "max(acc), np.argmax(acc)"
   ]
  },
  {
   "cell_type": "code",
   "execution_count": 59,
   "metadata": {},
   "outputs": [
    {
     "data": {
      "text/plain": [
       "0.5042042042042042"
      ]
     },
     "execution_count": 59,
     "metadata": {},
     "output_type": "execute_result"
    }
   ],
   "source": [
    "threshold[510]"
   ]
  },
  {
   "cell_type": "markdown",
   "metadata": {},
   "source": [
    "### ADAboost"
   ]
  },
  {
   "cell_type": "code",
   "execution_count": 60,
   "metadata": {},
   "outputs": [
    {
     "name": "stdout",
     "output_type": "stream",
     "text": [
      "0 - 0.7774881706632448|"
     ]
    }
   ],
   "source": [
    "scores = []\n",
    "params = []\n",
    "\n",
    "for n in np.arange(1):\n",
    "    model = AdaBoostClassifier(base_estimator=DecisionTreeClassifier(criterion='entropy', max_leaf_nodes=9, random_state=42), \n",
    "                               n_estimators=43,\n",
    "                               learning_rate=0.2789473684210526, \n",
    "                               random_state = 42)\n",
    "    model.fit(X_train , y_train)\n",
    "    score = accuracy_score(y_test, model.predict(X_test))\n",
    "    scores.append(score)\n",
    "    params.append(n)\n",
    "    print(n, '-', score, end='|')"
   ]
  },
  {
   "cell_type": "code",
   "execution_count": 65,
   "metadata": {},
   "outputs": [
    {
     "name": "stdout",
     "output_type": "stream",
     "text": [
      "CPU times: user 4.51 s, sys: 1.46 ms, total: 4.51 s\n",
      "Wall time: 4.51 s\n"
     ]
    },
    {
     "data": {
      "text/plain": [
       "AdaBoostClassifier(base_estimator=DecisionTreeClassifier(criterion='entropy',\n",
       "                                                         max_leaf_nodes=9,\n",
       "                                                         random_state=42),\n",
       "                   learning_rate=0.2789473684210526, n_estimators=43,\n",
       "                   random_state=42)"
      ]
     },
     "execution_count": 65,
     "metadata": {},
     "output_type": "execute_result"
    }
   ],
   "source": [
    "%%time\n",
    "model = AdaBoostClassifier(base_estimator=DecisionTreeClassifier(criterion='entropy', max_leaf_nodes=9, random_state=42), \n",
    "                               n_estimators=43, learning_rate=0.2789473684210526, random_state = 42)\n",
    "\n",
    "model.fit(X_train, y_train)"
   ]
  },
  {
   "cell_type": "code",
   "execution_count": 66,
   "metadata": {},
   "outputs": [],
   "source": [
    "y_pred = model.predict_proba(X_test)"
   ]
  },
  {
   "cell_type": "code",
   "execution_count": 67,
   "metadata": {},
   "outputs": [],
   "source": [
    "acc = []\n",
    "threshold = []\n",
    "\n",
    "for i in np.linspace(0.3, 0.7, 1000):\n",
    "    \n",
    "    acc.append(accuracy_score(y_test, y_pred[:, 1] > i))\n",
    "    threshold.append(i)"
   ]
  },
  {
   "cell_type": "code",
   "execution_count": 68,
   "metadata": {},
   "outputs": [
    {
     "data": {
      "image/png": "[encoded data removed]",
      "text/plain": [
       "<Figure size 1080x576 with 1 Axes>"
      ]
     },
     "metadata": {
      "needs_background": "light"
     },
     "output_type": "display_data"
    }
   ],
   "source": [
    "plt.figure(figsize=(15, 8))\n",
    "plt.plot(np.linspace(0.3, 0.7, 1000), acc, color='b', marker='*')\n",
    "plt.show()"
   ]
  },
  {
   "cell_type": "code",
   "execution_count": 70,
   "metadata": {},
   "outputs": [
    {
     "data": {
      "text/plain": [
       "(0.7783302590424253, 504)"
      ]
     },
     "execution_count": 70,
     "metadata": {},
     "output_type": "execute_result"
    }
   ],
   "source": [
    "max(acc), np.argmax(acc)"
   ]
  },
  {
   "cell_type": "code",
   "execution_count": 77,
   "metadata": {},
   "outputs": [
    {
     "data": {
      "text/plain": [
       "0.5018018018018018"
      ]
     },
     "execution_count": 77,
     "metadata": {},
     "output_type": "execute_result"
    }
   ],
   "source": [
    "threshold[504]"
   ]
  },
  {
   "cell_type": "markdown",
   "metadata": {},
   "source": [
    "### Log Reg"
   ]
  },
  {
   "cell_type": "code",
   "execution_count": 66,
   "metadata": {},
   "outputs": [
    {
     "name": "stdout",
     "output_type": "stream",
     "text": [
      "1 - 0.7655385355682092|"
     ]
    }
   ],
   "source": [
    "scores = []\n",
    "params = []\n",
    "\n",
    "for n in [1]:\n",
    "    \n",
    "    model = LogisticRegression(penalty='l2', C=5.0, random_state = 42, n_jobs=-1)\n",
    "    model.fit(X_train , y_train)\n",
    "    score = accuracy_score(y_test, model.predict(X_test))\n",
    "    scores.append(score)\n",
    "    params.append(n)\n",
    "    print(n, '-', score, end='|')"
   ]
  },
  {
   "cell_type": "code",
   "execution_count": 73,
   "metadata": {},
   "outputs": [
    {
     "data": {
      "text/plain": [
       "LogisticRegression(C=5.0, n_jobs=-1, random_state=42)"
      ]
     },
     "execution_count": 73,
     "metadata": {},
     "output_type": "execute_result"
    }
   ],
   "source": [
    "model = LogisticRegression(penalty='l2', C=5.0, random_state = 42, n_jobs=-1)\n",
    "model.fit(X_train , y_train)"
   ]
  },
  {
   "cell_type": "code",
   "execution_count": 74,
   "metadata": {},
   "outputs": [],
   "source": [
    "y_pred = model.predict_proba(X_test)"
   ]
  },
  {
   "cell_type": "code",
   "execution_count": 75,
   "metadata": {},
   "outputs": [],
   "source": [
    "acc = []\n",
    "threshold = []\n",
    "\n",
    "for i in np.linspace(0.3, 0.7, 1000):\n",
    "    \n",
    "    acc.append(accuracy_score(y_test, y_pred[:, 1] > i))\n",
    "    threshold.append(i)"
   ]
  },
  {
   "cell_type": "code",
   "execution_count": 76,
   "metadata": {},
   "outputs": [
    {
     "data": {
      "image/png": "[encoded data removed]",
      "text/plain": [
       "<Figure size 1080x576 with 1 Axes>"
      ]
     },
     "metadata": {
      "needs_background": "light"
     },
     "output_type": "display_data"
    }
   ],
   "source": [
    "plt.figure(figsize=(15, 8))\n",
    "plt.plot(np.linspace(0.3, 0.7, 1000), acc, color='b', marker='*')\n",
    "plt.show()"
   ]
  },
  {
   "cell_type": "code",
   "execution_count": 78,
   "metadata": {},
   "outputs": [
    {
     "data": {
      "text/plain": [
       "(0.7671425134333146, 417)"
      ]
     },
     "execution_count": 78,
     "metadata": {},
     "output_type": "execute_result"
    }
   ],
   "source": [
    "max(acc), np.argmax(acc)"
   ]
  },
  {
   "cell_type": "code",
   "execution_count": 79,
   "metadata": {},
   "outputs": [
    {
     "data": {
      "text/plain": [
       "0.46696696696696693"
      ]
     },
     "execution_count": 79,
     "metadata": {},
     "output_type": "execute_result"
    }
   ],
   "source": [
    "threshold[417]"
   ]
  },
  {
   "cell_type": "code",
   "execution_count": null,
   "metadata": {},
   "outputs": [],
   "source": []
  },
  {
   "cell_type": "markdown",
   "metadata": {},
   "source": [
    "### RidgeClass"
   ]
  },
  {
   "cell_type": "code",
   "execution_count": 80,
   "metadata": {},
   "outputs": [
    {
     "name": "stdout",
     "output_type": "stream",
     "text": [
      "1 - 0.764776646082284|"
     ]
    }
   ],
   "source": [
    "scores = []\n",
    "params = []\n",
    "\n",
    "for n in [1]:\n",
    "    \n",
    "    model = RidgeClassifier(alpha=7.25, fit_intercept=True, normalize=False, random_state=42)\n",
    "    model.fit(X_train , y_train)\n",
    "    score = accuracy_score(y_test, model.predict(X_test))\n",
    "    scores.append(score)\n",
    "    params.append(n)\n",
    "    print(n, '-', score, end='|')"
   ]
  },
  {
   "cell_type": "code",
   "execution_count": 81,
   "metadata": {},
   "outputs": [],
   "source": [
    "model = RidgeClassifier(alpha=7.25, fit_intercept=True, normalize=False, random_state=42)\n",
    "model.fit(X_train , y_train)\n",
    "y_pred = model.predict(X_test)"
   ]
  },
  {
   "cell_type": "code",
   "execution_count": 82,
   "metadata": {},
   "outputs": [
    {
     "data": {
      "text/plain": [
       "0.764776646082284"
      ]
     },
     "execution_count": 82,
     "metadata": {},
     "output_type": "execute_result"
    }
   ],
   "source": [
    "accuracy_score(y_test, y_pred)"
   ]
  },
  {
   "cell_type": "code",
   "execution_count": 121,
   "metadata": {},
   "outputs": [
    {
     "data": {
      "image/png": "[encoded data removed]",
      "text/plain": [
       "<Figure size 1080x576 with 1 Axes>"
      ]
     },
     "metadata": {
      "needs_background": "light"
     },
     "output_type": "display_data"
    }
   ],
   "source": [
    "plt.figure(figsize=(15, 8))\n",
    "plt.plot(np.linspace(0.00001, 100.0, 1000), scores, color='b', marker='*')\n",
    "plt.show()"
   ]
  },
  {
   "cell_type": "markdown",
   "metadata": {},
   "source": [
    "### Bagging"
   ]
  },
  {
   "cell_type": "code",
   "execution_count": 80,
   "metadata": {},
   "outputs": [
    {
     "name": "stdout",
     "output_type": "stream",
     "text": [
      "50 - 0.7611528822055137|100 - 0.767077694235589|150 - 0.7656942355889725|200 - 0.7672781954887219|250 - 0.7648822055137844|300 - 0.7649223057644111|350 - 0.7662055137844612|400 - 0.766937343358396|450 - 0.7672882205513785|500 - 0.766796992481203|550 - 0.7666967418546367|600 - 0.76668671679198|650 - 0.7668571428571429|700 - 0.7666365914786968|750 - 0.7667167919799499|800 - 0.7666666666666667|850 - 0.7668571428571428|900 - 0.76668671679198|950 - 0.7668170426065164|CPU times: user 35.4 s, sys: 2.61 s, total: 38 s\n",
      "Wall time: 8min 37s\n"
     ]
    }
   ],
   "source": [
    "%%time\n",
    "scores = []\n",
    "params = []\n",
    "\n",
    "for n in range(1):\n",
    "    \n",
    "    model = BaggingClassifier(\n",
    "                             base_estimator=DecisionTreeClassifier(criterion='entropy', \n",
    "                                                                   max_leaf_nodes=9,\n",
    "#                                                                    max_depth=n,\n",
    "                                                                   random_state=42),\n",
    "                             n_estimators=450, \n",
    "#                              max_samples=n, \n",
    "                             max_features=0.525, \n",
    "                             bootstrap=True, \n",
    "                             bootstrap_features=True,\n",
    "                             n_jobs=-1, \n",
    "                             random_state=42)\n",
    "    \n",
    "    \n",
    "#     model.fit(X_train , y_train)\n",
    "    score =  np.mean(cross_val_score(estimator=model, X=X, y=y, scoring='accuracy', cv=5))\n",
    "    scores.append(score)\n",
    "    params.append(n)\n",
    "    print(n, '-', score, end='|')"
   ]
  },
  {
   "cell_type": "code",
   "execution_count": 82,
   "metadata": {},
   "outputs": [
    {
     "data": {
      "image/png": "[encoded data removed]",
      "text/plain": [
       "<Figure size 1080x576 with 1 Axes>"
      ]
     },
     "metadata": {
      "needs_background": "light"
     },
     "output_type": "display_data"
    }
   ],
   "source": [
    "plt.figure(figsize=(15, 8))\n",
    "plt.plot(range(50, 1000, 50), scores, color='b', marker='*')\n",
    "plt.show()"
   ]
  },
  {
   "cell_type": "code",
   "execution_count": 83,
   "metadata": {},
   "outputs": [
    {
     "data": {
      "text/plain": [
       "(0.7672882205513785, 8)"
      ]
     },
     "execution_count": 83,
     "metadata": {},
     "output_type": "execute_result"
    }
   ],
   "source": [
    "max(scores), np.argmax(scores)"
   ]
  },
  {
   "cell_type": "code",
   "execution_count": 83,
   "metadata": {},
   "outputs": [
    {
     "data": {
      "text/plain": [
       "BaggingClassifier(base_estimator=DecisionTreeClassifier(criterion='entropy',\n",
       "                                                        max_leaf_nodes=9,\n",
       "                                                        random_state=42),\n",
       "                  bootstrap_features=True, max_features=0.525, n_estimators=450,\n",
       "                  n_jobs=-1, random_state=42)"
      ]
     },
     "execution_count": 83,
     "metadata": {},
     "output_type": "execute_result"
    }
   ],
   "source": [
    "model = BaggingClassifier(base_estimator=DecisionTreeClassifier(criterion='entropy', max_leaf_nodes=9, random_state=42),\n",
    "                             n_estimators=450, max_features=0.525, bootstrap=True, bootstrap_features=True,\n",
    "                             n_jobs=-1, random_state=42)\n",
    "model.fit(X_train, y_train)"
   ]
  },
  {
   "cell_type": "code",
   "execution_count": 84,
   "metadata": {},
   "outputs": [],
   "source": [
    "y_pred = model.predict_proba(X_test)"
   ]
  },
  {
   "cell_type": "code",
   "execution_count": 85,
   "metadata": {},
   "outputs": [],
   "source": [
    "acc = []\n",
    "threshold = []\n",
    "\n",
    "for i in np.linspace(0.3, 0.7, 1000):\n",
    "    \n",
    "    acc.append(accuracy_score(y_test, y_pred[:, 1] > i))\n",
    "    threshold.append(i)"
   ]
  },
  {
   "cell_type": "code",
   "execution_count": 86,
   "metadata": {},
   "outputs": [
    {
     "data": {
      "image/png": "[encoded data removed]",
      "text/plain": [
       "<Figure size 1080x576 with 1 Axes>"
      ]
     },
     "metadata": {
      "needs_background": "light"
     },
     "output_type": "display_data"
    }
   ],
   "source": [
    "plt.figure(figsize=(15, 8))\n",
    "plt.plot(np.linspace(0.3, 0.7, 1000), acc, color='b', marker='*')\n",
    "plt.show()"
   ]
  },
  {
   "cell_type": "code",
   "execution_count": 87,
   "metadata": {},
   "outputs": [
    {
     "data": {
      "text/plain": [
       "(0.7677841045793568, 450)"
      ]
     },
     "execution_count": 87,
     "metadata": {},
     "output_type": "execute_result"
    }
   ],
   "source": [
    "max(acc), np.argmax(acc)"
   ]
  },
  {
   "cell_type": "code",
   "execution_count": 88,
   "metadata": {},
   "outputs": [
    {
     "data": {
      "text/plain": [
       "0.48018018018018016"
      ]
     },
     "execution_count": 88,
     "metadata": {},
     "output_type": "execute_result"
    }
   ],
   "source": [
    "threshold[450]"
   ]
  },
  {
   "cell_type": "markdown",
   "metadata": {},
   "source": [
    "### GradientBoost"
   ]
  },
  {
   "cell_type": "code",
   "execution_count": 40,
   "metadata": {},
   "outputs": [
    {
     "ename": "TypeError",
     "evalue": "fit() got an unexpected keyword argument 'eval_set'",
     "output_type": "error",
     "traceback": [
      "\u001b[0;31m---------------------------------------------------------------------------\u001b[0m",
      "\u001b[0;31mTypeError\u001b[0m                                 Traceback (most recent call last)",
      "\u001b[0;32m<timed exec>\u001b[0m in \u001b[0;36m<module>\u001b[0;34m\u001b[0m\n",
      "\u001b[0;31mTypeError\u001b[0m: fit() got an unexpected keyword argument 'eval_set'"
     ]
    }
   ],
   "source": [
    "%%time\n",
    "scores = []\n",
    "params = []\n",
    "\n",
    "for n in np.arange(1):\n",
    "    model = GradientBoostingClassifier( \n",
    "                                       learning_rate=0.075, \n",
    "                                       n_estimators=300,\n",
    "#                                        subsample=1.0, \n",
    "                                       criterion='friedman_mse', \n",
    "                                       min_samples_leaf=1, \n",
    "                                       max_depth=3, \n",
    "                                       random_state=42, \n",
    "                                       max_leaf_nodes=None, validation_fraction=0.1)\n",
    "    \n",
    "    score =  np.mean(cross_val_score(estimator=model, X=X, y=y, scoring='accuracy', cv=3))\n",
    "#     model.fit(X_train , y_train)\n",
    "#     score = accuracy_score(y_test, model.predict(X_test))\n",
    "    scores.append(score)\n",
    "    params.append(n)\n",
    "    print(n, '-', score, end='|')"
   ]
  },
  {
   "cell_type": "code",
   "execution_count": 94,
   "metadata": {},
   "outputs": [
    {
     "data": {
      "image/png": "[encoded data removed]",
      "text/plain": [
       "<Figure size 1080x576 with 1 Axes>"
      ]
     },
     "metadata": {
      "needs_background": "light"
     },
     "output_type": "display_data"
    }
   ],
   "source": [
    "plt.figure(figsize=(15, 8))\n",
    "plt.plot(np.linspace(0.07, 0.08, 5), scores, color='b', marker='*')\n",
    "plt.show()"
   ]
  },
  {
   "cell_type": "code",
   "execution_count": 95,
   "metadata": {},
   "outputs": [
    {
     "data": {
      "text/plain": [
       "(0.779187969924812, 2)"
      ]
     },
     "execution_count": 95,
     "metadata": {},
     "output_type": "execute_result"
    }
   ],
   "source": [
    "max(scores), np.argmax(scores)"
   ]
  },
  {
   "cell_type": "code",
   "execution_count": 89,
   "metadata": {},
   "outputs": [
    {
     "data": {
      "text/plain": [
       "GradientBoostingClassifier(learning_rate=0.075, n_estimators=300,\n",
       "                           random_state=42)"
      ]
     },
     "execution_count": 89,
     "metadata": {},
     "output_type": "execute_result"
    }
   ],
   "source": [
    "model = GradientBoostingClassifier(learning_rate=0.075, n_estimators=300, criterion='friedman_mse', min_samples_leaf=1, \n",
    "                                       max_depth=3, random_state=42, max_leaf_nodes=None, validation_fraction=0.1)\n",
    "model.fit(X_train, y_train)"
   ]
  },
  {
   "cell_type": "code",
   "execution_count": 90,
   "metadata": {},
   "outputs": [],
   "source": [
    "y_pred = model.predict_proba(X_test)"
   ]
  },
  {
   "cell_type": "code",
   "execution_count": 91,
   "metadata": {},
   "outputs": [],
   "source": [
    "acc = []\n",
    "threshold = []\n",
    "\n",
    "for i in np.linspace(0.3, 0.7, 1000):\n",
    "    \n",
    "    acc.append(accuracy_score(y_test, y_pred[:, 1] > i))\n",
    "    threshold.append(i)"
   ]
  },
  {
   "cell_type": "code",
   "execution_count": 98,
   "metadata": {},
   "outputs": [
    {
     "data": {
      "image/png": "[encoded data removed]",
      "text/plain": [
       "<Figure size 1080x576 with 1 Axes>"
      ]
     },
     "metadata": {
      "needs_background": "light"
     },
     "output_type": "display_data"
    }
   ],
   "source": [
    "plt.figure(figsize=(15, 8))\n",
    "plt.plot(np.linspace(0.3, 0.7, 1000), acc, color='b', marker='*')\n",
    "plt.hlines(0.7774480712166172, 0.3, 0.7, colors='r')\n",
    "plt.show()"
   ]
  },
  {
   "cell_type": "code",
   "execution_count": 93,
   "metadata": {},
   "outputs": [
    {
     "data": {
      "text/plain": [
       "(0.7774480712166172, 431)"
      ]
     },
     "execution_count": 93,
     "metadata": {},
     "output_type": "execute_result"
    }
   ],
   "source": [
    "max(acc), np.argmax(acc)"
   ]
  },
  {
   "cell_type": "code",
   "execution_count": 94,
   "metadata": {},
   "outputs": [
    {
     "data": {
      "text/plain": [
       "0.47257257257257257"
      ]
     },
     "execution_count": 94,
     "metadata": {},
     "output_type": "execute_result"
    }
   ],
   "source": [
    "threshold[431]"
   ]
  },
  {
   "cell_type": "markdown",
   "metadata": {},
   "source": [
    "### XGBoost"
   ]
  },
  {
   "cell_type": "code",
   "execution_count": 32,
   "metadata": {},
   "outputs": [
    {
     "name": "stdout",
     "output_type": "stream",
     "text": [
      "1 - 0.7786911540620739|CPU times: user 48.3 s, sys: 47.3 ms, total: 48.3 s\n",
      "Wall time: 6.23 s\n"
     ]
    }
   ],
   "source": [
    "%%time\n",
    "scores = []\n",
    "params = []\n",
    "\n",
    "for n in np.arange(1, 2, 1):\n",
    "    model = XGBClassifier(learning_rate=0.05, max_depth=6, n_estimators=300, seed=42)\n",
    "    \n",
    "#     score =  np.mean(cross_val_score(estimator=model, X=X, y=y, scoring='accuracy', cv=3))\n",
    "   \n",
    "    model.fit(X_train , y_train, eval_metric = 'logloss')\n",
    "#     model.fit(X_train , y_train, eval_metric = 'accuracy')\n",
    "#     model.fit(X_train , y_train)\n",
    "    score = accuracy_score(y_test, model.predict(X_test))\n",
    "    scores.append(score)\n",
    "    params.append(n)\n",
    "    print(n, '-', score, end='|')"
   ]
  },
  {
   "cell_type": "code",
   "execution_count": 72,
   "metadata": {},
   "outputs": [
    {
     "data": {
      "image/png": "[encoded data removed]",
      "text/plain": [
       "<Figure size 1080x576 with 1 Axes>"
      ]
     },
     "metadata": {
      "needs_background": "light"
     },
     "output_type": "display_data"
    }
   ],
   "source": [
    "plt.figure(figsize=(15, 8))\n",
    "plt.plot(np.arange(1, 15, 1), scores, color='b', marker='*')\n",
    "plt.show()"
   ]
  },
  {
   "cell_type": "code",
   "execution_count": 73,
   "metadata": {},
   "outputs": [
    {
     "data": {
      "text/plain": [
       "(0.7786911540620739, 5)"
      ]
     },
     "execution_count": 73,
     "metadata": {},
     "output_type": "execute_result"
    }
   ],
   "source": [
    "max(scores), np.argmax(scores)"
   ]
  },
  {
   "cell_type": "code",
   "execution_count": null,
   "metadata": {},
   "outputs": [],
   "source": []
  },
  {
   "cell_type": "code",
   "execution_count": null,
   "metadata": {},
   "outputs": [],
   "source": []
  },
  {
   "cell_type": "code",
   "execution_count": null,
   "metadata": {},
   "outputs": [],
   "source": []
  },
  {
   "cell_type": "code",
   "execution_count": null,
   "metadata": {},
   "outputs": [],
   "source": []
  },
  {
   "cell_type": "code",
   "execution_count": null,
   "metadata": {},
   "outputs": [],
   "source": []
  },
  {
   "cell_type": "code",
   "execution_count": 106,
   "metadata": {},
   "outputs": [
    {
     "data": {
      "text/plain": [
       "XGBClassifier(base_score=0.5, booster='gbtree', colsample_bylevel=1,\n",
       "              colsample_bynode=1, colsample_bytree=1, gamma=0, gpu_id=-1,\n",
       "              importance_type='gain', interaction_constraints='',\n",
       "              learning_rate=0.05, max_delta_step=0, max_depth=6,\n",
       "              min_child_weight=1, missing=nan, monotone_constraints='()',\n",
       "              n_estimators=300, n_jobs=8, num_parallel_tree=1, random_state=42,\n",
       "              reg_alpha=0, reg_lambda=1, scale_pos_weight=1, seed=42,\n",
       "              subsample=1, tree_method='exact', validate_parameters=1,\n",
       "              verbosity=None)"
      ]
     },
     "execution_count": 106,
     "metadata": {},
     "output_type": "execute_result"
    }
   ],
   "source": [
    "model = XGBClassifier(learning_rate=0.05, max_depth=6, n_estimators=300, seed=42)\n",
    "model.fit(X_train , y_train, eval_metric = 'logloss')"
   ]
  },
  {
   "cell_type": "code",
   "execution_count": 101,
   "metadata": {},
   "outputs": [],
   "source": [
    "y_pred = model.predict_proba(X_test)"
   ]
  },
  {
   "cell_type": "code",
   "execution_count": 102,
   "metadata": {},
   "outputs": [],
   "source": [
    "acc = []\n",
    "threshold = []\n",
    "\n",
    "for i in np.linspace(0.3, 0.7, 1000):\n",
    "    \n",
    "    acc.append(accuracy_score(y_test, y_pred[:, 1] > i))\n",
    "    threshold.append(i)"
   ]
  },
  {
   "cell_type": "code",
   "execution_count": 103,
   "metadata": {},
   "outputs": [
    {
     "data": {
      "image/png": "[encoded data removed]",
      "text/plain": [
       "<Figure size 1080x576 with 1 Axes>"
      ]
     },
     "metadata": {
      "needs_background": "light"
     },
     "output_type": "display_data"
    }
   ],
   "source": [
    "plt.figure(figsize=(15, 8))\n",
    "plt.plot(np.linspace(0.3, 0.7, 1000), acc, color='b', marker='*')\n",
    "# plt.hlines(0.7774480712166172, 0.3, 0.7, colors='r')\n",
    "plt.show()"
   ]
  },
  {
   "cell_type": "code",
   "execution_count": 104,
   "metadata": {},
   "outputs": [
    {
     "data": {
      "text/plain": [
       "(0.7796936402277649, 514)"
      ]
     },
     "execution_count": 104,
     "metadata": {},
     "output_type": "execute_result"
    }
   ],
   "source": [
    "max(acc), np.argmax(acc)"
   ]
  },
  {
   "cell_type": "code",
   "execution_count": 105,
   "metadata": {},
   "outputs": [
    {
     "data": {
      "text/plain": [
       "0.5058058058058058"
      ]
     },
     "execution_count": 105,
     "metadata": {},
     "output_type": "execute_result"
    }
   ],
   "source": [
    "threshold[514]"
   ]
  },
  {
   "cell_type": "code",
   "execution_count": null,
   "metadata": {},
   "outputs": [],
   "source": []
  },
  {
   "cell_type": "code",
   "execution_count": 26,
   "metadata": {},
   "outputs": [],
   "source": [
    "pred_train = pd.DataFrame()\n",
    "pred_test = pd.DataFrame()"
   ]
  },
  {
   "cell_type": "code",
   "execution_count": 27,
   "metadata": {},
   "outputs": [],
   "source": [
    "models = {'log_reg': [LogisticRegression(penalty='l2', C=5.0, random_state=42, n_jobs=-1), \n",
    "                      0.46696696696696693], \n",
    "          'RidgeClass': [RidgeClassifier(alpha=7.25, fit_intercept=True, normalize=False, random_state=42)],\n",
    "          'AdaBoostClassifier': [AdaBoostClassifier(base_estimator=DecisionTreeClassifier(criterion='entropy', max_leaf_nodes=9, random_state=42), \n",
    "                                                   n_estimators=43, learning_rate=0.2789473684210526, random_state = 42), \n",
    "                                0.5018018018018018],\n",
    "          'BaggingClassifier': [BaggingClassifier(base_estimator=DecisionTreeClassifier(criterion='entropy', max_leaf_nodes=9, random_state=42), \n",
    "                                                 n_estimators=450, max_features=0.525, bootstrap=True, bootstrap_features=True, \n",
    "                                                 n_jobs=-1, random_state=42), \n",
    "                                0.48018018018018016],\n",
    "          \n",
    "          'GradientBoostingClassifier': [GradientBoostingClassifier(learning_rate=0.075, n_estimators=300, criterion='friedman_mse', \n",
    "                                                                   min_samples_leaf=1, max_depth=3, random_state=42, \n",
    "                                                                   max_leaf_nodes=None, validation_fraction=0.1), \n",
    "                                         0.47257257257257257],\n",
    "          \n",
    "          'RandomForestClassifier': [RandomForestClassifier(n_estimators=4500, criterion='entropy', max_leaf_nodes=7, \n",
    "                                                           max_features=6, bootstrap=True, random_state=42, n_jobs=-1), \n",
    "                                     0.5042042042042042],\n",
    "          'LGBMClassifier': [LGBMClassifier(n_estimators=100, learning_rate=0.14434343434, metric='accuracy', max_depth=9, random_state = 42), \n",
    "                             0.5004004004004005],\n",
    "          'XGBClassifier': [XGBClassifier(learning_rate=0.05, max_depth=6, n_estimators=300, seed=42), \n",
    "                            0.5058058058058058]\n",
    "          }"
   ]
  },
  {
   "cell_type": "code",
   "execution_count": 118,
   "metadata": {},
   "outputs": [
    {
     "data": {
      "text/plain": [
       "array([0, 0, 0, ..., 1, 1, 1])"
      ]
     },
     "execution_count": 118,
     "metadata": {},
     "output_type": "execute_result"
    }
   ],
   "source": [
    "y_pred = np.array(model.predict_proba(X_test)[:, 1] > 0.5).astype(int)\n",
    "y_pred"
   ]
  },
  {
   "cell_type": "code",
   "execution_count": 28,
   "metadata": {},
   "outputs": [],
   "source": [
    "pred_train = pd.DataFrame()\n",
    "pred_test = pd.DataFrame()"
   ]
  },
  {
   "cell_type": "code",
   "execution_count": 32,
   "metadata": {},
   "outputs": [
    {
     "name": "stdout",
     "output_type": "stream",
     "text": [
      "log_reg 19:23:00-0.7673182957393484|0.7703258145363409|0.7692230576441103|0.7726315789473684|0.771328320802005|0.7697243107769424|0.7706265664160401|0.7707268170426065|0.7597994987468671|0.7700250626566416|19:23:33\n",
      "RidgeClass 19:23:33-0.7631077694235588|0.7654135338345864|0.7650125313283208|0.766516290726817|0.7671177944862155|0.7656140350877193|0.7662155388471178|0.769624060150376|0.7560902255639098|0.770827067669173|19:23:35\n",
      "AdaBoostClassifier 19:23:35-0.7774436090225564|0.7808521303258146|0.7775438596491228|0.7801503759398496|0.7782456140350877|0.7792481203007519|0.778546365914787|0.7776441102756892|0.7682205513784461|0.7832581453634085|19:24:41\n",
      "BaggingClassifier 19:24:41-0.7680200501253133|0.774937343358396|0.7714285714285715|0.7666165413533834|0.7704260651629072|0.7674185463659148|0.77203007518797|0.7674185463659148|0.7592982456140351|0.7718295739348371|19:25:46\n",
      "GradientBoostingClassifier 19:25:46-0.7783458646616541|0.7792481203007519|0.7792481203007519|0.7812531328320802|0.7798496240601503|0.780952380952381|0.7816541353383458|0.7804511278195488|0.770827067669173|0.7798496240601503|19:30:00\n",
      "RandomForestClassifier 19:30:00-0.768922305764411|0.7716290726817042|0.7681203007518796|0.7703258145363409|0.7699248120300752|0.768922305764411|0.7676190476190476|0.7686215538847118|0.7590977443609023|0.7740350877192983|19:37:43\n",
      "LGBMClassifier 19:37:43-0.7760401002506265|0.7807518796992481|0.7808521303258146|0.7830576441102757|0.7788471177944862|0.7823558897243108|0.7800501253132832|0.7808521303258146|0.770125313283208|0.7814536340852131|19:37:49\n",
      "XGBClassifier 19:37:49-0.7784461152882205|0.7800501253132832|0.7789473684210526|0.7820551378446116|0.779749373433584|0.7799498746867168|0.7813533834586466|0.7812531328320802|0.7706265664160401|0.7824561403508772|19:39:04\n"
     ]
    }
   ],
   "source": [
    "%%time\n",
    "pred_train = pd.DataFrame()\n",
    "pred_test = pd.DataFrame()\n",
    "\n",
    "for name_model, m in models.items():\n",
    "    \n",
    "    preds = np.zeros(y.shape[0])\n",
    "    kf = StratifiedKFold(n_splits=10 , random_state=42 , shuffle=True)\n",
    "    scores = []\n",
    "    print(name_model, time.strftime('%X'), end='-')\n",
    "    \n",
    "    for trn_idx , val_idx in kf.split(X , y):\n",
    "        \n",
    "        train_x = X.iloc[trn_idx]\n",
    "        train_y = y.iloc[trn_idx]\n",
    "        val_x = X.iloc[val_idx]\n",
    "        val_y = y.iloc[val_idx]\n",
    "                \n",
    "        model = m[0]\n",
    "        \n",
    "        if name_model in ['LGBMClassifier', 'XGBClassifier']:\n",
    "            if name_model in ['LGBMClassifier']:\n",
    "                model.fit(train_x , train_y, eval_metric='accuracy')            \n",
    "            else:\n",
    "                model.fit(train_x , train_y, eval_metric = 'logloss')\n",
    "                \n",
    "        else:\n",
    "            model.fit(train_x, train_y)\n",
    "            \n",
    "        if name_model in ['RidgeClass']:\n",
    "            preds += model.predict(X) / kf.n_splits\n",
    "            scores.append(accuracy_score(val_y, model.predict(val_x)))\n",
    "        else:\n",
    "            preds += model.predict_proba(X)[:, 1] / kf.n_splits\n",
    "            scores.append(accuracy_score(val_y, np.array(model.predict_proba(val_x)[:, 1] > m[1])))      \n",
    "          \n",
    "    if name_model in ['RidgeClass']:\n",
    "        pred_train[name_model] = preds    \n",
    "    else:\n",
    "        pred_train[name_model] = np.array(preds > m[1]).astype(int)    \n",
    "    \n",
    "    print(time.strftime('%X'), np.mean(scores))"
   ]
  },
  {
   "cell_type": "code",
   "execution_count": 33,
   "metadata": {},
   "outputs": [
    {
     "data": {
      "text/html": [
       "<div>\n",
       "<style scoped>\n",
       "    .dataframe tbody tr th:only-of-type {\n",
       "        vertical-align: middle;\n",
       "    }\n",
       "\n",
       "    .dataframe tbody tr th {\n",
       "        vertical-align: top;\n",
       "    }\n",
       "\n",
       "    .dataframe thead th {\n",
       "        text-align: right;\n",
       "    }\n",
       "</style>\n",
       "<table border=\"1\" class=\"dataframe\">\n",
       "  <thead>\n",
       "    <tr style=\"text-align: right;\">\n",
       "      <th></th>\n",
       "      <th>log_reg</th>\n",
       "      <th>RidgeClass</th>\n",
       "      <th>AdaBoostClassifier</th>\n",
       "      <th>BaggingClassifier</th>\n",
       "      <th>GradientBoostingClassifier</th>\n",
       "      <th>RandomForestClassifier</th>\n",
       "      <th>LGBMClassifier</th>\n",
       "      <th>XGBClassifier</th>\n",
       "    </tr>\n",
       "  </thead>\n",
       "  <tbody>\n",
       "    <tr>\n",
       "      <th>0</th>\n",
       "      <td>0</td>\n",
       "      <td>0.0</td>\n",
       "      <td>1</td>\n",
       "      <td>1</td>\n",
       "      <td>1</td>\n",
       "      <td>0</td>\n",
       "      <td>1</td>\n",
       "      <td>1</td>\n",
       "    </tr>\n",
       "    <tr>\n",
       "      <th>1</th>\n",
       "      <td>0</td>\n",
       "      <td>0.0</td>\n",
       "      <td>0</td>\n",
       "      <td>0</td>\n",
       "      <td>0</td>\n",
       "      <td>0</td>\n",
       "      <td>0</td>\n",
       "      <td>0</td>\n",
       "    </tr>\n",
       "    <tr>\n",
       "      <th>2</th>\n",
       "      <td>0</td>\n",
       "      <td>0.0</td>\n",
       "      <td>0</td>\n",
       "      <td>0</td>\n",
       "      <td>0</td>\n",
       "      <td>0</td>\n",
       "      <td>0</td>\n",
       "      <td>0</td>\n",
       "    </tr>\n",
       "  </tbody>\n",
       "</table>\n",
       "</div>"
      ],
      "text/plain": [
       "   log_reg  RidgeClass  AdaBoostClassifier  BaggingClassifier  \\\n",
       "0        0         0.0                   1                  1   \n",
       "1        0         0.0                   0                  0   \n",
       "2        0         0.0                   0                  0   \n",
       "\n",
       "   GradientBoostingClassifier  RandomForestClassifier  LGBMClassifier  \\\n",
       "0                           1                       0               1   \n",
       "1                           0                       0               0   \n",
       "2                           0                       0               0   \n",
       "\n",
       "   XGBClassifier  \n",
       "0              1  \n",
       "1              0  \n",
       "2              0  "
      ]
     },
     "execution_count": 33,
     "metadata": {},
     "output_type": "execute_result"
    }
   ],
   "source": [
    "pred_train.head(3)"
   ]
  },
  {
   "cell_type": "code",
   "execution_count": null,
   "metadata": {},
   "outputs": [],
   "source": []
  },
  {
   "cell_type": "code",
   "execution_count": 36,
   "metadata": {},
   "outputs": [],
   "source": [
    "models_2 = {'log_reg': LogisticRegression(random_state=42, n_jobs=-1),  \n",
    "          'RidgeClass': RidgeClassifier(random_state=42),\n",
    "          'AdaBoostClassifier': AdaBoostClassifier(random_state = 42), \n",
    "          'BaggingClassifier': BaggingClassifier(n_jobs=-1, random_state=42), \n",
    "          'GradientBoostingClassifier': GradientBoostingClassifier(random_state=42),\n",
    "          'RandomForestClassifier': RandomForestClassifier(n_estimators=4500, random_state=42, n_jobs=-1), \n",
    "          'LGBMClassifier': LGBMClassifier(metric='accuracy', random_state = 42), \n",
    "          'XGBClassifier': XGBClassifier(seed=42), \n",
    "          }"
   ]
  },
  {
   "cell_type": "code",
   "execution_count": 41,
   "metadata": {},
   "outputs": [
    {
     "name": "stdout",
     "output_type": "stream",
     "text": [
      "log_reg 20:11:10-20:11:19 0.7880501253132832\n",
      "RidgeClass 20:11:19-20:11:20 0.7886716791979949\n",
      "AdaBoostClassifier 20:11:20-20:11:42 0.7886817042606517\n",
      "BaggingClassifier 20:11:42-20:11:46 0.7897644110275689\n",
      "GradientBoostingClassifier 20:11:46-20:12:13 0.7899649122807018\n",
      "RandomForestClassifier 20:12:13-20:20:40 0.7896541353383458\n",
      "LGBMClassifier 20:20:40-20:20:44 0.7902255639097744\n",
      "XGBClassifier 20:20:44-20:20:56 0.7897443609022556\n"
     ]
    }
   ],
   "source": [
    "pred_train_2 = pd.DataFrame()\n",
    "pred_test = pd.DataFrame()\n",
    "\n",
    "for name_model, m in models_2.items():\n",
    "    print(name_model, time.strftime('%X'), end='-')\n",
    "    \n",
    "    model = m\n",
    "    preds = np.zeros(y.shape[0])\n",
    "    kf = StratifiedKFold(n_splits=10 , random_state=42 , shuffle=True)\n",
    "    scores = []\n",
    "        \n",
    "    for trn_idx , val_idx in kf.split(pred_train, y):\n",
    "        \n",
    "        train_x = pred_train.iloc[trn_idx]\n",
    "        train_y = y.iloc[trn_idx]\n",
    "        val_x = pred_train.iloc[val_idx]\n",
    "        val_y = y.iloc[val_idx]\n",
    "        \n",
    "        model = m\n",
    "        \n",
    "        if name_model in ['LGBMClassifier', 'XGBClassifier']:\n",
    "            if name_model in ['LGBMClassifier']:\n",
    "                model.fit(train_x , train_y, eval_metric='accuracy')            \n",
    "            else:\n",
    "                model.fit(train_x , train_y, eval_metric = 'logloss')\n",
    "                \n",
    "        else:\n",
    "            model.fit(train_x, train_y)\n",
    "            \n",
    "        if name_model in ['RidgeClass']:\n",
    "            preds += model.predict(pred_train) / kf.n_splits\n",
    "            scores.append(accuracy_score(val_y, model.predict(val_x)))\n",
    "        else:\n",
    "            preds += model.predict(pred_train) / kf.n_splits\n",
    "            scores.append(accuracy_score(val_y, np.array(model.predict(val_x))))      \n",
    "          \n",
    "    if name_model in ['RidgeClass']:\n",
    "        pred_train_2[name_model] = preds    \n",
    "    else:\n",
    "        pred_train_2[name_model] = preds\n",
    "    \n",
    "    print(time.strftime('%X'), np.mean(scores))"
   ]
  },
  {
   "cell_type": "code",
   "execution_count": 42,
   "metadata": {},
   "outputs": [
    {
     "data": {
      "text/html": [
       "<div>\n",
       "<style scoped>\n",
       "    .dataframe tbody tr th:only-of-type {\n",
       "        vertical-align: middle;\n",
       "    }\n",
       "\n",
       "    .dataframe tbody tr th {\n",
       "        vertical-align: top;\n",
       "    }\n",
       "\n",
       "    .dataframe thead th {\n",
       "        text-align: right;\n",
       "    }\n",
       "</style>\n",
       "<table border=\"1\" class=\"dataframe\">\n",
       "  <thead>\n",
       "    <tr style=\"text-align: right;\">\n",
       "      <th></th>\n",
       "      <th>log_reg</th>\n",
       "      <th>RidgeClass</th>\n",
       "      <th>AdaBoostClassifier</th>\n",
       "      <th>BaggingClassifier</th>\n",
       "      <th>GradientBoostingClassifier</th>\n",
       "      <th>RandomForestClassifier</th>\n",
       "      <th>LGBMClassifier</th>\n",
       "      <th>XGBClassifier</th>\n",
       "    </tr>\n",
       "  </thead>\n",
       "  <tbody>\n",
       "    <tr>\n",
       "      <th>0</th>\n",
       "      <td>1.0</td>\n",
       "      <td>1.0</td>\n",
       "      <td>1.0</td>\n",
       "      <td>1.0</td>\n",
       "      <td>1.0</td>\n",
       "      <td>1.0</td>\n",
       "      <td>1.0</td>\n",
       "      <td>1.0</td>\n",
       "    </tr>\n",
       "    <tr>\n",
       "      <th>1</th>\n",
       "      <td>0.0</td>\n",
       "      <td>0.0</td>\n",
       "      <td>0.0</td>\n",
       "      <td>0.0</td>\n",
       "      <td>0.0</td>\n",
       "      <td>0.0</td>\n",
       "      <td>0.0</td>\n",
       "      <td>0.0</td>\n",
       "    </tr>\n",
       "    <tr>\n",
       "      <th>2</th>\n",
       "      <td>0.0</td>\n",
       "      <td>0.0</td>\n",
       "      <td>0.0</td>\n",
       "      <td>0.0</td>\n",
       "      <td>0.0</td>\n",
       "      <td>0.0</td>\n",
       "      <td>0.0</td>\n",
       "      <td>0.0</td>\n",
       "    </tr>\n",
       "  </tbody>\n",
       "</table>\n",
       "</div>"
      ],
      "text/plain": [
       "   log_reg  RidgeClass  AdaBoostClassifier  BaggingClassifier  \\\n",
       "0      1.0         1.0                 1.0                1.0   \n",
       "1      0.0         0.0                 0.0                0.0   \n",
       "2      0.0         0.0                 0.0                0.0   \n",
       "\n",
       "   GradientBoostingClassifier  RandomForestClassifier  LGBMClassifier  \\\n",
       "0                         1.0                     1.0             1.0   \n",
       "1                         0.0                     0.0             0.0   \n",
       "2                         0.0                     0.0             0.0   \n",
       "\n",
       "   XGBClassifier  \n",
       "0            1.0  \n",
       "1            0.0  \n",
       "2            0.0  "
      ]
     },
     "execution_count": 42,
     "metadata": {},
     "output_type": "execute_result"
    }
   ],
   "source": [
    "pred_train_2.head(3)"
   ]
  },
  {
   "cell_type": "code",
   "execution_count": 43,
   "metadata": {},
   "outputs": [
    {
     "name": "stdout",
     "output_type": "stream",
     "text": [
      "log_reg 20:20:56-20:21:08 0.7911478696741855\n",
      "RidgeClass 20:21:08-20:21:09 0.7910476190476191\n",
      "AdaBoostClassifier 20:21:09-20:21:24 0.7909072681704261\n",
      "BaggingClassifier 20:21:24-20:21:27 0.7899047619047618\n",
      "GradientBoostingClassifier 20:21:27-20:21:50 0.7902055137844611\n",
      "RandomForestClassifier 20:21:50-20:28:41 0.7898646616541354\n",
      "LGBMClassifier 20:28:41-20:28:43 0.7900350877192982\n",
      "XGBClassifier 20:28:43-20:28:54 0.7899147869674186\n"
     ]
    }
   ],
   "source": [
    "for name_model, m in models_2.items():\n",
    "    print(name_model, time.strftime('%X'), end='-')\n",
    "    \n",
    "    model = m\n",
    "    preds = np.zeros(y.shape[0])\n",
    "    kf = StratifiedKFold(n_splits=10 , random_state=42 , shuffle=True)\n",
    "    scores = []\n",
    "        \n",
    "    for trn_idx , val_idx in kf.split(pred_train_2, y):\n",
    "        \n",
    "        train_x = pred_train_2.iloc[trn_idx]\n",
    "        train_y = y.iloc[trn_idx]\n",
    "        val_x = pred_train_2.iloc[val_idx]\n",
    "        val_y = y.iloc[val_idx]\n",
    "        \n",
    "        model = m\n",
    "        \n",
    "        if name_model in ['LGBMClassifier', 'XGBClassifier']:\n",
    "            if name_model in ['LGBMClassifier']:\n",
    "                model.fit(train_x , train_y, eval_metric='accuracy')            \n",
    "            else:\n",
    "                model.fit(train_x , train_y, eval_metric = 'logloss')\n",
    "                \n",
    "        else:\n",
    "            model.fit(train_x, train_y)\n",
    "            \n",
    "        if name_model in ['RidgeClass']:\n",
    "#             preds += model.predict(pred_train) / kf.n_splits\n",
    "            scores.append(accuracy_score(val_y, model.predict(val_x)))\n",
    "        else:\n",
    "#             preds += model.predict(pred_train) / kf.n_splits\n",
    "            scores.append(accuracy_score(val_y, np.array(model.predict(val_x))))      \n",
    "          \n",
    "#     if name_model in ['RidgeClass']:\n",
    "#         pred_train_2[name_model] = preds    \n",
    "#     else:\n",
    "#         pred_train_2[name_model] = preds\n",
    "    \n",
    "    print(time.strftime('%X'), np.mean(scores))"
   ]
  },
  {
   "cell_type": "code",
   "execution_count": null,
   "metadata": {},
   "outputs": [],
   "source": []
  },
  {
   "cell_type": "code",
   "execution_count": null,
   "metadata": {},
   "outputs": [],
   "source": []
  },
  {
   "cell_type": "code",
   "execution_count": null,
   "metadata": {},
   "outputs": [],
   "source": []
  },
  {
   "cell_type": "code",
   "execution_count": null,
   "metadata": {},
   "outputs": [],
   "source": [
    "models_3 = {'log_reg': LogisticRegression(random_state=42, n_jobs=-1),  \n",
    "          'RidgeClass': RidgeClassifier(random_state=42),\n",
    "          'AdaBoostClassifier': AdaBoostClassifier(random_state = 42), \n",
    "          'BaggingClassifier': BaggingClassifier(n_jobs=-1, random_state=42), \n",
    "          'GradientBoostingClassifier': GradientBoostingClassifier(random_state=42),\n",
    "          'RandomForestClassifier': RandomForestClassifier(n_estimators=4500, random_state=42, n_jobs=-1), \n",
    "          'LGBMClassifier': LGBMClassifier(metric='accuracy', random_state = 42), \n",
    "          'XGBClassifier': XGBClassifier(seed=42), \n",
    "          }"
   ]
  },
  {
   "cell_type": "code",
   "execution_count": null,
   "metadata": {},
   "outputs": [],
   "source": []
  },
  {
   "cell_type": "code",
   "execution_count": null,
   "metadata": {},
   "outputs": [],
   "source": []
  },
  {
   "cell_type": "code",
   "execution_count": null,
   "metadata": {},
   "outputs": [],
   "source": []
  },
  {
   "cell_type": "code",
   "execution_count": null,
   "metadata": {},
   "outputs": [],
   "source": []
  },
  {
   "cell_type": "code",
   "execution_count": null,
   "metadata": {},
   "outputs": [],
   "source": []
  },
  {
   "cell_type": "code",
   "execution_count": null,
   "metadata": {},
   "outputs": [],
   "source": []
  },
  {
   "cell_type": "code",
   "execution_count": null,
   "metadata": {},
   "outputs": [],
   "source": []
  },
  {
   "cell_type": "code",
   "execution_count": null,
   "metadata": {},
   "outputs": [],
   "source": []
  },
  {
   "cell_type": "code",
   "execution_count": 185,
   "metadata": {},
   "outputs": [
    {
     "data": {
      "text/html": [
       "<div>\n",
       "<style scoped>\n",
       "    .dataframe tbody tr th:only-of-type {\n",
       "        vertical-align: middle;\n",
       "    }\n",
       "\n",
       "    .dataframe tbody tr th {\n",
       "        vertical-align: top;\n",
       "    }\n",
       "\n",
       "    .dataframe thead th {\n",
       "        text-align: right;\n",
       "    }\n",
       "</style>\n",
       "<table border=\"1\" class=\"dataframe\">\n",
       "  <thead>\n",
       "    <tr style=\"text-align: right;\">\n",
       "      <th></th>\n",
       "      <th>submit_log_reg</th>\n",
       "      <th>submit_RidgeClass</th>\n",
       "      <th>submit_AdaBoostClassifier</th>\n",
       "      <th>submit_BaggingClassifier</th>\n",
       "      <th>submit_GradientBoostingClassifier</th>\n",
       "      <th>submit_RandomForestClassifier</th>\n",
       "      <th>submit_LGBMClassifier</th>\n",
       "      <th>submit_XGBClassifier</th>\n",
       "    </tr>\n",
       "  </thead>\n",
       "  <tbody>\n",
       "    <tr>\n",
       "      <th>0</th>\n",
       "      <td>0</td>\n",
       "      <td>0</td>\n",
       "      <td>0</td>\n",
       "      <td>0</td>\n",
       "      <td>0</td>\n",
       "      <td>0</td>\n",
       "      <td>0</td>\n",
       "      <td>0</td>\n",
       "    </tr>\n",
       "    <tr>\n",
       "      <th>1</th>\n",
       "      <td>0</td>\n",
       "      <td>0</td>\n",
       "      <td>0</td>\n",
       "      <td>0</td>\n",
       "      <td>0</td>\n",
       "      <td>0</td>\n",
       "      <td>0</td>\n",
       "      <td>0</td>\n",
       "    </tr>\n",
       "    <tr>\n",
       "      <th>2</th>\n",
       "      <td>0</td>\n",
       "      <td>0</td>\n",
       "      <td>0</td>\n",
       "      <td>0</td>\n",
       "      <td>0</td>\n",
       "      <td>0</td>\n",
       "      <td>0</td>\n",
       "      <td>0</td>\n",
       "    </tr>\n",
       "    <tr>\n",
       "      <th>3</th>\n",
       "      <td>0</td>\n",
       "      <td>0</td>\n",
       "      <td>0</td>\n",
       "      <td>0</td>\n",
       "      <td>0</td>\n",
       "      <td>0</td>\n",
       "      <td>0</td>\n",
       "      <td>0</td>\n",
       "    </tr>\n",
       "    <tr>\n",
       "      <th>4</th>\n",
       "      <td>0</td>\n",
       "      <td>0</td>\n",
       "      <td>0</td>\n",
       "      <td>0</td>\n",
       "      <td>0</td>\n",
       "      <td>0</td>\n",
       "      <td>0</td>\n",
       "      <td>0</td>\n",
       "    </tr>\n",
       "    <tr>\n",
       "      <th>...</th>\n",
       "      <td>...</td>\n",
       "      <td>...</td>\n",
       "      <td>...</td>\n",
       "      <td>...</td>\n",
       "      <td>...</td>\n",
       "      <td>...</td>\n",
       "      <td>...</td>\n",
       "      <td>...</td>\n",
       "    </tr>\n",
       "    <tr>\n",
       "      <th>24933</th>\n",
       "      <td>1</td>\n",
       "      <td>1</td>\n",
       "      <td>1</td>\n",
       "      <td>1</td>\n",
       "      <td>1</td>\n",
       "      <td>1</td>\n",
       "      <td>1</td>\n",
       "      <td>1</td>\n",
       "    </tr>\n",
       "    <tr>\n",
       "      <th>24934</th>\n",
       "      <td>1</td>\n",
       "      <td>1</td>\n",
       "      <td>1</td>\n",
       "      <td>1</td>\n",
       "      <td>1</td>\n",
       "      <td>1</td>\n",
       "      <td>1</td>\n",
       "      <td>1</td>\n",
       "    </tr>\n",
       "    <tr>\n",
       "      <th>24935</th>\n",
       "      <td>1</td>\n",
       "      <td>1</td>\n",
       "      <td>1</td>\n",
       "      <td>1</td>\n",
       "      <td>1</td>\n",
       "      <td>1</td>\n",
       "      <td>1</td>\n",
       "      <td>1</td>\n",
       "    </tr>\n",
       "    <tr>\n",
       "      <th>24936</th>\n",
       "      <td>1</td>\n",
       "      <td>1</td>\n",
       "      <td>1</td>\n",
       "      <td>1</td>\n",
       "      <td>1</td>\n",
       "      <td>1</td>\n",
       "      <td>1</td>\n",
       "      <td>1</td>\n",
       "    </tr>\n",
       "    <tr>\n",
       "      <th>24937</th>\n",
       "      <td>1</td>\n",
       "      <td>1</td>\n",
       "      <td>1</td>\n",
       "      <td>1</td>\n",
       "      <td>1</td>\n",
       "      <td>1</td>\n",
       "      <td>1</td>\n",
       "      <td>1</td>\n",
       "    </tr>\n",
       "  </tbody>\n",
       "</table>\n",
       "<p>24938 rows × 8 columns</p>\n",
       "</div>"
      ],
      "text/plain": [
       "       submit_log_reg  submit_RidgeClass  submit_AdaBoostClassifier  \\\n",
       "0                   0                  0                          0   \n",
       "1                   0                  0                          0   \n",
       "2                   0                  0                          0   \n",
       "3                   0                  0                          0   \n",
       "4                   0                  0                          0   \n",
       "...               ...                ...                        ...   \n",
       "24933               1                  1                          1   \n",
       "24934               1                  1                          1   \n",
       "24935               1                  1                          1   \n",
       "24936               1                  1                          1   \n",
       "24937               1                  1                          1   \n",
       "\n",
       "       submit_BaggingClassifier  submit_GradientBoostingClassifier  \\\n",
       "0                             0                                  0   \n",
       "1                             0                                  0   \n",
       "2                             0                                  0   \n",
       "3                             0                                  0   \n",
       "4                             0                                  0   \n",
       "...                         ...                                ...   \n",
       "24933                         1                                  1   \n",
       "24934                         1                                  1   \n",
       "24935                         1                                  1   \n",
       "24936                         1                                  1   \n",
       "24937                         1                                  1   \n",
       "\n",
       "       submit_RandomForestClassifier  submit_LGBMClassifier  \\\n",
       "0                                  0                      0   \n",
       "1                                  0                      0   \n",
       "2                                  0                      0   \n",
       "3                                  0                      0   \n",
       "4                                  0                      0   \n",
       "...                              ...                    ...   \n",
       "24933                              1                      1   \n",
       "24934                              1                      1   \n",
       "24935                              1                      1   \n",
       "24936                              1                      1   \n",
       "24937                              1                      1   \n",
       "\n",
       "       submit_XGBClassifier  \n",
       "0                         0  \n",
       "1                         0  \n",
       "2                         0  \n",
       "3                         0  \n",
       "4                         0  \n",
       "...                     ...  \n",
       "24933                     1  \n",
       "24934                     1  \n",
       "24935                     1  \n",
       "24936                     1  \n",
       "24937                     1  \n",
       "\n",
       "[24938 rows x 8 columns]"
      ]
     },
     "execution_count": 185,
     "metadata": {},
     "output_type": "execute_result"
    }
   ],
   "source": [
    "pred_test[[col for col in pred_train.columns if col.startswith('submit_')]]"
   ]
  },
  {
   "cell_type": "code",
   "execution_count": 229,
   "metadata": {},
   "outputs": [
    {
     "data": {
      "text/plain": [
       "0    12834\n",
       "8     8812\n",
       "1      726\n",
       "6      713\n",
       "7      641\n",
       "4      384\n",
       "2      302\n",
       "5      289\n",
       "3      237\n",
       "dtype: int64"
      ]
     },
     "execution_count": 229,
     "metadata": {},
     "output_type": "execute_result"
    }
   ],
   "source": [
    "pred_test[[col for col in pred_train.columns if col.startswith('submit_')]].sum(axis = 1).value_counts()"
   ]
  },
  {
   "cell_type": "code",
   "execution_count": 230,
   "metadata": {},
   "outputs": [
    {
     "data": {
      "text/plain": [
       "10020"
      ]
     },
     "execution_count": 230,
     "metadata": {},
     "output_type": "execute_result"
    }
   ],
   "source": [
    "pred_test.submit_log_reg.sum()"
   ]
  },
  {
   "cell_type": "code",
   "execution_count": 195,
   "metadata": {},
   "outputs": [
    {
     "data": {
      "text/plain": [
       "0        0\n",
       "1        0\n",
       "2        0\n",
       "3        0\n",
       "4        0\n",
       "        ..\n",
       "24933    1\n",
       "24934    1\n",
       "24935    1\n",
       "24936    1\n",
       "24937    1\n",
       "Length: 24938, dtype: int64"
      ]
     },
     "execution_count": 195,
     "metadata": {},
     "output_type": "execute_result"
    }
   ],
   "source": [
    "(pred_test[[col for col in pred_test.columns if col.startswith('submit_')]].sum(axis=1) >= 3).astype(int)"
   ]
  },
  {
   "cell_type": "code",
   "execution_count": 231,
   "metadata": {},
   "outputs": [
    {
     "name": "stdout",
     "output_type": "stream",
     "text": [
      "1 0.7712326569893335\n",
      "2 0.771954447028631\n",
      "3 0.7732376293207154\n",
      "4 0.7749619055257038\n",
      "5 0.775042104418959\n",
      "6 0.7741198171465233\n",
      "7 0.7704707675034085\n"
     ]
    }
   ],
   "source": [
    "scores = []\n",
    "for i in range(1, 8):\n",
    "    \n",
    "    y_pred = (pred_test[[col for col in pred_test.columns if col.startswith('submit_')]].sum(axis=1) >= i).astype(int)\n",
    "    \n",
    "    scores.append(accuracy_score(y_test, y_pred))\n",
    "    print(i, accuracy_score(y_test, y_pred))"
   ]
  },
  {
   "cell_type": "code",
   "execution_count": null,
   "metadata": {},
   "outputs": [],
   "source": []
  },
  {
   "cell_type": "code",
   "execution_count": null,
   "metadata": {},
   "outputs": [],
   "source": []
  },
  {
   "cell_type": "code",
   "execution_count": null,
   "metadata": {},
   "outputs": [],
   "source": []
  },
  {
   "cell_type": "code",
   "execution_count": 176,
   "metadata": {},
   "outputs": [],
   "source": [
    "pred_test[TARGET] = (pred_test[[col for col in pred_test.columns if col.startswith('submit_')]].sum(axis=1) >= 2).astype(int)\n",
    "pred_test.drop([col for col in pred_test.columns if col.startswith('submit_')], axis=1, inplace=True)"
   ]
  },
  {
   "cell_type": "code",
   "execution_count": 177,
   "metadata": {},
   "outputs": [
    {
     "data": {
      "text/html": [
       "<div>\n",
       "<style scoped>\n",
       "    .dataframe tbody tr th:only-of-type {\n",
       "        vertical-align: middle;\n",
       "    }\n",
       "\n",
       "    .dataframe tbody tr th {\n",
       "        vertical-align: top;\n",
       "    }\n",
       "\n",
       "    .dataframe thead th {\n",
       "        text-align: right;\n",
       "    }\n",
       "</style>\n",
       "<table border=\"1\" class=\"dataframe\">\n",
       "  <thead>\n",
       "    <tr style=\"text-align: right;\">\n",
       "      <th></th>\n",
       "      <th>Survived</th>\n",
       "    </tr>\n",
       "  </thead>\n",
       "  <tbody>\n",
       "    <tr>\n",
       "      <th>0</th>\n",
       "      <td>0</td>\n",
       "    </tr>\n",
       "    <tr>\n",
       "      <th>1</th>\n",
       "      <td>0</td>\n",
       "    </tr>\n",
       "    <tr>\n",
       "      <th>2</th>\n",
       "      <td>0</td>\n",
       "    </tr>\n",
       "    <tr>\n",
       "      <th>3</th>\n",
       "      <td>0</td>\n",
       "    </tr>\n",
       "    <tr>\n",
       "      <th>4</th>\n",
       "      <td>0</td>\n",
       "    </tr>\n",
       "    <tr>\n",
       "      <th>...</th>\n",
       "      <td>...</td>\n",
       "    </tr>\n",
       "    <tr>\n",
       "      <th>24933</th>\n",
       "      <td>1</td>\n",
       "    </tr>\n",
       "    <tr>\n",
       "      <th>24934</th>\n",
       "      <td>1</td>\n",
       "    </tr>\n",
       "    <tr>\n",
       "      <th>24935</th>\n",
       "      <td>1</td>\n",
       "    </tr>\n",
       "    <tr>\n",
       "      <th>24936</th>\n",
       "      <td>1</td>\n",
       "    </tr>\n",
       "    <tr>\n",
       "      <th>24937</th>\n",
       "      <td>1</td>\n",
       "    </tr>\n",
       "  </tbody>\n",
       "</table>\n",
       "<p>24938 rows × 1 columns</p>\n",
       "</div>"
      ],
      "text/plain": [
       "       Survived\n",
       "0             0\n",
       "1             0\n",
       "2             0\n",
       "3             0\n",
       "4             0\n",
       "...         ...\n",
       "24933         1\n",
       "24934         1\n",
       "24935         1\n",
       "24936         1\n",
       "24937         1\n",
       "\n",
       "[24938 rows x 1 columns]"
      ]
     },
     "execution_count": 177,
     "metadata": {},
     "output_type": "execute_result"
    }
   ],
   "source": [
    "pred_test"
   ]
  },
  {
   "cell_type": "code",
   "execution_count": null,
   "metadata": {},
   "outputs": [],
   "source": []
  },
  {
   "cell_type": "code",
   "execution_count": null,
   "metadata": {},
   "outputs": [],
   "source": []
  },
  {
   "cell_type": "code",
   "execution_count": null,
   "metadata": {},
   "outputs": [],
   "source": []
  },
  {
   "cell_type": "code",
   "execution_count": null,
   "metadata": {},
   "outputs": [],
   "source": []
  },
  {
   "cell_type": "code",
   "execution_count": null,
   "metadata": {},
   "outputs": [],
   "source": []
  },
  {
   "cell_type": "code",
   "execution_count": null,
   "metadata": {},
   "outputs": [],
   "source": []
  },
  {
   "cell_type": "code",
   "execution_count": 167,
   "metadata": {},
   "outputs": [
    {
     "name": "stdout",
     "output_type": "stream",
     "text": [
      "0.0001 - 0.571056219424172|0.017337931034482758 - 0.571056219424172|0.03457586206896552 - 0.779011949635095|0.051813793103448275 - 0.7786911540620739|0.06905172413793104 - 0.7786911540620739|0.0862896551724138 - 0.7786911540620739|0.10352758620689655 - 0.7786911540620739|0.12076551724137931 - 0.7786911540620739|0.13800344827586206 - 0.7792926457614885|0.15524137931034482 - 0.7786911540620739|0.17247931034482758 - 0.7786911540620739|0.18971724137931034 - 0.7788916512952121|0.20695517241379308 - 0.7792926457614885|0.22419310344827584 - 0.7788916512952121|0.2414310344827586 - 0.7788916512952121|0.2586689655172414 - 0.7788916512952121|0.2759068965517241 - 0.7788916512952121|0.29314482758620686 - 0.7788916512952121|0.31038275862068965 - 0.7788916512952121|0.3276206896551724 - 0.7788916512952121|0.34485862068965517 - 0.7788916512952121|0.3620965517241379 - 0.7788916512952121|0.3793344827586207 - 0.7788916512952121|0.39657241379310343 - 0.7788916512952121|0.41381034482758616 - 0.7788916512952121|0.43104827586206895 - 0.7788916512952121|0.4482862068965517 - 0.7788916512952121|0.4655241379310345 - 0.7788916512952121|0.4827620689655172 - 0.7788916512952121|0.5 - 0.7788916512952121|"
     ]
    }
   ],
   "source": [
    "scores = []\n",
    "params = []\n",
    "\n",
    "for n in np.linspace(0.0001, 0.5, 30):\n",
    "    \n",
    "    model = LGBMClassifier(\n",
    "                            n_estimators=10, \n",
    "                            learning_rate=n, \n",
    "                            metric='accuracy', \n",
    "                            max_depth=1, \n",
    "                            random_state = 42)\n",
    "    model.fit(pred_train, y_train, eval_metric='accuracy')\n",
    "    \n",
    "    score = accuracy_score(y_test, model.predict(pred_test))\n",
    "    scores.append(score)\n",
    "    params.append(n)\n",
    "    print(n, '-', score, end='|')"
   ]
  },
  {
   "cell_type": "code",
   "execution_count": 168,
   "metadata": {},
   "outputs": [
    {
     "data": {
      "image/png": "[encoded data removed]",
      "text/plain": [
       "<Figure size 1080x576 with 1 Axes>"
      ]
     },
     "metadata": {
      "needs_background": "light"
     },
     "output_type": "display_data"
    }
   ],
   "source": [
    "plt.figure(figsize=(15, 8))\n",
    "plt.plot(np.linspace(0.0001, 0.5, 30), scores, color='b', marker='*')\n",
    "plt.show()"
   ]
  },
  {
   "cell_type": "code",
   "execution_count": 169,
   "metadata": {},
   "outputs": [
    {
     "data": {
      "text/plain": [
       "(0.7792926457614885, 8)"
      ]
     },
     "execution_count": 169,
     "metadata": {},
     "output_type": "execute_result"
    }
   ],
   "source": [
    "max(scores), np.argmax(scores)"
   ]
  },
  {
   "cell_type": "markdown",
   "metadata": {},
   "source": [
    "### -----------------------------------------------------"
   ]
  }
 ],
 "metadata": {
  "environment": {
   "name": "common-cpu.m65",
   "type": "gcloud",
   "uri": "gcr.io/deeplearning-platform-release/base-cpu:m65"
  },
  "kernelspec": {
   "display_name": "Python 3",
   "language": "python",
   "name": "python3"
  },
  "language_info": {
   "codemirror_mode": {
    "name": "ipython",
    "version": 3
   },
   "file_extension": ".py",
   "mimetype": "text/x-python",
   "name": "python",
   "nbconvert_exporter": "python",
   "pygments_lexer": "ipython3",
   "version": "3.7.3"
  }
 },
 "nbformat": 4,
 "nbformat_minor": 4
}
