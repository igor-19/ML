{
 "cells": [
  {
   "cell_type": "markdown",
   "metadata": {},
   "source": [
    "### https://www.kaggle.com/c/tabular-playground-series-apr-2021"
   ]
  },
  {
   "cell_type": "code",
   "execution_count": 2,
   "metadata": {},
   "outputs": [],
   "source": [
    "import warnings\n",
    "warnings.filterwarnings('ignore')"
   ]
  },
  {
   "cell_type": "code",
   "execution_count": 3,
   "metadata": {},
   "outputs": [],
   "source": [
    "import time\n",
    "\n",
    "import numpy as np\n",
    "import pandas as pd\n",
    "import matplotlib\n",
    "import seaborn as sns\n",
    "import matplotlib.pyplot as plt\n",
    "\n",
    "%matplotlib inline"
   ]
  },
  {
   "cell_type": "code",
   "execution_count": 4,
   "metadata": {},
   "outputs": [],
   "source": [
    "ds = pd.read_csv('train.csv', delimiter=',')"
   ]
  },
  {
   "cell_type": "markdown",
   "metadata": {},
   "source": [
    "### Filling missing values"
   ]
  },
  {
   "cell_type": "code",
   "execution_count": 7,
   "metadata": {},
   "outputs": [],
   "source": [
    "columns_cat = ['Pclass', 'Sex', 'SibSp', 'Parch', 'Embarked']\n",
    "columns_numeric = ['Age', 'Fare']\n",
    "target = ['Survived']"
   ]
  },
  {
   "cell_type": "code",
   "execution_count": 8,
   "metadata": {},
   "outputs": [],
   "source": [
    "def filling_missing_values_mean(data, column):\n",
    "    \n",
    "    data[column][data.Survived == 0] = data[column].fillna(data[column][data.Survived == 0].mean())\n",
    "    data[column][data.Survived == 1] = data[column].fillna(data[column][data.Survived == 1].mean())\n",
    "    \n",
    "    return data"
   ]
  },
  {
   "cell_type": "code",
   "execution_count": 9,
   "metadata": {},
   "outputs": [],
   "source": [
    "ds = filling_missing_values_mean(ds, 'Age')"
   ]
  },
  {
   "cell_type": "code",
   "execution_count": 10,
   "metadata": {},
   "outputs": [],
   "source": [
    "ds = filling_missing_values_mean(ds, 'Fare')"
   ]
  },
  {
   "cell_type": "code",
   "execution_count": 11,
   "metadata": {},
   "outputs": [],
   "source": [
    "ds = ds[columns_cat + columns_numeric + target]\n",
    "ds.dropna(axis=0, inplace=True)"
   ]
  },
  {
   "cell_type": "code",
   "execution_count": 12,
   "metadata": {},
   "outputs": [
    {
     "data": {
      "text/plain": [
       "Index(['Pclass', 'Sex', 'SibSp', 'Parch', 'Embarked', 'Age', 'Fare',\n",
       "       'Survived'],\n",
       "      dtype='object')"
      ]
     },
     "execution_count": 12,
     "metadata": {},
     "output_type": "execute_result"
    }
   ],
   "source": [
    "ds.columns"
   ]
  },
  {
   "cell_type": "code",
   "execution_count": 13,
   "metadata": {},
   "outputs": [
    {
     "data": {
      "text/plain": [
       "Pclass      0\n",
       "Sex         0\n",
       "SibSp       0\n",
       "Parch       0\n",
       "Embarked    0\n",
       "Age         0\n",
       "Fare        0\n",
       "Survived    0\n",
       "dtype: int64"
      ]
     },
     "execution_count": 13,
     "metadata": {},
     "output_type": "execute_result"
    }
   ],
   "source": [
    "ds.isnull().sum()"
   ]
  },
  {
   "cell_type": "code",
   "execution_count": 14,
   "metadata": {},
   "outputs": [
    {
     "data": {
      "text/plain": [
       "(99750, 8)"
      ]
     },
     "execution_count": 14,
     "metadata": {},
     "output_type": "execute_result"
    }
   ],
   "source": [
    "ds.shape"
   ]
  },
  {
   "cell_type": "code",
   "execution_count": 15,
   "metadata": {},
   "outputs": [],
   "source": [
    "X = ds.drop('Survived', axis=1)\n",
    "y = ds.Survived"
   ]
  },
  {
   "cell_type": "code",
   "execution_count": 16,
   "metadata": {},
   "outputs": [
    {
     "data": {
      "text/plain": [
       "((99750, 7), (99750,))"
      ]
     },
     "execution_count": 16,
     "metadata": {},
     "output_type": "execute_result"
    }
   ],
   "source": [
    "X.shape, y.shape"
   ]
  },
  {
   "cell_type": "markdown",
   "metadata": {},
   "source": [
    "### Scaler"
   ]
  },
  {
   "cell_type": "code",
   "execution_count": 17,
   "metadata": {},
   "outputs": [],
   "source": [
    "from sklearn.preprocessing import StandardScaler"
   ]
  },
  {
   "cell_type": "code",
   "execution_count": 18,
   "metadata": {},
   "outputs": [],
   "source": [
    "scaler = StandardScaler()"
   ]
  },
  {
   "cell_type": "code",
   "execution_count": 19,
   "metadata": {},
   "outputs": [
    {
     "data": {
      "text/plain": [
       "StandardScaler()"
      ]
     },
     "execution_count": 19,
     "metadata": {},
     "output_type": "execute_result"
    }
   ],
   "source": [
    "scaler.fit(X[columns_numeric])"
   ]
  },
  {
   "cell_type": "code",
   "execution_count": 20,
   "metadata": {},
   "outputs": [],
   "source": [
    "X_scaled = X.copy(deep=True)"
   ]
  },
  {
   "cell_type": "code",
   "execution_count": 21,
   "metadata": {},
   "outputs": [],
   "source": [
    "X_scaled[columns_numeric] = scaler.transform(X[columns_numeric])"
   ]
  },
  {
   "cell_type": "code",
   "execution_count": 22,
   "metadata": {},
   "outputs": [],
   "source": [
    "X_scaled = pd.get_dummies(X_scaled, columns=columns_cat, drop_first=True, prefix_sep='_')"
   ]
  },
  {
   "cell_type": "code",
   "execution_count": 24,
   "metadata": {},
   "outputs": [
    {
     "data": {
      "text/html": [
       "<div>\n",
       "<style scoped>\n",
       "    .dataframe tbody tr th:only-of-type {\n",
       "        vertical-align: middle;\n",
       "    }\n",
       "\n",
       "    .dataframe tbody tr th {\n",
       "        vertical-align: top;\n",
       "    }\n",
       "\n",
       "    .dataframe thead th {\n",
       "        text-align: right;\n",
       "    }\n",
       "</style>\n",
       "<table border=\"1\" class=\"dataframe\">\n",
       "  <thead>\n",
       "    <tr style=\"text-align: right;\">\n",
       "      <th></th>\n",
       "      <th>Age</th>\n",
       "      <th>Fare</th>\n",
       "      <th>Pclass_2</th>\n",
       "      <th>Pclass_3</th>\n",
       "      <th>Sex_male</th>\n",
       "      <th>SibSp_1</th>\n",
       "      <th>SibSp_2</th>\n",
       "      <th>SibSp_3</th>\n",
       "      <th>SibSp_4</th>\n",
       "      <th>SibSp_5</th>\n",
       "      <th>SibSp_8</th>\n",
       "      <th>Parch_1</th>\n",
       "      <th>Parch_2</th>\n",
       "      <th>Parch_3</th>\n",
       "      <th>Parch_4</th>\n",
       "      <th>Parch_5</th>\n",
       "      <th>Parch_6</th>\n",
       "      <th>Parch_9</th>\n",
       "      <th>Embarked_Q</th>\n",
       "      <th>Embarked_S</th>\n",
       "    </tr>\n",
       "  </thead>\n",
       "  <tbody>\n",
       "    <tr>\n",
       "      <th>0</th>\n",
       "      <td>0.122304</td>\n",
       "      <td>-0.241261</td>\n",
       "      <td>0</td>\n",
       "      <td>0</td>\n",
       "      <td>1</td>\n",
       "      <td>0</td>\n",
       "      <td>1</td>\n",
       "      <td>0</td>\n",
       "      <td>0</td>\n",
       "      <td>0</td>\n",
       "      <td>0</td>\n",
       "      <td>0</td>\n",
       "      <td>0</td>\n",
       "      <td>0</td>\n",
       "      <td>0</td>\n",
       "      <td>0</td>\n",
       "      <td>0</td>\n",
       "      <td>0</td>\n",
       "      <td>0</td>\n",
       "      <td>1</td>\n",
       "    </tr>\n",
       "    <tr>\n",
       "      <th>1</th>\n",
       "      <td>-0.091159</td>\n",
       "      <td>-0.439601</td>\n",
       "      <td>0</td>\n",
       "      <td>1</td>\n",
       "      <td>1</td>\n",
       "      <td>0</td>\n",
       "      <td>0</td>\n",
       "      <td>0</td>\n",
       "      <td>0</td>\n",
       "      <td>0</td>\n",
       "      <td>0</td>\n",
       "      <td>0</td>\n",
       "      <td>0</td>\n",
       "      <td>0</td>\n",
       "      <td>0</td>\n",
       "      <td>0</td>\n",
       "      <td>0</td>\n",
       "      <td>0</td>\n",
       "      <td>0</td>\n",
       "      <td>1</td>\n",
       "    </tr>\n",
       "    <tr>\n",
       "      <th>2</th>\n",
       "      <td>-2.110749</td>\n",
       "      <td>0.393743</td>\n",
       "      <td>0</td>\n",
       "      <td>1</td>\n",
       "      <td>1</td>\n",
       "      <td>1</td>\n",
       "      <td>0</td>\n",
       "      <td>0</td>\n",
       "      <td>0</td>\n",
       "      <td>0</td>\n",
       "      <td>0</td>\n",
       "      <td>0</td>\n",
       "      <td>1</td>\n",
       "      <td>0</td>\n",
       "      <td>0</td>\n",
       "      <td>0</td>\n",
       "      <td>0</td>\n",
       "      <td>0</td>\n",
       "      <td>0</td>\n",
       "      <td>1</td>\n",
       "    </tr>\n",
       "  </tbody>\n",
       "</table>\n",
       "</div>"
      ],
      "text/plain": [
       "        Age      Fare  Pclass_2  Pclass_3  Sex_male  SibSp_1  SibSp_2  \\\n",
       "0  0.122304 -0.241261         0         0         1        0        1   \n",
       "1 -0.091159 -0.439601         0         1         1        0        0   \n",
       "2 -2.110749  0.393743         0         1         1        1        0   \n",
       "\n",
       "   SibSp_3  SibSp_4  SibSp_5  SibSp_8  Parch_1  Parch_2  Parch_3  Parch_4  \\\n",
       "0        0        0        0        0        0        0        0        0   \n",
       "1        0        0        0        0        0        0        0        0   \n",
       "2        0        0        0        0        0        1        0        0   \n",
       "\n",
       "   Parch_5  Parch_6  Parch_9  Embarked_Q  Embarked_S  \n",
       "0        0        0        0           0           1  \n",
       "1        0        0        0           0           1  \n",
       "2        0        0        0           0           1  "
      ]
     },
     "execution_count": 24,
     "metadata": {},
     "output_type": "execute_result"
    }
   ],
   "source": [
    "X_scaled.head(3)"
   ]
  },
  {
   "cell_type": "markdown",
   "metadata": {},
   "source": [
    "### train test"
   ]
  },
  {
   "cell_type": "code",
   "execution_count": 29,
   "metadata": {},
   "outputs": [],
   "source": [
    "from sklearn.model_selection import train_test_split"
   ]
  },
  {
   "cell_type": "code",
   "execution_count": 31,
   "metadata": {},
   "outputs": [],
   "source": [
    "X_train, X_test, y_train, y_test = train_test_split(X_scaled, y, test_size=0.25, random_state=42)"
   ]
  },
  {
   "cell_type": "code",
   "execution_count": 36,
   "metadata": {},
   "outputs": [
    {
     "data": {
      "image/png": "[encoded data removed]",
      "text/plain": [
       "<Figure size 360x72 with 2 Axes>"
      ]
     },
     "metadata": {
      "needs_background": "light"
     },
     "output_type": "display_data"
    }
   ],
   "source": [
    "plt.figure(figsize=(5, 1))\n",
    "plt.subplot(121)\n",
    "sns.countplot(y_train);\n",
    "plt.subplot(122)\n",
    "sns.countplot(y_test);"
   ]
  },
  {
   "cell_type": "markdown",
   "metadata": {},
   "source": [
    "### models"
   ]
  },
  {
   "cell_type": "code",
   "execution_count": 41,
   "metadata": {},
   "outputs": [],
   "source": [
    "from sklearn.metrics import accuracy_score"
   ]
  },
  {
   "cell_type": "code",
   "execution_count": 68,
   "metadata": {},
   "outputs": [],
   "source": [
    "from sklearn.linear_model import LogisticRegressionCV, PassiveAggressiveClassifier, Perceptron\n",
    "from sklearn.linear_model import RidgeClassifierCV, SGDClassifier\n",
    "\n",
    "from sklearn.naive_bayes import GaussianNB\n",
    "from sklearn.svm import LinearSVC, NuSVC, SVC\n",
    "\n",
    "from sklearn.tree import DecisionTreeClassifier, ExtraTreeClassifier\n",
    "\n",
    "from sklearn.ensemble import AdaBoostClassifier, BaggingClassifier, ExtraTreesClassifier\n",
    "from sklearn.ensemble import GradientBoostingClassifier\n",
    "from sklearn.ensemble import RandomForestClassifier, VotingClassifier\n",
    "\n",
    "from lightgbm import LGBMClassifier\n",
    "from xgboost import XGBClassifier"
   ]
  },
  {
   "cell_type": "code",
   "execution_count": 55,
   "metadata": {},
   "outputs": [],
   "source": [
    "models = {'log_reg': LogisticRegressionCV(cv=3, scoring='accuracy', n_jobs=-1, random_state=42),\n",
    "         'PassiveAgg': PassiveAggressiveClassifier(n_jobs=-1, random_state=42),\n",
    "         'Perceptron': Perceptron(n_jobs=-1, random_state=42),\n",
    "         'RidgeClass': RidgeClassifierCV(cv=3, scoring='accuracy'),\n",
    "         'SGDClass': SGDClassifier(n_jobs=-1, random_state=42)}"
   ]
  },
  {
   "cell_type": "code",
   "execution_count": 56,
   "metadata": {},
   "outputs": [],
   "source": [
    "scores = pd.DataFrame(columns=['model', 'accuracy'])"
   ]
  },
  {
   "cell_type": "code",
   "execution_count": 65,
   "metadata": {},
   "outputs": [
    {
     "name": "stdout",
     "output_type": "stream",
     "text": [
      "14:08:27|14:08:34|14:08:34|14:08:34|14:08:34|14:08:34|14:08:34|14:08:35|14:08:35|14:08:35|"
     ]
    }
   ],
   "source": [
    "for name_model, model in models.items():\n",
    "    \n",
    "    print(time.strftime('%X'), end='|')\n",
    "    \n",
    "    model.fit(X_train, y_train)\n",
    "    y_pred = model.predict(X_test)\n",
    "    \n",
    "    score = accuracy_score(y_test, y_pred)\n",
    "    df_temp = pd.DataFrame([[name_model, score]], columns=['model', 'accuracy'])  \n",
    "    scores = scores.append(df_temp)\n",
    "    \n",
    "    print(time.strftime('%X'), end='|')"
   ]
  },
  {
   "cell_type": "code",
   "execution_count": 66,
   "metadata": {},
   "outputs": [
    {
     "data": {
      "text/html": [
       "<div>\n",
       "<style scoped>\n",
       "    .dataframe tbody tr th:only-of-type {\n",
       "        vertical-align: middle;\n",
       "    }\n",
       "\n",
       "    .dataframe tbody tr th {\n",
       "        vertical-align: top;\n",
       "    }\n",
       "\n",
       "    .dataframe thead th {\n",
       "        text-align: right;\n",
       "    }\n",
       "</style>\n",
       "<table border=\"1\" class=\"dataframe\">\n",
       "  <thead>\n",
       "    <tr style=\"text-align: right;\">\n",
       "      <th></th>\n",
       "      <th>model</th>\n",
       "      <th>accuracy</th>\n",
       "    </tr>\n",
       "  </thead>\n",
       "  <tbody>\n",
       "    <tr>\n",
       "      <th>0</th>\n",
       "      <td>log_reg</td>\n",
       "      <td>0.764977</td>\n",
       "    </tr>\n",
       "    <tr>\n",
       "      <th>0</th>\n",
       "      <td>PassiveAgg</td>\n",
       "      <td>0.727404</td>\n",
       "    </tr>\n",
       "    <tr>\n",
       "      <th>0</th>\n",
       "      <td>Perceptron</td>\n",
       "      <td>0.706111</td>\n",
       "    </tr>\n",
       "    <tr>\n",
       "      <th>0</th>\n",
       "      <td>RidgeClass</td>\n",
       "      <td>0.764376</td>\n",
       "    </tr>\n",
       "    <tr>\n",
       "      <th>0</th>\n",
       "      <td>SGDClass</td>\n",
       "      <td>0.757198</td>\n",
       "    </tr>\n",
       "  </tbody>\n",
       "</table>\n",
       "</div>"
      ],
      "text/plain": [
       "        model  accuracy\n",
       "0     log_reg  0.764977\n",
       "0  PassiveAgg  0.727404\n",
       "0  Perceptron  0.706111\n",
       "0  RidgeClass  0.764376\n",
       "0    SGDClass  0.757198"
      ]
     },
     "execution_count": 66,
     "metadata": {},
     "output_type": "execute_result"
    }
   ],
   "source": [
    "scores"
   ]
  },
  {
   "cell_type": "code",
   "execution_count": 69,
   "metadata": {},
   "outputs": [],
   "source": [
    "model_b = {'GaussianNB': GaussianNB(),\n",
    "           'LinearSVC': LinearSVC(random_state=42),\n",
    "           'NuSVC': NuSVC(random_state=42),\n",
    "           'SVC': SVC(random_state=42),\n",
    "           'DecisionTreeClassifier': DecisionTreeClassifier(random_state=42),\n",
    "           'ExtraTreeClassifier': ExtraTreeClassifier(random_state=42)\n",
    "          }"
   ]
  },
  {
   "cell_type": "code",
   "execution_count": 72,
   "metadata": {},
   "outputs": [
    {
     "name": "stdout",
     "output_type": "stream",
     "text": [
      "14:25:52|14:25:52|14:25:52|14:26:07|14:26:07|14:39:17|14:39:17|15:04:14|15:04:14|15:04:14|15:04:14|15:04:14|"
     ]
    }
   ],
   "source": [
    "for name_model, model in model_b.items():\n",
    "    \n",
    "    print(name_model, time.strftime('%X'), end='|')\n",
    "    \n",
    "    model.fit(X_train, y_train)\n",
    "    y_pred = model.predict(X_test)\n",
    "    \n",
    "    score = accuracy_score(y_test, y_pred)\n",
    "    df_temp = pd.DataFrame([[name_model, score]], columns=['model', 'accuracy'])  \n",
    "    scores = scores.append(df_temp)\n",
    "    \n",
    "    print(score, time.strftime('%X'))"
   ]
  },
  {
   "cell_type": "code",
   "execution_count": 73,
   "metadata": {},
   "outputs": [
    {
     "data": {
      "text/html": [
       "<div>\n",
       "<style scoped>\n",
       "    .dataframe tbody tr th:only-of-type {\n",
       "        vertical-align: middle;\n",
       "    }\n",
       "\n",
       "    .dataframe tbody tr th {\n",
       "        vertical-align: top;\n",
       "    }\n",
       "\n",
       "    .dataframe thead th {\n",
       "        text-align: right;\n",
       "    }\n",
       "</style>\n",
       "<table border=\"1\" class=\"dataframe\">\n",
       "  <thead>\n",
       "    <tr style=\"text-align: right;\">\n",
       "      <th></th>\n",
       "      <th>model</th>\n",
       "      <th>accuracy</th>\n",
       "    </tr>\n",
       "  </thead>\n",
       "  <tbody>\n",
       "    <tr>\n",
       "      <th>0</th>\n",
       "      <td>log_reg</td>\n",
       "      <td>0.764977</td>\n",
       "    </tr>\n",
       "    <tr>\n",
       "      <th>0</th>\n",
       "      <td>PassiveAgg</td>\n",
       "      <td>0.727404</td>\n",
       "    </tr>\n",
       "    <tr>\n",
       "      <th>0</th>\n",
       "      <td>Perceptron</td>\n",
       "      <td>0.706111</td>\n",
       "    </tr>\n",
       "    <tr>\n",
       "      <th>0</th>\n",
       "      <td>RidgeClass</td>\n",
       "      <td>0.764376</td>\n",
       "    </tr>\n",
       "    <tr>\n",
       "      <th>0</th>\n",
       "      <td>SGDClass</td>\n",
       "      <td>0.757198</td>\n",
       "    </tr>\n",
       "    <tr>\n",
       "      <th>0</th>\n",
       "      <td>log_reg</td>\n",
       "      <td>0.764977</td>\n",
       "    </tr>\n",
       "    <tr>\n",
       "      <th>0</th>\n",
       "      <td>PassiveAgg</td>\n",
       "      <td>0.727404</td>\n",
       "    </tr>\n",
       "    <tr>\n",
       "      <th>0</th>\n",
       "      <td>Perceptron</td>\n",
       "      <td>0.706111</td>\n",
       "    </tr>\n",
       "    <tr>\n",
       "      <th>0</th>\n",
       "      <td>RidgeClass</td>\n",
       "      <td>0.764376</td>\n",
       "    </tr>\n",
       "    <tr>\n",
       "      <th>0</th>\n",
       "      <td>SGDClass</td>\n",
       "      <td>0.757198</td>\n",
       "    </tr>\n",
       "    <tr>\n",
       "      <th>0</th>\n",
       "      <td>GaussianNB</td>\n",
       "      <td>0.740356</td>\n",
       "    </tr>\n",
       "    <tr>\n",
       "      <th>0</th>\n",
       "      <td>LinearSVC</td>\n",
       "      <td>0.764897</td>\n",
       "    </tr>\n",
       "    <tr>\n",
       "      <th>0</th>\n",
       "      <td>NuSVC</td>\n",
       "      <td>0.763734</td>\n",
       "    </tr>\n",
       "    <tr>\n",
       "      <th>0</th>\n",
       "      <td>SVC</td>\n",
       "      <td>0.766461</td>\n",
       "    </tr>\n",
       "    <tr>\n",
       "      <th>0</th>\n",
       "      <td>DecisionTreeClassifier</td>\n",
       "      <td>0.690954</td>\n",
       "    </tr>\n",
       "    <tr>\n",
       "      <th>0</th>\n",
       "      <td>ExtraTreeClassifier</td>\n",
       "      <td>0.693801</td>\n",
       "    </tr>\n",
       "  </tbody>\n",
       "</table>\n",
       "</div>"
      ],
      "text/plain": [
       "                    model  accuracy\n",
       "0                 log_reg  0.764977\n",
       "0              PassiveAgg  0.727404\n",
       "0              Perceptron  0.706111\n",
       "0              RidgeClass  0.764376\n",
       "0                SGDClass  0.757198\n",
       "0                 log_reg  0.764977\n",
       "0              PassiveAgg  0.727404\n",
       "0              Perceptron  0.706111\n",
       "0              RidgeClass  0.764376\n",
       "0                SGDClass  0.757198\n",
       "0              GaussianNB  0.740356\n",
       "0               LinearSVC  0.764897\n",
       "0                   NuSVC  0.763734\n",
       "0                     SVC  0.766461\n",
       "0  DecisionTreeClassifier  0.690954\n",
       "0     ExtraTreeClassifier  0.693801"
      ]
     },
     "execution_count": 73,
     "metadata": {},
     "output_type": "execute_result"
    }
   ],
   "source": [
    "scores"
   ]
  },
  {
   "cell_type": "code",
   "execution_count": 216,
   "metadata": {},
   "outputs": [],
   "source": [
    "model_c = {'AdaBoostClassifier': AdaBoostClassifier(base_estimator=DecisionTreeClassifier(max_depth=7, random_state=42), \n",
    "                                                    random_state=42), \n",
    "           'BaggingClassifier': BaggingClassifier(base_estimator=DecisionTreeClassifier(max_depth=7, random_state=42), \n",
    "                                                  n_estimators=100, n_jobs=-1, random_state=42), \n",
    "           'ExtraTreesClassifier': ExtraTreesClassifier(n_jobs=-1, random_state=42),\n",
    "           'GradientBoostingClassifier': GradientBoostingClassifier(random_state=42),\n",
    "           'RandomForestClassifier': RandomForestClassifier(n_jobs=-1, random_state=42),\n",
    "           'LGBMClassifier': LGBMClassifier(metric='accuracy', random_state = 42),\n",
    "           'XGBClassifier': XGBClassifier()\n",
    "          }"
   ]
  },
  {
   "cell_type": "code",
   "execution_count": 217,
   "metadata": {},
   "outputs": [
    {
     "name": "stdout",
     "output_type": "stream",
     "text": [
      "AdaBoostClassifier 23:34:41|0.7594835191274361 23:34:51\n",
      "BaggingClassifier 23:34:51|0.7708316625230572 23:35:02\n",
      "ExtraTreesClassifier 23:35:02|0.7134092549522817 23:35:06\n",
      "GradientBoostingClassifier 23:35:06|0.7752426016520972 23:35:14\n",
      "RandomForestClassifier 23:35:14|0.7288475419039218 23:35:18\n",
      "LGBMClassifier 23:35:18|0.7784505573823082 23:35:19\n",
      "XGBClassifier 23:35:19|0.7773277728767343 23:35:22\n"
     ]
    }
   ],
   "source": [
    "for name_model, model in model_c.items():\n",
    "    \n",
    "    print(name_model, time.strftime('%X'), end='|')\n",
    "    \n",
    "    model.fit(X_train, y_train)\n",
    "    y_pred = model.predict(X_test)\n",
    "    \n",
    "    score = accuracy_score(y_test, y_pred)\n",
    "#     df_temp = pd.DataFrame([[name_model, score]], columns=['model', 'accuracy'])  \n",
    "    #scores = scores.append(df_temp)\n",
    "    \n",
    "    print(score, time.strftime('%X'))"
   ]
  },
  {
   "cell_type": "code",
   "execution_count": 77,
   "metadata": {},
   "outputs": [
    {
     "data": {
      "text/html": [
       "<div>\n",
       "<style scoped>\n",
       "    .dataframe tbody tr th:only-of-type {\n",
       "        vertical-align: middle;\n",
       "    }\n",
       "\n",
       "    .dataframe tbody tr th {\n",
       "        vertical-align: top;\n",
       "    }\n",
       "\n",
       "    .dataframe thead th {\n",
       "        text-align: right;\n",
       "    }\n",
       "</style>\n",
       "<table border=\"1\" class=\"dataframe\">\n",
       "  <thead>\n",
       "    <tr style=\"text-align: right;\">\n",
       "      <th></th>\n",
       "      <th>model</th>\n",
       "      <th>accuracy</th>\n",
       "    </tr>\n",
       "  </thead>\n",
       "  <tbody>\n",
       "    <tr>\n",
       "      <th>0</th>\n",
       "      <td>log_reg</td>\n",
       "      <td>0.764977</td>\n",
       "    </tr>\n",
       "    <tr>\n",
       "      <th>0</th>\n",
       "      <td>PassiveAgg</td>\n",
       "      <td>0.727404</td>\n",
       "    </tr>\n",
       "    <tr>\n",
       "      <th>0</th>\n",
       "      <td>Perceptron</td>\n",
       "      <td>0.706111</td>\n",
       "    </tr>\n",
       "    <tr>\n",
       "      <th>0</th>\n",
       "      <td>RidgeClass</td>\n",
       "      <td>0.764376</td>\n",
       "    </tr>\n",
       "    <tr>\n",
       "      <th>0</th>\n",
       "      <td>SGDClass</td>\n",
       "      <td>0.757198</td>\n",
       "    </tr>\n",
       "    <tr>\n",
       "      <th>0</th>\n",
       "      <td>log_reg</td>\n",
       "      <td>0.764977</td>\n",
       "    </tr>\n",
       "    <tr>\n",
       "      <th>0</th>\n",
       "      <td>PassiveAgg</td>\n",
       "      <td>0.727404</td>\n",
       "    </tr>\n",
       "    <tr>\n",
       "      <th>0</th>\n",
       "      <td>Perceptron</td>\n",
       "      <td>0.706111</td>\n",
       "    </tr>\n",
       "    <tr>\n",
       "      <th>0</th>\n",
       "      <td>RidgeClass</td>\n",
       "      <td>0.764376</td>\n",
       "    </tr>\n",
       "    <tr>\n",
       "      <th>0</th>\n",
       "      <td>SGDClass</td>\n",
       "      <td>0.757198</td>\n",
       "    </tr>\n",
       "    <tr>\n",
       "      <th>0</th>\n",
       "      <td>GaussianNB</td>\n",
       "      <td>0.740356</td>\n",
       "    </tr>\n",
       "    <tr>\n",
       "      <th>0</th>\n",
       "      <td>LinearSVC</td>\n",
       "      <td>0.764897</td>\n",
       "    </tr>\n",
       "    <tr>\n",
       "      <th>0</th>\n",
       "      <td>NuSVC</td>\n",
       "      <td>0.763734</td>\n",
       "    </tr>\n",
       "    <tr>\n",
       "      <th>0</th>\n",
       "      <td>SVC</td>\n",
       "      <td>0.766461</td>\n",
       "    </tr>\n",
       "    <tr>\n",
       "      <th>0</th>\n",
       "      <td>DecisionTreeClassifier</td>\n",
       "      <td>0.690954</td>\n",
       "    </tr>\n",
       "    <tr>\n",
       "      <th>0</th>\n",
       "      <td>ExtraTreeClassifier</td>\n",
       "      <td>0.693801</td>\n",
       "    </tr>\n",
       "    <tr>\n",
       "      <th>0</th>\n",
       "      <td>AdaBoostClassifier</td>\n",
       "      <td>0.773879</td>\n",
       "    </tr>\n",
       "    <tr>\n",
       "      <th>0</th>\n",
       "      <td>BaggingClassifier</td>\n",
       "      <td>0.761368</td>\n",
       "    </tr>\n",
       "    <tr>\n",
       "      <th>0</th>\n",
       "      <td>ExtraTreesClassifier</td>\n",
       "      <td>0.713409</td>\n",
       "    </tr>\n",
       "    <tr>\n",
       "      <th>0</th>\n",
       "      <td>GradientBoostingClassifier</td>\n",
       "      <td>0.775243</td>\n",
       "    </tr>\n",
       "    <tr>\n",
       "      <th>0</th>\n",
       "      <td>RandomForestClassifier</td>\n",
       "      <td>0.728848</td>\n",
       "    </tr>\n",
       "    <tr>\n",
       "      <th>0</th>\n",
       "      <td>LGBMClassifier</td>\n",
       "      <td>0.778451</td>\n",
       "    </tr>\n",
       "    <tr>\n",
       "      <th>0</th>\n",
       "      <td>XGBClassifier</td>\n",
       "      <td>0.777328</td>\n",
       "    </tr>\n",
       "  </tbody>\n",
       "</table>\n",
       "</div>"
      ],
      "text/plain": [
       "                        model  accuracy\n",
       "0                     log_reg  0.764977\n",
       "0                  PassiveAgg  0.727404\n",
       "0                  Perceptron  0.706111\n",
       "0                  RidgeClass  0.764376\n",
       "0                    SGDClass  0.757198\n",
       "0                     log_reg  0.764977\n",
       "0                  PassiveAgg  0.727404\n",
       "0                  Perceptron  0.706111\n",
       "0                  RidgeClass  0.764376\n",
       "0                    SGDClass  0.757198\n",
       "0                  GaussianNB  0.740356\n",
       "0                   LinearSVC  0.764897\n",
       "0                       NuSVC  0.763734\n",
       "0                         SVC  0.766461\n",
       "0      DecisionTreeClassifier  0.690954\n",
       "0         ExtraTreeClassifier  0.693801\n",
       "0          AdaBoostClassifier  0.773879\n",
       "0           BaggingClassifier  0.761368\n",
       "0        ExtraTreesClassifier  0.713409\n",
       "0  GradientBoostingClassifier  0.775243\n",
       "0      RandomForestClassifier  0.728848\n",
       "0              LGBMClassifier  0.778451\n",
       "0               XGBClassifier  0.777328"
      ]
     },
     "execution_count": 77,
     "metadata": {},
     "output_type": "execute_result"
    }
   ],
   "source": [
    "scores"
   ]
  },
  {
   "cell_type": "code",
   "execution_count": 78,
   "metadata": {},
   "outputs": [],
   "source": [
    "scores.to_csv('scores.csv')"
   ]
  },
  {
   "cell_type": "code",
   "execution_count": 84,
   "metadata": {},
   "outputs": [
    {
     "name": "stdout",
     "output_type": "stream",
     "text": [
      "AdaBoostClassifier 15:16:18|0.7594835191274361 15:16:27\n",
      "BaggingClassifier 15:16:27|0.7708316625230572 15:16:33\n",
      "ExtraTreesClassifier 15:16:33|0.7134092549522817 15:16:36\n",
      "GradientBoostingClassifier 15:16:36|0.7752426016520972 15:16:45\n",
      "RandomForestClassifier 15:16:45|0.7288475419039218 15:16:48\n",
      "LGBMClassifier 15:16:48|0.7784505573823082 15:16:49\n",
      "XGBClassifier 15:16:49|0.7773277728767343 15:16:52\n"
     ]
    }
   ],
   "source": [
    "for name_model, model in model_c.items():\n",
    "    \n",
    "    print(name_model, time.strftime('%X'), end='|')\n",
    "    \n",
    "    model.fit(X_train, y_train)\n",
    "    y_pred = model.predict(X_test)\n",
    "    \n",
    "    score = accuracy_score(y_test, y_pred)\n",
    "#     df_temp = pd.DataFrame([[name_model, score]], columns=['model', 'accuracy'])  \n",
    "    #scores = scores.append(df_temp)\n",
    "    \n",
    "    print(score, time.strftime('%X'))"
   ]
  },
  {
   "cell_type": "code",
   "execution_count": 95,
   "metadata": {},
   "outputs": [
    {
     "name": "stdout",
     "output_type": "stream",
     "text": [
      "17:45:16-17:45:16|17:45:16-17:45:17|17:45:17-17:45:19|17:45:19-17:45:21|17:45:21-17:45:24|17:45:24-17:45:27|17:45:27-17:45:30|17:45:30-17:45:33|17:45:33-17:45:33|17:45:33-17:45:33|17:45:33-17:45:34|17:45:34-17:45:35|17:45:35-17:45:36|17:45:36-17:45:37|17:45:37-17:45:39|17:45:39-17:45:40|17:45:40-17:45:40|17:45:40-17:45:41|17:45:41-17:45:41|17:45:41-17:45:42|17:45:42-17:45:43|17:45:43-17:45:44|17:45:44-17:45:44|17:45:44-17:45:45|17:45:45-17:45:45|17:45:45-17:45:46|17:45:46-17:45:46|17:45:46-17:45:46|17:45:46-17:45:46|17:45:46-17:45:46|17:45:46-17:45:47|17:45:47-17:45:47|17:45:47-17:45:47|17:45:47-17:45:47|17:45:47-17:45:47|17:45:47-17:45:48|17:45:48-17:45:48|17:45:48-17:45:48|17:45:48-17:45:48|17:45:48-17:45:48|17:45:48-17:45:49|17:45:49-17:45:49|17:45:49-17:45:49|17:45:49-17:45:49|17:45:49-17:45:49|17:45:49-17:45:49|17:45:49-17:45:50|17:45:50-17:45:50|17:45:50-17:45:50|17:45:50-17:45:50|17:45:50-17:45:50|17:45:50-17:45:51|17:45:51-17:45:51|17:45:51-17:45:51|17:45:51-17:45:51|17:45:51-17:45:51|17:45:51-17:45:51|17:45:51-17:45:52|17:45:52-17:45:52|17:45:52-17:45:52|17:45:52-17:45:52|17:45:52-17:45:52|17:45:52-17:45:52|17:45:52-17:45:53|17:45:53-17:45:58|17:45:58-17:46:03|17:46:03-17:46:09|17:46:09-17:46:18|17:46:18-17:46:27|17:46:27-17:46:36|17:46:36-17:46:45|17:46:45-17:46:55|17:46:55-17:46:58|17:46:58-17:47:01|17:47:01-17:47:05|17:47:05-17:47:12|17:47:12-17:47:19|17:47:19-17:47:26|17:47:26-17:47:33|17:47:33-17:47:40|17:47:40-17:47:43|17:47:43-17:47:46|17:47:46-17:47:50|17:47:50-17:47:55|17:47:55-17:48:02|17:48:02-17:48:08|17:48:08-17:48:15|17:48:15-17:48:22|17:48:22-17:48:23|17:48:23-17:48:26|17:48:26-17:48:30|17:48:30-17:48:35|17:48:35-17:48:40|17:48:40-17:48:46|17:48:46-17:48:51|17:48:51-17:48:57|17:48:57-17:48:59|17:48:59-17:49:02|17:49:02-17:49:05|17:49:05-17:49:09|17:49:09-17:49:15|17:49:15-17:49:20|17:49:20-17:49:25|17:49:25-17:49:30|17:49:30-17:49:33|17:49:33-17:49:35|17:49:35-17:49:38|17:49:38-17:49:42|17:49:42-17:49:46|17:49:46-17:49:50|17:49:50-17:49:53|17:49:53-17:49:57|17:49:57-17:49:59|17:49:59-17:50:01|17:50:01-17:50:04|17:50:04-17:50:07|17:50:07-17:50:11|17:50:11-17:50:15|17:50:15-17:50:19|17:50:19-17:50:23|17:50:23-17:50:25|17:50:25-17:50:27|17:50:27-17:50:30|17:50:30-17:50:33|17:50:33-17:50:37|17:50:37-17:50:40|17:50:40-17:50:44|17:50:44-17:50:49|17:50:49-"
     ]
    },
    {
     "ename": "ValueError",
     "evalue": "l1_ratio must be between 0 and 1; got (l1_ratio=None)",
     "output_type": "error",
     "traceback": [
      "\u001b[0;31m---------------------------------------------------------------------------\u001b[0m",
      "\u001b[0;31mValueError\u001b[0m                                Traceback (most recent call last)",
      "\u001b[0;32m<ipython-input-95-81357316f5a7>\u001b[0m in \u001b[0;36m<module>\u001b[0;34m\u001b[0m\n\u001b[1;32m     30\u001b[0m \u001b[0;34m\u001b[0m\u001b[0m\n\u001b[1;32m     31\u001b[0m                     \u001b[0mmodel\u001b[0m \u001b[0;34m=\u001b[0m \u001b[0mLogisticRegression\u001b[0m\u001b[0;34m(\u001b[0m\u001b[0mpenalty\u001b[0m\u001b[0;34m=\u001b[0m\u001b[0mp\u001b[0m\u001b[0;34m,\u001b[0m \u001b[0mtol\u001b[0m\u001b[0;34m=\u001b[0m\u001b[0mt\u001b[0m\u001b[0;34m,\u001b[0m \u001b[0mC\u001b[0m\u001b[0;34m=\u001b[0m\u001b[0mc\u001b[0m\u001b[0;34m,\u001b[0m \u001b[0msolver\u001b[0m\u001b[0;34m=\u001b[0m\u001b[0ms\u001b[0m\u001b[0;34m,\u001b[0m \u001b[0mn_jobs\u001b[0m\u001b[0;34m=\u001b[0m\u001b[0;34m-\u001b[0m\u001b[0;36m1\u001b[0m\u001b[0;34m,\u001b[0m \u001b[0mrandom_state\u001b[0m\u001b[0;34m=\u001b[0m\u001b[0;36m42\u001b[0m\u001b[0;34m)\u001b[0m\u001b[0;34m\u001b[0m\u001b[0;34m\u001b[0m\u001b[0m\n\u001b[0;32m---> 32\u001b[0;31m                     \u001b[0mmodel\u001b[0m\u001b[0;34m.\u001b[0m\u001b[0mfit\u001b[0m\u001b[0;34m(\u001b[0m\u001b[0mX_train\u001b[0m\u001b[0;34m,\u001b[0m \u001b[0my_train\u001b[0m\u001b[0;34m)\u001b[0m\u001b[0;34m\u001b[0m\u001b[0;34m\u001b[0m\u001b[0m\n\u001b[0m\u001b[1;32m     33\u001b[0m \u001b[0;34m\u001b[0m\u001b[0m\n\u001b[1;32m     34\u001b[0m                     \u001b[0my_pred\u001b[0m \u001b[0;34m=\u001b[0m \u001b[0mmodel\u001b[0m\u001b[0;34m.\u001b[0m\u001b[0mpredict\u001b[0m\u001b[0;34m(\u001b[0m\u001b[0mX_test\u001b[0m\u001b[0;34m)\u001b[0m\u001b[0;34m\u001b[0m\u001b[0;34m\u001b[0m\u001b[0m\n",
      "\u001b[0;32m~/anaconda3/lib/python3.7/site-packages/sklearn/linear_model/_logistic.py\u001b[0m in \u001b[0;36mfit\u001b[0;34m(self, X, y, sample_weight)\u001b[0m\n\u001b[1;32m   1311\u001b[0m                     self.l1_ratio < 0 or self.l1_ratio > 1):\n\u001b[1;32m   1312\u001b[0m                 raise ValueError(\"l1_ratio must be between 0 and 1;\"\n\u001b[0;32m-> 1313\u001b[0;31m                                  \" got (l1_ratio=%r)\" % self.l1_ratio)\n\u001b[0m\u001b[1;32m   1314\u001b[0m         \u001b[0;32melif\u001b[0m \u001b[0mself\u001b[0m\u001b[0;34m.\u001b[0m\u001b[0ml1_ratio\u001b[0m \u001b[0;32mis\u001b[0m \u001b[0;32mnot\u001b[0m \u001b[0;32mNone\u001b[0m\u001b[0;34m:\u001b[0m\u001b[0;34m\u001b[0m\u001b[0;34m\u001b[0m\u001b[0m\n\u001b[1;32m   1315\u001b[0m             warnings.warn(\"l1_ratio parameter is only used when penalty is \"\n",
      "\u001b[0;31mValueError\u001b[0m: l1_ratio must be between 0 and 1; got (l1_ratio=None)"
     ]
    }
   ],
   "source": [
    "scores = []\n",
    "params = []\n",
    "\n",
    "for p in ['l1', 'l2', 'elasticnet']:\n",
    "    for t in [0.000001, 0.001, 0.01, 0.1, 1.0, 2.0, 3.0, 4.0]:\n",
    "        for c in [0.000001, 0.001, 0.01, 0.1, 1.0, 2.0, 3.0, 4.0]:\n",
    "            print(time.strftime('%X'), end='-')   \n",
    "            if p == 'l1':\n",
    "                for s in ['liblinear', 'saga']:\n",
    "                    \n",
    "                    model = LogisticRegression(penalty=p, tol=t, C=c, solver=s, n_jobs=-1, random_state=42)\n",
    "                    model.fit(X_train, y_train)\n",
    "                    \n",
    "                    y_pred = model.predict(X_test)\n",
    "                    \n",
    "                    scores.append(accuracy_score(y_test, y_pred))\n",
    "                    params.append(str(p) +'_'+ str(t) +'_'+ str(c) +'_'+ str(s))\n",
    "            if p == 'l2':\n",
    "                for s in ['newton-cg', 'lbfgs', 'sag', 'saga']:\n",
    "                    \n",
    "                    model = LogisticRegression(penalty=p, tol=t, C=c, solver=s, n_jobs=-1, random_state=42)\n",
    "                    model.fit(X_train, y_train)\n",
    "                    \n",
    "                    y_pred = model.predict(X_test)\n",
    "                    \n",
    "                    scores.append(accuracy_score(y_test, y_pred))\n",
    "                    params.append(str(p) +'_'+ str(t) +'_'+ str(c) +'_'+ str(s))\n",
    "            if p == 'elasticnet':\n",
    "                for s in ['saga']:\n",
    "                    \n",
    "                    model = LogisticRegression(penalty=p, tol=t, C=c, solver=s, n_jobs=-1, random_state=42)\n",
    "                    model.fit(X_train, y_train)\n",
    "                    \n",
    "                    y_pred = model.predict(X_test)\n",
    "                    \n",
    "                    scores.append(accuracy_score(y_test, y_pred))\n",
    "                    params.append(str(p) +'_'+ str(t) +'_'+ str(c) +'_'+ str(s))\n",
    "            print(time.strftime('%X'), end='|')"
   ]
  },
  {
   "cell_type": "code",
   "execution_count": 97,
   "metadata": {},
   "outputs": [],
   "source": [
    "score_params = pd.DataFrame({'score': scores, 'params': params})"
   ]
  },
  {
   "cell_type": "code",
   "execution_count": 103,
   "metadata": {},
   "outputs": [
    {
     "data": {
      "text/html": [
       "<div>\n",
       "<style scoped>\n",
       "    .dataframe tbody tr th:only-of-type {\n",
       "        vertical-align: middle;\n",
       "    }\n",
       "\n",
       "    .dataframe tbody tr th {\n",
       "        vertical-align: top;\n",
       "    }\n",
       "\n",
       "    .dataframe thead th {\n",
       "        text-align: right;\n",
       "    }\n",
       "</style>\n",
       "<table border=\"1\" class=\"dataframe\">\n",
       "  <thead>\n",
       "    <tr style=\"text-align: right;\">\n",
       "      <th></th>\n",
       "      <th>score</th>\n",
       "      <th>params</th>\n",
       "    </tr>\n",
       "  </thead>\n",
       "  <tbody>\n",
       "    <tr>\n",
       "      <th>354</th>\n",
       "      <td>0.571056</td>\n",
       "      <td>l2_4.0_1e-06_sag</td>\n",
       "    </tr>\n",
       "    <tr>\n",
       "      <th>355</th>\n",
       "      <td>0.571056</td>\n",
       "      <td>l2_4.0_1e-06_saga</td>\n",
       "    </tr>\n",
       "    <tr>\n",
       "      <th>356</th>\n",
       "      <td>0.760125</td>\n",
       "      <td>l2_4.0_0.001_newton-cg</td>\n",
       "    </tr>\n",
       "    <tr>\n",
       "      <th>357</th>\n",
       "      <td>0.760125</td>\n",
       "      <td>l2_4.0_0.001_lbfgs</td>\n",
       "    </tr>\n",
       "    <tr>\n",
       "      <th>358</th>\n",
       "      <td>0.760566</td>\n",
       "      <td>l2_4.0_0.001_sag</td>\n",
       "    </tr>\n",
       "    <tr>\n",
       "      <th>359</th>\n",
       "      <td>0.760165</td>\n",
       "      <td>l2_4.0_0.001_saga</td>\n",
       "    </tr>\n",
       "    <tr>\n",
       "      <th>360</th>\n",
       "      <td>0.763534</td>\n",
       "      <td>l2_4.0_0.01_newton-cg</td>\n",
       "    </tr>\n",
       "    <tr>\n",
       "      <th>361</th>\n",
       "      <td>0.763413</td>\n",
       "      <td>l2_4.0_0.01_lbfgs</td>\n",
       "    </tr>\n",
       "    <tr>\n",
       "      <th>362</th>\n",
       "      <td>0.764857</td>\n",
       "      <td>l2_4.0_0.01_sag</td>\n",
       "    </tr>\n",
       "    <tr>\n",
       "      <th>363</th>\n",
       "      <td>0.763293</td>\n",
       "      <td>l2_4.0_0.01_saga</td>\n",
       "    </tr>\n",
       "    <tr>\n",
       "      <th>364</th>\n",
       "      <td>0.764977</td>\n",
       "      <td>l2_4.0_0.1_newton-cg</td>\n",
       "    </tr>\n",
       "    <tr>\n",
       "      <th>365</th>\n",
       "      <td>0.765057</td>\n",
       "      <td>l2_4.0_0.1_lbfgs</td>\n",
       "    </tr>\n",
       "    <tr>\n",
       "      <th>366</th>\n",
       "      <td>0.761328</td>\n",
       "      <td>l2_4.0_0.1_sag</td>\n",
       "    </tr>\n",
       "    <tr>\n",
       "      <th>367</th>\n",
       "      <td>0.764616</td>\n",
       "      <td>l2_4.0_0.1_saga</td>\n",
       "    </tr>\n",
       "    <tr>\n",
       "      <th>368</th>\n",
       "      <td>0.764977</td>\n",
       "      <td>l2_4.0_1.0_newton-cg</td>\n",
       "    </tr>\n",
       "    <tr>\n",
       "      <th>369</th>\n",
       "      <td>0.764977</td>\n",
       "      <td>l2_4.0_1.0_lbfgs</td>\n",
       "    </tr>\n",
       "    <tr>\n",
       "      <th>370</th>\n",
       "      <td>0.761047</td>\n",
       "      <td>l2_4.0_1.0_sag</td>\n",
       "    </tr>\n",
       "    <tr>\n",
       "      <th>371</th>\n",
       "      <td>0.764376</td>\n",
       "      <td>l2_4.0_1.0_saga</td>\n",
       "    </tr>\n",
       "    <tr>\n",
       "      <th>372</th>\n",
       "      <td>0.765057</td>\n",
       "      <td>l2_4.0_2.0_newton-cg</td>\n",
       "    </tr>\n",
       "    <tr>\n",
       "      <th>373</th>\n",
       "      <td>0.765057</td>\n",
       "      <td>l2_4.0_2.0_lbfgs</td>\n",
       "    </tr>\n",
       "    <tr>\n",
       "      <th>374</th>\n",
       "      <td>0.760887</td>\n",
       "      <td>l2_4.0_2.0_sag</td>\n",
       "    </tr>\n",
       "    <tr>\n",
       "      <th>375</th>\n",
       "      <td>0.764456</td>\n",
       "      <td>l2_4.0_2.0_saga</td>\n",
       "    </tr>\n",
       "    <tr>\n",
       "      <th>376</th>\n",
       "      <td>0.765017</td>\n",
       "      <td>l2_4.0_3.0_newton-cg</td>\n",
       "    </tr>\n",
       "    <tr>\n",
       "      <th>377</th>\n",
       "      <td>0.764937</td>\n",
       "      <td>l2_4.0_3.0_lbfgs</td>\n",
       "    </tr>\n",
       "    <tr>\n",
       "      <th>378</th>\n",
       "      <td>0.760847</td>\n",
       "      <td>l2_4.0_3.0_sag</td>\n",
       "    </tr>\n",
       "    <tr>\n",
       "      <th>379</th>\n",
       "      <td>0.764456</td>\n",
       "      <td>l2_4.0_3.0_saga</td>\n",
       "    </tr>\n",
       "    <tr>\n",
       "      <th>380</th>\n",
       "      <td>0.765017</td>\n",
       "      <td>l2_4.0_4.0_newton-cg</td>\n",
       "    </tr>\n",
       "    <tr>\n",
       "      <th>381</th>\n",
       "      <td>0.764977</td>\n",
       "      <td>l2_4.0_4.0_lbfgs</td>\n",
       "    </tr>\n",
       "    <tr>\n",
       "      <th>382</th>\n",
       "      <td>0.760847</td>\n",
       "      <td>l2_4.0_4.0_sag</td>\n",
       "    </tr>\n",
       "    <tr>\n",
       "      <th>383</th>\n",
       "      <td>0.764456</td>\n",
       "      <td>l2_4.0_4.0_saga</td>\n",
       "    </tr>\n",
       "  </tbody>\n",
       "</table>\n",
       "</div>"
      ],
      "text/plain": [
       "        score                  params\n",
       "354  0.571056        l2_4.0_1e-06_sag\n",
       "355  0.571056       l2_4.0_1e-06_saga\n",
       "356  0.760125  l2_4.0_0.001_newton-cg\n",
       "357  0.760125      l2_4.0_0.001_lbfgs\n",
       "358  0.760566        l2_4.0_0.001_sag\n",
       "359  0.760165       l2_4.0_0.001_saga\n",
       "360  0.763534   l2_4.0_0.01_newton-cg\n",
       "361  0.763413       l2_4.0_0.01_lbfgs\n",
       "362  0.764857         l2_4.0_0.01_sag\n",
       "363  0.763293        l2_4.0_0.01_saga\n",
       "364  0.764977    l2_4.0_0.1_newton-cg\n",
       "365  0.765057        l2_4.0_0.1_lbfgs\n",
       "366  0.761328          l2_4.0_0.1_sag\n",
       "367  0.764616         l2_4.0_0.1_saga\n",
       "368  0.764977    l2_4.0_1.0_newton-cg\n",
       "369  0.764977        l2_4.0_1.0_lbfgs\n",
       "370  0.761047          l2_4.0_1.0_sag\n",
       "371  0.764376         l2_4.0_1.0_saga\n",
       "372  0.765057    l2_4.0_2.0_newton-cg\n",
       "373  0.765057        l2_4.0_2.0_lbfgs\n",
       "374  0.760887          l2_4.0_2.0_sag\n",
       "375  0.764456         l2_4.0_2.0_saga\n",
       "376  0.765017    l2_4.0_3.0_newton-cg\n",
       "377  0.764937        l2_4.0_3.0_lbfgs\n",
       "378  0.760847          l2_4.0_3.0_sag\n",
       "379  0.764456         l2_4.0_3.0_saga\n",
       "380  0.765017    l2_4.0_4.0_newton-cg\n",
       "381  0.764977        l2_4.0_4.0_lbfgs\n",
       "382  0.760847          l2_4.0_4.0_sag\n",
       "383  0.764456         l2_4.0_4.0_saga"
      ]
     },
     "execution_count": 103,
     "metadata": {},
     "output_type": "execute_result"
    }
   ],
   "source": [
    "score_params[-30:]"
   ]
  },
  {
   "cell_type": "code",
   "execution_count": 100,
   "metadata": {},
   "outputs": [
    {
     "data": {
      "text/html": [
       "<div>\n",
       "<style scoped>\n",
       "    .dataframe tbody tr th:only-of-type {\n",
       "        vertical-align: middle;\n",
       "    }\n",
       "\n",
       "    .dataframe tbody tr th {\n",
       "        vertical-align: top;\n",
       "    }\n",
       "\n",
       "    .dataframe thead th {\n",
       "        text-align: right;\n",
       "    }\n",
       "</style>\n",
       "<table border=\"1\" class=\"dataframe\">\n",
       "  <thead>\n",
       "    <tr style=\"text-align: right;\">\n",
       "      <th></th>\n",
       "      <th>score</th>\n",
       "      <th>params</th>\n",
       "    </tr>\n",
       "  </thead>\n",
       "  <tbody>\n",
       "    <tr>\n",
       "      <th>234</th>\n",
       "      <td>0.766260</td>\n",
       "      <td>l2_0.1_0.01_sag</td>\n",
       "    </tr>\n",
       "    <tr>\n",
       "      <th>22</th>\n",
       "      <td>0.765178</td>\n",
       "      <td>l1_0.001_0.1_liblinear</td>\n",
       "    </tr>\n",
       "    <tr>\n",
       "      <th>333</th>\n",
       "      <td>0.765178</td>\n",
       "      <td>l2_3.0_0.1_lbfgs</td>\n",
       "    </tr>\n",
       "    <tr>\n",
       "      <th>23</th>\n",
       "      <td>0.765138</td>\n",
       "      <td>l1_0.001_0.1_saga</td>\n",
       "    </tr>\n",
       "    <tr>\n",
       "      <th>6</th>\n",
       "      <td>0.765138</td>\n",
       "      <td>l1_1e-06_0.1_liblinear</td>\n",
       "    </tr>\n",
       "    <tr>\n",
       "      <th>7</th>\n",
       "      <td>0.765138</td>\n",
       "      <td>l1_1e-06_0.1_saga</td>\n",
       "    </tr>\n",
       "    <tr>\n",
       "      <th>206</th>\n",
       "      <td>0.765097</td>\n",
       "      <td>l2_0.01_0.1_sag</td>\n",
       "    </tr>\n",
       "    <tr>\n",
       "      <th>207</th>\n",
       "      <td>0.765097</td>\n",
       "      <td>l2_0.01_0.1_saga</td>\n",
       "    </tr>\n",
       "    <tr>\n",
       "      <th>24</th>\n",
       "      <td>0.765097</td>\n",
       "      <td>l1_0.001_1.0_liblinear</td>\n",
       "    </tr>\n",
       "    <tr>\n",
       "      <th>174</th>\n",
       "      <td>0.765097</td>\n",
       "      <td>l2_0.001_0.1_sag</td>\n",
       "    </tr>\n",
       "    <tr>\n",
       "      <th>39</th>\n",
       "      <td>0.765097</td>\n",
       "      <td>l1_0.01_0.1_saga</td>\n",
       "    </tr>\n",
       "    <tr>\n",
       "      <th>27</th>\n",
       "      <td>0.765097</td>\n",
       "      <td>l1_0.001_2.0_saga</td>\n",
       "    </tr>\n",
       "    <tr>\n",
       "      <th>365</th>\n",
       "      <td>0.765057</td>\n",
       "      <td>l2_4.0_0.1_lbfgs</td>\n",
       "    </tr>\n",
       "    <tr>\n",
       "      <th>173</th>\n",
       "      <td>0.765057</td>\n",
       "      <td>l2_0.001_0.1_lbfgs</td>\n",
       "    </tr>\n",
       "    <tr>\n",
       "      <th>372</th>\n",
       "      <td>0.765057</td>\n",
       "      <td>l2_4.0_2.0_newton-cg</td>\n",
       "    </tr>\n",
       "    <tr>\n",
       "      <th>205</th>\n",
       "      <td>0.765057</td>\n",
       "      <td>l2_0.01_0.1_lbfgs</td>\n",
       "    </tr>\n",
       "    <tr>\n",
       "      <th>204</th>\n",
       "      <td>0.765057</td>\n",
       "      <td>l2_0.01_0.1_newton-cg</td>\n",
       "    </tr>\n",
       "    <tr>\n",
       "      <th>341</th>\n",
       "      <td>0.765057</td>\n",
       "      <td>l2_3.0_2.0_lbfgs</td>\n",
       "    </tr>\n",
       "    <tr>\n",
       "      <th>301</th>\n",
       "      <td>0.765057</td>\n",
       "      <td>l2_2.0_0.1_lbfgs</td>\n",
       "    </tr>\n",
       "    <tr>\n",
       "      <th>305</th>\n",
       "      <td>0.765057</td>\n",
       "      <td>l2_2.0_1.0_lbfgs</td>\n",
       "    </tr>\n",
       "  </tbody>\n",
       "</table>\n",
       "</div>"
      ],
      "text/plain": [
       "        score                  params\n",
       "234  0.766260         l2_0.1_0.01_sag\n",
       "22   0.765178  l1_0.001_0.1_liblinear\n",
       "333  0.765178        l2_3.0_0.1_lbfgs\n",
       "23   0.765138       l1_0.001_0.1_saga\n",
       "6    0.765138  l1_1e-06_0.1_liblinear\n",
       "7    0.765138       l1_1e-06_0.1_saga\n",
       "206  0.765097         l2_0.01_0.1_sag\n",
       "207  0.765097        l2_0.01_0.1_saga\n",
       "24   0.765097  l1_0.001_1.0_liblinear\n",
       "174  0.765097        l2_0.001_0.1_sag\n",
       "39   0.765097        l1_0.01_0.1_saga\n",
       "27   0.765097       l1_0.001_2.0_saga\n",
       "365  0.765057        l2_4.0_0.1_lbfgs\n",
       "173  0.765057      l2_0.001_0.1_lbfgs\n",
       "372  0.765057    l2_4.0_2.0_newton-cg\n",
       "205  0.765057       l2_0.01_0.1_lbfgs\n",
       "204  0.765057   l2_0.01_0.1_newton-cg\n",
       "341  0.765057        l2_3.0_2.0_lbfgs\n",
       "301  0.765057        l2_2.0_0.1_lbfgs\n",
       "305  0.765057        l2_2.0_1.0_lbfgs"
      ]
     },
     "execution_count": 100,
     "metadata": {},
     "output_type": "execute_result"
    }
   ],
   "source": [
    "score_params.sort_values(by=['score'], ascending=False)[:20]"
   ]
  },
  {
   "cell_type": "code",
   "execution_count": 102,
   "metadata": {},
   "outputs": [
    {
     "data": {
      "image/png": "[encoded data removed]",
      "text/plain": [
       "<Figure size 1152x432 with 1 Axes>"
      ]
     },
     "metadata": {
      "needs_background": "light"
     },
     "output_type": "display_data"
    }
   ],
   "source": [
    "plt.figure(figsize=(16, 6))\n",
    "plt.plot(score_params.score);"
   ]
  },
  {
   "cell_type": "code",
   "execution_count": 122,
   "metadata": {},
   "outputs": [],
   "source": [
    "scores = []\n",
    "params = []\n",
    "\n",
    "for p in ['l2']:\n",
    "    for t in [0.2, 0.3, 0.4, 0.5, 0.6, 0.7]:\n",
    "        for c in [0.007, 0.008, 0.009, 0.01, 0.012]:\n",
    "#             print(time.strftime('%X'), end='-')   \n",
    "            \n",
    "            if p == 'l2':\n",
    "                for s in ['sag']:\n",
    "                    \n",
    "                    model = LogisticRegression(penalty=p, tol=t, C=c, solver=s, n_jobs=-1, random_state=42)\n",
    "                    model.fit(X_train, y_train)\n",
    "                    \n",
    "                    y_pred = model.predict(X_test)\n",
    "                    \n",
    "                    scores.append(accuracy_score(y_test, y_pred))\n",
    "                    params.append(str(p) +'_'+ str(t) +'_'+ str(c) +'_'+ str(s))\n",
    "            \n",
    "#             print(time.strftime('%X'), end='|')"
   ]
  },
  {
   "cell_type": "code",
   "execution_count": 123,
   "metadata": {},
   "outputs": [],
   "source": [
    "score_params = pd.DataFrame({'score': scores, 'params': params})"
   ]
  },
  {
   "cell_type": "code",
   "execution_count": 124,
   "metadata": {},
   "outputs": [
    {
     "data": {
      "text/html": [
       "<div>\n",
       "<style scoped>\n",
       "    .dataframe tbody tr th:only-of-type {\n",
       "        vertical-align: middle;\n",
       "    }\n",
       "\n",
       "    .dataframe tbody tr th {\n",
       "        vertical-align: top;\n",
       "    }\n",
       "\n",
       "    .dataframe thead th {\n",
       "        text-align: right;\n",
       "    }\n",
       "</style>\n",
       "<table border=\"1\" class=\"dataframe\">\n",
       "  <thead>\n",
       "    <tr style=\"text-align: right;\">\n",
       "      <th></th>\n",
       "      <th>score</th>\n",
       "      <th>params</th>\n",
       "    </tr>\n",
       "  </thead>\n",
       "  <tbody>\n",
       "    <tr>\n",
       "      <th>21</th>\n",
       "      <td>0.767022</td>\n",
       "      <td>l2_0.6_0.008_sag</td>\n",
       "    </tr>\n",
       "    <tr>\n",
       "      <th>26</th>\n",
       "      <td>0.767022</td>\n",
       "      <td>l2_0.7_0.008_sag</td>\n",
       "    </tr>\n",
       "    <tr>\n",
       "      <th>6</th>\n",
       "      <td>0.767022</td>\n",
       "      <td>l2_0.3_0.008_sag</td>\n",
       "    </tr>\n",
       "    <tr>\n",
       "      <th>11</th>\n",
       "      <td>0.767022</td>\n",
       "      <td>l2_0.4_0.008_sag</td>\n",
       "    </tr>\n",
       "    <tr>\n",
       "      <th>16</th>\n",
       "      <td>0.767022</td>\n",
       "      <td>l2_0.5_0.008_sag</td>\n",
       "    </tr>\n",
       "    <tr>\n",
       "      <th>1</th>\n",
       "      <td>0.767022</td>\n",
       "      <td>l2_0.2_0.008_sag</td>\n",
       "    </tr>\n",
       "    <tr>\n",
       "      <th>12</th>\n",
       "      <td>0.766501</td>\n",
       "      <td>l2_0.4_0.009_sag</td>\n",
       "    </tr>\n",
       "    <tr>\n",
       "      <th>2</th>\n",
       "      <td>0.766501</td>\n",
       "      <td>l2_0.2_0.009_sag</td>\n",
       "    </tr>\n",
       "    <tr>\n",
       "      <th>22</th>\n",
       "      <td>0.766501</td>\n",
       "      <td>l2_0.6_0.009_sag</td>\n",
       "    </tr>\n",
       "    <tr>\n",
       "      <th>7</th>\n",
       "      <td>0.766501</td>\n",
       "      <td>l2_0.3_0.009_sag</td>\n",
       "    </tr>\n",
       "    <tr>\n",
       "      <th>17</th>\n",
       "      <td>0.766501</td>\n",
       "      <td>l2_0.5_0.009_sag</td>\n",
       "    </tr>\n",
       "    <tr>\n",
       "      <th>27</th>\n",
       "      <td>0.766501</td>\n",
       "      <td>l2_0.7_0.009_sag</td>\n",
       "    </tr>\n",
       "    <tr>\n",
       "      <th>14</th>\n",
       "      <td>0.766341</td>\n",
       "      <td>l2_0.4_0.012_sag</td>\n",
       "    </tr>\n",
       "    <tr>\n",
       "      <th>19</th>\n",
       "      <td>0.766341</td>\n",
       "      <td>l2_0.5_0.012_sag</td>\n",
       "    </tr>\n",
       "    <tr>\n",
       "      <th>29</th>\n",
       "      <td>0.766341</td>\n",
       "      <td>l2_0.7_0.012_sag</td>\n",
       "    </tr>\n",
       "    <tr>\n",
       "      <th>9</th>\n",
       "      <td>0.766341</td>\n",
       "      <td>l2_0.3_0.012_sag</td>\n",
       "    </tr>\n",
       "    <tr>\n",
       "      <th>4</th>\n",
       "      <td>0.766341</td>\n",
       "      <td>l2_0.2_0.012_sag</td>\n",
       "    </tr>\n",
       "    <tr>\n",
       "      <th>24</th>\n",
       "      <td>0.766341</td>\n",
       "      <td>l2_0.6_0.012_sag</td>\n",
       "    </tr>\n",
       "    <tr>\n",
       "      <th>13</th>\n",
       "      <td>0.766260</td>\n",
       "      <td>l2_0.4_0.01_sag</td>\n",
       "    </tr>\n",
       "    <tr>\n",
       "      <th>18</th>\n",
       "      <td>0.766260</td>\n",
       "      <td>l2_0.5_0.01_sag</td>\n",
       "    </tr>\n",
       "  </tbody>\n",
       "</table>\n",
       "</div>"
      ],
      "text/plain": [
       "       score            params\n",
       "21  0.767022  l2_0.6_0.008_sag\n",
       "26  0.767022  l2_0.7_0.008_sag\n",
       "6   0.767022  l2_0.3_0.008_sag\n",
       "11  0.767022  l2_0.4_0.008_sag\n",
       "16  0.767022  l2_0.5_0.008_sag\n",
       "1   0.767022  l2_0.2_0.008_sag\n",
       "12  0.766501  l2_0.4_0.009_sag\n",
       "2   0.766501  l2_0.2_0.009_sag\n",
       "22  0.766501  l2_0.6_0.009_sag\n",
       "7   0.766501  l2_0.3_0.009_sag\n",
       "17  0.766501  l2_0.5_0.009_sag\n",
       "27  0.766501  l2_0.7_0.009_sag\n",
       "14  0.766341  l2_0.4_0.012_sag\n",
       "19  0.766341  l2_0.5_0.012_sag\n",
       "29  0.766341  l2_0.7_0.012_sag\n",
       "9   0.766341  l2_0.3_0.012_sag\n",
       "4   0.766341  l2_0.2_0.012_sag\n",
       "24  0.766341  l2_0.6_0.012_sag\n",
       "13  0.766260   l2_0.4_0.01_sag\n",
       "18  0.766260   l2_0.5_0.01_sag"
      ]
     },
     "execution_count": 124,
     "metadata": {},
     "output_type": "execute_result"
    }
   ],
   "source": [
    "score_params.sort_values(by=['score'], ascending=False)[:20]"
   ]
  },
  {
   "cell_type": "markdown",
   "metadata": {},
   "source": [
    "### threshold"
   ]
  },
  {
   "cell_type": "code",
   "execution_count": 178,
   "metadata": {},
   "outputs": [],
   "source": [
    "model_lr = LogisticRegression(penalty='l2', tol=0.5, C=0.008, n_jobs=-1, random_state=42)\n",
    "model_lr.fit(X_train, y_train)\n",
    "y_pred = model_lr.predict_proba(X_test)"
   ]
  },
  {
   "cell_type": "code",
   "execution_count": 179,
   "metadata": {},
   "outputs": [],
   "source": [
    "acc = []\n",
    "threshold = []\n",
    "\n",
    "for i in np.linspace(0.1, 0.9, 1000):\n",
    "    \n",
    "    acc.append(accuracy_score(y_test, y_pred[:, 1] > i))\n",
    "    threshold.append(i)"
   ]
  },
  {
   "cell_type": "code",
   "execution_count": 180,
   "metadata": {},
   "outputs": [
    {
     "data": {
      "image/png": "[encoded data removed]",
      "text/plain": [
       "<Figure size 1080x576 with 1 Axes>"
      ]
     },
     "metadata": {
      "needs_background": "light"
     },
     "output_type": "display_data"
    }
   ],
   "source": [
    "plt.figure(figsize=(15, 8))\n",
    "plt.plot(np.linspace(0.1, 0.9, 1000), acc, color='b')\n",
    "plt.show()"
   ]
  },
  {
   "cell_type": "code",
   "execution_count": 181,
   "metadata": {},
   "outputs": [
    {
     "data": {
      "text/plain": [
       "(0.7691474857646965, 454)"
      ]
     },
     "execution_count": 181,
     "metadata": {},
     "output_type": "execute_result"
    }
   ],
   "source": [
    "max(acc), np.argmax(acc)"
   ]
  },
  {
   "cell_type": "code",
   "execution_count": 182,
   "metadata": {},
   "outputs": [
    {
     "data": {
      "text/plain": [
       "0.46356356356356354"
      ]
     },
     "execution_count": 182,
     "metadata": {},
     "output_type": "execute_result"
    }
   ],
   "source": [
    "threshold[454]"
   ]
  },
  {
   "cell_type": "code",
   "execution_count": 186,
   "metadata": {},
   "outputs": [],
   "source": [
    "score = []\n",
    "rnd_st = []\n",
    "\n",
    "for r in range(1, 50):\n",
    "    model_lr = LogisticRegression(penalty='l2', tol=0.5, C=0.008, n_jobs=-1, random_state=r)\n",
    "    model_lr.fit(X_train, y_train)\n",
    "    y_pred = model_lr.predict_proba(X_test)\n",
    "    \n",
    "    score.append(accuracy_score(y_test, y_pred[:, 1] > 0.46356356356356354))\n",
    "    rnd_st.append(r)"
   ]
  },
  {
   "cell_type": "code",
   "execution_count": 187,
   "metadata": {},
   "outputs": [
    {
     "data": {
      "image/png": "[encoded data removed]",
      "text/plain": [
       "<Figure size 1080x576 with 1 Axes>"
      ]
     },
     "metadata": {
      "needs_background": "light"
     },
     "output_type": "display_data"
    }
   ],
   "source": [
    "plt.figure(figsize=(15, 8))\n",
    "plt.plot(range(1, 50), score, color='b')\n",
    "plt.show()"
   ]
  },
  {
   "cell_type": "code",
   "execution_count": 188,
   "metadata": {},
   "outputs": [
    {
     "data": {
      "text/plain": [
       "0.7691474857646965"
      ]
     },
     "execution_count": 188,
     "metadata": {},
     "output_type": "execute_result"
    }
   ],
   "source": [
    "max(score)"
   ]
  },
  {
   "cell_type": "markdown",
   "metadata": {},
   "source": [
    "### RidgeClass"
   ]
  },
  {
   "cell_type": "code",
   "execution_count": 166,
   "metadata": {},
   "outputs": [],
   "source": [
    "from sklearn.linear_model import RidgeClassifier"
   ]
  },
  {
   "cell_type": "code",
   "execution_count": 173,
   "metadata": {},
   "outputs": [],
   "source": [
    "scores = []\n",
    "params = []\n",
    "\n",
    "for a in [1.8, 1.95, 2.0, 2.05, 2.1, 2.2]:\n",
    "    for t in [0.001, 0.01, 0.1, 1.0, 2.0, 2.5]:\n",
    "#         print(time.strftime('%X'), end='-')   \n",
    "        \n",
    "        model = RidgeClassifier(alpha=a, tol=t, random_state=42)\n",
    "        model.fit(X_train, y_train)\n",
    "        y_pred = model.predict(X_test)\n",
    "        scores.append(accuracy_score(y_test, y_pred))\n",
    "        \n",
    "        params.append(str(a) +'_'+ str(t))\n",
    "        \n",
    "#         print(time.strftime('%X'), end='|')"
   ]
  },
  {
   "cell_type": "code",
   "execution_count": 174,
   "metadata": {},
   "outputs": [
    {
     "data": {
      "text/html": [
       "<div>\n",
       "<style scoped>\n",
       "    .dataframe tbody tr th:only-of-type {\n",
       "        vertical-align: middle;\n",
       "    }\n",
       "\n",
       "    .dataframe tbody tr th {\n",
       "        vertical-align: top;\n",
       "    }\n",
       "\n",
       "    .dataframe thead th {\n",
       "        text-align: right;\n",
       "    }\n",
       "</style>\n",
       "<table border=\"1\" class=\"dataframe\">\n",
       "  <thead>\n",
       "    <tr style=\"text-align: right;\">\n",
       "      <th></th>\n",
       "      <th>score</th>\n",
       "      <th>params</th>\n",
       "    </tr>\n",
       "  </thead>\n",
       "  <tbody>\n",
       "    <tr>\n",
       "      <th>18</th>\n",
       "      <td>0.764496</td>\n",
       "      <td>2.05_0.001</td>\n",
       "    </tr>\n",
       "    <tr>\n",
       "      <th>12</th>\n",
       "      <td>0.764496</td>\n",
       "      <td>2.0_0.001</td>\n",
       "    </tr>\n",
       "    <tr>\n",
       "      <th>23</th>\n",
       "      <td>0.764496</td>\n",
       "      <td>2.05_2.5</td>\n",
       "    </tr>\n",
       "    <tr>\n",
       "      <th>22</th>\n",
       "      <td>0.764496</td>\n",
       "      <td>2.05_2.0</td>\n",
       "    </tr>\n",
       "    <tr>\n",
       "      <th>21</th>\n",
       "      <td>0.764496</td>\n",
       "      <td>2.05_1.0</td>\n",
       "    </tr>\n",
       "    <tr>\n",
       "      <th>20</th>\n",
       "      <td>0.764496</td>\n",
       "      <td>2.05_0.1</td>\n",
       "    </tr>\n",
       "    <tr>\n",
       "      <th>19</th>\n",
       "      <td>0.764496</td>\n",
       "      <td>2.05_0.01</td>\n",
       "    </tr>\n",
       "    <tr>\n",
       "      <th>17</th>\n",
       "      <td>0.764496</td>\n",
       "      <td>2.0_2.5</td>\n",
       "    </tr>\n",
       "    <tr>\n",
       "      <th>16</th>\n",
       "      <td>0.764496</td>\n",
       "      <td>2.0_2.0</td>\n",
       "    </tr>\n",
       "    <tr>\n",
       "      <th>15</th>\n",
       "      <td>0.764496</td>\n",
       "      <td>2.0_1.0</td>\n",
       "    </tr>\n",
       "    <tr>\n",
       "      <th>14</th>\n",
       "      <td>0.764496</td>\n",
       "      <td>2.0_0.1</td>\n",
       "    </tr>\n",
       "    <tr>\n",
       "      <th>13</th>\n",
       "      <td>0.764496</td>\n",
       "      <td>2.0_0.01</td>\n",
       "    </tr>\n",
       "    <tr>\n",
       "      <th>11</th>\n",
       "      <td>0.764496</td>\n",
       "      <td>1.95_2.5</td>\n",
       "    </tr>\n",
       "    <tr>\n",
       "      <th>10</th>\n",
       "      <td>0.764496</td>\n",
       "      <td>1.95_2.0</td>\n",
       "    </tr>\n",
       "    <tr>\n",
       "      <th>9</th>\n",
       "      <td>0.764496</td>\n",
       "      <td>1.95_1.0</td>\n",
       "    </tr>\n",
       "    <tr>\n",
       "      <th>8</th>\n",
       "      <td>0.764496</td>\n",
       "      <td>1.95_0.1</td>\n",
       "    </tr>\n",
       "    <tr>\n",
       "      <th>7</th>\n",
       "      <td>0.764496</td>\n",
       "      <td>1.95_0.01</td>\n",
       "    </tr>\n",
       "    <tr>\n",
       "      <th>6</th>\n",
       "      <td>0.764496</td>\n",
       "      <td>1.95_0.001</td>\n",
       "    </tr>\n",
       "    <tr>\n",
       "      <th>27</th>\n",
       "      <td>0.764456</td>\n",
       "      <td>2.1_1.0</td>\n",
       "    </tr>\n",
       "    <tr>\n",
       "      <th>30</th>\n",
       "      <td>0.764456</td>\n",
       "      <td>2.2_0.001</td>\n",
       "    </tr>\n",
       "  </tbody>\n",
       "</table>\n",
       "</div>"
      ],
      "text/plain": [
       "       score      params\n",
       "18  0.764496  2.05_0.001\n",
       "12  0.764496   2.0_0.001\n",
       "23  0.764496    2.05_2.5\n",
       "22  0.764496    2.05_2.0\n",
       "21  0.764496    2.05_1.0\n",
       "20  0.764496    2.05_0.1\n",
       "19  0.764496   2.05_0.01\n",
       "17  0.764496     2.0_2.5\n",
       "16  0.764496     2.0_2.0\n",
       "15  0.764496     2.0_1.0\n",
       "14  0.764496     2.0_0.1\n",
       "13  0.764496    2.0_0.01\n",
       "11  0.764496    1.95_2.5\n",
       "10  0.764496    1.95_2.0\n",
       "9   0.764496    1.95_1.0\n",
       "8   0.764496    1.95_0.1\n",
       "7   0.764496   1.95_0.01\n",
       "6   0.764496  1.95_0.001\n",
       "27  0.764456     2.1_1.0\n",
       "30  0.764456   2.2_0.001"
      ]
     },
     "execution_count": 174,
     "metadata": {},
     "output_type": "execute_result"
    }
   ],
   "source": [
    "score_params = pd.DataFrame({'score': scores, 'params': params})\n",
    "score_params.sort_values(by=['score'], ascending=False)[:20]"
   ]
  },
  {
   "cell_type": "code",
   "execution_count": 190,
   "metadata": {},
   "outputs": [],
   "source": [
    "model = RidgeClassifier(alpha=2.0, tol=0.01, random_state=42)\n",
    "model.fit(X_train, y_train)\n",
    "y_pred = model.predict(X_test)"
   ]
  },
  {
   "cell_type": "code",
   "execution_count": 191,
   "metadata": {},
   "outputs": [
    {
     "data": {
      "text/plain": [
       "0.7644959499558907"
      ]
     },
     "execution_count": 191,
     "metadata": {},
     "output_type": "execute_result"
    }
   ],
   "source": [
    "accuracy_score(y_test, y_pred)"
   ]
  },
  {
   "cell_type": "markdown",
   "metadata": {},
   "source": [
    "### AdaBoost"
   ]
  },
  {
   "cell_type": "code",
   "execution_count": 215,
   "metadata": {},
   "outputs": [
    {
     "name": "stdout",
     "output_type": "stream",
     "text": [
      "21:26:21-21:26:22|21:26:22-21:26:23|21:26:23-21:26:24|21:26:24-21:26:25|21:26:25-21:26:27|21:26:27-21:26:29|21:26:29-21:26:31|21:26:31-21:26:33|21:26:33-21:26:36|21:26:36-21:26:38|21:26:38-21:26:41|21:26:41-21:26:44|21:26:44-21:26:47|21:26:47-21:26:50|21:26:50-21:26:53|21:26:53-21:26:56|21:26:56-21:27:00|21:27:00-21:27:04|21:27:04-21:27:08|21:27:08-21:27:12|21:27:12-21:27:16|21:27:16-21:27:21|21:27:21-21:27:26|21:27:26-21:27:30|21:27:30-21:27:35|21:27:35-21:27:40|21:27:40-21:27:45|21:27:45-21:27:50|21:27:50-21:27:56|21:27:56-21:28:02|21:28:02-21:28:08|21:28:08-21:28:14|21:28:14-21:28:20|21:28:20-21:28:27|21:28:27-21:28:33|21:28:33-21:28:40|21:28:40-21:28:47|21:28:47-21:28:54|21:28:54-21:29:01|21:29:01-21:29:08|21:29:08-21:29:15|21:29:15-21:29:21|21:29:21-21:29:27|21:29:27-21:29:33|21:29:33-21:29:40|21:29:40-21:29:46|21:29:46-21:29:53|21:29:53-21:29:59|21:29:59-21:30:06|21:30:06-21:30:14|21:30:14-21:30:22|21:30:22-21:30:31|21:30:31-21:30:41|21:30:41-21:30:50|21:30:50-21:31:00|21:31:00-21:31:09|21:31:09-21:31:19|21:31:19-21:31:29|21:31:29-21:31:40|21:31:40-21:31:50|21:31:50-21:32:01|21:32:01-21:32:09|21:32:09-21:32:18|21:32:18-21:32:27|21:32:27-21:32:38|21:32:38-21:32:50|21:32:50-21:33:01|21:33:01-21:33:12|21:33:12-21:33:24|21:33:24-21:33:33|21:33:33-21:33:44|21:33:44-21:33:56|"
     ]
    }
   ],
   "source": [
    "scores = []\n",
    "params = []\n",
    "\n",
    "for d in [1]:\n",
    "    for n in range(20, 200, 10):\n",
    "        for l in [0.001, 0.01, 0.1, 0.15]:\n",
    "            print(time.strftime('%X'), end='-')   \n",
    "            model = AdaBoostClassifier(n_estimators=n, learning_rate=l, random_state=42)\n",
    "            model.fit(X_train, y_train)\n",
    "            y_pred = model.predict(X_test)\n",
    "            \n",
    "            scores.append(accuracy_score(y_test, y_pred))\n",
    "            params.append(str(d) +'_'+ str(n) +'_'+ str(l))\n",
    "            \n",
    "            print(time.strftime('%X'), end='|')"
   ]
  },
  {
   "cell_type": "code",
   "execution_count": 214,
   "metadata": {},
   "outputs": [
    {
     "data": {
      "text/html": [
       "<div>\n",
       "<style scoped>\n",
       "    .dataframe tbody tr th:only-of-type {\n",
       "        vertical-align: middle;\n",
       "    }\n",
       "\n",
       "    .dataframe tbody tr th {\n",
       "        vertical-align: top;\n",
       "    }\n",
       "\n",
       "    .dataframe thead th {\n",
       "        text-align: right;\n",
       "    }\n",
       "</style>\n",
       "<table border=\"1\" class=\"dataframe\">\n",
       "  <thead>\n",
       "    <tr style=\"text-align: right;\">\n",
       "      <th></th>\n",
       "      <th>score</th>\n",
       "      <th>params</th>\n",
       "    </tr>\n",
       "  </thead>\n",
       "  <tbody>\n",
       "    <tr>\n",
       "      <th>3</th>\n",
       "      <td>0.766982</td>\n",
       "      <td>1_100_0.15</td>\n",
       "    </tr>\n",
       "    <tr>\n",
       "      <th>2</th>\n",
       "      <td>0.764095</td>\n",
       "      <td>1_100_0.1</td>\n",
       "    </tr>\n",
       "    <tr>\n",
       "      <th>0</th>\n",
       "      <td>0.757198</td>\n",
       "      <td>1_100_0.001</td>\n",
       "    </tr>\n",
       "    <tr>\n",
       "      <th>1</th>\n",
       "      <td>0.757198</td>\n",
       "      <td>1_100_0.01</td>\n",
       "    </tr>\n",
       "  </tbody>\n",
       "</table>\n",
       "</div>"
      ],
      "text/plain": [
       "      score       params\n",
       "3  0.766982   1_100_0.15\n",
       "2  0.764095    1_100_0.1\n",
       "0  0.757198  1_100_0.001\n",
       "1  0.757198   1_100_0.01"
      ]
     },
     "execution_count": 214,
     "metadata": {},
     "output_type": "execute_result"
    }
   ],
   "source": [
    "score_params = pd.DataFrame({'score': scores, 'params': params})\n",
    "score_params.sort_values(by=['score'], ascending=False)[:20]"
   ]
  },
  {
   "cell_type": "code",
   "execution_count": 212,
   "metadata": {},
   "outputs": [
    {
     "data": {
      "image/png": "[encoded data removed]",
      "text/plain": [
       "<Figure size 1152x432 with 1 Axes>"
      ]
     },
     "metadata": {
      "needs_background": "light"
     },
     "output_type": "display_data"
    }
   ],
   "source": [
    "plt.figure(figsize=(16, 6))\n",
    "plt.plot(score_params.score);"
   ]
  },
  {
   "cell_type": "markdown",
   "metadata": {},
   "source": [
    "### LGBM"
   ]
  },
  {
   "cell_type": "code",
   "execution_count": 221,
   "metadata": {},
   "outputs": [],
   "source": [
    "from sklearn.model_selection import cross_val_score"
   ]
  },
  {
   "cell_type": "code",
   "execution_count": null,
   "metadata": {},
   "outputs": [],
   "source": [
    "model = LGBMClassifier(metric='accuracy', random_state=42, n_jobs=-1)"
   ]
  },
  {
   "cell_type": "code",
   "execution_count": null,
   "metadata": {},
   "outputs": [],
   "source": []
  },
  {
   "cell_type": "code",
   "execution_count": 219,
   "metadata": {},
   "outputs": [],
   "source": [
    "X_lgbm = X.copy(deep=True)"
   ]
  },
  {
   "cell_type": "code",
   "execution_count": 220,
   "metadata": {},
   "outputs": [],
   "source": [
    "X_lgbm = pd.get_dummies(X_lgbm, columns=columns_cat, prefix_sep='_', drop_first=True)"
   ]
  },
  {
   "cell_type": "code",
   "execution_count": 222,
   "metadata": {},
   "outputs": [],
   "source": [
    "X_tr, X_te, y_tr, y_te = train_test_split(X_lgbm, y, test_size=0.25)"
   ]
  },
  {
   "cell_type": "code",
   "execution_count": 224,
   "metadata": {},
   "outputs": [
    {
     "data": {
      "text/plain": [
       "XGBClassifier(base_score=0.5, booster=None, colsample_bylevel=1,\n",
       "              colsample_bynode=1, colsample_bytree=1, gamma=0, gpu_id=-1,\n",
       "              importance_type='gain', interaction_constraints=None,\n",
       "              learning_rate=0.300000012, max_delta_step=0, max_depth=6,\n",
       "              min_child_weight=1, missing=nan, monotone_constraints=None,\n",
       "              n_estimators=100, n_jobs=0, num_parallel_tree=1, random_state=0,\n",
       "              reg_alpha=0, reg_lambda=1, scale_pos_weight=1, subsample=1,\n",
       "              tree_method=None, validate_parameters=False, verbosity=None)"
      ]
     },
     "execution_count": 224,
     "metadata": {},
     "output_type": "execute_result"
    }
   ],
   "source": [
    "model.fit(X_tr, y_tr, eval_set=[(X_te, y_te)], early_stopping_rounds=20 , verbose=False)"
   ]
  },
  {
   "cell_type": "code",
   "execution_count": 226,
   "metadata": {},
   "outputs": [],
   "source": [
    "y_pred = model.predict_proba(X_te)"
   ]
  },
  {
   "cell_type": "code",
   "execution_count": null,
   "metadata": {},
   "outputs": [],
   "source": []
  },
  {
   "cell_type": "markdown",
   "metadata": {},
   "source": [
    "### threshold"
   ]
  },
  {
   "cell_type": "code",
   "execution_count": 199,
   "metadata": {},
   "outputs": [],
   "source": [
    "# model_lr = LogisticRegression(penalty='l2', tol=0.5, C=0.008, n_jobs=-1, random_state=42)\n",
    "# model_lr.fit(X_train, y_train)\n",
    "# y_pred = model_lr.predict_proba(X_test)"
   ]
  },
  {
   "cell_type": "code",
   "execution_count": 227,
   "metadata": {},
   "outputs": [],
   "source": [
    "acc = []\n",
    "threshold = []\n",
    "\n",
    "for i in np.linspace(0.1, 0.9, 1000):\n",
    "    \n",
    "    acc.append(accuracy_score(y_te, y_pred[:, 1] > i))\n",
    "    threshold.append(i)"
   ]
  },
  {
   "cell_type": "code",
   "execution_count": 228,
   "metadata": {},
   "outputs": [
    {
     "data": {
      "image/png": "[encoded data removed]",
      "text/plain": [
       "<Figure size 1080x576 with 1 Axes>"
      ]
     },
     "metadata": {
      "needs_background": "light"
     },
     "output_type": "display_data"
    }
   ],
   "source": [
    "plt.figure(figsize=(15, 8))\n",
    "plt.plot(np.linspace(0.1, 0.9, 1000), acc, color='b')\n",
    "plt.show()"
   ]
  },
  {
   "cell_type": "code",
   "execution_count": 229,
   "metadata": {},
   "outputs": [
    {
     "data": {
      "text/plain": [
       "(0.7810169219664769, 523)"
      ]
     },
     "execution_count": 229,
     "metadata": {},
     "output_type": "execute_result"
    }
   ],
   "source": [
    "max(acc), np.argmax(acc)"
   ]
  },
  {
   "cell_type": "code",
   "execution_count": 231,
   "metadata": {},
   "outputs": [
    {
     "data": {
      "text/plain": [
       "0.5188188188188189"
      ]
     },
     "execution_count": 231,
     "metadata": {},
     "output_type": "execute_result"
    }
   ],
   "source": [
    "threshold[523]"
   ]
  },
  {
   "cell_type": "code",
   "execution_count": null,
   "metadata": {},
   "outputs": [],
   "source": []
  }
 ],
 "metadata": {
  "kernelspec": {
   "display_name": "Python 3",
   "language": "python",
   "name": "python3"
  },
  "language_info": {
   "codemirror_mode": {
    "name": "ipython",
    "version": 3
   },
   "file_extension": ".py",
   "mimetype": "text/x-python",
   "name": "python",
   "nbconvert_exporter": "python",
   "pygments_lexer": "ipython3",
   "version": "3.7.3"
  }
 },
 "nbformat": 4,
 "nbformat_minor": 4
}
